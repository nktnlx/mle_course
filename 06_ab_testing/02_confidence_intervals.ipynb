{
 "cells": [
  {
   "cell_type": "markdown",
   "id": "de12cd10-b9a4-4826-958d-f26ba859688a",
   "metadata": {},
   "source": [
    "# Confidence intervals"
   ]
  },
  {
   "cell_type": "markdown",
   "id": "d2cc8261-0bcd-48c9-83a6-4b8953f884eb",
   "metadata": {},
   "source": [
    "## Tasks"
   ]
  },
  {
   "cell_type": "markdown",
   "id": "187a7a5c-32ee-4df3-82f9-ad677b9e1d29",
   "metadata": {},
   "source": [
    "### Task 1"
   ]
  },
  {
   "cell_type": "markdown",
   "id": "0c32e26d-7079-4978-a6a4-945b7d5e8a26",
   "metadata": {},
   "source": [
    "We called 1000 clients and we want to check the probability that 100 or fewer users will agree to renew our subscription.  \n",
    "When called, a client renews their subscription with a probability of 0.3."
   ]
  },
  {
   "cell_type": "code",
   "execution_count": 1,
   "id": "ea1cdd59-574d-45f8-b458-34101d161741",
   "metadata": {},
   "outputs": [
    {
     "name": "stdout",
     "output_type": "stream",
     "text": [
      "The probability of 100 or fewer renewals is: 0.0000\n"
     ]
    }
   ],
   "source": [
    "from scipy.stats import binom\n",
    "\n",
    "\n",
    "n = 1000  \n",
    "p = 0.3   \n",
    "k = 100   \n",
    "\n",
    "\n",
    "probability = binom.cdf(k, n, p)\n",
    "\n",
    "print(f'The probability of 100 or fewer renewals is: {probability:.4f}')"
   ]
  },
  {
   "cell_type": "markdown",
   "id": "fbf55fb4-156e-478c-acc7-3145e7b26353",
   "metadata": {},
   "source": [
    "### Task 2"
   ]
  },
  {
   "cell_type": "markdown",
   "id": "2503f0bb-a2c1-47c8-9b19-a6c38b127857",
   "metadata": {},
   "source": [
    "What confidence interval would correspond to a 3-sigma rule?"
   ]
  },
  {
   "cell_type": "code",
   "execution_count": 2,
   "id": "673b4d2a-a344-4739-9ef9-9e510dda792d",
   "metadata": {},
   "outputs": [
    {
     "name": "stdout",
     "output_type": "stream",
     "text": [
      "The probability within 3 standard deviations is: 0.9973\n"
     ]
    }
   ],
   "source": [
    "from scipy.stats import norm\n",
    "\n",
    "\n",
    "probability = 2 * norm.cdf(3) - 1\n",
    "print(f'The probability within 3 standard deviations is: {probability:.4f}')"
   ]
  },
  {
   "cell_type": "markdown",
   "id": "7fba81cb-395b-45ef-b8af-3af3cdbd26c9",
   "metadata": {},
   "source": [
    "### Task 3"
   ]
  },
  {
   "cell_type": "markdown",
   "id": "5ab97456-4733-41f7-8ba8-825162f75b99",
   "metadata": {},
   "source": [
    "tbc.."
   ]
  },
  {
   "cell_type": "code",
   "execution_count": null,
   "id": "73c107d6-7d06-482b-8cbe-391cff62f463",
   "metadata": {},
   "outputs": [],
   "source": []
  },
  {
   "cell_type": "code",
   "execution_count": null,
   "id": "1529aef5-67a2-41e5-9ca2-3809d107d90b",
   "metadata": {},
   "outputs": [],
   "source": []
  },
  {
   "cell_type": "code",
   "execution_count": null,
   "id": "2e7cd29c-d023-487e-8486-ed32e2dff9ad",
   "metadata": {},
   "outputs": [],
   "source": []
  },
  {
   "cell_type": "code",
   "execution_count": null,
   "id": "950451e8-504a-4679-9afd-a382905777bc",
   "metadata": {},
   "outputs": [],
   "source": []
  },
  {
   "cell_type": "code",
   "execution_count": null,
   "id": "8533d6fb-2f4d-4ede-9f40-03bc8395dfa3",
   "metadata": {},
   "outputs": [],
   "source": []
  },
  {
   "cell_type": "code",
   "execution_count": null,
   "id": "3e35201f-5347-44f1-8e2a-1ffcb4564ee4",
   "metadata": {},
   "outputs": [],
   "source": []
  },
  {
   "cell_type": "code",
   "execution_count": null,
   "id": "80efa0d8-4cfa-4113-96cf-fa6fa052485c",
   "metadata": {},
   "outputs": [],
   "source": []
  },
  {
   "cell_type": "code",
   "execution_count": null,
   "id": "97903f7e-6852-404b-9c5b-479977bee2a8",
   "metadata": {},
   "outputs": [],
   "source": []
  },
  {
   "cell_type": "code",
   "execution_count": null,
   "id": "bdf93154-f9c0-4872-bbc2-6f2af2f94925",
   "metadata": {},
   "outputs": [],
   "source": []
  },
  {
   "cell_type": "code",
   "execution_count": null,
   "id": "90ff6b2a-5903-4d36-abad-aa4218691b2b",
   "metadata": {},
   "outputs": [],
   "source": []
  },
  {
   "cell_type": "code",
   "execution_count": null,
   "id": "f9409767-bea1-47ef-8163-de504670d33b",
   "metadata": {},
   "outputs": [],
   "source": []
  }
 ],
 "metadata": {
  "kernelspec": {
   "display_name": "Python 3 (ipykernel)",
   "language": "python",
   "name": "python3"
  },
  "language_info": {
   "codemirror_mode": {
    "name": "ipython",
    "version": 3
   },
   "file_extension": ".py",
   "mimetype": "text/x-python",
   "name": "python",
   "nbconvert_exporter": "python",
   "pygments_lexer": "ipython3",
   "version": "3.8.10"
  }
 },
 "nbformat": 4,
 "nbformat_minor": 5
}
