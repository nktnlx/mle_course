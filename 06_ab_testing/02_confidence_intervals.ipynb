{
 "cells": [
  {
   "cell_type": "markdown",
   "id": "de12cd10-b9a4-4826-958d-f26ba859688a",
   "metadata": {},
   "source": [
    "# Confidence intervals"
   ]
  },
  {
   "cell_type": "markdown",
   "id": "d2cc8261-0bcd-48c9-83a6-4b8953f884eb",
   "metadata": {},
   "source": [
    "## Tasks"
   ]
  },
  {
   "cell_type": "markdown",
   "id": "187a7a5c-32ee-4df3-82f9-ad677b9e1d29",
   "metadata": {},
   "source": [
    "### Task 1"
   ]
  },
  {
   "cell_type": "markdown",
   "id": "0c32e26d-7079-4978-a6a4-945b7d5e8a26",
   "metadata": {},
   "source": [
    "We called 1000 clients and we want to check the probability that 100 or fewer users will agree to renew our subscription.  \n",
    "When called, a client renews their subscription with a probability of 0.3."
   ]
  },
  {
   "cell_type": "code",
   "execution_count": 1,
   "id": "ea1cdd59-574d-45f8-b458-34101d161741",
   "metadata": {},
   "outputs": [
    {
     "name": "stdout",
     "output_type": "stream",
     "text": [
      "The probability of 100 or fewer renewals is: 0.0000\n"
     ]
    }
   ],
   "source": [
    "from scipy.stats import binom\n",
    "\n",
    "\n",
    "n = 1000  \n",
    "p = 0.3   \n",
    "k = 100   \n",
    "\n",
    "\n",
    "probability = binom.cdf(k, n, p)\n",
    "\n",
    "print(f'The probability of 100 or fewer renewals is: {probability:.4f}')"
   ]
  },
  {
   "cell_type": "markdown",
   "id": "fbf55fb4-156e-478c-acc7-3145e7b26353",
   "metadata": {},
   "source": [
    "### Task 2"
   ]
  },
  {
   "cell_type": "markdown",
   "id": "2503f0bb-a2c1-47c8-9b19-a6c38b127857",
   "metadata": {},
   "source": [
    "What confidence interval would correspond to a 3-sigma rule?"
   ]
  },
  {
   "cell_type": "code",
   "execution_count": 2,
   "id": "673b4d2a-a344-4739-9ef9-9e510dda792d",
   "metadata": {},
   "outputs": [
    {
     "name": "stdout",
     "output_type": "stream",
     "text": [
      "The probability within 3 standard deviations is: 0.9973\n"
     ]
    }
   ],
   "source": [
    "from scipy.stats import norm\n",
    "\n",
    "\n",
    "probability = 2 * norm.cdf(3) - 1\n",
    "print(f'The probability within 3 standard deviations is: {probability:.4f}')"
   ]
  },
  {
   "cell_type": "markdown",
   "id": "7fba81cb-395b-45ef-b8af-3af3cdbd26c9",
   "metadata": {},
   "source": [
    "### Task 3"
   ]
  },
  {
   "cell_type": "markdown",
   "id": "5ab97456-4733-41f7-8ba8-825162f75b99",
   "metadata": {},
   "source": [
    "We are estimating the average daily temperature in a certain city.  \n",
    "In our sample, there are 63 observations, with a mean value of 25 and a standard deviation of 7 (known in advance, not calculated from the\n",
    "sample).  \n",
    "Calculate the 95% confidence interval."
   ]
  },
  {
   "cell_type": "code",
   "execution_count": 3,
   "id": "73c107d6-7d06-482b-8cbe-391cff62f463",
   "metadata": {},
   "outputs": [
    {
     "data": {
      "text/plain": [
       "(23.27147423942126, 26.72852576057874)"
      ]
     },
     "execution_count": 3,
     "metadata": {},
     "output_type": "execute_result"
    }
   ],
   "source": [
    "mean_temperature = 25\n",
    "std = 7\n",
    "sample_size = 63\n",
    "ci = 0.95\n",
    "\n",
    "\n",
    "norm.interval(ci, loc=mean_temperature, scale=std/sample_size**.5)"
   ]
  },
  {
   "cell_type": "markdown",
   "id": "2b83c447-25a1-4226-8be8-a5bbe4182752",
   "metadata": {},
   "source": [
    "### Task 4"
   ]
  },
  {
   "cell_type": "markdown",
   "id": "cc4e37d3-1646-4aa4-b947-52b1186c8e95",
   "metadata": {},
   "source": [
    "Suppose we have 25 stores.  \n",
    "The average daily revenue is 170 thousand dollars, and the estimated standard deviation based on this sample is 12 thousand dollars.  \n",
    "Estimate the 95% confidence interval for the average revenue of the stores."
   ]
  },
  {
   "cell_type": "code",
   "execution_count": 4,
   "id": "8533d6fb-2f4d-4ede-9f40-03bc8395dfa3",
   "metadata": {},
   "outputs": [
    {
     "data": {
      "text/plain": [
       "(165296.08643710386, 174703.91356289614)"
      ]
     },
     "execution_count": 4,
     "metadata": {},
     "output_type": "execute_result"
    }
   ],
   "source": [
    "mean_revenue = 170000\n",
    "std = 12000\n",
    "stores_number = 25\n",
    "ci = 0.95\n",
    "\n",
    "\n",
    "norm.interval(ci, loc=mean_revenue, scale=std/stores_number**.5)"
   ]
  },
  {
   "cell_type": "markdown",
   "id": "cbb0e873-4738-4b35-8e59-56b764ceca3e",
   "metadata": {},
   "source": [
    "### Task 5"
   ]
  },
  {
   "cell_type": "markdown",
   "id": "4c266032-f8c5-4848-87ae-be075b7d0c31",
   "metadata": {},
   "source": [
    "Let's practice building more confidence intervals.  \n",
    "As a sample, we will use synthetic data: generate 1000 numbers from a Poisson distribution with lambda parameter 50.   \n",
    "Calculate the 95% confidence interval for the mean based on the Central Limit Theorem.   \n",
    "What is the width of the interval you obtained? "
   ]
  },
  {
   "cell_type": "code",
   "execution_count": 5,
   "id": "97903f7e-6852-404b-9c5b-479977bee2a8",
   "metadata": {},
   "outputs": [
    {
     "name": "stdout",
     "output_type": "stream",
     "text": [
      "Sample Mean: 49.80\n",
      "Sample Standard Deviation: 7.28\n",
      "Z-critical value for 95.0% confidence: 1.96\n",
      "95.0% Confidence Interval: (49.35, 50.25)\n",
      "Width of the Confidence Interval: 0.90\n"
     ]
    }
   ],
   "source": [
    "import numpy as np\n",
    "from scipy import stats\n",
    "\n",
    "\n",
    "lambda_param = 50\n",
    "n_samples = 1000\n",
    "np.random.seed(42) \n",
    "data = np.random.poisson(lam=lambda_param, size=n_samples)\n",
    "\n",
    "sample_mean = np.mean(data)\n",
    "sample_std = np.std(data, ddof=1)\n",
    "\n",
    "confidence_level = 0.95\n",
    "alpha = 1 - confidence_level\n",
    "\n",
    "z_critical = stats.norm.ppf(1 - alpha / 2)  # equals to 0.975 percentile\n",
    "standard_error = sample_std / np.sqrt(n_samples)\n",
    "margin_of_error = z_critical * standard_error\n",
    "\n",
    "lower_bound = sample_mean - margin_of_error\n",
    "upper_bound = sample_mean + margin_of_error\n",
    "interval_width = upper_bound - lower_bound\n",
    "\n",
    "\n",
    "print(f'Sample Mean: {sample_mean:.2f}')\n",
    "print(f'Sample Standard Deviation: {sample_std:.2f}')\n",
    "print(f'Z-critical value for {confidence_level*100}% confidence: {z_critical:.2f}')\n",
    "print(f'{confidence_level*100}% Confidence Interval: ({lower_bound:.2f}, {upper_bound:.2f})')\n",
    "print(f'Width of the Confidence Interval: {interval_width:.2f}')"
   ]
  },
  {
   "cell_type": "markdown",
   "id": "42003815-9ab4-445c-a2ba-b76216ad6510",
   "metadata": {},
   "source": [
    "### Task 6"
   ]
  },
  {
   "cell_type": "markdown",
   "id": "09369f4d-3e53-43f2-bc14-f98e32c1f950",
   "metadata": {},
   "source": [
    "Let's use the same dataset (synthetic from the Poisson distribution).  \n",
    "Build a 95% confidence interval for the standard deviation using bootstrap.  \n",
    "It is recommended to do it using the corresponding function from the `scipy.stats` library.  \n",
    "Attention, the bootstrap function has a method parameter that determines how the confidence interval boundaries will be calculated.  In our case, it should be `percentile`."
   ]
  },
  {
   "cell_type": "code",
   "execution_count": 6,
   "id": "f9409767-bea1-47ef-8163-de504670d33b",
   "metadata": {},
   "outputs": [
    {
     "name": "stdout",
     "output_type": "stream",
     "text": [
      "Standard Deviation 95.0% Confidence Interval: (6.96, 7.58)\n"
     ]
    }
   ],
   "source": [
    "from scipy.stats import bootstrap\n",
    "\n",
    "\n",
    "def std_deviation(x, axis=None):\n",
    "    return np.std(x, ddof=1, axis=axis)\n",
    "\n",
    "\n",
    "result = bootstrap((data,),\n",
    "                   statistic=std_deviation,\n",
    "                   confidence_level=confidence_level,\n",
    "                   n_resamples=10000,\n",
    "                   method='percentile',\n",
    "                   random_state=np.random.seed(42))\n",
    "\n",
    "\n",
    "print(f'Standard Deviation {confidence_level*100}% Confidence Interval: ({result.confidence_interval.low:.2f}, {result.confidence_interval.high:.2f})')"
   ]
  },
  {
   "cell_type": "markdown",
   "id": "7774b18f-b745-4f7b-96bf-3d5bb1ef5166",
   "metadata": {},
   "source": [
    "### Task 7"
   ]
  },
  {
   "cell_type": "markdown",
   "id": "8e4de3ed-9b24-4d48-b0e2-8a57882af6e0",
   "metadata": {},
   "source": [
    "Let's use confidence intervals to make more accurate conclusions about the model's metrics.  \n",
    "Use `California Housing` dataset to solve this task.  \n",
    "Let's estimate a 95-percent confidence interval for the MSE of Ridge regression for this sample. Use bootstrap for it.  "
   ]
  },
  {
   "cell_type": "code",
   "execution_count": 7,
   "id": "6fa7ce0e-c286-49c9-82d5-d65931dc5080",
   "metadata": {},
   "outputs": [
    {
     "name": "stderr",
     "output_type": "stream",
     "text": [
      "100%|██████████| 1000/1000 [00:37<00:00, 26.67it/s]"
     ]
    },
    {
     "name": "stdout",
     "output_type": "stream",
     "text": [
      "95% Confidence Interval for MSE: [0.5060, 1.1433]\n",
      "Mean MSE: 0.6561\n"
     ]
    },
    {
     "name": "stderr",
     "output_type": "stream",
     "text": [
      "\n"
     ]
    }
   ],
   "source": [
    "from sklearn.datasets import fetch_california_housing\n",
    "from sklearn.linear_model import Ridge\n",
    "from sklearn.metrics import mean_squared_error\n",
    "from tqdm import tqdm\n",
    "\n",
    "\n",
    "# loading data\n",
    "X, y = fetch_california_housing(return_X_y=True, as_frame=True)\n",
    "\n",
    "# converting to numpy arrays for easier indexing\n",
    "X_np = X.values\n",
    "y_np = y.values\n",
    "\n",
    "n_samples = len(X_np)\n",
    "n_bootstrap = 1000\n",
    "mse_scores = []\n",
    "\n",
    "\n",
    "for i in tqdm(range(n_bootstrap)):\n",
    "    # picking indices for train (with replacement)\n",
    "    bootstrap_indices = np.random.choice(n_samples, n_samples, replace=True)\n",
    "    \n",
    "    # getting remaining indices for test\n",
    "    oob_indices = np.setdiff1d(np.arange(n_samples), np.unique(bootstrap_indices))\n",
    "    \n",
    "    # if there are no train samples, continue to next iteration\n",
    "    if len(oob_indices) == 0:\n",
    "        continue\n",
    "    \n",
    "    # spliting data \n",
    "    X_train = X_np[bootstrap_indices]\n",
    "    y_train = y_np[bootstrap_indices]\n",
    "    X_test = X_np[oob_indices]\n",
    "    y_test = y_np[oob_indices]\n",
    "    \n",
    "    # training the Ridge regression model\n",
    "    model = Ridge()\n",
    "    model.fit(X_train, y_train)\n",
    "    \n",
    "    # making predictions and calculating MSE\n",
    "    y_pred = model.predict(X_test)\n",
    "    mse = mean_squared_error(y_test, y_pred)\n",
    "    mse_scores.append(mse)\n",
    "\n",
    "\n",
    "# calculating 95% confidence interval\n",
    "lower_bound = np.percentile(mse_scores, 2.5)\n",
    "upper_bound = np.percentile(mse_scores, 97.5)\n",
    "\n",
    "print(f'95% Confidence Interval for MSE: [{lower_bound:.4f}, {upper_bound:.4f}]')\n",
    "print(f'Mean MSE: {np.mean(mse_scores):.4f}')"
   ]
  },
  {
   "cell_type": "markdown",
   "id": "8225dec0-53f2-4ee5-b186-36f4994cb836",
   "metadata": {},
   "source": [
    "### Task 8"
   ]
  },
  {
   "cell_type": "markdown",
   "id": "83728d19-07f1-4791-b820-4114cc32ea98",
   "metadata": {},
   "source": [
    "Let's evaluate how well confidence intervals technique performs.  \n",
    "Code a function that generates a random sample from a normal distribution:\n",
    "- mean value of 3, \n",
    "- a standard deviation of 4,\n",
    "- the sample size will be 1000 objects.  \n",
    "\n",
    "Build the corresponding 95-percent confidence interval for the mean based on the Central Limit Theorem.  \n",
    "Repeat the procedure of generating a sample and constructing the confidence interval 1000 times.  \n",
    "Each time, check if the confidence interval actually covers your true mean value.  \n",
    "\n",
    "Calculate the proportion of cases where the interval covered the true value. What value is your result closest to?"
   ]
  },
  {
   "cell_type": "code",
   "execution_count": 8,
   "id": "c524529a-9fb4-4520-a8d8-2b1d3140cfc9",
   "metadata": {},
   "outputs": [],
   "source": [
    "def generate_sample(mean, std, sample_size):\n",
    "    return np.random.normal(loc=mean, scale=std, size=sample_size)"
   ]
  },
  {
   "cell_type": "code",
   "execution_count": 9,
   "id": "24dde123-f3ed-407e-b0bb-5345e721660a",
   "metadata": {},
   "outputs": [],
   "source": [
    "def calc_ci(sample, ci=0.95):\n",
    "    sample_mean = np.mean(sample)\n",
    "    sample_std = np.std(sample, ddof=1)\n",
    "    \n",
    "    se = sample_std / np.sqrt(sample_size)\n",
    "    t_critical = stats.t.ppf(1- ((1-ci)/2), df=sample_size-1)\n",
    "    \n",
    "    lower_bound = sample_mean - t_critical * se\n",
    "    upper_bound = sample_mean + t_critical * se\n",
    "    \n",
    "    return lower_bound, upper_bound"
   ]
  },
  {
   "cell_type": "code",
   "execution_count": 10,
   "id": "5227728d-f167-44d4-bd0d-b3a5739be575",
   "metadata": {},
   "outputs": [
    {
     "name": "stderr",
     "output_type": "stream",
     "text": [
      "100%|██████████| 1000/1000 [00:00<00:00, 2886.75it/s]"
     ]
    },
    {
     "name": "stdout",
     "output_type": "stream",
     "text": [
      "Out of 1000 iterations, 948 confidence intervals covered the true mean.\n",
      "Proportion of coverage: 94.80%\n"
     ]
    },
    {
     "name": "stderr",
     "output_type": "stream",
     "text": [
      "\n"
     ]
    }
   ],
   "source": [
    "mean = 3\n",
    "std = 4\n",
    "sample_size = 1000\n",
    "n_iterations = 1000\n",
    "\n",
    "cnt = 0\n",
    "for _ in tqdm(range(n_iterations)):\n",
    "    sample = generate_sample(mean, std, sample_size)\n",
    "    lower, upper = calc_ci(sample, ci=0.95)\n",
    "    \n",
    "    if lower <= mean <= upper:\n",
    "        cnt += 1\n",
    "\n",
    "\n",
    "coverage_proportion = cnt / n_iterations\n",
    "\n",
    "print(f'Out of {n_iterations} iterations, {cnt} confidence intervals covered the true mean.')\n",
    "print(f'Proportion of coverage: {coverage_proportion*100:.2f}%')"
   ]
  },
  {
   "cell_type": "code",
   "execution_count": null,
   "id": "bc12c2eb-7817-4c74-93e8-837882fbc16e",
   "metadata": {},
   "outputs": [],
   "source": []
  }
 ],
 "metadata": {
  "kernelspec": {
   "display_name": "Python 3 (ipykernel)",
   "language": "python",
   "name": "python3"
  },
  "language_info": {
   "codemirror_mode": {
    "name": "ipython",
    "version": 3
   },
   "file_extension": ".py",
   "mimetype": "text/x-python",
   "name": "python",
   "nbconvert_exporter": "python",
   "pygments_lexer": "ipython3",
   "version": "3.8.10"
  }
 },
 "nbformat": 4,
 "nbformat_minor": 5
}
