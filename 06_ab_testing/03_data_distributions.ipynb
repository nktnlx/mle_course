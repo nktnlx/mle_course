{
 "cells": [
  {
   "cell_type": "markdown",
   "id": "de12cd10-b9a4-4826-958d-f26ba859688a",
   "metadata": {},
   "source": [
    "# Data Distributions"
   ]
  },
  {
   "cell_type": "markdown",
   "id": "d2cc8261-0bcd-48c9-83a6-4b8953f884eb",
   "metadata": {},
   "source": [
    "## Tasks"
   ]
  },
  {
   "cell_type": "markdown",
   "id": "187a7a5c-32ee-4df3-82f9-ad677b9e1d29",
   "metadata": {},
   "source": [
    "### Task 1"
   ]
  },
  {
   "cell_type": "markdown",
   "id": "0c32e26d-7079-4978-a6a4-945b7d5e8a26",
   "metadata": {},
   "source": [
    "Use `California Housing` dataset to solve this task.  \n",
    "Build a histogram of the `MedInc` parameter.  \n",
    "Find mean and median values. "
   ]
  },
  {
   "cell_type": "code",
   "execution_count": 1,
   "id": "d7cc438b-85da-40f0-a47f-5db495e77551",
   "metadata": {},
   "outputs": [],
   "source": [
    "import numpy as np\n",
    "from sklearn.datasets import fetch_california_housing\n",
    "\n",
    "\n",
    "data = fetch_california_housing(as_frame=True, return_X_y=True)\n",
    "df, target = data[0], data[1] "
   ]
  },
  {
   "cell_type": "code",
   "execution_count": 2,
   "id": "cacc0b51-d83a-4f5d-bc29-e491452d6027",
   "metadata": {},
   "outputs": [
    {
     "data": {
      "text/html": [
       "<div>\n",
       "<style scoped>\n",
       "    .dataframe tbody tr th:only-of-type {\n",
       "        vertical-align: middle;\n",
       "    }\n",
       "\n",
       "    .dataframe tbody tr th {\n",
       "        vertical-align: top;\n",
       "    }\n",
       "\n",
       "    .dataframe thead th {\n",
       "        text-align: right;\n",
       "    }\n",
       "</style>\n",
       "<table border=\"1\" class=\"dataframe\">\n",
       "  <thead>\n",
       "    <tr style=\"text-align: right;\">\n",
       "      <th></th>\n",
       "      <th>MedInc</th>\n",
       "      <th>HouseAge</th>\n",
       "      <th>AveRooms</th>\n",
       "      <th>AveBedrms</th>\n",
       "      <th>Population</th>\n",
       "      <th>AveOccup</th>\n",
       "      <th>Latitude</th>\n",
       "      <th>Longitude</th>\n",
       "    </tr>\n",
       "  </thead>\n",
       "  <tbody>\n",
       "    <tr>\n",
       "      <th>0</th>\n",
       "      <td>8.3252</td>\n",
       "      <td>41.0</td>\n",
       "      <td>6.984127</td>\n",
       "      <td>1.023810</td>\n",
       "      <td>322.0</td>\n",
       "      <td>2.555556</td>\n",
       "      <td>37.88</td>\n",
       "      <td>-122.23</td>\n",
       "    </tr>\n",
       "    <tr>\n",
       "      <th>1</th>\n",
       "      <td>8.3014</td>\n",
       "      <td>21.0</td>\n",
       "      <td>6.238137</td>\n",
       "      <td>0.971880</td>\n",
       "      <td>2401.0</td>\n",
       "      <td>2.109842</td>\n",
       "      <td>37.86</td>\n",
       "      <td>-122.22</td>\n",
       "    </tr>\n",
       "    <tr>\n",
       "      <th>2</th>\n",
       "      <td>7.2574</td>\n",
       "      <td>52.0</td>\n",
       "      <td>8.288136</td>\n",
       "      <td>1.073446</td>\n",
       "      <td>496.0</td>\n",
       "      <td>2.802260</td>\n",
       "      <td>37.85</td>\n",
       "      <td>-122.24</td>\n",
       "    </tr>\n",
       "    <tr>\n",
       "      <th>3</th>\n",
       "      <td>5.6431</td>\n",
       "      <td>52.0</td>\n",
       "      <td>5.817352</td>\n",
       "      <td>1.073059</td>\n",
       "      <td>558.0</td>\n",
       "      <td>2.547945</td>\n",
       "      <td>37.85</td>\n",
       "      <td>-122.25</td>\n",
       "    </tr>\n",
       "    <tr>\n",
       "      <th>4</th>\n",
       "      <td>3.8462</td>\n",
       "      <td>52.0</td>\n",
       "      <td>6.281853</td>\n",
       "      <td>1.081081</td>\n",
       "      <td>565.0</td>\n",
       "      <td>2.181467</td>\n",
       "      <td>37.85</td>\n",
       "      <td>-122.25</td>\n",
       "    </tr>\n",
       "    <tr>\n",
       "      <th>...</th>\n",
       "      <td>...</td>\n",
       "      <td>...</td>\n",
       "      <td>...</td>\n",
       "      <td>...</td>\n",
       "      <td>...</td>\n",
       "      <td>...</td>\n",
       "      <td>...</td>\n",
       "      <td>...</td>\n",
       "    </tr>\n",
       "    <tr>\n",
       "      <th>20635</th>\n",
       "      <td>1.5603</td>\n",
       "      <td>25.0</td>\n",
       "      <td>5.045455</td>\n",
       "      <td>1.133333</td>\n",
       "      <td>845.0</td>\n",
       "      <td>2.560606</td>\n",
       "      <td>39.48</td>\n",
       "      <td>-121.09</td>\n",
       "    </tr>\n",
       "    <tr>\n",
       "      <th>20636</th>\n",
       "      <td>2.5568</td>\n",
       "      <td>18.0</td>\n",
       "      <td>6.114035</td>\n",
       "      <td>1.315789</td>\n",
       "      <td>356.0</td>\n",
       "      <td>3.122807</td>\n",
       "      <td>39.49</td>\n",
       "      <td>-121.21</td>\n",
       "    </tr>\n",
       "    <tr>\n",
       "      <th>20637</th>\n",
       "      <td>1.7000</td>\n",
       "      <td>17.0</td>\n",
       "      <td>5.205543</td>\n",
       "      <td>1.120092</td>\n",
       "      <td>1007.0</td>\n",
       "      <td>2.325635</td>\n",
       "      <td>39.43</td>\n",
       "      <td>-121.22</td>\n",
       "    </tr>\n",
       "    <tr>\n",
       "      <th>20638</th>\n",
       "      <td>1.8672</td>\n",
       "      <td>18.0</td>\n",
       "      <td>5.329513</td>\n",
       "      <td>1.171920</td>\n",
       "      <td>741.0</td>\n",
       "      <td>2.123209</td>\n",
       "      <td>39.43</td>\n",
       "      <td>-121.32</td>\n",
       "    </tr>\n",
       "    <tr>\n",
       "      <th>20639</th>\n",
       "      <td>2.3886</td>\n",
       "      <td>16.0</td>\n",
       "      <td>5.254717</td>\n",
       "      <td>1.162264</td>\n",
       "      <td>1387.0</td>\n",
       "      <td>2.616981</td>\n",
       "      <td>39.37</td>\n",
       "      <td>-121.24</td>\n",
       "    </tr>\n",
       "  </tbody>\n",
       "</table>\n",
       "<p>20640 rows × 8 columns</p>\n",
       "</div>"
      ],
      "text/plain": [
       "       MedInc  HouseAge  AveRooms  AveBedrms  Population  AveOccup  Latitude  \\\n",
       "0      8.3252      41.0  6.984127   1.023810       322.0  2.555556     37.88   \n",
       "1      8.3014      21.0  6.238137   0.971880      2401.0  2.109842     37.86   \n",
       "2      7.2574      52.0  8.288136   1.073446       496.0  2.802260     37.85   \n",
       "3      5.6431      52.0  5.817352   1.073059       558.0  2.547945     37.85   \n",
       "4      3.8462      52.0  6.281853   1.081081       565.0  2.181467     37.85   \n",
       "...       ...       ...       ...        ...         ...       ...       ...   \n",
       "20635  1.5603      25.0  5.045455   1.133333       845.0  2.560606     39.48   \n",
       "20636  2.5568      18.0  6.114035   1.315789       356.0  3.122807     39.49   \n",
       "20637  1.7000      17.0  5.205543   1.120092      1007.0  2.325635     39.43   \n",
       "20638  1.8672      18.0  5.329513   1.171920       741.0  2.123209     39.43   \n",
       "20639  2.3886      16.0  5.254717   1.162264      1387.0  2.616981     39.37   \n",
       "\n",
       "       Longitude  \n",
       "0        -122.23  \n",
       "1        -122.22  \n",
       "2        -122.24  \n",
       "3        -122.25  \n",
       "4        -122.25  \n",
       "...          ...  \n",
       "20635    -121.09  \n",
       "20636    -121.21  \n",
       "20637    -121.22  \n",
       "20638    -121.32  \n",
       "20639    -121.24  \n",
       "\n",
       "[20640 rows x 8 columns]"
      ]
     },
     "execution_count": 2,
     "metadata": {},
     "output_type": "execute_result"
    }
   ],
   "source": [
    "df"
   ]
  },
  {
   "cell_type": "code",
   "execution_count": 3,
   "id": "1417379c-ad29-4c24-8933-983d6e9f4444",
   "metadata": {},
   "outputs": [
    {
     "data": {
      "image/png": "[encoded data removed]",
      "text/plain": [
       "<Figure size 432x288 with 1 Axes>"
      ]
     },
     "metadata": {
      "needs_background": "light"
     },
     "output_type": "display_data"
    }
   ],
   "source": [
    "df.MedInc.plot(kind='hist');"
   ]
  },
  {
   "cell_type": "code",
   "execution_count": 4,
   "id": "6fc247a6-d1ad-45e5-9414-2631c79df93a",
   "metadata": {},
   "outputs": [
    {
     "data": {
      "text/plain": [
       "3.8706710029069766"
      ]
     },
     "execution_count": 4,
     "metadata": {},
     "output_type": "execute_result"
    }
   ],
   "source": [
    "np.mean(df.MedInc)"
   ]
  },
  {
   "cell_type": "code",
   "execution_count": 5,
   "id": "3537032b-b584-4aa9-88a0-455a1168cf0a",
   "metadata": {},
   "outputs": [
    {
     "data": {
      "text/plain": [
       "3.5347999999999997"
      ]
     },
     "execution_count": 5,
     "metadata": {},
     "output_type": "execute_result"
    }
   ],
   "source": [
    "np.median(df.MedInc)"
   ]
  },
  {
   "cell_type": "code",
   "execution_count": 6,
   "id": "9af76228-df98-4d31-b140-03823840e9bd",
   "metadata": {},
   "outputs": [
    {
     "data": {
      "text/plain": [
       "0.3358710029069769"
      ]
     },
     "execution_count": 6,
     "metadata": {},
     "output_type": "execute_result"
    }
   ],
   "source": [
    "np.abs(np.median(df.MedInc) - np.mean(df.MedInc))"
   ]
  },
  {
   "cell_type": "markdown",
   "id": "fbf55fb4-156e-478c-acc7-3145e7b26353",
   "metadata": {},
   "source": [
    "### Task 2"
   ]
  },
  {
   "cell_type": "markdown",
   "id": "2503f0bb-a2c1-47c8-9b19-a6c38b127857",
   "metadata": {},
   "source": [
    "Build a histogram of the `HouseAge` parameter.   \n",
    "Find mean and median values. "
   ]
  },
  {
   "cell_type": "code",
   "execution_count": 7,
   "id": "0d5011a8-f87d-4fa3-a67c-d5228e86ce45",
   "metadata": {},
   "outputs": [
    {
     "data": {
      "image/png": "[encoded data removed]",
      "text/plain": [
       "<Figure size 432x288 with 1 Axes>"
      ]
     },
     "metadata": {
      "needs_background": "light"
     },
     "output_type": "display_data"
    }
   ],
   "source": [
    "df.HouseAge.plot(kind='hist');"
   ]
  },
  {
   "cell_type": "code",
   "execution_count": 8,
   "id": "81b39b92-d142-4c24-99ef-add63c2e292c",
   "metadata": {},
   "outputs": [
    {
     "data": {
      "text/plain": [
       "28.639486434108527"
      ]
     },
     "execution_count": 8,
     "metadata": {},
     "output_type": "execute_result"
    }
   ],
   "source": [
    "np.mean(df.HouseAge)"
   ]
  },
  {
   "cell_type": "code",
   "execution_count": 9,
   "id": "ac361a9f-0b76-44cd-8706-e2d53f70fd64",
   "metadata": {},
   "outputs": [
    {
     "data": {
      "text/plain": [
       "29.0"
      ]
     },
     "execution_count": 9,
     "metadata": {},
     "output_type": "execute_result"
    }
   ],
   "source": [
    "np.median(df.HouseAge)"
   ]
  },
  {
   "cell_type": "code",
   "execution_count": 10,
   "id": "1b81e07c-3ee5-4357-bc9f-53d699c1add3",
   "metadata": {},
   "outputs": [
    {
     "data": {
      "text/plain": [
       "0.3605135658914733"
      ]
     },
     "execution_count": 10,
     "metadata": {},
     "output_type": "execute_result"
    }
   ],
   "source": [
    "np.abs(np.median(df.HouseAge) - np.mean(df.HouseAge))"
   ]
  },
  {
   "cell_type": "markdown",
   "id": "7fba81cb-395b-45ef-b8af-3af3cdbd26c9",
   "metadata": {},
   "source": [
    "### Task 3"
   ]
  },
  {
   "cell_type": "markdown",
   "id": "5ab97456-4733-41f7-8ba8-825162f75b99",
   "metadata": {},
   "source": [
    "Calculate interquantile range for `target` parameter in the dataset. "
   ]
  },
  {
   "cell_type": "code",
   "execution_count": 11,
   "id": "25acf30d-8af5-4449-a352-3709d6dd5aa9",
   "metadata": {},
   "outputs": [],
   "source": [
    "q25 = np.quantile(target, q=.25)\n",
    "q75 = np.quantile(target, q=.75)"
   ]
  },
  {
   "cell_type": "code",
   "execution_count": 12,
   "id": "ccf78340-4d13-4250-b04a-1178c5efb01a",
   "metadata": {},
   "outputs": [],
   "source": [
    "iqr = q75 - q25"
   ]
  },
  {
   "cell_type": "code",
   "execution_count": 13,
   "id": "6119d1f8-24e4-46a4-8346-069f18315575",
   "metadata": {},
   "outputs": [
    {
     "name": "stdout",
     "output_type": "stream",
     "text": [
      "1.4512499999999997\n"
     ]
    }
   ],
   "source": [
    "print(iqr)"
   ]
  },
  {
   "cell_type": "markdown",
   "id": "2b83c447-25a1-4226-8be8-a5bbe4182752",
   "metadata": {},
   "source": [
    "### Task 4"
   ]
  },
  {
   "cell_type": "markdown",
   "id": "cc4e37d3-1646-4aa4-b947-52b1186c8e95",
   "metadata": {},
   "source": [
    "Use pandas `.describe()` method to get main statistics of all parameters in the dataset. "
   ]
  },
  {
   "cell_type": "code",
   "execution_count": 14,
   "id": "ee1e9ce5-0e06-48e4-98aa-51382c492bba",
   "metadata": {},
   "outputs": [
    {
     "data": {
      "text/html": [
       "<div>\n",
       "<style scoped>\n",
       "    .dataframe tbody tr th:only-of-type {\n",
       "        vertical-align: middle;\n",
       "    }\n",
       "\n",
       "    .dataframe tbody tr th {\n",
       "        vertical-align: top;\n",
       "    }\n",
       "\n",
       "    .dataframe thead th {\n",
       "        text-align: right;\n",
       "    }\n",
       "</style>\n",
       "<table border=\"1\" class=\"dataframe\">\n",
       "  <thead>\n",
       "    <tr style=\"text-align: right;\">\n",
       "      <th></th>\n",
       "      <th>MedInc</th>\n",
       "      <th>HouseAge</th>\n",
       "      <th>AveRooms</th>\n",
       "      <th>AveBedrms</th>\n",
       "      <th>Population</th>\n",
       "      <th>AveOccup</th>\n",
       "      <th>Latitude</th>\n",
       "      <th>Longitude</th>\n",
       "    </tr>\n",
       "  </thead>\n",
       "  <tbody>\n",
       "    <tr>\n",
       "      <th>count</th>\n",
       "      <td>20640.000000</td>\n",
       "      <td>20640.000000</td>\n",
       "      <td>20640.000000</td>\n",
       "      <td>20640.000000</td>\n",
       "      <td>20640.000000</td>\n",
       "      <td>20640.000000</td>\n",
       "      <td>20640.000000</td>\n",
       "      <td>20640.000000</td>\n",
       "    </tr>\n",
       "    <tr>\n",
       "      <th>mean</th>\n",
       "      <td>3.870671</td>\n",
       "      <td>28.639486</td>\n",
       "      <td>5.429000</td>\n",
       "      <td>1.096675</td>\n",
       "      <td>1425.476744</td>\n",
       "      <td>3.070655</td>\n",
       "      <td>35.631861</td>\n",
       "      <td>-119.569704</td>\n",
       "    </tr>\n",
       "    <tr>\n",
       "      <th>std</th>\n",
       "      <td>1.899822</td>\n",
       "      <td>12.585558</td>\n",
       "      <td>2.474173</td>\n",
       "      <td>0.473911</td>\n",
       "      <td>1132.462122</td>\n",
       "      <td>10.386050</td>\n",
       "      <td>2.135952</td>\n",
       "      <td>2.003532</td>\n",
       "    </tr>\n",
       "    <tr>\n",
       "      <th>min</th>\n",
       "      <td>0.499900</td>\n",
       "      <td>1.000000</td>\n",
       "      <td>0.846154</td>\n",
       "      <td>0.333333</td>\n",
       "      <td>3.000000</td>\n",
       "      <td>0.692308</td>\n",
       "      <td>32.540000</td>\n",
       "      <td>-124.350000</td>\n",
       "    </tr>\n",
       "    <tr>\n",
       "      <th>25%</th>\n",
       "      <td>2.563400</td>\n",
       "      <td>18.000000</td>\n",
       "      <td>4.440716</td>\n",
       "      <td>1.006079</td>\n",
       "      <td>787.000000</td>\n",
       "      <td>2.429741</td>\n",
       "      <td>33.930000</td>\n",
       "      <td>-121.800000</td>\n",
       "    </tr>\n",
       "    <tr>\n",
       "      <th>50%</th>\n",
       "      <td>3.534800</td>\n",
       "      <td>29.000000</td>\n",
       "      <td>5.229129</td>\n",
       "      <td>1.048780</td>\n",
       "      <td>1166.000000</td>\n",
       "      <td>2.818116</td>\n",
       "      <td>34.260000</td>\n",
       "      <td>-118.490000</td>\n",
       "    </tr>\n",
       "    <tr>\n",
       "      <th>75%</th>\n",
       "      <td>4.743250</td>\n",
       "      <td>37.000000</td>\n",
       "      <td>6.052381</td>\n",
       "      <td>1.099526</td>\n",
       "      <td>1725.000000</td>\n",
       "      <td>3.282261</td>\n",
       "      <td>37.710000</td>\n",
       "      <td>-118.010000</td>\n",
       "    </tr>\n",
       "    <tr>\n",
       "      <th>max</th>\n",
       "      <td>15.000100</td>\n",
       "      <td>52.000000</td>\n",
       "      <td>141.909091</td>\n",
       "      <td>34.066667</td>\n",
       "      <td>35682.000000</td>\n",
       "      <td>1243.333333</td>\n",
       "      <td>41.950000</td>\n",
       "      <td>-114.310000</td>\n",
       "    </tr>\n",
       "  </tbody>\n",
       "</table>\n",
       "</div>"
      ],
      "text/plain": [
       "             MedInc      HouseAge      AveRooms     AveBedrms    Population  \\\n",
       "count  20640.000000  20640.000000  20640.000000  20640.000000  20640.000000   \n",
       "mean       3.870671     28.639486      5.429000      1.096675   1425.476744   \n",
       "std        1.899822     12.585558      2.474173      0.473911   1132.462122   \n",
       "min        0.499900      1.000000      0.846154      0.333333      3.000000   \n",
       "25%        2.563400     18.000000      4.440716      1.006079    787.000000   \n",
       "50%        3.534800     29.000000      5.229129      1.048780   1166.000000   \n",
       "75%        4.743250     37.000000      6.052381      1.099526   1725.000000   \n",
       "max       15.000100     52.000000    141.909091     34.066667  35682.000000   \n",
       "\n",
       "           AveOccup      Latitude     Longitude  \n",
       "count  20640.000000  20640.000000  20640.000000  \n",
       "mean       3.070655     35.631861   -119.569704  \n",
       "std       10.386050      2.135952      2.003532  \n",
       "min        0.692308     32.540000   -124.350000  \n",
       "25%        2.429741     33.930000   -121.800000  \n",
       "50%        2.818116     34.260000   -118.490000  \n",
       "75%        3.282261     37.710000   -118.010000  \n",
       "max     1243.333333     41.950000   -114.310000  "
      ]
     },
     "execution_count": 14,
     "metadata": {},
     "output_type": "execute_result"
    }
   ],
   "source": [
    "df.describe()"
   ]
  },
  {
   "cell_type": "markdown",
   "id": "cbb0e873-4738-4b35-8e59-56b764ceca3e",
   "metadata": {},
   "source": [
    "### Task 5"
   ]
  },
  {
   "cell_type": "markdown",
   "id": "4c266032-f8c5-4848-87ae-be075b7d0c31",
   "metadata": {},
   "source": [
    "Calculate the `Pearson` correlation between the target variable and each of the features."
   ]
  },
  {
   "cell_type": "code",
   "execution_count": 15,
   "id": "0dde3936-ca90-4e2f-b651-ab8109095439",
   "metadata": {},
   "outputs": [],
   "source": [
    "df['target'] = target"
   ]
  },
  {
   "cell_type": "code",
   "execution_count": 16,
   "id": "4e9d0632-ba6f-4eae-af87-325746c6966f",
   "metadata": {},
   "outputs": [
    {
     "data": {
      "text/html": [
       "<div>\n",
       "<style scoped>\n",
       "    .dataframe tbody tr th:only-of-type {\n",
       "        vertical-align: middle;\n",
       "    }\n",
       "\n",
       "    .dataframe tbody tr th {\n",
       "        vertical-align: top;\n",
       "    }\n",
       "\n",
       "    .dataframe thead th {\n",
       "        text-align: right;\n",
       "    }\n",
       "</style>\n",
       "<table border=\"1\" class=\"dataframe\">\n",
       "  <thead>\n",
       "    <tr style=\"text-align: right;\">\n",
       "      <th></th>\n",
       "      <th>MedInc</th>\n",
       "      <th>HouseAge</th>\n",
       "      <th>AveRooms</th>\n",
       "      <th>AveBedrms</th>\n",
       "      <th>Population</th>\n",
       "      <th>AveOccup</th>\n",
       "      <th>Latitude</th>\n",
       "      <th>Longitude</th>\n",
       "      <th>target</th>\n",
       "    </tr>\n",
       "  </thead>\n",
       "  <tbody>\n",
       "    <tr>\n",
       "      <th>MedInc</th>\n",
       "      <td>1.000000</td>\n",
       "      <td>-0.119034</td>\n",
       "      <td>0.326895</td>\n",
       "      <td>-0.062040</td>\n",
       "      <td>0.004834</td>\n",
       "      <td>0.018766</td>\n",
       "      <td>-0.079809</td>\n",
       "      <td>-0.015176</td>\n",
       "      <td>0.688075</td>\n",
       "    </tr>\n",
       "    <tr>\n",
       "      <th>HouseAge</th>\n",
       "      <td>-0.119034</td>\n",
       "      <td>1.000000</td>\n",
       "      <td>-0.153277</td>\n",
       "      <td>-0.077747</td>\n",
       "      <td>-0.296244</td>\n",
       "      <td>0.013191</td>\n",
       "      <td>0.011173</td>\n",
       "      <td>-0.108197</td>\n",
       "      <td>0.105623</td>\n",
       "    </tr>\n",
       "    <tr>\n",
       "      <th>AveRooms</th>\n",
       "      <td>0.326895</td>\n",
       "      <td>-0.153277</td>\n",
       "      <td>1.000000</td>\n",
       "      <td>0.847621</td>\n",
       "      <td>-0.072213</td>\n",
       "      <td>-0.004852</td>\n",
       "      <td>0.106389</td>\n",
       "      <td>-0.027540</td>\n",
       "      <td>0.151948</td>\n",
       "    </tr>\n",
       "    <tr>\n",
       "      <th>AveBedrms</th>\n",
       "      <td>-0.062040</td>\n",
       "      <td>-0.077747</td>\n",
       "      <td>0.847621</td>\n",
       "      <td>1.000000</td>\n",
       "      <td>-0.066197</td>\n",
       "      <td>-0.006181</td>\n",
       "      <td>0.069721</td>\n",
       "      <td>0.013344</td>\n",
       "      <td>-0.046701</td>\n",
       "    </tr>\n",
       "    <tr>\n",
       "      <th>Population</th>\n",
       "      <td>0.004834</td>\n",
       "      <td>-0.296244</td>\n",
       "      <td>-0.072213</td>\n",
       "      <td>-0.066197</td>\n",
       "      <td>1.000000</td>\n",
       "      <td>0.069863</td>\n",
       "      <td>-0.108785</td>\n",
       "      <td>0.099773</td>\n",
       "      <td>-0.024650</td>\n",
       "    </tr>\n",
       "    <tr>\n",
       "      <th>AveOccup</th>\n",
       "      <td>0.018766</td>\n",
       "      <td>0.013191</td>\n",
       "      <td>-0.004852</td>\n",
       "      <td>-0.006181</td>\n",
       "      <td>0.069863</td>\n",
       "      <td>1.000000</td>\n",
       "      <td>0.002366</td>\n",
       "      <td>0.002476</td>\n",
       "      <td>-0.023737</td>\n",
       "    </tr>\n",
       "    <tr>\n",
       "      <th>Latitude</th>\n",
       "      <td>-0.079809</td>\n",
       "      <td>0.011173</td>\n",
       "      <td>0.106389</td>\n",
       "      <td>0.069721</td>\n",
       "      <td>-0.108785</td>\n",
       "      <td>0.002366</td>\n",
       "      <td>1.000000</td>\n",
       "      <td>-0.924664</td>\n",
       "      <td>-0.144160</td>\n",
       "    </tr>\n",
       "    <tr>\n",
       "      <th>Longitude</th>\n",
       "      <td>-0.015176</td>\n",
       "      <td>-0.108197</td>\n",
       "      <td>-0.027540</td>\n",
       "      <td>0.013344</td>\n",
       "      <td>0.099773</td>\n",
       "      <td>0.002476</td>\n",
       "      <td>-0.924664</td>\n",
       "      <td>1.000000</td>\n",
       "      <td>-0.045967</td>\n",
       "    </tr>\n",
       "    <tr>\n",
       "      <th>target</th>\n",
       "      <td>0.688075</td>\n",
       "      <td>0.105623</td>\n",
       "      <td>0.151948</td>\n",
       "      <td>-0.046701</td>\n",
       "      <td>-0.024650</td>\n",
       "      <td>-0.023737</td>\n",
       "      <td>-0.144160</td>\n",
       "      <td>-0.045967</td>\n",
       "      <td>1.000000</td>\n",
       "    </tr>\n",
       "  </tbody>\n",
       "</table>\n",
       "</div>"
      ],
      "text/plain": [
       "              MedInc  HouseAge  AveRooms  AveBedrms  Population  AveOccup  \\\n",
       "MedInc      1.000000 -0.119034  0.326895  -0.062040    0.004834  0.018766   \n",
       "HouseAge   -0.119034  1.000000 -0.153277  -0.077747   -0.296244  0.013191   \n",
       "AveRooms    0.326895 -0.153277  1.000000   0.847621   -0.072213 -0.004852   \n",
       "AveBedrms  -0.062040 -0.077747  0.847621   1.000000   -0.066197 -0.006181   \n",
       "Population  0.004834 -0.296244 -0.072213  -0.066197    1.000000  0.069863   \n",
       "AveOccup    0.018766  0.013191 -0.004852  -0.006181    0.069863  1.000000   \n",
       "Latitude   -0.079809  0.011173  0.106389   0.069721   -0.108785  0.002366   \n",
       "Longitude  -0.015176 -0.108197 -0.027540   0.013344    0.099773  0.002476   \n",
       "target      0.688075  0.105623  0.151948  -0.046701   -0.024650 -0.023737   \n",
       "\n",
       "            Latitude  Longitude    target  \n",
       "MedInc     -0.079809  -0.015176  0.688075  \n",
       "HouseAge    0.011173  -0.108197  0.105623  \n",
       "AveRooms    0.106389  -0.027540  0.151948  \n",
       "AveBedrms   0.069721   0.013344 -0.046701  \n",
       "Population -0.108785   0.099773 -0.024650  \n",
       "AveOccup    0.002366   0.002476 -0.023737  \n",
       "Latitude    1.000000  -0.924664 -0.144160  \n",
       "Longitude  -0.924664   1.000000 -0.045967  \n",
       "target     -0.144160  -0.045967  1.000000  "
      ]
     },
     "execution_count": 16,
     "metadata": {},
     "output_type": "execute_result"
    }
   ],
   "source": [
    "df.corr()"
   ]
  },
  {
   "cell_type": "markdown",
   "id": "42003815-9ab4-445c-a2ba-b76216ad6510",
   "metadata": {},
   "source": [
    "### Task 6"
   ]
  },
  {
   "cell_type": "markdown",
   "id": "09369f4d-3e53-43f2-bc14-f98e32c1f950",
   "metadata": {},
   "source": [
    "Calculate the `Spearman` correlation between the target variable and each of the features."
   ]
  },
  {
   "cell_type": "code",
   "execution_count": 17,
   "id": "3f995ab6-a43a-4653-be08-bc9412b3c0ab",
   "metadata": {},
   "outputs": [
    {
     "data": {
      "text/html": [
       "<div>\n",
       "<style scoped>\n",
       "    .dataframe tbody tr th:only-of-type {\n",
       "        vertical-align: middle;\n",
       "    }\n",
       "\n",
       "    .dataframe tbody tr th {\n",
       "        vertical-align: top;\n",
       "    }\n",
       "\n",
       "    .dataframe thead th {\n",
       "        text-align: right;\n",
       "    }\n",
       "</style>\n",
       "<table border=\"1\" class=\"dataframe\">\n",
       "  <thead>\n",
       "    <tr style=\"text-align: right;\">\n",
       "      <th></th>\n",
       "      <th>MedInc</th>\n",
       "      <th>HouseAge</th>\n",
       "      <th>AveRooms</th>\n",
       "      <th>AveBedrms</th>\n",
       "      <th>Population</th>\n",
       "      <th>AveOccup</th>\n",
       "      <th>Latitude</th>\n",
       "      <th>Longitude</th>\n",
       "      <th>target</th>\n",
       "    </tr>\n",
       "  </thead>\n",
       "  <tbody>\n",
       "    <tr>\n",
       "      <th>MedInc</th>\n",
       "      <td>1.000000</td>\n",
       "      <td>-0.147308</td>\n",
       "      <td>0.643671</td>\n",
       "      <td>-0.252426</td>\n",
       "      <td>0.006268</td>\n",
       "      <td>-0.044171</td>\n",
       "      <td>-0.088029</td>\n",
       "      <td>-0.009928</td>\n",
       "      <td>0.676778</td>\n",
       "    </tr>\n",
       "    <tr>\n",
       "      <th>HouseAge</th>\n",
       "      <td>-0.147308</td>\n",
       "      <td>1.000000</td>\n",
       "      <td>-0.231409</td>\n",
       "      <td>-0.120981</td>\n",
       "      <td>-0.283879</td>\n",
       "      <td>-0.024833</td>\n",
       "      <td>0.032440</td>\n",
       "      <td>-0.150752</td>\n",
       "      <td>0.074855</td>\n",
       "    </tr>\n",
       "    <tr>\n",
       "      <th>AveRooms</th>\n",
       "      <td>0.643671</td>\n",
       "      <td>-0.231409</td>\n",
       "      <td>1.000000</td>\n",
       "      <td>0.082046</td>\n",
       "      <td>-0.105385</td>\n",
       "      <td>0.018807</td>\n",
       "      <td>0.127134</td>\n",
       "      <td>-0.044783</td>\n",
       "      <td>0.263367</td>\n",
       "    </tr>\n",
       "    <tr>\n",
       "      <th>AveBedrms</th>\n",
       "      <td>-0.252426</td>\n",
       "      <td>-0.120981</td>\n",
       "      <td>0.082046</td>\n",
       "      <td>1.000000</td>\n",
       "      <td>0.027027</td>\n",
       "      <td>-0.132315</td>\n",
       "      <td>0.047197</td>\n",
       "      <td>0.010884</td>\n",
       "      <td>-0.125187</td>\n",
       "    </tr>\n",
       "    <tr>\n",
       "      <th>Population</th>\n",
       "      <td>0.006268</td>\n",
       "      <td>-0.283879</td>\n",
       "      <td>-0.105385</td>\n",
       "      <td>0.027027</td>\n",
       "      <td>1.000000</td>\n",
       "      <td>0.242337</td>\n",
       "      <td>-0.123626</td>\n",
       "      <td>0.123527</td>\n",
       "      <td>0.003839</td>\n",
       "    </tr>\n",
       "    <tr>\n",
       "      <th>AveOccup</th>\n",
       "      <td>-0.044171</td>\n",
       "      <td>-0.024833</td>\n",
       "      <td>0.018807</td>\n",
       "      <td>-0.132315</td>\n",
       "      <td>0.242337</td>\n",
       "      <td>1.000000</td>\n",
       "      <td>-0.150954</td>\n",
       "      <td>0.181468</td>\n",
       "      <td>-0.256594</td>\n",
       "    </tr>\n",
       "    <tr>\n",
       "      <th>Latitude</th>\n",
       "      <td>-0.088029</td>\n",
       "      <td>0.032440</td>\n",
       "      <td>0.127134</td>\n",
       "      <td>0.047197</td>\n",
       "      <td>-0.123626</td>\n",
       "      <td>-0.150954</td>\n",
       "      <td>1.000000</td>\n",
       "      <td>-0.879203</td>\n",
       "      <td>-0.165739</td>\n",
       "    </tr>\n",
       "    <tr>\n",
       "      <th>Longitude</th>\n",
       "      <td>-0.009928</td>\n",
       "      <td>-0.150752</td>\n",
       "      <td>-0.044783</td>\n",
       "      <td>0.010884</td>\n",
       "      <td>0.123527</td>\n",
       "      <td>0.181468</td>\n",
       "      <td>-0.879203</td>\n",
       "      <td>1.000000</td>\n",
       "      <td>-0.069667</td>\n",
       "    </tr>\n",
       "    <tr>\n",
       "      <th>target</th>\n",
       "      <td>0.676778</td>\n",
       "      <td>0.074855</td>\n",
       "      <td>0.263367</td>\n",
       "      <td>-0.125187</td>\n",
       "      <td>0.003839</td>\n",
       "      <td>-0.256594</td>\n",
       "      <td>-0.165739</td>\n",
       "      <td>-0.069667</td>\n",
       "      <td>1.000000</td>\n",
       "    </tr>\n",
       "  </tbody>\n",
       "</table>\n",
       "</div>"
      ],
      "text/plain": [
       "              MedInc  HouseAge  AveRooms  AveBedrms  Population  AveOccup  \\\n",
       "MedInc      1.000000 -0.147308  0.643671  -0.252426    0.006268 -0.044171   \n",
       "HouseAge   -0.147308  1.000000 -0.231409  -0.120981   -0.283879 -0.024833   \n",
       "AveRooms    0.643671 -0.231409  1.000000   0.082046   -0.105385  0.018807   \n",
       "AveBedrms  -0.252426 -0.120981  0.082046   1.000000    0.027027 -0.132315   \n",
       "Population  0.006268 -0.283879 -0.105385   0.027027    1.000000  0.242337   \n",
       "AveOccup   -0.044171 -0.024833  0.018807  -0.132315    0.242337  1.000000   \n",
       "Latitude   -0.088029  0.032440  0.127134   0.047197   -0.123626 -0.150954   \n",
       "Longitude  -0.009928 -0.150752 -0.044783   0.010884    0.123527  0.181468   \n",
       "target      0.676778  0.074855  0.263367  -0.125187    0.003839 -0.256594   \n",
       "\n",
       "            Latitude  Longitude    target  \n",
       "MedInc     -0.088029  -0.009928  0.676778  \n",
       "HouseAge    0.032440  -0.150752  0.074855  \n",
       "AveRooms    0.127134  -0.044783  0.263367  \n",
       "AveBedrms   0.047197   0.010884 -0.125187  \n",
       "Population -0.123626   0.123527  0.003839  \n",
       "AveOccup   -0.150954   0.181468 -0.256594  \n",
       "Latitude    1.000000  -0.879203 -0.165739  \n",
       "Longitude  -0.879203   1.000000 -0.069667  \n",
       "target     -0.165739  -0.069667  1.000000  "
      ]
     },
     "execution_count": 17,
     "metadata": {},
     "output_type": "execute_result"
    }
   ],
   "source": [
    "df.corr(method='spearman')"
   ]
  },
  {
   "cell_type": "markdown",
   "id": "7774b18f-b745-4f7b-96bf-3d5bb1ef5166",
   "metadata": {},
   "source": [
    "### Task 7"
   ]
  },
  {
   "cell_type": "markdown",
   "id": "8e4de3ed-9b24-4d48-b0e2-8a57882af6e0",
   "metadata": {},
   "source": [
    "Calculate the `Kendall` correlation between the target variable and each of the features."
   ]
  },
  {
   "cell_type": "code",
   "execution_count": 18,
   "id": "0d0b3379-9fef-4b31-b667-fa7c14782a8f",
   "metadata": {},
   "outputs": [
    {
     "data": {
      "text/html": [
       "<div>\n",
       "<style scoped>\n",
       "    .dataframe tbody tr th:only-of-type {\n",
       "        vertical-align: middle;\n",
       "    }\n",
       "\n",
       "    .dataframe tbody tr th {\n",
       "        vertical-align: top;\n",
       "    }\n",
       "\n",
       "    .dataframe thead th {\n",
       "        text-align: right;\n",
       "    }\n",
       "</style>\n",
       "<table border=\"1\" class=\"dataframe\">\n",
       "  <thead>\n",
       "    <tr style=\"text-align: right;\">\n",
       "      <th></th>\n",
       "      <th>MedInc</th>\n",
       "      <th>HouseAge</th>\n",
       "      <th>AveRooms</th>\n",
       "      <th>AveBedrms</th>\n",
       "      <th>Population</th>\n",
       "      <th>AveOccup</th>\n",
       "      <th>Latitude</th>\n",
       "      <th>Longitude</th>\n",
       "      <th>target</th>\n",
       "    </tr>\n",
       "  </thead>\n",
       "  <tbody>\n",
       "    <tr>\n",
       "      <th>MedInc</th>\n",
       "      <td>1.000000</td>\n",
       "      <td>-0.099609</td>\n",
       "      <td>0.470873</td>\n",
       "      <td>-0.170677</td>\n",
       "      <td>0.003885</td>\n",
       "      <td>-0.025733</td>\n",
       "      <td>-0.059947</td>\n",
       "      <td>-0.006248</td>\n",
       "      <td>0.495528</td>\n",
       "    </tr>\n",
       "    <tr>\n",
       "      <th>HouseAge</th>\n",
       "      <td>-0.099609</td>\n",
       "      <td>1.000000</td>\n",
       "      <td>-0.157219</td>\n",
       "      <td>-0.082004</td>\n",
       "      <td>-0.197112</td>\n",
       "      <td>-0.016475</td>\n",
       "      <td>0.026044</td>\n",
       "      <td>-0.104427</td>\n",
       "      <td>0.049822</td>\n",
       "    </tr>\n",
       "    <tr>\n",
       "      <th>AveRooms</th>\n",
       "      <td>0.470873</td>\n",
       "      <td>-0.157219</td>\n",
       "      <td>1.000000</td>\n",
       "      <td>0.055218</td>\n",
       "      <td>-0.072516</td>\n",
       "      <td>0.018495</td>\n",
       "      <td>0.084683</td>\n",
       "      <td>-0.029806</td>\n",
       "      <td>0.179175</td>\n",
       "    </tr>\n",
       "    <tr>\n",
       "      <th>AveBedrms</th>\n",
       "      <td>-0.170677</td>\n",
       "      <td>-0.082004</td>\n",
       "      <td>0.055218</td>\n",
       "      <td>1.000000</td>\n",
       "      <td>0.020396</td>\n",
       "      <td>-0.088062</td>\n",
       "      <td>0.031485</td>\n",
       "      <td>0.006993</td>\n",
       "      <td>-0.083489</td>\n",
       "    </tr>\n",
       "    <tr>\n",
       "      <th>Population</th>\n",
       "      <td>0.003885</td>\n",
       "      <td>-0.197112</td>\n",
       "      <td>-0.072516</td>\n",
       "      <td>0.020396</td>\n",
       "      <td>1.000000</td>\n",
       "      <td>0.164131</td>\n",
       "      <td>-0.082507</td>\n",
       "      <td>0.082974</td>\n",
       "      <td>0.002172</td>\n",
       "    </tr>\n",
       "    <tr>\n",
       "      <th>AveOccup</th>\n",
       "      <td>-0.025733</td>\n",
       "      <td>-0.016475</td>\n",
       "      <td>0.018495</td>\n",
       "      <td>-0.088062</td>\n",
       "      <td>0.164131</td>\n",
       "      <td>1.000000</td>\n",
       "      <td>-0.102363</td>\n",
       "      <td>0.121651</td>\n",
       "      <td>-0.174370</td>\n",
       "    </tr>\n",
       "    <tr>\n",
       "      <th>Latitude</th>\n",
       "      <td>-0.059947</td>\n",
       "      <td>0.026044</td>\n",
       "      <td>0.084683</td>\n",
       "      <td>0.031485</td>\n",
       "      <td>-0.082507</td>\n",
       "      <td>-0.102363</td>\n",
       "      <td>1.000000</td>\n",
       "      <td>-0.692317</td>\n",
       "      <td>-0.109411</td>\n",
       "    </tr>\n",
       "    <tr>\n",
       "      <th>Longitude</th>\n",
       "      <td>-0.006248</td>\n",
       "      <td>-0.104427</td>\n",
       "      <td>-0.029806</td>\n",
       "      <td>0.006993</td>\n",
       "      <td>0.082974</td>\n",
       "      <td>0.121651</td>\n",
       "      <td>-0.692317</td>\n",
       "      <td>1.000000</td>\n",
       "      <td>-0.052495</td>\n",
       "    </tr>\n",
       "    <tr>\n",
       "      <th>target</th>\n",
       "      <td>0.495528</td>\n",
       "      <td>0.049822</td>\n",
       "      <td>0.179175</td>\n",
       "      <td>-0.083489</td>\n",
       "      <td>0.002172</td>\n",
       "      <td>-0.174370</td>\n",
       "      <td>-0.109411</td>\n",
       "      <td>-0.052495</td>\n",
       "      <td>1.000000</td>\n",
       "    </tr>\n",
       "  </tbody>\n",
       "</table>\n",
       "</div>"
      ],
      "text/plain": [
       "              MedInc  HouseAge  AveRooms  AveBedrms  Population  AveOccup  \\\n",
       "MedInc      1.000000 -0.099609  0.470873  -0.170677    0.003885 -0.025733   \n",
       "HouseAge   -0.099609  1.000000 -0.157219  -0.082004   -0.197112 -0.016475   \n",
       "AveRooms    0.470873 -0.157219  1.000000   0.055218   -0.072516  0.018495   \n",
       "AveBedrms  -0.170677 -0.082004  0.055218   1.000000    0.020396 -0.088062   \n",
       "Population  0.003885 -0.197112 -0.072516   0.020396    1.000000  0.164131   \n",
       "AveOccup   -0.025733 -0.016475  0.018495  -0.088062    0.164131  1.000000   \n",
       "Latitude   -0.059947  0.026044  0.084683   0.031485   -0.082507 -0.102363   \n",
       "Longitude  -0.006248 -0.104427 -0.029806   0.006993    0.082974  0.121651   \n",
       "target      0.495528  0.049822  0.179175  -0.083489    0.002172 -0.174370   \n",
       "\n",
       "            Latitude  Longitude    target  \n",
       "MedInc     -0.059947  -0.006248  0.495528  \n",
       "HouseAge    0.026044  -0.104427  0.049822  \n",
       "AveRooms    0.084683  -0.029806  0.179175  \n",
       "AveBedrms   0.031485   0.006993 -0.083489  \n",
       "Population -0.082507   0.082974  0.002172  \n",
       "AveOccup   -0.102363   0.121651 -0.174370  \n",
       "Latitude    1.000000  -0.692317 -0.109411  \n",
       "Longitude  -0.692317   1.000000 -0.052495  \n",
       "target     -0.109411  -0.052495  1.000000  "
      ]
     },
     "execution_count": 18,
     "metadata": {},
     "output_type": "execute_result"
    }
   ],
   "source": [
    "df.corr(method='kendall')"
   ]
  },
  {
   "cell_type": "markdown",
   "id": "8225dec0-53f2-4ee5-b186-36f4994cb836",
   "metadata": {},
   "source": [
    "### Task 8"
   ]
  },
  {
   "cell_type": "markdown",
   "id": "83728d19-07f1-4791-b820-4114cc32ea98",
   "metadata": {},
   "source": [
    "Build a histogram of the `AveRooms` parameter.   \n",
    "Find mean and median values. "
   ]
  },
  {
   "cell_type": "code",
   "execution_count": 19,
   "id": "4f511dc4-da92-461e-baf5-b98cceaa3d73",
   "metadata": {},
   "outputs": [
    {
     "data": {
      "image/png": "[encoded data removed]",
      "text/plain": [
       "<Figure size 432x288 with 1 Axes>"
      ]
     },
     "metadata": {
      "needs_background": "light"
     },
     "output_type": "display_data"
    }
   ],
   "source": [
    "df.AveRooms.plot(kind='hist');"
   ]
  },
  {
   "cell_type": "code",
   "execution_count": 20,
   "id": "b61fb8ab-8202-4637-aa78-939fc1a6cdbc",
   "metadata": {},
   "outputs": [
    {
     "data": {
      "text/plain": [
       "5.428999742190376"
      ]
     },
     "execution_count": 20,
     "metadata": {},
     "output_type": "execute_result"
    }
   ],
   "source": [
    "np.mean(df.AveRooms)"
   ]
  },
  {
   "cell_type": "code",
   "execution_count": 21,
   "id": "1ff833dc-fa1f-4ed3-b26a-56fe5fadf09a",
   "metadata": {},
   "outputs": [
    {
     "data": {
      "text/plain": [
       "5.229128787878788"
      ]
     },
     "execution_count": 21,
     "metadata": {},
     "output_type": "execute_result"
    }
   ],
   "source": [
    "np.median(df.AveRooms)"
   ]
  },
  {
   "cell_type": "code",
   "execution_count": 22,
   "id": "706ae0cd-31eb-454e-81d9-600f3105e386",
   "metadata": {},
   "outputs": [
    {
     "data": {
      "text/plain": [
       "count    20640.000000\n",
       "mean         5.429000\n",
       "std          2.474173\n",
       "min          0.846154\n",
       "25%          4.440716\n",
       "50%          5.229129\n",
       "75%          6.052381\n",
       "max        141.909091\n",
       "Name: AveRooms, dtype: float64"
      ]
     },
     "execution_count": 22,
     "metadata": {},
     "output_type": "execute_result"
    }
   ],
   "source": [
    "df.AveRooms.describe()"
   ]
  },
  {
   "cell_type": "markdown",
   "id": "3c101e39-2a98-4edf-aa86-be0c7f189507",
   "metadata": {},
   "source": [
    "### Task 9"
   ]
  },
  {
   "cell_type": "markdown",
   "id": "b2fdb8ba-deb6-4bae-858e-4c0d02ce889d",
   "metadata": {},
   "source": [
    "Delete outliers (`AveRooms` parameter) and calculate correlation coefficients again. "
   ]
  },
  {
   "cell_type": "code",
   "execution_count": 23,
   "id": "c6f48355-d144-4346-844d-0a9aa6a9354e",
   "metadata": {},
   "outputs": [],
   "source": [
    "q_2_5 = np.percentile(df.AveRooms, q=0.025)\n",
    "q_97_5 = np.percentile(df.AveRooms, q=0.975)"
   ]
  },
  {
   "cell_type": "code",
   "execution_count": 24,
   "id": "03185fe2-1ff4-4154-a1c2-0fc4f30e078d",
   "metadata": {},
   "outputs": [
    {
     "data": {
      "text/html": [
       "<div>\n",
       "<style scoped>\n",
       "    .dataframe tbody tr th:only-of-type {\n",
       "        vertical-align: middle;\n",
       "    }\n",
       "\n",
       "    .dataframe tbody tr th {\n",
       "        vertical-align: top;\n",
       "    }\n",
       "\n",
       "    .dataframe thead th {\n",
       "        text-align: right;\n",
       "    }\n",
       "</style>\n",
       "<table border=\"1\" class=\"dataframe\">\n",
       "  <thead>\n",
       "    <tr style=\"text-align: right;\">\n",
       "      <th></th>\n",
       "      <th>MedInc</th>\n",
       "      <th>HouseAge</th>\n",
       "      <th>AveRooms</th>\n",
       "      <th>AveBedrms</th>\n",
       "      <th>Population</th>\n",
       "      <th>AveOccup</th>\n",
       "      <th>Latitude</th>\n",
       "      <th>Longitude</th>\n",
       "      <th>target</th>\n",
       "    </tr>\n",
       "  </thead>\n",
       "  <tbody>\n",
       "    <tr>\n",
       "      <th>MedInc</th>\n",
       "      <td>1.000000</td>\n",
       "      <td>-0.106101</td>\n",
       "      <td>0.049348</td>\n",
       "      <td>-0.171463</td>\n",
       "      <td>-0.104352</td>\n",
       "      <td>0.118737</td>\n",
       "      <td>0.023112</td>\n",
       "      <td>-0.052932</td>\n",
       "      <td>-0.031309</td>\n",
       "    </tr>\n",
       "    <tr>\n",
       "      <th>HouseAge</th>\n",
       "      <td>-0.106101</td>\n",
       "      <td>1.000000</td>\n",
       "      <td>-0.137443</td>\n",
       "      <td>0.009031</td>\n",
       "      <td>-0.031642</td>\n",
       "      <td>-0.018854</td>\n",
       "      <td>0.069720</td>\n",
       "      <td>-0.076143</td>\n",
       "      <td>-0.002510</td>\n",
       "    </tr>\n",
       "    <tr>\n",
       "      <th>AveRooms</th>\n",
       "      <td>0.049348</td>\n",
       "      <td>-0.137443</td>\n",
       "      <td>1.000000</td>\n",
       "      <td>-0.021578</td>\n",
       "      <td>0.054067</td>\n",
       "      <td>0.060987</td>\n",
       "      <td>0.019189</td>\n",
       "      <td>-0.054556</td>\n",
       "      <td>0.026915</td>\n",
       "    </tr>\n",
       "    <tr>\n",
       "      <th>AveBedrms</th>\n",
       "      <td>-0.171463</td>\n",
       "      <td>0.009031</td>\n",
       "      <td>-0.021578</td>\n",
       "      <td>1.000000</td>\n",
       "      <td>0.156527</td>\n",
       "      <td>-0.007600</td>\n",
       "      <td>-0.092174</td>\n",
       "      <td>0.088821</td>\n",
       "      <td>0.271112</td>\n",
       "    </tr>\n",
       "    <tr>\n",
       "      <th>Population</th>\n",
       "      <td>-0.104352</td>\n",
       "      <td>-0.031642</td>\n",
       "      <td>0.054067</td>\n",
       "      <td>0.156527</td>\n",
       "      <td>1.000000</td>\n",
       "      <td>0.030216</td>\n",
       "      <td>-0.198863</td>\n",
       "      <td>0.173083</td>\n",
       "      <td>0.119322</td>\n",
       "    </tr>\n",
       "    <tr>\n",
       "      <th>AveOccup</th>\n",
       "      <td>0.118737</td>\n",
       "      <td>-0.018854</td>\n",
       "      <td>0.060987</td>\n",
       "      <td>-0.007600</td>\n",
       "      <td>0.030216</td>\n",
       "      <td>1.000000</td>\n",
       "      <td>0.028452</td>\n",
       "      <td>-0.029794</td>\n",
       "      <td>-0.130610</td>\n",
       "    </tr>\n",
       "    <tr>\n",
       "      <th>Latitude</th>\n",
       "      <td>0.023112</td>\n",
       "      <td>0.069720</td>\n",
       "      <td>0.019189</td>\n",
       "      <td>-0.092174</td>\n",
       "      <td>-0.198863</td>\n",
       "      <td>0.028452</td>\n",
       "      <td>1.000000</td>\n",
       "      <td>-0.971920</td>\n",
       "      <td>0.062637</td>\n",
       "    </tr>\n",
       "    <tr>\n",
       "      <th>Longitude</th>\n",
       "      <td>-0.052932</td>\n",
       "      <td>-0.076143</td>\n",
       "      <td>-0.054556</td>\n",
       "      <td>0.088821</td>\n",
       "      <td>0.173083</td>\n",
       "      <td>-0.029794</td>\n",
       "      <td>-0.971920</td>\n",
       "      <td>1.000000</td>\n",
       "      <td>-0.133857</td>\n",
       "    </tr>\n",
       "    <tr>\n",
       "      <th>target</th>\n",
       "      <td>-0.031309</td>\n",
       "      <td>-0.002510</td>\n",
       "      <td>0.026915</td>\n",
       "      <td>0.271112</td>\n",
       "      <td>0.119322</td>\n",
       "      <td>-0.130610</td>\n",
       "      <td>0.062637</td>\n",
       "      <td>-0.133857</td>\n",
       "      <td>1.000000</td>\n",
       "    </tr>\n",
       "  </tbody>\n",
       "</table>\n",
       "</div>"
      ],
      "text/plain": [
       "              MedInc  HouseAge  AveRooms  AveBedrms  Population  AveOccup  \\\n",
       "MedInc      1.000000 -0.106101  0.049348  -0.171463   -0.104352  0.118737   \n",
       "HouseAge   -0.106101  1.000000 -0.137443   0.009031   -0.031642 -0.018854   \n",
       "AveRooms    0.049348 -0.137443  1.000000  -0.021578    0.054067  0.060987   \n",
       "AveBedrms  -0.171463  0.009031 -0.021578   1.000000    0.156527 -0.007600   \n",
       "Population -0.104352 -0.031642  0.054067   0.156527    1.000000  0.030216   \n",
       "AveOccup    0.118737 -0.018854  0.060987  -0.007600    0.030216  1.000000   \n",
       "Latitude    0.023112  0.069720  0.019189  -0.092174   -0.198863  0.028452   \n",
       "Longitude  -0.052932 -0.076143 -0.054556   0.088821    0.173083 -0.029794   \n",
       "target     -0.031309 -0.002510  0.026915   0.271112    0.119322 -0.130610   \n",
       "\n",
       "            Latitude  Longitude    target  \n",
       "MedInc      0.023112  -0.052932 -0.031309  \n",
       "HouseAge    0.069720  -0.076143 -0.002510  \n",
       "AveRooms    0.019189  -0.054556  0.026915  \n",
       "AveBedrms  -0.092174   0.088821  0.271112  \n",
       "Population -0.198863   0.173083  0.119322  \n",
       "AveOccup    0.028452  -0.029794 -0.130610  \n",
       "Latitude    1.000000  -0.971920  0.062637  \n",
       "Longitude  -0.971920   1.000000 -0.133857  \n",
       "target      0.062637  -0.133857  1.000000  "
      ]
     },
     "execution_count": 24,
     "metadata": {},
     "output_type": "execute_result"
    }
   ],
   "source": [
    "df[(df['AveRooms'] > q_2_5) & (df['AveRooms'] < q_97_5)].corr()"
   ]
  },
  {
   "cell_type": "code",
   "execution_count": 25,
   "id": "f21b0856-db05-464f-afdf-c4eec5a952fc",
   "metadata": {},
   "outputs": [
    {
     "data": {
      "text/html": [
       "<div>\n",
       "<style scoped>\n",
       "    .dataframe tbody tr th:only-of-type {\n",
       "        vertical-align: middle;\n",
       "    }\n",
       "\n",
       "    .dataframe tbody tr th {\n",
       "        vertical-align: top;\n",
       "    }\n",
       "\n",
       "    .dataframe thead th {\n",
       "        text-align: right;\n",
       "    }\n",
       "</style>\n",
       "<table border=\"1\" class=\"dataframe\">\n",
       "  <thead>\n",
       "    <tr style=\"text-align: right;\">\n",
       "      <th></th>\n",
       "      <th>MedInc</th>\n",
       "      <th>HouseAge</th>\n",
       "      <th>AveRooms</th>\n",
       "      <th>AveBedrms</th>\n",
       "      <th>Population</th>\n",
       "      <th>AveOccup</th>\n",
       "      <th>Latitude</th>\n",
       "      <th>Longitude</th>\n",
       "      <th>target</th>\n",
       "    </tr>\n",
       "  </thead>\n",
       "  <tbody>\n",
       "    <tr>\n",
       "      <th>MedInc</th>\n",
       "      <td>1.000000</td>\n",
       "      <td>-0.069700</td>\n",
       "      <td>0.059380</td>\n",
       "      <td>-0.189101</td>\n",
       "      <td>-0.052943</td>\n",
       "      <td>0.127838</td>\n",
       "      <td>-0.041212</td>\n",
       "      <td>-0.044470</td>\n",
       "      <td>-0.026196</td>\n",
       "    </tr>\n",
       "    <tr>\n",
       "      <th>HouseAge</th>\n",
       "      <td>-0.069700</td>\n",
       "      <td>1.000000</td>\n",
       "      <td>-0.155190</td>\n",
       "      <td>0.024751</td>\n",
       "      <td>-0.058570</td>\n",
       "      <td>0.112197</td>\n",
       "      <td>0.066928</td>\n",
       "      <td>-0.048955</td>\n",
       "      <td>-0.042976</td>\n",
       "    </tr>\n",
       "    <tr>\n",
       "      <th>AveRooms</th>\n",
       "      <td>0.059380</td>\n",
       "      <td>-0.155190</td>\n",
       "      <td>1.000000</td>\n",
       "      <td>-0.047979</td>\n",
       "      <td>0.075844</td>\n",
       "      <td>0.041023</td>\n",
       "      <td>0.020898</td>\n",
       "      <td>-0.002568</td>\n",
       "      <td>-0.004709</td>\n",
       "    </tr>\n",
       "    <tr>\n",
       "      <th>AveBedrms</th>\n",
       "      <td>-0.189101</td>\n",
       "      <td>0.024751</td>\n",
       "      <td>-0.047979</td>\n",
       "      <td>1.000000</td>\n",
       "      <td>0.309626</td>\n",
       "      <td>-0.185276</td>\n",
       "      <td>-0.026237</td>\n",
       "      <td>0.018895</td>\n",
       "      <td>0.264888</td>\n",
       "    </tr>\n",
       "    <tr>\n",
       "      <th>Population</th>\n",
       "      <td>-0.052943</td>\n",
       "      <td>-0.058570</td>\n",
       "      <td>0.075844</td>\n",
       "      <td>0.309626</td>\n",
       "      <td>1.000000</td>\n",
       "      <td>0.225841</td>\n",
       "      <td>-0.029841</td>\n",
       "      <td>-0.029633</td>\n",
       "      <td>0.228674</td>\n",
       "    </tr>\n",
       "    <tr>\n",
       "      <th>AveOccup</th>\n",
       "      <td>0.127838</td>\n",
       "      <td>0.112197</td>\n",
       "      <td>0.041023</td>\n",
       "      <td>-0.185276</td>\n",
       "      <td>0.225841</td>\n",
       "      <td>1.000000</td>\n",
       "      <td>-0.204444</td>\n",
       "      <td>0.259600</td>\n",
       "      <td>-0.269409</td>\n",
       "    </tr>\n",
       "    <tr>\n",
       "      <th>Latitude</th>\n",
       "      <td>-0.041212</td>\n",
       "      <td>0.066928</td>\n",
       "      <td>0.020898</td>\n",
       "      <td>-0.026237</td>\n",
       "      <td>-0.029841</td>\n",
       "      <td>-0.204444</td>\n",
       "      <td>1.000000</td>\n",
       "      <td>-0.836443</td>\n",
       "      <td>0.154432</td>\n",
       "    </tr>\n",
       "    <tr>\n",
       "      <th>Longitude</th>\n",
       "      <td>-0.044470</td>\n",
       "      <td>-0.048955</td>\n",
       "      <td>-0.002568</td>\n",
       "      <td>0.018895</td>\n",
       "      <td>-0.029633</td>\n",
       "      <td>0.259600</td>\n",
       "      <td>-0.836443</td>\n",
       "      <td>1.000000</td>\n",
       "      <td>-0.230826</td>\n",
       "    </tr>\n",
       "    <tr>\n",
       "      <th>target</th>\n",
       "      <td>-0.026196</td>\n",
       "      <td>-0.042976</td>\n",
       "      <td>-0.004709</td>\n",
       "      <td>0.264888</td>\n",
       "      <td>0.228674</td>\n",
       "      <td>-0.269409</td>\n",
       "      <td>0.154432</td>\n",
       "      <td>-0.230826</td>\n",
       "      <td>1.000000</td>\n",
       "    </tr>\n",
       "  </tbody>\n",
       "</table>\n",
       "</div>"
      ],
      "text/plain": [
       "              MedInc  HouseAge  AveRooms  AveBedrms  Population  AveOccup  \\\n",
       "MedInc      1.000000 -0.069700  0.059380  -0.189101   -0.052943  0.127838   \n",
       "HouseAge   -0.069700  1.000000 -0.155190   0.024751   -0.058570  0.112197   \n",
       "AveRooms    0.059380 -0.155190  1.000000  -0.047979    0.075844  0.041023   \n",
       "AveBedrms  -0.189101  0.024751 -0.047979   1.000000    0.309626 -0.185276   \n",
       "Population -0.052943 -0.058570  0.075844   0.309626    1.000000  0.225841   \n",
       "AveOccup    0.127838  0.112197  0.041023  -0.185276    0.225841  1.000000   \n",
       "Latitude   -0.041212  0.066928  0.020898  -0.026237   -0.029841 -0.204444   \n",
       "Longitude  -0.044470 -0.048955 -0.002568   0.018895   -0.029633  0.259600   \n",
       "target     -0.026196 -0.042976 -0.004709   0.264888    0.228674 -0.269409   \n",
       "\n",
       "            Latitude  Longitude    target  \n",
       "MedInc     -0.041212  -0.044470 -0.026196  \n",
       "HouseAge    0.066928  -0.048955 -0.042976  \n",
       "AveRooms    0.020898  -0.002568 -0.004709  \n",
       "AveBedrms  -0.026237   0.018895  0.264888  \n",
       "Population -0.029841  -0.029633  0.228674  \n",
       "AveOccup   -0.204444   0.259600 -0.269409  \n",
       "Latitude    1.000000  -0.836443  0.154432  \n",
       "Longitude  -0.836443   1.000000 -0.230826  \n",
       "target      0.154432  -0.230826  1.000000  "
      ]
     },
     "execution_count": 25,
     "metadata": {},
     "output_type": "execute_result"
    }
   ],
   "source": [
    "df[(df['AveRooms'] > q_2_5) & (df['AveRooms'] < q_97_5)].corr(method='spearman')"
   ]
  },
  {
   "cell_type": "code",
   "execution_count": 26,
   "id": "da466f80-413e-48d7-94e6-9a68fa9f5e5d",
   "metadata": {},
   "outputs": [
    {
     "data": {
      "text/html": [
       "<div>\n",
       "<style scoped>\n",
       "    .dataframe tbody tr th:only-of-type {\n",
       "        vertical-align: middle;\n",
       "    }\n",
       "\n",
       "    .dataframe tbody tr th {\n",
       "        vertical-align: top;\n",
       "    }\n",
       "\n",
       "    .dataframe thead th {\n",
       "        text-align: right;\n",
       "    }\n",
       "</style>\n",
       "<table border=\"1\" class=\"dataframe\">\n",
       "  <thead>\n",
       "    <tr style=\"text-align: right;\">\n",
       "      <th></th>\n",
       "      <th>MedInc</th>\n",
       "      <th>HouseAge</th>\n",
       "      <th>AveRooms</th>\n",
       "      <th>AveBedrms</th>\n",
       "      <th>Population</th>\n",
       "      <th>AveOccup</th>\n",
       "      <th>Latitude</th>\n",
       "      <th>Longitude</th>\n",
       "      <th>target</th>\n",
       "    </tr>\n",
       "  </thead>\n",
       "  <tbody>\n",
       "    <tr>\n",
       "      <th>MedInc</th>\n",
       "      <td>1.000000</td>\n",
       "      <td>-0.050885</td>\n",
       "      <td>0.041141</td>\n",
       "      <td>-0.134401</td>\n",
       "      <td>-0.030673</td>\n",
       "      <td>0.092586</td>\n",
       "      <td>-0.023360</td>\n",
       "      <td>-0.037563</td>\n",
       "      <td>-0.019365</td>\n",
       "    </tr>\n",
       "    <tr>\n",
       "      <th>HouseAge</th>\n",
       "      <td>-0.050885</td>\n",
       "      <td>1.000000</td>\n",
       "      <td>-0.106361</td>\n",
       "      <td>0.020369</td>\n",
       "      <td>-0.039498</td>\n",
       "      <td>0.077012</td>\n",
       "      <td>0.049078</td>\n",
       "      <td>-0.031773</td>\n",
       "      <td>-0.028850</td>\n",
       "    </tr>\n",
       "    <tr>\n",
       "      <th>AveRooms</th>\n",
       "      <td>0.041141</td>\n",
       "      <td>-0.106361</td>\n",
       "      <td>1.000000</td>\n",
       "      <td>-0.028638</td>\n",
       "      <td>0.044279</td>\n",
       "      <td>0.027057</td>\n",
       "      <td>0.018956</td>\n",
       "      <td>-0.006979</td>\n",
       "      <td>0.000265</td>\n",
       "    </tr>\n",
       "    <tr>\n",
       "      <th>AveBedrms</th>\n",
       "      <td>-0.134401</td>\n",
       "      <td>0.020369</td>\n",
       "      <td>-0.028638</td>\n",
       "      <td>1.000000</td>\n",
       "      <td>0.215387</td>\n",
       "      <td>-0.126688</td>\n",
       "      <td>-0.013858</td>\n",
       "      <td>0.015881</td>\n",
       "      <td>0.187871</td>\n",
       "    </tr>\n",
       "    <tr>\n",
       "      <th>Population</th>\n",
       "      <td>-0.030673</td>\n",
       "      <td>-0.039498</td>\n",
       "      <td>0.044279</td>\n",
       "      <td>0.215387</td>\n",
       "      <td>1.000000</td>\n",
       "      <td>0.146068</td>\n",
       "      <td>-0.009505</td>\n",
       "      <td>-0.030102</td>\n",
       "      <td>0.155491</td>\n",
       "    </tr>\n",
       "    <tr>\n",
       "      <th>AveOccup</th>\n",
       "      <td>0.092586</td>\n",
       "      <td>0.077012</td>\n",
       "      <td>0.027057</td>\n",
       "      <td>-0.126688</td>\n",
       "      <td>0.146068</td>\n",
       "      <td>1.000000</td>\n",
       "      <td>-0.171071</td>\n",
       "      <td>0.206595</td>\n",
       "      <td>-0.193198</td>\n",
       "    </tr>\n",
       "    <tr>\n",
       "      <th>Latitude</th>\n",
       "      <td>-0.023360</td>\n",
       "      <td>0.049078</td>\n",
       "      <td>0.018956</td>\n",
       "      <td>-0.013858</td>\n",
       "      <td>-0.009505</td>\n",
       "      <td>-0.171071</td>\n",
       "      <td>1.000000</td>\n",
       "      <td>-0.690046</td>\n",
       "      <td>0.123270</td>\n",
       "    </tr>\n",
       "    <tr>\n",
       "      <th>Longitude</th>\n",
       "      <td>-0.037563</td>\n",
       "      <td>-0.031773</td>\n",
       "      <td>-0.006979</td>\n",
       "      <td>0.015881</td>\n",
       "      <td>-0.030102</td>\n",
       "      <td>0.206595</td>\n",
       "      <td>-0.690046</td>\n",
       "      <td>1.000000</td>\n",
       "      <td>-0.174650</td>\n",
       "    </tr>\n",
       "    <tr>\n",
       "      <th>target</th>\n",
       "      <td>-0.019365</td>\n",
       "      <td>-0.028850</td>\n",
       "      <td>0.000265</td>\n",
       "      <td>0.187871</td>\n",
       "      <td>0.155491</td>\n",
       "      <td>-0.193198</td>\n",
       "      <td>0.123270</td>\n",
       "      <td>-0.174650</td>\n",
       "      <td>1.000000</td>\n",
       "    </tr>\n",
       "  </tbody>\n",
       "</table>\n",
       "</div>"
      ],
      "text/plain": [
       "              MedInc  HouseAge  AveRooms  AveBedrms  Population  AveOccup  \\\n",
       "MedInc      1.000000 -0.050885  0.041141  -0.134401   -0.030673  0.092586   \n",
       "HouseAge   -0.050885  1.000000 -0.106361   0.020369   -0.039498  0.077012   \n",
       "AveRooms    0.041141 -0.106361  1.000000  -0.028638    0.044279  0.027057   \n",
       "AveBedrms  -0.134401  0.020369 -0.028638   1.000000    0.215387 -0.126688   \n",
       "Population -0.030673 -0.039498  0.044279   0.215387    1.000000  0.146068   \n",
       "AveOccup    0.092586  0.077012  0.027057  -0.126688    0.146068  1.000000   \n",
       "Latitude   -0.023360  0.049078  0.018956  -0.013858   -0.009505 -0.171071   \n",
       "Longitude  -0.037563 -0.031773 -0.006979   0.015881   -0.030102  0.206595   \n",
       "target     -0.019365 -0.028850  0.000265   0.187871    0.155491 -0.193198   \n",
       "\n",
       "            Latitude  Longitude    target  \n",
       "MedInc     -0.023360  -0.037563 -0.019365  \n",
       "HouseAge    0.049078  -0.031773 -0.028850  \n",
       "AveRooms    0.018956  -0.006979  0.000265  \n",
       "AveBedrms  -0.013858   0.015881  0.187871  \n",
       "Population -0.009505  -0.030102  0.155491  \n",
       "AveOccup   -0.171071   0.206595 -0.193198  \n",
       "Latitude    1.000000  -0.690046  0.123270  \n",
       "Longitude  -0.690046   1.000000 -0.174650  \n",
       "target      0.123270  -0.174650  1.000000  "
      ]
     },
     "execution_count": 26,
     "metadata": {},
     "output_type": "execute_result"
    }
   ],
   "source": [
    "df[(df['AveRooms'] > q_2_5) & (df['AveRooms'] < q_97_5)].corr(method='kendall')"
   ]
  },
  {
   "cell_type": "markdown",
   "id": "72ea3bd4-7b08-4cf4-983f-174942377fde",
   "metadata": {},
   "source": [
    "### Task 10"
   ]
  },
  {
   "cell_type": "markdown",
   "id": "62ec942f-3a57-4e7a-ae9b-c966485e5b45",
   "metadata": {},
   "source": [
    "Find two pairs of the most correlatied features using `heatmap` visualization as a tool. "
   ]
  },
  {
   "cell_type": "code",
   "execution_count": 27,
   "id": "bc98bac6-4ede-4df2-9563-fc9986c9714b",
   "metadata": {},
   "outputs": [],
   "source": [
    "import seaborn as sns\n",
    "import matplotlib.pyplot as plt"
   ]
  },
  {
   "cell_type": "code",
   "execution_count": 28,
   "id": "ac701024-b573-4f79-b5ae-36d02017cd63",
   "metadata": {},
   "outputs": [
    {
     "data": {
      "image/png": "[encoded data removed]",
      "text/plain": [
       "<Figure size 1152x648 with 2 Axes>"
      ]
     },
     "metadata": {
      "needs_background": "light"
     },
     "output_type": "display_data"
    }
   ],
   "source": [
    "plt.figure(figsize=(16, 9))\n",
    "sns.heatmap(df.corr(), cmap='coolwarm');"
   ]
  },
  {
   "cell_type": "markdown",
   "id": "7e452709-9fce-41aa-a030-979cd38bf020",
   "metadata": {},
   "source": [
    "Two highly correlated feature are:\n",
    "- Latitude & Longitude\n",
    "- AveBedrms & AveRooms. "
   ]
  }
 ],
 "metadata": {
  "kernelspec": {
   "display_name": "Python 3 (ipykernel)",
   "language": "python",
   "name": "python3"
  },
  "language_info": {
   "codemirror_mode": {
    "name": "ipython",
    "version": 3
   },
   "file_extension": ".py",
   "mimetype": "text/x-python",
   "name": "python",
   "nbconvert_exporter": "python",
   "pygments_lexer": "ipython3",
   "version": "3.8.10"
  }
 },
 "nbformat": 4,
 "nbformat_minor": 5
}
