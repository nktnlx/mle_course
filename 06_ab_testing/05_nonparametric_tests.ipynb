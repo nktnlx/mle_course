{
 "cells": [
  {
   "cell_type": "markdown",
   "id": "de12cd10-b9a4-4826-958d-f26ba859688a",
   "metadata": {},
   "source": [
    "# Nonparametric Tests"
   ]
  },
  {
   "cell_type": "markdown",
   "id": "d2cc8261-0bcd-48c9-83a6-4b8953f884eb",
   "metadata": {},
   "source": [
    "## Tasks"
   ]
  },
  {
   "cell_type": "markdown",
   "id": "187a7a5c-32ee-4df3-82f9-ad677b9e1d29",
   "metadata": {},
   "source": [
    "### Task 1"
   ]
  },
  {
   "cell_type": "markdown",
   "id": "0c32e26d-7079-4978-a6a4-945b7d5e8a26",
   "metadata": {},
   "source": [
    "Use the average house price dataset to practice working with nonparameteric tests.  \n",
    "Train `Ridge` regression models from the `sklearn` library with parameters `alpha=1` and `alpha=10`.  \n",
    "Make predictions on the entire dataset using cross-validation folds with `cross_val_predict`.  \n",
    "Calculate the `squared error` for each sample point and compare the equality of their medians using the `sign test`.  \n",
    "Implement the sign test manually (its null distribution follows a binomial distribution).   \n",
    "What conclusion can we draw about the difference between these models?   \n",
    "The alternative is two-sided, and the significance level is 0.05."
   ]
  },
  {
   "cell_type": "code",
   "execution_count": 1,
   "id": "c2e81a59-5543-4046-bb2e-45fff2a661ce",
   "metadata": {},
   "outputs": [],
   "source": [
    "from sklearn.datasets import fetch_california_housing  \n",
    "from sklearn.model_selection import cross_val_predict, KFold  \n",
    "from sklearn.preprocessing import StandardScaler  \n",
    "from sklearn.linear_model import Ridge  \n",
    "import numpy as np  \n",
    "from scipy.stats import binom  "
   ]
  },
  {
   "cell_type": "code",
   "execution_count": 2,
   "id": "5b29397f-d969-43f3-b125-09a7f8dd7e1d",
   "metadata": {},
   "outputs": [],
   "source": [
    "data = fetch_california_housing(as_frame=True, return_X_y=True)  \n",
    "df, target = data[0], data[1]  \n",
    "df = StandardScaler().fit_transform(df)  "
   ]
  },
  {
   "cell_type": "code",
   "execution_count": 3,
   "id": "73d7f6e3-6256-469c-8198-8e268c1f7a53",
   "metadata": {},
   "outputs": [],
   "source": [
    "cv = KFold(n_splits=4, shuffle=True, random_state=6)  \n",
    "\n",
    "ridge_1 = Ridge(alpha=1)  \n",
    "ridge_10 = Ridge(alpha=10)  "
   ]
  },
  {
   "cell_type": "code",
   "execution_count": 4,
   "id": "08ce9fac-1574-4209-82cb-1b88d0f70bdf",
   "metadata": {},
   "outputs": [],
   "source": [
    "preds_1 = cross_val_predict(ridge_1, df, target, cv=cv)  \n",
    "preds_10 = cross_val_predict(ridge_10, df, target, cv=cv)  "
   ]
  },
  {
   "cell_type": "code",
   "execution_count": 5,
   "id": "9b5b8a57-3173-491f-93b7-bb6c182c2874",
   "metadata": {},
   "outputs": [],
   "source": [
    "errors_1 = (target - preds_1) ** 2  \n",
    "errors_10 = (target - preds_10) ** 2  \n",
    "diffs = errors_10 - errors_1  "
   ]
  },
  {
   "cell_type": "code",
   "execution_count": 6,
   "id": "d7b4c914-bb77-4b77-94d3-48603724a7dc",
   "metadata": {},
   "outputs": [],
   "source": [
    "# sign test  \n",
    "n_pos = (diffs > 0).sum()  \n",
    "n_neg = (diffs < 0).sum()  \n",
    "n = n_pos + n_neg  "
   ]
  },
  {
   "cell_type": "code",
   "execution_count": 7,
   "id": "63dac963-a6ce-4db6-ba21-16168e28dddc",
   "metadata": {},
   "outputs": [],
   "source": [
    "k = min(n_pos, n_neg)  \n",
    "pvalue = 2 * binom.cdf(k, n, 0.5)  "
   ]
  },
  {
   "cell_type": "code",
   "execution_count": 8,
   "id": "f595999b-57b0-4b7b-bed4-b0b02ff3540b",
   "metadata": {},
   "outputs": [
    {
     "name": "stdout",
     "output_type": "stream",
     "text": [
      "Positive differences: 10712\n",
      "Negative differences: 9928\n"
     ]
    }
   ],
   "source": [
    "print(f'Positive differences: {n_pos}')  \n",
    "print(f'Negative differences: {n_neg}')  "
   ]
  },
  {
   "cell_type": "code",
   "execution_count": 9,
   "id": "83982032-ba3f-4964-918c-c62cc9afca9d",
   "metadata": {},
   "outputs": [
    {
     "name": "stdout",
     "output_type": "stream",
     "text": [
      "p-value = 0.0000 --> The result is statistically significant.\n"
     ]
    }
   ],
   "source": [
    "alpha = 0.05\n",
    "\n",
    "if pvalue < alpha:\n",
    "    print(f'p-value = {pvalue:.4f} --> The result is statistically significant.')\n",
    "else:\n",
    "    print(f'p-value = {pvalue:.4f} --> There is no statistically siginificant difference.')"
   ]
  },
  {
   "cell_type": "markdown",
   "id": "f4999aec-be62-4713-ae78-468f774c83d9",
   "metadata": {},
   "source": [
    "### Task 2"
   ]
  },
  {
   "cell_type": "markdown",
   "id": "39cde8dc-5f17-485b-8478-36a958968886",
   "metadata": {},
   "source": [
    "Some non-parametric statistical tests involve converting data to ranks.  \n",
    "Calculate the ranks for the elements of the following sample: `[7, 1, 5, 1, 3, 2, 5]`.  \n",
    "Use `scipy.stats.rankdata(a, method='average')` to determine the ranks.  "
   ]
  },
  {
   "cell_type": "code",
   "execution_count": 10,
   "id": "d81ce0da-2d46-4766-a41c-ac860b93c3c0",
   "metadata": {},
   "outputs": [
    {
     "name": "stdout",
     "output_type": "stream",
     "text": [
      "[7.  1.5 5.5 1.5 4.  3.  5.5]\n"
     ]
    }
   ],
   "source": [
    "from scipy.stats import rankdata\n",
    "\n",
    "\n",
    "sample = [7, 1, 5, 1, 3, 2, 5]\n",
    "ranks = rankdata(sample, method='average')\n",
    "print(ranks)"
   ]
  },
  {
   "cell_type": "markdown",
   "id": "b1ac43ed-67bc-42e2-8998-74176bb8089c",
   "metadata": {},
   "source": [
    "### Task 3"
   ]
  },
  {
   "cell_type": "markdown",
   "id": "5e65a1d1-3257-42ad-98d5-170c0927c704",
   "metadata": {},
   "source": [
    "Let's use `California Housing` dataset with average house prices.  \n",
    "Let's estimate whether the average incomes in the areas where houses are younger than 30 years and older than 30 years are different.  \n",
    "Use `Mann-Whitneyu` statistical criteria to check whether the samples are equal.  "
   ]
  },
  {
   "cell_type": "code",
   "execution_count": 11,
   "id": "6f948d49-e674-4512-88eb-3b48f51f5787",
   "metadata": {},
   "outputs": [],
   "source": [
    "from sklearn.datasets import fetch_california_housing\n",
    "\n",
    "data = fetch_california_housing(as_frame=True, return_X_y=True)\n",
    "df, target = data[0], data[1] "
   ]
  },
  {
   "cell_type": "code",
   "execution_count": 12,
   "id": "241523f8-16b6-41f5-839e-6cab97b21f57",
   "metadata": {},
   "outputs": [
    {
     "data": {
      "text/html": [
       "<div>\n",
       "<style scoped>\n",
       "    .dataframe tbody tr th:only-of-type {\n",
       "        vertical-align: middle;\n",
       "    }\n",
       "\n",
       "    .dataframe tbody tr th {\n",
       "        vertical-align: top;\n",
       "    }\n",
       "\n",
       "    .dataframe thead th {\n",
       "        text-align: right;\n",
       "    }\n",
       "</style>\n",
       "<table border=\"1\" class=\"dataframe\">\n",
       "  <thead>\n",
       "    <tr style=\"text-align: right;\">\n",
       "      <th></th>\n",
       "      <th>MedInc</th>\n",
       "      <th>HouseAge</th>\n",
       "      <th>AveRooms</th>\n",
       "      <th>AveBedrms</th>\n",
       "      <th>Population</th>\n",
       "      <th>AveOccup</th>\n",
       "      <th>Latitude</th>\n",
       "      <th>Longitude</th>\n",
       "    </tr>\n",
       "  </thead>\n",
       "  <tbody>\n",
       "    <tr>\n",
       "      <th>0</th>\n",
       "      <td>8.3252</td>\n",
       "      <td>41.0</td>\n",
       "      <td>6.984127</td>\n",
       "      <td>1.023810</td>\n",
       "      <td>322.0</td>\n",
       "      <td>2.555556</td>\n",
       "      <td>37.88</td>\n",
       "      <td>-122.23</td>\n",
       "    </tr>\n",
       "    <tr>\n",
       "      <th>1</th>\n",
       "      <td>8.3014</td>\n",
       "      <td>21.0</td>\n",
       "      <td>6.238137</td>\n",
       "      <td>0.971880</td>\n",
       "      <td>2401.0</td>\n",
       "      <td>2.109842</td>\n",
       "      <td>37.86</td>\n",
       "      <td>-122.22</td>\n",
       "    </tr>\n",
       "    <tr>\n",
       "      <th>2</th>\n",
       "      <td>7.2574</td>\n",
       "      <td>52.0</td>\n",
       "      <td>8.288136</td>\n",
       "      <td>1.073446</td>\n",
       "      <td>496.0</td>\n",
       "      <td>2.802260</td>\n",
       "      <td>37.85</td>\n",
       "      <td>-122.24</td>\n",
       "    </tr>\n",
       "    <tr>\n",
       "      <th>3</th>\n",
       "      <td>5.6431</td>\n",
       "      <td>52.0</td>\n",
       "      <td>5.817352</td>\n",
       "      <td>1.073059</td>\n",
       "      <td>558.0</td>\n",
       "      <td>2.547945</td>\n",
       "      <td>37.85</td>\n",
       "      <td>-122.25</td>\n",
       "    </tr>\n",
       "    <tr>\n",
       "      <th>4</th>\n",
       "      <td>3.8462</td>\n",
       "      <td>52.0</td>\n",
       "      <td>6.281853</td>\n",
       "      <td>1.081081</td>\n",
       "      <td>565.0</td>\n",
       "      <td>2.181467</td>\n",
       "      <td>37.85</td>\n",
       "      <td>-122.25</td>\n",
       "    </tr>\n",
       "    <tr>\n",
       "      <th>...</th>\n",
       "      <td>...</td>\n",
       "      <td>...</td>\n",
       "      <td>...</td>\n",
       "      <td>...</td>\n",
       "      <td>...</td>\n",
       "      <td>...</td>\n",
       "      <td>...</td>\n",
       "      <td>...</td>\n",
       "    </tr>\n",
       "    <tr>\n",
       "      <th>20635</th>\n",
       "      <td>1.5603</td>\n",
       "      <td>25.0</td>\n",
       "      <td>5.045455</td>\n",
       "      <td>1.133333</td>\n",
       "      <td>845.0</td>\n",
       "      <td>2.560606</td>\n",
       "      <td>39.48</td>\n",
       "      <td>-121.09</td>\n",
       "    </tr>\n",
       "    <tr>\n",
       "      <th>20636</th>\n",
       "      <td>2.5568</td>\n",
       "      <td>18.0</td>\n",
       "      <td>6.114035</td>\n",
       "      <td>1.315789</td>\n",
       "      <td>356.0</td>\n",
       "      <td>3.122807</td>\n",
       "      <td>39.49</td>\n",
       "      <td>-121.21</td>\n",
       "    </tr>\n",
       "    <tr>\n",
       "      <th>20637</th>\n",
       "      <td>1.7000</td>\n",
       "      <td>17.0</td>\n",
       "      <td>5.205543</td>\n",
       "      <td>1.120092</td>\n",
       "      <td>1007.0</td>\n",
       "      <td>2.325635</td>\n",
       "      <td>39.43</td>\n",
       "      <td>-121.22</td>\n",
       "    </tr>\n",
       "    <tr>\n",
       "      <th>20638</th>\n",
       "      <td>1.8672</td>\n",
       "      <td>18.0</td>\n",
       "      <td>5.329513</td>\n",
       "      <td>1.171920</td>\n",
       "      <td>741.0</td>\n",
       "      <td>2.123209</td>\n",
       "      <td>39.43</td>\n",
       "      <td>-121.32</td>\n",
       "    </tr>\n",
       "    <tr>\n",
       "      <th>20639</th>\n",
       "      <td>2.3886</td>\n",
       "      <td>16.0</td>\n",
       "      <td>5.254717</td>\n",
       "      <td>1.162264</td>\n",
       "      <td>1387.0</td>\n",
       "      <td>2.616981</td>\n",
       "      <td>39.37</td>\n",
       "      <td>-121.24</td>\n",
       "    </tr>\n",
       "  </tbody>\n",
       "</table>\n",
       "<p>20640 rows × 8 columns</p>\n",
       "</div>"
      ],
      "text/plain": [
       "       MedInc  HouseAge  AveRooms  AveBedrms  Population  AveOccup  Latitude  \\\n",
       "0      8.3252      41.0  6.984127   1.023810       322.0  2.555556     37.88   \n",
       "1      8.3014      21.0  6.238137   0.971880      2401.0  2.109842     37.86   \n",
       "2      7.2574      52.0  8.288136   1.073446       496.0  2.802260     37.85   \n",
       "3      5.6431      52.0  5.817352   1.073059       558.0  2.547945     37.85   \n",
       "4      3.8462      52.0  6.281853   1.081081       565.0  2.181467     37.85   \n",
       "...       ...       ...       ...        ...         ...       ...       ...   \n",
       "20635  1.5603      25.0  5.045455   1.133333       845.0  2.560606     39.48   \n",
       "20636  2.5568      18.0  6.114035   1.315789       356.0  3.122807     39.49   \n",
       "20637  1.7000      17.0  5.205543   1.120092      1007.0  2.325635     39.43   \n",
       "20638  1.8672      18.0  5.329513   1.171920       741.0  2.123209     39.43   \n",
       "20639  2.3886      16.0  5.254717   1.162264      1387.0  2.616981     39.37   \n",
       "\n",
       "       Longitude  \n",
       "0        -122.23  \n",
       "1        -122.22  \n",
       "2        -122.24  \n",
       "3        -122.25  \n",
       "4        -122.25  \n",
       "...          ...  \n",
       "20635    -121.09  \n",
       "20636    -121.21  \n",
       "20637    -121.22  \n",
       "20638    -121.32  \n",
       "20639    -121.24  \n",
       "\n",
       "[20640 rows x 8 columns]"
      ]
     },
     "execution_count": 12,
     "metadata": {},
     "output_type": "execute_result"
    }
   ],
   "source": [
    "df"
   ]
  },
  {
   "cell_type": "code",
   "execution_count": 13,
   "id": "b6edf84b-2b8b-4777-b104-0b66d7e093cc",
   "metadata": {},
   "outputs": [],
   "source": [
    "med_inc_younger = df[df['HouseAge'] < 30].MedInc\n",
    "med_inc_older = df[df['HouseAge'] > 30].MedInc"
   ]
  },
  {
   "cell_type": "code",
   "execution_count": 14,
   "id": "6985f8af-05e6-446c-ac7e-bb36fb496613",
   "metadata": {},
   "outputs": [],
   "source": [
    "from scipy.stats import mannwhitneyu"
   ]
  },
  {
   "cell_type": "code",
   "execution_count": 15,
   "id": "fe8e928b-e073-4ab2-b503-da585ee02306",
   "metadata": {},
   "outputs": [],
   "source": [
    "_, p_value = mannwhitneyu(med_inc_younger, med_inc_older)"
   ]
  },
  {
   "cell_type": "code",
   "execution_count": 16,
   "id": "881ccff1-7e99-4195-96ea-64dfd53e07a0",
   "metadata": {},
   "outputs": [
    {
     "name": "stdout",
     "output_type": "stream",
     "text": [
      "p-value = 0.0000 --> The result is statistically significant.\n"
     ]
    }
   ],
   "source": [
    "alpha = 0.05\n",
    "\n",
    "if p_value < alpha:\n",
    "    print(f'p-value = {p_value:.4f} --> The result is statistically significant.')\n",
    "else:\n",
    "    print(f'p-value = {p_value:.4f} --> There is no statistically siginificant difference.')"
   ]
  }
 ],
 "metadata": {
  "kernelspec": {
   "display_name": "Python 3 (ipykernel)",
   "language": "python",
   "name": "python3"
  },
  "language_info": {
   "codemirror_mode": {
    "name": "ipython",
    "version": 3
   },
   "file_extension": ".py",
   "mimetype": "text/x-python",
   "name": "python",
   "nbconvert_exporter": "python",
   "pygments_lexer": "ipython3",
   "version": "3.8.10"
  }
 },
 "nbformat": 4,
 "nbformat_minor": 5
}
