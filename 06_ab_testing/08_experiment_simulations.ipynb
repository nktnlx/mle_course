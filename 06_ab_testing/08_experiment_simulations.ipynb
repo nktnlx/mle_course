{
 "cells": [
  {
   "cell_type": "markdown",
   "id": "de12cd10-b9a4-4826-958d-f26ba859688a",
   "metadata": {},
   "source": [
    "# Experiment Simulations"
   ]
  },
  {
   "cell_type": "markdown",
   "id": "d2cc8261-0bcd-48c9-83a6-4b8953f884eb",
   "metadata": {},
   "source": [
    "## Tasks"
   ]
  },
  {
   "cell_type": "markdown",
   "id": "187a7a5c-32ee-4df3-82f9-ad677b9e1d29",
   "metadata": {},
   "source": [
    "### Task 1"
   ]
  },
  {
   "cell_type": "markdown",
   "id": "0c32e26d-7079-4978-a6a4-945b7d5e8a26",
   "metadata": {},
   "source": [
    "Implement a function that will generate two samples of the same size from a `Bernoulli distribution`.  \n",
    "Let the number of clients in a group be `1000`, and the probability for generation be `0,2`.  \n",
    "Evaluate using `Student's t-test` the p-value for the hypothesis about equality of means.  \n",
    "Using this function, simulate an `A/A test` 1000-10000 times and look at the distribution of `p-values`."
   ]
  },
  {
   "cell_type": "code",
   "execution_count": 1,
   "id": "50198033-b13a-40be-80a2-a21d768a6d44",
   "metadata": {},
   "outputs": [],
   "source": [
    "import numpy as np\n",
    "from scipy import stats\n",
    "import matplotlib.pyplot as plt"
   ]
  },
  {
   "cell_type": "code",
   "execution_count": 2,
   "id": "41ee22ba-ce93-47dd-969e-91f945a999cd",
   "metadata": {},
   "outputs": [],
   "source": [
    "def simulate_aa_test():\n",
    "    sample_a = np.random.binomial(1, 0.2, size=1000)\n",
    "    sample_b = np.random.binomial(1, 0.2, size=1000)\n",
    "    \n",
    "    _, p_value = stats.ttest_ind(sample_a, sample_b, equal_var=True)\n",
    "    \n",
    "    return p_value"
   ]
  },
  {
   "cell_type": "code",
   "execution_count": 3,
   "id": "9221e9ef-1c71-437e-ac95-570c25b4de6a",
   "metadata": {},
   "outputs": [],
   "source": [
    "# simulating 10000 A/A tests\n",
    "np.random.seed(42)\n",
    "num_simulations = 10000\n",
    "p_values = [simulate_aa_test() for _ in range(num_simulations)]"
   ]
  },
  {
   "cell_type": "code",
   "execution_count": 4,
   "id": "138d9c0b-d1d4-4a6c-9bab-a313e368774d",
   "metadata": {},
   "outputs": [
    {
     "name": "stdout",
     "output_type": "stream",
     "text": [
      "False positive rate at α = 0.05: 0.0465\n"
     ]
    }
   ],
   "source": [
    "# calculating false positive rate at alpha = 0.05\n",
    "alpha = 0.05\n",
    "false_positive_rate = sum(p < alpha for p in p_values) / num_simulations\n",
    "print(f'False positive rate at α = {alpha}: {false_positive_rate:.4f}')"
   ]
  },
  {
   "cell_type": "code",
   "execution_count": 5,
   "id": "a0d459c9-aef1-4da9-b0c8-a16c8fba7525",
   "metadata": {},
   "outputs": [
    {
     "data": {
      "image/png": "[encoded data removed]",
      "text/plain": [
       "<Figure size 720x432 with 1 Axes>"
      ]
     },
     "metadata": {
      "needs_background": "light"
     },
     "output_type": "display_data"
    }
   ],
   "source": [
    "plt.figure(figsize=(10, 6))\n",
    "plt.hist(p_values, bins=20, alpha=0.7, edgecolor='black')\n",
    "plt.axhline(y=num_simulations/20, color='r', linestyle='--', \n",
    "            label='Expected uniform distribution')\n",
    "plt.xlabel('p-value')\n",
    "plt.ylabel('Frequency')\n",
    "plt.title('Distribution of p-values in A/A test')\n",
    "plt.legend()\n",
    "plt.grid(alpha=0.3)\n",
    "plt.show()"
   ]
  },
  {
   "cell_type": "markdown",
   "id": "f4999aec-be62-4713-ae78-468f774c83d9",
   "metadata": {},
   "source": [
    "### Task 2"
   ]
  },
  {
   "cell_type": "markdown",
   "id": "39cde8dc-5f17-485b-8478-36a958968886",
   "metadata": {},
   "source": [
    "Estimate the minimum sample size if we want to have:\n",
    "- a Type I error equal to 5%, \n",
    "- power of 90%, \n",
    "- variance of our metric equal to 10, \n",
    "- the effect we want to detect equal to 0.5."
   ]
  },
  {
   "cell_type": "code",
   "execution_count": 6,
   "id": "5ea87e84-10d7-4d25-803d-9056b6349c49",
   "metadata": {},
   "outputs": [],
   "source": [
    "alpha = 0.05       \n",
    "beta = 0.10        \n",
    "variance = 10      \n",
    "effect_size = 0.5  "
   ]
  },
  {
   "cell_type": "code",
   "execution_count": 7,
   "id": "e9033c4a-66b1-4f52-adf3-71465d86d66b",
   "metadata": {},
   "outputs": [
    {
     "name": "stdout",
     "output_type": "stream",
     "text": [
      "Estimated sample size per group: 840\n"
     ]
    }
   ],
   "source": [
    "# initial guess for sample size (using formula)\n",
    "z_alpha = stats.norm.ppf(1 - alpha/2)\n",
    "z_beta = stats.norm.ppf(1 - beta)\n",
    "initial_n = 2 * ((z_alpha + z_beta)**2 * variance) / (effect_size**2)\n",
    "n = int(initial_n)\n",
    "\n",
    "print(f'Estimated sample size per group: {n}')"
   ]
  },
  {
   "cell_type": "code",
   "execution_count": 8,
   "id": "3903e836-fcc6-4c20-a9fc-9b343a7c1550",
   "metadata": {},
   "outputs": [],
   "source": [
    "def simulate_power(n, effect_size, variance, alpha=0.05, num_simulations=1000):\n",
    "    count_significant = 0\n",
    "    sigma = np.sqrt(variance)\n",
    "    \n",
    "    for _ in range(num_simulations):\n",
    "        group_a = np.random.normal(0, sigma, n)\n",
    "        group_b = np.random.normal(effect_size, sigma, n)\n",
    "        \n",
    "        _, p_val = stats.ttest_ind(group_a, group_b)\n",
    "        if p_val < alpha:\n",
    "            count_significant += 1\n",
    "    \n",
    "    return count_significant / num_simulations"
   ]
  },
  {
   "cell_type": "code",
   "execution_count": 9,
   "id": "c6acd5d2-34d5-470d-ad11-0c7ed242dae1",
   "metadata": {},
   "outputs": [
    {
     "name": "stdout",
     "output_type": "stream",
     "text": [
      "Power for n=840: 0.90\n"
     ]
    }
   ],
   "source": [
    "power = simulate_power(n=n, effect_size=effect_size, variance=variance)\n",
    "print(f'Power for n={n}: {power:.2f}')"
   ]
  },
  {
   "cell_type": "markdown",
   "id": "aa4502d2-2c55-42cd-95fa-fa546e5778ee",
   "metadata": {},
   "source": [
    "Our estimated sample size is true to get the required test power!"
   ]
  },
  {
   "cell_type": "markdown",
   "id": "b1ac43ed-67bc-42e2-8998-74176bb8089c",
   "metadata": {},
   "source": [
    "### Task 3"
   ]
  },
  {
   "cell_type": "markdown",
   "id": "5e65a1d1-3257-42ad-98d5-170c0927c704",
   "metadata": {},
   "source": [
    "Now let's try to estimate the power using simulations similar to A/A experiments.\n",
    "\n",
    "Implement a function where you will generate two samples from a normal distribution:\n",
    "- mean in the control group of 200, \n",
    "- mean in the test group of 205,\n",
    "- a standard deviation of 30,\n",
    "- sample size 500 users per group,\n",
    "- significance level is 0.05."
   ]
  },
  {
   "cell_type": "code",
   "execution_count": 10,
   "id": "05769890-4962-4b10-aeaf-f1163eee78e6",
   "metadata": {},
   "outputs": [],
   "source": [
    "def simulate_experiment(alpha=0.05):\n",
    "    control_group = np.random.normal(loc=200, scale=30, size=500)\n",
    "    test_group = np.random.normal(loc=205, scale=30, size=500)\n",
    "    \n",
    "    _, p_value = stats.ttest_ind(control_group, test_group, equal_var=True)\n",
    "    \n",
    "    return p_value < alpha"
   ]
  },
  {
   "cell_type": "code",
   "execution_count": 11,
   "id": "93588e37-8d01-4fe5-a195-81917658e5cf",
   "metadata": {},
   "outputs": [
    {
     "name": "stdout",
     "output_type": "stream",
     "text": [
      "Estimated power from simulations: 0.7493 --> (74.93%)\n"
     ]
    }
   ],
   "source": [
    "np.random.seed(42)\n",
    "num_simulations = 10000\n",
    "results = [simulate_experiment() for _ in range(num_simulations)]\n",
    "\n",
    "power = sum(results) / num_simulations\n",
    "print(f'Estimated power from simulations: {power:.4f} --> ({power*100:.2f}%)')"
   ]
  }
 ],
 "metadata": {
  "kernelspec": {
   "display_name": "Python 3 (ipykernel)",
   "language": "python",
   "name": "python3"
  },
  "language_info": {
   "codemirror_mode": {
    "name": "ipython",
    "version": 3
   },
   "file_extension": ".py",
   "mimetype": "text/x-python",
   "name": "python",
   "nbconvert_exporter": "python",
   "pygments_lexer": "ipython3",
   "version": "3.8.10"
  }
 },
 "nbformat": 4,
 "nbformat_minor": 5
}
