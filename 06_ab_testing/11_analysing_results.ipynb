{
 "cells": [
  {
   "cell_type": "markdown",
   "id": "de12cd10-b9a4-4826-958d-f26ba859688a",
   "metadata": {},
   "source": [
    "# Analysing Results"
   ]
  },
  {
   "cell_type": "markdown",
   "id": "d2cc8261-0bcd-48c9-83a6-4b8953f884eb",
   "metadata": {},
   "source": [
    "## Tasks"
   ]
  },
  {
   "cell_type": "markdown",
   "id": "187a7a5c-32ee-4df3-82f9-ad677b9e1d29",
   "metadata": {},
   "source": [
    "### Task 1"
   ]
  },
  {
   "cell_type": "markdown",
   "id": "0c32e26d-7079-4978-a6a4-945b7d5e8a26",
   "metadata": {},
   "source": [
    "Load and explore ab-test data."
   ]
  },
  {
   "cell_type": "code",
   "execution_count": 1,
   "id": "1589df6f-c592-4f08-ad06-8f373e070c29",
   "metadata": {},
   "outputs": [],
   "source": [
    "import pandas as pd\n",
    "import numpy as np"
   ]
  },
  {
   "cell_type": "code",
   "execution_count": 2,
   "id": "284c6beb-d16e-47e9-9669-5d0bff83de25",
   "metadata": {},
   "outputs": [],
   "source": [
    "df_likes = pd.read_csv('likes.csv')"
   ]
  },
  {
   "cell_type": "code",
   "execution_count": 3,
   "id": "720e48f6-3127-48b2-9ecd-1538ff287e22",
   "metadata": {},
   "outputs": [
    {
     "data": {
      "text/html": [
       "<div>\n",
       "<style scoped>\n",
       "    .dataframe tbody tr th:only-of-type {\n",
       "        vertical-align: middle;\n",
       "    }\n",
       "\n",
       "    .dataframe tbody tr th {\n",
       "        vertical-align: top;\n",
       "    }\n",
       "\n",
       "    .dataframe thead th {\n",
       "        text-align: right;\n",
       "    }\n",
       "</style>\n",
       "<table border=\"1\" class=\"dataframe\">\n",
       "  <thead>\n",
       "    <tr style=\"text-align: right;\">\n",
       "      <th></th>\n",
       "      <th>user_id</th>\n",
       "      <th>post_id</th>\n",
       "      <th>timestamp</th>\n",
       "    </tr>\n",
       "  </thead>\n",
       "  <tbody>\n",
       "    <tr>\n",
       "      <th>0</th>\n",
       "      <td>128381</td>\n",
       "      <td>4704</td>\n",
       "      <td>1654030804</td>\n",
       "    </tr>\n",
       "    <tr>\n",
       "      <th>1</th>\n",
       "      <td>146885</td>\n",
       "      <td>1399</td>\n",
       "      <td>1654030816</td>\n",
       "    </tr>\n",
       "    <tr>\n",
       "      <th>2</th>\n",
       "      <td>50948</td>\n",
       "      <td>2315</td>\n",
       "      <td>1654030828</td>\n",
       "    </tr>\n",
       "    <tr>\n",
       "      <th>3</th>\n",
       "      <td>14661</td>\n",
       "      <td>673</td>\n",
       "      <td>1654030831</td>\n",
       "    </tr>\n",
       "    <tr>\n",
       "      <th>4</th>\n",
       "      <td>37703</td>\n",
       "      <td>1588</td>\n",
       "      <td>1654030833</td>\n",
       "    </tr>\n",
       "    <tr>\n",
       "      <th>...</th>\n",
       "      <td>...</td>\n",
       "      <td>...</td>\n",
       "      <td>...</td>\n",
       "    </tr>\n",
       "    <tr>\n",
       "      <th>230171</th>\n",
       "      <td>31851</td>\n",
       "      <td>5964</td>\n",
       "      <td>1655243535</td>\n",
       "    </tr>\n",
       "    <tr>\n",
       "      <th>230172</th>\n",
       "      <td>51512</td>\n",
       "      <td>1498</td>\n",
       "      <td>1655243537</td>\n",
       "    </tr>\n",
       "    <tr>\n",
       "      <th>230173</th>\n",
       "      <td>34017</td>\n",
       "      <td>5009</td>\n",
       "      <td>1655243573</td>\n",
       "    </tr>\n",
       "    <tr>\n",
       "      <th>230174</th>\n",
       "      <td>13267</td>\n",
       "      <td>1787</td>\n",
       "      <td>1655243692</td>\n",
       "    </tr>\n",
       "    <tr>\n",
       "      <th>230175</th>\n",
       "      <td>67302</td>\n",
       "      <td>7255</td>\n",
       "      <td>1655243736</td>\n",
       "    </tr>\n",
       "  </tbody>\n",
       "</table>\n",
       "<p>230176 rows × 3 columns</p>\n",
       "</div>"
      ],
      "text/plain": [
       "        user_id  post_id   timestamp\n",
       "0        128381     4704  1654030804\n",
       "1        146885     1399  1654030816\n",
       "2         50948     2315  1654030828\n",
       "3         14661      673  1654030831\n",
       "4         37703     1588  1654030833\n",
       "...         ...      ...         ...\n",
       "230171    31851     5964  1655243535\n",
       "230172    51512     1498  1655243537\n",
       "230173    34017     5009  1655243573\n",
       "230174    13267     1787  1655243692\n",
       "230175    67302     7255  1655243736\n",
       "\n",
       "[230176 rows x 3 columns]"
      ]
     },
     "execution_count": 3,
     "metadata": {},
     "output_type": "execute_result"
    }
   ],
   "source": [
    "df_likes"
   ]
  },
  {
   "cell_type": "code",
   "execution_count": 4,
   "id": "bc00842d-cb80-4c97-b775-bbbcb201d07f",
   "metadata": {},
   "outputs": [
    {
     "name": "stdout",
     "output_type": "stream",
     "text": [
      "<class 'pandas.core.frame.DataFrame'>\n",
      "RangeIndex: 230176 entries, 0 to 230175\n",
      "Data columns (total 3 columns):\n",
      " #   Column     Non-Null Count   Dtype\n",
      "---  ------     --------------   -----\n",
      " 0   user_id    230176 non-null  int64\n",
      " 1   post_id    230176 non-null  int64\n",
      " 2   timestamp  230176 non-null  int64\n",
      "dtypes: int64(3)\n",
      "memory usage: 5.3 MB\n"
     ]
    }
   ],
   "source": [
    "df_likes.info()"
   ]
  },
  {
   "cell_type": "code",
   "execution_count": 5,
   "id": "31ffc834-0838-441c-8695-ee386b9acfd6",
   "metadata": {},
   "outputs": [],
   "source": [
    "df_views = pd.read_csv('views.csv')"
   ]
  },
  {
   "cell_type": "code",
   "execution_count": 6,
   "id": "ccef8964-f868-461e-86e8-deb48381a98e",
   "metadata": {},
   "outputs": [
    {
     "data": {
      "text/html": [
       "<div>\n",
       "<style scoped>\n",
       "    .dataframe tbody tr th:only-of-type {\n",
       "        vertical-align: middle;\n",
       "    }\n",
       "\n",
       "    .dataframe tbody tr th {\n",
       "        vertical-align: top;\n",
       "    }\n",
       "\n",
       "    .dataframe thead th {\n",
       "        text-align: right;\n",
       "    }\n",
       "</style>\n",
       "<table border=\"1\" class=\"dataframe\">\n",
       "  <thead>\n",
       "    <tr style=\"text-align: right;\">\n",
       "      <th></th>\n",
       "      <th>user_id</th>\n",
       "      <th>exp_group</th>\n",
       "      <th>recommendations</th>\n",
       "      <th>timestamp</th>\n",
       "    </tr>\n",
       "  </thead>\n",
       "  <tbody>\n",
       "    <tr>\n",
       "      <th>0</th>\n",
       "      <td>128381</td>\n",
       "      <td>control</td>\n",
       "      <td>[3644 4529 4704 5294 4808]</td>\n",
       "      <td>1654030803</td>\n",
       "    </tr>\n",
       "    <tr>\n",
       "      <th>1</th>\n",
       "      <td>146885</td>\n",
       "      <td>test</td>\n",
       "      <td>[1399 1076  797 7015 5942]</td>\n",
       "      <td>1654030811</td>\n",
       "    </tr>\n",
       "    <tr>\n",
       "      <th>2</th>\n",
       "      <td>50948</td>\n",
       "      <td>test</td>\n",
       "      <td>[2315 3037 1861 6567 4093]</td>\n",
       "      <td>1654030825</td>\n",
       "    </tr>\n",
       "    <tr>\n",
       "      <th>3</th>\n",
       "      <td>37703</td>\n",
       "      <td>test</td>\n",
       "      <td>[2842 1949  162 1588 6794]</td>\n",
       "      <td>1654030826</td>\n",
       "    </tr>\n",
       "    <tr>\n",
       "      <th>4</th>\n",
       "      <td>14661</td>\n",
       "      <td>test</td>\n",
       "      <td>[2395 5881 5648 3417  673]</td>\n",
       "      <td>1654030829</td>\n",
       "    </tr>\n",
       "    <tr>\n",
       "      <th>...</th>\n",
       "      <td>...</td>\n",
       "      <td>...</td>\n",
       "      <td>...</td>\n",
       "      <td>...</td>\n",
       "    </tr>\n",
       "    <tr>\n",
       "      <th>193290</th>\n",
       "      <td>158267</td>\n",
       "      <td>test</td>\n",
       "      <td>[1733 6834 4380 1915 1627]</td>\n",
       "      <td>1655240340</td>\n",
       "    </tr>\n",
       "    <tr>\n",
       "      <th>193291</th>\n",
       "      <td>63527</td>\n",
       "      <td>control</td>\n",
       "      <td>[2454  191 3873 6404 1588]</td>\n",
       "      <td>1655240347</td>\n",
       "    </tr>\n",
       "    <tr>\n",
       "      <th>193292</th>\n",
       "      <td>52169</td>\n",
       "      <td>test</td>\n",
       "      <td>[1368 1709 1616  798 5305]</td>\n",
       "      <td>1655240354</td>\n",
       "    </tr>\n",
       "    <tr>\n",
       "      <th>193293</th>\n",
       "      <td>142402</td>\n",
       "      <td>test</td>\n",
       "      <td>[5895 6984 1978 6548 6106]</td>\n",
       "      <td>1655240373</td>\n",
       "    </tr>\n",
       "    <tr>\n",
       "      <th>193294</th>\n",
       "      <td>72259</td>\n",
       "      <td>control</td>\n",
       "      <td>[6117 1255 6567 3587 3811]</td>\n",
       "      <td>1655240388</td>\n",
       "    </tr>\n",
       "  </tbody>\n",
       "</table>\n",
       "<p>193295 rows × 4 columns</p>\n",
       "</div>"
      ],
      "text/plain": [
       "        user_id exp_group             recommendations   timestamp\n",
       "0        128381   control  [3644 4529 4704 5294 4808]  1654030803\n",
       "1        146885      test  [1399 1076  797 7015 5942]  1654030811\n",
       "2         50948      test  [2315 3037 1861 6567 4093]  1654030825\n",
       "3         37703      test  [2842 1949  162 1588 6794]  1654030826\n",
       "4         14661      test  [2395 5881 5648 3417  673]  1654030829\n",
       "...         ...       ...                         ...         ...\n",
       "193290   158267      test  [1733 6834 4380 1915 1627]  1655240340\n",
       "193291    63527   control  [2454  191 3873 6404 1588]  1655240347\n",
       "193292    52169      test  [1368 1709 1616  798 5305]  1655240354\n",
       "193293   142402      test  [5895 6984 1978 6548 6106]  1655240373\n",
       "193294    72259   control  [6117 1255 6567 3587 3811]  1655240388\n",
       "\n",
       "[193295 rows x 4 columns]"
      ]
     },
     "execution_count": 6,
     "metadata": {},
     "output_type": "execute_result"
    }
   ],
   "source": [
    "df_views"
   ]
  },
  {
   "cell_type": "code",
   "execution_count": 7,
   "id": "2e63259c-3253-4dfc-b8f7-58f07be8cfc5",
   "metadata": {},
   "outputs": [
    {
     "name": "stdout",
     "output_type": "stream",
     "text": [
      "<class 'pandas.core.frame.DataFrame'>\n",
      "RangeIndex: 193295 entries, 0 to 193294\n",
      "Data columns (total 4 columns):\n",
      " #   Column           Non-Null Count   Dtype \n",
      "---  ------           --------------   ----- \n",
      " 0   user_id          193295 non-null  int64 \n",
      " 1   exp_group        193295 non-null  object\n",
      " 2   recommendations  193295 non-null  object\n",
      " 3   timestamp        193295 non-null  int64 \n",
      "dtypes: int64(2), object(2)\n",
      "memory usage: 5.9+ MB\n"
     ]
    }
   ],
   "source": [
    "df_views.info()"
   ]
  },
  {
   "cell_type": "markdown",
   "id": "f4999aec-be62-4713-ae78-468f774c83d9",
   "metadata": {},
   "source": [
    "### Task 2"
   ]
  },
  {
   "cell_type": "markdown",
   "id": "39cde8dc-5f17-485b-8478-36a958968886",
   "metadata": {},
   "source": [
    "Check split quality. "
   ]
  },
  {
   "cell_type": "code",
   "execution_count": 8,
   "id": "250bfc7c-207b-413e-af3b-a2ad61afff85",
   "metadata": {},
   "outputs": [
    {
     "data": {
      "text/plain": [
       "test       96917\n",
       "control    96378\n",
       "Name: exp_group, dtype: int64"
      ]
     },
     "execution_count": 8,
     "metadata": {},
     "output_type": "execute_result"
    }
   ],
   "source": [
    "df_views.exp_group.value_counts()"
   ]
  },
  {
   "cell_type": "code",
   "execution_count": 9,
   "id": "c9620f7a-d952-4428-a9f8-ed1f02fd03f7",
   "metadata": {},
   "outputs": [
    {
     "data": {
      "text/plain": [
       "test       0.501394\n",
       "control    0.498606\n",
       "Name: exp_group, dtype: float64"
      ]
     },
     "execution_count": 9,
     "metadata": {},
     "output_type": "execute_result"
    }
   ],
   "source": [
    "df_views.exp_group.value_counts(normalize=True)"
   ]
  },
  {
   "cell_type": "markdown",
   "id": "b79e9cdb-5e8f-4033-b8f1-d926685bfed9",
   "metadata": {},
   "source": [
    "The group proportion is more or less equal. "
   ]
  },
  {
   "cell_type": "code",
   "execution_count": 10,
   "id": "693632e0-efe3-495b-8147-8301d119c6c5",
   "metadata": {},
   "outputs": [
    {
     "data": {
      "text/html": [
       "<div>\n",
       "<style scoped>\n",
       "    .dataframe tbody tr th:only-of-type {\n",
       "        vertical-align: middle;\n",
       "    }\n",
       "\n",
       "    .dataframe tbody tr th {\n",
       "        vertical-align: top;\n",
       "    }\n",
       "\n",
       "    .dataframe thead th {\n",
       "        text-align: right;\n",
       "    }\n",
       "</style>\n",
       "<table border=\"1\" class=\"dataframe\">\n",
       "  <thead>\n",
       "    <tr style=\"text-align: right;\">\n",
       "      <th></th>\n",
       "      <th>user_id</th>\n",
       "      <th>exp_group</th>\n",
       "    </tr>\n",
       "  </thead>\n",
       "  <tbody>\n",
       "    <tr>\n",
       "      <th>54475</th>\n",
       "      <td>142283</td>\n",
       "      <td>2</td>\n",
       "    </tr>\n",
       "    <tr>\n",
       "      <th>57065</th>\n",
       "      <td>148670</td>\n",
       "      <td>2</td>\n",
       "    </tr>\n",
       "    <tr>\n",
       "      <th>20633</th>\n",
       "      <td>55788</td>\n",
       "      <td>2</td>\n",
       "    </tr>\n",
       "    <tr>\n",
       "      <th>10071</th>\n",
       "      <td>25623</td>\n",
       "      <td>2</td>\n",
       "    </tr>\n",
       "    <tr>\n",
       "      <th>43341</th>\n",
       "      <td>114278</td>\n",
       "      <td>1</td>\n",
       "    </tr>\n",
       "    <tr>\n",
       "      <th>43345</th>\n",
       "      <td>114289</td>\n",
       "      <td>1</td>\n",
       "    </tr>\n",
       "    <tr>\n",
       "      <th>43344</th>\n",
       "      <td>114288</td>\n",
       "      <td>1</td>\n",
       "    </tr>\n",
       "    <tr>\n",
       "      <th>43343</th>\n",
       "      <td>114284</td>\n",
       "      <td>1</td>\n",
       "    </tr>\n",
       "    <tr>\n",
       "      <th>43342</th>\n",
       "      <td>114279</td>\n",
       "      <td>1</td>\n",
       "    </tr>\n",
       "    <tr>\n",
       "      <th>43339</th>\n",
       "      <td>114273</td>\n",
       "      <td>1</td>\n",
       "    </tr>\n",
       "  </tbody>\n",
       "</table>\n",
       "</div>"
      ],
      "text/plain": [
       "       user_id  exp_group\n",
       "54475   142283          2\n",
       "57065   148670          2\n",
       "20633    55788          2\n",
       "10071    25623          2\n",
       "43341   114278          1\n",
       "43345   114289          1\n",
       "43344   114288          1\n",
       "43343   114284          1\n",
       "43342   114279          1\n",
       "43339   114273          1"
      ]
     },
     "execution_count": 10,
     "metadata": {},
     "output_type": "execute_result"
    }
   ],
   "source": [
    "df_views.groupby('user_id', as_index=False) \\\n",
    "    .agg({'exp_group': 'nunique'}) \\\n",
    "    .sort_values('exp_group', ascending=False).head(10)"
   ]
  },
  {
   "cell_type": "markdown",
   "id": "dec5074f-ecba-436d-aa67-c5329134e00d",
   "metadata": {},
   "source": [
    "As we can see there are a few users that are both in control and test group. "
   ]
  },
  {
   "cell_type": "markdown",
   "id": "9d1a507f-2994-4da5-a633-cc082d83ca63",
   "metadata": {},
   "source": [
    "### Task 3"
   ]
  },
  {
   "cell_type": "markdown",
   "id": "ec239096-4bea-4291-b530-6549871ee398",
   "metadata": {},
   "source": [
    "Calculate an overall conversion from view to post like (do not take into account split on control and test experiment groups).  "
   ]
  },
  {
   "cell_type": "code",
   "execution_count": 11,
   "id": "b9b88ec0-0ab0-4757-b4e7-5d5456f7b65b",
   "metadata": {},
   "outputs": [
    {
     "data": {
      "text/html": [
       "<div>\n",
       "<style scoped>\n",
       "    .dataframe tbody tr th:only-of-type {\n",
       "        vertical-align: middle;\n",
       "    }\n",
       "\n",
       "    .dataframe tbody tr th {\n",
       "        vertical-align: top;\n",
       "    }\n",
       "\n",
       "    .dataframe thead th {\n",
       "        text-align: right;\n",
       "    }\n",
       "</style>\n",
       "<table border=\"1\" class=\"dataframe\">\n",
       "  <thead>\n",
       "    <tr style=\"text-align: right;\">\n",
       "      <th></th>\n",
       "      <th>user_id</th>\n",
       "      <th>post_id</th>\n",
       "      <th>timestamp</th>\n",
       "    </tr>\n",
       "  </thead>\n",
       "  <tbody>\n",
       "    <tr>\n",
       "      <th>0</th>\n",
       "      <td>128381</td>\n",
       "      <td>4704</td>\n",
       "      <td>1654030804</td>\n",
       "    </tr>\n",
       "  </tbody>\n",
       "</table>\n",
       "</div>"
      ],
      "text/plain": [
       "   user_id  post_id   timestamp\n",
       "0   128381     4704  1654030804"
      ]
     },
     "execution_count": 11,
     "metadata": {},
     "output_type": "execute_result"
    }
   ],
   "source": [
    "df_likes.head(1)"
   ]
  },
  {
   "cell_type": "code",
   "execution_count": 12,
   "id": "d31eb0fe-8c56-47f9-b1ea-36cbd522faf8",
   "metadata": {},
   "outputs": [
    {
     "data": {
      "text/html": [
       "<div>\n",
       "<style scoped>\n",
       "    .dataframe tbody tr th:only-of-type {\n",
       "        vertical-align: middle;\n",
       "    }\n",
       "\n",
       "    .dataframe tbody tr th {\n",
       "        vertical-align: top;\n",
       "    }\n",
       "\n",
       "    .dataframe thead th {\n",
       "        text-align: right;\n",
       "    }\n",
       "</style>\n",
       "<table border=\"1\" class=\"dataframe\">\n",
       "  <thead>\n",
       "    <tr style=\"text-align: right;\">\n",
       "      <th></th>\n",
       "      <th>user_id</th>\n",
       "      <th>exp_group</th>\n",
       "      <th>recommendations</th>\n",
       "      <th>timestamp</th>\n",
       "    </tr>\n",
       "  </thead>\n",
       "  <tbody>\n",
       "    <tr>\n",
       "      <th>0</th>\n",
       "      <td>128381</td>\n",
       "      <td>control</td>\n",
       "      <td>[3644 4529 4704 5294 4808]</td>\n",
       "      <td>1654030803</td>\n",
       "    </tr>\n",
       "  </tbody>\n",
       "</table>\n",
       "</div>"
      ],
      "text/plain": [
       "   user_id exp_group             recommendations   timestamp\n",
       "0   128381   control  [3644 4529 4704 5294 4808]  1654030803"
      ]
     },
     "execution_count": 12,
     "metadata": {},
     "output_type": "execute_result"
    }
   ],
   "source": [
    "df_views.head(1)"
   ]
  },
  {
   "cell_type": "code",
   "execution_count": 13,
   "id": "151e5bc2-7dc3-4461-951e-a98ad606d3c6",
   "metadata": {},
   "outputs": [],
   "source": [
    "df = df_views.merge(df_likes, how='left', on='user_id')"
   ]
  },
  {
   "cell_type": "code",
   "execution_count": 14,
   "id": "3a12b96c-1ca5-410a-bfd6-07f594f0a7d2",
   "metadata": {},
   "outputs": [
    {
     "data": {
      "text/html": [
       "<div>\n",
       "<style scoped>\n",
       "    .dataframe tbody tr th:only-of-type {\n",
       "        vertical-align: middle;\n",
       "    }\n",
       "\n",
       "    .dataframe tbody tr th {\n",
       "        vertical-align: top;\n",
       "    }\n",
       "\n",
       "    .dataframe thead th {\n",
       "        text-align: right;\n",
       "    }\n",
       "</style>\n",
       "<table border=\"1\" class=\"dataframe\">\n",
       "  <thead>\n",
       "    <tr style=\"text-align: right;\">\n",
       "      <th></th>\n",
       "      <th>user_id</th>\n",
       "      <th>exp_group</th>\n",
       "      <th>recommendations</th>\n",
       "      <th>timestamp_x</th>\n",
       "      <th>post_id</th>\n",
       "      <th>timestamp_y</th>\n",
       "    </tr>\n",
       "  </thead>\n",
       "  <tbody>\n",
       "    <tr>\n",
       "      <th>0</th>\n",
       "      <td>128381</td>\n",
       "      <td>control</td>\n",
       "      <td>[3644 4529 4704 5294 4808]</td>\n",
       "      <td>1654030803</td>\n",
       "      <td>4704.0</td>\n",
       "      <td>1.654031e+09</td>\n",
       "    </tr>\n",
       "    <tr>\n",
       "      <th>1</th>\n",
       "      <td>128381</td>\n",
       "      <td>control</td>\n",
       "      <td>[3644 4529 4704 5294 4808]</td>\n",
       "      <td>1654030803</td>\n",
       "      <td>5294.0</td>\n",
       "      <td>1.654031e+09</td>\n",
       "    </tr>\n",
       "    <tr>\n",
       "      <th>2</th>\n",
       "      <td>128381</td>\n",
       "      <td>control</td>\n",
       "      <td>[3644 4529 4704 5294 4808]</td>\n",
       "      <td>1654030803</td>\n",
       "      <td>3608.0</td>\n",
       "      <td>1.655049e+09</td>\n",
       "    </tr>\n",
       "    <tr>\n",
       "      <th>3</th>\n",
       "      <td>128381</td>\n",
       "      <td>control</td>\n",
       "      <td>[3644 4529 4704 5294 4808]</td>\n",
       "      <td>1654030803</td>\n",
       "      <td>2542.0</td>\n",
       "      <td>1.655049e+09</td>\n",
       "    </tr>\n",
       "    <tr>\n",
       "      <th>4</th>\n",
       "      <td>128381</td>\n",
       "      <td>control</td>\n",
       "      <td>[3644 4529 4704 5294 4808]</td>\n",
       "      <td>1654030803</td>\n",
       "      <td>4165.0</td>\n",
       "      <td>1.655053e+09</td>\n",
       "    </tr>\n",
       "    <tr>\n",
       "      <th>...</th>\n",
       "      <td>...</td>\n",
       "      <td>...</td>\n",
       "      <td>...</td>\n",
       "      <td>...</td>\n",
       "      <td>...</td>\n",
       "      <td>...</td>\n",
       "    </tr>\n",
       "    <tr>\n",
       "      <th>1017168</th>\n",
       "      <td>52169</td>\n",
       "      <td>test</td>\n",
       "      <td>[1368 1709 1616  798 5305]</td>\n",
       "      <td>1655240354</td>\n",
       "      <td>1709.0</td>\n",
       "      <td>1.655240e+09</td>\n",
       "    </tr>\n",
       "    <tr>\n",
       "      <th>1017169</th>\n",
       "      <td>142402</td>\n",
       "      <td>test</td>\n",
       "      <td>[5895 6984 1978 6548 6106]</td>\n",
       "      <td>1655240373</td>\n",
       "      <td>6548.0</td>\n",
       "      <td>1.655240e+09</td>\n",
       "    </tr>\n",
       "    <tr>\n",
       "      <th>1017170</th>\n",
       "      <td>72259</td>\n",
       "      <td>control</td>\n",
       "      <td>[6117 1255 6567 3587 3811]</td>\n",
       "      <td>1655240388</td>\n",
       "      <td>1712.0</td>\n",
       "      <td>1.654305e+09</td>\n",
       "    </tr>\n",
       "    <tr>\n",
       "      <th>1017171</th>\n",
       "      <td>72259</td>\n",
       "      <td>control</td>\n",
       "      <td>[6117 1255 6567 3587 3811]</td>\n",
       "      <td>1655240388</td>\n",
       "      <td>5070.0</td>\n",
       "      <td>1.654309e+09</td>\n",
       "    </tr>\n",
       "    <tr>\n",
       "      <th>1017172</th>\n",
       "      <td>72259</td>\n",
       "      <td>control</td>\n",
       "      <td>[6117 1255 6567 3587 3811]</td>\n",
       "      <td>1655240388</td>\n",
       "      <td>4711.0</td>\n",
       "      <td>1.654949e+09</td>\n",
       "    </tr>\n",
       "  </tbody>\n",
       "</table>\n",
       "<p>1017173 rows × 6 columns</p>\n",
       "</div>"
      ],
      "text/plain": [
       "         user_id exp_group             recommendations  timestamp_x  post_id  \\\n",
       "0         128381   control  [3644 4529 4704 5294 4808]   1654030803   4704.0   \n",
       "1         128381   control  [3644 4529 4704 5294 4808]   1654030803   5294.0   \n",
       "2         128381   control  [3644 4529 4704 5294 4808]   1654030803   3608.0   \n",
       "3         128381   control  [3644 4529 4704 5294 4808]   1654030803   2542.0   \n",
       "4         128381   control  [3644 4529 4704 5294 4808]   1654030803   4165.0   \n",
       "...          ...       ...                         ...          ...      ...   \n",
       "1017168    52169      test  [1368 1709 1616  798 5305]   1655240354   1709.0   \n",
       "1017169   142402      test  [5895 6984 1978 6548 6106]   1655240373   6548.0   \n",
       "1017170    72259   control  [6117 1255 6567 3587 3811]   1655240388   1712.0   \n",
       "1017171    72259   control  [6117 1255 6567 3587 3811]   1655240388   5070.0   \n",
       "1017172    72259   control  [6117 1255 6567 3587 3811]   1655240388   4711.0   \n",
       "\n",
       "          timestamp_y  \n",
       "0        1.654031e+09  \n",
       "1        1.654031e+09  \n",
       "2        1.655049e+09  \n",
       "3        1.655049e+09  \n",
       "4        1.655053e+09  \n",
       "...               ...  \n",
       "1017168  1.655240e+09  \n",
       "1017169  1.655240e+09  \n",
       "1017170  1.654305e+09  \n",
       "1017171  1.654309e+09  \n",
       "1017172  1.654949e+09  \n",
       "\n",
       "[1017173 rows x 6 columns]"
      ]
     },
     "execution_count": 14,
     "metadata": {},
     "output_type": "execute_result"
    }
   ],
   "source": [
    "df"
   ]
  },
  {
   "cell_type": "code",
   "execution_count": 15,
   "id": "0bcf1fbf-673b-4baf-b657-9c7555582dd0",
   "metadata": {},
   "outputs": [
    {
     "name": "stdout",
     "output_type": "stream",
     "text": [
      "<class 'pandas.core.frame.DataFrame'>\n",
      "Int64Index: 1017173 entries, 0 to 1017172\n",
      "Data columns (total 6 columns):\n",
      " #   Column           Non-Null Count    Dtype  \n",
      "---  ------           --------------    -----  \n",
      " 0   user_id          1017173 non-null  int64  \n",
      " 1   exp_group        1017173 non-null  object \n",
      " 2   recommendations  1017173 non-null  object \n",
      " 3   timestamp_x      1017173 non-null  int64  \n",
      " 4   post_id          1006642 non-null  float64\n",
      " 5   timestamp_y      1006642 non-null  float64\n",
      "dtypes: float64(2), int64(2), object(2)\n",
      "memory usage: 54.3+ MB\n"
     ]
    }
   ],
   "source": [
    "df.info()"
   ]
  },
  {
   "cell_type": "code",
   "execution_count": 16,
   "id": "76fed157-2090-44b3-a0cf-e4b48eeb9cc4",
   "metadata": {},
   "outputs": [
    {
     "data": {
      "text/html": [
       "<div>\n",
       "<style scoped>\n",
       "    .dataframe tbody tr th:only-of-type {\n",
       "        vertical-align: middle;\n",
       "    }\n",
       "\n",
       "    .dataframe tbody tr th {\n",
       "        vertical-align: top;\n",
       "    }\n",
       "\n",
       "    .dataframe thead th {\n",
       "        text-align: right;\n",
       "    }\n",
       "</style>\n",
       "<table border=\"1\" class=\"dataframe\">\n",
       "  <thead>\n",
       "    <tr style=\"text-align: right;\">\n",
       "      <th></th>\n",
       "      <th>user_id</th>\n",
       "      <th>exp_group</th>\n",
       "      <th>recommendations</th>\n",
       "      <th>timestamp_x</th>\n",
       "      <th>post_id</th>\n",
       "      <th>timestamp_y</th>\n",
       "    </tr>\n",
       "  </thead>\n",
       "  <tbody>\n",
       "    <tr>\n",
       "      <th>70</th>\n",
       "      <td>106403</td>\n",
       "      <td>control</td>\n",
       "      <td>[7168 2828 1646 3604 5940]</td>\n",
       "      <td>1654030891</td>\n",
       "      <td>NaN</td>\n",
       "      <td>NaN</td>\n",
       "    </tr>\n",
       "    <tr>\n",
       "      <th>87</th>\n",
       "      <td>69336</td>\n",
       "      <td>control</td>\n",
       "      <td>[5297 2492 1882 1458 1388]</td>\n",
       "      <td>1654030893</td>\n",
       "      <td>NaN</td>\n",
       "      <td>NaN</td>\n",
       "    </tr>\n",
       "    <tr>\n",
       "      <th>402</th>\n",
       "      <td>18188</td>\n",
       "      <td>test</td>\n",
       "      <td>[1323 4521 2362 1834 1340]</td>\n",
       "      <td>1654031245</td>\n",
       "      <td>NaN</td>\n",
       "      <td>NaN</td>\n",
       "    </tr>\n",
       "    <tr>\n",
       "      <th>465</th>\n",
       "      <td>131306</td>\n",
       "      <td>test</td>\n",
       "      <td>[7101 4454 1725 1896 2285]</td>\n",
       "      <td>1654031303</td>\n",
       "      <td>NaN</td>\n",
       "      <td>NaN</td>\n",
       "    </tr>\n",
       "    <tr>\n",
       "      <th>520</th>\n",
       "      <td>39001</td>\n",
       "      <td>control</td>\n",
       "      <td>[6043 5850 7266 5525 1154]</td>\n",
       "      <td>1654031396</td>\n",
       "      <td>NaN</td>\n",
       "      <td>NaN</td>\n",
       "    </tr>\n",
       "    <tr>\n",
       "      <th>...</th>\n",
       "      <td>...</td>\n",
       "      <td>...</td>\n",
       "      <td>...</td>\n",
       "      <td>...</td>\n",
       "      <td>...</td>\n",
       "      <td>...</td>\n",
       "    </tr>\n",
       "    <tr>\n",
       "      <th>1016552</th>\n",
       "      <td>100072</td>\n",
       "      <td>control</td>\n",
       "      <td>[4686 3529 3000 7124  922]</td>\n",
       "      <td>1655239619</td>\n",
       "      <td>NaN</td>\n",
       "      <td>NaN</td>\n",
       "    </tr>\n",
       "    <tr>\n",
       "      <th>1016562</th>\n",
       "      <td>12873</td>\n",
       "      <td>control</td>\n",
       "      <td>[6139 1436 6659 3883 1135]</td>\n",
       "      <td>1655239634</td>\n",
       "      <td>NaN</td>\n",
       "      <td>NaN</td>\n",
       "    </tr>\n",
       "    <tr>\n",
       "      <th>1016744</th>\n",
       "      <td>90174</td>\n",
       "      <td>control</td>\n",
       "      <td>[5505 1540  900 1378 6565]</td>\n",
       "      <td>1655239851</td>\n",
       "      <td>NaN</td>\n",
       "      <td>NaN</td>\n",
       "    </tr>\n",
       "    <tr>\n",
       "      <th>1016837</th>\n",
       "      <td>22198</td>\n",
       "      <td>test</td>\n",
       "      <td>[1283 3952 3278 2512 5750]</td>\n",
       "      <td>1655239958</td>\n",
       "      <td>NaN</td>\n",
       "      <td>NaN</td>\n",
       "    </tr>\n",
       "    <tr>\n",
       "      <th>1017029</th>\n",
       "      <td>36834</td>\n",
       "      <td>control</td>\n",
       "      <td>[6752  279  440 3875 7307]</td>\n",
       "      <td>1655240135</td>\n",
       "      <td>NaN</td>\n",
       "      <td>NaN</td>\n",
       "    </tr>\n",
       "  </tbody>\n",
       "</table>\n",
       "<p>10531 rows × 6 columns</p>\n",
       "</div>"
      ],
      "text/plain": [
       "         user_id exp_group             recommendations  timestamp_x  post_id  \\\n",
       "70        106403   control  [7168 2828 1646 3604 5940]   1654030891      NaN   \n",
       "87         69336   control  [5297 2492 1882 1458 1388]   1654030893      NaN   \n",
       "402        18188      test  [1323 4521 2362 1834 1340]   1654031245      NaN   \n",
       "465       131306      test  [7101 4454 1725 1896 2285]   1654031303      NaN   \n",
       "520        39001   control  [6043 5850 7266 5525 1154]   1654031396      NaN   \n",
       "...          ...       ...                         ...          ...      ...   \n",
       "1016552   100072   control  [4686 3529 3000 7124  922]   1655239619      NaN   \n",
       "1016562    12873   control  [6139 1436 6659 3883 1135]   1655239634      NaN   \n",
       "1016744    90174   control  [5505 1540  900 1378 6565]   1655239851      NaN   \n",
       "1016837    22198      test  [1283 3952 3278 2512 5750]   1655239958      NaN   \n",
       "1017029    36834   control  [6752  279  440 3875 7307]   1655240135      NaN   \n",
       "\n",
       "         timestamp_y  \n",
       "70               NaN  \n",
       "87               NaN  \n",
       "402              NaN  \n",
       "465              NaN  \n",
       "520              NaN  \n",
       "...              ...  \n",
       "1016552          NaN  \n",
       "1016562          NaN  \n",
       "1016744          NaN  \n",
       "1016837          NaN  \n",
       "1017029          NaN  \n",
       "\n",
       "[10531 rows x 6 columns]"
      ]
     },
     "execution_count": 16,
     "metadata": {},
     "output_type": "execute_result"
    }
   ],
   "source": [
    "df[df.isna().any(axis=1)]"
   ]
  },
  {
   "cell_type": "code",
   "execution_count": 17,
   "id": "aabf604d-e509-4aaa-867e-2feca495a971",
   "metadata": {},
   "outputs": [],
   "source": [
    "df.fillna(value=0, inplace=True)"
   ]
  },
  {
   "cell_type": "code",
   "execution_count": 18,
   "id": "89d3d713-4b00-4fd0-8815-3bc3dce29309",
   "metadata": {},
   "outputs": [
    {
     "data": {
      "text/html": [
       "<div>\n",
       "<style scoped>\n",
       "    .dataframe tbody tr th:only-of-type {\n",
       "        vertical-align: middle;\n",
       "    }\n",
       "\n",
       "    .dataframe tbody tr th {\n",
       "        vertical-align: top;\n",
       "    }\n",
       "\n",
       "    .dataframe thead th {\n",
       "        text-align: right;\n",
       "    }\n",
       "</style>\n",
       "<table border=\"1\" class=\"dataframe\">\n",
       "  <thead>\n",
       "    <tr style=\"text-align: right;\">\n",
       "      <th></th>\n",
       "      <th>user_id</th>\n",
       "      <th>exp_group</th>\n",
       "      <th>recommendations</th>\n",
       "      <th>timestamp_x</th>\n",
       "      <th>post_id</th>\n",
       "      <th>timestamp_y</th>\n",
       "    </tr>\n",
       "  </thead>\n",
       "  <tbody>\n",
       "    <tr>\n",
       "      <th>0</th>\n",
       "      <td>128381</td>\n",
       "      <td>control</td>\n",
       "      <td>[3644 4529 4704 5294 4808]</td>\n",
       "      <td>1654030803</td>\n",
       "      <td>4704.0</td>\n",
       "      <td>1.654031e+09</td>\n",
       "    </tr>\n",
       "    <tr>\n",
       "      <th>1</th>\n",
       "      <td>128381</td>\n",
       "      <td>control</td>\n",
       "      <td>[3644 4529 4704 5294 4808]</td>\n",
       "      <td>1654030803</td>\n",
       "      <td>5294.0</td>\n",
       "      <td>1.654031e+09</td>\n",
       "    </tr>\n",
       "    <tr>\n",
       "      <th>2</th>\n",
       "      <td>128381</td>\n",
       "      <td>control</td>\n",
       "      <td>[3644 4529 4704 5294 4808]</td>\n",
       "      <td>1654030803</td>\n",
       "      <td>3608.0</td>\n",
       "      <td>1.655049e+09</td>\n",
       "    </tr>\n",
       "    <tr>\n",
       "      <th>3</th>\n",
       "      <td>128381</td>\n",
       "      <td>control</td>\n",
       "      <td>[3644 4529 4704 5294 4808]</td>\n",
       "      <td>1654030803</td>\n",
       "      <td>2542.0</td>\n",
       "      <td>1.655049e+09</td>\n",
       "    </tr>\n",
       "    <tr>\n",
       "      <th>4</th>\n",
       "      <td>128381</td>\n",
       "      <td>control</td>\n",
       "      <td>[3644 4529 4704 5294 4808]</td>\n",
       "      <td>1654030803</td>\n",
       "      <td>4165.0</td>\n",
       "      <td>1.655053e+09</td>\n",
       "    </tr>\n",
       "    <tr>\n",
       "      <th>...</th>\n",
       "      <td>...</td>\n",
       "      <td>...</td>\n",
       "      <td>...</td>\n",
       "      <td>...</td>\n",
       "      <td>...</td>\n",
       "      <td>...</td>\n",
       "    </tr>\n",
       "    <tr>\n",
       "      <th>1017168</th>\n",
       "      <td>52169</td>\n",
       "      <td>test</td>\n",
       "      <td>[1368 1709 1616  798 5305]</td>\n",
       "      <td>1655240354</td>\n",
       "      <td>1709.0</td>\n",
       "      <td>1.655240e+09</td>\n",
       "    </tr>\n",
       "    <tr>\n",
       "      <th>1017169</th>\n",
       "      <td>142402</td>\n",
       "      <td>test</td>\n",
       "      <td>[5895 6984 1978 6548 6106]</td>\n",
       "      <td>1655240373</td>\n",
       "      <td>6548.0</td>\n",
       "      <td>1.655240e+09</td>\n",
       "    </tr>\n",
       "    <tr>\n",
       "      <th>1017170</th>\n",
       "      <td>72259</td>\n",
       "      <td>control</td>\n",
       "      <td>[6117 1255 6567 3587 3811]</td>\n",
       "      <td>1655240388</td>\n",
       "      <td>1712.0</td>\n",
       "      <td>1.654305e+09</td>\n",
       "    </tr>\n",
       "    <tr>\n",
       "      <th>1017171</th>\n",
       "      <td>72259</td>\n",
       "      <td>control</td>\n",
       "      <td>[6117 1255 6567 3587 3811]</td>\n",
       "      <td>1655240388</td>\n",
       "      <td>5070.0</td>\n",
       "      <td>1.654309e+09</td>\n",
       "    </tr>\n",
       "    <tr>\n",
       "      <th>1017172</th>\n",
       "      <td>72259</td>\n",
       "      <td>control</td>\n",
       "      <td>[6117 1255 6567 3587 3811]</td>\n",
       "      <td>1655240388</td>\n",
       "      <td>4711.0</td>\n",
       "      <td>1.654949e+09</td>\n",
       "    </tr>\n",
       "  </tbody>\n",
       "</table>\n",
       "<p>1017173 rows × 6 columns</p>\n",
       "</div>"
      ],
      "text/plain": [
       "         user_id exp_group             recommendations  timestamp_x  post_id  \\\n",
       "0         128381   control  [3644 4529 4704 5294 4808]   1654030803   4704.0   \n",
       "1         128381   control  [3644 4529 4704 5294 4808]   1654030803   5294.0   \n",
       "2         128381   control  [3644 4529 4704 5294 4808]   1654030803   3608.0   \n",
       "3         128381   control  [3644 4529 4704 5294 4808]   1654030803   2542.0   \n",
       "4         128381   control  [3644 4529 4704 5294 4808]   1654030803   4165.0   \n",
       "...          ...       ...                         ...          ...      ...   \n",
       "1017168    52169      test  [1368 1709 1616  798 5305]   1655240354   1709.0   \n",
       "1017169   142402      test  [5895 6984 1978 6548 6106]   1655240373   6548.0   \n",
       "1017170    72259   control  [6117 1255 6567 3587 3811]   1655240388   1712.0   \n",
       "1017171    72259   control  [6117 1255 6567 3587 3811]   1655240388   5070.0   \n",
       "1017172    72259   control  [6117 1255 6567 3587 3811]   1655240388   4711.0   \n",
       "\n",
       "          timestamp_y  \n",
       "0        1.654031e+09  \n",
       "1        1.654031e+09  \n",
       "2        1.655049e+09  \n",
       "3        1.655049e+09  \n",
       "4        1.655053e+09  \n",
       "...               ...  \n",
       "1017168  1.655240e+09  \n",
       "1017169  1.655240e+09  \n",
       "1017170  1.654305e+09  \n",
       "1017171  1.654309e+09  \n",
       "1017172  1.654949e+09  \n",
       "\n",
       "[1017173 rows x 6 columns]"
      ]
     },
     "execution_count": 18,
     "metadata": {},
     "output_type": "execute_result"
    }
   ],
   "source": [
    "df"
   ]
  },
  {
   "cell_type": "code",
   "execution_count": 19,
   "id": "55debe30-670d-451c-b727-57812e13b981",
   "metadata": {},
   "outputs": [
    {
     "data": {
      "text/html": [
       "<div>\n",
       "<style scoped>\n",
       "    .dataframe tbody tr th:only-of-type {\n",
       "        vertical-align: middle;\n",
       "    }\n",
       "\n",
       "    .dataframe tbody tr th {\n",
       "        vertical-align: top;\n",
       "    }\n",
       "\n",
       "    .dataframe thead th {\n",
       "        text-align: right;\n",
       "    }\n",
       "</style>\n",
       "<table border=\"1\" class=\"dataframe\">\n",
       "  <thead>\n",
       "    <tr style=\"text-align: right;\">\n",
       "      <th></th>\n",
       "      <th>user_id</th>\n",
       "      <th>exp_group</th>\n",
       "      <th>recommendations</th>\n",
       "      <th>timestamp_x</th>\n",
       "      <th>post_id</th>\n",
       "      <th>timestamp_y</th>\n",
       "    </tr>\n",
       "  </thead>\n",
       "  <tbody>\n",
       "  </tbody>\n",
       "</table>\n",
       "</div>"
      ],
      "text/plain": [
       "Empty DataFrame\n",
       "Columns: [user_id, exp_group, recommendations, timestamp_x, post_id, timestamp_y]\n",
       "Index: []"
      ]
     },
     "execution_count": 19,
     "metadata": {},
     "output_type": "execute_result"
    }
   ],
   "source": [
    "df[df.isna().any(axis=1)]"
   ]
  },
  {
   "cell_type": "code",
   "execution_count": 20,
   "id": "1d9f77d4-be69-46d6-a5df-5f79a6d1a296",
   "metadata": {},
   "outputs": [],
   "source": [
    "df['liked'] = np.where(df['post_id'] > 0, 1, 0)"
   ]
  },
  {
   "cell_type": "code",
   "execution_count": 21,
   "id": "3fc72cce-9f83-437f-b963-0d82522b14e5",
   "metadata": {},
   "outputs": [
    {
     "data": {
      "text/html": [
       "<div>\n",
       "<style scoped>\n",
       "    .dataframe tbody tr th:only-of-type {\n",
       "        vertical-align: middle;\n",
       "    }\n",
       "\n",
       "    .dataframe tbody tr th {\n",
       "        vertical-align: top;\n",
       "    }\n",
       "\n",
       "    .dataframe thead th {\n",
       "        text-align: right;\n",
       "    }\n",
       "</style>\n",
       "<table border=\"1\" class=\"dataframe\">\n",
       "  <thead>\n",
       "    <tr style=\"text-align: right;\">\n",
       "      <th></th>\n",
       "      <th>user_id</th>\n",
       "      <th>exp_group</th>\n",
       "      <th>recommendations</th>\n",
       "      <th>timestamp_x</th>\n",
       "      <th>post_id</th>\n",
       "      <th>timestamp_y</th>\n",
       "      <th>liked</th>\n",
       "    </tr>\n",
       "  </thead>\n",
       "  <tbody>\n",
       "    <tr>\n",
       "      <th>0</th>\n",
       "      <td>128381</td>\n",
       "      <td>control</td>\n",
       "      <td>[3644 4529 4704 5294 4808]</td>\n",
       "      <td>1654030803</td>\n",
       "      <td>4704.0</td>\n",
       "      <td>1.654031e+09</td>\n",
       "      <td>1</td>\n",
       "    </tr>\n",
       "    <tr>\n",
       "      <th>1</th>\n",
       "      <td>128381</td>\n",
       "      <td>control</td>\n",
       "      <td>[3644 4529 4704 5294 4808]</td>\n",
       "      <td>1654030803</td>\n",
       "      <td>5294.0</td>\n",
       "      <td>1.654031e+09</td>\n",
       "      <td>1</td>\n",
       "    </tr>\n",
       "    <tr>\n",
       "      <th>2</th>\n",
       "      <td>128381</td>\n",
       "      <td>control</td>\n",
       "      <td>[3644 4529 4704 5294 4808]</td>\n",
       "      <td>1654030803</td>\n",
       "      <td>3608.0</td>\n",
       "      <td>1.655049e+09</td>\n",
       "      <td>1</td>\n",
       "    </tr>\n",
       "    <tr>\n",
       "      <th>3</th>\n",
       "      <td>128381</td>\n",
       "      <td>control</td>\n",
       "      <td>[3644 4529 4704 5294 4808]</td>\n",
       "      <td>1654030803</td>\n",
       "      <td>2542.0</td>\n",
       "      <td>1.655049e+09</td>\n",
       "      <td>1</td>\n",
       "    </tr>\n",
       "    <tr>\n",
       "      <th>4</th>\n",
       "      <td>128381</td>\n",
       "      <td>control</td>\n",
       "      <td>[3644 4529 4704 5294 4808]</td>\n",
       "      <td>1654030803</td>\n",
       "      <td>4165.0</td>\n",
       "      <td>1.655053e+09</td>\n",
       "      <td>1</td>\n",
       "    </tr>\n",
       "    <tr>\n",
       "      <th>...</th>\n",
       "      <td>...</td>\n",
       "      <td>...</td>\n",
       "      <td>...</td>\n",
       "      <td>...</td>\n",
       "      <td>...</td>\n",
       "      <td>...</td>\n",
       "      <td>...</td>\n",
       "    </tr>\n",
       "    <tr>\n",
       "      <th>1017168</th>\n",
       "      <td>52169</td>\n",
       "      <td>test</td>\n",
       "      <td>[1368 1709 1616  798 5305]</td>\n",
       "      <td>1655240354</td>\n",
       "      <td>1709.0</td>\n",
       "      <td>1.655240e+09</td>\n",
       "      <td>1</td>\n",
       "    </tr>\n",
       "    <tr>\n",
       "      <th>1017169</th>\n",
       "      <td>142402</td>\n",
       "      <td>test</td>\n",
       "      <td>[5895 6984 1978 6548 6106]</td>\n",
       "      <td>1655240373</td>\n",
       "      <td>6548.0</td>\n",
       "      <td>1.655240e+09</td>\n",
       "      <td>1</td>\n",
       "    </tr>\n",
       "    <tr>\n",
       "      <th>1017170</th>\n",
       "      <td>72259</td>\n",
       "      <td>control</td>\n",
       "      <td>[6117 1255 6567 3587 3811]</td>\n",
       "      <td>1655240388</td>\n",
       "      <td>1712.0</td>\n",
       "      <td>1.654305e+09</td>\n",
       "      <td>1</td>\n",
       "    </tr>\n",
       "    <tr>\n",
       "      <th>1017171</th>\n",
       "      <td>72259</td>\n",
       "      <td>control</td>\n",
       "      <td>[6117 1255 6567 3587 3811]</td>\n",
       "      <td>1655240388</td>\n",
       "      <td>5070.0</td>\n",
       "      <td>1.654309e+09</td>\n",
       "      <td>1</td>\n",
       "    </tr>\n",
       "    <tr>\n",
       "      <th>1017172</th>\n",
       "      <td>72259</td>\n",
       "      <td>control</td>\n",
       "      <td>[6117 1255 6567 3587 3811]</td>\n",
       "      <td>1655240388</td>\n",
       "      <td>4711.0</td>\n",
       "      <td>1.654949e+09</td>\n",
       "      <td>1</td>\n",
       "    </tr>\n",
       "  </tbody>\n",
       "</table>\n",
       "<p>1017173 rows × 7 columns</p>\n",
       "</div>"
      ],
      "text/plain": [
       "         user_id exp_group             recommendations  timestamp_x  post_id  \\\n",
       "0         128381   control  [3644 4529 4704 5294 4808]   1654030803   4704.0   \n",
       "1         128381   control  [3644 4529 4704 5294 4808]   1654030803   5294.0   \n",
       "2         128381   control  [3644 4529 4704 5294 4808]   1654030803   3608.0   \n",
       "3         128381   control  [3644 4529 4704 5294 4808]   1654030803   2542.0   \n",
       "4         128381   control  [3644 4529 4704 5294 4808]   1654030803   4165.0   \n",
       "...          ...       ...                         ...          ...      ...   \n",
       "1017168    52169      test  [1368 1709 1616  798 5305]   1655240354   1709.0   \n",
       "1017169   142402      test  [5895 6984 1978 6548 6106]   1655240373   6548.0   \n",
       "1017170    72259   control  [6117 1255 6567 3587 3811]   1655240388   1712.0   \n",
       "1017171    72259   control  [6117 1255 6567 3587 3811]   1655240388   5070.0   \n",
       "1017172    72259   control  [6117 1255 6567 3587 3811]   1655240388   4711.0   \n",
       "\n",
       "          timestamp_y  liked  \n",
       "0        1.654031e+09      1  \n",
       "1        1.654031e+09      1  \n",
       "2        1.655049e+09      1  \n",
       "3        1.655049e+09      1  \n",
       "4        1.655053e+09      1  \n",
       "...               ...    ...  \n",
       "1017168  1.655240e+09      1  \n",
       "1017169  1.655240e+09      1  \n",
       "1017170  1.654305e+09      1  \n",
       "1017171  1.654309e+09      1  \n",
       "1017172  1.654949e+09      1  \n",
       "\n",
       "[1017173 rows x 7 columns]"
      ]
     },
     "execution_count": 21,
     "metadata": {},
     "output_type": "execute_result"
    }
   ],
   "source": [
    "df"
   ]
  },
  {
   "cell_type": "code",
   "execution_count": 22,
   "id": "075f951c-0985-49d2-a70d-30ea8a452069",
   "metadata": {},
   "outputs": [],
   "source": [
    "df_liked = df.groupby(['user_id', 'exp_group'], as_index=False).agg({'liked': 'max'})"
   ]
  },
  {
   "cell_type": "code",
   "execution_count": 23,
   "id": "260a40e2-5276-4077-86dc-b588d03e6f80",
   "metadata": {},
   "outputs": [
    {
     "data": {
      "text/html": [
       "<div>\n",
       "<style scoped>\n",
       "    .dataframe tbody tr th:only-of-type {\n",
       "        vertical-align: middle;\n",
       "    }\n",
       "\n",
       "    .dataframe tbody tr th {\n",
       "        vertical-align: top;\n",
       "    }\n",
       "\n",
       "    .dataframe thead th {\n",
       "        text-align: right;\n",
       "    }\n",
       "</style>\n",
       "<table border=\"1\" class=\"dataframe\">\n",
       "  <thead>\n",
       "    <tr style=\"text-align: right;\">\n",
       "      <th></th>\n",
       "      <th>user_id</th>\n",
       "      <th>exp_group</th>\n",
       "      <th>liked</th>\n",
       "    </tr>\n",
       "  </thead>\n",
       "  <tbody>\n",
       "    <tr>\n",
       "      <th>0</th>\n",
       "      <td>200</td>\n",
       "      <td>test</td>\n",
       "      <td>1</td>\n",
       "    </tr>\n",
       "    <tr>\n",
       "      <th>1</th>\n",
       "      <td>201</td>\n",
       "      <td>test</td>\n",
       "      <td>1</td>\n",
       "    </tr>\n",
       "    <tr>\n",
       "      <th>2</th>\n",
       "      <td>202</td>\n",
       "      <td>test</td>\n",
       "      <td>1</td>\n",
       "    </tr>\n",
       "    <tr>\n",
       "      <th>3</th>\n",
       "      <td>212</td>\n",
       "      <td>test</td>\n",
       "      <td>1</td>\n",
       "    </tr>\n",
       "    <tr>\n",
       "      <th>4</th>\n",
       "      <td>213</td>\n",
       "      <td>test</td>\n",
       "      <td>1</td>\n",
       "    </tr>\n",
       "    <tr>\n",
       "      <th>...</th>\n",
       "      <td>...</td>\n",
       "      <td>...</td>\n",
       "      <td>...</td>\n",
       "    </tr>\n",
       "    <tr>\n",
       "      <th>65012</th>\n",
       "      <td>168538</td>\n",
       "      <td>test</td>\n",
       "      <td>1</td>\n",
       "    </tr>\n",
       "    <tr>\n",
       "      <th>65013</th>\n",
       "      <td>168541</td>\n",
       "      <td>control</td>\n",
       "      <td>1</td>\n",
       "    </tr>\n",
       "    <tr>\n",
       "      <th>65014</th>\n",
       "      <td>168544</td>\n",
       "      <td>test</td>\n",
       "      <td>0</td>\n",
       "    </tr>\n",
       "    <tr>\n",
       "      <th>65015</th>\n",
       "      <td>168545</td>\n",
       "      <td>test</td>\n",
       "      <td>1</td>\n",
       "    </tr>\n",
       "    <tr>\n",
       "      <th>65016</th>\n",
       "      <td>168552</td>\n",
       "      <td>control</td>\n",
       "      <td>0</td>\n",
       "    </tr>\n",
       "  </tbody>\n",
       "</table>\n",
       "<p>65017 rows × 3 columns</p>\n",
       "</div>"
      ],
      "text/plain": [
       "       user_id exp_group  liked\n",
       "0          200      test      1\n",
       "1          201      test      1\n",
       "2          202      test      1\n",
       "3          212      test      1\n",
       "4          213      test      1\n",
       "...        ...       ...    ...\n",
       "65012   168538      test      1\n",
       "65013   168541   control      1\n",
       "65014   168544      test      0\n",
       "65015   168545      test      1\n",
       "65016   168552   control      0\n",
       "\n",
       "[65017 rows x 3 columns]"
      ]
     },
     "execution_count": 23,
     "metadata": {},
     "output_type": "execute_result"
    }
   ],
   "source": [
    "df_liked"
   ]
  },
  {
   "cell_type": "code",
   "execution_count": 24,
   "id": "f132fae0-0dd0-4610-b08c-72f6d2365aae",
   "metadata": {},
   "outputs": [
    {
     "data": {
      "text/plain": [
       "0.8947659842810342"
      ]
     },
     "execution_count": 24,
     "metadata": {},
     "output_type": "execute_result"
    }
   ],
   "source": [
    "df_liked.liked.sum() / df_liked.shape[0]"
   ]
  },
  {
   "cell_type": "markdown",
   "id": "5725ffec-dc78-497c-88a2-b80303920b06",
   "metadata": {},
   "source": [
    "### Task 4"
   ]
  },
  {
   "cell_type": "markdown",
   "id": "8168be00-6cf8-40f5-bff2-9661f5addc26",
   "metadata": {},
   "source": [
    "Is there a statistically significant difference for a metric `number of likes per user`?"
   ]
  },
  {
   "cell_type": "code",
   "execution_count": 25,
   "id": "13a6c077-5d4c-4688-9910-aec58e0423de",
   "metadata": {},
   "outputs": [],
   "source": [
    "df_likes_per_user = df.groupby(['user_id', 'exp_group'], as_index=False).agg({'liked': 'sum'})"
   ]
  },
  {
   "cell_type": "code",
   "execution_count": 26,
   "id": "98fdc107-d83c-489a-8777-b759d785550b",
   "metadata": {},
   "outputs": [
    {
     "data": {
      "text/html": [
       "<div>\n",
       "<style scoped>\n",
       "    .dataframe tbody tr th:only-of-type {\n",
       "        vertical-align: middle;\n",
       "    }\n",
       "\n",
       "    .dataframe tbody tr th {\n",
       "        vertical-align: top;\n",
       "    }\n",
       "\n",
       "    .dataframe thead th {\n",
       "        text-align: right;\n",
       "    }\n",
       "</style>\n",
       "<table border=\"1\" class=\"dataframe\">\n",
       "  <thead>\n",
       "    <tr style=\"text-align: right;\">\n",
       "      <th></th>\n",
       "      <th>user_id</th>\n",
       "      <th>exp_group</th>\n",
       "      <th>liked</th>\n",
       "    </tr>\n",
       "  </thead>\n",
       "  <tbody>\n",
       "    <tr>\n",
       "      <th>0</th>\n",
       "      <td>200</td>\n",
       "      <td>test</td>\n",
       "      <td>1</td>\n",
       "    </tr>\n",
       "    <tr>\n",
       "      <th>1</th>\n",
       "      <td>201</td>\n",
       "      <td>test</td>\n",
       "      <td>18</td>\n",
       "    </tr>\n",
       "    <tr>\n",
       "      <th>2</th>\n",
       "      <td>202</td>\n",
       "      <td>test</td>\n",
       "      <td>2</td>\n",
       "    </tr>\n",
       "    <tr>\n",
       "      <th>3</th>\n",
       "      <td>212</td>\n",
       "      <td>test</td>\n",
       "      <td>12</td>\n",
       "    </tr>\n",
       "    <tr>\n",
       "      <th>4</th>\n",
       "      <td>213</td>\n",
       "      <td>test</td>\n",
       "      <td>35</td>\n",
       "    </tr>\n",
       "    <tr>\n",
       "      <th>...</th>\n",
       "      <td>...</td>\n",
       "      <td>...</td>\n",
       "      <td>...</td>\n",
       "    </tr>\n",
       "    <tr>\n",
       "      <th>65012</th>\n",
       "      <td>168538</td>\n",
       "      <td>test</td>\n",
       "      <td>15</td>\n",
       "    </tr>\n",
       "    <tr>\n",
       "      <th>65013</th>\n",
       "      <td>168541</td>\n",
       "      <td>control</td>\n",
       "      <td>4</td>\n",
       "    </tr>\n",
       "    <tr>\n",
       "      <th>65014</th>\n",
       "      <td>168544</td>\n",
       "      <td>test</td>\n",
       "      <td>0</td>\n",
       "    </tr>\n",
       "    <tr>\n",
       "      <th>65015</th>\n",
       "      <td>168545</td>\n",
       "      <td>test</td>\n",
       "      <td>20</td>\n",
       "    </tr>\n",
       "    <tr>\n",
       "      <th>65016</th>\n",
       "      <td>168552</td>\n",
       "      <td>control</td>\n",
       "      <td>0</td>\n",
       "    </tr>\n",
       "  </tbody>\n",
       "</table>\n",
       "<p>65017 rows × 3 columns</p>\n",
       "</div>"
      ],
      "text/plain": [
       "       user_id exp_group  liked\n",
       "0          200      test      1\n",
       "1          201      test     18\n",
       "2          202      test      2\n",
       "3          212      test     12\n",
       "4          213      test     35\n",
       "...        ...       ...    ...\n",
       "65012   168538      test     15\n",
       "65013   168541   control      4\n",
       "65014   168544      test      0\n",
       "65015   168545      test     20\n",
       "65016   168552   control      0\n",
       "\n",
       "[65017 rows x 3 columns]"
      ]
     },
     "execution_count": 26,
     "metadata": {},
     "output_type": "execute_result"
    }
   ],
   "source": [
    "df_likes_per_user"
   ]
  },
  {
   "cell_type": "code",
   "execution_count": 27,
   "id": "003be294-7498-4b37-ae52-49844ff6d243",
   "metadata": {},
   "outputs": [],
   "source": [
    "df_likes_per_user_test = df_likes_per_user[df_likes_per_user['exp_group'] == 'test']"
   ]
  },
  {
   "cell_type": "code",
   "execution_count": 28,
   "id": "d51767c3-6fdd-4584-a3d0-b0007da9c398",
   "metadata": {},
   "outputs": [],
   "source": [
    "df_likes_per_user_control = df_likes_per_user[df_likes_per_user['exp_group'] == 'control']"
   ]
  },
  {
   "cell_type": "code",
   "execution_count": 29,
   "id": "4e3aba98-24fa-40bb-8315-cb7e32010b16",
   "metadata": {},
   "outputs": [],
   "source": [
    "from scipy.stats import mannwhitneyu"
   ]
  },
  {
   "cell_type": "code",
   "execution_count": 30,
   "id": "ab841670-67c2-43c2-8564-c6442f204aa3",
   "metadata": {},
   "outputs": [],
   "source": [
    "_, pval = mannwhitneyu(df_likes_per_user_control.liked, df_likes_per_user_test.liked)"
   ]
  },
  {
   "cell_type": "code",
   "execution_count": 31,
   "id": "a901b600-09ff-4d50-9fe5-3f40bd02782d",
   "metadata": {},
   "outputs": [
    {
     "name": "stdout",
     "output_type": "stream",
     "text": [
      "p-value = 0.0183 --> there is a statistically significant difference.\n"
     ]
    }
   ],
   "source": [
    "alpha = 0.05\n",
    "\n",
    "if pval < alpha:\n",
    "    print(f'p-value = {pval:.4f} --> there is a statistically significant difference.')\n",
    "else:\n",
    "    print(f'p-value = {pval:.4f} --> there is NO statistically significant difference.')"
   ]
  },
  {
   "cell_type": "markdown",
   "id": "784b2789-7788-4e36-9219-9a1bafdc2dcd",
   "metadata": {},
   "source": [
    "### Task 5"
   ]
  },
  {
   "cell_type": "markdown",
   "id": "7d87125e-c449-4038-8222-9e436f024b60",
   "metadata": {},
   "source": [
    "Is there a statistically significant difference for a metric `convertion to likes`?"
   ]
  },
  {
   "cell_type": "code",
   "execution_count": 32,
   "id": "26b304ec-0549-4ae9-b64a-06175f72141b",
   "metadata": {},
   "outputs": [],
   "source": [
    "df_liked_test = df_liked[df_liked['exp_group'] == 'test']"
   ]
  },
  {
   "cell_type": "code",
   "execution_count": 33,
   "id": "2ca64715-7014-4adb-8fcd-ebfb6f756f1e",
   "metadata": {},
   "outputs": [],
   "source": [
    "df_liked_control = df_liked[df_liked['exp_group'] == 'control']"
   ]
  },
  {
   "cell_type": "code",
   "execution_count": 34,
   "id": "dee89ba0-c11d-48ef-8b20-09239491773b",
   "metadata": {},
   "outputs": [],
   "source": [
    "from scipy.stats import ttest_ind"
   ]
  },
  {
   "cell_type": "code",
   "execution_count": 35,
   "id": "0af79b9e-e85e-4e91-89fd-754e082eb177",
   "metadata": {},
   "outputs": [],
   "source": [
    "_, pval = ttest_ind(df_liked_control.liked, df_liked_test.liked)"
   ]
  },
  {
   "cell_type": "code",
   "execution_count": 36,
   "id": "10228aca-8bd5-48c7-9422-2983da7e1df7",
   "metadata": {},
   "outputs": [
    {
     "name": "stdout",
     "output_type": "stream",
     "text": [
      "p-value = 0.0045 --> there is a statistically significant difference.\n"
     ]
    }
   ],
   "source": [
    "alpha = 0.05\n",
    "\n",
    "if pval < alpha:\n",
    "    print(f'p-value = {pval:.4f} --> there is a statistically significant difference.')\n",
    "else:\n",
    "    print(f'p-value = {pval:.4f} --> there is NO statistically significant difference.')"
   ]
  },
  {
   "cell_type": "markdown",
   "id": "13471d97-fc23-485e-b7d5-23045bdc025c",
   "metadata": {},
   "source": [
    "### Task 6"
   ]
  },
  {
   "cell_type": "markdown",
   "id": "f026873b-b63b-49d9-97a8-11650343500d",
   "metadata": {},
   "source": [
    "Calculate hitrate metric for our recommendations. "
   ]
  },
  {
   "cell_type": "code",
   "execution_count": 37,
   "id": "ddbb12de-b6cf-4d46-98a0-1ac39617e6c1",
   "metadata": {},
   "outputs": [
    {
     "data": {
      "text/html": [
       "<div>\n",
       "<style scoped>\n",
       "    .dataframe tbody tr th:only-of-type {\n",
       "        vertical-align: middle;\n",
       "    }\n",
       "\n",
       "    .dataframe tbody tr th {\n",
       "        vertical-align: top;\n",
       "    }\n",
       "\n",
       "    .dataframe thead th {\n",
       "        text-align: right;\n",
       "    }\n",
       "</style>\n",
       "<table border=\"1\" class=\"dataframe\">\n",
       "  <thead>\n",
       "    <tr style=\"text-align: right;\">\n",
       "      <th></th>\n",
       "      <th>user_id</th>\n",
       "      <th>exp_group</th>\n",
       "      <th>recommendations</th>\n",
       "      <th>timestamp_x</th>\n",
       "      <th>post_id</th>\n",
       "      <th>timestamp_y</th>\n",
       "      <th>liked</th>\n",
       "    </tr>\n",
       "  </thead>\n",
       "  <tbody>\n",
       "    <tr>\n",
       "      <th>0</th>\n",
       "      <td>128381</td>\n",
       "      <td>control</td>\n",
       "      <td>[3644 4529 4704 5294 4808]</td>\n",
       "      <td>1654030803</td>\n",
       "      <td>4704.0</td>\n",
       "      <td>1.654031e+09</td>\n",
       "      <td>1</td>\n",
       "    </tr>\n",
       "    <tr>\n",
       "      <th>1</th>\n",
       "      <td>128381</td>\n",
       "      <td>control</td>\n",
       "      <td>[3644 4529 4704 5294 4808]</td>\n",
       "      <td>1654030803</td>\n",
       "      <td>5294.0</td>\n",
       "      <td>1.654031e+09</td>\n",
       "      <td>1</td>\n",
       "    </tr>\n",
       "    <tr>\n",
       "      <th>2</th>\n",
       "      <td>128381</td>\n",
       "      <td>control</td>\n",
       "      <td>[3644 4529 4704 5294 4808]</td>\n",
       "      <td>1654030803</td>\n",
       "      <td>3608.0</td>\n",
       "      <td>1.655049e+09</td>\n",
       "      <td>1</td>\n",
       "    </tr>\n",
       "    <tr>\n",
       "      <th>3</th>\n",
       "      <td>128381</td>\n",
       "      <td>control</td>\n",
       "      <td>[3644 4529 4704 5294 4808]</td>\n",
       "      <td>1654030803</td>\n",
       "      <td>2542.0</td>\n",
       "      <td>1.655049e+09</td>\n",
       "      <td>1</td>\n",
       "    </tr>\n",
       "    <tr>\n",
       "      <th>4</th>\n",
       "      <td>128381</td>\n",
       "      <td>control</td>\n",
       "      <td>[3644 4529 4704 5294 4808]</td>\n",
       "      <td>1654030803</td>\n",
       "      <td>4165.0</td>\n",
       "      <td>1.655053e+09</td>\n",
       "      <td>1</td>\n",
       "    </tr>\n",
       "  </tbody>\n",
       "</table>\n",
       "</div>"
      ],
      "text/plain": [
       "   user_id exp_group             recommendations  timestamp_x  post_id  \\\n",
       "0   128381   control  [3644 4529 4704 5294 4808]   1654030803   4704.0   \n",
       "1   128381   control  [3644 4529 4704 5294 4808]   1654030803   5294.0   \n",
       "2   128381   control  [3644 4529 4704 5294 4808]   1654030803   3608.0   \n",
       "3   128381   control  [3644 4529 4704 5294 4808]   1654030803   2542.0   \n",
       "4   128381   control  [3644 4529 4704 5294 4808]   1654030803   4165.0   \n",
       "\n",
       "    timestamp_y  liked  \n",
       "0  1.654031e+09      1  \n",
       "1  1.654031e+09      1  \n",
       "2  1.655049e+09      1  \n",
       "3  1.655049e+09      1  \n",
       "4  1.655053e+09      1  "
      ]
     },
     "execution_count": 37,
     "metadata": {},
     "output_type": "execute_result"
    }
   ],
   "source": [
    "df.head()"
   ]
  },
  {
   "cell_type": "code",
   "execution_count": 38,
   "id": "bee2c6dc-1708-4d6b-8fd0-aad52b2a4c5e",
   "metadata": {},
   "outputs": [
    {
     "name": "stdout",
     "output_type": "stream",
     "text": [
      "<class 'pandas.core.frame.DataFrame'>\n",
      "Int64Index: 1017173 entries, 0 to 1017172\n",
      "Data columns (total 7 columns):\n",
      " #   Column           Non-Null Count    Dtype  \n",
      "---  ------           --------------    -----  \n",
      " 0   user_id          1017173 non-null  int64  \n",
      " 1   exp_group        1017173 non-null  object \n",
      " 2   recommendations  1017173 non-null  object \n",
      " 3   timestamp_x      1017173 non-null  int64  \n",
      " 4   post_id          1017173 non-null  float64\n",
      " 5   timestamp_y      1017173 non-null  float64\n",
      " 6   liked            1017173 non-null  int64  \n",
      "dtypes: float64(2), int64(3), object(2)\n",
      "memory usage: 62.1+ MB\n"
     ]
    }
   ],
   "source": [
    "df.info()"
   ]
  },
  {
   "cell_type": "code",
   "execution_count": 39,
   "id": "fcff7d81-4db9-46f5-ac08-ac456c2495e9",
   "metadata": {},
   "outputs": [],
   "source": [
    "hitrate_lst = []\n",
    "for index, row in df.iterrows():\n",
    "    recs = row['recommendations']\n",
    "    recs_lst = [int(x) for x in recs.replace('[', '').replace(']', '').split()]\n",
    "    if row['post_id'] in recs_lst:\n",
    "        hitrate_lst.append(1)\n",
    "    else:\n",
    "        hitrate_lst.append(0)"
   ]
  },
  {
   "cell_type": "code",
   "execution_count": 40,
   "id": "f9a7a589-2033-4803-a3fe-55bf2c642e4a",
   "metadata": {},
   "outputs": [],
   "source": [
    "df['hitrate'] = hitrate_lst"
   ]
  },
  {
   "cell_type": "code",
   "execution_count": 41,
   "id": "5f4b81db-5179-4ea0-adad-3933250b34a6",
   "metadata": {},
   "outputs": [
    {
     "data": {
      "text/html": [
       "<div>\n",
       "<style scoped>\n",
       "    .dataframe tbody tr th:only-of-type {\n",
       "        vertical-align: middle;\n",
       "    }\n",
       "\n",
       "    .dataframe tbody tr th {\n",
       "        vertical-align: top;\n",
       "    }\n",
       "\n",
       "    .dataframe thead th {\n",
       "        text-align: right;\n",
       "    }\n",
       "</style>\n",
       "<table border=\"1\" class=\"dataframe\">\n",
       "  <thead>\n",
       "    <tr style=\"text-align: right;\">\n",
       "      <th></th>\n",
       "      <th>user_id</th>\n",
       "      <th>exp_group</th>\n",
       "      <th>recommendations</th>\n",
       "      <th>timestamp_x</th>\n",
       "      <th>post_id</th>\n",
       "      <th>timestamp_y</th>\n",
       "      <th>liked</th>\n",
       "      <th>hitrate</th>\n",
       "    </tr>\n",
       "  </thead>\n",
       "  <tbody>\n",
       "    <tr>\n",
       "      <th>0</th>\n",
       "      <td>128381</td>\n",
       "      <td>control</td>\n",
       "      <td>[3644 4529 4704 5294 4808]</td>\n",
       "      <td>1654030803</td>\n",
       "      <td>4704.0</td>\n",
       "      <td>1.654031e+09</td>\n",
       "      <td>1</td>\n",
       "      <td>1</td>\n",
       "    </tr>\n",
       "    <tr>\n",
       "      <th>1</th>\n",
       "      <td>128381</td>\n",
       "      <td>control</td>\n",
       "      <td>[3644 4529 4704 5294 4808]</td>\n",
       "      <td>1654030803</td>\n",
       "      <td>5294.0</td>\n",
       "      <td>1.654031e+09</td>\n",
       "      <td>1</td>\n",
       "      <td>1</td>\n",
       "    </tr>\n",
       "    <tr>\n",
       "      <th>2</th>\n",
       "      <td>128381</td>\n",
       "      <td>control</td>\n",
       "      <td>[3644 4529 4704 5294 4808]</td>\n",
       "      <td>1654030803</td>\n",
       "      <td>3608.0</td>\n",
       "      <td>1.655049e+09</td>\n",
       "      <td>1</td>\n",
       "      <td>0</td>\n",
       "    </tr>\n",
       "    <tr>\n",
       "      <th>3</th>\n",
       "      <td>128381</td>\n",
       "      <td>control</td>\n",
       "      <td>[3644 4529 4704 5294 4808]</td>\n",
       "      <td>1654030803</td>\n",
       "      <td>2542.0</td>\n",
       "      <td>1.655049e+09</td>\n",
       "      <td>1</td>\n",
       "      <td>0</td>\n",
       "    </tr>\n",
       "    <tr>\n",
       "      <th>4</th>\n",
       "      <td>128381</td>\n",
       "      <td>control</td>\n",
       "      <td>[3644 4529 4704 5294 4808]</td>\n",
       "      <td>1654030803</td>\n",
       "      <td>4165.0</td>\n",
       "      <td>1.655053e+09</td>\n",
       "      <td>1</td>\n",
       "      <td>0</td>\n",
       "    </tr>\n",
       "  </tbody>\n",
       "</table>\n",
       "</div>"
      ],
      "text/plain": [
       "   user_id exp_group             recommendations  timestamp_x  post_id  \\\n",
       "0   128381   control  [3644 4529 4704 5294 4808]   1654030803   4704.0   \n",
       "1   128381   control  [3644 4529 4704 5294 4808]   1654030803   5294.0   \n",
       "2   128381   control  [3644 4529 4704 5294 4808]   1654030803   3608.0   \n",
       "3   128381   control  [3644 4529 4704 5294 4808]   1654030803   2542.0   \n",
       "4   128381   control  [3644 4529 4704 5294 4808]   1654030803   4165.0   \n",
       "\n",
       "    timestamp_y  liked  hitrate  \n",
       "0  1.654031e+09      1        1  \n",
       "1  1.654031e+09      1        1  \n",
       "2  1.655049e+09      1        0  \n",
       "3  1.655049e+09      1        0  \n",
       "4  1.655053e+09      1        0  "
      ]
     },
     "execution_count": 41,
     "metadata": {},
     "output_type": "execute_result"
    }
   ],
   "source": [
    "df.head()"
   ]
  },
  {
   "cell_type": "code",
   "execution_count": 42,
   "id": "fff7cfe5-1412-4306-9c03-588234cfc00e",
   "metadata": {},
   "outputs": [
    {
     "name": "stdout",
     "output_type": "stream",
     "text": [
      "<class 'pandas.core.frame.DataFrame'>\n",
      "Int64Index: 1017173 entries, 0 to 1017172\n",
      "Data columns (total 8 columns):\n",
      " #   Column           Non-Null Count    Dtype  \n",
      "---  ------           --------------    -----  \n",
      " 0   user_id          1017173 non-null  int64  \n",
      " 1   exp_group        1017173 non-null  object \n",
      " 2   recommendations  1017173 non-null  object \n",
      " 3   timestamp_x      1017173 non-null  int64  \n",
      " 4   post_id          1017173 non-null  float64\n",
      " 5   timestamp_y      1017173 non-null  float64\n",
      " 6   liked            1017173 non-null  int64  \n",
      " 7   hitrate          1017173 non-null  int64  \n",
      "dtypes: float64(2), int64(4), object(2)\n",
      "memory usage: 69.8+ MB\n"
     ]
    }
   ],
   "source": [
    "df.info()"
   ]
  },
  {
   "cell_type": "code",
   "execution_count": 43,
   "id": "c54473cb-b2b0-4770-a771-a8f03e31b4a6",
   "metadata": {},
   "outputs": [
    {
     "data": {
      "text/plain": [
       "0.22713442059512"
      ]
     },
     "execution_count": 43,
     "metadata": {},
     "output_type": "execute_result"
    }
   ],
   "source": [
    "df.hitrate.sum() / df.shape[0]"
   ]
  },
  {
   "cell_type": "markdown",
   "id": "b6a4b595-21fe-4389-8edb-e8b3e8b54bd9",
   "metadata": {},
   "source": [
    "Let's filter cases when like was before recommendation. "
   ]
  },
  {
   "cell_type": "code",
   "execution_count": 44,
   "id": "af364a17-e724-40eb-be29-7f62693bffc2",
   "metadata": {},
   "outputs": [],
   "source": [
    "filtered_df = df[pd.to_datetime(df['timestamp_x'], unit='s') < pd.to_datetime(df['timestamp_y'], unit='s')]"
   ]
  },
  {
   "cell_type": "code",
   "execution_count": 45,
   "id": "b2b6fa53-7130-475d-866c-4842ee3a4c6f",
   "metadata": {},
   "outputs": [
    {
     "data": {
      "text/html": [
       "<div>\n",
       "<style scoped>\n",
       "    .dataframe tbody tr th:only-of-type {\n",
       "        vertical-align: middle;\n",
       "    }\n",
       "\n",
       "    .dataframe tbody tr th {\n",
       "        vertical-align: top;\n",
       "    }\n",
       "\n",
       "    .dataframe thead th {\n",
       "        text-align: right;\n",
       "    }\n",
       "</style>\n",
       "<table border=\"1\" class=\"dataframe\">\n",
       "  <thead>\n",
       "    <tr style=\"text-align: right;\">\n",
       "      <th></th>\n",
       "      <th>user_id</th>\n",
       "      <th>exp_group</th>\n",
       "      <th>recommendations</th>\n",
       "      <th>timestamp_x</th>\n",
       "      <th>post_id</th>\n",
       "      <th>timestamp_y</th>\n",
       "      <th>liked</th>\n",
       "      <th>hitrate</th>\n",
       "    </tr>\n",
       "  </thead>\n",
       "  <tbody>\n",
       "    <tr>\n",
       "      <th>0</th>\n",
       "      <td>128381</td>\n",
       "      <td>control</td>\n",
       "      <td>[3644 4529 4704 5294 4808]</td>\n",
       "      <td>1654030803</td>\n",
       "      <td>4704.0</td>\n",
       "      <td>1.654031e+09</td>\n",
       "      <td>1</td>\n",
       "      <td>1</td>\n",
       "    </tr>\n",
       "    <tr>\n",
       "      <th>1</th>\n",
       "      <td>128381</td>\n",
       "      <td>control</td>\n",
       "      <td>[3644 4529 4704 5294 4808]</td>\n",
       "      <td>1654030803</td>\n",
       "      <td>5294.0</td>\n",
       "      <td>1.654031e+09</td>\n",
       "      <td>1</td>\n",
       "      <td>1</td>\n",
       "    </tr>\n",
       "    <tr>\n",
       "      <th>2</th>\n",
       "      <td>128381</td>\n",
       "      <td>control</td>\n",
       "      <td>[3644 4529 4704 5294 4808]</td>\n",
       "      <td>1654030803</td>\n",
       "      <td>3608.0</td>\n",
       "      <td>1.655049e+09</td>\n",
       "      <td>1</td>\n",
       "      <td>0</td>\n",
       "    </tr>\n",
       "    <tr>\n",
       "      <th>3</th>\n",
       "      <td>128381</td>\n",
       "      <td>control</td>\n",
       "      <td>[3644 4529 4704 5294 4808]</td>\n",
       "      <td>1654030803</td>\n",
       "      <td>2542.0</td>\n",
       "      <td>1.655049e+09</td>\n",
       "      <td>1</td>\n",
       "      <td>0</td>\n",
       "    </tr>\n",
       "    <tr>\n",
       "      <th>4</th>\n",
       "      <td>128381</td>\n",
       "      <td>control</td>\n",
       "      <td>[3644 4529 4704 5294 4808]</td>\n",
       "      <td>1654030803</td>\n",
       "      <td>4165.0</td>\n",
       "      <td>1.655053e+09</td>\n",
       "      <td>1</td>\n",
       "      <td>0</td>\n",
       "    </tr>\n",
       "  </tbody>\n",
       "</table>\n",
       "</div>"
      ],
      "text/plain": [
       "   user_id exp_group             recommendations  timestamp_x  post_id  \\\n",
       "0   128381   control  [3644 4529 4704 5294 4808]   1654030803   4704.0   \n",
       "1   128381   control  [3644 4529 4704 5294 4808]   1654030803   5294.0   \n",
       "2   128381   control  [3644 4529 4704 5294 4808]   1654030803   3608.0   \n",
       "3   128381   control  [3644 4529 4704 5294 4808]   1654030803   2542.0   \n",
       "4   128381   control  [3644 4529 4704 5294 4808]   1654030803   4165.0   \n",
       "\n",
       "    timestamp_y  liked  hitrate  \n",
       "0  1.654031e+09      1        1  \n",
       "1  1.654031e+09      1        1  \n",
       "2  1.655049e+09      1        0  \n",
       "3  1.655049e+09      1        0  \n",
       "4  1.655053e+09      1        0  "
      ]
     },
     "execution_count": 45,
     "metadata": {},
     "output_type": "execute_result"
    }
   ],
   "source": [
    "filtered_df.head()"
   ]
  },
  {
   "cell_type": "code",
   "execution_count": 46,
   "id": "71f30a8e-6a9f-4666-85d5-033a65ebedd8",
   "metadata": {},
   "outputs": [
    {
     "data": {
      "text/plain": [
       "0.3733096102693453"
      ]
     },
     "execution_count": 46,
     "metadata": {},
     "output_type": "execute_result"
    }
   ],
   "source": [
    "filtered_df.hitrate.sum() / filtered_df.shape[0]"
   ]
  },
  {
   "cell_type": "markdown",
   "id": "de9c44c2-98c2-4a02-ac69-786f26d3cd6c",
   "metadata": {},
   "source": [
    "Let's filter cases when like happend one hour later than the recommendation was given."
   ]
  },
  {
   "cell_type": "code",
   "execution_count": 47,
   "id": "47cd7900-40bd-4329-bb01-50d89ff93e89",
   "metadata": {},
   "outputs": [],
   "source": [
    "hour_filtered_df = filtered_df[(filtered_df['timestamp_y'] - filtered_df['timestamp_x']) <= 3600]"
   ]
  },
  {
   "cell_type": "code",
   "execution_count": 48,
   "id": "718663e4-a74d-4453-9422-445c472a4c65",
   "metadata": {},
   "outputs": [
    {
     "data": {
      "text/html": [
       "<div>\n",
       "<style scoped>\n",
       "    .dataframe tbody tr th:only-of-type {\n",
       "        vertical-align: middle;\n",
       "    }\n",
       "\n",
       "    .dataframe tbody tr th {\n",
       "        vertical-align: top;\n",
       "    }\n",
       "\n",
       "    .dataframe thead th {\n",
       "        text-align: right;\n",
       "    }\n",
       "</style>\n",
       "<table border=\"1\" class=\"dataframe\">\n",
       "  <thead>\n",
       "    <tr style=\"text-align: right;\">\n",
       "      <th></th>\n",
       "      <th>user_id</th>\n",
       "      <th>exp_group</th>\n",
       "      <th>recommendations</th>\n",
       "      <th>timestamp_x</th>\n",
       "      <th>post_id</th>\n",
       "      <th>timestamp_y</th>\n",
       "      <th>liked</th>\n",
       "      <th>hitrate</th>\n",
       "    </tr>\n",
       "  </thead>\n",
       "  <tbody>\n",
       "    <tr>\n",
       "      <th>0</th>\n",
       "      <td>128381</td>\n",
       "      <td>control</td>\n",
       "      <td>[3644 4529 4704 5294 4808]</td>\n",
       "      <td>1654030803</td>\n",
       "      <td>4704.0</td>\n",
       "      <td>1.654031e+09</td>\n",
       "      <td>1</td>\n",
       "      <td>1</td>\n",
       "    </tr>\n",
       "    <tr>\n",
       "      <th>1</th>\n",
       "      <td>128381</td>\n",
       "      <td>control</td>\n",
       "      <td>[3644 4529 4704 5294 4808]</td>\n",
       "      <td>1654030803</td>\n",
       "      <td>5294.0</td>\n",
       "      <td>1.654031e+09</td>\n",
       "      <td>1</td>\n",
       "      <td>1</td>\n",
       "    </tr>\n",
       "    <tr>\n",
       "      <th>7</th>\n",
       "      <td>146885</td>\n",
       "      <td>test</td>\n",
       "      <td>[1399 1076  797 7015 5942]</td>\n",
       "      <td>1654030811</td>\n",
       "      <td>1399.0</td>\n",
       "      <td>1.654031e+09</td>\n",
       "      <td>1</td>\n",
       "      <td>1</td>\n",
       "    </tr>\n",
       "    <tr>\n",
       "      <th>11</th>\n",
       "      <td>50948</td>\n",
       "      <td>test</td>\n",
       "      <td>[2315 3037 1861 6567 4093]</td>\n",
       "      <td>1654030825</td>\n",
       "      <td>2315.0</td>\n",
       "      <td>1.654031e+09</td>\n",
       "      <td>1</td>\n",
       "      <td>1</td>\n",
       "    </tr>\n",
       "    <tr>\n",
       "      <th>16</th>\n",
       "      <td>37703</td>\n",
       "      <td>test</td>\n",
       "      <td>[2842 1949  162 1588 6794]</td>\n",
       "      <td>1654030826</td>\n",
       "      <td>1588.0</td>\n",
       "      <td>1.654031e+09</td>\n",
       "      <td>1</td>\n",
       "      <td>1</td>\n",
       "    </tr>\n",
       "  </tbody>\n",
       "</table>\n",
       "</div>"
      ],
      "text/plain": [
       "    user_id exp_group             recommendations  timestamp_x  post_id  \\\n",
       "0    128381   control  [3644 4529 4704 5294 4808]   1654030803   4704.0   \n",
       "1    128381   control  [3644 4529 4704 5294 4808]   1654030803   5294.0   \n",
       "7    146885      test  [1399 1076  797 7015 5942]   1654030811   1399.0   \n",
       "11    50948      test  [2315 3037 1861 6567 4093]   1654030825   2315.0   \n",
       "16    37703      test  [2842 1949  162 1588 6794]   1654030826   1588.0   \n",
       "\n",
       "     timestamp_y  liked  hitrate  \n",
       "0   1.654031e+09      1        1  \n",
       "1   1.654031e+09      1        1  \n",
       "7   1.654031e+09      1        1  \n",
       "11  1.654031e+09      1        1  \n",
       "16  1.654031e+09      1        1  "
      ]
     },
     "execution_count": 48,
     "metadata": {},
     "output_type": "execute_result"
    }
   ],
   "source": [
    "hour_filtered_df.head()"
   ]
  },
  {
   "cell_type": "code",
   "execution_count": 49,
   "id": "593b6d2f-4d70-4063-a2bb-13d3e2090913",
   "metadata": {},
   "outputs": [
    {
     "data": {
      "text/plain": [
       "0.9899362629989936"
      ]
     },
     "execution_count": 49,
     "metadata": {},
     "output_type": "execute_result"
    }
   ],
   "source": [
    "hour_filtered_df.hitrate.sum() / hour_filtered_df.shape[0]"
   ]
  },
  {
   "cell_type": "markdown",
   "id": "65517c49-54e2-410b-9ea0-a9cfb5f322d5",
   "metadata": {},
   "source": [
    "### Task 7"
   ]
  },
  {
   "cell_type": "markdown",
   "id": "ae0e47e7-1d06-47dd-a321-a219a1aca800",
   "metadata": {},
   "source": [
    "Check the difference in hitrate before and after filtering. "
   ]
  },
  {
   "cell_type": "markdown",
   "id": "fe6ead28-5128-4906-9f7c-e6d8ba283db4",
   "metadata": {},
   "source": [
    "No filtering. "
   ]
  },
  {
   "cell_type": "code",
   "execution_count": 50,
   "id": "e4f299bc-0e58-4a2c-83f1-10a3e8a37075",
   "metadata": {},
   "outputs": [],
   "source": [
    "hitrate_test = df[df['exp_group'] == 'test'].hitrate"
   ]
  },
  {
   "cell_type": "code",
   "execution_count": 51,
   "id": "c893497c-b2af-4ad3-8e5d-00b41f26b5c2",
   "metadata": {},
   "outputs": [],
   "source": [
    "hitrate_control = df[df['exp_group'] == 'control'].hitrate"
   ]
  },
  {
   "cell_type": "code",
   "execution_count": 52,
   "id": "29972aae-cca5-4033-9ef0-03bd5a798adb",
   "metadata": {},
   "outputs": [
    {
     "data": {
      "text/plain": [
       "0.22673426063325078"
      ]
     },
     "execution_count": 52,
     "metadata": {},
     "output_type": "execute_result"
    }
   ],
   "source": [
    "hitrate_test.mean()"
   ]
  },
  {
   "cell_type": "code",
   "execution_count": 53,
   "id": "b463f206-4610-40ee-94ce-b47c91dcd22c",
   "metadata": {},
   "outputs": [
    {
     "data": {
      "text/plain": [
       "0.22755225080385852"
      ]
     },
     "execution_count": 53,
     "metadata": {},
     "output_type": "execute_result"
    }
   ],
   "source": [
    "hitrate_control.mean()"
   ]
  },
  {
   "cell_type": "code",
   "execution_count": 54,
   "id": "67b47155-a0fa-4d8f-aaf6-96de1665a404",
   "metadata": {},
   "outputs": [],
   "source": [
    "_, pval = ttest_ind(hitrate_control, hitrate_test)"
   ]
  },
  {
   "cell_type": "code",
   "execution_count": 55,
   "id": "229164bf-0a4c-4cd8-b347-19b9e42fdfd8",
   "metadata": {},
   "outputs": [
    {
     "name": "stdout",
     "output_type": "stream",
     "text": [
      "p-value = 0.3250 --> there is NO statistically significant difference.\n"
     ]
    }
   ],
   "source": [
    "alpha = 0.05\n",
    "\n",
    "if pval < alpha:\n",
    "    print(f'p-value = {pval:.4f} --> there is a statistically significant difference.')\n",
    "else:\n",
    "    print(f'p-value = {pval:.4f} --> there is NO statistically significant difference.')"
   ]
  },
  {
   "cell_type": "markdown",
   "id": "b85a2b06-88dd-4837-9da8-cad059eef0b9",
   "metadata": {},
   "source": [
    "Filtering cases when like was before recommendation. "
   ]
  },
  {
   "cell_type": "code",
   "execution_count": 56,
   "id": "f65e516a-9bc0-457e-9f74-fb3d7a192f32",
   "metadata": {},
   "outputs": [],
   "source": [
    "hitrate_test_filtered = filtered_df[filtered_df['exp_group'] == 'test'].hitrate"
   ]
  },
  {
   "cell_type": "code",
   "execution_count": 57,
   "id": "42c52a6b-c7d3-4323-94fd-e4d328aeda77",
   "metadata": {},
   "outputs": [],
   "source": [
    "hitrate_control_filtered = filtered_df[filtered_df['exp_group'] == 'control'].hitrate"
   ]
  },
  {
   "cell_type": "code",
   "execution_count": 58,
   "id": "127d603b-8952-4211-8f15-bf026acc8278",
   "metadata": {},
   "outputs": [
    {
     "data": {
      "text/plain": [
       "0.37234200884756785"
      ]
     },
     "execution_count": 58,
     "metadata": {},
     "output_type": "execute_result"
    }
   ],
   "source": [
    "hitrate_test_filtered.mean()"
   ]
  },
  {
   "cell_type": "code",
   "execution_count": 59,
   "id": "e368d06c-bd1b-4926-b97d-28bcf6973217",
   "metadata": {},
   "outputs": [
    {
     "data": {
      "text/plain": [
       "0.3743217728311637"
      ]
     },
     "execution_count": 59,
     "metadata": {},
     "output_type": "execute_result"
    }
   ],
   "source": [
    "hitrate_control_filtered.mean()"
   ]
  },
  {
   "cell_type": "code",
   "execution_count": 60,
   "id": "4688ae8c-ed2c-463c-bdb9-a3b75e5219bb",
   "metadata": {},
   "outputs": [],
   "source": [
    "_, pval = ttest_ind(hitrate_control_filtered, hitrate_test_filtered)"
   ]
  },
  {
   "cell_type": "code",
   "execution_count": 61,
   "id": "cb0f93e6-6770-4f6e-9b6e-8aae92c55b70",
   "metadata": {},
   "outputs": [
    {
     "name": "stdout",
     "output_type": "stream",
     "text": [
      "p-value = 0.1078 --> there is NO statistically significant difference.\n"
     ]
    }
   ],
   "source": [
    "alpha = 0.05\n",
    "\n",
    "if pval < alpha:\n",
    "    print(f'p-value = {pval:.4f} --> there is a statistically significant difference.')\n",
    "else:\n",
    "    print(f'p-value = {pval:.4f} --> there is NO statistically significant difference.')"
   ]
  },
  {
   "cell_type": "markdown",
   "id": "5cde6e52-c49f-4bcf-85c7-7df7b94ebf39",
   "metadata": {},
   "source": [
    "Filtering cases when like happend one hour later than the recommendation was given."
   ]
  },
  {
   "cell_type": "code",
   "execution_count": 62,
   "id": "cfd7f25b-5157-4e59-8416-d840a7eb42c0",
   "metadata": {},
   "outputs": [],
   "source": [
    "hitrate_test_hour = hour_filtered_df[hour_filtered_df['exp_group'] == 'test'].hitrate"
   ]
  },
  {
   "cell_type": "code",
   "execution_count": 63,
   "id": "c2784be0-31b6-472a-a440-08b3cec7d4c8",
   "metadata": {},
   "outputs": [],
   "source": [
    "hitrate_control_hour = hour_filtered_df[hour_filtered_df['exp_group'] == 'control'].hitrate"
   ]
  },
  {
   "cell_type": "code",
   "execution_count": 64,
   "id": "604e289d-ff5a-41af-b2e9-646255e07ba4",
   "metadata": {},
   "outputs": [
    {
     "data": {
      "text/plain": [
       "0.9899703073860378"
      ]
     },
     "execution_count": 64,
     "metadata": {},
     "output_type": "execute_result"
    }
   ],
   "source": [
    "hitrate_test_hour.mean()"
   ]
  },
  {
   "cell_type": "code",
   "execution_count": 65,
   "id": "a0d288bd-90f8-44e6-b297-ebe951cabf6d",
   "metadata": {},
   "outputs": [
    {
     "data": {
      "text/plain": [
       "0.989900851101167"
      ]
     },
     "execution_count": 65,
     "metadata": {},
     "output_type": "execute_result"
    }
   ],
   "source": [
    "hitrate_control_hour.mean()"
   ]
  },
  {
   "cell_type": "code",
   "execution_count": 66,
   "id": "410ced2b-a901-4627-949a-a4d216bada32",
   "metadata": {},
   "outputs": [],
   "source": [
    "_, pval = ttest_ind(hitrate_control_hour, hitrate_test_hour)"
   ]
  },
  {
   "cell_type": "code",
   "execution_count": 67,
   "id": "528b1e74-5800-42ac-b984-53ee7ab76599",
   "metadata": {},
   "outputs": [
    {
     "name": "stdout",
     "output_type": "stream",
     "text": [
      "p-value = 0.8668 --> there is NO statistically significant difference.\n"
     ]
    }
   ],
   "source": [
    "alpha = 0.05\n",
    "\n",
    "if pval < alpha:\n",
    "    print(f'p-value = {pval:.4f} --> there is a statistically significant difference.')\n",
    "else:\n",
    "    print(f'p-value = {pval:.4f} --> there is NO statistically significant difference.')"
   ]
  }
 ],
 "metadata": {
  "kernelspec": {
   "display_name": "Python 3 (ipykernel)",
   "language": "python",
   "name": "python3"
  },
  "language_info": {
   "codemirror_mode": {
    "name": "ipython",
    "version": 3
   },
   "file_extension": ".py",
   "mimetype": "text/x-python",
   "name": "python",
   "nbconvert_exporter": "python",
   "pygments_lexer": "ipython3",
   "version": "3.8.10"
  }
 },
 "nbformat": 4,
 "nbformat_minor": 5
}
