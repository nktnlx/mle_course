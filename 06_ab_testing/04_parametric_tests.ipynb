{
 "cells": [
  {
   "cell_type": "markdown",
   "id": "de12cd10-b9a4-4826-958d-f26ba859688a",
   "metadata": {},
   "source": [
    "# Parametric Tests"
   ]
  },
  {
   "cell_type": "markdown",
   "id": "d2cc8261-0bcd-48c9-83a6-4b8953f884eb",
   "metadata": {},
   "source": [
    "## Tasks"
   ]
  },
  {
   "cell_type": "markdown",
   "id": "187a7a5c-32ee-4df3-82f9-ad677b9e1d29",
   "metadata": {},
   "source": [
    "### Task 1"
   ]
  },
  {
   "cell_type": "markdown",
   "id": "0c32e26d-7079-4978-a6a4-945b7d5e8a26",
   "metadata": {},
   "source": [
    "Our basic algorithm provides 10% conversion. A new algorithm provides 11.3% convsersion.  \n",
    "We've made 1000 calls to each groups.   \n",
    "Is the difference in conversions statistically signigicant?"
   ]
  },
  {
   "cell_type": "code",
   "execution_count": 1,
   "id": "575efb91-658b-4699-85a4-71cec20fba76",
   "metadata": {},
   "outputs": [],
   "source": [
    "from scipy.stats import binomtest"
   ]
  },
  {
   "cell_type": "code",
   "execution_count": 2,
   "id": "4f5ea1c1-81c0-4417-ae86-ea2ad936146a",
   "metadata": {},
   "outputs": [],
   "source": [
    "result = binomtest(113, 1000, 0.1, alternative='two-sided')"
   ]
  },
  {
   "cell_type": "code",
   "execution_count": 3,
   "id": "ae74d92b-2e73-44de-b591-74ad925a551f",
   "metadata": {},
   "outputs": [
    {
     "name": "stdout",
     "output_type": "stream",
     "text": [
      "p-value = 0.1705 --> There is no statistically siginificant difference.\n"
     ]
    }
   ],
   "source": [
    "alpha = 0.05\n",
    "\n",
    "if result.pvalue < alpha:\n",
    "    print(f'p-value = {result.pvalue:.4f} --> The result is statistically significant')\n",
    "else:\n",
    "    print(f'p-value = {result.pvalue:.4f} --> There is no statistically siginificant difference.')"
   ]
  },
  {
   "cell_type": "markdown",
   "id": "f4999aec-be62-4713-ae78-468f774c83d9",
   "metadata": {},
   "source": [
    "### Task 2"
   ]
  },
  {
   "cell_type": "markdown",
   "id": "39cde8dc-5f17-485b-8478-36a958968886",
   "metadata": {},
   "source": [
    "Suppose we are checking whether the average temperature in our city has changed.  \n",
    "We conducted 100 measurements at different times of the day and in different places, obtained:\n",
    "- a mean value of 18.1 degrees, \n",
    "- the sample standard deviation of 8.2 degrees.   \n",
    "\n",
    "We want to check if the average temperature has changed if it previously was 16.5 degrees.  \n",
    "Calculate the p-value for the Student's t-test, alternative hypothesis is two-sided."
   ]
  },
  {
   "cell_type": "code",
   "execution_count": 4,
   "id": "10b558d8-9eb6-4470-a46e-060602ce0872",
   "metadata": {},
   "outputs": [],
   "source": [
    "from scipy.stats import t"
   ]
  },
  {
   "cell_type": "code",
   "execution_count": 5,
   "id": "45e66746-09a7-4b67-a5ed-01f493daaecb",
   "metadata": {},
   "outputs": [],
   "source": [
    "prev_temp = 16.5\n",
    "now_temp = 18.1\n",
    "std = 8.2\n",
    "sample_size = 100"
   ]
  },
  {
   "cell_type": "code",
   "execution_count": 6,
   "id": "29ed9f3c-69ad-4936-9f5d-34586294b66c",
   "metadata": {},
   "outputs": [],
   "source": [
    "t_statistic = (now_temp - prev_temp) / (std / sample_size**.5)"
   ]
  },
  {
   "cell_type": "code",
   "execution_count": 7,
   "id": "780c1ce6-7553-4809-98ea-2756a615cf32",
   "metadata": {},
   "outputs": [],
   "source": [
    "ddof = sample_size - 1"
   ]
  },
  {
   "cell_type": "code",
   "execution_count": 8,
   "id": "5a057845-063e-47d9-b29b-3135ac967dc3",
   "metadata": {},
   "outputs": [],
   "source": [
    "p_value = t.sf(t_statistic, ddof) * 2"
   ]
  },
  {
   "cell_type": "code",
   "execution_count": 9,
   "id": "f2197412-b941-483e-945b-c5859fb69e00",
   "metadata": {},
   "outputs": [
    {
     "name": "stdout",
     "output_type": "stream",
     "text": [
      "p-value = 0.0539 --> There is no statistically siginificant difference.\n"
     ]
    }
   ],
   "source": [
    "alpha = 0.05\n",
    "\n",
    "if p_value < alpha:\n",
    "    print(f'p-value = {p_value:.4f} --> The result is statistically significant')\n",
    "else:\n",
    "    print(f'p-value = {p_value:.4f} --> There is no statistically siginificant difference.')"
   ]
  },
  {
   "cell_type": "markdown",
   "id": "b1ac43ed-67bc-42e2-8998-74176bb8089c",
   "metadata": {},
   "source": [
    "### Task 3"
   ]
  },
  {
   "cell_type": "markdown",
   "id": "5e65a1d1-3257-42ad-98d5-170c0927c704",
   "metadata": {},
   "source": [
    "Let's use `California Housing` dataset with average house prices.  \n",
    "Let's estimate whether the average incomes in the areas where houses are younger than 30 years and older than 30 years are different.  \n",
    "Use statistical criteria to check whether the averages are equal.  "
   ]
  },
  {
   "cell_type": "code",
   "execution_count": 10,
   "id": "6f948d49-e674-4512-88eb-3b48f51f5787",
   "metadata": {},
   "outputs": [],
   "source": [
    "from sklearn.datasets import fetch_california_housing\n",
    "\n",
    "data = fetch_california_housing(as_frame=True, return_X_y=True)\n",
    "df, target = data[0], data[1] "
   ]
  },
  {
   "cell_type": "code",
   "execution_count": 11,
   "id": "241523f8-16b6-41f5-839e-6cab97b21f57",
   "metadata": {},
   "outputs": [
    {
     "data": {
      "text/html": [
       "<div>\n",
       "<style scoped>\n",
       "    .dataframe tbody tr th:only-of-type {\n",
       "        vertical-align: middle;\n",
       "    }\n",
       "\n",
       "    .dataframe tbody tr th {\n",
       "        vertical-align: top;\n",
       "    }\n",
       "\n",
       "    .dataframe thead th {\n",
       "        text-align: right;\n",
       "    }\n",
       "</style>\n",
       "<table border=\"1\" class=\"dataframe\">\n",
       "  <thead>\n",
       "    <tr style=\"text-align: right;\">\n",
       "      <th></th>\n",
       "      <th>MedInc</th>\n",
       "      <th>HouseAge</th>\n",
       "      <th>AveRooms</th>\n",
       "      <th>AveBedrms</th>\n",
       "      <th>Population</th>\n",
       "      <th>AveOccup</th>\n",
       "      <th>Latitude</th>\n",
       "      <th>Longitude</th>\n",
       "    </tr>\n",
       "  </thead>\n",
       "  <tbody>\n",
       "    <tr>\n",
       "      <th>0</th>\n",
       "      <td>8.3252</td>\n",
       "      <td>41.0</td>\n",
       "      <td>6.984127</td>\n",
       "      <td>1.023810</td>\n",
       "      <td>322.0</td>\n",
       "      <td>2.555556</td>\n",
       "      <td>37.88</td>\n",
       "      <td>-122.23</td>\n",
       "    </tr>\n",
       "    <tr>\n",
       "      <th>1</th>\n",
       "      <td>8.3014</td>\n",
       "      <td>21.0</td>\n",
       "      <td>6.238137</td>\n",
       "      <td>0.971880</td>\n",
       "      <td>2401.0</td>\n",
       "      <td>2.109842</td>\n",
       "      <td>37.86</td>\n",
       "      <td>-122.22</td>\n",
       "    </tr>\n",
       "    <tr>\n",
       "      <th>2</th>\n",
       "      <td>7.2574</td>\n",
       "      <td>52.0</td>\n",
       "      <td>8.288136</td>\n",
       "      <td>1.073446</td>\n",
       "      <td>496.0</td>\n",
       "      <td>2.802260</td>\n",
       "      <td>37.85</td>\n",
       "      <td>-122.24</td>\n",
       "    </tr>\n",
       "    <tr>\n",
       "      <th>3</th>\n",
       "      <td>5.6431</td>\n",
       "      <td>52.0</td>\n",
       "      <td>5.817352</td>\n",
       "      <td>1.073059</td>\n",
       "      <td>558.0</td>\n",
       "      <td>2.547945</td>\n",
       "      <td>37.85</td>\n",
       "      <td>-122.25</td>\n",
       "    </tr>\n",
       "    <tr>\n",
       "      <th>4</th>\n",
       "      <td>3.8462</td>\n",
       "      <td>52.0</td>\n",
       "      <td>6.281853</td>\n",
       "      <td>1.081081</td>\n",
       "      <td>565.0</td>\n",
       "      <td>2.181467</td>\n",
       "      <td>37.85</td>\n",
       "      <td>-122.25</td>\n",
       "    </tr>\n",
       "    <tr>\n",
       "      <th>...</th>\n",
       "      <td>...</td>\n",
       "      <td>...</td>\n",
       "      <td>...</td>\n",
       "      <td>...</td>\n",
       "      <td>...</td>\n",
       "      <td>...</td>\n",
       "      <td>...</td>\n",
       "      <td>...</td>\n",
       "    </tr>\n",
       "    <tr>\n",
       "      <th>20635</th>\n",
       "      <td>1.5603</td>\n",
       "      <td>25.0</td>\n",
       "      <td>5.045455</td>\n",
       "      <td>1.133333</td>\n",
       "      <td>845.0</td>\n",
       "      <td>2.560606</td>\n",
       "      <td>39.48</td>\n",
       "      <td>-121.09</td>\n",
       "    </tr>\n",
       "    <tr>\n",
       "      <th>20636</th>\n",
       "      <td>2.5568</td>\n",
       "      <td>18.0</td>\n",
       "      <td>6.114035</td>\n",
       "      <td>1.315789</td>\n",
       "      <td>356.0</td>\n",
       "      <td>3.122807</td>\n",
       "      <td>39.49</td>\n",
       "      <td>-121.21</td>\n",
       "    </tr>\n",
       "    <tr>\n",
       "      <th>20637</th>\n",
       "      <td>1.7000</td>\n",
       "      <td>17.0</td>\n",
       "      <td>5.205543</td>\n",
       "      <td>1.120092</td>\n",
       "      <td>1007.0</td>\n",
       "      <td>2.325635</td>\n",
       "      <td>39.43</td>\n",
       "      <td>-121.22</td>\n",
       "    </tr>\n",
       "    <tr>\n",
       "      <th>20638</th>\n",
       "      <td>1.8672</td>\n",
       "      <td>18.0</td>\n",
       "      <td>5.329513</td>\n",
       "      <td>1.171920</td>\n",
       "      <td>741.0</td>\n",
       "      <td>2.123209</td>\n",
       "      <td>39.43</td>\n",
       "      <td>-121.32</td>\n",
       "    </tr>\n",
       "    <tr>\n",
       "      <th>20639</th>\n",
       "      <td>2.3886</td>\n",
       "      <td>16.0</td>\n",
       "      <td>5.254717</td>\n",
       "      <td>1.162264</td>\n",
       "      <td>1387.0</td>\n",
       "      <td>2.616981</td>\n",
       "      <td>39.37</td>\n",
       "      <td>-121.24</td>\n",
       "    </tr>\n",
       "  </tbody>\n",
       "</table>\n",
       "<p>20640 rows × 8 columns</p>\n",
       "</div>"
      ],
      "text/plain": [
       "       MedInc  HouseAge  AveRooms  AveBedrms  Population  AveOccup  Latitude  \\\n",
       "0      8.3252      41.0  6.984127   1.023810       322.0  2.555556     37.88   \n",
       "1      8.3014      21.0  6.238137   0.971880      2401.0  2.109842     37.86   \n",
       "2      7.2574      52.0  8.288136   1.073446       496.0  2.802260     37.85   \n",
       "3      5.6431      52.0  5.817352   1.073059       558.0  2.547945     37.85   \n",
       "4      3.8462      52.0  6.281853   1.081081       565.0  2.181467     37.85   \n",
       "...       ...       ...       ...        ...         ...       ...       ...   \n",
       "20635  1.5603      25.0  5.045455   1.133333       845.0  2.560606     39.48   \n",
       "20636  2.5568      18.0  6.114035   1.315789       356.0  3.122807     39.49   \n",
       "20637  1.7000      17.0  5.205543   1.120092      1007.0  2.325635     39.43   \n",
       "20638  1.8672      18.0  5.329513   1.171920       741.0  2.123209     39.43   \n",
       "20639  2.3886      16.0  5.254717   1.162264      1387.0  2.616981     39.37   \n",
       "\n",
       "       Longitude  \n",
       "0        -122.23  \n",
       "1        -122.22  \n",
       "2        -122.24  \n",
       "3        -122.25  \n",
       "4        -122.25  \n",
       "...          ...  \n",
       "20635    -121.09  \n",
       "20636    -121.21  \n",
       "20637    -121.22  \n",
       "20638    -121.32  \n",
       "20639    -121.24  \n",
       "\n",
       "[20640 rows x 8 columns]"
      ]
     },
     "execution_count": 11,
     "metadata": {},
     "output_type": "execute_result"
    }
   ],
   "source": [
    "df"
   ]
  },
  {
   "cell_type": "code",
   "execution_count": 12,
   "id": "b6edf84b-2b8b-4777-b104-0b66d7e093cc",
   "metadata": {},
   "outputs": [],
   "source": [
    "med_inc_younger = df[df['HouseAge'] < 30].MedInc\n",
    "med_inc_older = df[df['HouseAge'] > 30].MedInc"
   ]
  },
  {
   "cell_type": "code",
   "execution_count": 13,
   "id": "6985f8af-05e6-446c-ac7e-bb36fb496613",
   "metadata": {},
   "outputs": [],
   "source": [
    "from scipy.stats import ttest_ind"
   ]
  },
  {
   "cell_type": "code",
   "execution_count": 14,
   "id": "fe8e928b-e073-4ab2-b503-da585ee02306",
   "metadata": {},
   "outputs": [],
   "source": [
    "_, p_value = ttest_ind(med_inc_younger, med_inc_older)"
   ]
  },
  {
   "cell_type": "code",
   "execution_count": 15,
   "id": "881ccff1-7e99-4195-96ea-64dfd53e07a0",
   "metadata": {},
   "outputs": [
    {
     "name": "stdout",
     "output_type": "stream",
     "text": [
      "p-value = 0.0000 --> The result is statistically significant\n"
     ]
    }
   ],
   "source": [
    "alpha = 0.05\n",
    "\n",
    "if p_value < alpha:\n",
    "    print(f'p-value = {p_value:.4f} --> The result is statistically significant')\n",
    "else:\n",
    "    print(f'p-value = {p_value:.4f} --> There is no statistically siginificant difference.')"
   ]
  },
  {
   "cell_type": "markdown",
   "id": "f537aaca-e43b-4546-a4de-8e0d759c1895",
   "metadata": {},
   "source": [
    "### Task 4"
   ]
  },
  {
   "cell_type": "markdown",
   "id": "5b4a4c16-edbd-42d6-8a7d-9c438a78d7d0",
   "metadata": {},
   "source": [
    "Build histograms for the data and calculate the mean statistics. "
   ]
  },
  {
   "cell_type": "code",
   "execution_count": 16,
   "id": "001f99a4-6618-46e0-a4d4-1aaa32bae49f",
   "metadata": {},
   "outputs": [],
   "source": [
    "import numpy as np"
   ]
  },
  {
   "cell_type": "code",
   "execution_count": 17,
   "id": "cc62cadf-6aba-404f-8505-5120a81de38b",
   "metadata": {},
   "outputs": [
    {
     "data": {
      "image/png": "[encoded data removed]",
      "text/plain": [
       "<Figure size 432x288 with 1 Axes>"
      ]
     },
     "metadata": {
      "needs_background": "light"
     },
     "output_type": "display_data"
    }
   ],
   "source": [
    "med_inc_younger.plot(kind='hist');"
   ]
  },
  {
   "cell_type": "code",
   "execution_count": 18,
   "id": "4232d0e0-c360-457f-a8a4-ce689af3f35b",
   "metadata": {},
   "outputs": [
    {
     "data": {
      "text/plain": [
       "4.046167372762208"
      ]
     },
     "execution_count": 18,
     "metadata": {},
     "output_type": "execute_result"
    }
   ],
   "source": [
    "np.mean(med_inc_younger)"
   ]
  },
  {
   "cell_type": "code",
   "execution_count": 19,
   "id": "da02e2cd-7de6-41cb-8cb9-c5437ad1c034",
   "metadata": {},
   "outputs": [
    {
     "data": {
      "image/png": "[encoded data removed]",
      "text/plain": [
       "<Figure size 432x288 with 1 Axes>"
      ]
     },
     "metadata": {
      "needs_background": "light"
     },
     "output_type": "display_data"
    }
   ],
   "source": [
    "med_inc_older.plot(kind='hist');"
   ]
  },
  {
   "cell_type": "code",
   "execution_count": 20,
   "id": "eae2827c-ec80-4bb6-9420-007cc4993f1f",
   "metadata": {},
   "outputs": [
    {
     "data": {
      "text/plain": [
       "3.687664612954187"
      ]
     },
     "execution_count": 20,
     "metadata": {},
     "output_type": "execute_result"
    }
   ],
   "source": [
    "np.mean(med_inc_older)"
   ]
  },
  {
   "cell_type": "markdown",
   "id": "5bcfef7b-6db3-4f23-bf28-af7be4a93756",
   "metadata": {},
   "source": [
    "### Task 5"
   ]
  },
  {
   "cell_type": "markdown",
   "id": "1a7ac5ef-09f2-41cc-9385-bbdee7122c0a",
   "metadata": {},
   "source": [
    "Build `qq-plot` for the data. "
   ]
  },
  {
   "cell_type": "code",
   "execution_count": 21,
   "id": "9b641756-44e2-406b-8e93-7199af6a496e",
   "metadata": {},
   "outputs": [],
   "source": [
    "from sklearn.preprocessing import StandardScaler"
   ]
  },
  {
   "cell_type": "code",
   "execution_count": 22,
   "id": "b8d2125a-6664-4fc7-b650-359050d06f6f",
   "metadata": {},
   "outputs": [],
   "source": [
    "scaler = StandardScaler()"
   ]
  },
  {
   "cell_type": "code",
   "execution_count": 23,
   "id": "7da89b06-2ec7-4e9b-b043-ee2b4d8eb809",
   "metadata": {},
   "outputs": [
    {
     "name": "stderr",
     "output_type": "stream",
     "text": [
      "/opt/conda/lib/python3.8/site-packages/statsmodels/tsa/base/tsa_model.py:7: FutureWarning: pandas.Int64Index is deprecated and will be removed from pandas in a future version. Use pandas.Index with the appropriate dtype instead.\n",
      "  from pandas import (to_datetime, Int64Index, DatetimeIndex, Period,\n",
      "/opt/conda/lib/python3.8/site-packages/statsmodels/tsa/base/tsa_model.py:7: FutureWarning: pandas.Float64Index is deprecated and will be removed from pandas in a future version. Use pandas.Index with the appropriate dtype instead.\n",
      "  from pandas import (to_datetime, Int64Index, DatetimeIndex, Period,\n",
      "/opt/conda/lib/python3.8/site-packages/statsmodels/graphics/gofplots.py:993: UserWarning: marker is redundantly defined by the 'marker' keyword argument and the fmt string \"bo\" (-> marker='o'). The keyword argument will take precedence.\n",
      "  ax.plot(x, y, fmt, **plot_style)\n"
     ]
    },
    {
     "data": {
      "image/png": "[encoded data removed]",
      "text/plain": [
       "<Figure size 432x288 with 1 Axes>"
      ]
     },
     "metadata": {
      "needs_background": "light"
     },
     "output_type": "display_data"
    }
   ],
   "source": [
    "import statsmodels.api as sm\n",
    "\n",
    "\n",
    "sm.qqplot(scaler.fit_transform(med_inc_younger.to_frame()).flatten(), line='45');"
   ]
  },
  {
   "cell_type": "code",
   "execution_count": 24,
   "id": "5744c1db-8a31-4827-a080-85509a59c0c2",
   "metadata": {},
   "outputs": [
    {
     "name": "stderr",
     "output_type": "stream",
     "text": [
      "/opt/conda/lib/python3.8/site-packages/statsmodels/graphics/gofplots.py:993: UserWarning: marker is redundantly defined by the 'marker' keyword argument and the fmt string \"bo\" (-> marker='o'). The keyword argument will take precedence.\n",
      "  ax.plot(x, y, fmt, **plot_style)\n"
     ]
    },
    {
     "data": {
      "image/png": "[encoded data removed]",
      "text/plain": [
       "<Figure size 432x288 with 1 Axes>"
      ]
     },
     "metadata": {
      "needs_background": "light"
     },
     "output_type": "display_data"
    }
   ],
   "source": [
    "sm.qqplot(scaler.fit_transform(med_inc_older.to_frame()).flatten(), line='45');"
   ]
  },
  {
   "cell_type": "markdown",
   "id": "5a960d0f-ddaf-4fff-a223-c21ebe0e20d5",
   "metadata": {},
   "source": [
    "### Task 6"
   ]
  },
  {
   "cell_type": "markdown",
   "id": "bb9de08d-35ab-4753-84ab-0ab86fae4821",
   "metadata": {},
   "source": [
    "Perform `Shapiro-Wilk` test on your data to check for data normality."
   ]
  },
  {
   "cell_type": "code",
   "execution_count": 25,
   "id": "61b7af7f-fef3-44fa-aba4-16342bcadac7",
   "metadata": {},
   "outputs": [],
   "source": [
    "from scipy.stats import shapiro"
   ]
  },
  {
   "cell_type": "code",
   "execution_count": 26,
   "id": "631c6554-aba6-42ce-973c-aeee50722606",
   "metadata": {},
   "outputs": [
    {
     "name": "stderr",
     "output_type": "stream",
     "text": [
      "/opt/conda/lib/python3.8/site-packages/scipy/stats/morestats.py:1760: UserWarning: p-value may not be accurate for N > 5000.\n",
      "  warnings.warn(\"p-value may not be accurate for N > 5000.\")\n"
     ]
    },
    {
     "data": {
      "text/plain": [
       "ShapiroResult(statistic=0.9230860471725464, pvalue=0.0)"
      ]
     },
     "execution_count": 26,
     "metadata": {},
     "output_type": "execute_result"
    }
   ],
   "source": [
    "# The Shapiro-Wilk test tests the null hypothesis that the data was drawn from a normal distribution.\n",
    "shapiro(med_inc_younger)"
   ]
  },
  {
   "cell_type": "code",
   "execution_count": 27,
   "id": "b37ca4d3-e1b8-4787-9f95-03e83ce552d0",
   "metadata": {},
   "outputs": [
    {
     "data": {
      "text/plain": [
       "ShapiroResult(statistic=0.8525030612945557, pvalue=0.0)"
      ]
     },
     "execution_count": 27,
     "metadata": {},
     "output_type": "execute_result"
    }
   ],
   "source": [
    "shapiro(med_inc_older)"
   ]
  },
  {
   "cell_type": "markdown",
   "id": "c9443fa7-c423-41e2-b90a-87e354c572dd",
   "metadata": {},
   "source": [
    "### Task 7"
   ]
  },
  {
   "cell_type": "markdown",
   "id": "da09f506-2862-4135-a6e0-48619deb5cb1",
   "metadata": {},
   "source": [
    "Check the normality of data using `qq-plot` after log-transform."
   ]
  },
  {
   "cell_type": "code",
   "execution_count": 28,
   "id": "7546f4b9-07f7-439d-9123-c6ad7eb32f53",
   "metadata": {},
   "outputs": [],
   "source": [
    "med_inc_younger_log = np.log1p(med_inc_younger)\n",
    "med_inc_older_log = np.log1p(med_inc_older)"
   ]
  },
  {
   "cell_type": "code",
   "execution_count": 29,
   "id": "1a92445c-241c-4c9b-ac84-4eb7485c4379",
   "metadata": {},
   "outputs": [
    {
     "name": "stderr",
     "output_type": "stream",
     "text": [
      "/opt/conda/lib/python3.8/site-packages/statsmodels/graphics/gofplots.py:993: UserWarning: marker is redundantly defined by the 'marker' keyword argument and the fmt string \"bo\" (-> marker='o'). The keyword argument will take precedence.\n",
      "  ax.plot(x, y, fmt, **plot_style)\n"
     ]
    },
    {
     "data": {
      "image/png": "[encoded data removed]",
      "text/plain": [
       "<Figure size 432x288 with 1 Axes>"
      ]
     },
     "metadata": {
      "needs_background": "light"
     },
     "output_type": "display_data"
    }
   ],
   "source": [
    "sm.qqplot(scaler.fit_transform(med_inc_younger_log.to_frame()).flatten(), line='45');"
   ]
  },
  {
   "cell_type": "code",
   "execution_count": 30,
   "id": "0e16c60a-cab8-4249-b372-edef1a941fe0",
   "metadata": {},
   "outputs": [
    {
     "name": "stderr",
     "output_type": "stream",
     "text": [
      "/opt/conda/lib/python3.8/site-packages/statsmodels/graphics/gofplots.py:993: UserWarning: marker is redundantly defined by the 'marker' keyword argument and the fmt string \"bo\" (-> marker='o'). The keyword argument will take precedence.\n",
      "  ax.plot(x, y, fmt, **plot_style)\n"
     ]
    },
    {
     "data": {
      "image/png": "[encoded data removed]",
      "text/plain": [
       "<Figure size 432x288 with 1 Axes>"
      ]
     },
     "metadata": {
      "needs_background": "light"
     },
     "output_type": "display_data"
    }
   ],
   "source": [
    "sm.qqplot(scaler.fit_transform(med_inc_older_log.to_frame()).flatten(), line='45');"
   ]
  },
  {
   "cell_type": "markdown",
   "id": "3316697f-159b-4fad-a286-e802f255b0c3",
   "metadata": {},
   "source": [
    "### Task 8"
   ]
  },
  {
   "cell_type": "markdown",
   "id": "1b8e87c7-291d-430b-b3a9-c1f5db66ce9e",
   "metadata": {},
   "source": [
    "Check the normality of data using `Shapiro-Wilk` test after log-transforming the data."
   ]
  },
  {
   "cell_type": "code",
   "execution_count": 31,
   "id": "4830ce74-8988-42ec-920b-e163d83adc96",
   "metadata": {},
   "outputs": [
    {
     "name": "stderr",
     "output_type": "stream",
     "text": [
      "/opt/conda/lib/python3.8/site-packages/scipy/stats/morestats.py:1760: UserWarning: p-value may not be accurate for N > 5000.\n",
      "  warnings.warn(\"p-value may not be accurate for N > 5000.\")\n"
     ]
    },
    {
     "data": {
      "text/plain": [
       "ShapiroResult(statistic=0.9988382458686829, pvalue=5.976854140499199e-07)"
      ]
     },
     "execution_count": 31,
     "metadata": {},
     "output_type": "execute_result"
    }
   ],
   "source": [
    "shapiro(med_inc_younger_log)"
   ]
  },
  {
   "cell_type": "code",
   "execution_count": 32,
   "id": "7e674ab2-f8c8-4317-a217-69ed387f3a0f",
   "metadata": {},
   "outputs": [
    {
     "data": {
      "text/plain": [
       "ShapiroResult(statistic=0.9900574088096619, pvalue=3.1186841818149454e-25)"
      ]
     },
     "execution_count": 32,
     "metadata": {},
     "output_type": "execute_result"
    }
   ],
   "source": [
    "shapiro(med_inc_older_log)"
   ]
  },
  {
   "cell_type": "markdown",
   "id": "8c0c42ab-6fc7-43d6-a0f6-adc7d4201e91",
   "metadata": {},
   "source": [
    "Although after log-transformation data looks like normal on `qq-plot`, `Shapiro-Wilk` test still rejects the null hypothesis that the data was drawn from a normal distribution."
   ]
  }
 ],
 "metadata": {
  "kernelspec": {
   "display_name": "Python 3 (ipykernel)",
   "language": "python",
   "name": "python3"
  },
  "language_info": {
   "codemirror_mode": {
    "name": "ipython",
    "version": 3
   },
   "file_extension": ".py",
   "mimetype": "text/x-python",
   "name": "python",
   "nbconvert_exporter": "python",
   "pygments_lexer": "ipython3",
   "version": "3.8.10"
  }
 },
 "nbformat": 4,
 "nbformat_minor": 5
}
