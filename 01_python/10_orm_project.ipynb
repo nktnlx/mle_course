{
 "cells": [
  {
   "cell_type": "markdown",
   "id": "6fb4b3cb-23fc-4324-9702-a65c7fe5dd83",
   "metadata": {},
   "source": [
    "# SQLAlchemy ORM project"
   ]
  },
  {
   "cell_type": "markdown",
   "id": "9b67c433-85dc-498e-ac43-ef4b7653ae84",
   "metadata": {},
   "source": [
    "## Tasks"
   ]
  },
  {
   "cell_type": "markdown",
   "id": "9b4fd179-fa93-4826-b21b-72280a1c54fc",
   "metadata": {},
   "source": [
    "### Task 1. \n",
    "\n"
   ]
  },
  {
   "cell_type": "markdown",
   "id": "3360652a-722f-43ca-b995-a175ffefe99f",
   "metadata": {},
   "source": [
    "Create a connection to a database using `sqlalchemy` (save it to a `database.py` file)."
   ]
  },
  {
   "cell_type": "code",
   "execution_count": 1,
   "id": "d6ddffde-ed0c-4963-bc2f-8205d9af7755",
   "metadata": {},
   "outputs": [],
   "source": [
    "from sqlalchemy import create_engine\n",
    "from sqlalchemy.ext.declarative import declarative_base\n",
    "from sqlalchemy.orm import sessionmaker\n",
    "\n",
    "\n",
    "SQLALCHEMY_DATABASE_URL = 'postgresql://login:password.lab.karpov.courses:6432/startml'\n",
    "\n",
    "engine = create_engine(SQLALCHEMY_DATABASE_URL)\n",
    "SessionLocal = sessionmaker(autocommit=False, autoflush=False, bind=engine)\n",
    "\n",
    "Base = declarative_base()\n"
   ]
  },
  {
   "cell_type": "markdown",
   "id": "3cb5b6ac-cb27-4ea4-9cbd-ee6eb9210ed8",
   "metadata": {},
   "source": [
    "### Task 2. "
   ]
  },
  {
   "cell_type": "markdown",
   "id": "f76522d1-ab3b-4629-8f0c-a6efd198223d",
   "metadata": {},
   "source": [
    "Describe `post` table in a `public` schema as a class (save it to a `table_post.py` file). "
   ]
  },
  {
   "cell_type": "code",
   "execution_count": 3,
   "id": "cae738c6-316f-4338-b5f8-0b767654687e",
   "metadata": {},
   "outputs": [],
   "source": [
    "from database import Base, SessionLocal\n",
    "from sqlalchemy import Column, Integer, String\n",
    "\n",
    "\n",
    "class Post(Base):\n",
    "    __tablename__ = 'post'\n",
    "    __table_args__ = {'schema': 'public'}\n",
    "\n",
    "    id = Column(Integer, primary_key=True)\n",
    "    text = Column(String)\n",
    "    topic = Column(String)"
   ]
  },
  {
   "cell_type": "markdown",
   "id": "f75a2cf2-b2ac-488b-984b-4070b179bba0",
   "metadata": {},
   "source": [
    "### Task 3. "
   ]
  },
  {
   "cell_type": "markdown",
   "id": "5d35da28-fd5d-463a-852f-b9205d489023",
   "metadata": {},
   "source": [
    "Make a query to the `post` table in order to find the last 10 ids of the posts having a business topic. Print the result of the query as a list of ids. "
   ]
  },
  {
   "cell_type": "code",
   "execution_count": 8,
   "id": "87f803ff-e235-4445-9ca3-5fd63420d84e",
   "metadata": {},
   "outputs": [],
   "source": [
    "if __name__ == '__main__':\n",
    "    session = SessionLocal()\n",
    "    results = (\n",
    "        session.query(Post)\n",
    "        .filter(Post.topic == 'business')\n",
    "        .order_by(Post.id.desc())\n",
    "        .limit(10)\n",
    "        .all()\n",
    "    )\n",
    "\n",
    "    lst = []\n",
    "    for x in results:\n",
    "        lst.append(x.id)\n",
    "    print(lst)"
   ]
  },
  {
   "cell_type": "markdown",
   "id": "d5461678-6b0b-4607-8dfb-d570a4cc8e87",
   "metadata": {},
   "source": [
    "### Task 4. "
   ]
  },
  {
   "cell_type": "markdown",
   "id": "778c772c-4f16-454c-a05c-7afbe487039f",
   "metadata": {},
   "source": [
    "Describe `user` table in a `public` schema as a class (save it to a `table_user.py` file). "
   ]
  },
  {
   "cell_type": "code",
   "execution_count": null,
   "id": "5fea896f-6410-4965-bf1c-7d81838356fe",
   "metadata": {},
   "outputs": [],
   "source": [
    "class User(Base):\n",
    "    __tablename__ = 'user'\n",
    "    __table_args__ = {'schema': 'public'}\n",
    "\n",
    "    id = Column(Integer, primary_key=True)\n",
    "    gender = Column(Integer)\n",
    "    age = Column(Integer)\n",
    "    country = Column(String)\n",
    "    city = Column(String)\n",
    "    exp_group = Column(Integer)\n",
    "    os = Column(String)\n",
    "    source = Column(String)"
   ]
  },
  {
   "cell_type": "markdown",
   "id": "647588f4-908e-4985-b38d-b93327ee02b6",
   "metadata": {},
   "source": [
    "### Task 5. "
   ]
  },
  {
   "cell_type": "markdown",
   "id": "9602dff4-5eec-43c0-9c87-0dd71817fd1c",
   "metadata": {},
   "source": [
    "Make a query to the `user` table in order to find the top number of users grouped by country and os. Print in descending order only those having more than 100 users.  "
   ]
  },
  {
   "cell_type": "code",
   "execution_count": null,
   "id": "58a27b72-c960-41a3-98cd-e8f3c7c193b5",
   "metadata": {},
   "outputs": [],
   "source": [
    "if __name__ == '__main__':\n",
    "    session = SessionLocal()\n",
    "    query = (\n",
    "        select(User.country, User.os, func.count(User.id).label('user_count'))\n",
    "        .filter(User.exp_group == 3)\n",
    "        .group_by(User.country, User.os)\n",
    "        .having(func.count(User.id) > 100)\n",
    "        .order_by(func.count(User.id).desc())\n",
    "    )\n",
    "\n",
    "    result = session.execute(query).fetchall()\n",
    "    print(result)"
   ]
  },
  {
   "cell_type": "markdown",
   "id": "4adb78ca-b7c6-41af-85a6-6cca964d33b3",
   "metadata": {},
   "source": [
    "### Task 6. "
   ]
  },
  {
   "cell_type": "markdown",
   "id": "433267f2-c481-4583-aad8-682623086a6c",
   "metadata": {},
   "source": [
    "Describe `feed_action` table in a `public` schema as a class (save it to a `table_feed.py` file)."
   ]
  },
  {
   "cell_type": "code",
   "execution_count": null,
   "id": "6a2c4955-a84e-4cee-9ebe-48dd3d72f3ea",
   "metadata": {},
   "outputs": [],
   "source": [
    "from database import Base\n",
    "from sqlalchemy import Column, Integer, String, TIMESTAMP, ForeignKey\n",
    "from table_user import User\n",
    "from table_post import Post\n",
    "\n",
    "\n",
    "class Feed(Base):\n",
    "    __tablename__ = 'feed_action'\n",
    "    __table_args__ = {'schema': 'public'}\n",
    "\n",
    "    user_id = Column(Integer, ForeignKey(User.id), primary_key=True)\n",
    "    post_id = Column(Integer, ForeignKey(Post.id), primary_key=True)\n",
    "    action = Column(String)\n",
    "    time = Column(TIMESTAMP)"
   ]
  },
  {
   "cell_type": "markdown",
   "id": "e4594bb8-3f4d-48a5-84ad-d2e5f4fc461c",
   "metadata": {},
   "source": [
    "### Task 7. "
   ]
  },
  {
   "cell_type": "markdown",
   "id": "0ef87a79-fcd5-43b1-940a-7303c31101c7",
   "metadata": {},
   "source": [
    "Describe all three tables as classes using pydantic `BaseModel` as a parent class (save it to a `schema.py` file)."
   ]
  },
  {
   "cell_type": "code",
   "execution_count": null,
   "id": "c6e51e91-0513-4ac9-8151-b7112c312bbd",
   "metadata": {},
   "outputs": [],
   "source": [
    "import datetime\n",
    "from pydantic import BaseModel\n",
    "\n",
    "\n",
    "class UserGet(BaseModel):\n",
    "    id: int\n",
    "    gender: int\n",
    "    age: int\n",
    "    country: str\n",
    "    city: str\n",
    "    exp_group:int\n",
    "    os: str\n",
    "    source: str\n",
    "\n",
    "    class Config:\n",
    "        orm_mode = True\n",
    "\n",
    "\n",
    "class PostGet(BaseModel):\n",
    "    id: int\n",
    "    text: str\n",
    "    topic: str\n",
    "\n",
    "    class Config:\n",
    "        orm_mode = True\n",
    "\n",
    "\n",
    "class FeedGet(BaseModel):\n",
    "    user_id: int\n",
    "    post_id: int\n",
    "    action: str\n",
    "    time: datetime.datetime\n",
    "\n",
    "    class Config:\n",
    "        orm_mode = True\n"
   ]
  },
  {
   "cell_type": "markdown",
   "id": "6ed7a903-ff7e-44b7-89e7-68ad2f777ef5",
   "metadata": {},
   "source": [
    "### Task 8. "
   ]
  },
  {
   "cell_type": "markdown",
   "id": "82893f8a-c2ae-4164-92d6-b94dd331adc6",
   "metadata": {},
   "source": [
    "Code `GET /user/{id}` and `GET /post/{id}` endpoints using FastAPI (save it to a `app.py` file)."
   ]
  },
  {
   "cell_type": "code",
   "execution_count": null,
   "id": "58940bed-2660-4121-ac82-ac2c62aefe36",
   "metadata": {},
   "outputs": [],
   "source": [
    "from fastapi import FastAPI, HTTPException\n",
    "from fastapi.params import Depends\n",
    "from sqlalchemy.orm import Session\n",
    "\n",
    "from database import SessionLocal\n",
    "from schema import UserGet, PostGet\n",
    "from table_user import User\n",
    "from table_post import Post\n",
    "\n",
    "\n",
    "# task 8\n",
    "app = FastAPI()\n",
    "\n",
    "\n",
    "def get_db():\n",
    "    with SessionLocal() as db:\n",
    "        return db\n",
    "\n",
    "\n",
    "@app.get('/user/{id}', response_model=UserGet)\n",
    "def get_user(id: int, db: Session = Depends(get_db)):\n",
    "    user = db.query(User).filter(User.id == id).one_or_none()\n",
    "\n",
    "    if not user:\n",
    "        raise HTTPException(status_code=404, detail='User not found! Try another id.')\n",
    "    return user\n",
    "\n",
    "\n",
    "@app.get('/post/{id}', response_model=PostGet)\n",
    "def get_post(id: int, db: Session = Depends(get_db)):\n",
    "    post = db.query(Post).filter(Post.id == id).one_or_none()\n",
    "\n",
    "    if not post:\n",
    "        raise HTTPException(status_code=404, detail='Post not found! Try another id.')\n",
    "    return post\n"
   ]
  },
  {
   "cell_type": "markdown",
   "id": "715b92d5-56c3-44ae-8b94-5b071231d569",
   "metadata": {},
   "source": [
    "### Task 9. "
   ]
  },
  {
   "cell_type": "markdown",
   "id": "24bd3a18-efd2-4864-9ee9-e33864e7113b",
   "metadata": {},
   "source": [
    "Code `GET /user/{id}/feed` and `GET /post/{id}/feed` endpoints using FastAPI (save it to a app.py file)."
   ]
  },
  {
   "cell_type": "code",
   "execution_count": null,
   "id": "3fdb2140-602f-4993-a3f9-e1b969a8f087",
   "metadata": {},
   "outputs": [],
   "source": [
    "from fastapi import FastAPI, HTTPException\n",
    "from fastapi.params import Depends\n",
    "from sqlalchemy.orm import Session\n",
    "\n",
    "from database import SessionLocal\n",
    "from typing import List\n",
    "from schema import UserGet, PostGet, FeedGet\n",
    "from table_user import User\n",
    "from table_post import Post\n",
    "from table_feed import Feed\n",
    "\n",
    "\n",
    "# task 8\n",
    "app = FastAPI()\n",
    "\n",
    "\n",
    "def get_db():\n",
    "    with SessionLocal() as db:\n",
    "        return db\n",
    "\n",
    "\n",
    "@app.get('/user/{id}', response_model=UserGet)\n",
    "def get_user(id: int, db: Session = Depends(get_db)):\n",
    "    user = db.query(User).filter(User.id == id).one_or_none()\n",
    "\n",
    "    if not user:\n",
    "        raise HTTPException(status_code=404, detail='User not found! Try another id.')\n",
    "    return user\n",
    "\n",
    "\n",
    "@app.get('/post/{id}', response_model=PostGet)\n",
    "def get_post(id: int, db: Session = Depends(get_db)):\n",
    "    post = db.query(Post).filter(Post.id == id).one_or_none()\n",
    "\n",
    "    if not post:\n",
    "        raise HTTPException(status_code=404, detail='Post not found! Try another id.')\n",
    "    return post\n",
    "\n",
    "\n",
    "# task 9\n",
    "@app.get('/user/{id}/feed', response_model=List[FeedGet])\n",
    "def get_user_feed(id: int, limit: int = 10, db: Session = Depends(get_db)):\n",
    "    feed = db.query(Feed).join(User).filter(Feed.user_id == id).order_by(Feed.time.desc()).limit(limit).all()\n",
    "\n",
    "    if not feed:\n",
    "        raise HTTPException(status_code=200, detail={'message': 'User not found! Try another id.', 'data': []})\n",
    "    return feed\n",
    "\n",
    "\n",
    "@app.get('/post/{id}/feed', response_model=List[FeedGet])\n",
    "def get_user_feed(id: int, limit: int = 10, db: Session = Depends(get_db)):\n",
    "    feed = db.query(Feed).join(Post).filter(Feed.post_id == id).order_by(Feed.time.desc()).limit(limit).all()\n",
    "\n",
    "    if not feed:\n",
    "        raise HTTPException(status_code=200, detail={'message': 'Post not found! Try another id.', 'data': []})\n",
    "    return feed\n"
   ]
  },
  {
   "cell_type": "markdown",
   "id": "a949e7bf-a804-4384-8b64-5835d5b7b4e3",
   "metadata": {},
   "source": [
    "### Task 10. "
   ]
  },
  {
   "cell_type": "markdown",
   "id": "f9bedf4a-e24d-4880-a74b-dc8f31069ac6",
   "metadata": {},
   "source": [
    "Add `relationships` to your classes. Update `table_feed.py` and `schema.py` files. "
   ]
  },
  {
   "cell_type": "markdown",
   "id": "1ab7322e-5e99-4707-81dc-cb730ff384a2",
   "metadata": {},
   "source": [
    "Updated `table_feed.py` file:"
   ]
  },
  {
   "cell_type": "code",
   "execution_count": null,
   "id": "6be30c12-e5be-4853-bbac-3dfd182257b4",
   "metadata": {},
   "outputs": [],
   "source": [
    "from sqlalchemy.orm import relationship\n",
    "\n",
    "from database import Base\n",
    "from sqlalchemy import Column, Integer, String, TIMESTAMP, ForeignKey\n",
    "from table_user import User\n",
    "from table_post import Post\n",
    "\n",
    "\n",
    "# task 6\n",
    "class Feed(Base):\n",
    "    __tablename__ = 'feed_action'\n",
    "    __table_args__ = {'schema': 'public'}\n",
    "\n",
    "    user_id = Column(Integer, ForeignKey(User.id), primary_key=True)\n",
    "    post_id = Column(Integer, ForeignKey(Post.id), primary_key=True)\n",
    "    action = Column(String)\n",
    "    time = Column(TIMESTAMP)\n",
    "\n",
    "    # task 10\n",
    "    user = relationship('User')\n",
    "    post = relationship('Post')"
   ]
  },
  {
   "cell_type": "markdown",
   "id": "467374ec-c8a3-47a1-b0fd-b5cc7b29f86d",
   "metadata": {},
   "source": [
    "Updated `schema.py` file:"
   ]
  },
  {
   "cell_type": "code",
   "execution_count": null,
   "id": "ba49fac5-5e9f-4264-881a-2e0688fc398b",
   "metadata": {},
   "outputs": [],
   "source": [
    "import datetime\n",
    "from pydantic import BaseModel\n",
    "\n",
    "\n",
    "# task 7\n",
    "class UserGet(BaseModel):\n",
    "    id: int\n",
    "    gender: int\n",
    "    age: int\n",
    "    country: str\n",
    "    city: str\n",
    "    exp_group:int\n",
    "    os: str\n",
    "    source: str\n",
    "\n",
    "    class Config:\n",
    "        orm_mode = True\n",
    "\n",
    "\n",
    "class PostGet(BaseModel):\n",
    "    id: int\n",
    "    text: str\n",
    "    topic: str\n",
    "\n",
    "    class Config:\n",
    "        orm_mode = True\n",
    "\n",
    "\n",
    "class FeedGet(BaseModel):\n",
    "    user_id: int\n",
    "    post_id: int\n",
    "    action: str\n",
    "    time: datetime.datetime\n",
    "\n",
    "    #task 10\n",
    "    user: UserGet\n",
    "    post: PostGet\n",
    "\n",
    "    class Config:\n",
    "        orm_mode = True"
   ]
  },
  {
   "cell_type": "markdown",
   "id": "7812f93a-5e53-4fba-a29d-702cf8a876c8",
   "metadata": {},
   "source": [
    "### Task 11. "
   ]
  },
  {
   "cell_type": "markdown",
   "id": "133d7f97-f673-4603-a984-b53c61f961b1",
   "metadata": {},
   "source": [
    "Code `GET /post/recommendations/` endpoints using FastAPI (save it to a app.py file)."
   ]
  },
  {
   "cell_type": "code",
   "execution_count": null,
   "id": "e80258f9-c34b-475d-b62a-405ab8225d85",
   "metadata": {},
   "outputs": [],
   "source": [
    "from fastapi import FastAPI, HTTPException\n",
    "from fastapi.params import Depends\n",
    "from sqlalchemy import func\n",
    "from sqlalchemy.orm import Session\n",
    "\n",
    "from database import SessionLocal\n",
    "from typing import List\n",
    "from schema import UserGet, PostGet, FeedGet\n",
    "from table_user import User\n",
    "from table_post import Post\n",
    "from table_feed import Feed\n",
    "\n",
    "\n",
    "# task 8\n",
    "app = FastAPI()\n",
    "\n",
    "\n",
    "def get_db():\n",
    "    with SessionLocal() as db:\n",
    "        return db\n",
    "\n",
    "\n",
    "@app.get('/user/{id}', response_model=UserGet)\n",
    "def get_user(id: int, db: Session = Depends(get_db)):\n",
    "    user = db.query(User).filter(User.id == id).one_or_none()\n",
    "\n",
    "    if not user:\n",
    "        raise HTTPException(status_code=404, detail='User not found! Try another id.')\n",
    "    return user\n",
    "\n",
    "\n",
    "@app.get('/post/{id}', response_model=PostGet)\n",
    "def get_post(id: int, db: Session = Depends(get_db)):\n",
    "    post = db.query(Post).filter(Post.id == id).one_or_none()\n",
    "\n",
    "    if not post:\n",
    "        raise HTTPException(status_code=404, detail='Post not found! Try another id.')\n",
    "    return post\n",
    "\n",
    "\n",
    "# task 9\n",
    "@app.get('/user/{id}/feed', response_model=List[FeedGet])\n",
    "def get_user_feed(id: int, limit: int = 10, db: Session = Depends(get_db)):\n",
    "    feed = db.query(Feed).join(User).filter(Feed.user_id == id).order_by(Feed.time.desc()).limit(limit).all()\n",
    "\n",
    "    if not feed:\n",
    "        raise HTTPException(status_code=200, detail={'message': 'User not found! Try another id.', 'data': []})\n",
    "    return feed\n",
    "\n",
    "\n",
    "@app.get('/post/{id}/feed', response_model=List[FeedGet])\n",
    "def get_user_feed(id: int, limit: int = 10, db: Session = Depends(get_db)):\n",
    "    feed = db.query(Feed).join(Post).filter(Feed.post_id == id).order_by(Feed.time.desc()).limit(limit).all()\n",
    "\n",
    "    if not feed:\n",
    "        raise HTTPException(status_code=200, detail={'message': 'Post not found! Try another id.', 'data': []})\n",
    "    return feed\n",
    "\n",
    "\n",
    "# task 11\n",
    "@app.get('/post/recommendations/', response_model=List[PostGet])\n",
    "def get_post_recommendations(id: int = None, limit: int = 10, db: Session = Depends(get_db)):\n",
    "    posts = db.query(\n",
    "        Post.id,\n",
    "        Post.text,\n",
    "        Post.topic\n",
    "        #,func.count(Feed.post_id).label('likes_count')\n",
    "    ) \\\n",
    "        .join(Feed, Post.id == Feed.post_id) \\\n",
    "        .filter(Feed.action == 'like') \\\n",
    "        .group_by(Post.id, Post.text, Post.topic) \\\n",
    "        .order_by(func.count(Feed.post_id).desc()) \\\n",
    "        .limit(limit) \\\n",
    "        .all()\n",
    "    return posts\n"
   ]
  },
  {
   "cell_type": "code",
   "execution_count": null,
   "id": "ccf13fe0-4ec9-4b94-9245-776011618809",
   "metadata": {},
   "outputs": [],
   "source": []
  }
 ],
 "metadata": {
  "kernelspec": {
   "display_name": "Python 3 (ipykernel)",
   "language": "python",
   "name": "python3"
  },
  "language_info": {
   "codemirror_mode": {
    "name": "ipython",
    "version": 3
   },
   "file_extension": ".py",
   "mimetype": "text/x-python",
   "name": "python",
   "nbconvert_exporter": "python",
   "pygments_lexer": "ipython3",
   "version": "3.8.10"
  }
 },
 "nbformat": 4,
 "nbformat_minor": 5
}
