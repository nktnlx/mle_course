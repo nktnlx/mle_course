{
 "cells": [
  {
   "cell_type": "markdown",
   "id": "6fb4b3cb-23fc-4324-9702-a65c7fe5dd83",
   "metadata": {},
   "source": [
    "# SQLAlchemy ORM project"
   ]
  },
  {
   "cell_type": "markdown",
   "id": "9b67c433-85dc-498e-ac43-ef4b7653ae84",
   "metadata": {},
   "source": [
    "## Tasks"
   ]
  },
  {
   "cell_type": "markdown",
   "id": "9b4fd179-fa93-4826-b21b-72280a1c54fc",
   "metadata": {},
   "source": [
    "### Task 1. \n",
    "\n"
   ]
  },
  {
   "cell_type": "markdown",
   "id": "3360652a-722f-43ca-b995-a175ffefe99f",
   "metadata": {},
   "source": [
    "Create a connection to a database using `sqlalchemy` (save it to a `database.py` file)."
   ]
  },
  {
   "cell_type": "code",
   "execution_count": 1,
   "id": "d6ddffde-ed0c-4963-bc2f-8205d9af7755",
   "metadata": {},
   "outputs": [],
   "source": [
    "from sqlalchemy import create_engine\n",
    "from sqlalchemy.ext.declarative import declarative_base\n",
    "from sqlalchemy.orm import sessionmaker\n",
    "\n",
    "\n",
    "SQLALCHEMY_DATABASE_URL = 'postgresql://login:password.lab.karpov.courses:6432/startml'\n",
    "\n",
    "engine = create_engine(SQLALCHEMY_DATABASE_URL)\n",
    "SessionLocal = sessionmaker(autocommit=False, autoflush=False, bind=engine)\n",
    "\n",
    "Base = declarative_base()\n"
   ]
  },
  {
   "cell_type": "markdown",
   "id": "3cb5b6ac-cb27-4ea4-9cbd-ee6eb9210ed8",
   "metadata": {},
   "source": [
    "### Task 2. "
   ]
  },
  {
   "cell_type": "markdown",
   "id": "f76522d1-ab3b-4629-8f0c-a6efd198223d",
   "metadata": {},
   "source": [
    "Describe `post` table in a `public` schema as a class (save it to a `table_post.py` file). "
   ]
  },
  {
   "cell_type": "code",
   "execution_count": 3,
   "id": "cae738c6-316f-4338-b5f8-0b767654687e",
   "metadata": {},
   "outputs": [],
   "source": [
    "from database import Base, SessionLocal\n",
    "from sqlalchemy import Column, Integer, String\n",
    "\n",
    "\n",
    "class Post(Base):\n",
    "    __tablename__ = 'post'\n",
    "    __table_args__ = {'schema': 'public'}\n",
    "\n",
    "    id = Column(Integer, primary_key=True)\n",
    "    text = Column(String)\n",
    "    topic = Column(String)"
   ]
  },
  {
   "cell_type": "markdown",
   "id": "f75a2cf2-b2ac-488b-984b-4070b179bba0",
   "metadata": {},
   "source": [
    "### Task 3. "
   ]
  },
  {
   "cell_type": "markdown",
   "id": "5d35da28-fd5d-463a-852f-b9205d489023",
   "metadata": {},
   "source": [
    "Make a query to the `post` table in order to find the last 10 ids of the posts having a business topic. Print the result of the query as a list of ids. "
   ]
  },
  {
   "cell_type": "code",
   "execution_count": 8,
   "id": "87f803ff-e235-4445-9ca3-5fd63420d84e",
   "metadata": {},
   "outputs": [],
   "source": [
    "if __name__ == '__main__':\n",
    "    session = SessionLocal()\n",
    "    results = (\n",
    "        session.query(Post)\n",
    "        .filter(Post.topic == 'business')\n",
    "        .order_by(Post.id.desc())\n",
    "        .limit(10)\n",
    "        .all()\n",
    "    )\n",
    "\n",
    "    lst = []\n",
    "    for x in results:\n",
    "        lst.append(x.id)\n",
    "    print(lst)"
   ]
  },
  {
   "cell_type": "markdown",
   "id": "d5461678-6b0b-4607-8dfb-d570a4cc8e87",
   "metadata": {},
   "source": [
    "### Task 4. "
   ]
  },
  {
   "cell_type": "markdown",
   "id": "778c772c-4f16-454c-a05c-7afbe487039f",
   "metadata": {},
   "source": [
    "tbc.."
   ]
  },
  {
   "cell_type": "code",
   "execution_count": null,
   "id": "5fea896f-6410-4965-bf1c-7d81838356fe",
   "metadata": {},
   "outputs": [],
   "source": []
  },
  {
   "cell_type": "markdown",
   "id": "647588f4-908e-4985-b38d-b93327ee02b6",
   "metadata": {},
   "source": [
    "### Task 5. "
   ]
  },
  {
   "cell_type": "markdown",
   "id": "9602dff4-5eec-43c0-9c87-0dd71817fd1c",
   "metadata": {},
   "source": [
    "tbc.."
   ]
  },
  {
   "cell_type": "code",
   "execution_count": null,
   "id": "58a27b72-c960-41a3-98cd-e8f3c7c193b5",
   "metadata": {},
   "outputs": [],
   "source": []
  },
  {
   "cell_type": "markdown",
   "id": "4adb78ca-b7c6-41af-85a6-6cca964d33b3",
   "metadata": {},
   "source": [
    "### Task 6. "
   ]
  },
  {
   "cell_type": "markdown",
   "id": "433267f2-c481-4583-aad8-682623086a6c",
   "metadata": {},
   "source": [
    "tbc.."
   ]
  },
  {
   "cell_type": "code",
   "execution_count": null,
   "id": "6a2c4955-a84e-4cee-9ebe-48dd3d72f3ea",
   "metadata": {},
   "outputs": [],
   "source": []
  },
  {
   "cell_type": "markdown",
   "id": "e4594bb8-3f4d-48a5-84ad-d2e5f4fc461c",
   "metadata": {},
   "source": [
    "### Task 7. "
   ]
  },
  {
   "cell_type": "markdown",
   "id": "0ef87a79-fcd5-43b1-940a-7303c31101c7",
   "metadata": {},
   "source": [
    "tbc.."
   ]
  },
  {
   "cell_type": "code",
   "execution_count": null,
   "id": "c6e51e91-0513-4ac9-8151-b7112c312bbd",
   "metadata": {},
   "outputs": [],
   "source": []
  },
  {
   "cell_type": "markdown",
   "id": "6ed7a903-ff7e-44b7-89e7-68ad2f777ef5",
   "metadata": {},
   "source": [
    "### Task 8. "
   ]
  },
  {
   "cell_type": "markdown",
   "id": "82893f8a-c2ae-4164-92d6-b94dd331adc6",
   "metadata": {},
   "source": [
    "tbc.."
   ]
  },
  {
   "cell_type": "code",
   "execution_count": null,
   "id": "58940bed-2660-4121-ac82-ac2c62aefe36",
   "metadata": {},
   "outputs": [],
   "source": []
  },
  {
   "cell_type": "markdown",
   "id": "715b92d5-56c3-44ae-8b94-5b071231d569",
   "metadata": {},
   "source": [
    "### Task 9. "
   ]
  },
  {
   "cell_type": "markdown",
   "id": "24bd3a18-efd2-4864-9ee9-e33864e7113b",
   "metadata": {},
   "source": [
    "tbc.."
   ]
  },
  {
   "cell_type": "code",
   "execution_count": null,
   "id": "3fdb2140-602f-4993-a3f9-e1b969a8f087",
   "metadata": {},
   "outputs": [],
   "source": []
  },
  {
   "cell_type": "markdown",
   "id": "a949e7bf-a804-4384-8b64-5835d5b7b4e3",
   "metadata": {},
   "source": [
    "### Task 10. "
   ]
  },
  {
   "cell_type": "markdown",
   "id": "f9bedf4a-e24d-4880-a74b-dc8f31069ac6",
   "metadata": {},
   "source": [
    "tbc.."
   ]
  },
  {
   "cell_type": "code",
   "execution_count": null,
   "id": "faa1dfb4-ca23-496a-84bf-9a76dfef3c1f",
   "metadata": {},
   "outputs": [],
   "source": []
  },
  {
   "cell_type": "markdown",
   "id": "7812f93a-5e53-4fba-a29d-702cf8a876c8",
   "metadata": {},
   "source": [
    "### Task 11. "
   ]
  },
  {
   "cell_type": "markdown",
   "id": "133d7f97-f673-4603-a984-b53c61f961b1",
   "metadata": {},
   "source": [
    "tbc.."
   ]
  },
  {
   "cell_type": "code",
   "execution_count": null,
   "id": "e80258f9-c34b-475d-b62a-405ab8225d85",
   "metadata": {},
   "outputs": [],
   "source": []
  },
  {
   "cell_type": "markdown",
   "id": "f438625d-86ed-4cfc-8600-e2333e7f959a",
   "metadata": {},
   "source": [
    "### Task 12. "
   ]
  },
  {
   "cell_type": "markdown",
   "id": "cea73c50-6669-44a1-9f0d-8d19701cc893",
   "metadata": {},
   "source": [
    "tbc.."
   ]
  },
  {
   "cell_type": "code",
   "execution_count": null,
   "id": "28f8b208-d6ee-4941-852a-7544175fc668",
   "metadata": {},
   "outputs": [],
   "source": []
  },
  {
   "cell_type": "markdown",
   "id": "04c42a23-157e-4a3b-8388-73997a048944",
   "metadata": {},
   "source": [
    "### Task 13. "
   ]
  },
  {
   "cell_type": "markdown",
   "id": "2137905f-c146-466b-8136-db3c98c09255",
   "metadata": {},
   "source": [
    "tbc.."
   ]
  },
  {
   "cell_type": "code",
   "execution_count": null,
   "id": "67950e78-252d-4914-a4d3-b31e717497cb",
   "metadata": {},
   "outputs": [],
   "source": []
  },
  {
   "cell_type": "markdown",
   "id": "525016aa-3b12-4d93-a18d-55cbbbc8d844",
   "metadata": {},
   "source": [
    "### Task 14. "
   ]
  },
  {
   "cell_type": "markdown",
   "id": "d63b0b38-2f22-4a7a-812b-02aeeae727d5",
   "metadata": {},
   "source": [
    "tbc.."
   ]
  },
  {
   "cell_type": "code",
   "execution_count": null,
   "id": "ccf13fe0-4ec9-4b94-9245-776011618809",
   "metadata": {},
   "outputs": [],
   "source": []
  }
 ],
 "metadata": {
  "kernelspec": {
   "display_name": "Python 3 (ipykernel)",
   "language": "python",
   "name": "python3"
  },
  "language_info": {
   "codemirror_mode": {
    "name": "ipython",
    "version": 3
   },
   "file_extension": ".py",
   "mimetype": "text/x-python",
   "name": "python",
   "nbconvert_exporter": "python",
   "pygments_lexer": "ipython3",
   "version": "3.8.10"
  }
 },
 "nbformat": 4,
 "nbformat_minor": 5
}
