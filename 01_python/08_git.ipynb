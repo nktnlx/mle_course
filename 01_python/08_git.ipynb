{
 "cells": [
  {
   "cell_type": "markdown",
   "id": "6fb4b3cb-23fc-4324-9702-a65c7fe5dd83",
   "metadata": {},
   "source": [
    "# Git"
   ]
  },
  {
   "cell_type": "markdown",
   "id": "9b67c433-85dc-498e-ac43-ef4b7653ae84",
   "metadata": {},
   "source": [
    "## Tasks"
   ]
  },
  {
   "cell_type": "markdown",
   "id": "9b4fd179-fa93-4826-b21b-72280a1c54fc",
   "metadata": {},
   "source": [
    "### Task 1. \n",
    "\n"
   ]
  },
  {
   "cell_type": "markdown",
   "id": "3360652a-722f-43ca-b995-a175ffefe99f",
   "metadata": {},
   "source": [
    "Initialize a repository using terminal. "
   ]
  },
  {
   "cell_type": "markdown",
   "id": "2ed5b638-ecdb-47d6-98ee-aec16c8ed244",
   "metadata": {},
   "source": [
    "```bash\n",
    "git init\n",
    "```"
   ]
  },
  {
   "cell_type": "markdown",
   "id": "3cb5b6ac-cb27-4ea4-9cbd-ee6eb9210ed8",
   "metadata": {},
   "source": [
    "### Task 2. "
   ]
  },
  {
   "cell_type": "markdown",
   "id": "f76522d1-ab3b-4629-8f0c-a6efd198223d",
   "metadata": {},
   "source": [
    "Configure a user for this repository. "
   ]
  },
  {
   "cell_type": "markdown",
   "id": "d10e1c13-3de8-4a4c-9131-a3d5896524fe",
   "metadata": {},
   "source": [
    "```bash\n",
    "git config user.name \"user name\"\n",
    "git config user.email \"user@e-mail.com\"\n",
    "```"
   ]
  },
  {
   "cell_type": "markdown",
   "id": "f75a2cf2-b2ac-488b-984b-4070b179bba0",
   "metadata": {},
   "source": [
    "### Task 3. "
   ]
  },
  {
   "cell_type": "markdown",
   "id": "73ca927b-29c1-4566-9a0b-b44ce6656aad",
   "metadata": {},
   "source": [
    "Clone your first repository from gitlab."
   ]
  },
  {
   "cell_type": "markdown",
   "id": "28210c39-7c72-46ac-8c45-4fe4cc636324",
   "metadata": {},
   "source": [
    "```bash\n",
    "git clone https://git.lab......\n",
    "```"
   ]
  },
  {
   "cell_type": "markdown",
   "id": "d5461678-6b0b-4607-8dfb-d570a4cc8e87",
   "metadata": {},
   "source": [
    "### Task 4. "
   ]
  },
  {
   "cell_type": "markdown",
   "id": "778c772c-4f16-454c-a05c-7afbe487039f",
   "metadata": {},
   "source": [
    "Create file 1.txt, add it to a staging area, commit it and then push it to gitlab. "
   ]
  },
  {
   "cell_type": "markdown",
   "id": "b61d7cd8-8b60-4bf1-bee5-bec913279674",
   "metadata": {},
   "source": [
    "```bash\n",
    "vim 1.txt\n",
    "git add 1.txt\n",
    "git commit -m 'create 1.txt'\n",
    "git push\n",
    "```"
   ]
  },
  {
   "cell_type": "markdown",
   "id": "647588f4-908e-4985-b38d-b93327ee02b6",
   "metadata": {},
   "source": [
    "### Task 5. "
   ]
  },
  {
   "cell_type": "markdown",
   "id": "9602dff4-5eec-43c0-9c87-0dd71817fd1c",
   "metadata": {},
   "source": [
    "Check current git status of your repository. "
   ]
  },
  {
   "cell_type": "markdown",
   "id": "a8776aca-6f5d-4c09-81a4-4d8cc350f522",
   "metadata": {},
   "source": [
    "```bash\n",
    "git status\n",
    "```"
   ]
  },
  {
   "cell_type": "markdown",
   "id": "4adb78ca-b7c6-41af-85a6-6cca964d33b3",
   "metadata": {},
   "source": [
    "### Task 6. "
   ]
  },
  {
   "cell_type": "markdown",
   "id": "433267f2-c481-4583-aad8-682623086a6c",
   "metadata": {},
   "source": [
    "tbc.."
   ]
  },
  {
   "cell_type": "markdown",
   "id": "e4594bb8-3f4d-48a5-84ad-d2e5f4fc461c",
   "metadata": {},
   "source": [
    "### Task 7. "
   ]
  },
  {
   "cell_type": "markdown",
   "id": "0ef87a79-fcd5-43b1-940a-7303c31101c7",
   "metadata": {},
   "source": [
    "tbc.."
   ]
  },
  {
   "cell_type": "markdown",
   "id": "6ed7a903-ff7e-44b7-89e7-68ad2f777ef5",
   "metadata": {},
   "source": [
    "### Task 8. "
   ]
  },
  {
   "cell_type": "markdown",
   "id": "82893f8a-c2ae-4164-92d6-b94dd331adc6",
   "metadata": {},
   "source": [
    "tbc.."
   ]
  },
  {
   "cell_type": "markdown",
   "id": "715b92d5-56c3-44ae-8b94-5b071231d569",
   "metadata": {},
   "source": [
    "### Task 9. "
   ]
  },
  {
   "cell_type": "markdown",
   "id": "24bd3a18-efd2-4864-9ee9-e33864e7113b",
   "metadata": {},
   "source": [
    "tbc.."
   ]
  },
  {
   "cell_type": "markdown",
   "id": "a949e7bf-a804-4384-8b64-5835d5b7b4e3",
   "metadata": {},
   "source": [
    "### Task 10. "
   ]
  },
  {
   "cell_type": "markdown",
   "id": "f9bedf4a-e24d-4880-a74b-dc8f31069ac6",
   "metadata": {},
   "source": [
    "tbc.."
   ]
  },
  {
   "cell_type": "markdown",
   "id": "7812f93a-5e53-4fba-a29d-702cf8a876c8",
   "metadata": {},
   "source": [
    "### Task 11. "
   ]
  },
  {
   "cell_type": "markdown",
   "id": "133d7f97-f673-4603-a984-b53c61f961b1",
   "metadata": {},
   "source": [
    "tbc.."
   ]
  },
  {
   "cell_type": "markdown",
   "id": "f438625d-86ed-4cfc-8600-e2333e7f959a",
   "metadata": {},
   "source": [
    "### Task 12. "
   ]
  },
  {
   "cell_type": "markdown",
   "id": "cea73c50-6669-44a1-9f0d-8d19701cc893",
   "metadata": {},
   "source": [
    "tbc.."
   ]
  },
  {
   "cell_type": "markdown",
   "id": "04c42a23-157e-4a3b-8388-73997a048944",
   "metadata": {},
   "source": [
    "### Task 13. "
   ]
  },
  {
   "cell_type": "markdown",
   "id": "2137905f-c146-466b-8136-db3c98c09255",
   "metadata": {},
   "source": [
    "tbc.."
   ]
  },
  {
   "cell_type": "markdown",
   "id": "525016aa-3b12-4d93-a18d-55cbbbc8d844",
   "metadata": {},
   "source": [
    "### Task 14. "
   ]
  },
  {
   "cell_type": "markdown",
   "id": "d63b0b38-2f22-4a7a-812b-02aeeae727d5",
   "metadata": {},
   "source": [
    "tbc.."
   ]
  }
 ],
 "metadata": {
  "kernelspec": {
   "display_name": "Python 3 (ipykernel)",
   "language": "python",
   "name": "python3"
  },
  "language_info": {
   "codemirror_mode": {
    "name": "ipython",
    "version": 3
   },
   "file_extension": ".py",
   "mimetype": "text/x-python",
   "name": "python",
   "nbconvert_exporter": "python",
   "pygments_lexer": "ipython3",
   "version": "3.8.10"
  }
 },
 "nbformat": 4,
 "nbformat_minor": 5
}
