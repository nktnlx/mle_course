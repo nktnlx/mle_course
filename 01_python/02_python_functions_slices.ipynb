{
 "cells": [
  {
   "cell_type": "markdown",
   "id": "6fb4b3cb-23fc-4324-9702-a65c7fe5dd83",
   "metadata": {},
   "source": [
    "# Python Basics"
   ]
  },
  {
   "cell_type": "markdown",
   "id": "9b67c433-85dc-498e-ac43-ef4b7653ae84",
   "metadata": {},
   "source": [
    "## Tasks"
   ]
  },
  {
   "cell_type": "markdown",
   "id": "9b4fd179-fa93-4826-b21b-72280a1c54fc",
   "metadata": {},
   "source": [
    "### Task 1. \n",
    "\n"
   ]
  },
  {
   "cell_type": "markdown",
   "id": "3360652a-722f-43ca-b995-a175ffefe99f",
   "metadata": {},
   "source": [
    "Create a function that calculates a circle square. "
   ]
  },
  {
   "cell_type": "code",
   "execution_count": 1,
   "id": "26b6e4ca-9c37-43fb-a000-78313f246d55",
   "metadata": {},
   "outputs": [
    {
     "data": {
      "text/plain": [
       "153.86"
      ]
     },
     "execution_count": 1,
     "metadata": {},
     "output_type": "execute_result"
    }
   ],
   "source": [
    "def circle_square(radius):\n",
    "    pi = 3.14\n",
    "    return pi * radius ** 2\n",
    "\n",
    "\n",
    "circle_square(7)"
   ]
  },
  {
   "cell_type": "markdown",
   "id": "3cb5b6ac-cb27-4ea4-9cbd-ee6eb9210ed8",
   "metadata": {},
   "source": [
    "### Task 2. "
   ]
  },
  {
   "cell_type": "markdown",
   "id": "f76522d1-ab3b-4629-8f0c-a6efd198223d",
   "metadata": {},
   "source": [
    "Write a function `zip_` that takes two lists as input and 'zips' them together in the following way, for example:  \n",
    "\n",
    "The lists [1, 5, 3, 8, 35] and [2, 7, 9] would become [(1, 2), (5, 7), (3, 9)], i.e. the first elements of the first and second lists are taken and combined into a tuple, then the second elements of the first and second lists are combined into a tuple, and so on, until the end of the shortest list is reached.\n",
    "\n",
    "The function should return the 'zipped' list as output."
   ]
  },
  {
   "cell_type": "code",
   "execution_count": 2,
   "id": "7800c768-6657-491b-adec-0bc140729008",
   "metadata": {},
   "outputs": [
    {
     "data": {
      "text/plain": [
       "[(1, 2), (5, 7), (3, 9)]"
      ]
     },
     "execution_count": 2,
     "metadata": {},
     "output_type": "execute_result"
    }
   ],
   "source": [
    "def zip_(lst_1, lst_2):\n",
    "    new_lst = []\n",
    "    for i in range(min(len(lst_1), len(lst_2))):\n",
    "        new_lst.append((lst_1[i], lst_2[i]))\n",
    "    return new_lst    \n",
    "    \n",
    "    \n",
    "zip_([1, 5, 3, 8, 35], [2, 7, 9])"
   ]
  },
  {
   "cell_type": "code",
   "execution_count": 3,
   "id": "913b6d00-ce8c-415c-a2b7-cd359b87af44",
   "metadata": {},
   "outputs": [
    {
     "data": {
      "text/plain": [
       "[(1, 2), (5, 7), (3, 9)]"
      ]
     },
     "execution_count": 3,
     "metadata": {},
     "output_type": "execute_result"
    }
   ],
   "source": [
    "# the same task with an in-built python zip function\n",
    "[i for i in zip([1, 5, 3, 8, 35], [2, 7, 9])]"
   ]
  },
  {
   "cell_type": "markdown",
   "id": "f75a2cf2-b2ac-488b-984b-4070b179bba0",
   "metadata": {},
   "source": [
    "### Task 3. "
   ]
  },
  {
   "cell_type": "markdown",
   "id": "309fb437-4d89-4525-bf6f-a1bfb4a253d8",
   "metadata": {},
   "source": [
    "Code a function that takes as arguments initial sum, interest rate, years and returns the final amount of a deposit. "
   ]
  },
  {
   "cell_type": "code",
   "execution_count": 4,
   "id": "a68dea64-343d-4e24-a5f7-9d6e9b3e866e",
   "metadata": {},
   "outputs": [
    {
     "data": {
      "text/plain": [
       "1377.01"
      ]
     },
     "execution_count": 4,
     "metadata": {},
     "output_type": "execute_result"
    }
   ],
   "source": [
    "def final_balance(init_sum, interest_rate, years, round_num=2):\n",
    "    return round(init_sum * ((100 + interest_rate) / 100) ** years, round_num)\n",
    "    \n",
    "      \n",
    "final_balance(700, 7, 10)    "
   ]
  },
  {
   "cell_type": "markdown",
   "id": "d5461678-6b0b-4607-8dfb-d570a4cc8e87",
   "metadata": {},
   "source": [
    "### Task 4. "
   ]
  },
  {
   "cell_type": "markdown",
   "id": "2cf34348-b881-4254-87e8-dbe8f3c07ff2",
   "metadata": {},
   "source": [
    "tbc.."
   ]
  },
  {
   "cell_type": "code",
   "execution_count": null,
   "id": "441cd808-ed55-496b-a2f1-dbda8d08cb56",
   "metadata": {},
   "outputs": [],
   "source": []
  },
  {
   "cell_type": "markdown",
   "id": "f102e59c-9e4a-425c-b2fd-9947032459f6",
   "metadata": {},
   "source": [
    "### Task 5. "
   ]
  },
  {
   "cell_type": "markdown",
   "id": "8645e0ad-922c-44cb-aca2-19c3f83e4ed8",
   "metadata": {},
   "source": [
    "tbc.."
   ]
  },
  {
   "cell_type": "code",
   "execution_count": null,
   "id": "75a1c1dc-6493-42d9-81cc-656b3f587e01",
   "metadata": {},
   "outputs": [],
   "source": []
  },
  {
   "cell_type": "markdown",
   "id": "56a26fba-6a63-41d1-9c89-e0ac86160ecd",
   "metadata": {},
   "source": [
    "### Task 6. "
   ]
  },
  {
   "cell_type": "markdown",
   "id": "6a78e2dc-1359-4a90-a87f-f84a99dc9c2d",
   "metadata": {},
   "source": [
    "tbc.."
   ]
  },
  {
   "cell_type": "code",
   "execution_count": null,
   "id": "48d67ae3-467a-4c33-9886-1d6c1a2c1289",
   "metadata": {},
   "outputs": [],
   "source": []
  },
  {
   "cell_type": "markdown",
   "id": "79a841b7-3d90-4d44-a9ce-36e75fc5d212",
   "metadata": {},
   "source": [
    "### Task 7. "
   ]
  },
  {
   "cell_type": "markdown",
   "id": "b0448842-b364-4a2d-aab8-f72abd8c7576",
   "metadata": {},
   "source": [
    "tbc.."
   ]
  },
  {
   "cell_type": "code",
   "execution_count": null,
   "id": "d4c0548f-4f3e-43cd-919c-cb752faee7dc",
   "metadata": {},
   "outputs": [],
   "source": []
  },
  {
   "cell_type": "markdown",
   "id": "e0cf0651-cbbb-4f82-a1cd-d9a6016c802c",
   "metadata": {},
   "source": [
    "### Task 8. "
   ]
  },
  {
   "cell_type": "markdown",
   "id": "aad3a692-701d-4e52-807b-ed936dcf9002",
   "metadata": {},
   "source": [
    "tbc.."
   ]
  },
  {
   "cell_type": "code",
   "execution_count": null,
   "id": "452a8475-b10a-45d7-b341-060968e9de88",
   "metadata": {},
   "outputs": [],
   "source": []
  },
  {
   "cell_type": "markdown",
   "id": "999008e9-238a-459c-bcff-d5ee0ce16643",
   "metadata": {},
   "source": [
    "### Task 9. "
   ]
  },
  {
   "cell_type": "markdown",
   "id": "411ba202-5ea1-467a-83a9-905982325779",
   "metadata": {},
   "source": [
    "tbc.."
   ]
  },
  {
   "cell_type": "code",
   "execution_count": null,
   "id": "3cc6d541-5318-488d-b6da-2a3c99155d7d",
   "metadata": {},
   "outputs": [],
   "source": []
  },
  {
   "cell_type": "markdown",
   "id": "22c6302e-7bba-4dbb-9318-3b5d9f04cee1",
   "metadata": {},
   "source": [
    "### Task 10. "
   ]
  },
  {
   "cell_type": "markdown",
   "id": "7665ebda-16b7-4c93-a3b2-4cd859a76e84",
   "metadata": {},
   "source": [
    "tbc.."
   ]
  },
  {
   "cell_type": "code",
   "execution_count": null,
   "id": "1c5e4b6b-a46f-429a-878d-83553261ee45",
   "metadata": {},
   "outputs": [],
   "source": []
  },
  {
   "cell_type": "markdown",
   "id": "b7bcda03-0471-4014-a3d1-be5f20825dc2",
   "metadata": {},
   "source": [
    "### Task 11. "
   ]
  },
  {
   "cell_type": "markdown",
   "id": "fd9fbddd-1beb-4a5d-90d0-17d33b6d46bb",
   "metadata": {},
   "source": [
    "tbc.."
   ]
  },
  {
   "cell_type": "code",
   "execution_count": null,
   "id": "ebe73353-adc4-424b-b049-63823e298baf",
   "metadata": {},
   "outputs": [],
   "source": []
  },
  {
   "cell_type": "markdown",
   "id": "9df33415-c718-453b-ade3-b316c2d7417d",
   "metadata": {},
   "source": [
    "### Task 12. "
   ]
  },
  {
   "cell_type": "markdown",
   "id": "7db1e3be-5466-474c-b96b-b873722cc927",
   "metadata": {},
   "source": [
    "tbc.."
   ]
  },
  {
   "cell_type": "code",
   "execution_count": null,
   "id": "17387112-61b9-49d9-bcc8-7c0e63c0ee76",
   "metadata": {},
   "outputs": [],
   "source": []
  },
  {
   "cell_type": "code",
   "execution_count": null,
   "id": "423a822b-06cc-4251-8c7c-bc4c14134960",
   "metadata": {},
   "outputs": [],
   "source": []
  }
 ],
 "metadata": {
  "kernelspec": {
   "display_name": "Python 3 (ipykernel)",
   "language": "python",
   "name": "python3"
  },
  "language_info": {
   "codemirror_mode": {
    "name": "ipython",
    "version": 3
   },
   "file_extension": ".py",
   "mimetype": "text/x-python",
   "name": "python",
   "nbconvert_exporter": "python",
   "pygments_lexer": "ipython3",
   "version": "3.8.10"
  }
 },
 "nbformat": 4,
 "nbformat_minor": 5
}
