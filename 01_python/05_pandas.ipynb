{
 "cells": [
  {
   "cell_type": "markdown",
   "id": "6fb4b3cb-23fc-4324-9702-a65c7fe5dd83",
   "metadata": {},
   "source": [
    "# Pandas"
   ]
  },
  {
   "cell_type": "markdown",
   "id": "b9e5e7a8-3972-473a-b2c8-05c5c1372dc6",
   "metadata": {},
   "source": [
    "## Dataset Description"
   ]
  },
  {
   "cell_type": "markdown",
   "id": "2a0189ad-e206-4ab2-9f60-8e115d98fb51",
   "metadata": {},
   "source": [
    "- id - unique identifier of the establishment  \n",
    "- address - physical address of the establishment\n",
    "- categories - categories of the establishment (e.g. \"Fast food restaurant\")\n",
    "- city - city where the establishment is located\n",
    "- cuisines - types of cuisine practiced at the establishment (e.g. \"Mexican\")\n",
    "- dateAdded - date the entry was added (assumed to be the same as the establishment's opening date)\n",
    "- dateUpdated - date the information about the establishment was last updated\n",
    "- latitude - geographic latitude\n",
    "- longitude - geographic longitude\n",
    "- menus:\n",
    "    - category - categories of food on the menu\n",
    "    - currency - currency in which payment is accepted\n",
    "    - dateSeen - date the menu was recorded\n",
    "    - description - menu description provided by the establishment\n",
    "    - name - menu name\n",
    "- name - name of the establishment\n",
    "- province - province (state) where the establishment is located"
   ]
  },
  {
   "cell_type": "markdown",
   "id": "9b67c433-85dc-498e-ac43-ef4b7653ae84",
   "metadata": {},
   "source": [
    "## Tasks"
   ]
  },
  {
   "cell_type": "markdown",
   "id": "9b4fd179-fa93-4826-b21b-72280a1c54fc",
   "metadata": {},
   "source": [
    "### Task 1. \n",
    "\n"
   ]
  },
  {
   "cell_type": "markdown",
   "id": "3360652a-722f-43ca-b995-a175ffefe99f",
   "metadata": {},
   "source": [
    "Load data and view the first three lines of the column `dateAdded`. "
   ]
  },
  {
   "cell_type": "code",
   "execution_count": 1,
   "id": "d09c766c-b84a-46e5-aa67-6fe612858c29",
   "metadata": {},
   "outputs": [],
   "source": [
    "import pandas as pd"
   ]
  },
  {
   "cell_type": "code",
   "execution_count": 2,
   "id": "fb4e67bc-6e79-440b-9163-eb658d413c8c",
   "metadata": {},
   "outputs": [],
   "source": [
    "df = pd.read_csv('05_data.csv')"
   ]
  },
  {
   "cell_type": "code",
   "execution_count": 3,
   "id": "379b1fba-4d7f-4609-bab3-d8c771e338c9",
   "metadata": {},
   "outputs": [
    {
     "data": {
      "text/plain": [
       "0    2016-03-02T11:49:34Z\n",
       "1    2016-03-02T11:49:34Z\n",
       "2    2016-10-14T01:58:25Z\n",
       "Name: dateAdded, dtype: object"
      ]
     },
     "execution_count": 3,
     "metadata": {},
     "output_type": "execute_result"
    }
   ],
   "source": [
    "df['dateAdded'].head(3)"
   ]
  },
  {
   "cell_type": "markdown",
   "id": "3cb5b6ac-cb27-4ea4-9cbd-ee6eb9210ed8",
   "metadata": {},
   "source": [
    "### Task 2. "
   ]
  },
  {
   "cell_type": "markdown",
   "id": "f76522d1-ab3b-4629-8f0c-a6efd198223d",
   "metadata": {},
   "source": [
    "Check data types of the columns in the dataset you have. "
   ]
  },
  {
   "cell_type": "code",
   "execution_count": 4,
   "id": "776f6947-6252-4157-931a-025093952693",
   "metadata": {},
   "outputs": [
    {
     "name": "stdout",
     "output_type": "stream",
     "text": [
      "<class 'pandas.core.frame.DataFrame'>\n",
      "RangeIndex: 77260 entries, 0 to 77259\n",
      "Data columns (total 16 columns):\n",
      " #   Column             Non-Null Count  Dtype  \n",
      "---  ------             --------------  -----  \n",
      " 0   id                 77260 non-null  object \n",
      " 1   address            77260 non-null  object \n",
      " 2   categories         77260 non-null  object \n",
      " 3   city               77260 non-null  object \n",
      " 4   cuisines           38384 non-null  object \n",
      " 5   dateAdded          77260 non-null  object \n",
      " 6   dateUpdated        77260 non-null  object \n",
      " 7   latitude           55636 non-null  float64\n",
      " 8   longitude          55636 non-null  float64\n",
      " 9   menus.category     3729 non-null   object \n",
      " 10  menus.currency     40511 non-null  object \n",
      " 11  menus.dateSeen     77260 non-null  object \n",
      " 12  menus.description  29323 non-null  object \n",
      " 13  menus.name         77260 non-null  object \n",
      " 14  name               77257 non-null  object \n",
      " 15  province           77257 non-null  object \n",
      "dtypes: float64(2), object(14)\n",
      "memory usage: 9.4+ MB\n"
     ]
    }
   ],
   "source": [
    "df.info()"
   ]
  },
  {
   "cell_type": "markdown",
   "id": "f75a2cf2-b2ac-488b-984b-4070b179bba0",
   "metadata": {},
   "source": [
    "### Task 3. "
   ]
  },
  {
   "cell_type": "markdown",
   "id": "309fb437-4d89-4525-bf6f-a1bfb4a253d8",
   "metadata": {},
   "source": [
    "Apply `.describe()` method to the dataset. "
   ]
  },
  {
   "cell_type": "code",
   "execution_count": 5,
   "id": "106282f7-5aae-4134-b30d-7a843d151cbb",
   "metadata": {},
   "outputs": [
    {
     "data": {
      "text/html": [
       "<div>\n",
       "<style scoped>\n",
       "    .dataframe tbody tr th:only-of-type {\n",
       "        vertical-align: middle;\n",
       "    }\n",
       "\n",
       "    .dataframe tbody tr th {\n",
       "        vertical-align: top;\n",
       "    }\n",
       "\n",
       "    .dataframe thead th {\n",
       "        text-align: right;\n",
       "    }\n",
       "</style>\n",
       "<table border=\"1\" class=\"dataframe\">\n",
       "  <thead>\n",
       "    <tr style=\"text-align: right;\">\n",
       "      <th></th>\n",
       "      <th>latitude</th>\n",
       "      <th>longitude</th>\n",
       "    </tr>\n",
       "  </thead>\n",
       "  <tbody>\n",
       "    <tr>\n",
       "      <th>count</th>\n",
       "      <td>55636.000000</td>\n",
       "      <td>55636.000000</td>\n",
       "    </tr>\n",
       "    <tr>\n",
       "      <th>mean</th>\n",
       "      <td>36.694846</td>\n",
       "      <td>-98.713309</td>\n",
       "    </tr>\n",
       "    <tr>\n",
       "      <th>std</th>\n",
       "      <td>4.835124</td>\n",
       "      <td>18.245857</td>\n",
       "    </tr>\n",
       "    <tr>\n",
       "      <th>min</th>\n",
       "      <td>-31.986438</td>\n",
       "      <td>-159.492690</td>\n",
       "    </tr>\n",
       "    <tr>\n",
       "      <th>25%</th>\n",
       "      <td>33.668355</td>\n",
       "      <td>-117.647150</td>\n",
       "    </tr>\n",
       "    <tr>\n",
       "      <th>50%</th>\n",
       "      <td>36.047195</td>\n",
       "      <td>-96.682320</td>\n",
       "    </tr>\n",
       "    <tr>\n",
       "      <th>75%</th>\n",
       "      <td>40.588380</td>\n",
       "      <td>-82.679930</td>\n",
       "    </tr>\n",
       "    <tr>\n",
       "      <th>max</th>\n",
       "      <td>61.219460</td>\n",
       "      <td>115.903696</td>\n",
       "    </tr>\n",
       "  </tbody>\n",
       "</table>\n",
       "</div>"
      ],
      "text/plain": [
       "           latitude     longitude\n",
       "count  55636.000000  55636.000000\n",
       "mean      36.694846    -98.713309\n",
       "std        4.835124     18.245857\n",
       "min      -31.986438   -159.492690\n",
       "25%       33.668355   -117.647150\n",
       "50%       36.047195    -96.682320\n",
       "75%       40.588380    -82.679930\n",
       "max       61.219460    115.903696"
      ]
     },
     "execution_count": 5,
     "metadata": {},
     "output_type": "execute_result"
    }
   ],
   "source": [
    "df.describe()"
   ]
  },
  {
   "cell_type": "markdown",
   "id": "d5461678-6b0b-4607-8dfb-d570a4cc8e87",
   "metadata": {},
   "source": [
    "### Task 4. "
   ]
  },
  {
   "cell_type": "markdown",
   "id": "2cf34348-b881-4254-87e8-dbe8f3c07ff2",
   "metadata": {},
   "source": [
    "Find mean values of the `latitude` and `longitude` columns. Round the result up to two digits. "
   ]
  },
  {
   "cell_type": "code",
   "execution_count": 6,
   "id": "965d5bcd-850a-410a-aa21-7b41049cc2a9",
   "metadata": {},
   "outputs": [
    {
     "data": {
      "text/plain": [
       "36.69"
      ]
     },
     "execution_count": 6,
     "metadata": {},
     "output_type": "execute_result"
    }
   ],
   "source": [
    "round(df['latitude'].mean(), 2)"
   ]
  },
  {
   "cell_type": "code",
   "execution_count": 7,
   "id": "8b4d9789-6b17-4a17-814c-304da6ea0390",
   "metadata": {},
   "outputs": [
    {
     "data": {
      "text/plain": [
       "-98.71"
      ]
     },
     "execution_count": 7,
     "metadata": {},
     "output_type": "execute_result"
    }
   ],
   "source": [
    "round(df['longitude'].mean(), 2)"
   ]
  },
  {
   "cell_type": "markdown",
   "id": "647588f4-908e-4985-b38d-b93327ee02b6",
   "metadata": {},
   "source": [
    "### Task 5. "
   ]
  },
  {
   "cell_type": "markdown",
   "id": "67e7ebfe-c95f-40a3-9eab-92764bfee275",
   "metadata": {},
   "source": [
    "Remove missing values from the dataset. What will be the size of the dataset after missing values removal?"
   ]
  },
  {
   "cell_type": "code",
   "execution_count": 8,
   "id": "7b0b619d-6677-4222-8564-fbcd85739275",
   "metadata": {},
   "outputs": [
    {
     "data": {
      "text/plain": [
       "(1925, 16)"
      ]
     },
     "execution_count": 8,
     "metadata": {},
     "output_type": "execute_result"
    }
   ],
   "source": [
    "df.dropna().shape"
   ]
  },
  {
   "cell_type": "markdown",
   "id": "4adb78ca-b7c6-41af-85a6-6cca964d33b3",
   "metadata": {},
   "source": [
    "### Task 6. "
   ]
  },
  {
   "cell_type": "markdown",
   "id": "a09e91f5-a024-420c-adb0-b14ad33cbc2a",
   "metadata": {},
   "source": [
    "Filter data, only places based in `California` should remain after filtering. List indexes of these places. "
   ]
  },
  {
   "cell_type": "code",
   "execution_count": 9,
   "id": "dda8399b-99ac-41cf-ba88-d753bb97dd55",
   "metadata": {},
   "outputs": [
    {
     "data": {
      "text/plain": [
       "Int64Index([40483, 52930, 52931, 52932, 52933, 52934, 52935, 52936, 52937,\n",
       "            52938, 52939, 65070],\n",
       "           dtype='int64')"
      ]
     },
     "execution_count": 9,
     "metadata": {},
     "output_type": "execute_result"
    }
   ],
   "source": [
    "df[df['city'] == 'California'].index"
   ]
  },
  {
   "cell_type": "markdown",
   "id": "e4594bb8-3f4d-48a5-84ad-d2e5f4fc461c",
   "metadata": {},
   "source": [
    "### Task 7. "
   ]
  },
  {
   "cell_type": "markdown",
   "id": "bc4f63a3-a76f-497c-a60f-c6ccd7ea4f35",
   "metadata": {},
   "source": [
    "Choose only `Taco Bell` locations in `California`. List indexes of these places."
   ]
  },
  {
   "cell_type": "code",
   "execution_count": 10,
   "id": "10a31bd6-836a-4a56-94bc-5d05beb2b96a",
   "metadata": {},
   "outputs": [
    {
     "data": {
      "text/plain": [
       "Int64Index([52930, 52931, 52932, 52933, 52934, 52935, 52936, 52937, 52938,\n",
       "            52939],\n",
       "           dtype='int64')"
      ]
     },
     "execution_count": 10,
     "metadata": {},
     "output_type": "execute_result"
    }
   ],
   "source": [
    "df[(df['city'] == 'California') & (df['name'] == 'Taco Bell')].index"
   ]
  },
  {
   "cell_type": "markdown",
   "id": "6ed7a903-ff7e-44b7-89e7-68ad2f777ef5",
   "metadata": {},
   "source": [
    "### Task 8. "
   ]
  },
  {
   "cell_type": "markdown",
   "id": "c631bdc4-f541-432b-8713-984ad28c7f9b",
   "metadata": {},
   "source": [
    "Please, find `Taco Bell` or any other places located in `New York`, but there should be no menus named as `Volcano Taco` and `Fresco Soft Taco`. Save the output into a new dataframe named `result`."
   ]
  },
  {
   "cell_type": "code",
   "execution_count": 11,
   "id": "06b36216-2040-4156-b32a-70ca22d70643",
   "metadata": {},
   "outputs": [],
   "source": [
    "data = df.copy(deep=True)"
   ]
  },
  {
   "cell_type": "code",
   "execution_count": 12,
   "id": "fb48f806-9ae0-43d4-ac2d-d8f4c377e5d2",
   "metadata": {},
   "outputs": [],
   "source": [
    "result = data[\n",
    "    (\n",
    "        (data['name'] == 'Taco Bell') | (data['city'] == 'New York')\n",
    "    )\n",
    "    &\n",
    "    (\n",
    "        (data['menus.name'] != 'Volcano Taco') & (data['menus.name'] != 'Fresco Soft Taco')\n",
    "    )\n",
    "]"
   ]
  },
  {
   "cell_type": "code",
   "execution_count": 13,
   "id": "7948d350-0e41-4ab9-8b01-e731259852e0",
   "metadata": {},
   "outputs": [
    {
     "data": {
      "text/plain": [
       "(3756, 16)"
      ]
     },
     "execution_count": 13,
     "metadata": {},
     "output_type": "execute_result"
    }
   ],
   "source": [
    "result.shape"
   ]
  },
  {
   "cell_type": "markdown",
   "id": "715b92d5-56c3-44ae-8b94-5b071231d569",
   "metadata": {},
   "source": [
    "### Task 9. "
   ]
  },
  {
   "cell_type": "markdown",
   "id": "78b5675b-a7bf-45df-9e1e-7fe576e3aa25",
   "metadata": {},
   "source": [
    "Filter data where `menus.currency` is not NaN. "
   ]
  },
  {
   "cell_type": "code",
   "execution_count": 14,
   "id": "f9e015b2-8f1b-455f-9710-df2b0185d82b",
   "metadata": {},
   "outputs": [],
   "source": [
    "mask = data['menus.currency'].isna()"
   ]
  },
  {
   "cell_type": "code",
   "execution_count": 15,
   "id": "57c6f354-7df4-47bb-9bb4-2ad0eb2554b1",
   "metadata": {},
   "outputs": [],
   "source": [
    "result = data[~mask]"
   ]
  },
  {
   "cell_type": "code",
   "execution_count": 16,
   "id": "89dac0c3-0a89-4e94-a4e3-e1e14ca6d9d5",
   "metadata": {},
   "outputs": [
    {
     "data": {
      "text/plain": [
       "(40511, 16)"
      ]
     },
     "execution_count": 16,
     "metadata": {},
     "output_type": "execute_result"
    }
   ],
   "source": [
    "result.shape"
   ]
  },
  {
   "cell_type": "markdown",
   "id": "a949e7bf-a804-4384-8b64-5835d5b7b4e3",
   "metadata": {},
   "source": [
    "### Task 10. "
   ]
  },
  {
   "cell_type": "markdown",
   "id": "fc5cbe9d-9ca5-48bb-b2d3-6b18ae77a366",
   "metadata": {},
   "source": [
    "Try to access `categories` column as a Series and as a DataFrame. "
   ]
  },
  {
   "cell_type": "code",
   "execution_count": 17,
   "id": "14f76615-0110-46c9-978a-2808b1b8b753",
   "metadata": {},
   "outputs": [
    {
     "data": {
      "text/plain": [
       "0        Restaurant Delivery Service,Restaurants,Pizza,...\n",
       "1        Restaurant Delivery Service,Restaurants,Pizza,...\n",
       "2             Golf Course, American Restaurant, and Resort\n",
       "3                                     Fast Food Restaurant\n",
       "4        Mexican Restaurant Mid-City West,Mexican Resta...\n",
       "                               ...                        \n",
       "77255                                           Restaurant\n",
       "77256                                           Restaurant\n",
       "77257                                           Restaurant\n",
       "77258                                           Restaurant\n",
       "77259                                           Restaurant\n",
       "Name: categories, Length: 77260, dtype: object"
      ]
     },
     "execution_count": 17,
     "metadata": {},
     "output_type": "execute_result"
    }
   ],
   "source": [
    "data['categories']  # Series"
   ]
  },
  {
   "cell_type": "code",
   "execution_count": 18,
   "id": "2b6d12a2-1869-4fba-a10d-ddbe8d0b26de",
   "metadata": {},
   "outputs": [
    {
     "data": {
      "text/html": [
       "<div>\n",
       "<style scoped>\n",
       "    .dataframe tbody tr th:only-of-type {\n",
       "        vertical-align: middle;\n",
       "    }\n",
       "\n",
       "    .dataframe tbody tr th {\n",
       "        vertical-align: top;\n",
       "    }\n",
       "\n",
       "    .dataframe thead th {\n",
       "        text-align: right;\n",
       "    }\n",
       "</style>\n",
       "<table border=\"1\" class=\"dataframe\">\n",
       "  <thead>\n",
       "    <tr style=\"text-align: right;\">\n",
       "      <th></th>\n",
       "      <th>categories</th>\n",
       "    </tr>\n",
       "  </thead>\n",
       "  <tbody>\n",
       "    <tr>\n",
       "      <th>0</th>\n",
       "      <td>Restaurant Delivery Service,Restaurants,Pizza,...</td>\n",
       "    </tr>\n",
       "    <tr>\n",
       "      <th>1</th>\n",
       "      <td>Restaurant Delivery Service,Restaurants,Pizza,...</td>\n",
       "    </tr>\n",
       "    <tr>\n",
       "      <th>2</th>\n",
       "      <td>Golf Course, American Restaurant, and Resort</td>\n",
       "    </tr>\n",
       "    <tr>\n",
       "      <th>3</th>\n",
       "      <td>Fast Food Restaurant</td>\n",
       "    </tr>\n",
       "    <tr>\n",
       "      <th>4</th>\n",
       "      <td>Mexican Restaurant Mid-City West,Mexican Resta...</td>\n",
       "    </tr>\n",
       "    <tr>\n",
       "      <th>...</th>\n",
       "      <td>...</td>\n",
       "    </tr>\n",
       "    <tr>\n",
       "      <th>77255</th>\n",
       "      <td>Restaurant</td>\n",
       "    </tr>\n",
       "    <tr>\n",
       "      <th>77256</th>\n",
       "      <td>Restaurant</td>\n",
       "    </tr>\n",
       "    <tr>\n",
       "      <th>77257</th>\n",
       "      <td>Restaurant</td>\n",
       "    </tr>\n",
       "    <tr>\n",
       "      <th>77258</th>\n",
       "      <td>Restaurant</td>\n",
       "    </tr>\n",
       "    <tr>\n",
       "      <th>77259</th>\n",
       "      <td>Restaurant</td>\n",
       "    </tr>\n",
       "  </tbody>\n",
       "</table>\n",
       "<p>77260 rows × 1 columns</p>\n",
       "</div>"
      ],
      "text/plain": [
       "                                              categories\n",
       "0      Restaurant Delivery Service,Restaurants,Pizza,...\n",
       "1      Restaurant Delivery Service,Restaurants,Pizza,...\n",
       "2           Golf Course, American Restaurant, and Resort\n",
       "3                                   Fast Food Restaurant\n",
       "4      Mexican Restaurant Mid-City West,Mexican Resta...\n",
       "...                                                  ...\n",
       "77255                                         Restaurant\n",
       "77256                                         Restaurant\n",
       "77257                                         Restaurant\n",
       "77258                                         Restaurant\n",
       "77259                                         Restaurant\n",
       "\n",
       "[77260 rows x 1 columns]"
      ]
     },
     "execution_count": 18,
     "metadata": {},
     "output_type": "execute_result"
    }
   ],
   "source": [
    "data[['categories']]  # DataFrame"
   ]
  },
  {
   "cell_type": "markdown",
   "id": "7812f93a-5e53-4fba-a29d-702cf8a876c8",
   "metadata": {},
   "source": [
    "### Task 11. "
   ]
  },
  {
   "cell_type": "markdown",
   "id": "523bbd78-d86e-4c69-9a11-78dba0a1f2f5",
   "metadata": {},
   "source": [
    "List top-5 cities having the most records in the dataset. "
   ]
  },
  {
   "cell_type": "code",
   "execution_count": 19,
   "id": "e57d27d4-d074-4449-8804-a8dfeb24e809",
   "metadata": {},
   "outputs": [
    {
     "data": {
      "text/plain": [
       "Index(['San Diego', 'Los Angeles', 'Chicago', 'San Francisco', 'New York'], dtype='object', name='city')"
      ]
     },
     "execution_count": 19,
     "metadata": {},
     "output_type": "execute_result"
    }
   ],
   "source": [
    "data.groupby('city').count().sort_values('id', ascending=False).head().index"
   ]
  },
  {
   "cell_type": "markdown",
   "id": "3b7b3df2-29ce-4d10-b70c-d8d4516faf18",
   "metadata": {},
   "source": [
    "### Task 12. "
   ]
  },
  {
   "cell_type": "markdown",
   "id": "ed196e46-a047-40e9-9632-d930f82722fd",
   "metadata": {},
   "source": [
    "Find how many `Taco Bell` restaurants are there in different cities. List the top-5 cities. "
   ]
  },
  {
   "cell_type": "code",
   "execution_count": 20,
   "id": "defa15f5-7163-4626-a2e7-55ac73b67dc2",
   "metadata": {},
   "outputs": [],
   "source": [
    "result = data[data['name'] == 'Taco Bell']['city'].value_counts()[0:5]"
   ]
  },
  {
   "cell_type": "code",
   "execution_count": 21,
   "id": "a8feec5e-43ab-40f1-a6b0-3991ef5f6426",
   "metadata": {},
   "outputs": [
    {
     "data": {
      "text/plain": [
       "Indianapolis        84\n",
       "Columbus            63\n",
       "Charleston          63\n",
       "Tampa               62\n",
       "South Lake Tahoe    42\n",
       "Name: city, dtype: int64"
      ]
     },
     "execution_count": 21,
     "metadata": {},
     "output_type": "execute_result"
    }
   ],
   "source": [
    "result"
   ]
  },
  {
   "cell_type": "markdown",
   "id": "c32cc57e-9b6b-44d4-949c-a0907d7db5d2",
   "metadata": {},
   "source": [
    "### Task 13. "
   ]
  },
  {
   "cell_type": "markdown",
   "id": "94bab169-d78b-4ee8-ba49-081f2be58e8c",
   "metadata": {},
   "source": [
    "Find restaurants that were opened in October. List indexes of the first 5 records as a result. "
   ]
  },
  {
   "cell_type": "code",
   "execution_count": 22,
   "id": "0aac493b-6bdc-4ef2-8d00-d08d8fed016d",
   "metadata": {},
   "outputs": [],
   "source": [
    "data['dateAdded'] = pd.to_datetime(data['dateAdded'])"
   ]
  },
  {
   "cell_type": "code",
   "execution_count": 23,
   "id": "c09eac2a-d10d-4f81-85f0-580e1d9146b1",
   "metadata": {},
   "outputs": [
    {
     "data": {
      "text/plain": [
       "Int64Index([2, 21, 22, 23, 24], dtype='int64')"
      ]
     },
     "execution_count": 23,
     "metadata": {},
     "output_type": "execute_result"
    }
   ],
   "source": [
    "data[data['dateAdded'].dt.month == 10].head().index"
   ]
  },
  {
   "cell_type": "markdown",
   "id": "f3538935-3332-40f4-b373-d6b9d2283f28",
   "metadata": {},
   "source": [
    "### Task 14. "
   ]
  },
  {
   "cell_type": "markdown",
   "id": "ff408fcc-9a6b-4383-bd3c-3b2ec9ceff95",
   "metadata": {},
   "source": [
    "Find out how many restaurants were opened in a particular month. "
   ]
  },
  {
   "cell_type": "code",
   "execution_count": 24,
   "id": "b7b221eb-99d5-4bcb-8997-36f5a828f623",
   "metadata": {},
   "outputs": [],
   "source": [
    "result = data.groupby(data['dateAdded'].dt.month).agg({'id': 'nunique'})"
   ]
  },
  {
   "cell_type": "code",
   "execution_count": 25,
   "id": "1e662c9f-26e1-4802-a8f0-bda4a14f88fc",
   "metadata": {},
   "outputs": [
    {
     "data": {
      "text/html": [
       "<div>\n",
       "<style scoped>\n",
       "    .dataframe tbody tr th:only-of-type {\n",
       "        vertical-align: middle;\n",
       "    }\n",
       "\n",
       "    .dataframe tbody tr th {\n",
       "        vertical-align: top;\n",
       "    }\n",
       "\n",
       "    .dataframe thead th {\n",
       "        text-align: right;\n",
       "    }\n",
       "</style>\n",
       "<table border=\"1\" class=\"dataframe\">\n",
       "  <thead>\n",
       "    <tr style=\"text-align: right;\">\n",
       "      <th></th>\n",
       "      <th>id</th>\n",
       "    </tr>\n",
       "    <tr>\n",
       "      <th>dateAdded</th>\n",
       "      <th></th>\n",
       "    </tr>\n",
       "  </thead>\n",
       "  <tbody>\n",
       "    <tr>\n",
       "      <th>1</th>\n",
       "      <td>308</td>\n",
       "    </tr>\n",
       "    <tr>\n",
       "      <th>2</th>\n",
       "      <td>257</td>\n",
       "    </tr>\n",
       "    <tr>\n",
       "      <th>3</th>\n",
       "      <td>4970</td>\n",
       "    </tr>\n",
       "    <tr>\n",
       "      <th>4</th>\n",
       "      <td>3224</td>\n",
       "    </tr>\n",
       "    <tr>\n",
       "      <th>5</th>\n",
       "      <td>1141</td>\n",
       "    </tr>\n",
       "    <tr>\n",
       "      <th>6</th>\n",
       "      <td>1356</td>\n",
       "    </tr>\n",
       "    <tr>\n",
       "      <th>7</th>\n",
       "      <td>645</td>\n",
       "    </tr>\n",
       "    <tr>\n",
       "      <th>8</th>\n",
       "      <td>479</td>\n",
       "    </tr>\n",
       "    <tr>\n",
       "      <th>9</th>\n",
       "      <td>554</td>\n",
       "    </tr>\n",
       "    <tr>\n",
       "      <th>10</th>\n",
       "      <td>4716</td>\n",
       "    </tr>\n",
       "    <tr>\n",
       "      <th>11</th>\n",
       "      <td>1550</td>\n",
       "    </tr>\n",
       "    <tr>\n",
       "      <th>12</th>\n",
       "      <td>239</td>\n",
       "    </tr>\n",
       "  </tbody>\n",
       "</table>\n",
       "</div>"
      ],
      "text/plain": [
       "             id\n",
       "dateAdded      \n",
       "1           308\n",
       "2           257\n",
       "3          4970\n",
       "4          3224\n",
       "5          1141\n",
       "6          1356\n",
       "7           645\n",
       "8           479\n",
       "9           554\n",
       "10         4716\n",
       "11         1550\n",
       "12          239"
      ]
     },
     "execution_count": 25,
     "metadata": {},
     "output_type": "execute_result"
    }
   ],
   "source": [
    "result"
   ]
  },
  {
   "cell_type": "markdown",
   "id": "6af64adb-3b95-4163-96cc-7ea432b9dbae",
   "metadata": {},
   "source": [
    "### Task 15. "
   ]
  },
  {
   "cell_type": "markdown",
   "id": "5439b567-da41-4398-801e-a7a77852f6fc",
   "metadata": {},
   "source": [
    "Find mean `update_delta` and max `latitude` for each city. "
   ]
  },
  {
   "cell_type": "code",
   "execution_count": 26,
   "id": "ac732170-c205-41e1-a00d-4735942e7b45",
   "metadata": {},
   "outputs": [],
   "source": [
    "data['dateUpdated'] = pd.to_datetime(data['dateUpdated'])"
   ]
  },
  {
   "cell_type": "code",
   "execution_count": 27,
   "id": "64137c9c-78a9-4163-b5a8-89d9299ae22f",
   "metadata": {},
   "outputs": [],
   "source": [
    "data['update_delta'] = (data['dateUpdated'] - data['dateAdded']).dt.days"
   ]
  },
  {
   "cell_type": "code",
   "execution_count": 28,
   "id": "54fe52a2-ea79-48a7-8647-878202b7615a",
   "metadata": {},
   "outputs": [
    {
     "data": {
      "text/html": [
       "<div>\n",
       "<style scoped>\n",
       "    .dataframe tbody tr th:only-of-type {\n",
       "        vertical-align: middle;\n",
       "    }\n",
       "\n",
       "    .dataframe tbody tr th {\n",
       "        vertical-align: top;\n",
       "    }\n",
       "\n",
       "    .dataframe thead th {\n",
       "        text-align: right;\n",
       "    }\n",
       "</style>\n",
       "<table border=\"1\" class=\"dataframe\">\n",
       "  <thead>\n",
       "    <tr style=\"text-align: right;\">\n",
       "      <th></th>\n",
       "      <th>city</th>\n",
       "      <th>update_delta</th>\n",
       "      <th>latitude</th>\n",
       "    </tr>\n",
       "  </thead>\n",
       "  <tbody>\n",
       "    <tr>\n",
       "      <th>0</th>\n",
       "      <td>Abbeville</td>\n",
       "      <td>114.857143</td>\n",
       "      <td>29.982108</td>\n",
       "    </tr>\n",
       "    <tr>\n",
       "      <th>1</th>\n",
       "      <td>Aberdeen</td>\n",
       "      <td>81.625000</td>\n",
       "      <td>46.975110</td>\n",
       "    </tr>\n",
       "    <tr>\n",
       "      <th>2</th>\n",
       "      <td>Abilene</td>\n",
       "      <td>206.454545</td>\n",
       "      <td>32.453090</td>\n",
       "    </tr>\n",
       "    <tr>\n",
       "      <th>3</th>\n",
       "      <td>Abingdon</td>\n",
       "      <td>303.500000</td>\n",
       "      <td>36.712800</td>\n",
       "    </tr>\n",
       "    <tr>\n",
       "      <th>4</th>\n",
       "      <td>Abington</td>\n",
       "      <td>393.000000</td>\n",
       "      <td>40.124851</td>\n",
       "    </tr>\n",
       "    <tr>\n",
       "      <th>...</th>\n",
       "      <td>...</td>\n",
       "      <td>...</td>\n",
       "      <td>...</td>\n",
       "    </tr>\n",
       "    <tr>\n",
       "      <th>3596</th>\n",
       "      <td>Zebulon</td>\n",
       "      <td>0.000000</td>\n",
       "      <td>33.102090</td>\n",
       "    </tr>\n",
       "    <tr>\n",
       "      <th>3597</th>\n",
       "      <td>Zephyr Cove</td>\n",
       "      <td>105.500000</td>\n",
       "      <td>38.984947</td>\n",
       "    </tr>\n",
       "    <tr>\n",
       "      <th>3598</th>\n",
       "      <td>Zephyrhills</td>\n",
       "      <td>329.695652</td>\n",
       "      <td>28.271183</td>\n",
       "    </tr>\n",
       "    <tr>\n",
       "      <th>3599</th>\n",
       "      <td>Zieglerville</td>\n",
       "      <td>621.000000</td>\n",
       "      <td>40.291611</td>\n",
       "    </tr>\n",
       "    <tr>\n",
       "      <th>3600</th>\n",
       "      <td>Zionsville</td>\n",
       "      <td>151.500000</td>\n",
       "      <td>39.954970</td>\n",
       "    </tr>\n",
       "  </tbody>\n",
       "</table>\n",
       "<p>3601 rows × 3 columns</p>\n",
       "</div>"
      ],
      "text/plain": [
       "              city  update_delta   latitude\n",
       "0        Abbeville    114.857143  29.982108\n",
       "1         Aberdeen     81.625000  46.975110\n",
       "2          Abilene    206.454545  32.453090\n",
       "3         Abingdon    303.500000  36.712800\n",
       "4         Abington    393.000000  40.124851\n",
       "...            ...           ...        ...\n",
       "3596       Zebulon      0.000000  33.102090\n",
       "3597   Zephyr Cove    105.500000  38.984947\n",
       "3598   Zephyrhills    329.695652  28.271183\n",
       "3599  Zieglerville    621.000000  40.291611\n",
       "3600    Zionsville    151.500000  39.954970\n",
       "\n",
       "[3601 rows x 3 columns]"
      ]
     },
     "execution_count": 28,
     "metadata": {},
     "output_type": "execute_result"
    }
   ],
   "source": [
    "result = data.groupby('city', as_index=False).agg({'update_delta': 'mean', 'latitude': 'max'})\n",
    "result"
   ]
  },
  {
   "cell_type": "markdown",
   "id": "6141d807-947e-4c50-94ef-db1f7e939c1b",
   "metadata": {},
   "source": [
    "### Task 16. "
   ]
  },
  {
   "cell_type": "markdown",
   "id": "bb99973b-aa74-4d25-b537-b030ad306a08",
   "metadata": {},
   "source": [
    "Find mean `update_delta` for a city named `Zephyrhills`."
   ]
  },
  {
   "cell_type": "code",
   "execution_count": 29,
   "id": "0d8fd990-ec05-4db0-9620-457ebf2ecb35",
   "metadata": {},
   "outputs": [
    {
     "data": {
      "text/plain": [
       "329.69565217391306"
      ]
     },
     "execution_count": 29,
     "metadata": {},
     "output_type": "execute_result"
    }
   ],
   "source": [
    "zep_mean = data[data['city'] == 'Zephyrhills']['update_delta'].mean()\n",
    "zep_mean"
   ]
  },
  {
   "cell_type": "markdown",
   "id": "5d4d5489-c40b-468c-94eb-e43df47a0cea",
   "metadata": {},
   "source": [
    "### Task 17. "
   ]
  },
  {
   "cell_type": "markdown",
   "id": "3a8c36d1-d128-4023-bbcc-92136e266ebc",
   "metadata": {},
   "source": [
    "Find an index of the third element that contains a word `Pizza` in the category column. "
   ]
  },
  {
   "cell_type": "code",
   "execution_count": 30,
   "id": "5dd1e489-1ead-441c-a5a7-6e69f89d8641",
   "metadata": {},
   "outputs": [
    {
     "data": {
      "text/plain": [
       "index                                                               66\n",
       "id                                                AVwc_59U_7pvs4fz1Md3\n",
       "address                                               3250 Kennedy Cir\n",
       "categories           Pizza,Take Out Restaurants,Caterers,Restaurant...\n",
       "city                                                           Dubuque\n",
       "cuisines                                                         Pizza\n",
       "dateAdded                                    2016-03-29 04:45:06+00:00\n",
       "dateUpdated                                  2016-05-05 12:40:51+00:00\n",
       "latitude                                                     42.505264\n",
       "longitude                                                    -90.72141\n",
       "menus.category                                                     NaN\n",
       "menus.currency                                                     NaN\n",
       "menus.dateSeen               2016-05-05T12:40:51Z,2016-03-29T04:45:06Z\n",
       "menus.description                                                  NaN\n",
       "menus.name                                                Taco Supreme\n",
       "name                                               Falbo Bros Pizzeria\n",
       "province                                                            IA\n",
       "update_delta                                                        37\n",
       "Name: 2, dtype: object"
      ]
     },
     "execution_count": 30,
     "metadata": {},
     "output_type": "execute_result"
    }
   ],
   "source": [
    "mask = data['categories'].str.contains('Pizza')\n",
    "data[mask].reset_index().iloc[2]"
   ]
  },
  {
   "cell_type": "markdown",
   "id": "787b0f6e-eacf-4786-b86d-3641d190fc44",
   "metadata": {},
   "source": [
    "### Task 18. "
   ]
  },
  {
   "cell_type": "markdown",
   "id": "1d8f1ea2-4b31-4d22-8844-61b41cb2dbad",
   "metadata": {},
   "source": [
    "Find mean and median values of the 'update_delta' column. "
   ]
  },
  {
   "cell_type": "code",
   "execution_count": 31,
   "id": "df82604a-0533-4b61-a3fc-de62cb21340e",
   "metadata": {},
   "outputs": [
    {
     "data": {
      "text/plain": [
       "326.22"
      ]
     },
     "execution_count": 31,
     "metadata": {},
     "output_type": "execute_result"
    }
   ],
   "source": [
    "round(data['update_delta'].mean(), 2)"
   ]
  },
  {
   "cell_type": "code",
   "execution_count": 32,
   "id": "8008370d-3368-4780-aec2-b04244bc90c2",
   "metadata": {},
   "outputs": [
    {
     "data": {
      "text/plain": [
       "364.0"
      ]
     },
     "execution_count": 32,
     "metadata": {},
     "output_type": "execute_result"
    }
   ],
   "source": [
    "round(data['update_delta'].median(), 2)"
   ]
  },
  {
   "cell_type": "markdown",
   "id": "52fb7291-e5ef-4794-8a7f-4a80252dc6bd",
   "metadata": {},
   "source": [
    "### Task 19. "
   ]
  },
  {
   "cell_type": "markdown",
   "id": "e0cea9a8-8f59-4d81-a15c-9029b5185e84",
   "metadata": {},
   "source": [
    "Filter out only places that have more than 20 items in `categories` column. Then group data by province and find minimal longitude for each province. Save results to a `csv` file. Do not forget to round the result of aggregation up to 3 digits. The file with the result should have only two colums: `province`, `longitude`. "
   ]
  },
  {
   "cell_type": "code",
   "execution_count": 33,
   "id": "45bd754a-840d-457c-b4cc-31c9bbc25387",
   "metadata": {},
   "outputs": [],
   "source": [
    "def category_len_cnt(category):\n",
    "    return len(category.split(','))"
   ]
  },
  {
   "cell_type": "code",
   "execution_count": 34,
   "id": "371665d5-e173-4cb0-8fb1-de7ff4d9b3dd",
   "metadata": {},
   "outputs": [],
   "source": [
    "data['category_len'] = data['categories'].apply(category_len_cnt)"
   ]
  },
  {
   "cell_type": "code",
   "execution_count": 35,
   "id": "2a884f38-ac7b-4bfb-9f3f-fa2e5ba6a385",
   "metadata": {},
   "outputs": [],
   "source": [
    "result = data[data['category_len'] > 20].groupby('province', as_index=False).agg({'longitude': 'min'})"
   ]
  },
  {
   "cell_type": "code",
   "execution_count": 36,
   "id": "22bceaf9-690c-4215-ad56-c5c4610943ed",
   "metadata": {},
   "outputs": [],
   "source": [
    "result['longitude'] = round(result.longitude, 3)"
   ]
  },
  {
   "cell_type": "code",
   "execution_count": 37,
   "id": "eb684f14-e479-4d51-84ff-6e5a85b8b58b",
   "metadata": {},
   "outputs": [],
   "source": [
    "result.to_csv('result.csv', sep=';', index=False)"
   ]
  },
  {
   "cell_type": "code",
   "execution_count": null,
   "id": "7eeb314b-3668-4624-be01-03b02e4de8e6",
   "metadata": {},
   "outputs": [],
   "source": []
  }
 ],
 "metadata": {
  "kernelspec": {
   "display_name": "Python 3 (ipykernel)",
   "language": "python",
   "name": "python3"
  },
  "language_info": {
   "codemirror_mode": {
    "name": "ipython",
    "version": 3
   },
   "file_extension": ".py",
   "mimetype": "text/x-python",
   "name": "python",
   "nbconvert_exporter": "python",
   "pygments_lexer": "ipython3",
   "version": "3.8.10"
  }
 },
 "nbformat": 4,
 "nbformat_minor": 5
}
