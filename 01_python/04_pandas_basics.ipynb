{
 "cells": [
  {
   "cell_type": "markdown",
   "id": "6fb4b3cb-23fc-4324-9702-a65c7fe5dd83",
   "metadata": {},
   "source": [
    "# Pandas Basics"
   ]
  },
  {
   "cell_type": "markdown",
   "id": "9b67c433-85dc-498e-ac43-ef4b7653ae84",
   "metadata": {},
   "source": [
    "## Tasks"
   ]
  },
  {
   "cell_type": "markdown",
   "id": "9b4fd179-fa93-4826-b21b-72280a1c54fc",
   "metadata": {},
   "source": [
    "### Task 1. \n",
    "\n"
   ]
  },
  {
   "cell_type": "markdown",
   "id": "3360652a-722f-43ca-b995-a175ffefe99f",
   "metadata": {},
   "source": [
    "Create a markdown cell and use bold, italic and monospace fonts. "
   ]
  },
  {
   "cell_type": "markdown",
   "id": "2be24e3d-ff67-4e66-bb7e-4d68fa216160",
   "metadata": {},
   "source": [
    "**Markdown bold**.  \n",
    "*Markdown italic*.  \n",
    "`Markdown monospace`.  "
   ]
  },
  {
   "cell_type": "markdown",
   "id": "3cb5b6ac-cb27-4ea4-9cbd-ee6eb9210ed8",
   "metadata": {},
   "source": [
    "### Task 2. "
   ]
  },
  {
   "cell_type": "markdown",
   "id": "f76522d1-ab3b-4629-8f0c-a6efd198223d",
   "metadata": {},
   "source": [
    "Fix the code below, so it will produce the same output when we re-run the last cell with a `for` cycle in it. "
   ]
  },
  {
   "cell_type": "markdown",
   "id": "9446e415-efc6-47df-84a7-8ae9fca3b7de",
   "metadata": {},
   "source": [
    "**Initial code:**"
   ]
  },
  {
   "cell_type": "code",
   "execution_count": 1,
   "id": "9c30c1ab-621a-4947-971c-9a7978c502bd",
   "metadata": {},
   "outputs": [],
   "source": [
    "credit_payments = []"
   ]
  },
  {
   "cell_type": "code",
   "execution_count": 2,
   "id": "776f6947-6252-4157-931a-025093952693",
   "metadata": {},
   "outputs": [
    {
     "name": "stdout",
     "output_type": "stream",
     "text": [
      "num_records    5\n",
      "value          7\n",
      "total          9\n",
      "dtype: int64\n",
      "1    1\n",
      "4    1\n",
      "Name: num_records, dtype: int64\n"
     ]
    },
    {
     "data": {
      "text/html": [
       "<div>\n",
       "<style scoped>\n",
       "    .dataframe tbody tr th:only-of-type {\n",
       "        vertical-align: middle;\n",
       "    }\n",
       "\n",
       "    .dataframe tbody tr th {\n",
       "        vertical-align: top;\n",
       "    }\n",
       "\n",
       "    .dataframe thead th {\n",
       "        text-align: right;\n",
       "    }\n",
       "</style>\n",
       "<table border=\"1\" class=\"dataframe\">\n",
       "  <thead>\n",
       "    <tr style=\"text-align: right;\">\n",
       "      <th></th>\n",
       "      <th>num_records</th>\n",
       "      <th>value</th>\n",
       "      <th>total</th>\n",
       "    </tr>\n",
       "  </thead>\n",
       "  <tbody>\n",
       "    <tr>\n",
       "      <th>0</th>\n",
       "      <td>1</td>\n",
       "      <td>2</td>\n",
       "      <td>3</td>\n",
       "    </tr>\n",
       "    <tr>\n",
       "      <th>1</th>\n",
       "      <td>4</td>\n",
       "      <td>5</td>\n",
       "      <td>6</td>\n",
       "    </tr>\n",
       "  </tbody>\n",
       "</table>\n",
       "</div>"
      ],
      "text/plain": [
       "   num_records  value  total\n",
       "0            1      2      3\n",
       "1            4      5      6"
      ]
     },
     "execution_count": 2,
     "metadata": {},
     "output_type": "execute_result"
    }
   ],
   "source": [
    "# OLD experiment. todo: remove it\n",
    "import pandas as pd\n",
    "\n",
    "\n",
    "df = pd.DataFrame(\n",
    "    [[1, 2, 3],\n",
    "    [4, 5, 6]],\n",
    "    columns=['num_records', 'value', 'total']\n",
    ")\n",
    "print(df.sum())\n",
    "\n",
    "print(df['num_records'].value_counts())\n",
    "\n",
    "df.head()"
   ]
  },
  {
   "cell_type": "code",
   "execution_count": 4,
   "id": "41252290-f00c-482b-a0cf-1a4d1eac354c",
   "metadata": {},
   "outputs": [
    {
     "name": "stdout",
     "output_type": "stream",
     "text": [
      "0.03556704521179199\n",
      "3343.833323999998\n"
     ]
    }
   ],
   "source": [
    "import time\n",
    "\n",
    "\n",
    "start = time.time()\n",
    "credit_payments.append(5)\n",
    "for i in range(int(1e5)):\n",
    "    credit_payments.append((i % 7 + i // 3) / 1e6)\n",
    "\n",
    "end = time.time()\n",
    "print(end - start)\n",
    "print(sum(credit_payments))"
   ]
  },
  {
   "cell_type": "markdown",
   "id": "224911be-6304-4a19-9deb-e801b50fecb2",
   "metadata": {},
   "source": [
    "**Solution:**"
   ]
  },
  {
   "cell_type": "code",
   "execution_count": 6,
   "id": "7800c768-6657-491b-adec-0bc140729008",
   "metadata": {},
   "outputs": [
    {
     "name": "stdout",
     "output_type": "stream",
     "text": [
      "0.03216981887817383\n",
      "1666.916662\n"
     ]
    }
   ],
   "source": [
    "import time\n",
    "\n",
    "\n",
    "start = time.time()\n",
    "#credit_payments.append(5)\n",
    "credit_payments = []\n",
    "for i in range(int(1e5)):\n",
    "    credit_payments.append((i % 7 + i // 3) / 1e6)\n",
    "\n",
    "end = time.time()\n",
    "print(end - start)\n",
    "print(sum(credit_payments))"
   ]
  },
  {
   "cell_type": "markdown",
   "id": "f75a2cf2-b2ac-488b-984b-4070b179bba0",
   "metadata": {},
   "source": [
    "### Task 3. "
   ]
  },
  {
   "cell_type": "markdown",
   "id": "309fb437-4d89-4525-bf6f-a1bfb4a253d8",
   "metadata": {},
   "source": [
    "Fix the code below, so we can build two graphs without having any errors. "
   ]
  },
  {
   "cell_type": "markdown",
   "id": "f84bdc29-f04c-497d-bbff-bf3647c5fb81",
   "metadata": {},
   "source": [
    "**Initial code:**"
   ]
  },
  {
   "cell_type": "code",
   "execution_count": 7,
   "id": "106282f7-5aae-4134-b30d-7a843d151cbb",
   "metadata": {},
   "outputs": [
    {
     "ename": "NameError",
     "evalue": "name 'plt' is not defined",
     "output_type": "error",
     "traceback": [
      "\u001b[0;31m---------------------------------------------------------------------------\u001b[0m",
      "\u001b[0;31mNameError\u001b[0m                                 Traceback (most recent call last)",
      "Input \u001b[0;32mIn [7]\u001b[0m, in \u001b[0;36m<module>\u001b[0;34m\u001b[0m\n\u001b[1;32m     13\u001b[0m     res1\u001b[38;5;241m.\u001b[39mappend(p)\n\u001b[1;32m     15\u001b[0m \u001b[38;5;66;03m# plotting p-value histogram\u001b[39;00m\n\u001b[0;32m---> 16\u001b[0m _ \u001b[38;5;241m=\u001b[39m \u001b[43mplt\u001b[49m\u001b[38;5;241m.\u001b[39mhist(res1, bins\u001b[38;5;241m=\u001b[39m\u001b[38;5;241m100\u001b[39m)\n",
      "\u001b[0;31mNameError\u001b[0m: name 'plt' is not defined"
     ]
    }
   ],
   "source": [
    "import numpy as np\n",
    "from scipy.stats import ttest_ind, mannwhitneyu\n",
    "\n",
    "res, res1 = [], []\n",
    "for i in range(int(1e4)):\n",
    "    # generating two data samples from a normal distribution\n",
    "    sample_1 = np.random.normal(0.3, 3, size=int(1e3))\n",
    "    sample_2 = np.random.normal(0, 3, size=int(1e3))\n",
    "    # hypothesis testing\n",
    "    stat, p = ttest_ind(sample_1, sample_2)\n",
    "    #stat, p = mannwhitneyu(sample_1, sample_2)\n",
    "    res.append(stat)\n",
    "    res1.append(p)\n",
    "    \n",
    "# plotting p-value histogram\n",
    "_ = plt.hist(res1, bins=100)"
   ]
  },
  {
   "cell_type": "code",
   "execution_count": 8,
   "id": "80eae6f5-322b-418b-96b0-65923815f72d",
   "metadata": {},
   "outputs": [
    {
     "data": {
      "image/png": "[encoded data removed]",
      "text/plain": [
       "<Figure size 432x288 with 1 Axes>"
      ]
     },
     "metadata": {
      "needs_background": "light"
     },
     "output_type": "display_data"
    }
   ],
   "source": [
    "import matplotlib.pyplot as plt\n",
    "_ = plt.hist(res, bins=100)"
   ]
  },
  {
   "cell_type": "markdown",
   "id": "a970affb-b867-48a8-8b91-e644222c6a26",
   "metadata": {},
   "source": [
    "**Solution:**"
   ]
  },
  {
   "cell_type": "code",
   "execution_count": 9,
   "id": "c9e46d9e-e1e6-4e4c-95ed-8dbc70e006f8",
   "metadata": {},
   "outputs": [],
   "source": [
    "import matplotlib.pyplot as plt\n",
    "import numpy as np\n",
    "from scipy.stats import ttest_ind, mannwhitneyu"
   ]
  },
  {
   "cell_type": "code",
   "execution_count": 10,
   "id": "48484a57-3f8d-4f41-adf1-71952c7f0b11",
   "metadata": {},
   "outputs": [
    {
     "data": {
      "image/png": "[encoded data removed]",
      "text/plain": [
       "<Figure size 432x288 with 1 Axes>"
      ]
     },
     "metadata": {
      "needs_background": "light"
     },
     "output_type": "display_data"
    }
   ],
   "source": [
    "res, res1 = [], []\n",
    "for i in range(int(1e4)):\n",
    "    # generating two data samples from a normal distribution\n",
    "    sample_1 = np.random.normal(0.3, 3, size=int(1e3))\n",
    "    sample_2 = np.random.normal(0, 3, size=int(1e3))\n",
    "    # hypothesis testing\n",
    "    stat, p = ttest_ind(sample_1, sample_2)\n",
    "    #stat, p = mannwhitneyu(sample_1, sample_2)\n",
    "    res.append(stat)\n",
    "    res1.append(p)\n",
    "    \n",
    "# plotting p-value histogram\n",
    "_ = plt.hist(res1, bins=100)"
   ]
  },
  {
   "cell_type": "code",
   "execution_count": 11,
   "id": "09e74d15-da46-4aa9-bd7f-2f028a3610ab",
   "metadata": {},
   "outputs": [
    {
     "data": {
      "image/png": "[encoded data removed]",
      "text/plain": [
       "<Figure size 432x288 with 1 Axes>"
      ]
     },
     "metadata": {
      "needs_background": "light"
     },
     "output_type": "display_data"
    }
   ],
   "source": [
    "_ = plt.hist(res, bins=100)"
   ]
  },
  {
   "cell_type": "markdown",
   "id": "d5461678-6b0b-4607-8dfb-d570a4cc8e87",
   "metadata": {},
   "source": [
    "### Task 4. "
   ]
  },
  {
   "cell_type": "markdown",
   "id": "2cf34348-b881-4254-87e8-dbe8f3c07ff2",
   "metadata": {},
   "source": [
    "Implement a scalar product of two vectors of length 1e5 using a for loop in a Jupyter Notebook and benchmark the code's execution time using the `%%timeit` magic command."
   ]
  },
  {
   "cell_type": "code",
   "execution_count": 12,
   "id": "965d5bcd-850a-410a-aa21-7b41049cc2a9",
   "metadata": {},
   "outputs": [],
   "source": [
    "vector1 = list(range(int(1e5)))\n",
    "vector2 = list(range(int(1e5)))"
   ]
  },
  {
   "cell_type": "code",
   "execution_count": 13,
   "id": "8b4d9789-6b17-4a17-814c-304da6ea0390",
   "metadata": {},
   "outputs": [],
   "source": [
    "def dot_product_loop(vector1, vector2):\n",
    "    result = 0\n",
    "    for i in range(len(vector1)):\n",
    "        result += vector1[i] * vector2[i]\n",
    "    return result"
   ]
  },
  {
   "cell_type": "code",
   "execution_count": 14,
   "id": "466a75bb-4c09-416f-a1e7-31cbaf258b19",
   "metadata": {},
   "outputs": [
    {
     "name": "stdout",
     "output_type": "stream",
     "text": [
      "14.8 ms ± 148 µs per loop (mean ± std. dev. of 7 runs, 100 loops each)\n"
     ]
    }
   ],
   "source": [
    "%%timeit\n",
    "\n",
    "dot_product_loop(vector1, vector2)"
   ]
  },
  {
   "cell_type": "markdown",
   "id": "647588f4-908e-4985-b38d-b93327ee02b6",
   "metadata": {},
   "source": [
    "### Task 5. "
   ]
  },
  {
   "cell_type": "markdown",
   "id": "67e7ebfe-c95f-40a3-9eab-92764bfee275",
   "metadata": {},
   "source": [
    "What is the result of the dot product? Use scientific notation to get the answer. "
   ]
  },
  {
   "cell_type": "code",
   "execution_count": 15,
   "id": "7b0b619d-6677-4222-8564-fbcd85739275",
   "metadata": {},
   "outputs": [],
   "source": [
    "result = dot_product_loop(vector1, vector2)"
   ]
  },
  {
   "cell_type": "code",
   "execution_count": 16,
   "id": "281eb230-42ff-4644-af16-e1584eb33169",
   "metadata": {},
   "outputs": [
    {
     "name": "stdout",
     "output_type": "stream",
     "text": [
      "3.33e+14\n"
     ]
    }
   ],
   "source": [
    "print(f'{result:.2e}')"
   ]
  },
  {
   "cell_type": "markdown",
   "id": "4adb78ca-b7c6-41af-85a6-6cca964d33b3",
   "metadata": {},
   "source": [
    "### Task 6. "
   ]
  },
  {
   "cell_type": "markdown",
   "id": "a09e91f5-a024-420c-adb0-b14ad33cbc2a",
   "metadata": {},
   "source": [
    "Now use numpy `array` data structure and numpy `np.dot()` to calculate the dot product. What will be execution time and the result?"
   ]
  },
  {
   "cell_type": "code",
   "execution_count": 17,
   "id": "5aea15bb-7a58-468c-adac-89645a85e205",
   "metadata": {},
   "outputs": [],
   "source": [
    "import numpy as np\n",
    "\n",
    "\n",
    "vector1 = np.array(list(range(int(1e5))), dtype='int64')\n",
    "vector2 = np.array(list(range(int(1e5))), dtype='int64')"
   ]
  },
  {
   "cell_type": "code",
   "execution_count": 18,
   "id": "53a245fb-6f6f-42d9-ae1d-91d9bebc6b68",
   "metadata": {},
   "outputs": [
    {
     "name": "stdout",
     "output_type": "stream",
     "text": [
      "100 µs ± 1.04 µs per loop (mean ± std. dev. of 7 runs, 10,000 loops each)\n"
     ]
    }
   ],
   "source": [
    "%%timeit\n",
    "\n",
    "np.dot(vector1, vector2)"
   ]
  },
  {
   "cell_type": "code",
   "execution_count": 19,
   "id": "5ca417eb-b8d8-43c0-8334-1a60a7b9a214",
   "metadata": {},
   "outputs": [
    {
     "name": "stdout",
     "output_type": "stream",
     "text": [
      "3.33e+14\n"
     ]
    }
   ],
   "source": [
    "print(f'{np.dot(vector1, vector2):.2e}')"
   ]
  },
  {
   "cell_type": "markdown",
   "id": "e4594bb8-3f4d-48a5-84ad-d2e5f4fc461c",
   "metadata": {},
   "source": [
    "### Task 7. "
   ]
  },
  {
   "cell_type": "markdown",
   "id": "bc4f63a3-a76f-497c-a60f-c6ccd7ea4f35",
   "metadata": {},
   "source": [
    "Fix a bug in the code (Euclidean algorithm to calculate the Greatest Common Divisor (GCD)), so you can successfully run it and get a result. "
   ]
  },
  {
   "cell_type": "markdown",
   "id": "7e17aaf5-0181-4b97-95f0-c9441306c8c5",
   "metadata": {},
   "source": [
    "**Initial code:**"
   ]
  },
  {
   "cell_type": "code",
   "execution_count": 20,
   "id": "10a31bd6-836a-4a56-94bc-5d05beb2b96a",
   "metadata": {},
   "outputs": [
    {
     "ename": "KeyboardInterrupt",
     "evalue": "",
     "output_type": "error",
     "traceback": [
      "\u001b[0;31m---------------------------------------------------------------------------\u001b[0m",
      "\u001b[0;31mKeyboardInterrupt\u001b[0m                         Traceback (most recent call last)",
      "Input \u001b[0;32mIn [20]\u001b[0m, in \u001b[0;36m<module>\u001b[0;34m\u001b[0m\n\u001b[1;32m      5\u001b[0m         a, b \u001b[38;5;241m=\u001b[39m a \u001b[38;5;241m%\u001b[39m b, b\n\u001b[1;32m      6\u001b[0m     \u001b[38;5;28mprint\u001b[39m(a)\n\u001b[0;32m----> 9\u001b[0m \u001b[43mgcd\u001b[49m\u001b[43m(\u001b[49m\u001b[38;5;241;43m121\u001b[39;49m\u001b[43m,\u001b[49m\u001b[43m \u001b[49m\u001b[38;5;241;43m11\u001b[39;49m\u001b[43m)\u001b[49m\n\u001b[1;32m     10\u001b[0m \u001b[38;5;28mprint\u001b[39m(\u001b[38;5;124m'\u001b[39m\u001b[38;5;124msuccess\u001b[39m\u001b[38;5;124m'\u001b[39m)\n",
      "Input \u001b[0;32mIn [20]\u001b[0m, in \u001b[0;36mgcd\u001b[0;34m(a, b)\u001b[0m\n\u001b[1;32m      2\u001b[0m \u001b[38;5;28;01mif\u001b[39;00m a \u001b[38;5;241m<\u001b[39m b:\n\u001b[1;32m      3\u001b[0m     b, a \u001b[38;5;241m=\u001b[39m a, b\n\u001b[0;32m----> 4\u001b[0m \u001b[38;5;28;01mwhile\u001b[39;00m \u001b[43mb\u001b[49m\u001b[43m \u001b[49m\u001b[38;5;241;43m!=\u001b[39;49m\u001b[43m \u001b[49m\u001b[38;5;241;43m0\u001b[39;49m:\n\u001b[1;32m      5\u001b[0m     a, b \u001b[38;5;241m=\u001b[39m a \u001b[38;5;241m%\u001b[39m b, b\n\u001b[1;32m      6\u001b[0m \u001b[38;5;28mprint\u001b[39m(a)\n",
      "\u001b[0;31mKeyboardInterrupt\u001b[0m: "
     ]
    }
   ],
   "source": [
    "def gcd(a, b):\n",
    "    if a < b:\n",
    "        b, a = a, b\n",
    "    while b != 0:\n",
    "        a, b = a % b, b\n",
    "    print(a)\n",
    "    \n",
    "    \n",
    "gcd(121, 11)\n",
    "print('success')"
   ]
  },
  {
   "cell_type": "markdown",
   "id": "ea8413e9-c91c-4c4e-b6e3-8295bb979b9b",
   "metadata": {},
   "source": [
    "**Solution:**"
   ]
  },
  {
   "cell_type": "code",
   "execution_count": 21,
   "id": "fe3d69fa-875f-465a-93fe-ba52457dc890",
   "metadata": {},
   "outputs": [
    {
     "name": "stdout",
     "output_type": "stream",
     "text": [
      "11\n",
      "success\n"
     ]
    }
   ],
   "source": [
    "def gcd(a, b):\n",
    "    if a < b:\n",
    "        b, a = a, b\n",
    "    while b != 0:\n",
    "        a, b = b, a % b\n",
    "    print(a)\n",
    "    \n",
    "    \n",
    "gcd(121, 11)\n",
    "print('success')"
   ]
  },
  {
   "cell_type": "code",
   "execution_count": null,
   "id": "b92c718d-4dd6-438d-b72b-a36c8a45c69f",
   "metadata": {},
   "outputs": [],
   "source": []
  }
 ],
 "metadata": {
  "kernelspec": {
   "display_name": "Python 3 (ipykernel)",
   "language": "python",
   "name": "python3"
  },
  "language_info": {
   "codemirror_mode": {
    "name": "ipython",
    "version": 3
   },
   "file_extension": ".py",
   "mimetype": "text/x-python",
   "name": "python",
   "nbconvert_exporter": "python",
   "pygments_lexer": "ipython3",
   "version": "3.8.10"
  }
 },
 "nbformat": 4,
 "nbformat_minor": 5
}
