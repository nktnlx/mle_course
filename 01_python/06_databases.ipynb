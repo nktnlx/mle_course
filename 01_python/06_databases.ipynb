{
 "cells": [
  {
   "cell_type": "markdown",
   "id": "6fb4b3cb-23fc-4324-9702-a65c7fe5dd83",
   "metadata": {},
   "source": [
    "# Databases"
   ]
  },
  {
   "cell_type": "markdown",
   "id": "b9e5e7a8-3972-473a-b2c8-05c5c1372dc6",
   "metadata": {},
   "source": [
    "## Tables Description"
   ]
  },
  {
   "cell_type": "markdown",
   "id": "2a0189ad-e206-4ab2-9f60-8e115d98fb51",
   "metadata": {},
   "source": [
    "- Table with user data:\n",
    "    - id - unique user identifier (primary key)\n",
    "    - gender - gender\n",
    "    - age - age\n",
    "    - country - country\n",
    "    - city - city\n",
    "    - exp_group - experimental group\n",
    "    - os - operating system\n",
    "    - source - traffic source  \n",
    "<br></br>    \n",
    "- Table with post data:\n",
    "    - id - unique post identifier (primary key)\n",
    "    - text - post text\n",
    "    - topic - post topic  \n",
    "<br></br>    \n",
    "- Table with user action data (feed action):\n",
    "    - user_id (→) user (id) - user identifier\n",
    "    - post_id (→) post (id) - post identifier\n",
    "    - action - action taken in the network\n",
    "    - time - action time"
   ]
  },
  {
   "cell_type": "markdown",
   "id": "9b67c433-85dc-498e-ac43-ef4b7653ae84",
   "metadata": {},
   "source": [
    "## Tasks"
   ]
  },
  {
   "cell_type": "markdown",
   "id": "9b4fd179-fa93-4826-b21b-72280a1c54fc",
   "metadata": {},
   "source": [
    "### Task 1. \n",
    "\n"
   ]
  },
  {
   "cell_type": "markdown",
   "id": "3360652a-722f-43ca-b995-a175ffefe99f",
   "metadata": {},
   "source": [
    "Get data from a `user` table. "
   ]
  },
  {
   "cell_type": "code",
   "execution_count": 1,
   "id": "d1961126-1748-4865-9be9-3152bcf2fc25",
   "metadata": {},
   "outputs": [],
   "source": [
    "import pandas as pd"
   ]
  },
  {
   "cell_type": "code",
   "execution_count": 2,
   "id": "3809914d-2ee0-4c67-b535-d6047c95ef47",
   "metadata": {},
   "outputs": [],
   "source": [
    "connection = \"postgresql:XXXXX\""
   ]
  },
  {
   "cell_type": "code",
   "execution_count": 3,
   "id": "cd2757e6-417f-4b50-a5a5-f2610baf9653",
   "metadata": {},
   "outputs": [],
   "source": [
    "request = '''\n",
    "SELECT \n",
    "  * \n",
    "FROM \n",
    "  \"user\"\n",
    "'''"
   ]
  },
  {
   "cell_type": "code",
   "execution_count": 4,
   "id": "d6f86a17-0faf-42bb-b4a2-0de06c103e26",
   "metadata": {},
   "outputs": [
    {
     "data": {
      "text/html": [
       "<div>\n",
       "<style scoped>\n",
       "    .dataframe tbody tr th:only-of-type {\n",
       "        vertical-align: middle;\n",
       "    }\n",
       "\n",
       "    .dataframe tbody tr th {\n",
       "        vertical-align: top;\n",
       "    }\n",
       "\n",
       "    .dataframe thead th {\n",
       "        text-align: right;\n",
       "    }\n",
       "</style>\n",
       "<table border=\"1\" class=\"dataframe\">\n",
       "  <thead>\n",
       "    <tr style=\"text-align: right;\">\n",
       "      <th></th>\n",
       "      <th>id</th>\n",
       "      <th>gender</th>\n",
       "      <th>age</th>\n",
       "      <th>country</th>\n",
       "      <th>city</th>\n",
       "      <th>exp_group</th>\n",
       "      <th>os</th>\n",
       "      <th>source</th>\n",
       "    </tr>\n",
       "  </thead>\n",
       "  <tbody>\n",
       "    <tr>\n",
       "      <th>0</th>\n",
       "      <td>200</td>\n",
       "      <td>1</td>\n",
       "      <td>34</td>\n",
       "      <td>Russia</td>\n",
       "      <td>Degtyarsk</td>\n",
       "      <td>3</td>\n",
       "      <td>Android</td>\n",
       "      <td>ads</td>\n",
       "    </tr>\n",
       "    <tr>\n",
       "      <th>1</th>\n",
       "      <td>201</td>\n",
       "      <td>0</td>\n",
       "      <td>37</td>\n",
       "      <td>Russia</td>\n",
       "      <td>Abakan</td>\n",
       "      <td>0</td>\n",
       "      <td>Android</td>\n",
       "      <td>ads</td>\n",
       "    </tr>\n",
       "    <tr>\n",
       "      <th>2</th>\n",
       "      <td>202</td>\n",
       "      <td>1</td>\n",
       "      <td>17</td>\n",
       "      <td>Russia</td>\n",
       "      <td>Smolensk</td>\n",
       "      <td>4</td>\n",
       "      <td>Android</td>\n",
       "      <td>ads</td>\n",
       "    </tr>\n",
       "    <tr>\n",
       "      <th>3</th>\n",
       "      <td>203</td>\n",
       "      <td>0</td>\n",
       "      <td>18</td>\n",
       "      <td>Russia</td>\n",
       "      <td>Moscow</td>\n",
       "      <td>1</td>\n",
       "      <td>iOS</td>\n",
       "      <td>ads</td>\n",
       "    </tr>\n",
       "    <tr>\n",
       "      <th>4</th>\n",
       "      <td>204</td>\n",
       "      <td>0</td>\n",
       "      <td>36</td>\n",
       "      <td>Russia</td>\n",
       "      <td>Anzhero-Sudzhensk</td>\n",
       "      <td>3</td>\n",
       "      <td>Android</td>\n",
       "      <td>ads</td>\n",
       "    </tr>\n",
       "  </tbody>\n",
       "</table>\n",
       "</div>"
      ],
      "text/plain": [
       "    id  gender  age country               city  exp_group       os source\n",
       "0  200       1   34  Russia          Degtyarsk          3  Android    ads\n",
       "1  201       0   37  Russia             Abakan          0  Android    ads\n",
       "2  202       1   17  Russia           Smolensk          4  Android    ads\n",
       "3  203       0   18  Russia             Moscow          1      iOS    ads\n",
       "4  204       0   36  Russia  Anzhero-Sudzhensk          3  Android    ads"
      ]
     },
     "execution_count": 4,
     "metadata": {},
     "output_type": "execute_result"
    }
   ],
   "source": [
    "df = pd.read_sql(request, connection)\n",
    "\n",
    "df.head()"
   ]
  },
  {
   "cell_type": "markdown",
   "id": "3cb5b6ac-cb27-4ea4-9cbd-ee6eb9210ed8",
   "metadata": {},
   "source": [
    "### Task 2. "
   ]
  },
  {
   "cell_type": "markdown",
   "id": "f76522d1-ab3b-4629-8f0c-a6efd198223d",
   "metadata": {},
   "source": [
    "Get distinct values of topics from a `post` table. "
   ]
  },
  {
   "cell_type": "code",
   "execution_count": 5,
   "id": "f3ea377e-0e6a-41aa-ad22-8e517aef7d71",
   "metadata": {},
   "outputs": [],
   "source": [
    "request = '''\n",
    "SELECT\n",
    "  DISTINCT(topic)\n",
    "FROM\n",
    "  \"post\"\n",
    "'''"
   ]
  },
  {
   "cell_type": "code",
   "execution_count": 6,
   "id": "c4d34b1f-88a8-4c20-9b6b-fcf881b60f07",
   "metadata": {},
   "outputs": [
    {
     "data": {
      "text/html": [
       "<div>\n",
       "<style scoped>\n",
       "    .dataframe tbody tr th:only-of-type {\n",
       "        vertical-align: middle;\n",
       "    }\n",
       "\n",
       "    .dataframe tbody tr th {\n",
       "        vertical-align: top;\n",
       "    }\n",
       "\n",
       "    .dataframe thead th {\n",
       "        text-align: right;\n",
       "    }\n",
       "</style>\n",
       "<table border=\"1\" class=\"dataframe\">\n",
       "  <thead>\n",
       "    <tr style=\"text-align: right;\">\n",
       "      <th></th>\n",
       "      <th>topic</th>\n",
       "    </tr>\n",
       "  </thead>\n",
       "  <tbody>\n",
       "    <tr>\n",
       "      <th>0</th>\n",
       "      <td>tech</td>\n",
       "    </tr>\n",
       "    <tr>\n",
       "      <th>1</th>\n",
       "      <td>covid</td>\n",
       "    </tr>\n",
       "    <tr>\n",
       "      <th>2</th>\n",
       "      <td>movie</td>\n",
       "    </tr>\n",
       "    <tr>\n",
       "      <th>3</th>\n",
       "      <td>entertainment</td>\n",
       "    </tr>\n",
       "    <tr>\n",
       "      <th>4</th>\n",
       "      <td>politics</td>\n",
       "    </tr>\n",
       "    <tr>\n",
       "      <th>5</th>\n",
       "      <td>sport</td>\n",
       "    </tr>\n",
       "    <tr>\n",
       "      <th>6</th>\n",
       "      <td>business</td>\n",
       "    </tr>\n",
       "  </tbody>\n",
       "</table>\n",
       "</div>"
      ],
      "text/plain": [
       "           topic\n",
       "0           tech\n",
       "1          covid\n",
       "2          movie\n",
       "3  entertainment\n",
       "4       politics\n",
       "5          sport\n",
       "6       business"
      ]
     },
     "execution_count": 6,
     "metadata": {},
     "output_type": "execute_result"
    }
   ],
   "source": [
    "df = pd.read_sql(request, connection)\n",
    "\n",
    "df"
   ]
  },
  {
   "cell_type": "markdown",
   "id": "f75a2cf2-b2ac-488b-984b-4070b179bba0",
   "metadata": {},
   "source": [
    "### Task 3. "
   ]
  },
  {
   "cell_type": "markdown",
   "id": "309fb437-4d89-4525-bf6f-a1bfb4a253d8",
   "metadata": {},
   "source": [
    "Get users older 30 years having iOS. "
   ]
  },
  {
   "cell_type": "code",
   "execution_count": 7,
   "id": "9e25acb8-503e-4013-9bf5-24a3184f5a46",
   "metadata": {},
   "outputs": [],
   "source": [
    "request = '''\n",
    "SELECT\n",
    "  *\n",
    "FROM\n",
    "  \"user\"\n",
    "WHERE\n",
    "  age > 30\n",
    "    AND os = 'iOS'\n",
    "'''"
   ]
  },
  {
   "cell_type": "code",
   "execution_count": 8,
   "id": "515db05c-30e3-4f7e-b11c-d984f00c637c",
   "metadata": {},
   "outputs": [
    {
     "data": {
      "text/html": [
       "<div>\n",
       "<style scoped>\n",
       "    .dataframe tbody tr th:only-of-type {\n",
       "        vertical-align: middle;\n",
       "    }\n",
       "\n",
       "    .dataframe tbody tr th {\n",
       "        vertical-align: top;\n",
       "    }\n",
       "\n",
       "    .dataframe thead th {\n",
       "        text-align: right;\n",
       "    }\n",
       "</style>\n",
       "<table border=\"1\" class=\"dataframe\">\n",
       "  <thead>\n",
       "    <tr style=\"text-align: right;\">\n",
       "      <th></th>\n",
       "      <th>id</th>\n",
       "      <th>gender</th>\n",
       "      <th>age</th>\n",
       "      <th>country</th>\n",
       "      <th>city</th>\n",
       "      <th>exp_group</th>\n",
       "      <th>os</th>\n",
       "      <th>source</th>\n",
       "    </tr>\n",
       "  </thead>\n",
       "  <tbody>\n",
       "    <tr>\n",
       "      <th>0</th>\n",
       "      <td>212</td>\n",
       "      <td>1</td>\n",
       "      <td>47</td>\n",
       "      <td>Russia</td>\n",
       "      <td>Podolsk</td>\n",
       "      <td>0</td>\n",
       "      <td>iOS</td>\n",
       "      <td>ads</td>\n",
       "    </tr>\n",
       "    <tr>\n",
       "      <th>1</th>\n",
       "      <td>222</td>\n",
       "      <td>0</td>\n",
       "      <td>45</td>\n",
       "      <td>Russia</td>\n",
       "      <td>Ulyanovsk</td>\n",
       "      <td>0</td>\n",
       "      <td>iOS</td>\n",
       "      <td>ads</td>\n",
       "    </tr>\n",
       "    <tr>\n",
       "      <th>2</th>\n",
       "      <td>224</td>\n",
       "      <td>1</td>\n",
       "      <td>32</td>\n",
       "      <td>Russia</td>\n",
       "      <td>Yekaterinburg</td>\n",
       "      <td>2</td>\n",
       "      <td>iOS</td>\n",
       "      <td>ads</td>\n",
       "    </tr>\n",
       "    <tr>\n",
       "      <th>3</th>\n",
       "      <td>226</td>\n",
       "      <td>1</td>\n",
       "      <td>31</td>\n",
       "      <td>Russia</td>\n",
       "      <td>Moscow</td>\n",
       "      <td>4</td>\n",
       "      <td>iOS</td>\n",
       "      <td>ads</td>\n",
       "    </tr>\n",
       "    <tr>\n",
       "      <th>4</th>\n",
       "      <td>243</td>\n",
       "      <td>1</td>\n",
       "      <td>38</td>\n",
       "      <td>Kazakhstan</td>\n",
       "      <td>Ekibastuz</td>\n",
       "      <td>1</td>\n",
       "      <td>iOS</td>\n",
       "      <td>ads</td>\n",
       "    </tr>\n",
       "  </tbody>\n",
       "</table>\n",
       "</div>"
      ],
      "text/plain": [
       "    id  gender  age     country           city  exp_group   os source\n",
       "0  212       1   47      Russia        Podolsk          0  iOS    ads\n",
       "1  222       0   45      Russia      Ulyanovsk          0  iOS    ads\n",
       "2  224       1   32      Russia  Yekaterinburg          2  iOS    ads\n",
       "3  226       1   31      Russia         Moscow          4  iOS    ads\n",
       "4  243       1   38  Kazakhstan      Ekibastuz          1  iOS    ads"
      ]
     },
     "execution_count": 8,
     "metadata": {},
     "output_type": "execute_result"
    }
   ],
   "source": [
    "df = pd.read_sql(request, connection)\n",
    "\n",
    "df.head()"
   ]
  },
  {
   "cell_type": "markdown",
   "id": "d5461678-6b0b-4607-8dfb-d570a4cc8e87",
   "metadata": {},
   "source": [
    "### Task 4. "
   ]
  },
  {
   "cell_type": "markdown",
   "id": "2cf34348-b881-4254-87e8-dbe8f3c07ff2",
   "metadata": {},
   "source": [
    "Get users outside of Russia and they are nor in exp_group 0, nor in exp_group 3 or they are from Minsk. "
   ]
  },
  {
   "cell_type": "code",
   "execution_count": 9,
   "id": "2e936a9b-25cf-4b9c-b6bd-fac878927f40",
   "metadata": {},
   "outputs": [],
   "source": [
    "request = '''\n",
    "SELECT\n",
    "  *\n",
    "FROM\n",
    "  \"user\"\n",
    "WHERE\n",
    "  country <> 'Russia'\n",
    "    AND (exp_group NOT IN (0, 3) OR city = 'Minsk')\n",
    "'''"
   ]
  },
  {
   "cell_type": "code",
   "execution_count": 10,
   "id": "45e01024-96fc-47f7-9403-d3c95f64bd6e",
   "metadata": {},
   "outputs": [
    {
     "data": {
      "text/html": [
       "<div>\n",
       "<style scoped>\n",
       "    .dataframe tbody tr th:only-of-type {\n",
       "        vertical-align: middle;\n",
       "    }\n",
       "\n",
       "    .dataframe tbody tr th {\n",
       "        vertical-align: top;\n",
       "    }\n",
       "\n",
       "    .dataframe thead th {\n",
       "        text-align: right;\n",
       "    }\n",
       "</style>\n",
       "<table border=\"1\" class=\"dataframe\">\n",
       "  <thead>\n",
       "    <tr style=\"text-align: right;\">\n",
       "      <th></th>\n",
       "      <th>id</th>\n",
       "      <th>gender</th>\n",
       "      <th>age</th>\n",
       "      <th>country</th>\n",
       "      <th>city</th>\n",
       "      <th>exp_group</th>\n",
       "      <th>os</th>\n",
       "      <th>source</th>\n",
       "    </tr>\n",
       "  </thead>\n",
       "  <tbody>\n",
       "    <tr>\n",
       "      <th>0</th>\n",
       "      <td>211</td>\n",
       "      <td>1</td>\n",
       "      <td>22</td>\n",
       "      <td>Belarus</td>\n",
       "      <td>Minsk</td>\n",
       "      <td>0</td>\n",
       "      <td>iOS</td>\n",
       "      <td>ads</td>\n",
       "    </tr>\n",
       "    <tr>\n",
       "      <th>1</th>\n",
       "      <td>213</td>\n",
       "      <td>1</td>\n",
       "      <td>22</td>\n",
       "      <td>Ukraine</td>\n",
       "      <td>Kamianske</td>\n",
       "      <td>2</td>\n",
       "      <td>iOS</td>\n",
       "      <td>ads</td>\n",
       "    </tr>\n",
       "    <tr>\n",
       "      <th>2</th>\n",
       "      <td>216</td>\n",
       "      <td>0</td>\n",
       "      <td>38</td>\n",
       "      <td>Ukraine</td>\n",
       "      <td>Lviv</td>\n",
       "      <td>1</td>\n",
       "      <td>Android</td>\n",
       "      <td>ads</td>\n",
       "    </tr>\n",
       "    <tr>\n",
       "      <th>3</th>\n",
       "      <td>218</td>\n",
       "      <td>1</td>\n",
       "      <td>25</td>\n",
       "      <td>Belarus</td>\n",
       "      <td>Minsk</td>\n",
       "      <td>2</td>\n",
       "      <td>iOS</td>\n",
       "      <td>ads</td>\n",
       "    </tr>\n",
       "    <tr>\n",
       "      <th>4</th>\n",
       "      <td>228</td>\n",
       "      <td>0</td>\n",
       "      <td>17</td>\n",
       "      <td>Azerbaijan</td>\n",
       "      <td>Baku</td>\n",
       "      <td>2</td>\n",
       "      <td>iOS</td>\n",
       "      <td>ads</td>\n",
       "    </tr>\n",
       "  </tbody>\n",
       "</table>\n",
       "</div>"
      ],
      "text/plain": [
       "    id  gender  age     country       city  exp_group       os source\n",
       "0  211       1   22     Belarus      Minsk          0      iOS    ads\n",
       "1  213       1   22     Ukraine  Kamianske          2      iOS    ads\n",
       "2  216       0   38     Ukraine       Lviv          1  Android    ads\n",
       "3  218       1   25     Belarus      Minsk          2      iOS    ads\n",
       "4  228       0   17  Azerbaijan       Baku          2      iOS    ads"
      ]
     },
     "execution_count": 10,
     "metadata": {},
     "output_type": "execute_result"
    }
   ],
   "source": [
    "df = pd.read_sql(request, connection)\n",
    "\n",
    "df.head()"
   ]
  },
  {
   "cell_type": "markdown",
   "id": "647588f4-908e-4985-b38d-b93327ee02b6",
   "metadata": {},
   "source": [
    "### Task 5. "
   ]
  },
  {
   "cell_type": "markdown",
   "id": "67e7ebfe-c95f-40a3-9eab-92764bfee275",
   "metadata": {},
   "source": [
    "What is an average age for each country?"
   ]
  },
  {
   "cell_type": "code",
   "execution_count": 11,
   "id": "54f54bd7-d48e-4cf6-b7c1-24230d2c94cd",
   "metadata": {},
   "outputs": [],
   "source": [
    "request = '''\n",
    "SELECT\n",
    "  country,\n",
    "  ROUND(AVG(age), 2) AS avg_age\n",
    "FROM\n",
    "  \"user\"\n",
    "GROUP BY\n",
    "  country\n",
    "'''"
   ]
  },
  {
   "cell_type": "code",
   "execution_count": 12,
   "id": "d927b16c-8065-4350-afc2-9855de6ff01d",
   "metadata": {},
   "outputs": [
    {
     "data": {
      "text/html": [
       "<div>\n",
       "<style scoped>\n",
       "    .dataframe tbody tr th:only-of-type {\n",
       "        vertical-align: middle;\n",
       "    }\n",
       "\n",
       "    .dataframe tbody tr th {\n",
       "        vertical-align: top;\n",
       "    }\n",
       "\n",
       "    .dataframe thead th {\n",
       "        text-align: right;\n",
       "    }\n",
       "</style>\n",
       "<table border=\"1\" class=\"dataframe\">\n",
       "  <thead>\n",
       "    <tr style=\"text-align: right;\">\n",
       "      <th></th>\n",
       "      <th>country</th>\n",
       "      <th>avg_age</th>\n",
       "    </tr>\n",
       "  </thead>\n",
       "  <tbody>\n",
       "    <tr>\n",
       "      <th>0</th>\n",
       "      <td>Azerbaijan</td>\n",
       "      <td>26.78</td>\n",
       "    </tr>\n",
       "    <tr>\n",
       "      <th>1</th>\n",
       "      <td>Belarus</td>\n",
       "      <td>27.28</td>\n",
       "    </tr>\n",
       "    <tr>\n",
       "      <th>2</th>\n",
       "      <td>Cyprus</td>\n",
       "      <td>28.07</td>\n",
       "    </tr>\n",
       "    <tr>\n",
       "      <th>3</th>\n",
       "      <td>Estonia</td>\n",
       "      <td>28.15</td>\n",
       "    </tr>\n",
       "    <tr>\n",
       "      <th>4</th>\n",
       "      <td>Finland</td>\n",
       "      <td>27.13</td>\n",
       "    </tr>\n",
       "  </tbody>\n",
       "</table>\n",
       "</div>"
      ],
      "text/plain": [
       "      country  avg_age\n",
       "0  Azerbaijan    26.78\n",
       "1     Belarus    27.28\n",
       "2      Cyprus    28.07\n",
       "3     Estonia    28.15\n",
       "4     Finland    27.13"
      ]
     },
     "execution_count": 12,
     "metadata": {},
     "output_type": "execute_result"
    }
   ],
   "source": [
    "df = pd.read_sql(request, connection)\n",
    "\n",
    "df.head()"
   ]
  },
  {
   "cell_type": "markdown",
   "id": "4adb78ca-b7c6-41af-85a6-6cca964d33b3",
   "metadata": {},
   "source": [
    "### Task 6. "
   ]
  },
  {
   "cell_type": "markdown",
   "id": "a09e91f5-a024-420c-adb0-b14ad33cbc2a",
   "metadata": {},
   "source": [
    "Aggregate data by `exp_group` and `os` and count total number of users, their min age and max age. "
   ]
  },
  {
   "cell_type": "code",
   "execution_count": 13,
   "id": "cbc688fb-256f-4984-ae42-507532cd76bf",
   "metadata": {},
   "outputs": [],
   "source": [
    "request = '''\n",
    "SELECT\n",
    "  exp_group,\n",
    "  os,\n",
    "  COUNT(DISTINCT(id)) AS total_users,\n",
    "  MAX(age) AS max_age,\n",
    "  MIN(age) AS min_age\n",
    "FROM\n",
    "  \"user\"\n",
    "GROUP BY\n",
    "  exp_group, \n",
    "  os\n",
    "'''"
   ]
  },
  {
   "cell_type": "code",
   "execution_count": 14,
   "id": "5ac51ab9-c4ab-44d0-b911-5a5492919777",
   "metadata": {},
   "outputs": [
    {
     "data": {
      "text/html": [
       "<div>\n",
       "<style scoped>\n",
       "    .dataframe tbody tr th:only-of-type {\n",
       "        vertical-align: middle;\n",
       "    }\n",
       "\n",
       "    .dataframe tbody tr th {\n",
       "        vertical-align: top;\n",
       "    }\n",
       "\n",
       "    .dataframe thead th {\n",
       "        text-align: right;\n",
       "    }\n",
       "</style>\n",
       "<table border=\"1\" class=\"dataframe\">\n",
       "  <thead>\n",
       "    <tr style=\"text-align: right;\">\n",
       "      <th></th>\n",
       "      <th>exp_group</th>\n",
       "      <th>os</th>\n",
       "      <th>total_users</th>\n",
       "      <th>max_age</th>\n",
       "      <th>min_age</th>\n",
       "    </tr>\n",
       "  </thead>\n",
       "  <tbody>\n",
       "    <tr>\n",
       "      <th>0</th>\n",
       "      <td>0</td>\n",
       "      <td>Android</td>\n",
       "      <td>21234</td>\n",
       "      <td>95</td>\n",
       "      <td>14</td>\n",
       "    </tr>\n",
       "    <tr>\n",
       "      <th>1</th>\n",
       "      <td>0</td>\n",
       "      <td>iOS</td>\n",
       "      <td>11489</td>\n",
       "      <td>79</td>\n",
       "      <td>14</td>\n",
       "    </tr>\n",
       "    <tr>\n",
       "      <th>2</th>\n",
       "      <td>1</td>\n",
       "      <td>Android</td>\n",
       "      <td>21232</td>\n",
       "      <td>92</td>\n",
       "      <td>14</td>\n",
       "    </tr>\n",
       "    <tr>\n",
       "      <th>3</th>\n",
       "      <td>1</td>\n",
       "      <td>iOS</td>\n",
       "      <td>11406</td>\n",
       "      <td>87</td>\n",
       "      <td>14</td>\n",
       "    </tr>\n",
       "    <tr>\n",
       "      <th>4</th>\n",
       "      <td>2</td>\n",
       "      <td>Android</td>\n",
       "      <td>21102</td>\n",
       "      <td>78</td>\n",
       "      <td>14</td>\n",
       "    </tr>\n",
       "  </tbody>\n",
       "</table>\n",
       "</div>"
      ],
      "text/plain": [
       "   exp_group       os  total_users  max_age  min_age\n",
       "0          0  Android        21234       95       14\n",
       "1          0      iOS        11489       79       14\n",
       "2          1  Android        21232       92       14\n",
       "3          1      iOS        11406       87       14\n",
       "4          2  Android        21102       78       14"
      ]
     },
     "execution_count": 14,
     "metadata": {},
     "output_type": "execute_result"
    }
   ],
   "source": [
    "df = pd.read_sql(request, connection)\n",
    "\n",
    "df.head()"
   ]
  },
  {
   "cell_type": "code",
   "execution_count": 15,
   "id": "1a5188fe-1d13-4538-8ba6-69470c2f8c2c",
   "metadata": {},
   "outputs": [],
   "source": [
    "df.to_csv('06_total_users.csv', sep=',', index=False)"
   ]
  },
  {
   "cell_type": "markdown",
   "id": "e4594bb8-3f4d-48a5-84ad-d2e5f4fc461c",
   "metadata": {},
   "source": [
    "### Task 7. "
   ]
  },
  {
   "cell_type": "markdown",
   "id": "bc4f63a3-a76f-497c-a60f-c6ccd7ea4f35",
   "metadata": {},
   "source": [
    "Count max length of a text for each topic. "
   ]
  },
  {
   "cell_type": "code",
   "execution_count": 16,
   "id": "b3229154-b2c9-4124-80c4-0fb1f17bb2c6",
   "metadata": {},
   "outputs": [],
   "source": [
    "request = '''\n",
    "SELECT\n",
    "  topic,\n",
    "  MAX(LENGTH(text)) AS max_len\n",
    "FROM\n",
    "  \"post\"\n",
    "GROUP BY\n",
    "  topic\n",
    "'''"
   ]
  },
  {
   "cell_type": "code",
   "execution_count": 17,
   "id": "ec9e3c8f-69da-4936-908b-440825f97914",
   "metadata": {},
   "outputs": [
    {
     "data": {
      "text/html": [
       "<div>\n",
       "<style scoped>\n",
       "    .dataframe tbody tr th:only-of-type {\n",
       "        vertical-align: middle;\n",
       "    }\n",
       "\n",
       "    .dataframe tbody tr th {\n",
       "        vertical-align: top;\n",
       "    }\n",
       "\n",
       "    .dataframe thead th {\n",
       "        text-align: right;\n",
       "    }\n",
       "</style>\n",
       "<table border=\"1\" class=\"dataframe\">\n",
       "  <thead>\n",
       "    <tr style=\"text-align: right;\">\n",
       "      <th></th>\n",
       "      <th>topic</th>\n",
       "      <th>max_len</th>\n",
       "    </tr>\n",
       "  </thead>\n",
       "  <tbody>\n",
       "    <tr>\n",
       "      <th>0</th>\n",
       "      <td>tech</td>\n",
       "      <td>16063</td>\n",
       "    </tr>\n",
       "    <tr>\n",
       "      <th>1</th>\n",
       "      <td>covid</td>\n",
       "      <td>148</td>\n",
       "    </tr>\n",
       "    <tr>\n",
       "      <th>2</th>\n",
       "      <td>movie</td>\n",
       "      <td>10234</td>\n",
       "    </tr>\n",
       "    <tr>\n",
       "      <th>3</th>\n",
       "      <td>entertainment</td>\n",
       "      <td>19004</td>\n",
       "    </tr>\n",
       "    <tr>\n",
       "      <th>4</th>\n",
       "      <td>politics</td>\n",
       "      <td>25392</td>\n",
       "    </tr>\n",
       "  </tbody>\n",
       "</table>\n",
       "</div>"
      ],
      "text/plain": [
       "           topic  max_len\n",
       "0           tech    16063\n",
       "1          covid      148\n",
       "2          movie    10234\n",
       "3  entertainment    19004\n",
       "4       politics    25392"
      ]
     },
     "execution_count": 17,
     "metadata": {},
     "output_type": "execute_result"
    }
   ],
   "source": [
    "df = pd.read_sql(request, connection)\n",
    "\n",
    "df.head()"
   ]
  },
  {
   "cell_type": "markdown",
   "id": "6ed7a903-ff7e-44b7-89e7-68ad2f777ef5",
   "metadata": {},
   "source": [
    "### Task 8. "
   ]
  },
  {
   "cell_type": "markdown",
   "id": "c631bdc4-f541-432b-8713-984ad28c7f9b",
   "metadata": {},
   "source": [
    "Find a country having the least amount of users among countries having more than 1000 users. "
   ]
  },
  {
   "cell_type": "code",
   "execution_count": 18,
   "id": "8cbe0b38-5e3a-4cae-bde7-bd3cac1a752d",
   "metadata": {},
   "outputs": [],
   "source": [
    "request = '''\n",
    "SELECT\n",
    "  country,\n",
    "  COUNT(DISTINCT(id)) AS total_users\n",
    "FROM\n",
    "  \"user\"\n",
    "GROUP BY\n",
    "  country\n",
    "HAVING\n",
    "  COUNT(DISTINCT(id)) > 1000\n",
    "ORDER BY \n",
    "  2\n",
    "'''"
   ]
  },
  {
   "cell_type": "code",
   "execution_count": 19,
   "id": "afc2c1a5-357f-40f7-a729-153eee3dcaaa",
   "metadata": {},
   "outputs": [
    {
     "data": {
      "text/html": [
       "<div>\n",
       "<style scoped>\n",
       "    .dataframe tbody tr th:only-of-type {\n",
       "        vertical-align: middle;\n",
       "    }\n",
       "\n",
       "    .dataframe tbody tr th {\n",
       "        vertical-align: top;\n",
       "    }\n",
       "\n",
       "    .dataframe thead th {\n",
       "        text-align: right;\n",
       "    }\n",
       "</style>\n",
       "<table border=\"1\" class=\"dataframe\">\n",
       "  <thead>\n",
       "    <tr style=\"text-align: right;\">\n",
       "      <th></th>\n",
       "      <th>country</th>\n",
       "      <th>total_users</th>\n",
       "    </tr>\n",
       "  </thead>\n",
       "  <tbody>\n",
       "    <tr>\n",
       "      <th>0</th>\n",
       "      <td>Azerbaijan</td>\n",
       "      <td>1542</td>\n",
       "    </tr>\n",
       "    <tr>\n",
       "      <th>1</th>\n",
       "      <td>Finland</td>\n",
       "      <td>1599</td>\n",
       "    </tr>\n",
       "    <tr>\n",
       "      <th>2</th>\n",
       "      <td>Turkey</td>\n",
       "      <td>1606</td>\n",
       "    </tr>\n",
       "    <tr>\n",
       "      <th>3</th>\n",
       "      <td>Kazakhstan</td>\n",
       "      <td>3172</td>\n",
       "    </tr>\n",
       "    <tr>\n",
       "      <th>4</th>\n",
       "      <td>Belarus</td>\n",
       "      <td>3293</td>\n",
       "    </tr>\n",
       "  </tbody>\n",
       "</table>\n",
       "</div>"
      ],
      "text/plain": [
       "      country  total_users\n",
       "0  Azerbaijan         1542\n",
       "1     Finland         1599\n",
       "2      Turkey         1606\n",
       "3  Kazakhstan         3172\n",
       "4     Belarus         3293"
      ]
     },
     "execution_count": 19,
     "metadata": {},
     "output_type": "execute_result"
    }
   ],
   "source": [
    "df = pd.read_sql(request, connection)\n",
    "\n",
    "df.head()"
   ]
  },
  {
   "cell_type": "markdown",
   "id": "715b92d5-56c3-44ae-8b94-5b071231d569",
   "metadata": {},
   "source": [
    "### Task 9. "
   ]
  },
  {
   "cell_type": "markdown",
   "id": "78b5675b-a7bf-45df-9e1e-7fe576e3aa25",
   "metadata": {},
   "source": [
    "Count a number of users in each exp_group by the country. "
   ]
  },
  {
   "cell_type": "code",
   "execution_count": 20,
   "id": "bca61cfe-b8c9-4b29-a8aa-a1afcd162a7b",
   "metadata": {},
   "outputs": [],
   "source": [
    "request = '''\n",
    "SELECT \n",
    "  country, \n",
    "  exp_group, \n",
    "  COUNT(id) AS total_users\n",
    "FROM \n",
    "  \"user\"\n",
    "GROUP BY \n",
    "  country, \n",
    "  exp_group\n",
    "'''"
   ]
  },
  {
   "cell_type": "code",
   "execution_count": 21,
   "id": "1285a8ef-f54b-41c4-8057-d42476975e4d",
   "metadata": {},
   "outputs": [
    {
     "data": {
      "text/html": [
       "<div>\n",
       "<style scoped>\n",
       "    .dataframe tbody tr th:only-of-type {\n",
       "        vertical-align: middle;\n",
       "    }\n",
       "\n",
       "    .dataframe tbody tr th {\n",
       "        vertical-align: top;\n",
       "    }\n",
       "\n",
       "    .dataframe thead th {\n",
       "        text-align: right;\n",
       "    }\n",
       "</style>\n",
       "<table border=\"1\" class=\"dataframe\">\n",
       "  <thead>\n",
       "    <tr style=\"text-align: right;\">\n",
       "      <th></th>\n",
       "      <th>country</th>\n",
       "      <th>exp_group</th>\n",
       "      <th>total_users</th>\n",
       "    </tr>\n",
       "  </thead>\n",
       "  <tbody>\n",
       "    <tr>\n",
       "      <th>0</th>\n",
       "      <td>Azerbaijan</td>\n",
       "      <td>0</td>\n",
       "      <td>341</td>\n",
       "    </tr>\n",
       "    <tr>\n",
       "      <th>1</th>\n",
       "      <td>Azerbaijan</td>\n",
       "      <td>1</td>\n",
       "      <td>271</td>\n",
       "    </tr>\n",
       "    <tr>\n",
       "      <th>2</th>\n",
       "      <td>Azerbaijan</td>\n",
       "      <td>2</td>\n",
       "      <td>327</td>\n",
       "    </tr>\n",
       "    <tr>\n",
       "      <th>3</th>\n",
       "      <td>Azerbaijan</td>\n",
       "      <td>3</td>\n",
       "      <td>308</td>\n",
       "    </tr>\n",
       "    <tr>\n",
       "      <th>4</th>\n",
       "      <td>Azerbaijan</td>\n",
       "      <td>4</td>\n",
       "      <td>295</td>\n",
       "    </tr>\n",
       "  </tbody>\n",
       "</table>\n",
       "</div>"
      ],
      "text/plain": [
       "      country  exp_group  total_users\n",
       "0  Azerbaijan          0          341\n",
       "1  Azerbaijan          1          271\n",
       "2  Azerbaijan          2          327\n",
       "3  Azerbaijan          3          308\n",
       "4  Azerbaijan          4          295"
      ]
     },
     "execution_count": 21,
     "metadata": {},
     "output_type": "execute_result"
    }
   ],
   "source": [
    "df = pd.read_sql(request, connection)\n",
    "\n",
    "df.head()"
   ]
  },
  {
   "cell_type": "markdown",
   "id": "a949e7bf-a804-4384-8b64-5835d5b7b4e3",
   "metadata": {},
   "source": [
    "### Task 10. "
   ]
  },
  {
   "cell_type": "markdown",
   "id": "fc5cbe9d-9ca5-48bb-b2d3-6b18ae77a366",
   "metadata": {},
   "source": [
    "Find exp_group size of users living in Moscow for groups average age of users in which is greater than 27.2 years. "
   ]
  },
  {
   "cell_type": "code",
   "execution_count": 22,
   "id": "b28590c2-ccd3-4906-b614-4bdbfe8d341b",
   "metadata": {},
   "outputs": [],
   "source": [
    "request = '''\n",
    "SELECT \n",
    "  exp_group, \n",
    "  COUNT(DISTINCT(id)) AS total_users\n",
    "FROM \n",
    "  \"user\"\n",
    "WHERE\n",
    "  city = 'Moscow'\n",
    "GROUP BY \n",
    "  exp_group\n",
    "HAVING\n",
    "  AVG(age) > 27.2\n",
    "'''"
   ]
  },
  {
   "cell_type": "code",
   "execution_count": 23,
   "id": "e596fafd-4f7c-4581-9276-4e3d8546b025",
   "metadata": {},
   "outputs": [
    {
     "data": {
      "text/html": [
       "<div>\n",
       "<style scoped>\n",
       "    .dataframe tbody tr th:only-of-type {\n",
       "        vertical-align: middle;\n",
       "    }\n",
       "\n",
       "    .dataframe tbody tr th {\n",
       "        vertical-align: top;\n",
       "    }\n",
       "\n",
       "    .dataframe thead th {\n",
       "        text-align: right;\n",
       "    }\n",
       "</style>\n",
       "<table border=\"1\" class=\"dataframe\">\n",
       "  <thead>\n",
       "    <tr style=\"text-align: right;\">\n",
       "      <th></th>\n",
       "      <th>exp_group</th>\n",
       "      <th>total_users</th>\n",
       "    </tr>\n",
       "  </thead>\n",
       "  <tbody>\n",
       "    <tr>\n",
       "      <th>0</th>\n",
       "      <td>1</td>\n",
       "      <td>4414</td>\n",
       "    </tr>\n",
       "    <tr>\n",
       "      <th>1</th>\n",
       "      <td>3</td>\n",
       "      <td>4378</td>\n",
       "    </tr>\n",
       "  </tbody>\n",
       "</table>\n",
       "</div>"
      ],
      "text/plain": [
       "   exp_group  total_users\n",
       "0          1         4414\n",
       "1          3         4378"
      ]
     },
     "execution_count": 23,
     "metadata": {},
     "output_type": "execute_result"
    }
   ],
   "source": [
    "df = pd.read_sql(request, connection)\n",
    "\n",
    "df.head()"
   ]
  },
  {
   "cell_type": "markdown",
   "id": "7812f93a-5e53-4fba-a29d-702cf8a876c8",
   "metadata": {},
   "source": [
    "### Task 11. "
   ]
  },
  {
   "cell_type": "markdown",
   "id": "523bbd78-d86e-4c69-9a11-78dba0a1f2f5",
   "metadata": {},
   "source": [
    "Find the 3 top most popular topics. "
   ]
  },
  {
   "cell_type": "code",
   "execution_count": 24,
   "id": "ea022462-d4b5-4f9d-a369-2d598a6fd374",
   "metadata": {},
   "outputs": [],
   "source": [
    "request = '''\n",
    "SELECT\n",
    "  topic,\n",
    "  COUNT(DISTINCT(id)) AS posts_cnt\n",
    "FROM\n",
    "  \"post\"\n",
    "GROUP BY\n",
    "  topic\n",
    "ORDER BY\n",
    "  2 DESC\n",
    "LIMIT\n",
    "  3\n",
    "'''"
   ]
  },
  {
   "cell_type": "code",
   "execution_count": 25,
   "id": "7c3a2cf9-d153-4068-bb74-d2b22bbc8041",
   "metadata": {},
   "outputs": [
    {
     "data": {
      "text/html": [
       "<div>\n",
       "<style scoped>\n",
       "    .dataframe tbody tr th:only-of-type {\n",
       "        vertical-align: middle;\n",
       "    }\n",
       "\n",
       "    .dataframe tbody tr th {\n",
       "        vertical-align: top;\n",
       "    }\n",
       "\n",
       "    .dataframe thead th {\n",
       "        text-align: right;\n",
       "    }\n",
       "</style>\n",
       "<table border=\"1\" class=\"dataframe\">\n",
       "  <thead>\n",
       "    <tr style=\"text-align: right;\">\n",
       "      <th></th>\n",
       "      <th>topic</th>\n",
       "      <th>posts_cnt</th>\n",
       "    </tr>\n",
       "  </thead>\n",
       "  <tbody>\n",
       "    <tr>\n",
       "      <th>0</th>\n",
       "      <td>movie</td>\n",
       "      <td>3000</td>\n",
       "    </tr>\n",
       "    <tr>\n",
       "      <th>1</th>\n",
       "      <td>covid</td>\n",
       "      <td>1799</td>\n",
       "    </tr>\n",
       "    <tr>\n",
       "      <th>2</th>\n",
       "      <td>business</td>\n",
       "      <td>510</td>\n",
       "    </tr>\n",
       "  </tbody>\n",
       "</table>\n",
       "</div>"
      ],
      "text/plain": [
       "      topic  posts_cnt\n",
       "0     movie       3000\n",
       "1     covid       1799\n",
       "2  business        510"
      ]
     },
     "execution_count": 25,
     "metadata": {},
     "output_type": "execute_result"
    }
   ],
   "source": [
    "df = pd.read_sql(request, connection)\n",
    "\n",
    "df.head()"
   ]
  },
  {
   "cell_type": "markdown",
   "id": "f438625d-86ed-4cfc-8600-e2333e7f959a",
   "metadata": {},
   "source": [
    "### Task 12. "
   ]
  },
  {
   "cell_type": "markdown",
   "id": "1a1d0660-33b5-480e-851e-4b977d6ca9de",
   "metadata": {},
   "source": [
    "Get users from Voronezh and sort them by age in descending order. In case someone has the same age sort them by exp_group number in ascending order. "
   ]
  },
  {
   "cell_type": "code",
   "execution_count": 26,
   "id": "d4f817a1-7205-47c6-a28f-001103f99a78",
   "metadata": {},
   "outputs": [],
   "source": [
    "request = '''\n",
    "SELECT \n",
    "  *\n",
    "FROM \n",
    "  \"user\"\n",
    "WHERE\n",
    "  city = 'Voronezh'\n",
    "ORDER BY\n",
    "  age DESC, \n",
    "  exp_group\n",
    "'''"
   ]
  },
  {
   "cell_type": "code",
   "execution_count": 27,
   "id": "706fb3e7-2c37-4def-8085-5ff732bd72cc",
   "metadata": {},
   "outputs": [
    {
     "data": {
      "text/html": [
       "<div>\n",
       "<style scoped>\n",
       "    .dataframe tbody tr th:only-of-type {\n",
       "        vertical-align: middle;\n",
       "    }\n",
       "\n",
       "    .dataframe tbody tr th {\n",
       "        vertical-align: top;\n",
       "    }\n",
       "\n",
       "    .dataframe thead th {\n",
       "        text-align: right;\n",
       "    }\n",
       "</style>\n",
       "<table border=\"1\" class=\"dataframe\">\n",
       "  <thead>\n",
       "    <tr style=\"text-align: right;\">\n",
       "      <th></th>\n",
       "      <th>id</th>\n",
       "      <th>gender</th>\n",
       "      <th>age</th>\n",
       "      <th>country</th>\n",
       "      <th>city</th>\n",
       "      <th>exp_group</th>\n",
       "      <th>os</th>\n",
       "      <th>source</th>\n",
       "    </tr>\n",
       "  </thead>\n",
       "  <tbody>\n",
       "    <tr>\n",
       "      <th>0</th>\n",
       "      <td>89990</td>\n",
       "      <td>0</td>\n",
       "      <td>71</td>\n",
       "      <td>Russia</td>\n",
       "      <td>Voronezh</td>\n",
       "      <td>0</td>\n",
       "      <td>Android</td>\n",
       "      <td>ads</td>\n",
       "    </tr>\n",
       "    <tr>\n",
       "      <th>1</th>\n",
       "      <td>2441</td>\n",
       "      <td>1</td>\n",
       "      <td>71</td>\n",
       "      <td>Russia</td>\n",
       "      <td>Voronezh</td>\n",
       "      <td>3</td>\n",
       "      <td>Android</td>\n",
       "      <td>ads</td>\n",
       "    </tr>\n",
       "    <tr>\n",
       "      <th>2</th>\n",
       "      <td>14184</td>\n",
       "      <td>1</td>\n",
       "      <td>66</td>\n",
       "      <td>Russia</td>\n",
       "      <td>Voronezh</td>\n",
       "      <td>3</td>\n",
       "      <td>Android</td>\n",
       "      <td>ads</td>\n",
       "    </tr>\n",
       "    <tr>\n",
       "      <th>3</th>\n",
       "      <td>35093</td>\n",
       "      <td>0</td>\n",
       "      <td>65</td>\n",
       "      <td>Russia</td>\n",
       "      <td>Voronezh</td>\n",
       "      <td>0</td>\n",
       "      <td>Android</td>\n",
       "      <td>ads</td>\n",
       "    </tr>\n",
       "    <tr>\n",
       "      <th>4</th>\n",
       "      <td>77284</td>\n",
       "      <td>0</td>\n",
       "      <td>64</td>\n",
       "      <td>Russia</td>\n",
       "      <td>Voronezh</td>\n",
       "      <td>4</td>\n",
       "      <td>Android</td>\n",
       "      <td>ads</td>\n",
       "    </tr>\n",
       "  </tbody>\n",
       "</table>\n",
       "</div>"
      ],
      "text/plain": [
       "      id  gender  age country      city  exp_group       os source\n",
       "0  89990       0   71  Russia  Voronezh          0  Android    ads\n",
       "1   2441       1   71  Russia  Voronezh          3  Android    ads\n",
       "2  14184       1   66  Russia  Voronezh          3  Android    ads\n",
       "3  35093       0   65  Russia  Voronezh          0  Android    ads\n",
       "4  77284       0   64  Russia  Voronezh          4  Android    ads"
      ]
     },
     "execution_count": 27,
     "metadata": {},
     "output_type": "execute_result"
    }
   ],
   "source": [
    "df = pd.read_sql(request, connection)\n",
    "\n",
    "df.head()"
   ]
  },
  {
   "cell_type": "markdown",
   "id": "04c42a23-157e-4a3b-8388-73997a048944",
   "metadata": {},
   "source": [
    "### Task 13. "
   ]
  },
  {
   "cell_type": "markdown",
   "id": "ddc9f5d2-1547-467d-9602-f6f21dd24435",
   "metadata": {},
   "source": [
    "Select post_id, time, age, and os for all likes from users in Omsk. Sort the results in descending order of time and save the first 100 values to a CSV format."
   ]
  },
  {
   "cell_type": "code",
   "execution_count": 28,
   "id": "0f1ae877-9a97-4059-a3ec-c56391a35767",
   "metadata": {},
   "outputs": [],
   "source": [
    "request = '''\n",
    "SELECT \n",
    "  fa.post_id,\n",
    "  fa.time,\n",
    "  u.age,\n",
    "  u.os\n",
    "FROM \n",
    "  \"user\" u \n",
    "JOIN\n",
    "  (\n",
    "   SELECT\n",
    "     f.post_id,\n",
    "     f.user_id,\n",
    "     f.time\n",
    "   FROM\n",
    "     \"feed_action\" f\n",
    "   WHERE\n",
    "     f.action = 'like'\n",
    "  ) fa ON fa.user_id = u.id\n",
    "WHERE\n",
    "  u.city = 'Omsk'\n",
    "ORDER BY\n",
    "  2 DESC\n",
    "LIMIT \n",
    "  100\n",
    "'''"
   ]
  },
  {
   "cell_type": "code",
   "execution_count": 29,
   "id": "9653bf5f-50b6-4b8e-b635-fcb3f29304ae",
   "metadata": {},
   "outputs": [
    {
     "data": {
      "text/html": [
       "<div>\n",
       "<style scoped>\n",
       "    .dataframe tbody tr th:only-of-type {\n",
       "        vertical-align: middle;\n",
       "    }\n",
       "\n",
       "    .dataframe tbody tr th {\n",
       "        vertical-align: top;\n",
       "    }\n",
       "\n",
       "    .dataframe thead th {\n",
       "        text-align: right;\n",
       "    }\n",
       "</style>\n",
       "<table border=\"1\" class=\"dataframe\">\n",
       "  <thead>\n",
       "    <tr style=\"text-align: right;\">\n",
       "      <th></th>\n",
       "      <th>post_id</th>\n",
       "      <th>time</th>\n",
       "      <th>age</th>\n",
       "      <th>os</th>\n",
       "    </tr>\n",
       "  </thead>\n",
       "  <tbody>\n",
       "    <tr>\n",
       "      <th>0</th>\n",
       "      <td>7159</td>\n",
       "      <td>2022-01-26 23:59:54</td>\n",
       "      <td>17</td>\n",
       "      <td>Android</td>\n",
       "    </tr>\n",
       "    <tr>\n",
       "      <th>1</th>\n",
       "      <td>7184</td>\n",
       "      <td>2022-01-26 23:56:30</td>\n",
       "      <td>17</td>\n",
       "      <td>Android</td>\n",
       "    </tr>\n",
       "    <tr>\n",
       "      <th>2</th>\n",
       "      <td>7265</td>\n",
       "      <td>2022-01-26 23:56:03</td>\n",
       "      <td>17</td>\n",
       "      <td>Android</td>\n",
       "    </tr>\n",
       "    <tr>\n",
       "      <th>3</th>\n",
       "      <td>7256</td>\n",
       "      <td>2022-01-26 23:55:24</td>\n",
       "      <td>17</td>\n",
       "      <td>Android</td>\n",
       "    </tr>\n",
       "    <tr>\n",
       "      <th>4</th>\n",
       "      <td>7080</td>\n",
       "      <td>2022-01-26 23:55:12</td>\n",
       "      <td>17</td>\n",
       "      <td>Android</td>\n",
       "    </tr>\n",
       "  </tbody>\n",
       "</table>\n",
       "</div>"
      ],
      "text/plain": [
       "   post_id                time  age       os\n",
       "0     7159 2022-01-26 23:59:54   17  Android\n",
       "1     7184 2022-01-26 23:56:30   17  Android\n",
       "2     7265 2022-01-26 23:56:03   17  Android\n",
       "3     7256 2022-01-26 23:55:24   17  Android\n",
       "4     7080 2022-01-26 23:55:12   17  Android"
      ]
     },
     "execution_count": 29,
     "metadata": {},
     "output_type": "execute_result"
    }
   ],
   "source": [
    "df = pd.read_sql(request, connection)\n",
    "\n",
    "df.head()"
   ]
  },
  {
   "cell_type": "code",
   "execution_count": 30,
   "id": "d5fba379-dd1e-4d19-ab4d-f6ead5ef5669",
   "metadata": {},
   "outputs": [
    {
     "data": {
      "text/plain": [
       "(100, 4)"
      ]
     },
     "execution_count": 30,
     "metadata": {},
     "output_type": "execute_result"
    }
   ],
   "source": [
    "df.shape"
   ]
  },
  {
   "cell_type": "code",
   "execution_count": 31,
   "id": "c417225a-2b47-4eae-8285-ba52fc8d2e79",
   "metadata": {},
   "outputs": [],
   "source": [
    "df.to_csv('06_like_from_omsk.csv', sep=',', index=False)"
   ]
  },
  {
   "cell_type": "markdown",
   "id": "525016aa-3b12-4d93-a18d-55cbbbc8d844",
   "metadata": {},
   "source": [
    "### Task 14. "
   ]
  },
  {
   "cell_type": "markdown",
   "id": "12b0c450-89cc-456a-abc8-13ace6955ca0",
   "metadata": {},
   "source": [
    "Find the city where users aged 36 viewed the COVID-related post the least number of times on December 1, 2021, compared to other cities.Find the city where users aged 36 viewed the COVID-related post the least number of times on December 1, 2021, compared to other cities."
   ]
  },
  {
   "cell_type": "code",
   "execution_count": 32,
   "id": "65998580-1e44-4945-b33f-823435b1520b",
   "metadata": {},
   "outputs": [],
   "source": [
    "request = '''\n",
    "WITH posts AS (\n",
    "SELECT \n",
    "  f.user_id, \n",
    "  f.post_id\n",
    "FROM \n",
    "  \"feed_action\" f\n",
    "WHERE \n",
    "  f.action = 'view'\n",
    "    AND DATE(f.time) = '2021-12-01'\n",
    "),\n",
    "topics AS (\n",
    "SELECT \n",
    "  p.id\n",
    "FROM \n",
    "  \"post\" p\n",
    "WHERE \n",
    "  p.topic = 'covid'\n",
    "),\n",
    "old_users AS (\n",
    "SELECT \n",
    "  u.id,\n",
    "  u.city\n",
    "FROM \n",
    "  \"user\" u \n",
    "WHERE\n",
    "  u.age = 36\n",
    ")\n",
    "\n",
    "SELECT\n",
    "  ou.city\n",
    "FROM \n",
    "  old_users ou\n",
    "JOIN\n",
    "  posts po ON po.user_id = ou.id\n",
    "JOIN\n",
    "  topics t ON t.id = po.post_id\n",
    "'''"
   ]
  },
  {
   "cell_type": "code",
   "execution_count": 33,
   "id": "1ac34c3b-6bed-466a-9b6e-da208424aa2a",
   "metadata": {},
   "outputs": [
    {
     "data": {
      "text/html": [
       "<div>\n",
       "<style scoped>\n",
       "    .dataframe tbody tr th:only-of-type {\n",
       "        vertical-align: middle;\n",
       "    }\n",
       "\n",
       "    .dataframe tbody tr th {\n",
       "        vertical-align: top;\n",
       "    }\n",
       "\n",
       "    .dataframe thead th {\n",
       "        text-align: right;\n",
       "    }\n",
       "</style>\n",
       "<table border=\"1\" class=\"dataframe\">\n",
       "  <thead>\n",
       "    <tr style=\"text-align: right;\">\n",
       "      <th></th>\n",
       "      <th>city</th>\n",
       "    </tr>\n",
       "  </thead>\n",
       "  <tbody>\n",
       "    <tr>\n",
       "      <th>0</th>\n",
       "      <td>Tula</td>\n",
       "    </tr>\n",
       "    <tr>\n",
       "      <th>1</th>\n",
       "      <td>Kolomna</td>\n",
       "    </tr>\n",
       "    <tr>\n",
       "      <th>2</th>\n",
       "      <td>Kolomna</td>\n",
       "    </tr>\n",
       "    <tr>\n",
       "      <th>3</th>\n",
       "      <td>Novorossiysk</td>\n",
       "    </tr>\n",
       "    <tr>\n",
       "      <th>4</th>\n",
       "      <td>Novorossiysk</td>\n",
       "    </tr>\n",
       "  </tbody>\n",
       "</table>\n",
       "</div>"
      ],
      "text/plain": [
       "           city\n",
       "0          Tula\n",
       "1       Kolomna\n",
       "2       Kolomna\n",
       "3  Novorossiysk\n",
       "4  Novorossiysk"
      ]
     },
     "execution_count": 33,
     "metadata": {},
     "output_type": "execute_result"
    }
   ],
   "source": [
    "df = pd.read_sql(request, connection)\n",
    "\n",
    "df.head()"
   ]
  },
  {
   "cell_type": "code",
   "execution_count": 34,
   "id": "2e6fb48e-afa0-4677-8903-c612eaa25c9a",
   "metadata": {},
   "outputs": [
    {
     "data": {
      "text/plain": [
       "Arkhangelsk    5\n",
       "Name: city, dtype: int64"
      ]
     },
     "execution_count": 34,
     "metadata": {},
     "output_type": "execute_result"
    }
   ],
   "source": [
    "df.city.value_counts().tail(1)"
   ]
  },
  {
   "cell_type": "markdown",
   "id": "cdd562c6-b3eb-4084-9309-9a12d2959266",
   "metadata": {},
   "source": [
    "### Task 15. "
   ]
  },
  {
   "cell_type": "markdown",
   "id": "f827b2ad-1390-4484-bf2e-7c8c9c5e833f",
   "metadata": {},
   "source": [
    "Write an SQL query that retrieves: the top N posts by likes, the number of users who liked each post, the time of the most recent like."
   ]
  },
  {
   "cell_type": "code",
   "execution_count": 35,
   "id": "512a3b74-b398-4c82-97ec-2bdda1bb098d",
   "metadata": {},
   "outputs": [],
   "source": [
    "request = '''\n",
    "WITH most_likes AS (\n",
    "SELECT \n",
    "  f.post_id,\n",
    "  COUNT(f.user_id) AS likes\n",
    "FROM \n",
    "  \"feed_action\" f\n",
    "WHERE \n",
    "  f.action = 'like'\n",
    "GROUP BY\n",
    "  f.post_id\n",
    ")\n",
    "\n",
    "SELECT\n",
    "  ml.*,\n",
    "  mt.last_like_time\n",
    "FROM\n",
    "  most_likes ml\n",
    "JOIN\n",
    "  (\n",
    "   SELECT\n",
    "     post_id,\n",
    "     MAX(time) as last_like_time\n",
    "   FROM\n",
    "     \"feed_action\" fa\n",
    "   WHERE \n",
    "     fa.action = 'like'\n",
    "   GROUP BY\n",
    "     fa.post_id\n",
    "  ) mt ON mt.post_id = ml.post_id \n",
    "ORDER BY\n",
    "  2 DESC\n",
    "'''"
   ]
  },
  {
   "cell_type": "code",
   "execution_count": 36,
   "id": "ad3b9fd3-cc02-40fb-8910-f013fbd64690",
   "metadata": {},
   "outputs": [
    {
     "data": {
      "text/html": [
       "<div>\n",
       "<style scoped>\n",
       "    .dataframe tbody tr th:only-of-type {\n",
       "        vertical-align: middle;\n",
       "    }\n",
       "\n",
       "    .dataframe tbody tr th {\n",
       "        vertical-align: top;\n",
       "    }\n",
       "\n",
       "    .dataframe thead th {\n",
       "        text-align: right;\n",
       "    }\n",
       "</style>\n",
       "<table border=\"1\" class=\"dataframe\">\n",
       "  <thead>\n",
       "    <tr style=\"text-align: right;\">\n",
       "      <th></th>\n",
       "      <th>post_id</th>\n",
       "      <th>likes</th>\n",
       "      <th>last_like_time</th>\n",
       "    </tr>\n",
       "  </thead>\n",
       "  <tbody>\n",
       "    <tr>\n",
       "      <th>0</th>\n",
       "      <td>4866</td>\n",
       "      <td>31714</td>\n",
       "      <td>2022-01-01 13:57:43</td>\n",
       "    </tr>\n",
       "    <tr>\n",
       "      <th>1</th>\n",
       "      <td>5127</td>\n",
       "      <td>29637</td>\n",
       "      <td>2022-01-05 13:52:17</td>\n",
       "    </tr>\n",
       "    <tr>\n",
       "      <th>2</th>\n",
       "      <td>6448</td>\n",
       "      <td>27939</td>\n",
       "      <td>2022-01-22 05:50:39</td>\n",
       "    </tr>\n",
       "    <tr>\n",
       "      <th>3</th>\n",
       "      <td>6498</td>\n",
       "      <td>27729</td>\n",
       "      <td>2022-01-22 21:45:11</td>\n",
       "    </tr>\n",
       "    <tr>\n",
       "      <th>4</th>\n",
       "      <td>6513</td>\n",
       "      <td>27686</td>\n",
       "      <td>2022-01-22 19:59:52</td>\n",
       "    </tr>\n",
       "  </tbody>\n",
       "</table>\n",
       "</div>"
      ],
      "text/plain": [
       "   post_id  likes      last_like_time\n",
       "0     4866  31714 2022-01-01 13:57:43\n",
       "1     5127  29637 2022-01-05 13:52:17\n",
       "2     6448  27939 2022-01-22 05:50:39\n",
       "3     6498  27729 2022-01-22 21:45:11\n",
       "4     6513  27686 2022-01-22 19:59:52"
      ]
     },
     "execution_count": 36,
     "metadata": {},
     "output_type": "execute_result"
    }
   ],
   "source": [
    "df = pd.read_sql(request, connection)\n",
    "\n",
    "df.head()"
   ]
  },
  {
   "cell_type": "code",
   "execution_count": null,
   "id": "8718ec67-fce5-4f94-bac5-c86ccf470bc1",
   "metadata": {},
   "outputs": [],
   "source": []
  }
 ],
 "metadata": {
  "kernelspec": {
   "display_name": "Python 3 (ipykernel)",
   "language": "python",
   "name": "python3"
  },
  "language_info": {
   "codemirror_mode": {
    "name": "ipython",
    "version": 3
   },
   "file_extension": ".py",
   "mimetype": "text/x-python",
   "name": "python",
   "nbconvert_exporter": "python",
   "pygments_lexer": "ipython3",
   "version": "3.8.10"
  }
 },
 "nbformat": 4,
 "nbformat_minor": 5
}
