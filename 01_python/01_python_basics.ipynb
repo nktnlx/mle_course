{
 "cells": [
  {
   "cell_type": "markdown",
   "id": "6fb4b3cb-23fc-4324-9702-a65c7fe5dd83",
   "metadata": {},
   "source": [
    "# Python Basics"
   ]
  },
  {
   "cell_type": "markdown",
   "id": "9b67c433-85dc-498e-ac43-ef4b7653ae84",
   "metadata": {},
   "source": [
    "## Tasks"
   ]
  },
  {
   "cell_type": "markdown",
   "id": "9b4fd179-fa93-4826-b21b-72280a1c54fc",
   "metadata": {},
   "source": [
    "### Task 1. \n",
    "\n"
   ]
  },
  {
   "cell_type": "markdown",
   "id": "3360652a-722f-43ca-b995-a175ffefe99f",
   "metadata": {},
   "source": [
    "Create a variable `i` and assign the value 3 to it."
   ]
  },
  {
   "cell_type": "code",
   "execution_count": 1,
   "id": "26b6e4ca-9c37-43fb-a000-78313f246d55",
   "metadata": {},
   "outputs": [],
   "source": [
    "i = 3"
   ]
  },
  {
   "cell_type": "markdown",
   "id": "3cb5b6ac-cb27-4ea4-9cbd-ee6eb9210ed8",
   "metadata": {},
   "source": [
    "### Task 2. "
   ]
  },
  {
   "cell_type": "markdown",
   "id": "f76522d1-ab3b-4629-8f0c-a6efd198223d",
   "metadata": {},
   "source": [
    "Create three variables: `name`, `age`, and `is_student`, and assign any name, age, and True/False value to them, respectively. Then print these variables."
   ]
  },
  {
   "cell_type": "code",
   "execution_count": 2,
   "id": "7800c768-6657-491b-adec-0bc140729008",
   "metadata": {},
   "outputs": [
    {
     "name": "stdout",
     "output_type": "stream",
     "text": [
      "Mike\n",
      "23\n",
      "True\n"
     ]
    }
   ],
   "source": [
    "name, age, is_student = 'Mike', 23, True\n",
    "\n",
    "# sep='\\n' prints each variable starting from a new line\n",
    "print(name, age, is_student, sep='\\n')"
   ]
  },
  {
   "cell_type": "markdown",
   "id": "f75a2cf2-b2ac-488b-984b-4070b179bba0",
   "metadata": {},
   "source": [
    "### Task 3. "
   ]
  },
  {
   "cell_type": "markdown",
   "id": "309fb437-4d89-4525-bf6f-a1bfb4a253d8",
   "metadata": {},
   "source": [
    "How many jars of jam can you buy with the money you have and jar of jam price you see in a groceries store?"
   ]
  },
  {
   "cell_type": "code",
   "execution_count": 3,
   "id": "a68dea64-343d-4e24-a5f7-9d6e9b3e866e",
   "metadata": {},
   "outputs": [
    {
     "data": {
      "text/plain": [
       "3"
      ]
     },
     "execution_count": 3,
     "metadata": {},
     "output_type": "execute_result"
    }
   ],
   "source": [
    "total_money = 100\n",
    "price = 33\n",
    "\n",
    "jar_count = total_money // price\n",
    "\n",
    "jar_count"
   ]
  },
  {
   "cell_type": "markdown",
   "id": "d5461678-6b0b-4607-8dfb-d570a4cc8e87",
   "metadata": {},
   "source": [
    "### Task 4. "
   ]
  },
  {
   "cell_type": "markdown",
   "id": "2cf34348-b881-4254-87e8-dbe8f3c07ff2",
   "metadata": {},
   "source": [
    "Code a program to solve square root equations. "
   ]
  },
  {
   "cell_type": "code",
   "execution_count": 4,
   "id": "441cd808-ed55-496b-a2f1-dbda8d08cb56",
   "metadata": {},
   "outputs": [
    {
     "name": "stdout",
     "output_type": "stream",
     "text": [
      "1.0 -3.3333333333333335\n"
     ]
    }
   ],
   "source": [
    "a = 3\n",
    "b = 7\n",
    "c = -10\n",
    "\n",
    "x_1 = (-b + (b**2 - 4*a*c)**.5) / (2 * a)\n",
    "x_2 = (-b - (b**2 - 4*a*c)**.5) / (2 * a)\n",
    "\n",
    "print(x_1, x_2)"
   ]
  },
  {
   "cell_type": "markdown",
   "id": "f102e59c-9e4a-425c-b2fd-9947032459f6",
   "metadata": {},
   "source": [
    "### Task 5. "
   ]
  },
  {
   "cell_type": "markdown",
   "id": "8645e0ad-922c-44cb-aca2-19c3f83e4ed8",
   "metadata": {},
   "source": [
    "Create two lists and merge them into one list having items from both lists. "
   ]
  },
  {
   "cell_type": "code",
   "execution_count": 5,
   "id": "75a1c1dc-6493-42d9-81cc-656b3f587e01",
   "metadata": {},
   "outputs": [
    {
     "data": {
      "text/plain": [
       "['code', 'rest', 'code', 'play football', 'have fun']"
      ]
     },
     "execution_count": 5,
     "metadata": {},
     "output_type": "execute_result"
    }
   ],
   "source": [
    "tasks_my = ['code', 'rest', 'code']\n",
    "tasks_friend = ['play football', 'have fun']\n",
    "\n",
    "tasks_all = tasks_my + tasks_friend\n",
    "\n",
    "tasks_all"
   ]
  },
  {
   "cell_type": "markdown",
   "id": "56a26fba-6a63-41d1-9c89-e0ac86160ecd",
   "metadata": {},
   "source": [
    "### Task 6. "
   ]
  },
  {
   "cell_type": "markdown",
   "id": "6a78e2dc-1359-4a90-a87f-f84a99dc9c2d",
   "metadata": {},
   "source": [
    "Create a dictionary having a task importance values as a keys and lists of tasks to do as values. "
   ]
  },
  {
   "cell_type": "code",
   "execution_count": 6,
   "id": "48d67ae3-467a-4c33-9886-1d6c1a2c1289",
   "metadata": {},
   "outputs": [],
   "source": [
    "tasks = {\n",
    "    0: ['Buy cat food'],\n",
    "    1: ['Water flowers', 'Pick-up a parcel delivery'],\n",
    "    2: ['Read a book'],\n",
    "    3: ['Reply to a friend']\n",
    "}"
   ]
  },
  {
   "cell_type": "markdown",
   "id": "79a841b7-3d90-4d44-a9ce-36e75fc5d212",
   "metadata": {},
   "source": [
    "### Task 7. "
   ]
  },
  {
   "cell_type": "markdown",
   "id": "b0448842-b364-4a2d-aab8-f72abd8c7576",
   "metadata": {},
   "source": [
    "If we have tasks with 0 priority print 'we have urgent tasks', else print 'we can chill'."
   ]
  },
  {
   "cell_type": "code",
   "execution_count": 7,
   "id": "d4c0548f-4f3e-43cd-919c-cb752faee7dc",
   "metadata": {},
   "outputs": [
    {
     "name": "stdout",
     "output_type": "stream",
     "text": [
      "we have urgent tasks\n"
     ]
    }
   ],
   "source": [
    "for k in tasks.keys():\n",
    "    if k == 0:\n",
    "        print('we have urgent tasks')\n",
    "        break\n",
    "    else:\n",
    "        print('we can chill')\n",
    "        break"
   ]
  },
  {
   "cell_type": "markdown",
   "id": "e0cf0651-cbbb-4f82-a1cd-d9a6016c802c",
   "metadata": {},
   "source": [
    "### Task 8. "
   ]
  },
  {
   "cell_type": "markdown",
   "id": "aad3a692-701d-4e52-807b-ed936dcf9002",
   "metadata": {},
   "source": [
    "Add all list of tasks to a new list named `values`."
   ]
  },
  {
   "cell_type": "code",
   "execution_count": 8,
   "id": "452a8475-b10a-45d7-b341-060968e9de88",
   "metadata": {},
   "outputs": [
    {
     "data": {
      "text/plain": [
       "[['Buy cat food'],\n",
       " ['Water flowers', 'Pick-up a parcel delivery'],\n",
       " ['Read a book'],\n",
       " ['Reply to a friend']]"
      ]
     },
     "execution_count": 8,
     "metadata": {},
     "output_type": "execute_result"
    }
   ],
   "source": [
    "values = []\n",
    "for v in tasks.values():\n",
    "    values.append(v)\n",
    "    \n",
    "values"
   ]
  },
  {
   "cell_type": "markdown",
   "id": "999008e9-238a-459c-bcff-d5ee0ce16643",
   "metadata": {},
   "source": [
    "### Task 9. "
   ]
  },
  {
   "cell_type": "markdown",
   "id": "411ba202-5ea1-467a-83a9-905982325779",
   "metadata": {},
   "source": [
    "Add all tasks to a new list named `doings`."
   ]
  },
  {
   "cell_type": "code",
   "execution_count": 9,
   "id": "3cc6d541-5318-488d-b6da-2a3c99155d7d",
   "metadata": {},
   "outputs": [
    {
     "data": {
      "text/plain": [
       "['Buy cat food',\n",
       " 'Water flowers',\n",
       " 'Pick-up a parcel delivery',\n",
       " 'Read a book',\n",
       " 'Reply to a friend']"
      ]
     },
     "execution_count": 9,
     "metadata": {},
     "output_type": "execute_result"
    }
   ],
   "source": [
    "doings = []\n",
    "for v in tasks.values():\n",
    "    doings.extend([i for i in v])\n",
    "    \n",
    "doings"
   ]
  },
  {
   "cell_type": "markdown",
   "id": "22c6302e-7bba-4dbb-9318-3b5d9f04cee1",
   "metadata": {},
   "source": [
    "### Task 10. "
   ]
  },
  {
   "cell_type": "markdown",
   "id": "7665ebda-16b7-4c93-a3b2-4cd859a76e84",
   "metadata": {},
   "source": [
    "Add all tasks having \"cat\" in it to a new list named `answer`.    "
   ]
  },
  {
   "cell_type": "code",
   "execution_count": 10,
   "id": "1c5e4b6b-a46f-429a-878d-83553261ee45",
   "metadata": {},
   "outputs": [
    {
     "data": {
      "text/plain": [
       "['Buy cat food']"
      ]
     },
     "execution_count": 10,
     "metadata": {},
     "output_type": "execute_result"
    }
   ],
   "source": [
    "answer = []\n",
    "for v in tasks.values():\n",
    "    answer.extend([i for i in v if 'cat' in i])\n",
    "    \n",
    "answer"
   ]
  },
  {
   "cell_type": "markdown",
   "id": "b7bcda03-0471-4014-a3d1-be5f20825dc2",
   "metadata": {},
   "source": [
    "### Task 11. "
   ]
  },
  {
   "cell_type": "markdown",
   "id": "fd9fbddd-1beb-4a5d-90d0-17d33b6d46bb",
   "metadata": {},
   "source": [
    "Add tasks to a tasks list:\n",
    "- only having priority less than 2\n",
    "- only if a new tasks list is having less than 3 tasks\n",
    "- only if a task has \"cat\" in it. "
   ]
  },
  {
   "cell_type": "code",
   "execution_count": 11,
   "id": "ebe73353-adc4-424b-b049-63823e298baf",
   "metadata": {},
   "outputs": [
    {
     "data": {
      "text/plain": [
       "['Buy cat food']"
      ]
     },
     "execution_count": 11,
     "metadata": {},
     "output_type": "execute_result"
    }
   ],
   "source": [
    "answer = []\n",
    "for k, v in tasks.items():\n",
    "    if k < 2 or len(answer) < 2:\n",
    "        for task in v:\n",
    "            if len(answer) >= 2:\n",
    "                break\n",
    "            else:\n",
    "                if 'cat' in task:\n",
    "                    answer.append(task)\n",
    "    else:\n",
    "        break\n",
    "\n",
    "answer"
   ]
  },
  {
   "cell_type": "markdown",
   "id": "9df33415-c718-453b-ade3-b316c2d7417d",
   "metadata": {},
   "source": [
    "### Task 12. "
   ]
  },
  {
   "cell_type": "markdown",
   "id": "7db1e3be-5466-474c-b96b-b873722cc927",
   "metadata": {},
   "source": [
    "Delete duplicates from the lists having the same priority value. "
   ]
  },
  {
   "cell_type": "code",
   "execution_count": 12,
   "id": "17387112-61b9-49d9-bcc8-7c0e63c0ee76",
   "metadata": {},
   "outputs": [
    {
     "data": {
      "text/plain": [
       "{0: ['Buy cat food'], 1: ['Pick-up a parcel delivery', 'Buy cat food']}"
      ]
     },
     "execution_count": 12,
     "metadata": {},
     "output_type": "execute_result"
    }
   ],
   "source": [
    "tasks = { \n",
    "    0: ['Buy cat food', 'Buy cat food'],\n",
    "    1: ['Buy cat food', 'Pick-up a parcel delivery']\n",
    "}\n",
    "\n",
    "new_tasks = dict()\n",
    "for k, v in tasks.items():\n",
    "    new_tasks[k] = list(set(v))\n",
    "    \n",
    "new_tasks"
   ]
  },
  {
   "cell_type": "code",
   "execution_count": null,
   "id": "423a822b-06cc-4251-8c7c-bc4c14134960",
   "metadata": {},
   "outputs": [],
   "source": []
  }
 ],
 "metadata": {
  "kernelspec": {
   "display_name": "Python 3 (ipykernel)",
   "language": "python",
   "name": "python3"
  },
  "language_info": {
   "codemirror_mode": {
    "name": "ipython",
    "version": 3
   },
   "file_extension": ".py",
   "mimetype": "text/x-python",
   "name": "python",
   "nbconvert_exporter": "python",
   "pygments_lexer": "ipython3",
   "version": "3.8.10"
  }
 },
 "nbformat": 4,
 "nbformat_minor": 5
}
