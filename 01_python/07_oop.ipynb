{
 "cells": [
  {
   "cell_type": "markdown",
   "id": "6fb4b3cb-23fc-4324-9702-a65c7fe5dd83",
   "metadata": {},
   "source": [
    "# Object-oriented programming (OOP)"
   ]
  },
  {
   "cell_type": "markdown",
   "id": "9b67c433-85dc-498e-ac43-ef4b7653ae84",
   "metadata": {},
   "source": [
    "## Tasks"
   ]
  },
  {
   "cell_type": "markdown",
   "id": "9b4fd179-fa93-4826-b21b-72280a1c54fc",
   "metadata": {},
   "source": [
    "### Task 1. \n",
    "\n"
   ]
  },
  {
   "cell_type": "markdown",
   "id": "3360652a-722f-43ca-b995-a175ffefe99f",
   "metadata": {},
   "source": [
    "Code a class called Triangle that has three fields: a, b, and c (representing the sides of a triangle) and n_dots = 3 (representing the number of points). Declare the n_dots field at the class level, not in the constructor, so that it is accessible without creating an object (i.e. the call Triangle.n_dots should work). Add a simple constructor to the class that takes all three sides as input and stores them in the corresponding class fields.\n",
    "\n",
    "Create objects of this class named tr_1 and tr_2 with any values for the side lengths."
   ]
  },
  {
   "cell_type": "code",
   "execution_count": 1,
   "id": "d6ddffde-ed0c-4963-bc2f-8205d9af7755",
   "metadata": {},
   "outputs": [],
   "source": [
    "class Triangle():\n",
    "    n_dots = 3\n",
    "    \n",
    "    def __init__(self, a, b, c):\n",
    "        self.a = a\n",
    "        self.b = b\n",
    "        self.c = c"
   ]
  },
  {
   "cell_type": "code",
   "execution_count": 2,
   "id": "a84bb283-5447-4779-8c1b-d0fc2c1bffba",
   "metadata": {},
   "outputs": [],
   "source": [
    "tr_1 = Triangle(1, 5, 2)\n",
    "tr_2 = Triangle(2, 4, 6)"
   ]
  },
  {
   "cell_type": "markdown",
   "id": "3cb5b6ac-cb27-4ea4-9cbd-ee6eb9210ed8",
   "metadata": {},
   "source": [
    "### Task 2. "
   ]
  },
  {
   "cell_type": "markdown",
   "id": "f76522d1-ab3b-4629-8f0c-a6efd198223d",
   "metadata": {},
   "source": [
    "Take the Triangle class from the previous task and add an area() method that returns the area of the triangle. Recall that the area of a triangle can be calculated using Heron's formula when all three sides are known. Think about how to organize the code so that the semi-perimeter (p) is calculated only once.\n",
    "\n",
    "Then modify the constructor: it should check that the triangle inequality is satisfied - each side is less than the sum of the other two. If this condition is not met, raise a ValueError with the message \"triangle inequality does not hold\" (pass this string to the ValueError constructor).\n",
    "\n",
    "Finally, create two objects of this class, named tr_1 and tr_2, which satisfy the triangle inequality. Also, store the results of calling the.area() method for tr_1 and tr_2 in variables square_1 and square_2, respectively."
   ]
  },
  {
   "cell_type": "code",
   "execution_count": 3,
   "id": "cae738c6-316f-4338-b5f8-0b767654687e",
   "metadata": {},
   "outputs": [],
   "source": [
    "class Triangle():\n",
    "    n_dots = 3\n",
    "    \n",
    "    def __init__(self, a, b, c):\n",
    "        self.a = a\n",
    "        self.b = b\n",
    "        self.c = c\n",
    "        \n",
    "        if self.a >= self.b + self.c or self.b >= self.a + self.c or self.c >= self.a + self.b:\n",
    "            raise ValueError('triangle inequality does not hold')\n",
    "        \n",
    "    def area(self):\n",
    "        p = .5 * (self.a + self.b + self.c)\n",
    "        return (p * (p - self.a) * (p - self.b) * (p - self.c)) ** .5"
   ]
  },
  {
   "cell_type": "code",
   "execution_count": 4,
   "id": "96393aee-6273-40c7-9982-adb49b2c8667",
   "metadata": {},
   "outputs": [],
   "source": [
    "tr_1 = Triangle(5, 3, 3)"
   ]
  },
  {
   "cell_type": "code",
   "execution_count": 5,
   "id": "e8c411c7-5b0a-4933-996d-7f0a64931699",
   "metadata": {},
   "outputs": [
    {
     "data": {
      "text/plain": [
       "4.14578098794425"
      ]
     },
     "execution_count": 5,
     "metadata": {},
     "output_type": "execute_result"
    }
   ],
   "source": [
    "square_1 = tr_1.area()\n",
    "square_1"
   ]
  },
  {
   "cell_type": "code",
   "execution_count": 6,
   "id": "2653dda2-e85f-413a-815c-670ca78af1e0",
   "metadata": {},
   "outputs": [],
   "source": [
    "tr_2 = Triangle(10, 6, 7)"
   ]
  },
  {
   "cell_type": "code",
   "execution_count": 7,
   "id": "f18bb485-2093-4e05-9a38-8e5f20caabe9",
   "metadata": {},
   "outputs": [
    {
     "data": {
      "text/plain": [
       "20.662465970933866"
      ]
     },
     "execution_count": 7,
     "metadata": {},
     "output_type": "execute_result"
    }
   ],
   "source": [
    "square_2 = tr_2.area()\n",
    "square_2"
   ]
  },
  {
   "cell_type": "markdown",
   "id": "f75a2cf2-b2ac-488b-984b-4070b179bba0",
   "metadata": {},
   "source": [
    "### Task 3. "
   ]
  },
  {
   "cell_type": "code",
   "execution_count": null,
   "id": "138dc9e0-0677-4c93-93ae-3b7e7d2534b9",
   "metadata": {},
   "outputs": [],
   "source": [
    "tbc.."
   ]
  },
  {
   "cell_type": "markdown",
   "id": "d5461678-6b0b-4607-8dfb-d570a4cc8e87",
   "metadata": {},
   "source": [
    "### Task 4. "
   ]
  },
  {
   "cell_type": "code",
   "execution_count": null,
   "id": "45e01024-96fc-47f7-9403-d3c95f64bd6e",
   "metadata": {},
   "outputs": [],
   "source": [
    "tbc.."
   ]
  },
  {
   "cell_type": "markdown",
   "id": "647588f4-908e-4985-b38d-b93327ee02b6",
   "metadata": {},
   "source": [
    "### Task 5. "
   ]
  },
  {
   "cell_type": "code",
   "execution_count": null,
   "id": "d927b16c-8065-4350-afc2-9855de6ff01d",
   "metadata": {},
   "outputs": [],
   "source": [
    "tbc.."
   ]
  },
  {
   "cell_type": "markdown",
   "id": "4adb78ca-b7c6-41af-85a6-6cca964d33b3",
   "metadata": {},
   "source": [
    "### Task 6. "
   ]
  },
  {
   "cell_type": "code",
   "execution_count": null,
   "id": "1a5188fe-1d13-4538-8ba6-69470c2f8c2c",
   "metadata": {},
   "outputs": [],
   "source": [
    "tbc.."
   ]
  },
  {
   "cell_type": "markdown",
   "id": "e4594bb8-3f4d-48a5-84ad-d2e5f4fc461c",
   "metadata": {},
   "source": [
    "### Task 7. "
   ]
  },
  {
   "cell_type": "code",
   "execution_count": null,
   "id": "ec9e3c8f-69da-4936-908b-440825f97914",
   "metadata": {},
   "outputs": [],
   "source": [
    "tbc.."
   ]
  },
  {
   "cell_type": "markdown",
   "id": "6ed7a903-ff7e-44b7-89e7-68ad2f777ef5",
   "metadata": {},
   "source": [
    "### Task 8. "
   ]
  },
  {
   "cell_type": "code",
   "execution_count": null,
   "id": "afc2c1a5-357f-40f7-a729-153eee3dcaaa",
   "metadata": {},
   "outputs": [],
   "source": [
    "tbc.."
   ]
  },
  {
   "cell_type": "markdown",
   "id": "715b92d5-56c3-44ae-8b94-5b071231d569",
   "metadata": {},
   "source": [
    "### Task 9. "
   ]
  },
  {
   "cell_type": "code",
   "execution_count": null,
   "id": "1285a8ef-f54b-41c4-8057-d42476975e4d",
   "metadata": {},
   "outputs": [],
   "source": [
    "tbc.."
   ]
  },
  {
   "cell_type": "markdown",
   "id": "a949e7bf-a804-4384-8b64-5835d5b7b4e3",
   "metadata": {},
   "source": [
    "### Task 10. "
   ]
  },
  {
   "cell_type": "code",
   "execution_count": null,
   "id": "e596fafd-4f7c-4581-9276-4e3d8546b025",
   "metadata": {},
   "outputs": [],
   "source": [
    "tbc.."
   ]
  },
  {
   "cell_type": "markdown",
   "id": "7812f93a-5e53-4fba-a29d-702cf8a876c8",
   "metadata": {},
   "source": [
    "### Task 11. "
   ]
  },
  {
   "cell_type": "code",
   "execution_count": null,
   "id": "7c3a2cf9-d153-4068-bb74-d2b22bbc8041",
   "metadata": {},
   "outputs": [],
   "source": [
    "tbc.."
   ]
  },
  {
   "cell_type": "markdown",
   "id": "f438625d-86ed-4cfc-8600-e2333e7f959a",
   "metadata": {},
   "source": [
    "### Task 12. "
   ]
  },
  {
   "cell_type": "code",
   "execution_count": null,
   "id": "43f89db8-b475-4295-a7b2-7381777660e7",
   "metadata": {},
   "outputs": [],
   "source": [
    "tbc.."
   ]
  },
  {
   "cell_type": "markdown",
   "id": "04c42a23-157e-4a3b-8388-73997a048944",
   "metadata": {},
   "source": [
    "### Task 13. "
   ]
  },
  {
   "cell_type": "code",
   "execution_count": null,
   "id": "c417225a-2b47-4eae-8285-ba52fc8d2e79",
   "metadata": {},
   "outputs": [],
   "source": [
    "tbc.."
   ]
  },
  {
   "cell_type": "markdown",
   "id": "525016aa-3b12-4d93-a18d-55cbbbc8d844",
   "metadata": {},
   "source": [
    "### Task 14. "
   ]
  },
  {
   "cell_type": "code",
   "execution_count": null,
   "id": "2e6fb48e-afa0-4677-8903-c612eaa25c9a",
   "metadata": {},
   "outputs": [],
   "source": [
    "tbc.."
   ]
  }
 ],
 "metadata": {
  "kernelspec": {
   "display_name": "Python 3 (ipykernel)",
   "language": "python",
   "name": "python3"
  },
  "language_info": {
   "codemirror_mode": {
    "name": "ipython",
    "version": 3
   },
   "file_extension": ".py",
   "mimetype": "text/x-python",
   "name": "python",
   "nbconvert_exporter": "python",
   "pygments_lexer": "ipython3",
   "version": "3.8.10"
  }
 },
 "nbformat": 4,
 "nbformat_minor": 5
}
