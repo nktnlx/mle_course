{
 "cells": [
  {
   "cell_type": "markdown",
   "id": "6fb4b3cb-23fc-4324-9702-a65c7fe5dd83",
   "metadata": {},
   "source": [
    "# Object-oriented programming (OOP)"
   ]
  },
  {
   "cell_type": "markdown",
   "id": "9b67c433-85dc-498e-ac43-ef4b7653ae84",
   "metadata": {},
   "source": [
    "## Tasks"
   ]
  },
  {
   "cell_type": "markdown",
   "id": "9b4fd179-fa93-4826-b21b-72280a1c54fc",
   "metadata": {},
   "source": [
    "### Task 1. \n",
    "\n"
   ]
  },
  {
   "cell_type": "markdown",
   "id": "3360652a-722f-43ca-b995-a175ffefe99f",
   "metadata": {},
   "source": [
    "Code a class called Triangle that has three fields: a, b, and c (representing the sides of a triangle) and n_dots = 3 (representing the number of points). Declare the n_dots field at the class level, not in the constructor, so that it is accessible without creating an object (i.e. the call Triangle.n_dots should work). Add a simple constructor to the class that takes all three sides as input and stores them in the corresponding class fields.\n",
    "\n",
    "Create objects of this class named tr_1 and tr_2 with any values for the side lengths."
   ]
  },
  {
   "cell_type": "code",
   "execution_count": 1,
   "id": "d6ddffde-ed0c-4963-bc2f-8205d9af7755",
   "metadata": {},
   "outputs": [],
   "source": [
    "class Triangle():\n",
    "    n_dots = 3\n",
    "    \n",
    "    def __init__(self, a, b, c):\n",
    "        self.a = a\n",
    "        self.b = b\n",
    "        self.c = c"
   ]
  },
  {
   "cell_type": "code",
   "execution_count": 2,
   "id": "a84bb283-5447-4779-8c1b-d0fc2c1bffba",
   "metadata": {},
   "outputs": [],
   "source": [
    "tr_1 = Triangle(1, 5, 2)\n",
    "tr_2 = Triangle(2, 4, 6)"
   ]
  },
  {
   "cell_type": "markdown",
   "id": "3cb5b6ac-cb27-4ea4-9cbd-ee6eb9210ed8",
   "metadata": {},
   "source": [
    "### Task 2. "
   ]
  },
  {
   "cell_type": "markdown",
   "id": "f76522d1-ab3b-4629-8f0c-a6efd198223d",
   "metadata": {},
   "source": [
    "Take the Triangle class from the previous task and add an area() method that returns the area of the triangle. Recall that the area of a triangle can be calculated using Heron's formula when all three sides are known. Think about how to organize the code so that the semi-perimeter (p) is calculated only once.\n",
    "\n",
    "Then modify the constructor: it should check that the triangle inequality is satisfied - each side is less than the sum of the other two. If this condition is not met, raise a ValueError with the message \"triangle inequality does not hold\" (pass this string to the ValueError constructor).\n",
    "\n",
    "Finally, create two objects of this class, named tr_1 and tr_2, which satisfy the triangle inequality. Also, store the results of calling the.area() method for tr_1 and tr_2 in variables square_1 and square_2, respectively."
   ]
  },
  {
   "cell_type": "code",
   "execution_count": 3,
   "id": "cae738c6-316f-4338-b5f8-0b767654687e",
   "metadata": {},
   "outputs": [],
   "source": [
    "class Triangle():\n",
    "    n_dots = 3\n",
    "    \n",
    "    def __init__(self, a, b, c):\n",
    "        self.a = a\n",
    "        self.b = b\n",
    "        self.c = c\n",
    "        \n",
    "        if self.a >= self.b + self.c or self.b >= self.a + self.c or self.c >= self.a + self.b:\n",
    "            raise ValueError('triangle inequality does not hold')\n",
    "        \n",
    "    def area(self):\n",
    "        p = .5 * (self.a + self.b + self.c)\n",
    "        return (p * (p - self.a) * (p - self.b) * (p - self.c)) ** .5"
   ]
  },
  {
   "cell_type": "code",
   "execution_count": 4,
   "id": "96393aee-6273-40c7-9982-adb49b2c8667",
   "metadata": {},
   "outputs": [],
   "source": [
    "tr_1 = Triangle(5, 3, 3)"
   ]
  },
  {
   "cell_type": "code",
   "execution_count": 5,
   "id": "e8c411c7-5b0a-4933-996d-7f0a64931699",
   "metadata": {},
   "outputs": [
    {
     "data": {
      "text/plain": [
       "4.14578098794425"
      ]
     },
     "execution_count": 5,
     "metadata": {},
     "output_type": "execute_result"
    }
   ],
   "source": [
    "square_1 = tr_1.area()\n",
    "square_1"
   ]
  },
  {
   "cell_type": "code",
   "execution_count": 6,
   "id": "2653dda2-e85f-413a-815c-670ca78af1e0",
   "metadata": {},
   "outputs": [],
   "source": [
    "tr_2 = Triangle(10, 6, 7)"
   ]
  },
  {
   "cell_type": "code",
   "execution_count": 7,
   "id": "f18bb485-2093-4e05-9a38-8e5f20caabe9",
   "metadata": {},
   "outputs": [
    {
     "data": {
      "text/plain": [
       "20.662465970933866"
      ]
     },
     "execution_count": 7,
     "metadata": {},
     "output_type": "execute_result"
    }
   ],
   "source": [
    "square_2 = tr_2.area()\n",
    "square_2"
   ]
  },
  {
   "cell_type": "markdown",
   "id": "f75a2cf2-b2ac-488b-984b-4070b179bba0",
   "metadata": {},
   "source": [
    "### Task 3. "
   ]
  },
  {
   "cell_type": "markdown",
   "id": "5d35da28-fd5d-463a-852f-b9205d489023",
   "metadata": {},
   "source": [
    "Create a class Rectangle (rectangle) that will inherit from the class Triangle.  \n",
    "Make sure that the area(), constructor, and n_dots field are correct. Specifically:\n",
    "- The constructor should take 2 sides: a, b\n",
    "- The area() method should calculate the area as the product of adjacent sides: S=ab\n",
    "- No need to check the triangle inequality.\n",
    "- The n_dots attribute should be declared at the class level and equal to 4."
   ]
  },
  {
   "cell_type": "code",
   "execution_count": 8,
   "id": "87f803ff-e235-4445-9ca3-5fd63420d84e",
   "metadata": {},
   "outputs": [],
   "source": [
    "class Rectangle(Triangle):\n",
    "    n_dots = 4\n",
    "    \n",
    "    def __init__(self, a, b):\n",
    "        self.a = a\n",
    "        self.b = b\n",
    "        \n",
    "    def area(self):\n",
    "        return self.a * self.b"
   ]
  },
  {
   "cell_type": "markdown",
   "id": "d5461678-6b0b-4607-8dfb-d570a4cc8e87",
   "metadata": {},
   "source": [
    "### Task 4. "
   ]
  },
  {
   "cell_type": "markdown",
   "id": "778c772c-4f16-454c-a05c-7afbe487039f",
   "metadata": {},
   "source": [
    "Write a class BaseFigure that has a class-level field (i.e. at the class level) `n_dots = None`, an `area()` method \"without implementation\", and a `validate()` method \"without implementation\". Make it so that the \"unimplemented\" methods raise a `NotImplementedError` when called and do nothing else. Also, create a class constructor that takes no additional arguments and in its implementation only calls `self.validate()`."
   ]
  },
  {
   "cell_type": "code",
   "execution_count": 9,
   "id": "5fea896f-6410-4965-bf1c-7d81838356fe",
   "metadata": {},
   "outputs": [],
   "source": [
    "class BaseFigure():\n",
    "    n_dots = None\n",
    "    \n",
    "    def __init__(self):\n",
    "        self.validate()\n",
    "    \n",
    "    def area(self):\n",
    "        raise NotImplementedError\n",
    "        \n",
    "    def validate(self):\n",
    "        raise NotImplementedError"
   ]
  },
  {
   "cell_type": "markdown",
   "id": "647588f4-908e-4985-b38d-b93327ee02b6",
   "metadata": {},
   "source": [
    "### Task 5. "
   ]
  },
  {
   "cell_type": "markdown",
   "id": "9602dff4-5eec-43c0-9c87-0dd71817fd1c",
   "metadata": {},
   "source": [
    "Rewrite the Triangle and Rectangle classes so that they inherit from the BaseFigure class. Then remove the implementation of all methods and constructors in the child classes. What do they return when called?"
   ]
  },
  {
   "cell_type": "code",
   "execution_count": 10,
   "id": "01148d15-426c-4822-b459-f5abb1d145e4",
   "metadata": {},
   "outputs": [],
   "source": [
    "class Triangle(BaseFigure):\n",
    "    pass"
   ]
  },
  {
   "cell_type": "code",
   "execution_count": 11,
   "id": "b299b9d1-1378-4c2f-9e6f-c38d11314640",
   "metadata": {},
   "outputs": [],
   "source": [
    "class Rectangle(BaseFigure):\n",
    "    pass"
   ]
  },
  {
   "cell_type": "code",
   "execution_count": 12,
   "id": "58a27b72-c960-41a3-98cd-e8f3c7c193b5",
   "metadata": {},
   "outputs": [
    {
     "ename": "NotImplementedError",
     "evalue": "",
     "output_type": "error",
     "traceback": [
      "\u001b[0;31m---------------------------------------------------------------------------\u001b[0m",
      "\u001b[0;31mNotImplementedError\u001b[0m                       Traceback (most recent call last)",
      "Input \u001b[0;32mIn [12]\u001b[0m, in \u001b[0;36m<module>\u001b[0;34m\u001b[0m\n\u001b[0;32m----> 1\u001b[0m tr_new \u001b[38;5;241m=\u001b[39m \u001b[43mTriangle\u001b[49m\u001b[43m(\u001b[49m\u001b[43m)\u001b[49m\n",
      "Input \u001b[0;32mIn [9]\u001b[0m, in \u001b[0;36mBaseFigure.__init__\u001b[0;34m(self)\u001b[0m\n\u001b[1;32m      4\u001b[0m \u001b[38;5;28;01mdef\u001b[39;00m \u001b[38;5;21m__init__\u001b[39m(\u001b[38;5;28mself\u001b[39m):\n\u001b[0;32m----> 5\u001b[0m     \u001b[38;5;28;43mself\u001b[39;49m\u001b[38;5;241;43m.\u001b[39;49m\u001b[43mvalidate\u001b[49m\u001b[43m(\u001b[49m\u001b[43m)\u001b[49m\n",
      "Input \u001b[0;32mIn [9]\u001b[0m, in \u001b[0;36mBaseFigure.validate\u001b[0;34m(self)\u001b[0m\n\u001b[1;32m     10\u001b[0m \u001b[38;5;28;01mdef\u001b[39;00m \u001b[38;5;21mvalidate\u001b[39m(\u001b[38;5;28mself\u001b[39m):\n\u001b[0;32m---> 11\u001b[0m     \u001b[38;5;28;01mraise\u001b[39;00m \u001b[38;5;167;01mNotImplementedError\u001b[39;00m\n",
      "\u001b[0;31mNotImplementedError\u001b[0m: "
     ]
    }
   ],
   "source": [
    "tr_new = Triangle()"
   ]
  },
  {
   "cell_type": "code",
   "execution_count": 13,
   "id": "8f553015-c38b-41ec-9af6-a0e9fa932f07",
   "metadata": {},
   "outputs": [
    {
     "ename": "NotImplementedError",
     "evalue": "",
     "output_type": "error",
     "traceback": [
      "\u001b[0;31m---------------------------------------------------------------------------\u001b[0m",
      "\u001b[0;31mNotImplementedError\u001b[0m                       Traceback (most recent call last)",
      "Input \u001b[0;32mIn [13]\u001b[0m, in \u001b[0;36m<module>\u001b[0;34m\u001b[0m\n\u001b[0;32m----> 1\u001b[0m rec_new \u001b[38;5;241m=\u001b[39m \u001b[43mRectangle\u001b[49m\u001b[43m(\u001b[49m\u001b[43m)\u001b[49m\n",
      "Input \u001b[0;32mIn [9]\u001b[0m, in \u001b[0;36mBaseFigure.__init__\u001b[0;34m(self)\u001b[0m\n\u001b[1;32m      4\u001b[0m \u001b[38;5;28;01mdef\u001b[39;00m \u001b[38;5;21m__init__\u001b[39m(\u001b[38;5;28mself\u001b[39m):\n\u001b[0;32m----> 5\u001b[0m     \u001b[38;5;28;43mself\u001b[39;49m\u001b[38;5;241;43m.\u001b[39;49m\u001b[43mvalidate\u001b[49m\u001b[43m(\u001b[49m\u001b[43m)\u001b[49m\n",
      "Input \u001b[0;32mIn [9]\u001b[0m, in \u001b[0;36mBaseFigure.validate\u001b[0;34m(self)\u001b[0m\n\u001b[1;32m     10\u001b[0m \u001b[38;5;28;01mdef\u001b[39;00m \u001b[38;5;21mvalidate\u001b[39m(\u001b[38;5;28mself\u001b[39m):\n\u001b[0;32m---> 11\u001b[0m     \u001b[38;5;28;01mraise\u001b[39;00m \u001b[38;5;167;01mNotImplementedError\u001b[39;00m\n",
      "\u001b[0;31mNotImplementedError\u001b[0m: "
     ]
    }
   ],
   "source": [
    "rec_new = Rectangle()"
   ]
  },
  {
   "cell_type": "markdown",
   "id": "4adb78ca-b7c6-41af-85a6-6cca964d33b3",
   "metadata": {},
   "source": [
    "### Task 6. "
   ]
  },
  {
   "cell_type": "markdown",
   "id": "433267f2-c481-4583-aad8-682623086a6c",
   "metadata": {},
   "source": [
    "Take the Triangle and Rectangle classes from the previous assignment.\n",
    "\n",
    "Override the area method in each case.\n",
    "Override the constructor in each case (the number of arguments also changes). Don't forget to call the constructor of the parent class in the child class constructor!\n",
    "Override the validate method in each case. The validate method should take only the self argument and use the variables created in the constructor. To do this, you can first store the input data in self.variable in the constructor and then call the superclass constructor. For Triangle, this method should check the triangle inequality and raise a `ValueError(\"triangle inequality does not hold\")` or `return` the side values. For Rectangle, this method should `return` the side values.\n",
    "\n",
    "As a result, you will get two classes built according to a similar pattern. This common pattern was defined in the BaseFigure class. Create several objects of these classes and try calling their`.area()`,`.validate()` methods. "
   ]
  },
  {
   "cell_type": "code",
   "execution_count": 14,
   "id": "f447b7f1-4d5a-4e03-9845-ad09a86d848f",
   "metadata": {},
   "outputs": [],
   "source": [
    "class Triangle(BaseFigure):\n",
    "    n_dots = 3\n",
    "    \n",
    "    def __init__(self, a, b, c):\n",
    "        self.a = a\n",
    "        self.b = b\n",
    "        self.c = c\n",
    "        super().__init__()\n",
    "        \n",
    "    def validate(self): \n",
    "        if self.a >= self.b + self.c or self.b >= self.a + self.c or self.c >= self.a + self.b:\n",
    "            raise ValueError('triangle inequality does not hold')\n",
    "        return self.a, self.b, self.c\n",
    "        \n",
    "    def area(self):\n",
    "        p = .5 * (self.a + self.b + self.c)\n",
    "        return (p * (p - self.a) * (p - self.b) * (p - self.c)) ** .5"
   ]
  },
  {
   "cell_type": "code",
   "execution_count": 15,
   "id": "18d26be8-f5b2-4f7c-bb62-6f2848954603",
   "metadata": {},
   "outputs": [],
   "source": [
    "tr_new = Triangle(5, 3, 3)"
   ]
  },
  {
   "cell_type": "code",
   "execution_count": 16,
   "id": "90280215-c4b5-4602-9c83-e5ac588d8cdb",
   "metadata": {},
   "outputs": [
    {
     "data": {
      "text/plain": [
       "(5, 3, 3)"
      ]
     },
     "execution_count": 16,
     "metadata": {},
     "output_type": "execute_result"
    }
   ],
   "source": [
    "tr_new.validate()"
   ]
  },
  {
   "cell_type": "code",
   "execution_count": 17,
   "id": "aed53d80-5a54-4929-9702-a1af184aca14",
   "metadata": {},
   "outputs": [
    {
     "data": {
      "text/plain": [
       "4.14578098794425"
      ]
     },
     "execution_count": 17,
     "metadata": {},
     "output_type": "execute_result"
    }
   ],
   "source": [
    "tr_new.area()"
   ]
  },
  {
   "cell_type": "code",
   "execution_count": 18,
   "id": "64de3e38-c5aa-40ad-a4bd-f2089bc44342",
   "metadata": {},
   "outputs": [],
   "source": [
    "class Rectangle(BaseFigure):\n",
    "    n_dots = 4\n",
    "    \n",
    "    def __init__(self, a, b):\n",
    "        self.a = a\n",
    "        self.b = b\n",
    "        super().__init__()\n",
    "        \n",
    "    def validate(self): \n",
    "        return self.a, self.b\n",
    "        \n",
    "    def area(self):\n",
    "        return self.a * self.b"
   ]
  },
  {
   "cell_type": "code",
   "execution_count": 19,
   "id": "2dc8c2aa-9864-4550-8c87-81001368f725",
   "metadata": {},
   "outputs": [],
   "source": [
    "rec_new = Rectangle(4, 6)"
   ]
  },
  {
   "cell_type": "code",
   "execution_count": 20,
   "id": "4a916542-cfc2-4d7a-abb0-5d72c99fdadf",
   "metadata": {},
   "outputs": [
    {
     "data": {
      "text/plain": [
       "(4, 6)"
      ]
     },
     "execution_count": 20,
     "metadata": {},
     "output_type": "execute_result"
    }
   ],
   "source": [
    "rec_new.validate()"
   ]
  },
  {
   "cell_type": "code",
   "execution_count": 21,
   "id": "6a2c4955-a84e-4cee-9ebe-48dd3d72f3ea",
   "metadata": {},
   "outputs": [
    {
     "data": {
      "text/plain": [
       "24"
      ]
     },
     "execution_count": 21,
     "metadata": {},
     "output_type": "execute_result"
    }
   ],
   "source": [
    "rec_new.area()"
   ]
  },
  {
   "cell_type": "markdown",
   "id": "e4594bb8-3f4d-48a5-84ad-d2e5f4fc461c",
   "metadata": {},
   "source": [
    "### Task 7. "
   ]
  },
  {
   "cell_type": "markdown",
   "id": "0ef87a79-fcd5-43b1-940a-7303c31101c7",
   "metadata": {},
   "source": [
    "Let's create a completely new class using BaseFigure as a template.\n",
    "\n",
    "Create a class Circle, in which n_dots will be `float('inf')`, the area will be calculated as `3.14 * r^2`, and the constructor will take only one argument - `r`. The validate method should not take any arguments and should not perform any checks."
   ]
  },
  {
   "cell_type": "code",
   "execution_count": 22,
   "id": "c6e51e91-0513-4ac9-8151-b7112c312bbd",
   "metadata": {},
   "outputs": [],
   "source": [
    "class Circle(BaseFigure):\n",
    "    n_dots = float('inf')\n",
    "    \n",
    "    def __init__(self, r):\n",
    "        self.r = r\n",
    "        super().__init__()\n",
    "        \n",
    "    def validate(self):\n",
    "        pass\n",
    "    \n",
    "    def area(self):\n",
    "        return 3.14 * self.r ** 2"
   ]
  },
  {
   "cell_type": "code",
   "execution_count": 23,
   "id": "e8338cb2-0f20-415d-88dd-903a22601db6",
   "metadata": {},
   "outputs": [],
   "source": [
    "cirlce_1 = Circle(3)"
   ]
  },
  {
   "cell_type": "code",
   "execution_count": 24,
   "id": "a85975d7-1144-456b-ae1f-97463a6e1076",
   "metadata": {},
   "outputs": [],
   "source": [
    "cirlce_1.validate()"
   ]
  },
  {
   "cell_type": "code",
   "execution_count": 25,
   "id": "54bac5fe-36fa-4549-b736-deb3e352c9af",
   "metadata": {},
   "outputs": [
    {
     "data": {
      "text/plain": [
       "28.26"
      ]
     },
     "execution_count": 25,
     "metadata": {},
     "output_type": "execute_result"
    }
   ],
   "source": [
    "cirlce_1.area()"
   ]
  },
  {
   "cell_type": "markdown",
   "id": "6ed7a903-ff7e-44b7-89e7-68ad2f777ef5",
   "metadata": {},
   "source": [
    "### Task 8. "
   ]
  },
  {
   "cell_type": "markdown",
   "id": "82893f8a-c2ae-4164-92d6-b94dd331adc6",
   "metadata": {},
   "source": [
    "Write a class `Vector` that takes a list of coordinates (x1, x2,..., xn) as input. Store all vector coordinates in the list. Ensure that objects of the Vector class can be added using the `+` operator and return an object of the same class as output.\n",
    "\n",
    "**This example should work:**\n",
    "```python\n",
    "Vector([1, 2, 3]) + Vector([2, 3, 4]) # should return Vector([3, 5, 7])\n",
    "```\n",
    "\n",
    "**This example should NOT work:**\n",
    "```python\n",
    "Vector([1, 2]) + Vector([1, 2, 3])  # cannot add vectors of different lengths\n",
    "# Should raise an error (with a message!)\n",
    "# ValueError: left and right lengths differ: 2!= 3\n",
    "```"
   ]
  },
  {
   "cell_type": "code",
   "execution_count": 26,
   "id": "722394ed-2cca-4b56-9467-20c8dd6a38e8",
   "metadata": {},
   "outputs": [],
   "source": [
    "class Vector():\n",
    "    def __init__(self, coords_lst):\n",
    "        self.coords = coords_lst\n",
    "        \n",
    "    def __add__(self, other):\n",
    "        if len(self.coords) != len(other.coords):\n",
    "            raise ValueError(f'left and right lengths differ: {len(self.coords)} != {len(other.coords)}')\n",
    "        return Vector([x + y for x, y in zip(self.coords, other.coords)])"
   ]
  },
  {
   "cell_type": "code",
   "execution_count": 27,
   "id": "50dad64e-74d3-494e-aa9e-f08ec56c431b",
   "metadata": {},
   "outputs": [
    {
     "data": {
      "text/plain": [
       "<__main__.Vector at 0x7f478849b1f0>"
      ]
     },
     "execution_count": 27,
     "metadata": {},
     "output_type": "execute_result"
    }
   ],
   "source": [
    "Vector([1, 2, 3]) + Vector([2, 3, 4])"
   ]
  },
  {
   "cell_type": "code",
   "execution_count": 28,
   "id": "58940bed-2660-4121-ac82-ac2c62aefe36",
   "metadata": {},
   "outputs": [
    {
     "ename": "ValueError",
     "evalue": "left and right lengths differ: 2 != 3",
     "output_type": "error",
     "traceback": [
      "\u001b[0;31m---------------------------------------------------------------------------\u001b[0m",
      "\u001b[0;31mValueError\u001b[0m                                Traceback (most recent call last)",
      "Input \u001b[0;32mIn [28]\u001b[0m, in \u001b[0;36m<module>\u001b[0;34m\u001b[0m\n\u001b[0;32m----> 1\u001b[0m \u001b[43mVector\u001b[49m\u001b[43m(\u001b[49m\u001b[43m[\u001b[49m\u001b[38;5;241;43m1\u001b[39;49m\u001b[43m,\u001b[49m\u001b[43m \u001b[49m\u001b[38;5;241;43m2\u001b[39;49m\u001b[43m]\u001b[49m\u001b[43m)\u001b[49m\u001b[43m \u001b[49m\u001b[38;5;241;43m+\u001b[39;49m\u001b[43m \u001b[49m\u001b[43mVector\u001b[49m\u001b[43m(\u001b[49m\u001b[43m[\u001b[49m\u001b[38;5;241;43m1\u001b[39;49m\u001b[43m,\u001b[49m\u001b[43m \u001b[49m\u001b[38;5;241;43m2\u001b[39;49m\u001b[43m,\u001b[49m\u001b[43m \u001b[49m\u001b[38;5;241;43m3\u001b[39;49m\u001b[43m]\u001b[49m\u001b[43m)\u001b[49m\n",
      "Input \u001b[0;32mIn [26]\u001b[0m, in \u001b[0;36mVector.__add__\u001b[0;34m(self, other)\u001b[0m\n\u001b[1;32m      5\u001b[0m \u001b[38;5;28;01mdef\u001b[39;00m \u001b[38;5;21m__add__\u001b[39m(\u001b[38;5;28mself\u001b[39m, other):\n\u001b[1;32m      6\u001b[0m     \u001b[38;5;28;01mif\u001b[39;00m \u001b[38;5;28mlen\u001b[39m(\u001b[38;5;28mself\u001b[39m\u001b[38;5;241m.\u001b[39mcoords) \u001b[38;5;241m!=\u001b[39m \u001b[38;5;28mlen\u001b[39m(other\u001b[38;5;241m.\u001b[39mcoords):\n\u001b[0;32m----> 7\u001b[0m         \u001b[38;5;28;01mraise\u001b[39;00m \u001b[38;5;167;01mValueError\u001b[39;00m(\u001b[38;5;124mf\u001b[39m\u001b[38;5;124m'\u001b[39m\u001b[38;5;124mleft and right lengths differ: \u001b[39m\u001b[38;5;132;01m{\u001b[39;00m\u001b[38;5;28mlen\u001b[39m(\u001b[38;5;28mself\u001b[39m\u001b[38;5;241m.\u001b[39mcoords)\u001b[38;5;132;01m}\u001b[39;00m\u001b[38;5;124m != \u001b[39m\u001b[38;5;132;01m{\u001b[39;00m\u001b[38;5;28mlen\u001b[39m(other\u001b[38;5;241m.\u001b[39mcoords)\u001b[38;5;132;01m}\u001b[39;00m\u001b[38;5;124m'\u001b[39m)\n\u001b[1;32m      8\u001b[0m     \u001b[38;5;28;01mreturn\u001b[39;00m Vector([x \u001b[38;5;241m+\u001b[39m y \u001b[38;5;28;01mfor\u001b[39;00m x, y \u001b[38;5;129;01min\u001b[39;00m \u001b[38;5;28mzip\u001b[39m(\u001b[38;5;28mself\u001b[39m\u001b[38;5;241m.\u001b[39mcoords, other\u001b[38;5;241m.\u001b[39mcoords)])\n",
      "\u001b[0;31mValueError\u001b[0m: left and right lengths differ: 2 != 3"
     ]
    }
   ],
   "source": [
    "Vector([1, 2]) + Vector([1, 2, 3])"
   ]
  },
  {
   "cell_type": "markdown",
   "id": "715b92d5-56c3-44ae-8b94-5b071231d569",
   "metadata": {},
   "source": [
    "### Task 9. "
   ]
  },
  {
   "cell_type": "markdown",
   "id": "24bd3a18-efd2-4864-9ee9-e33864e7113b",
   "metadata": {},
   "source": [
    "Add printing capabilities to your `Vector` class. "
   ]
  },
  {
   "cell_type": "code",
   "execution_count": 29,
   "id": "3fdb2140-602f-4993-a3f9-e1b969a8f087",
   "metadata": {},
   "outputs": [],
   "source": [
    "class Vector():\n",
    "    def __init__(self, coords_lst):\n",
    "        self.coords = coords_lst\n",
    "        \n",
    "    def __add__(self, other):\n",
    "        if len(self.coords) != len(other.coords):\n",
    "            raise ValueError(f'left and right lengths differ: {len(self.coords)} != {len(other.coords)}')\n",
    "        return Vector([x + y for x, y in zip(self.coords, other.coords)])\n",
    "    \n",
    "    def __str__(self):\n",
    "        return f'{self.coords}'"
   ]
  },
  {
   "cell_type": "code",
   "execution_count": 30,
   "id": "3276c0e3-e505-41c2-93b7-7b827d33d628",
   "metadata": {},
   "outputs": [
    {
     "name": "stdout",
     "output_type": "stream",
     "text": [
      "[1, 2, 3]\n"
     ]
    }
   ],
   "source": [
    "print(Vector([1, 2, 3]))"
   ]
  },
  {
   "cell_type": "code",
   "execution_count": 31,
   "id": "e6ed4fd0-7c23-425f-99f5-cde1eb0391d7",
   "metadata": {},
   "outputs": [
    {
     "name": "stdout",
     "output_type": "stream",
     "text": [
      "[1]\n"
     ]
    }
   ],
   "source": [
    "print(Vector([1]))"
   ]
  },
  {
   "cell_type": "code",
   "execution_count": 32,
   "id": "3d20bead-c81c-40dc-96b4-7e5b0d5c8746",
   "metadata": {},
   "outputs": [
    {
     "name": "stdout",
     "output_type": "stream",
     "text": [
      "[3, 5, 7]\n"
     ]
    }
   ],
   "source": [
    "print(Vector([1, 2, 3]) + Vector([2, 3, 4]))"
   ]
  },
  {
   "cell_type": "markdown",
   "id": "a949e7bf-a804-4384-8b64-5835d5b7b4e3",
   "metadata": {},
   "source": [
    "### Task 10. "
   ]
  },
  {
   "cell_type": "markdown",
   "id": "f9bedf4a-e24d-4880-a74b-dc8f31069ac6",
   "metadata": {},
   "source": [
    "Extend the Vector class to support multiplication of vectors and scalar multiplication.\n",
    "\n",
    "```python\n",
    "Vector([1, 2, 3]) * Vector([2, 5, -2])  # даст 6\n",
    "# 1 * 2 + 2 * 5 + 3 * (-2) = 6\n",
    "```\n",
    "\n",
    "```python\n",
    "Vector([1, 2]) * Vector([2, 3, 4])\n",
    "# ValueError: left and right lengths differ: 2 != 3\n",
    "```\n",
    "\n",
    "```python\n",
    "Vector([2, 3, 5, 8]) * 5  # даст Vector([10, 15, 25, 40])\n",
    "```"
   ]
  },
  {
   "cell_type": "code",
   "execution_count": 33,
   "id": "5624e04a-1f3b-499f-8b11-36a5607028ba",
   "metadata": {},
   "outputs": [],
   "source": [
    "class Vector():\n",
    "    def __init__(self, coords_lst):\n",
    "        self.coords = coords_lst\n",
    "        \n",
    "    def __add__(self, other):\n",
    "        if len(self.coords) != len(other.coords):\n",
    "            raise ValueError(f'left and right lengths differ: {len(self.coords)} != {len(other.coords)}')\n",
    "        return Vector([x + y for x, y in zip(self.coords, other.coords)])\n",
    "    \n",
    "    def __mul__(self, other):\n",
    "        if isinstance(other, int) or isinstance(other, float):  \n",
    "            return Vector([x * other for x in self.coords])\n",
    "        elif isinstance(other, Vector):\n",
    "            if len(self.coords)!= len(other.coords):\n",
    "                raise ValueError(f'left and right lengths differ: {len(self.coords)} != {len(other.coords)}')\n",
    "            return sum([x * y for x, y in zip(self.coords, other.coords)])\n",
    "    \n",
    "    def __str__(self):\n",
    "        return f'{self.coords}'"
   ]
  },
  {
   "cell_type": "code",
   "execution_count": 34,
   "id": "306a0a8d-1da1-4517-b2ee-45ba01a9a09d",
   "metadata": {},
   "outputs": [
    {
     "name": "stdout",
     "output_type": "stream",
     "text": [
      "6\n"
     ]
    }
   ],
   "source": [
    "print(Vector([1, 2, 3]) * Vector([2, 5, -2]))"
   ]
  },
  {
   "cell_type": "code",
   "execution_count": 35,
   "id": "ba8625ec-8cb2-4bc1-a03e-ef0a0b967f45",
   "metadata": {},
   "outputs": [
    {
     "ename": "ValueError",
     "evalue": "left and right lengths differ: 2 != 3",
     "output_type": "error",
     "traceback": [
      "\u001b[0;31m---------------------------------------------------------------------------\u001b[0m",
      "\u001b[0;31mValueError\u001b[0m                                Traceback (most recent call last)",
      "Input \u001b[0;32mIn [35]\u001b[0m, in \u001b[0;36m<module>\u001b[0;34m\u001b[0m\n\u001b[0;32m----> 1\u001b[0m \u001b[38;5;28mprint\u001b[39m(\u001b[43mVector\u001b[49m\u001b[43m(\u001b[49m\u001b[43m[\u001b[49m\u001b[38;5;241;43m1\u001b[39;49m\u001b[43m,\u001b[49m\u001b[43m \u001b[49m\u001b[38;5;241;43m2\u001b[39;49m\u001b[43m]\u001b[49m\u001b[43m)\u001b[49m\u001b[43m \u001b[49m\u001b[38;5;241;43m*\u001b[39;49m\u001b[43m \u001b[49m\u001b[43mVector\u001b[49m\u001b[43m(\u001b[49m\u001b[43m[\u001b[49m\u001b[38;5;241;43m2\u001b[39;49m\u001b[43m,\u001b[49m\u001b[43m \u001b[49m\u001b[38;5;241;43m3\u001b[39;49m\u001b[43m,\u001b[49m\u001b[43m \u001b[49m\u001b[38;5;241;43m4\u001b[39;49m\u001b[43m]\u001b[49m\u001b[43m)\u001b[49m)\n",
      "Input \u001b[0;32mIn [33]\u001b[0m, in \u001b[0;36mVector.__mul__\u001b[0;34m(self, other)\u001b[0m\n\u001b[1;32m     13\u001b[0m \u001b[38;5;28;01melif\u001b[39;00m \u001b[38;5;28misinstance\u001b[39m(other, Vector):\n\u001b[1;32m     14\u001b[0m     \u001b[38;5;28;01mif\u001b[39;00m \u001b[38;5;28mlen\u001b[39m(\u001b[38;5;28mself\u001b[39m\u001b[38;5;241m.\u001b[39mcoords)\u001b[38;5;241m!=\u001b[39m \u001b[38;5;28mlen\u001b[39m(other\u001b[38;5;241m.\u001b[39mcoords):\n\u001b[0;32m---> 15\u001b[0m         \u001b[38;5;28;01mraise\u001b[39;00m \u001b[38;5;167;01mValueError\u001b[39;00m(\u001b[38;5;124mf\u001b[39m\u001b[38;5;124m'\u001b[39m\u001b[38;5;124mleft and right lengths differ: \u001b[39m\u001b[38;5;132;01m{\u001b[39;00m\u001b[38;5;28mlen\u001b[39m(\u001b[38;5;28mself\u001b[39m\u001b[38;5;241m.\u001b[39mcoords)\u001b[38;5;132;01m}\u001b[39;00m\u001b[38;5;124m != \u001b[39m\u001b[38;5;132;01m{\u001b[39;00m\u001b[38;5;28mlen\u001b[39m(other\u001b[38;5;241m.\u001b[39mcoords)\u001b[38;5;132;01m}\u001b[39;00m\u001b[38;5;124m'\u001b[39m)\n\u001b[1;32m     16\u001b[0m     \u001b[38;5;28;01mreturn\u001b[39;00m \u001b[38;5;28msum\u001b[39m([x \u001b[38;5;241m*\u001b[39m y \u001b[38;5;28;01mfor\u001b[39;00m x, y \u001b[38;5;129;01min\u001b[39;00m \u001b[38;5;28mzip\u001b[39m(\u001b[38;5;28mself\u001b[39m\u001b[38;5;241m.\u001b[39mcoords, other\u001b[38;5;241m.\u001b[39mcoords)])\n",
      "\u001b[0;31mValueError\u001b[0m: left and right lengths differ: 2 != 3"
     ]
    }
   ],
   "source": [
    "print(Vector([1, 2]) * Vector([2, 3, 4]))"
   ]
  },
  {
   "cell_type": "code",
   "execution_count": 36,
   "id": "faa1dfb4-ca23-496a-84bf-9a76dfef3c1f",
   "metadata": {},
   "outputs": [
    {
     "name": "stdout",
     "output_type": "stream",
     "text": [
      "[10, 15, 25, 40]\n"
     ]
    }
   ],
   "source": [
    "print(Vector([2, 3, 5, 8]) * 5)"
   ]
  },
  {
   "cell_type": "markdown",
   "id": "7812f93a-5e53-4fba-a29d-702cf8a876c8",
   "metadata": {},
   "source": [
    "### Task 11. "
   ]
  },
  {
   "cell_type": "code",
   "execution_count": null,
   "id": "7c3a2cf9-d153-4068-bb74-d2b22bbc8041",
   "metadata": {},
   "outputs": [],
   "source": [
    "tbc.."
   ]
  },
  {
   "cell_type": "markdown",
   "id": "f438625d-86ed-4cfc-8600-e2333e7f959a",
   "metadata": {},
   "source": [
    "### Task 12. "
   ]
  },
  {
   "cell_type": "code",
   "execution_count": null,
   "id": "43f89db8-b475-4295-a7b2-7381777660e7",
   "metadata": {},
   "outputs": [],
   "source": [
    "tbc.."
   ]
  },
  {
   "cell_type": "markdown",
   "id": "04c42a23-157e-4a3b-8388-73997a048944",
   "metadata": {},
   "source": [
    "### Task 13. "
   ]
  },
  {
   "cell_type": "code",
   "execution_count": null,
   "id": "c417225a-2b47-4eae-8285-ba52fc8d2e79",
   "metadata": {},
   "outputs": [],
   "source": [
    "tbc.."
   ]
  },
  {
   "cell_type": "markdown",
   "id": "525016aa-3b12-4d93-a18d-55cbbbc8d844",
   "metadata": {},
   "source": [
    "### Task 14. "
   ]
  },
  {
   "cell_type": "code",
   "execution_count": null,
   "id": "2e6fb48e-afa0-4677-8903-c612eaa25c9a",
   "metadata": {},
   "outputs": [],
   "source": [
    "tbc.."
   ]
  }
 ],
 "metadata": {
  "kernelspec": {
   "display_name": "Python 3 (ipykernel)",
   "language": "python",
   "name": "python3"
  },
  "language_info": {
   "codemirror_mode": {
    "name": "ipython",
    "version": 3
   },
   "file_extension": ".py",
   "mimetype": "text/x-python",
   "name": "python",
   "nbconvert_exporter": "python",
   "pygments_lexer": "ipython3",
   "version": "3.8.10"
  }
 },
 "nbformat": 4,
 "nbformat_minor": 5
}
