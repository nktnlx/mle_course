{
 "cells": [
  {
   "cell_type": "markdown",
   "id": "6fb4b3cb-23fc-4324-9702-a65c7fe5dd83",
   "metadata": {},
   "source": [
    "# Pandas Mini Project"
   ]
  },
  {
   "cell_type": "markdown",
   "id": "b9e5e7a8-3972-473a-b2c8-05c5c1372dc6",
   "metadata": {},
   "source": [
    "## Dataset Description"
   ]
  },
  {
   "cell_type": "markdown",
   "id": "2a0189ad-e206-4ab2-9f60-8e115d98fb51",
   "metadata": {},
   "source": [
    "- App — Application Name\n",
    "- Category — Category to which the application belongs\n",
    "- Rating — User Rating\n",
    "- Reviews — Number of User Reviews about the application\n",
    "- Size — Application Size\n",
    "- Installs — Number of application downloads/installs by users\n",
    "- Type — Paid or Free application\n",
    "- Price — Application Price\n",
    "- Content Rating — Age group the application is targeted at\n",
    "- Genres — Application's affiliation with multiple genres\n",
    "- Last Updated — Date of the application's last update in the Play Store\n",
    "- Current Ver — Current version of the application in the Play Store\n",
    "- Android Ver — Minimum required Android version"
   ]
  },
  {
   "cell_type": "markdown",
   "id": "9b67c433-85dc-498e-ac43-ef4b7653ae84",
   "metadata": {},
   "source": [
    "## Tasks"
   ]
  },
  {
   "cell_type": "markdown",
   "id": "9b4fd179-fa93-4826-b21b-72280a1c54fc",
   "metadata": {},
   "source": [
    "### Task 1. \n",
    "\n"
   ]
  },
  {
   "cell_type": "markdown",
   "id": "3360652a-722f-43ca-b995-a175ffefe99f",
   "metadata": {},
   "source": [
    "Load data and store the first 3 lines and the last 3 lines of the dataset into variables `data_head` and `data_tail`."
   ]
  },
  {
   "cell_type": "code",
   "execution_count": 1,
   "id": "d09c766c-b84a-46e5-aa67-6fe612858c29",
   "metadata": {},
   "outputs": [],
   "source": [
    "import pandas as pd"
   ]
  },
  {
   "cell_type": "code",
   "execution_count": 2,
   "id": "fb4e67bc-6e79-440b-9163-eb658d413c8c",
   "metadata": {},
   "outputs": [],
   "source": [
    "playstore = pd.read_csv('05_data_mini_project.csv')"
   ]
  },
  {
   "cell_type": "code",
   "execution_count": 3,
   "id": "72ca1203-17e8-4ead-991c-74411b6fac38",
   "metadata": {},
   "outputs": [
    {
     "data": {
      "text/html": [
       "<div>\n",
       "<style scoped>\n",
       "    .dataframe tbody tr th:only-of-type {\n",
       "        vertical-align: middle;\n",
       "    }\n",
       "\n",
       "    .dataframe tbody tr th {\n",
       "        vertical-align: top;\n",
       "    }\n",
       "\n",
       "    .dataframe thead th {\n",
       "        text-align: right;\n",
       "    }\n",
       "</style>\n",
       "<table border=\"1\" class=\"dataframe\">\n",
       "  <thead>\n",
       "    <tr style=\"text-align: right;\">\n",
       "      <th></th>\n",
       "      <th>Unnamed: 0</th>\n",
       "      <th>App</th>\n",
       "      <th>Category</th>\n",
       "      <th>Rating</th>\n",
       "      <th>Reviews</th>\n",
       "      <th>Size</th>\n",
       "      <th>Installs</th>\n",
       "      <th>Type</th>\n",
       "      <th>Price</th>\n",
       "      <th>Content Rating</th>\n",
       "      <th>Genres</th>\n",
       "      <th>Last Updated</th>\n",
       "      <th>Current Ver</th>\n",
       "      <th>Android Ver</th>\n",
       "    </tr>\n",
       "  </thead>\n",
       "  <tbody>\n",
       "    <tr>\n",
       "      <th>0</th>\n",
       "      <td>0</td>\n",
       "      <td>Photo Editor &amp; Candy Camera &amp; Grid &amp; ScrapBook</td>\n",
       "      <td>ART_AND_DESIGN</td>\n",
       "      <td>4.1</td>\n",
       "      <td>159</td>\n",
       "      <td>19M</td>\n",
       "      <td>10,000+</td>\n",
       "      <td>Free</td>\n",
       "      <td>0</td>\n",
       "      <td>Everyone</td>\n",
       "      <td>Art &amp; Design</td>\n",
       "      <td>January 7, 2018</td>\n",
       "      <td>1.0.0</td>\n",
       "      <td>4.0.3 and up</td>\n",
       "    </tr>\n",
       "    <tr>\n",
       "      <th>1</th>\n",
       "      <td>1</td>\n",
       "      <td>Coloring book moana</td>\n",
       "      <td>ART_AND_DESIGN</td>\n",
       "      <td>3.9</td>\n",
       "      <td>967</td>\n",
       "      <td>14M</td>\n",
       "      <td>500,000+</td>\n",
       "      <td>Free</td>\n",
       "      <td>0</td>\n",
       "      <td>Everyone</td>\n",
       "      <td>Art &amp; Design;Pretend Play</td>\n",
       "      <td>January 15, 2018</td>\n",
       "      <td>2.0.0</td>\n",
       "      <td>4.0.3 and up</td>\n",
       "    </tr>\n",
       "    <tr>\n",
       "      <th>2</th>\n",
       "      <td>2</td>\n",
       "      <td>U Launcher Lite – FREE Live Cool Themes, Hide ...</td>\n",
       "      <td>ART_AND_DESIGN</td>\n",
       "      <td>4.7</td>\n",
       "      <td>87510</td>\n",
       "      <td>8.7M</td>\n",
       "      <td>5,000,000+</td>\n",
       "      <td>Free</td>\n",
       "      <td>0</td>\n",
       "      <td>Everyone</td>\n",
       "      <td>Art &amp; Design</td>\n",
       "      <td>August 1, 2018</td>\n",
       "      <td>1.2.4</td>\n",
       "      <td>4.0.3 and up</td>\n",
       "    </tr>\n",
       "    <tr>\n",
       "      <th>3</th>\n",
       "      <td>3</td>\n",
       "      <td>Sketch - Draw &amp; Paint</td>\n",
       "      <td>ART_AND_DESIGN</td>\n",
       "      <td>4.5</td>\n",
       "      <td>215644</td>\n",
       "      <td>25M</td>\n",
       "      <td>50,000,000+</td>\n",
       "      <td>Free</td>\n",
       "      <td>0</td>\n",
       "      <td>Teen</td>\n",
       "      <td>Art &amp; Design</td>\n",
       "      <td>June 8, 2018</td>\n",
       "      <td>Varies with device</td>\n",
       "      <td>4.2 and up</td>\n",
       "    </tr>\n",
       "    <tr>\n",
       "      <th>4</th>\n",
       "      <td>4</td>\n",
       "      <td>Pixel Draw - Number Art Coloring Book</td>\n",
       "      <td>ART_AND_DESIGN</td>\n",
       "      <td>4.3</td>\n",
       "      <td>967</td>\n",
       "      <td>2.8M</td>\n",
       "      <td>100,000+</td>\n",
       "      <td>Free</td>\n",
       "      <td>0</td>\n",
       "      <td>Everyone</td>\n",
       "      <td>Art &amp; Design;Creativity</td>\n",
       "      <td>June 20, 2018</td>\n",
       "      <td>1.1</td>\n",
       "      <td>4.4 and up</td>\n",
       "    </tr>\n",
       "  </tbody>\n",
       "</table>\n",
       "</div>"
      ],
      "text/plain": [
       "   Unnamed: 0                                                App  \\\n",
       "0           0     Photo Editor & Candy Camera & Grid & ScrapBook   \n",
       "1           1                                Coloring book moana   \n",
       "2           2  U Launcher Lite – FREE Live Cool Themes, Hide ...   \n",
       "3           3                              Sketch - Draw & Paint   \n",
       "4           4              Pixel Draw - Number Art Coloring Book   \n",
       "\n",
       "         Category  Rating  Reviews  Size     Installs  Type Price  \\\n",
       "0  ART_AND_DESIGN     4.1      159   19M      10,000+  Free     0   \n",
       "1  ART_AND_DESIGN     3.9      967   14M     500,000+  Free     0   \n",
       "2  ART_AND_DESIGN     4.7    87510  8.7M   5,000,000+  Free     0   \n",
       "3  ART_AND_DESIGN     4.5   215644   25M  50,000,000+  Free     0   \n",
       "4  ART_AND_DESIGN     4.3      967  2.8M     100,000+  Free     0   \n",
       "\n",
       "  Content Rating                     Genres      Last Updated  \\\n",
       "0       Everyone               Art & Design   January 7, 2018   \n",
       "1       Everyone  Art & Design;Pretend Play  January 15, 2018   \n",
       "2       Everyone               Art & Design    August 1, 2018   \n",
       "3           Teen               Art & Design      June 8, 2018   \n",
       "4       Everyone    Art & Design;Creativity     June 20, 2018   \n",
       "\n",
       "          Current Ver   Android Ver  \n",
       "0               1.0.0  4.0.3 and up  \n",
       "1               2.0.0  4.0.3 and up  \n",
       "2               1.2.4  4.0.3 and up  \n",
       "3  Varies with device    4.2 and up  \n",
       "4                 1.1    4.4 and up  "
      ]
     },
     "execution_count": 3,
     "metadata": {},
     "output_type": "execute_result"
    }
   ],
   "source": [
    "playstore.head()"
   ]
  },
  {
   "cell_type": "code",
   "execution_count": 4,
   "id": "379b1fba-4d7f-4609-bab3-d8c771e338c9",
   "metadata": {},
   "outputs": [],
   "source": [
    "data_head = playstore.head(3)\n",
    "data_tail = playstore.tail(3)"
   ]
  },
  {
   "cell_type": "markdown",
   "id": "3cb5b6ac-cb27-4ea4-9cbd-ee6eb9210ed8",
   "metadata": {},
   "source": [
    "### Task 2. "
   ]
  },
  {
   "cell_type": "markdown",
   "id": "f76522d1-ab3b-4629-8f0c-a6efd198223d",
   "metadata": {},
   "source": [
    "Store the number of rows and the number of columns into variables `n_row` and `n_col`. "
   ]
  },
  {
   "cell_type": "code",
   "execution_count": 5,
   "id": "776f6947-6252-4157-931a-025093952693",
   "metadata": {},
   "outputs": [],
   "source": [
    "n_row = playstore.shape[0]\n",
    "n_col = playstore.shape[1]"
   ]
  },
  {
   "cell_type": "markdown",
   "id": "f75a2cf2-b2ac-488b-984b-4070b179bba0",
   "metadata": {},
   "source": [
    "### Task 3. "
   ]
  },
  {
   "cell_type": "markdown",
   "id": "309fb437-4d89-4525-bf6f-a1bfb4a253d8",
   "metadata": {},
   "source": [
    "Find a number of unique apps in our dataset. "
   ]
  },
  {
   "cell_type": "code",
   "execution_count": 6,
   "id": "106282f7-5aae-4134-b30d-7a843d151cbb",
   "metadata": {},
   "outputs": [
    {
     "data": {
      "text/plain": [
       "9659"
      ]
     },
     "execution_count": 6,
     "metadata": {},
     "output_type": "execute_result"
    }
   ],
   "source": [
    "playstore.App.nunique()"
   ]
  },
  {
   "cell_type": "markdown",
   "id": "d5461678-6b0b-4607-8dfb-d570a4cc8e87",
   "metadata": {},
   "source": [
    "### Task 4. "
   ]
  },
  {
   "cell_type": "markdown",
   "id": "2cf34348-b881-4254-87e8-dbe8f3c07ff2",
   "metadata": {},
   "source": [
    "Find the number of missing data in a column `Rating`."
   ]
  },
  {
   "cell_type": "code",
   "execution_count": 7,
   "id": "965d5bcd-850a-410a-aa21-7b41049cc2a9",
   "metadata": {},
   "outputs": [],
   "source": [
    "rating_missing = playstore['Rating'].isna().sum()"
   ]
  },
  {
   "cell_type": "markdown",
   "id": "647588f4-908e-4985-b38d-b93327ee02b6",
   "metadata": {},
   "source": [
    "### Task 5. "
   ]
  },
  {
   "cell_type": "markdown",
   "id": "67e7ebfe-c95f-40a3-9eab-92764bfee275",
   "metadata": {},
   "source": [
    "Make a new dataset consisted of lines 1-3, 6-8 and 16-19. "
   ]
  },
  {
   "cell_type": "code",
   "execution_count": 8,
   "id": "7b0b619d-6677-4222-8564-fbcd85739275",
   "metadata": {},
   "outputs": [],
   "source": [
    "first_three = playstore[['App', 'Size', 'Genres', 'Current Ver']].head(3)"
   ]
  },
  {
   "cell_type": "code",
   "execution_count": 9,
   "id": "4acf4ba8-29d7-463a-90f1-739d72bab05d",
   "metadata": {},
   "outputs": [],
   "source": [
    "second_part = playstore[['App', 'Size', 'Genres', 'Current Ver']].iloc[5:8]"
   ]
  },
  {
   "cell_type": "code",
   "execution_count": 10,
   "id": "93602003-32f7-41cc-a2dc-40b9d6878d52",
   "metadata": {},
   "outputs": [],
   "source": [
    "third_part = playstore[['App', 'Size', 'Genres', 'Current Ver']].iloc[15:19]"
   ]
  },
  {
   "cell_type": "code",
   "execution_count": 11,
   "id": "fb16be50-7212-4c62-a488-a74960d1dc0b",
   "metadata": {},
   "outputs": [
    {
     "data": {
      "text/html": [
       "<div>\n",
       "<style scoped>\n",
       "    .dataframe tbody tr th:only-of-type {\n",
       "        vertical-align: middle;\n",
       "    }\n",
       "\n",
       "    .dataframe tbody tr th {\n",
       "        vertical-align: top;\n",
       "    }\n",
       "\n",
       "    .dataframe thead th {\n",
       "        text-align: right;\n",
       "    }\n",
       "</style>\n",
       "<table border=\"1\" class=\"dataframe\">\n",
       "  <thead>\n",
       "    <tr style=\"text-align: right;\">\n",
       "      <th></th>\n",
       "      <th>App</th>\n",
       "      <th>Size</th>\n",
       "      <th>Genres</th>\n",
       "      <th>Current Ver</th>\n",
       "    </tr>\n",
       "  </thead>\n",
       "  <tbody>\n",
       "    <tr>\n",
       "      <th>0</th>\n",
       "      <td>Photo Editor &amp; Candy Camera &amp; Grid &amp; ScrapBook</td>\n",
       "      <td>19M</td>\n",
       "      <td>Art &amp; Design</td>\n",
       "      <td>1.0.0</td>\n",
       "    </tr>\n",
       "    <tr>\n",
       "      <th>1</th>\n",
       "      <td>Coloring book moana</td>\n",
       "      <td>14M</td>\n",
       "      <td>Art &amp; Design;Pretend Play</td>\n",
       "      <td>2.0.0</td>\n",
       "    </tr>\n",
       "    <tr>\n",
       "      <th>2</th>\n",
       "      <td>U Launcher Lite – FREE Live Cool Themes, Hide ...</td>\n",
       "      <td>8.7M</td>\n",
       "      <td>Art &amp; Design</td>\n",
       "      <td>1.2.4</td>\n",
       "    </tr>\n",
       "  </tbody>\n",
       "</table>\n",
       "</div>"
      ],
      "text/plain": [
       "                                                 App  Size  \\\n",
       "0     Photo Editor & Candy Camera & Grid & ScrapBook   19M   \n",
       "1                                Coloring book moana   14M   \n",
       "2  U Launcher Lite – FREE Live Cool Themes, Hide ...  8.7M   \n",
       "\n",
       "                      Genres Current Ver  \n",
       "0               Art & Design       1.0.0  \n",
       "1  Art & Design;Pretend Play       2.0.0  \n",
       "2               Art & Design       1.2.4  "
      ]
     },
     "execution_count": 11,
     "metadata": {},
     "output_type": "execute_result"
    }
   ],
   "source": [
    "first_three"
   ]
  },
  {
   "cell_type": "code",
   "execution_count": 12,
   "id": "800de612-6836-47f4-b8f5-45fb46bf2db5",
   "metadata": {},
   "outputs": [
    {
     "data": {
      "text/html": [
       "<div>\n",
       "<style scoped>\n",
       "    .dataframe tbody tr th:only-of-type {\n",
       "        vertical-align: middle;\n",
       "    }\n",
       "\n",
       "    .dataframe tbody tr th {\n",
       "        vertical-align: top;\n",
       "    }\n",
       "\n",
       "    .dataframe thead th {\n",
       "        text-align: right;\n",
       "    }\n",
       "</style>\n",
       "<table border=\"1\" class=\"dataframe\">\n",
       "  <thead>\n",
       "    <tr style=\"text-align: right;\">\n",
       "      <th></th>\n",
       "      <th>App</th>\n",
       "      <th>Size</th>\n",
       "      <th>Genres</th>\n",
       "      <th>Current Ver</th>\n",
       "    </tr>\n",
       "  </thead>\n",
       "  <tbody>\n",
       "    <tr>\n",
       "      <th>5</th>\n",
       "      <td>Paper flowers instructions</td>\n",
       "      <td>5.6M</td>\n",
       "      <td>Art &amp; Design</td>\n",
       "      <td>1.0</td>\n",
       "    </tr>\n",
       "    <tr>\n",
       "      <th>6</th>\n",
       "      <td>Smoke Effect Photo Maker - Smoke Editor</td>\n",
       "      <td>19M</td>\n",
       "      <td>Art &amp; Design</td>\n",
       "      <td>1.1</td>\n",
       "    </tr>\n",
       "    <tr>\n",
       "      <th>7</th>\n",
       "      <td>Infinite Painter</td>\n",
       "      <td>29M</td>\n",
       "      <td>Art &amp; Design</td>\n",
       "      <td>6.1.61.1</td>\n",
       "    </tr>\n",
       "  </tbody>\n",
       "</table>\n",
       "</div>"
      ],
      "text/plain": [
       "                                       App  Size        Genres Current Ver\n",
       "5               Paper flowers instructions  5.6M  Art & Design         1.0\n",
       "6  Smoke Effect Photo Maker - Smoke Editor   19M  Art & Design         1.1\n",
       "7                         Infinite Painter   29M  Art & Design    6.1.61.1"
      ]
     },
     "execution_count": 12,
     "metadata": {},
     "output_type": "execute_result"
    }
   ],
   "source": [
    "second_part"
   ]
  },
  {
   "cell_type": "code",
   "execution_count": 13,
   "id": "2773ec9a-a437-4834-87a6-053f6fa505cc",
   "metadata": {},
   "outputs": [
    {
     "data": {
      "text/html": [
       "<div>\n",
       "<style scoped>\n",
       "    .dataframe tbody tr th:only-of-type {\n",
       "        vertical-align: middle;\n",
       "    }\n",
       "\n",
       "    .dataframe tbody tr th {\n",
       "        vertical-align: top;\n",
       "    }\n",
       "\n",
       "    .dataframe thead th {\n",
       "        text-align: right;\n",
       "    }\n",
       "</style>\n",
       "<table border=\"1\" class=\"dataframe\">\n",
       "  <thead>\n",
       "    <tr style=\"text-align: right;\">\n",
       "      <th></th>\n",
       "      <th>App</th>\n",
       "      <th>Size</th>\n",
       "      <th>Genres</th>\n",
       "      <th>Current Ver</th>\n",
       "    </tr>\n",
       "  </thead>\n",
       "  <tbody>\n",
       "    <tr>\n",
       "      <th>15</th>\n",
       "      <td>Learn To Draw Kawaii Characters</td>\n",
       "      <td>2.7M</td>\n",
       "      <td>Art &amp; Design</td>\n",
       "      <td>NaN</td>\n",
       "    </tr>\n",
       "    <tr>\n",
       "      <th>16</th>\n",
       "      <td>Photo Designer - Write your name with shapes</td>\n",
       "      <td>5.5M</td>\n",
       "      <td>Art &amp; Design</td>\n",
       "      <td>3.1</td>\n",
       "    </tr>\n",
       "    <tr>\n",
       "      <th>17</th>\n",
       "      <td>350 Diy Room Decor Ideas</td>\n",
       "      <td>17M</td>\n",
       "      <td>Art &amp; Design</td>\n",
       "      <td>1.0</td>\n",
       "    </tr>\n",
       "    <tr>\n",
       "      <th>18</th>\n",
       "      <td>FlipaClip - Cartoon animation</td>\n",
       "      <td>39M</td>\n",
       "      <td>Art &amp; Design</td>\n",
       "      <td>2.2.5</td>\n",
       "    </tr>\n",
       "  </tbody>\n",
       "</table>\n",
       "</div>"
      ],
      "text/plain": [
       "                                             App  Size        Genres  \\\n",
       "15               Learn To Draw Kawaii Characters  2.7M  Art & Design   \n",
       "16  Photo Designer - Write your name with shapes  5.5M  Art & Design   \n",
       "17                      350 Diy Room Decor Ideas   17M  Art & Design   \n",
       "18                 FlipaClip - Cartoon animation   39M  Art & Design   \n",
       "\n",
       "   Current Ver  \n",
       "15         NaN  \n",
       "16         3.1  \n",
       "17         1.0  \n",
       "18       2.2.5  "
      ]
     },
     "execution_count": 13,
     "metadata": {},
     "output_type": "execute_result"
    }
   ],
   "source": [
    "third_part"
   ]
  },
  {
   "cell_type": "code",
   "execution_count": 14,
   "id": "8c1d1d48-d42e-4ebb-b643-60149b0f239a",
   "metadata": {},
   "outputs": [],
   "source": [
    "merged_data = pd.concat([first_three, second_part, third_part])"
   ]
  },
  {
   "cell_type": "code",
   "execution_count": 15,
   "id": "cca8cfb1-138a-45a2-8a00-0e8031951177",
   "metadata": {},
   "outputs": [
    {
     "data": {
      "text/html": [
       "<div>\n",
       "<style scoped>\n",
       "    .dataframe tbody tr th:only-of-type {\n",
       "        vertical-align: middle;\n",
       "    }\n",
       "\n",
       "    .dataframe tbody tr th {\n",
       "        vertical-align: top;\n",
       "    }\n",
       "\n",
       "    .dataframe thead th {\n",
       "        text-align: right;\n",
       "    }\n",
       "</style>\n",
       "<table border=\"1\" class=\"dataframe\">\n",
       "  <thead>\n",
       "    <tr style=\"text-align: right;\">\n",
       "      <th></th>\n",
       "      <th>App</th>\n",
       "      <th>Size</th>\n",
       "      <th>Genres</th>\n",
       "      <th>Current Ver</th>\n",
       "    </tr>\n",
       "  </thead>\n",
       "  <tbody>\n",
       "    <tr>\n",
       "      <th>0</th>\n",
       "      <td>Photo Editor &amp; Candy Camera &amp; Grid &amp; ScrapBook</td>\n",
       "      <td>19M</td>\n",
       "      <td>Art &amp; Design</td>\n",
       "      <td>1.0.0</td>\n",
       "    </tr>\n",
       "    <tr>\n",
       "      <th>1</th>\n",
       "      <td>Coloring book moana</td>\n",
       "      <td>14M</td>\n",
       "      <td>Art &amp; Design;Pretend Play</td>\n",
       "      <td>2.0.0</td>\n",
       "    </tr>\n",
       "    <tr>\n",
       "      <th>2</th>\n",
       "      <td>U Launcher Lite – FREE Live Cool Themes, Hide ...</td>\n",
       "      <td>8.7M</td>\n",
       "      <td>Art &amp; Design</td>\n",
       "      <td>1.2.4</td>\n",
       "    </tr>\n",
       "    <tr>\n",
       "      <th>5</th>\n",
       "      <td>Paper flowers instructions</td>\n",
       "      <td>5.6M</td>\n",
       "      <td>Art &amp; Design</td>\n",
       "      <td>1.0</td>\n",
       "    </tr>\n",
       "    <tr>\n",
       "      <th>6</th>\n",
       "      <td>Smoke Effect Photo Maker - Smoke Editor</td>\n",
       "      <td>19M</td>\n",
       "      <td>Art &amp; Design</td>\n",
       "      <td>1.1</td>\n",
       "    </tr>\n",
       "    <tr>\n",
       "      <th>7</th>\n",
       "      <td>Infinite Painter</td>\n",
       "      <td>29M</td>\n",
       "      <td>Art &amp; Design</td>\n",
       "      <td>6.1.61.1</td>\n",
       "    </tr>\n",
       "    <tr>\n",
       "      <th>15</th>\n",
       "      <td>Learn To Draw Kawaii Characters</td>\n",
       "      <td>2.7M</td>\n",
       "      <td>Art &amp; Design</td>\n",
       "      <td>NaN</td>\n",
       "    </tr>\n",
       "    <tr>\n",
       "      <th>16</th>\n",
       "      <td>Photo Designer - Write your name with shapes</td>\n",
       "      <td>5.5M</td>\n",
       "      <td>Art &amp; Design</td>\n",
       "      <td>3.1</td>\n",
       "    </tr>\n",
       "    <tr>\n",
       "      <th>17</th>\n",
       "      <td>350 Diy Room Decor Ideas</td>\n",
       "      <td>17M</td>\n",
       "      <td>Art &amp; Design</td>\n",
       "      <td>1.0</td>\n",
       "    </tr>\n",
       "    <tr>\n",
       "      <th>18</th>\n",
       "      <td>FlipaClip - Cartoon animation</td>\n",
       "      <td>39M</td>\n",
       "      <td>Art &amp; Design</td>\n",
       "      <td>2.2.5</td>\n",
       "    </tr>\n",
       "  </tbody>\n",
       "</table>\n",
       "</div>"
      ],
      "text/plain": [
       "                                                  App  Size  \\\n",
       "0      Photo Editor & Candy Camera & Grid & ScrapBook   19M   \n",
       "1                                 Coloring book moana   14M   \n",
       "2   U Launcher Lite – FREE Live Cool Themes, Hide ...  8.7M   \n",
       "5                          Paper flowers instructions  5.6M   \n",
       "6             Smoke Effect Photo Maker - Smoke Editor   19M   \n",
       "7                                    Infinite Painter   29M   \n",
       "15                    Learn To Draw Kawaii Characters  2.7M   \n",
       "16       Photo Designer - Write your name with shapes  5.5M   \n",
       "17                           350 Diy Room Decor Ideas   17M   \n",
       "18                      FlipaClip - Cartoon animation   39M   \n",
       "\n",
       "                       Genres Current Ver  \n",
       "0                Art & Design       1.0.0  \n",
       "1   Art & Design;Pretend Play       2.0.0  \n",
       "2                Art & Design       1.2.4  \n",
       "5                Art & Design         1.0  \n",
       "6                Art & Design         1.1  \n",
       "7                Art & Design    6.1.61.1  \n",
       "15               Art & Design         NaN  \n",
       "16               Art & Design         3.1  \n",
       "17               Art & Design         1.0  \n",
       "18               Art & Design       2.2.5  "
      ]
     },
     "execution_count": 15,
     "metadata": {},
     "output_type": "execute_result"
    }
   ],
   "source": [
    "merged_data"
   ]
  },
  {
   "cell_type": "code",
   "execution_count": 16,
   "id": "087d5df8-281f-447e-b326-2cf18ae7e730",
   "metadata": {},
   "outputs": [],
   "source": [
    "merged_data.to_csv('05_merged_data.csv', sep=',')"
   ]
  },
  {
   "cell_type": "markdown",
   "id": "4adb78ca-b7c6-41af-85a6-6cca964d33b3",
   "metadata": {},
   "source": [
    "### Task 6. "
   ]
  },
  {
   "cell_type": "markdown",
   "id": "a09e91f5-a024-420c-adb0-b14ad33cbc2a",
   "metadata": {},
   "source": [
    "Drop duplicates from an `App` column and save the results into a new dataframe. Do not forget to make a reset index operation. "
   ]
  },
  {
   "cell_type": "code",
   "execution_count": 17,
   "id": "dda8399b-99ac-41cf-ba88-d753bb97dd55",
   "metadata": {},
   "outputs": [
    {
     "data": {
      "text/html": [
       "<div>\n",
       "<style scoped>\n",
       "    .dataframe tbody tr th:only-of-type {\n",
       "        vertical-align: middle;\n",
       "    }\n",
       "\n",
       "    .dataframe tbody tr th {\n",
       "        vertical-align: top;\n",
       "    }\n",
       "\n",
       "    .dataframe thead th {\n",
       "        text-align: right;\n",
       "    }\n",
       "</style>\n",
       "<table border=\"1\" class=\"dataframe\">\n",
       "  <thead>\n",
       "    <tr style=\"text-align: right;\">\n",
       "      <th></th>\n",
       "      <th>Unnamed: 0</th>\n",
       "      <th>App</th>\n",
       "      <th>Category</th>\n",
       "      <th>Rating</th>\n",
       "      <th>Reviews</th>\n",
       "      <th>Size</th>\n",
       "      <th>Installs</th>\n",
       "      <th>Type</th>\n",
       "      <th>Price</th>\n",
       "      <th>Content Rating</th>\n",
       "      <th>Genres</th>\n",
       "      <th>Last Updated</th>\n",
       "      <th>Current Ver</th>\n",
       "      <th>Android Ver</th>\n",
       "    </tr>\n",
       "  </thead>\n",
       "  <tbody>\n",
       "    <tr>\n",
       "      <th>9656</th>\n",
       "      <td>10837</td>\n",
       "      <td>Parkinson Exercices FR</td>\n",
       "      <td>MEDICAL</td>\n",
       "      <td>NaN</td>\n",
       "      <td>3</td>\n",
       "      <td>9.5M</td>\n",
       "      <td>1,000+</td>\n",
       "      <td>Free</td>\n",
       "      <td>0</td>\n",
       "      <td>Everyone</td>\n",
       "      <td>Medical</td>\n",
       "      <td>January 20, 2017</td>\n",
       "      <td>1.0</td>\n",
       "      <td>2.2 and up</td>\n",
       "    </tr>\n",
       "    <tr>\n",
       "      <th>9657</th>\n",
       "      <td>10838</td>\n",
       "      <td>The SCP Foundation DB fr nn5n</td>\n",
       "      <td>BOOKS_AND_REFERENCE</td>\n",
       "      <td>4.5</td>\n",
       "      <td>114</td>\n",
       "      <td>Varies with device</td>\n",
       "      <td>1,000+</td>\n",
       "      <td>Free</td>\n",
       "      <td>0</td>\n",
       "      <td>Mature 17+</td>\n",
       "      <td>Books &amp; Reference</td>\n",
       "      <td>January 19, 2015</td>\n",
       "      <td>Varies with device</td>\n",
       "      <td>Varies with device</td>\n",
       "    </tr>\n",
       "    <tr>\n",
       "      <th>9658</th>\n",
       "      <td>10839</td>\n",
       "      <td>iHoroscope - 2018 Daily Horoscope &amp; Astrology</td>\n",
       "      <td>LIFESTYLE</td>\n",
       "      <td>4.5</td>\n",
       "      <td>398307</td>\n",
       "      <td>19M</td>\n",
       "      <td>10,000,000+</td>\n",
       "      <td>Free</td>\n",
       "      <td>0</td>\n",
       "      <td>Everyone</td>\n",
       "      <td>Lifestyle</td>\n",
       "      <td>July 25, 2018</td>\n",
       "      <td>Varies with device</td>\n",
       "      <td>Varies with device</td>\n",
       "    </tr>\n",
       "  </tbody>\n",
       "</table>\n",
       "</div>"
      ],
      "text/plain": [
       "      Unnamed: 0                                            App  \\\n",
       "9656       10837                         Parkinson Exercices FR   \n",
       "9657       10838                  The SCP Foundation DB fr nn5n   \n",
       "9658       10839  iHoroscope - 2018 Daily Horoscope & Astrology   \n",
       "\n",
       "                 Category  Rating  Reviews                Size     Installs  \\\n",
       "9656              MEDICAL     NaN        3                9.5M       1,000+   \n",
       "9657  BOOKS_AND_REFERENCE     4.5      114  Varies with device       1,000+   \n",
       "9658            LIFESTYLE     4.5   398307                 19M  10,000,000+   \n",
       "\n",
       "      Type Price Content Rating             Genres      Last Updated  \\\n",
       "9656  Free     0       Everyone            Medical  January 20, 2017   \n",
       "9657  Free     0     Mature 17+  Books & Reference  January 19, 2015   \n",
       "9658  Free     0       Everyone          Lifestyle     July 25, 2018   \n",
       "\n",
       "             Current Ver         Android Ver  \n",
       "9656                 1.0          2.2 and up  \n",
       "9657  Varies with device  Varies with device  \n",
       "9658  Varies with device  Varies with device  "
      ]
     },
     "execution_count": 17,
     "metadata": {},
     "output_type": "execute_result"
    }
   ],
   "source": [
    "unique_playstore = playstore.drop_duplicates('App').reset_index(drop=True)\n",
    "unique_playstore.tail(3)"
   ]
  },
  {
   "cell_type": "markdown",
   "id": "e4594bb8-3f4d-48a5-84ad-d2e5f4fc461c",
   "metadata": {},
   "source": [
    "### Task 7. "
   ]
  },
  {
   "cell_type": "markdown",
   "id": "bc4f63a3-a76f-497c-a60f-c6ccd7ea4f35",
   "metadata": {},
   "source": [
    "Change names of the columns so they start from a lower letter and replace all spaces with an underscore sign. "
   ]
  },
  {
   "cell_type": "code",
   "execution_count": 18,
   "id": "10a31bd6-836a-4a56-94bc-5d05beb2b96a",
   "metadata": {},
   "outputs": [],
   "source": [
    "cols = playstore.columns.to_list()"
   ]
  },
  {
   "cell_type": "code",
   "execution_count": 19,
   "id": "e708ba72-fc2f-4cfb-bbf1-980dc3023c78",
   "metadata": {},
   "outputs": [],
   "source": [
    "cols_new = []\n",
    "for col in cols:\n",
    "    cols_new.append(str.lower(col).replace(' ', '_'))"
   ]
  },
  {
   "cell_type": "code",
   "execution_count": 20,
   "id": "d31cf10a-7224-4e06-85d1-64c2b4df72bd",
   "metadata": {},
   "outputs": [],
   "source": [
    "playstore.columns = cols_new"
   ]
  },
  {
   "cell_type": "code",
   "execution_count": 21,
   "id": "59b09aee-a3a2-4ef9-8cda-a210a09c1891",
   "metadata": {},
   "outputs": [
    {
     "data": {
      "text/html": [
       "<div>\n",
       "<style scoped>\n",
       "    .dataframe tbody tr th:only-of-type {\n",
       "        vertical-align: middle;\n",
       "    }\n",
       "\n",
       "    .dataframe tbody tr th {\n",
       "        vertical-align: top;\n",
       "    }\n",
       "\n",
       "    .dataframe thead th {\n",
       "        text-align: right;\n",
       "    }\n",
       "</style>\n",
       "<table border=\"1\" class=\"dataframe\">\n",
       "  <thead>\n",
       "    <tr style=\"text-align: right;\">\n",
       "      <th></th>\n",
       "      <th>unnamed:_0</th>\n",
       "      <th>app</th>\n",
       "      <th>category</th>\n",
       "      <th>rating</th>\n",
       "      <th>reviews</th>\n",
       "      <th>size</th>\n",
       "      <th>installs</th>\n",
       "      <th>type</th>\n",
       "      <th>price</th>\n",
       "      <th>content_rating</th>\n",
       "      <th>genres</th>\n",
       "      <th>last_updated</th>\n",
       "      <th>current_ver</th>\n",
       "      <th>android_ver</th>\n",
       "    </tr>\n",
       "  </thead>\n",
       "  <tbody>\n",
       "    <tr>\n",
       "      <th>0</th>\n",
       "      <td>0</td>\n",
       "      <td>Photo Editor &amp; Candy Camera &amp; Grid &amp; ScrapBook</td>\n",
       "      <td>ART_AND_DESIGN</td>\n",
       "      <td>4.1</td>\n",
       "      <td>159</td>\n",
       "      <td>19M</td>\n",
       "      <td>10,000+</td>\n",
       "      <td>Free</td>\n",
       "      <td>0</td>\n",
       "      <td>Everyone</td>\n",
       "      <td>Art &amp; Design</td>\n",
       "      <td>January 7, 2018</td>\n",
       "      <td>1.0.0</td>\n",
       "      <td>4.0.3 and up</td>\n",
       "    </tr>\n",
       "    <tr>\n",
       "      <th>1</th>\n",
       "      <td>1</td>\n",
       "      <td>Coloring book moana</td>\n",
       "      <td>ART_AND_DESIGN</td>\n",
       "      <td>3.9</td>\n",
       "      <td>967</td>\n",
       "      <td>14M</td>\n",
       "      <td>500,000+</td>\n",
       "      <td>Free</td>\n",
       "      <td>0</td>\n",
       "      <td>Everyone</td>\n",
       "      <td>Art &amp; Design;Pretend Play</td>\n",
       "      <td>January 15, 2018</td>\n",
       "      <td>2.0.0</td>\n",
       "      <td>4.0.3 and up</td>\n",
       "    </tr>\n",
       "    <tr>\n",
       "      <th>2</th>\n",
       "      <td>2</td>\n",
       "      <td>U Launcher Lite – FREE Live Cool Themes, Hide ...</td>\n",
       "      <td>ART_AND_DESIGN</td>\n",
       "      <td>4.7</td>\n",
       "      <td>87510</td>\n",
       "      <td>8.7M</td>\n",
       "      <td>5,000,000+</td>\n",
       "      <td>Free</td>\n",
       "      <td>0</td>\n",
       "      <td>Everyone</td>\n",
       "      <td>Art &amp; Design</td>\n",
       "      <td>August 1, 2018</td>\n",
       "      <td>1.2.4</td>\n",
       "      <td>4.0.3 and up</td>\n",
       "    </tr>\n",
       "  </tbody>\n",
       "</table>\n",
       "</div>"
      ],
      "text/plain": [
       "   unnamed:_0                                                app  \\\n",
       "0           0     Photo Editor & Candy Camera & Grid & ScrapBook   \n",
       "1           1                                Coloring book moana   \n",
       "2           2  U Launcher Lite – FREE Live Cool Themes, Hide ...   \n",
       "\n",
       "         category  rating  reviews  size    installs  type price  \\\n",
       "0  ART_AND_DESIGN     4.1      159   19M     10,000+  Free     0   \n",
       "1  ART_AND_DESIGN     3.9      967   14M    500,000+  Free     0   \n",
       "2  ART_AND_DESIGN     4.7    87510  8.7M  5,000,000+  Free     0   \n",
       "\n",
       "  content_rating                     genres      last_updated current_ver  \\\n",
       "0       Everyone               Art & Design   January 7, 2018       1.0.0   \n",
       "1       Everyone  Art & Design;Pretend Play  January 15, 2018       2.0.0   \n",
       "2       Everyone               Art & Design    August 1, 2018       1.2.4   \n",
       "\n",
       "    android_ver  \n",
       "0  4.0.3 and up  \n",
       "1  4.0.3 and up  \n",
       "2  4.0.3 and up  "
      ]
     },
     "execution_count": 21,
     "metadata": {},
     "output_type": "execute_result"
    }
   ],
   "source": [
    "playstore.head(3)"
   ]
  },
  {
   "cell_type": "markdown",
   "id": "6ed7a903-ff7e-44b7-89e7-68ad2f777ef5",
   "metadata": {},
   "source": [
    "### Task 8. "
   ]
  },
  {
   "cell_type": "markdown",
   "id": "c631bdc4-f541-432b-8713-984ad28c7f9b",
   "metadata": {},
   "source": [
    "Find the proportion of free apps in the app store. "
   ]
  },
  {
   "cell_type": "code",
   "execution_count": 22,
   "id": "fb48f806-9ae0-43d4-ac2d-d8f4c377e5d2",
   "metadata": {},
   "outputs": [
    {
     "data": {
      "text/plain": [
       "0.92"
      ]
     },
     "execution_count": 22,
     "metadata": {},
     "output_type": "execute_result"
    }
   ],
   "source": [
    "free_apps = unique_playstore.Price.value_counts()[0]\n",
    "round(free_apps / unique_playstore.shape[0], 2)"
   ]
  },
  {
   "cell_type": "markdown",
   "id": "715b92d5-56c3-44ae-8b94-5b071231d569",
   "metadata": {},
   "source": [
    "### Task 9. "
   ]
  },
  {
   "cell_type": "markdown",
   "id": "78b5675b-a7bf-45df-9e1e-7fe576e3aa25",
   "metadata": {},
   "source": [
    "Filter only EDUCATION apps having reviews from more than 1000 users. "
   ]
  },
  {
   "cell_type": "code",
   "execution_count": 23,
   "id": "f9e015b2-8f1b-455f-9710-df2b0185d82b",
   "metadata": {},
   "outputs": [
    {
     "data": {
      "text/html": [
       "<div>\n",
       "<style scoped>\n",
       "    .dataframe tbody tr th:only-of-type {\n",
       "        vertical-align: middle;\n",
       "    }\n",
       "\n",
       "    .dataframe tbody tr th {\n",
       "        vertical-align: top;\n",
       "    }\n",
       "\n",
       "    .dataframe thead th {\n",
       "        text-align: right;\n",
       "    }\n",
       "</style>\n",
       "<table border=\"1\" class=\"dataframe\">\n",
       "  <thead>\n",
       "    <tr style=\"text-align: right;\">\n",
       "      <th></th>\n",
       "      <th>unnamed:_0</th>\n",
       "      <th>app</th>\n",
       "      <th>category</th>\n",
       "      <th>rating</th>\n",
       "      <th>reviews</th>\n",
       "      <th>size</th>\n",
       "      <th>installs</th>\n",
       "      <th>type</th>\n",
       "      <th>price</th>\n",
       "      <th>content_rating</th>\n",
       "      <th>genres</th>\n",
       "      <th>last_updated</th>\n",
       "      <th>current_ver</th>\n",
       "      <th>android_ver</th>\n",
       "    </tr>\n",
       "  </thead>\n",
       "  <tbody>\n",
       "    <tr>\n",
       "      <th>132</th>\n",
       "      <td>850</td>\n",
       "      <td>Blinkist - Nonfiction Books</td>\n",
       "      <td>EDUCATION</td>\n",
       "      <td>4.1</td>\n",
       "      <td>16103</td>\n",
       "      <td>13M</td>\n",
       "      <td>1,000,000+</td>\n",
       "      <td>Free</td>\n",
       "      <td>0</td>\n",
       "      <td>Everyone</td>\n",
       "      <td>Education</td>\n",
       "      <td>July 31, 2018</td>\n",
       "      <td>5.7.1</td>\n",
       "      <td>4.1 and up</td>\n",
       "    </tr>\n",
       "    <tr>\n",
       "      <th>133</th>\n",
       "      <td>853</td>\n",
       "      <td>Toca Life: City</td>\n",
       "      <td>EDUCATION</td>\n",
       "      <td>4.7</td>\n",
       "      <td>31085</td>\n",
       "      <td>24M</td>\n",
       "      <td>500,000+</td>\n",
       "      <td>Paid</td>\n",
       "      <td>$3.99</td>\n",
       "      <td>Everyone</td>\n",
       "      <td>Education;Pretend Play</td>\n",
       "      <td>July 6, 2018</td>\n",
       "      <td>1.5-play</td>\n",
       "      <td>4.4 and up</td>\n",
       "    </tr>\n",
       "    <tr>\n",
       "      <th>134</th>\n",
       "      <td>854</td>\n",
       "      <td>Toca Life: Hospital</td>\n",
       "      <td>EDUCATION</td>\n",
       "      <td>4.7</td>\n",
       "      <td>3528</td>\n",
       "      <td>24M</td>\n",
       "      <td>100,000+</td>\n",
       "      <td>Paid</td>\n",
       "      <td>$3.99</td>\n",
       "      <td>Everyone</td>\n",
       "      <td>Education;Pretend Play</td>\n",
       "      <td>June 12, 2018</td>\n",
       "      <td>1.1.1-play</td>\n",
       "      <td>4.4 and up</td>\n",
       "    </tr>\n",
       "  </tbody>\n",
       "</table>\n",
       "</div>"
      ],
      "text/plain": [
       "     unnamed:_0                          app   category  rating  reviews size  \\\n",
       "132         850  Blinkist - Nonfiction Books  EDUCATION     4.1    16103  13M   \n",
       "133         853              Toca Life: City  EDUCATION     4.7    31085  24M   \n",
       "134         854          Toca Life: Hospital  EDUCATION     4.7     3528  24M   \n",
       "\n",
       "       installs  type  price content_rating                  genres  \\\n",
       "132  1,000,000+  Free      0       Everyone               Education   \n",
       "133    500,000+  Paid  $3.99       Everyone  Education;Pretend Play   \n",
       "134    100,000+  Paid  $3.99       Everyone  Education;Pretend Play   \n",
       "\n",
       "      last_updated current_ver android_ver  \n",
       "132  July 31, 2018       5.7.1  4.1 and up  \n",
       "133   July 6, 2018    1.5-play  4.4 and up  \n",
       "134  June 12, 2018  1.1.1-play  4.4 and up  "
      ]
     },
     "execution_count": 23,
     "metadata": {},
     "output_type": "execute_result"
    }
   ],
   "source": [
    "education_playstore = playstore[(playstore['category'] == 'EDUCATION') & (playstore['reviews'] > 1000)].reset_index(drop=True)\n",
    "education_playstore.tail(3)"
   ]
  },
  {
   "cell_type": "markdown",
   "id": "a949e7bf-a804-4384-8b64-5835d5b7b4e3",
   "metadata": {},
   "source": [
    "### Task 10. "
   ]
  },
  {
   "cell_type": "markdown",
   "id": "fc5cbe9d-9ca5-48bb-b2d3-6b18ae77a366",
   "metadata": {},
   "source": [
    "Change `price` column data type from object to float. "
   ]
  },
  {
   "cell_type": "code",
   "execution_count": 24,
   "id": "14f76615-0110-46c9-978a-2808b1b8b753",
   "metadata": {},
   "outputs": [
    {
     "name": "stderr",
     "output_type": "stream",
     "text": [
      "/tmp/ipykernel_162/4027963400.py:1: FutureWarning: The default value of regex will change from True to False in a future version. In addition, single character regular expressions will *not* be treated as literal strings when regex=True.\n",
      "  playstore['price'] = playstore.price.str.replace('$', '')\n"
     ]
    }
   ],
   "source": [
    "playstore['price'] = playstore.price.str.replace('$', '')"
   ]
  },
  {
   "cell_type": "code",
   "execution_count": 25,
   "id": "2b6d12a2-1869-4fba-a10d-ddbe8d0b26de",
   "metadata": {},
   "outputs": [],
   "source": [
    "playstore['price'] = playstore['price'].astype('float')"
   ]
  },
  {
   "cell_type": "code",
   "execution_count": 26,
   "id": "9694a625-fb59-4aed-ba0a-6b9792f69d1e",
   "metadata": {},
   "outputs": [
    {
     "name": "stdout",
     "output_type": "stream",
     "text": [
      "<class 'pandas.core.frame.DataFrame'>\n",
      "RangeIndex: 10840 entries, 0 to 10839\n",
      "Data columns (total 14 columns):\n",
      " #   Column          Non-Null Count  Dtype  \n",
      "---  ------          --------------  -----  \n",
      " 0   unnamed:_0      10840 non-null  int64  \n",
      " 1   app             10840 non-null  object \n",
      " 2   category        10840 non-null  object \n",
      " 3   rating          9366 non-null   float64\n",
      " 4   reviews         10840 non-null  int64  \n",
      " 5   size            10840 non-null  object \n",
      " 6   installs        10840 non-null  object \n",
      " 7   type            10839 non-null  object \n",
      " 8   price           10840 non-null  float64\n",
      " 9   content_rating  10840 non-null  object \n",
      " 10  genres          10840 non-null  object \n",
      " 11  last_updated    10840 non-null  object \n",
      " 12  current_ver     10832 non-null  object \n",
      " 13  android_ver     10838 non-null  object \n",
      "dtypes: float64(2), int64(2), object(10)\n",
      "memory usage: 1.2+ MB\n"
     ]
    }
   ],
   "source": [
    "playstore.info()"
   ]
  },
  {
   "cell_type": "markdown",
   "id": "7812f93a-5e53-4fba-a29d-702cf8a876c8",
   "metadata": {},
   "source": [
    "### Task 11. "
   ]
  },
  {
   "cell_type": "markdown",
   "id": "523bbd78-d86e-4c69-9a11-78dba0a1f2f5",
   "metadata": {},
   "source": [
    "Create a pivot table and reveal the mean price, rating and reviews by category and type (Free or Paid)."
   ]
  },
  {
   "cell_type": "code",
   "execution_count": 27,
   "id": "5ce94f0f-4adb-4fbb-b6d6-73d515882ce9",
   "metadata": {},
   "outputs": [],
   "source": [
    "pivot_table = playstore.drop_duplicates('app').pivot_table(\n",
    "    index=['category', 'type'], \n",
    "    values=['price', 'rating', 'reviews'], \n",
    "    aggfunc={'price': 'mean', 'rating': 'mean', 'reviews': 'mean'}\n",
    ")"
   ]
  },
  {
   "cell_type": "code",
   "execution_count": 28,
   "id": "c619144f-c50d-49cc-be00-a03e9438c8db",
   "metadata": {},
   "outputs": [],
   "source": [
    "pivot_table = pivot_table.round({'price': 2, 'rating': 1, 'reviews': 2})"
   ]
  },
  {
   "cell_type": "code",
   "execution_count": 29,
   "id": "d9cc0c19-ceae-4268-b772-869c3011cf51",
   "metadata": {},
   "outputs": [],
   "source": [
    "pivot_table.columns = ['mean_price', 'mean_rating', 'mean_reviews']"
   ]
  },
  {
   "cell_type": "code",
   "execution_count": 30,
   "id": "b8db6fb0-ece8-4e62-a529-e6f0019140a2",
   "metadata": {},
   "outputs": [],
   "source": [
    "pivot_table.to_csv('05_pivoted_table.csv', sep=',')"
   ]
  },
  {
   "cell_type": "code",
   "execution_count": 31,
   "id": "75ac0565-b12a-4aba-927d-dc97d77e6443",
   "metadata": {},
   "outputs": [
    {
     "data": {
      "text/html": [
       "<div>\n",
       "<style scoped>\n",
       "    .dataframe tbody tr th:only-of-type {\n",
       "        vertical-align: middle;\n",
       "    }\n",
       "\n",
       "    .dataframe tbody tr th {\n",
       "        vertical-align: top;\n",
       "    }\n",
       "\n",
       "    .dataframe thead th {\n",
       "        text-align: right;\n",
       "    }\n",
       "</style>\n",
       "<table border=\"1\" class=\"dataframe\">\n",
       "  <thead>\n",
       "    <tr style=\"text-align: right;\">\n",
       "      <th></th>\n",
       "      <th></th>\n",
       "      <th>mean_price</th>\n",
       "      <th>mean_rating</th>\n",
       "      <th>mean_reviews</th>\n",
       "    </tr>\n",
       "    <tr>\n",
       "      <th>category</th>\n",
       "      <th>type</th>\n",
       "      <th></th>\n",
       "      <th></th>\n",
       "      <th></th>\n",
       "    </tr>\n",
       "  </thead>\n",
       "  <tbody>\n",
       "    <tr>\n",
       "      <th rowspan=\"2\" valign=\"top\">ART_AND_DESIGN</th>\n",
       "      <th>Free</th>\n",
       "      <td>0.00</td>\n",
       "      <td>4.3</td>\n",
       "      <td>23230.11</td>\n",
       "    </tr>\n",
       "    <tr>\n",
       "      <th>Paid</th>\n",
       "      <td>1.99</td>\n",
       "      <td>4.7</td>\n",
       "      <td>722.00</td>\n",
       "    </tr>\n",
       "    <tr>\n",
       "      <th rowspan=\"2\" valign=\"top\">AUTO_AND_VEHICLES</th>\n",
       "      <th>Free</th>\n",
       "      <td>0.00</td>\n",
       "      <td>4.2</td>\n",
       "      <td>14140.28</td>\n",
       "    </tr>\n",
       "    <tr>\n",
       "      <th>Paid</th>\n",
       "      <td>4.49</td>\n",
       "      <td>4.6</td>\n",
       "      <td>1387.67</td>\n",
       "    </tr>\n",
       "    <tr>\n",
       "      <th>BEAUTY</th>\n",
       "      <th>Free</th>\n",
       "      <td>0.00</td>\n",
       "      <td>4.3</td>\n",
       "      <td>7476.23</td>\n",
       "    </tr>\n",
       "    <tr>\n",
       "      <th>...</th>\n",
       "      <th>...</th>\n",
       "      <td>...</td>\n",
       "      <td>...</td>\n",
       "      <td>...</td>\n",
       "    </tr>\n",
       "    <tr>\n",
       "      <th>TRAVEL_AND_LOCAL</th>\n",
       "      <th>Paid</th>\n",
       "      <td>4.16</td>\n",
       "      <td>4.1</td>\n",
       "      <td>1506.08</td>\n",
       "    </tr>\n",
       "    <tr>\n",
       "      <th rowspan=\"2\" valign=\"top\">VIDEO_PLAYERS</th>\n",
       "      <th>Free</th>\n",
       "      <td>0.00</td>\n",
       "      <td>4.0</td>\n",
       "      <td>424347.18</td>\n",
       "    </tr>\n",
       "    <tr>\n",
       "      <th>Paid</th>\n",
       "      <td>2.62</td>\n",
       "      <td>4.1</td>\n",
       "      <td>3341.75</td>\n",
       "    </tr>\n",
       "    <tr>\n",
       "      <th rowspan=\"2\" valign=\"top\">WEATHER</th>\n",
       "      <th>Free</th>\n",
       "      <td>0.00</td>\n",
       "      <td>4.2</td>\n",
       "      <td>171249.62</td>\n",
       "    </tr>\n",
       "    <tr>\n",
       "      <th>Paid</th>\n",
       "      <td>4.05</td>\n",
       "      <td>4.4</td>\n",
       "      <td>17055.12</td>\n",
       "    </tr>\n",
       "  </tbody>\n",
       "</table>\n",
       "<p>63 rows × 3 columns</p>\n",
       "</div>"
      ],
      "text/plain": [
       "                        mean_price  mean_rating  mean_reviews\n",
       "category          type                                       \n",
       "ART_AND_DESIGN    Free        0.00          4.3      23230.11\n",
       "                  Paid        1.99          4.7        722.00\n",
       "AUTO_AND_VEHICLES Free        0.00          4.2      14140.28\n",
       "                  Paid        4.49          4.6       1387.67\n",
       "BEAUTY            Free        0.00          4.3       7476.23\n",
       "...                            ...          ...           ...\n",
       "TRAVEL_AND_LOCAL  Paid        4.16          4.1       1506.08\n",
       "VIDEO_PLAYERS     Free        0.00          4.0     424347.18\n",
       "                  Paid        2.62          4.1       3341.75\n",
       "WEATHER           Free        0.00          4.2     171249.62\n",
       "                  Paid        4.05          4.4      17055.12\n",
       "\n",
       "[63 rows x 3 columns]"
      ]
     },
     "execution_count": 31,
     "metadata": {},
     "output_type": "execute_result"
    }
   ],
   "source": [
    "pivot_table"
   ]
  },
  {
   "cell_type": "code",
   "execution_count": null,
   "id": "c710fc03-cf88-4465-96c7-45f75af8bc71",
   "metadata": {},
   "outputs": [],
   "source": []
  }
 ],
 "metadata": {
  "kernelspec": {
   "display_name": "Python 3 (ipykernel)",
   "language": "python",
   "name": "python3"
  },
  "language_info": {
   "codemirror_mode": {
    "name": "ipython",
    "version": 3
   },
   "file_extension": ".py",
   "mimetype": "text/x-python",
   "name": "python",
   "nbconvert_exporter": "python",
   "pygments_lexer": "ipython3",
   "version": "3.8.10"
  }
 },
 "nbformat": 4,
 "nbformat_minor": 5
}
