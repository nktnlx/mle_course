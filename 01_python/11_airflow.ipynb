{
 "cells": [
  {
   "cell_type": "markdown",
   "id": "6fb4b3cb-23fc-4324-9702-a65c7fe5dd83",
   "metadata": {},
   "source": [
    "# Airflow"
   ]
  },
  {
   "cell_type": "markdown",
   "id": "9b67c433-85dc-498e-ac43-ef4b7653ae84",
   "metadata": {},
   "source": [
    "## Tasks"
   ]
  },
  {
   "cell_type": "markdown",
   "id": "9b4fd179-fa93-4826-b21b-72280a1c54fc",
   "metadata": {},
   "source": [
    "### Task 1. \n",
    "\n"
   ]
  },
  {
   "cell_type": "markdown",
   "id": "3360652a-722f-43ca-b995-a175ffefe99f",
   "metadata": {},
   "source": [
    "Write a DAG that contains both a `BashOperator` and a `PythonOperator`. \n",
    "- In the `PythonOperator` function, accept the `ds` argument and print it. You can also print any additional message.\n",
    "- In the `BashOperator`, execute the `pwd` command, which will output the directory where your Airflow code is being executed.\n",
    "- Ensure that the `BashOperator` is executed first, followed by the `PythonOperator`."
   ]
  },
  {
   "cell_type": "code",
   "execution_count": 1,
   "id": "d6ddffde-ed0c-4963-bc2f-8205d9af7755",
   "metadata": {},
   "outputs": [],
   "source": [
    "from datetime import datetime, timedelta\n",
    "\n",
    "from airflow import DAG\n",
    "from airflow.operators.bash import BashOperator\n",
    "from airflow.operators.python_operator import PythonOperator\n",
    "\n",
    "\n",
    "default_args={\n",
    "    'depends_on_past': False,\n",
    "    'email': ['airflow@example.com'],\n",
    "    'email_on_failure': False,\n",
    "    'email_on_retry': False,\n",
    "    'retries': 1,\n",
    "    'retry_delay': timedelta(minutes=5),  # timedelta from datetime\n",
    "}\n",
    "\n",
    "def print_ds(ds):\n",
    "    print(ds)\n",
    "    return 'This statement will be printed in the logs!'\n",
    "\n",
    "\n",
    "with DAG (\n",
    "    'hw_2_anikitin8',\n",
    "    default_args=default_args,\n",
    "    description='homework task 2 by a.nikitin-8',\n",
    "    schedule_interval=timedelta(days=1),\n",
    "    start_date=datetime(2024, 10, 29),\n",
    "    catchup=False,\n",
    "    tags=['nktnlx'],\n",
    ") as dag:\n",
    "    t1 = BashOperator(\n",
    "        task_id = 'print_working_directory',\n",
    "        depends_on_past = False,\n",
    "        bash_command = 'pwd',\n",
    "        retries = 5\n",
    "    )\n",
    "\n",
    "    t2 = PythonOperator (\n",
    "        task_id='print_ds_argument',\n",
    "        depends_on_past = False,\n",
    "        python_callable = print_ds,\n",
    "        retries=5\n",
    "    )\n",
    "\n",
    "    t1 >> t2"
   ]
  },
  {
   "cell_type": "markdown",
   "id": "3cb5b6ac-cb27-4ea4-9cbd-ee6eb9210ed8",
   "metadata": {},
   "source": [
    "### Task 2. "
   ]
  },
  {
   "cell_type": "markdown",
   "id": "f76522d1-ab3b-4629-8f0c-a6efd198223d",
   "metadata": {},
   "source": [
    "Create a new DAG and declare 30 tasks within it. Make the first 10 tasks of type `BashOperator` and execute an arbitrary command in them that utilizes a loop variable in some way (for example, you can specify `f\"echo {i}\"`).\n",
    "\n",
    "The remaining 20 tasks should be `PythonOperator`, and the function should use the loop variable. You can achieve this by passing the variable through `op_kwargs` and receiving it on the function side. The function should print `\"task number is: {task_number}\"`, where task_number is the task number from the loop."
   ]
  },
  {
   "cell_type": "code",
   "execution_count": null,
   "id": "cae738c6-316f-4338-b5f8-0b767654687e",
   "metadata": {},
   "outputs": [],
   "source": [
    "from datetime import datetime, timedelta\n",
    "\n",
    "from airflow import DAG\n",
    "from airflow.operators.bash import BashOperator\n",
    "from airflow.operators.python_operator import PythonOperator\n",
    "\n",
    "\n",
    "default_args={\n",
    "    'depends_on_past': False,\n",
    "    'email': ['airflow@example.com'],\n",
    "    'email_on_failure': False,\n",
    "    'email_on_retry': False,\n",
    "    'retries': 1,\n",
    "    'retry_delay': timedelta(minutes=5),  # timedelta из пакета datetime\n",
    "}\n",
    "\n",
    "def print_ds(task_number):\n",
    "    print(f'task number is: {task_number}')\n",
    "\n",
    "\n",
    "with DAG (\n",
    "    'hw_3_anikitin8',\n",
    "    default_args=default_args,\n",
    "    description='homework task 3 by a.nikitin-8',\n",
    "    schedule_interval=timedelta(days=1),\n",
    "    start_date=datetime(2024, 10, 29),\n",
    "    catchup=False,\n",
    "    tags=['nktnlx'],\n",
    ") as dag:\n",
    "    for i in range(10):\n",
    "        t1 = BashOperator(\n",
    "            task_id = f'echo_task_{i}',\n",
    "            depends_on_past = False,\n",
    "            bash_command = f'echo {i}',\n",
    "            retries = 5\n",
    "        )\n",
    "\n",
    "    for i in range(20):\n",
    "        t2 = PythonOperator (\n",
    "            task_id= f'print_ds_argument_{i}_times',\n",
    "            depends_on_past = False,\n",
    "            python_callable = print_ds,\n",
    "            op_kwargs = {'task_number': i},\n",
    "            retries=5\n",
    "        )\n",
    "\n",
    "    t1 >> t2\n"
   ]
  },
  {
   "cell_type": "markdown",
   "id": "f75a2cf2-b2ac-488b-984b-4070b179bba0",
   "metadata": {},
   "source": [
    "### Task 3. "
   ]
  },
  {
   "cell_type": "markdown",
   "id": "5d35da28-fd5d-463a-852f-b9205d489023",
   "metadata": {},
   "source": [
    "Add documentation to your tasks from the previous assignment. The documentation must include code elements (enclosed in backticks `code`), **bold text**, and *italic text*, as well as a paragraph (declared with a hash symbol)."
   ]
  },
  {
   "cell_type": "code",
   "execution_count": null,
   "id": "87f803ff-e235-4445-9ca3-5fd63420d84e",
   "metadata": {},
   "outputs": [],
   "source": [
    "from datetime import datetime, timedelta\n",
    "from textwrap import dedent\n",
    "\n",
    "from airflow import DAG\n",
    "from airflow.operators.bash import BashOperator\n",
    "from airflow.operators.python_operator import PythonOperator\n",
    "\n",
    "\n",
    "default_args={\n",
    "    'depends_on_past': False,\n",
    "    'email': ['airflow@example.com'],\n",
    "    'email_on_failure': False,\n",
    "    'email_on_retry': False,\n",
    "    'retries': 1,\n",
    "    'retry_delay': timedelta(minutes=5),  # timedelta из пакета datetime\n",
    "}\n",
    "\n",
    "def print_ds(task_number):\n",
    "    print(f'task number is: {task_number}')\n",
    "\n",
    "\n",
    "with DAG (\n",
    "    'hw_4_anikitin8',\n",
    "    default_args=default_args,\n",
    "    description='homework task 4 by a.nikitin-8',\n",
    "    schedule_interval=timedelta(days=1),\n",
    "    start_date=datetime(2024, 10, 29),\n",
    "    catchup=False,\n",
    "    tags=['nktnlx'],\n",
    ") as dag:\n",
    "    for i in range(10):\n",
    "        t1 = BashOperator(\n",
    "            task_id = f'echo_task_{i}',\n",
    "            depends_on_past = False,\n",
    "            bash_command = f'echo {i}',\n",
    "            retries = 5\n",
    "        )\n",
    "    t1.doc_md = dedent(\n",
    "        '''\n",
    "        # Documentation\n",
    "        `code style text`\n",
    "        **bold style text**\n",
    "        *italic style text*\n",
    "        '''\n",
    "    )\n",
    "\n",
    "    for i in range(20):\n",
    "        t2 = PythonOperator (\n",
    "            task_id= f'print_ds_argument_{i}_times',\n",
    "            depends_on_past = False,\n",
    "            python_callable = print_ds,\n",
    "            op_kwargs = {'task_number': i},\n",
    "            retries=5\n",
    "        )\n",
    "    t2.doc_md = dedent(\n",
    "        '''\n",
    "        # Documentation\n",
    "        `code style text`\n",
    "        **bold style text**\n",
    "        *italic style text*\n",
    "        '''\n",
    "    )\n",
    "\n",
    "    t1 >> t2\n"
   ]
  },
  {
   "cell_type": "markdown",
   "id": "d5461678-6b0b-4607-8dfb-d570a4cc8e87",
   "metadata": {},
   "source": [
    "### Task 4. "
   ]
  },
  {
   "cell_type": "markdown",
   "id": "778c772c-4f16-454c-a05c-7afbe487039f",
   "metadata": {},
   "source": [
    "Create a new DAG consisting of a single `BashOperator`. This operator should use a templated command of the following kind: `\"For each i in the range from 0 to 5 not inclusive, print the value of ts and then print the value of run_id.\"` Here, `ts` and `run_id` are template variables."
   ]
  },
  {
   "cell_type": "code",
   "execution_count": null,
   "id": "5fea896f-6410-4965-bf1c-7d81838356fe",
   "metadata": {},
   "outputs": [],
   "source": [
    "from datetime import datetime, timedelta\n",
    "from textwrap import dedent\n",
    "\n",
    "from airflow import DAG\n",
    "from airflow.operators.bash import BashOperator\n",
    "\n",
    "\n",
    "default_args={\n",
    "    'depends_on_past': False,\n",
    "    'email': ['airflow@example.com'],\n",
    "    'email_on_failure': False,\n",
    "    'email_on_retry': False,\n",
    "    'retries': 1,\n",
    "    'retry_delay': timedelta(minutes=5),  # timedelta из пакета datetime\n",
    "}\n",
    "\n",
    "\n",
    "with DAG (\n",
    "    'hw_5_anikitin8',\n",
    "    default_args=default_args,\n",
    "    description='homework task 5 by a.nikitin-8',\n",
    "    schedule_interval=timedelta(days=1),\n",
    "    start_date=datetime(2024, 10, 29),\n",
    "    catchup=False,\n",
    "    tags=['nktnlx'],\n",
    ") as dag:\n",
    "    jinja_template = dedent(\n",
    "        '''\n",
    "        {% for i in range(5) %}\n",
    "            echo \"{{ ts }}\"\n",
    "            echo \"{{ run_id }}\"\n",
    "        {% endfor %}\n",
    "        '''\n",
    "    )\n",
    "\n",
    "    t1 = BashOperator(\n",
    "        task_id = 'jinja_template',\n",
    "        depends_on_past = False,\n",
    "        bash_command = jinja_template,\n",
    "        retries = 5\n",
    "    )\n",
    "\n",
    "    t1\n"
   ]
  },
  {
   "cell_type": "markdown",
   "id": "647588f4-908e-4985-b38d-b93327ee02b6",
   "metadata": {},
   "source": [
    "### Task 5. "
   ]
  },
  {
   "cell_type": "markdown",
   "id": "9602dff4-5eec-43c0-9c87-0dd71817fd1c",
   "metadata": {},
   "source": [
    "Take the `BashOperator` from the third task (where you created a task using a loop) and add the environment variable `NUMBER` to it, whose value will be equal to  `i` from the loop. Print this value in the command specified in the operator (to do this, use `bash_command=\"echo $NUMBER\"`)."
   ]
  },
  {
   "cell_type": "code",
   "execution_count": null,
   "id": "58a27b72-c960-41a3-98cd-e8f3c7c193b5",
   "metadata": {},
   "outputs": [],
   "source": [
    "from datetime import datetime, timedelta\n",
    "\n",
    "from airflow import DAG\n",
    "from airflow.operators.bash import BashOperator\n",
    "\n",
    "\n",
    "default_args={\n",
    "    'depends_on_past': False,\n",
    "    'email': ['airflow@example.com'],\n",
    "    'email_on_failure': False,\n",
    "    'email_on_retry': False,\n",
    "    'retries': 1,\n",
    "    'retry_delay': timedelta(minutes=5),  # timedelta from datetime\n",
    "}\n",
    "\n",
    "\n",
    "with DAG (\n",
    "    'hw_6_anikitin8',\n",
    "    default_args=default_args,\n",
    "    description='homework task 6 by a.nikitin-8',\n",
    "    schedule_interval=timedelta(days=1),\n",
    "    start_date=datetime(2024, 10, 29),\n",
    "    catchup=False,\n",
    "    tags=['nktnlx'],\n",
    ") as dag:\n",
    "    for i in range(10):\n",
    "        t1 = BashOperator(\n",
    "            task_id = f'echo_task_{i}',\n",
    "            depends_on_past = False,\n",
    "            env={'NUMBER': str(i)},\n",
    "            bash_command = 'echo $NUMBER',\n",
    "            retries = 5\n",
    "        )\n",
    "\n",
    "    t1\n"
   ]
  },
  {
   "cell_type": "markdown",
   "id": "4adb78ca-b7c6-41af-85a6-6cca964d33b3",
   "metadata": {},
   "source": [
    "### Task 6. "
   ]
  },
  {
   "cell_type": "markdown",
   "id": "433267f2-c481-4583-aad8-682623086a6c",
   "metadata": {},
   "source": [
    "tbc.."
   ]
  },
  {
   "cell_type": "code",
   "execution_count": null,
   "id": "6a2c4955-a84e-4cee-9ebe-48dd3d72f3ea",
   "metadata": {},
   "outputs": [],
   "source": []
  },
  {
   "cell_type": "markdown",
   "id": "e4594bb8-3f4d-48a5-84ad-d2e5f4fc461c",
   "metadata": {},
   "source": [
    "### Task 7. "
   ]
  },
  {
   "cell_type": "markdown",
   "id": "0ef87a79-fcd5-43b1-940a-7303c31101c7",
   "metadata": {},
   "source": [
    "tbc.."
   ]
  },
  {
   "cell_type": "code",
   "execution_count": null,
   "id": "c6e51e91-0513-4ac9-8151-b7112c312bbd",
   "metadata": {},
   "outputs": [],
   "source": []
  },
  {
   "cell_type": "markdown",
   "id": "6ed7a903-ff7e-44b7-89e7-68ad2f777ef5",
   "metadata": {},
   "source": [
    "### Task 8. "
   ]
  },
  {
   "cell_type": "markdown",
   "id": "82893f8a-c2ae-4164-92d6-b94dd331adc6",
   "metadata": {},
   "source": [
    "tbc.."
   ]
  },
  {
   "cell_type": "code",
   "execution_count": null,
   "id": "58940bed-2660-4121-ac82-ac2c62aefe36",
   "metadata": {},
   "outputs": [],
   "source": []
  },
  {
   "cell_type": "markdown",
   "id": "715b92d5-56c3-44ae-8b94-5b071231d569",
   "metadata": {},
   "source": [
    "### Task 9. "
   ]
  },
  {
   "cell_type": "markdown",
   "id": "24bd3a18-efd2-4864-9ee9-e33864e7113b",
   "metadata": {},
   "source": [
    "tbc.."
   ]
  },
  {
   "cell_type": "code",
   "execution_count": null,
   "id": "3fdb2140-602f-4993-a3f9-e1b969a8f087",
   "metadata": {},
   "outputs": [],
   "source": []
  },
  {
   "cell_type": "markdown",
   "id": "a949e7bf-a804-4384-8b64-5835d5b7b4e3",
   "metadata": {},
   "source": [
    "### Task 10. "
   ]
  },
  {
   "cell_type": "markdown",
   "id": "f9bedf4a-e24d-4880-a74b-dc8f31069ac6",
   "metadata": {},
   "source": [
    "tbc.."
   ]
  },
  {
   "cell_type": "code",
   "execution_count": null,
   "id": "6be30c12-e5be-4853-bbac-3dfd182257b4",
   "metadata": {},
   "outputs": [],
   "source": []
  },
  {
   "cell_type": "markdown",
   "id": "7812f93a-5e53-4fba-a29d-702cf8a876c8",
   "metadata": {},
   "source": [
    "### Task 11. "
   ]
  },
  {
   "cell_type": "markdown",
   "id": "133d7f97-f673-4603-a984-b53c61f961b1",
   "metadata": {},
   "source": [
    "tbc.."
   ]
  },
  {
   "cell_type": "code",
   "execution_count": null,
   "id": "e80258f9-c34b-475d-b62a-405ab8225d85",
   "metadata": {},
   "outputs": [],
   "source": []
  },
  {
   "cell_type": "markdown",
   "id": "43020035-c6d4-4883-8522-f044eec16d6d",
   "metadata": {},
   "source": [
    "### Task 12. "
   ]
  },
  {
   "cell_type": "markdown",
   "id": "b13a97a5-be3f-4232-8d33-793d358f9920",
   "metadata": {},
   "source": [
    "tbc.."
   ]
  },
  {
   "cell_type": "code",
   "execution_count": null,
   "id": "77379bcb-c639-4877-978f-f7e52c461712",
   "metadata": {},
   "outputs": [],
   "source": []
  }
 ],
 "metadata": {
  "kernelspec": {
   "display_name": "Python 3 (ipykernel)",
   "language": "python",
   "name": "python3"
  },
  "language_info": {
   "codemirror_mode": {
    "name": "ipython",
    "version": 3
   },
   "file_extension": ".py",
   "mimetype": "text/x-python",
   "name": "python",
   "nbconvert_exporter": "python",
   "pygments_lexer": "ipython3",
   "version": "3.8.10"
  }
 },
 "nbformat": 4,
 "nbformat_minor": 5
}
