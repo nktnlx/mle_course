{
 "cells": [
  {
   "cell_type": "markdown",
   "id": "cb747a0a-d5db-46b4-90d2-585621f1c44a",
   "metadata": {},
   "source": [
    "# Gradient Boosting\n"
   ]
  },
  {
   "cell_type": "markdown",
   "id": "c754b9c7-501f-465f-9160-5ca29185e2cc",
   "metadata": {},
   "source": [
    "## Tasks"
   ]
  },
  {
   "cell_type": "markdown",
   "id": "6a08a8d8-37a7-4a4e-b354-4db6e2f16a56",
   "metadata": {},
   "source": [
    "### Task 1"
   ]
  },
  {
   "cell_type": "markdown",
   "id": "bdbe5dc3-20db-4123-87a8-c13481055a28",
   "metadata": {},
   "source": [
    "Import data you need to solve tasks for this lesson. "
   ]
  },
  {
   "cell_type": "code",
   "execution_count": 1,
   "id": "fc38d53b-fc57-4610-bbc6-16e24700591a",
   "metadata": {},
   "outputs": [],
   "source": [
    "import pandas as pd\n",
    "import numpy as np\n",
    "import matplotlib.pyplot as plt\n",
    "import seaborn as sns\n",
    "\n",
    "import matplotlib\n",
    "matplotlib.rcParams['figure.figsize'] = (8, 5)\n",
    "\n",
    "import warnings\n",
    "warnings.filterwarnings('ignore')"
   ]
  },
  {
   "cell_type": "code",
   "execution_count": 2,
   "id": "18f0fe7e-813b-4859-b1cc-73dcc5c0d09c",
   "metadata": {},
   "outputs": [],
   "source": [
    "data = pd.read_csv('vehicle_insurance.csv')"
   ]
  },
  {
   "cell_type": "code",
   "execution_count": 3,
   "id": "dcb31fdc-1cac-495c-9c98-f7faea6d6dc0",
   "metadata": {},
   "outputs": [
    {
     "data": {
      "text/html": [
       "<div>\n",
       "<style scoped>\n",
       "    .dataframe tbody tr th:only-of-type {\n",
       "        vertical-align: middle;\n",
       "    }\n",
       "\n",
       "    .dataframe tbody tr th {\n",
       "        vertical-align: top;\n",
       "    }\n",
       "\n",
       "    .dataframe thead th {\n",
       "        text-align: right;\n",
       "    }\n",
       "</style>\n",
       "<table border=\"1\" class=\"dataframe\">\n",
       "  <thead>\n",
       "    <tr style=\"text-align: right;\">\n",
       "      <th></th>\n",
       "      <th>Gender</th>\n",
       "      <th>Age</th>\n",
       "      <th>Driving_License</th>\n",
       "      <th>Region_Code</th>\n",
       "      <th>Previously_Insured</th>\n",
       "      <th>Vehicle_Age</th>\n",
       "      <th>Vehicle_Damage</th>\n",
       "      <th>Annual_Premium</th>\n",
       "      <th>Policy_Sales_Channel</th>\n",
       "      <th>Vintage</th>\n",
       "      <th>Response</th>\n",
       "    </tr>\n",
       "  </thead>\n",
       "  <tbody>\n",
       "    <tr>\n",
       "      <th>0</th>\n",
       "      <td>Male</td>\n",
       "      <td>44</td>\n",
       "      <td>1</td>\n",
       "      <td>28.0</td>\n",
       "      <td>0</td>\n",
       "      <td>&gt; 2 Years</td>\n",
       "      <td>Yes</td>\n",
       "      <td>40454.0</td>\n",
       "      <td>26.0</td>\n",
       "      <td>217</td>\n",
       "      <td>1</td>\n",
       "    </tr>\n",
       "    <tr>\n",
       "      <th>1</th>\n",
       "      <td>Male</td>\n",
       "      <td>76</td>\n",
       "      <td>1</td>\n",
       "      <td>3.0</td>\n",
       "      <td>0</td>\n",
       "      <td>1-2 Year</td>\n",
       "      <td>No</td>\n",
       "      <td>33536.0</td>\n",
       "      <td>26.0</td>\n",
       "      <td>183</td>\n",
       "      <td>0</td>\n",
       "    </tr>\n",
       "    <tr>\n",
       "      <th>2</th>\n",
       "      <td>Male</td>\n",
       "      <td>47</td>\n",
       "      <td>1</td>\n",
       "      <td>28.0</td>\n",
       "      <td>0</td>\n",
       "      <td>&gt; 2 Years</td>\n",
       "      <td>Yes</td>\n",
       "      <td>38294.0</td>\n",
       "      <td>26.0</td>\n",
       "      <td>27</td>\n",
       "      <td>1</td>\n",
       "    </tr>\n",
       "    <tr>\n",
       "      <th>3</th>\n",
       "      <td>Male</td>\n",
       "      <td>21</td>\n",
       "      <td>1</td>\n",
       "      <td>11.0</td>\n",
       "      <td>1</td>\n",
       "      <td>&lt; 1 Year</td>\n",
       "      <td>No</td>\n",
       "      <td>28619.0</td>\n",
       "      <td>152.0</td>\n",
       "      <td>203</td>\n",
       "      <td>0</td>\n",
       "    </tr>\n",
       "    <tr>\n",
       "      <th>4</th>\n",
       "      <td>Female</td>\n",
       "      <td>29</td>\n",
       "      <td>1</td>\n",
       "      <td>41.0</td>\n",
       "      <td>1</td>\n",
       "      <td>&lt; 1 Year</td>\n",
       "      <td>No</td>\n",
       "      <td>27496.0</td>\n",
       "      <td>152.0</td>\n",
       "      <td>39</td>\n",
       "      <td>0</td>\n",
       "    </tr>\n",
       "  </tbody>\n",
       "</table>\n",
       "</div>"
      ],
      "text/plain": [
       "   Gender  Age  Driving_License  Region_Code  Previously_Insured Vehicle_Age  \\\n",
       "0    Male   44                1         28.0                   0   > 2 Years   \n",
       "1    Male   76                1          3.0                   0    1-2 Year   \n",
       "2    Male   47                1         28.0                   0   > 2 Years   \n",
       "3    Male   21                1         11.0                   1    < 1 Year   \n",
       "4  Female   29                1         41.0                   1    < 1 Year   \n",
       "\n",
       "  Vehicle_Damage  Annual_Premium  Policy_Sales_Channel  Vintage  Response  \n",
       "0            Yes         40454.0                  26.0      217         1  \n",
       "1             No         33536.0                  26.0      183         0  \n",
       "2            Yes         38294.0                  26.0       27         1  \n",
       "3             No         28619.0                 152.0      203         0  \n",
       "4             No         27496.0                 152.0       39         0  "
      ]
     },
     "execution_count": 3,
     "metadata": {},
     "output_type": "execute_result"
    }
   ],
   "source": [
    "data.head()"
   ]
  },
  {
   "cell_type": "code",
   "execution_count": 4,
   "id": "5c6c98b9-27c2-4dea-8b38-ded726619cae",
   "metadata": {},
   "outputs": [
    {
     "data": {
      "text/plain": [
       "(10000, 11)"
      ]
     },
     "execution_count": 4,
     "metadata": {},
     "output_type": "execute_result"
    }
   ],
   "source": [
    "data.shape"
   ]
  },
  {
   "cell_type": "code",
   "execution_count": 5,
   "id": "316a994a-0afc-4851-a22d-2128c28c7b65",
   "metadata": {},
   "outputs": [
    {
     "name": "stdout",
     "output_type": "stream",
     "text": [
      "<class 'pandas.core.frame.DataFrame'>\n",
      "RangeIndex: 10000 entries, 0 to 9999\n",
      "Data columns (total 11 columns):\n",
      " #   Column                Non-Null Count  Dtype  \n",
      "---  ------                --------------  -----  \n",
      " 0   Gender                10000 non-null  object \n",
      " 1   Age                   10000 non-null  int64  \n",
      " 2   Driving_License       10000 non-null  int64  \n",
      " 3   Region_Code           10000 non-null  float64\n",
      " 4   Previously_Insured    10000 non-null  int64  \n",
      " 5   Vehicle_Age           10000 non-null  object \n",
      " 6   Vehicle_Damage        10000 non-null  object \n",
      " 7   Annual_Premium        10000 non-null  float64\n",
      " 8   Policy_Sales_Channel  10000 non-null  float64\n",
      " 9   Vintage               10000 non-null  int64  \n",
      " 10  Response              10000 non-null  int64  \n",
      "dtypes: float64(3), int64(5), object(3)\n",
      "memory usage: 859.5+ KB\n"
     ]
    }
   ],
   "source": [
    "data.info()"
   ]
  },
  {
   "cell_type": "markdown",
   "id": "54372a63-0de8-4ad6-b8ab-24577a168866",
   "metadata": {},
   "source": [
    "### Task 2"
   ]
  },
  {
   "cell_type": "markdown",
   "id": "a612c89a-0508-4bfe-aa73-d730a1815428",
   "metadata": {},
   "source": [
    "Perform basic EDA on your data. "
   ]
  },
  {
   "cell_type": "code",
   "execution_count": 6,
   "id": "c4099c3c-bb84-4bca-82c5-ce3115f5b284",
   "metadata": {},
   "outputs": [
    {
     "data": {
      "text/html": [
       "<div>\n",
       "<style scoped>\n",
       "    .dataframe tbody tr th:only-of-type {\n",
       "        vertical-align: middle;\n",
       "    }\n",
       "\n",
       "    .dataframe tbody tr th {\n",
       "        vertical-align: top;\n",
       "    }\n",
       "\n",
       "    .dataframe thead th {\n",
       "        text-align: right;\n",
       "    }\n",
       "</style>\n",
       "<table border=\"1\" class=\"dataframe\">\n",
       "  <thead>\n",
       "    <tr style=\"text-align: right;\">\n",
       "      <th></th>\n",
       "      <th>Age</th>\n",
       "      <th>Driving_License</th>\n",
       "      <th>Region_Code</th>\n",
       "      <th>Previously_Insured</th>\n",
       "      <th>Annual_Premium</th>\n",
       "      <th>Policy_Sales_Channel</th>\n",
       "      <th>Vintage</th>\n",
       "      <th>Response</th>\n",
       "    </tr>\n",
       "  </thead>\n",
       "  <tbody>\n",
       "    <tr>\n",
       "      <th>count</th>\n",
       "      <td>10000.000000</td>\n",
       "      <td>10000.000000</td>\n",
       "      <td>10000.000000</td>\n",
       "      <td>10000.000000</td>\n",
       "      <td>10000.000000</td>\n",
       "      <td>10000.000000</td>\n",
       "      <td>10000.000000</td>\n",
       "      <td>10000.000000</td>\n",
       "    </tr>\n",
       "    <tr>\n",
       "      <th>mean</th>\n",
       "      <td>38.812900</td>\n",
       "      <td>0.997800</td>\n",
       "      <td>26.425400</td>\n",
       "      <td>0.443800</td>\n",
       "      <td>30609.649700</td>\n",
       "      <td>112.414400</td>\n",
       "      <td>155.560300</td>\n",
       "      <td>0.124700</td>\n",
       "    </tr>\n",
       "    <tr>\n",
       "      <th>std</th>\n",
       "      <td>15.514785</td>\n",
       "      <td>0.046855</td>\n",
       "      <td>13.153552</td>\n",
       "      <td>0.496856</td>\n",
       "      <td>16562.392967</td>\n",
       "      <td>53.975042</td>\n",
       "      <td>83.923849</td>\n",
       "      <td>0.330395</td>\n",
       "    </tr>\n",
       "    <tr>\n",
       "      <th>min</th>\n",
       "      <td>20.000000</td>\n",
       "      <td>0.000000</td>\n",
       "      <td>0.000000</td>\n",
       "      <td>0.000000</td>\n",
       "      <td>2630.000000</td>\n",
       "      <td>1.000000</td>\n",
       "      <td>10.000000</td>\n",
       "      <td>0.000000</td>\n",
       "    </tr>\n",
       "    <tr>\n",
       "      <th>25%</th>\n",
       "      <td>25.000000</td>\n",
       "      <td>1.000000</td>\n",
       "      <td>15.000000</td>\n",
       "      <td>0.000000</td>\n",
       "      <td>24458.250000</td>\n",
       "      <td>30.000000</td>\n",
       "      <td>83.000000</td>\n",
       "      <td>0.000000</td>\n",
       "    </tr>\n",
       "    <tr>\n",
       "      <th>50%</th>\n",
       "      <td>36.000000</td>\n",
       "      <td>1.000000</td>\n",
       "      <td>28.000000</td>\n",
       "      <td>0.000000</td>\n",
       "      <td>31746.000000</td>\n",
       "      <td>136.000000</td>\n",
       "      <td>156.000000</td>\n",
       "      <td>0.000000</td>\n",
       "    </tr>\n",
       "    <tr>\n",
       "      <th>75%</th>\n",
       "      <td>49.000000</td>\n",
       "      <td>1.000000</td>\n",
       "      <td>35.000000</td>\n",
       "      <td>1.000000</td>\n",
       "      <td>39572.250000</td>\n",
       "      <td>152.000000</td>\n",
       "      <td>228.000000</td>\n",
       "      <td>0.000000</td>\n",
       "    </tr>\n",
       "    <tr>\n",
       "      <th>max</th>\n",
       "      <td>84.000000</td>\n",
       "      <td>1.000000</td>\n",
       "      <td>52.000000</td>\n",
       "      <td>1.000000</td>\n",
       "      <td>267698.000000</td>\n",
       "      <td>163.000000</td>\n",
       "      <td>299.000000</td>\n",
       "      <td>1.000000</td>\n",
       "    </tr>\n",
       "  </tbody>\n",
       "</table>\n",
       "</div>"
      ],
      "text/plain": [
       "                Age  Driving_License   Region_Code  Previously_Insured  \\\n",
       "count  10000.000000     10000.000000  10000.000000        10000.000000   \n",
       "mean      38.812900         0.997800     26.425400            0.443800   \n",
       "std       15.514785         0.046855     13.153552            0.496856   \n",
       "min       20.000000         0.000000      0.000000            0.000000   \n",
       "25%       25.000000         1.000000     15.000000            0.000000   \n",
       "50%       36.000000         1.000000     28.000000            0.000000   \n",
       "75%       49.000000         1.000000     35.000000            1.000000   \n",
       "max       84.000000         1.000000     52.000000            1.000000   \n",
       "\n",
       "       Annual_Premium  Policy_Sales_Channel       Vintage      Response  \n",
       "count    10000.000000          10000.000000  10000.000000  10000.000000  \n",
       "mean     30609.649700            112.414400    155.560300      0.124700  \n",
       "std      16562.392967             53.975042     83.923849      0.330395  \n",
       "min       2630.000000              1.000000     10.000000      0.000000  \n",
       "25%      24458.250000             30.000000     83.000000      0.000000  \n",
       "50%      31746.000000            136.000000    156.000000      0.000000  \n",
       "75%      39572.250000            152.000000    228.000000      0.000000  \n",
       "max     267698.000000            163.000000    299.000000      1.000000  "
      ]
     },
     "execution_count": 6,
     "metadata": {},
     "output_type": "execute_result"
    }
   ],
   "source": [
    "data.describe()"
   ]
  },
  {
   "cell_type": "code",
   "execution_count": 7,
   "id": "a401c687-2b93-4ebd-a583-1742b875553f",
   "metadata": {},
   "outputs": [
    {
     "data": {
      "text/html": [
       "<div>\n",
       "<style scoped>\n",
       "    .dataframe tbody tr th:only-of-type {\n",
       "        vertical-align: middle;\n",
       "    }\n",
       "\n",
       "    .dataframe tbody tr th {\n",
       "        vertical-align: top;\n",
       "    }\n",
       "\n",
       "    .dataframe thead th {\n",
       "        text-align: right;\n",
       "    }\n",
       "</style>\n",
       "<table border=\"1\" class=\"dataframe\">\n",
       "  <thead>\n",
       "    <tr style=\"text-align: right;\">\n",
       "      <th></th>\n",
       "      <th>Age</th>\n",
       "      <th>Driving_License</th>\n",
       "      <th>Region_Code</th>\n",
       "      <th>Previously_Insured</th>\n",
       "      <th>Annual_Premium</th>\n",
       "      <th>Policy_Sales_Channel</th>\n",
       "      <th>Vintage</th>\n",
       "      <th>Response</th>\n",
       "    </tr>\n",
       "  </thead>\n",
       "  <tbody>\n",
       "    <tr>\n",
       "      <th>Age</th>\n",
       "      <td>1.000000</td>\n",
       "      <td>-0.081323</td>\n",
       "      <td>0.030638</td>\n",
       "      <td>-0.261456</td>\n",
       "      <td>0.081564</td>\n",
       "      <td>-0.576066</td>\n",
       "      <td>0.000030</td>\n",
       "      <td>0.113888</td>\n",
       "    </tr>\n",
       "    <tr>\n",
       "      <th>Driving_License</th>\n",
       "      <td>-0.081323</td>\n",
       "      <td>1.000000</td>\n",
       "      <td>0.004926</td>\n",
       "      <td>0.020464</td>\n",
       "      <td>-0.014338</td>\n",
       "      <td>0.044335</td>\n",
       "      <td>0.002704</td>\n",
       "      <td>0.011263</td>\n",
       "    </tr>\n",
       "    <tr>\n",
       "      <th>Region_Code</th>\n",
       "      <td>0.030638</td>\n",
       "      <td>0.004926</td>\n",
       "      <td>1.000000</td>\n",
       "      <td>-0.021270</td>\n",
       "      <td>-0.012213</td>\n",
       "      <td>-0.039733</td>\n",
       "      <td>-0.008527</td>\n",
       "      <td>0.010230</td>\n",
       "    </tr>\n",
       "    <tr>\n",
       "      <th>Previously_Insured</th>\n",
       "      <td>-0.261456</td>\n",
       "      <td>0.020464</td>\n",
       "      <td>-0.021270</td>\n",
       "      <td>1.000000</td>\n",
       "      <td>-0.005164</td>\n",
       "      <td>0.224719</td>\n",
       "      <td>0.022350</td>\n",
       "      <td>-0.333502</td>\n",
       "    </tr>\n",
       "    <tr>\n",
       "      <th>Annual_Premium</th>\n",
       "      <td>0.081564</td>\n",
       "      <td>-0.014338</td>\n",
       "      <td>-0.012213</td>\n",
       "      <td>-0.005164</td>\n",
       "      <td>1.000000</td>\n",
       "      <td>-0.123851</td>\n",
       "      <td>-0.008878</td>\n",
       "      <td>0.029839</td>\n",
       "    </tr>\n",
       "    <tr>\n",
       "      <th>Policy_Sales_Channel</th>\n",
       "      <td>-0.576066</td>\n",
       "      <td>0.044335</td>\n",
       "      <td>-0.039733</td>\n",
       "      <td>0.224719</td>\n",
       "      <td>-0.123851</td>\n",
       "      <td>1.000000</td>\n",
       "      <td>-0.006131</td>\n",
       "      <td>-0.146421</td>\n",
       "    </tr>\n",
       "    <tr>\n",
       "      <th>Vintage</th>\n",
       "      <td>0.000030</td>\n",
       "      <td>0.002704</td>\n",
       "      <td>-0.008527</td>\n",
       "      <td>0.022350</td>\n",
       "      <td>-0.008878</td>\n",
       "      <td>-0.006131</td>\n",
       "      <td>1.000000</td>\n",
       "      <td>-0.007187</td>\n",
       "    </tr>\n",
       "    <tr>\n",
       "      <th>Response</th>\n",
       "      <td>0.113888</td>\n",
       "      <td>0.011263</td>\n",
       "      <td>0.010230</td>\n",
       "      <td>-0.333502</td>\n",
       "      <td>0.029839</td>\n",
       "      <td>-0.146421</td>\n",
       "      <td>-0.007187</td>\n",
       "      <td>1.000000</td>\n",
       "    </tr>\n",
       "  </tbody>\n",
       "</table>\n",
       "</div>"
      ],
      "text/plain": [
       "                           Age  Driving_License  Region_Code  \\\n",
       "Age                   1.000000        -0.081323     0.030638   \n",
       "Driving_License      -0.081323         1.000000     0.004926   \n",
       "Region_Code           0.030638         0.004926     1.000000   \n",
       "Previously_Insured   -0.261456         0.020464    -0.021270   \n",
       "Annual_Premium        0.081564        -0.014338    -0.012213   \n",
       "Policy_Sales_Channel -0.576066         0.044335    -0.039733   \n",
       "Vintage               0.000030         0.002704    -0.008527   \n",
       "Response              0.113888         0.011263     0.010230   \n",
       "\n",
       "                      Previously_Insured  Annual_Premium  \\\n",
       "Age                            -0.261456        0.081564   \n",
       "Driving_License                 0.020464       -0.014338   \n",
       "Region_Code                    -0.021270       -0.012213   \n",
       "Previously_Insured              1.000000       -0.005164   \n",
       "Annual_Premium                 -0.005164        1.000000   \n",
       "Policy_Sales_Channel            0.224719       -0.123851   \n",
       "Vintage                         0.022350       -0.008878   \n",
       "Response                       -0.333502        0.029839   \n",
       "\n",
       "                      Policy_Sales_Channel   Vintage  Response  \n",
       "Age                              -0.576066  0.000030  0.113888  \n",
       "Driving_License                   0.044335  0.002704  0.011263  \n",
       "Region_Code                      -0.039733 -0.008527  0.010230  \n",
       "Previously_Insured                0.224719  0.022350 -0.333502  \n",
       "Annual_Premium                   -0.123851 -0.008878  0.029839  \n",
       "Policy_Sales_Channel              1.000000 -0.006131 -0.146421  \n",
       "Vintage                          -0.006131  1.000000 -0.007187  \n",
       "Response                         -0.146421 -0.007187  1.000000  "
      ]
     },
     "execution_count": 7,
     "metadata": {},
     "output_type": "execute_result"
    }
   ],
   "source": [
    "data.corr()"
   ]
  },
  {
   "cell_type": "code",
   "execution_count": 9,
   "id": "d7dfd053-4898-4b5d-bef7-3b54de5ab06b",
   "metadata": {},
   "outputs": [
    {
     "data": {
      "image/png": "[encoded data removed]",
      "text/plain": [
       "<Figure size 576x360 with 2 Axes>"
      ]
     },
     "metadata": {
      "needs_background": "light"
     },
     "output_type": "display_data"
    }
   ],
   "source": [
    "sns.heatmap(data.corr(), vmin=-1, vmax=1);"
   ]
  },
  {
   "cell_type": "markdown",
   "id": "70e6ff2c-e4cc-42d3-b97b-9259a43ee5c6",
   "metadata": {},
   "source": [
    "Let's check is our target balanced?"
   ]
  },
  {
   "cell_type": "code",
   "execution_count": 10,
   "id": "cb397a6b-31fa-44d9-8122-f14ceea52b01",
   "metadata": {},
   "outputs": [
    {
     "data": {
      "text/plain": [
       "0    8753\n",
       "1    1247\n",
       "Name: Response, dtype: int64"
      ]
     },
     "execution_count": 10,
     "metadata": {},
     "output_type": "execute_result"
    }
   ],
   "source": [
    "data.Response.value_counts()"
   ]
  },
  {
   "cell_type": "markdown",
   "id": "e01f2e19-5bc9-482d-b391-a27c5eaec981",
   "metadata": {},
   "source": [
    "### Task 3 "
   ]
  },
  {
   "cell_type": "markdown",
   "id": "3f612d8c-6d59-4b47-970b-8bcf5b7774c7",
   "metadata": {},
   "source": [
    "Perform OneHotEncoding for categorical `object` columns. "
   ]
  },
  {
   "cell_type": "code",
   "execution_count": 16,
   "id": "17635257-04d6-440e-91fa-1397b52324e5",
   "metadata": {},
   "outputs": [],
   "source": [
    "cat_cols = data.select_dtypes(include='object').columns"
   ]
  },
  {
   "cell_type": "code",
   "execution_count": 17,
   "id": "288cca8f-72d8-405f-bebb-9ee9096ae4bb",
   "metadata": {},
   "outputs": [
    {
     "data": {
      "text/plain": [
       "Index(['Gender', 'Vehicle_Age', 'Vehicle_Damage'], dtype='object')"
      ]
     },
     "execution_count": 17,
     "metadata": {},
     "output_type": "execute_result"
    }
   ],
   "source": [
    "cat_cols"
   ]
  },
  {
   "cell_type": "code",
   "execution_count": 18,
   "id": "2dede799-5e12-40d1-9e74-1da75fe4db6d",
   "metadata": {},
   "outputs": [],
   "source": [
    "for col in cat_cols:\n",
    "    ohe = pd.get_dummies(data[col], drop_first=True, prefix=col)\n",
    "    data = pd.concat([data, ohe], axis=1)\n",
    "    data.drop(col, axis=1, inplace=True)"
   ]
  },
  {
   "cell_type": "code",
   "execution_count": 19,
   "id": "73ed8ec1-7ee5-46f8-981b-0f9d3fce3e41",
   "metadata": {},
   "outputs": [
    {
     "data": {
      "text/html": [
       "<div>\n",
       "<style scoped>\n",
       "    .dataframe tbody tr th:only-of-type {\n",
       "        vertical-align: middle;\n",
       "    }\n",
       "\n",
       "    .dataframe tbody tr th {\n",
       "        vertical-align: top;\n",
       "    }\n",
       "\n",
       "    .dataframe thead th {\n",
       "        text-align: right;\n",
       "    }\n",
       "</style>\n",
       "<table border=\"1\" class=\"dataframe\">\n",
       "  <thead>\n",
       "    <tr style=\"text-align: right;\">\n",
       "      <th></th>\n",
       "      <th>Age</th>\n",
       "      <th>Driving_License</th>\n",
       "      <th>Region_Code</th>\n",
       "      <th>Previously_Insured</th>\n",
       "      <th>Annual_Premium</th>\n",
       "      <th>Policy_Sales_Channel</th>\n",
       "      <th>Vintage</th>\n",
       "      <th>Response</th>\n",
       "      <th>Gender_Male</th>\n",
       "      <th>Vehicle_Age_&lt; 1 Year</th>\n",
       "      <th>Vehicle_Age_&gt; 2 Years</th>\n",
       "      <th>Vehicle_Damage_Yes</th>\n",
       "    </tr>\n",
       "  </thead>\n",
       "  <tbody>\n",
       "    <tr>\n",
       "      <th>0</th>\n",
       "      <td>44</td>\n",
       "      <td>1</td>\n",
       "      <td>28.0</td>\n",
       "      <td>0</td>\n",
       "      <td>40454.0</td>\n",
       "      <td>26.0</td>\n",
       "      <td>217</td>\n",
       "      <td>1</td>\n",
       "      <td>1</td>\n",
       "      <td>0</td>\n",
       "      <td>1</td>\n",
       "      <td>1</td>\n",
       "    </tr>\n",
       "    <tr>\n",
       "      <th>1</th>\n",
       "      <td>76</td>\n",
       "      <td>1</td>\n",
       "      <td>3.0</td>\n",
       "      <td>0</td>\n",
       "      <td>33536.0</td>\n",
       "      <td>26.0</td>\n",
       "      <td>183</td>\n",
       "      <td>0</td>\n",
       "      <td>1</td>\n",
       "      <td>0</td>\n",
       "      <td>0</td>\n",
       "      <td>0</td>\n",
       "    </tr>\n",
       "    <tr>\n",
       "      <th>2</th>\n",
       "      <td>47</td>\n",
       "      <td>1</td>\n",
       "      <td>28.0</td>\n",
       "      <td>0</td>\n",
       "      <td>38294.0</td>\n",
       "      <td>26.0</td>\n",
       "      <td>27</td>\n",
       "      <td>1</td>\n",
       "      <td>1</td>\n",
       "      <td>0</td>\n",
       "      <td>1</td>\n",
       "      <td>1</td>\n",
       "    </tr>\n",
       "    <tr>\n",
       "      <th>3</th>\n",
       "      <td>21</td>\n",
       "      <td>1</td>\n",
       "      <td>11.0</td>\n",
       "      <td>1</td>\n",
       "      <td>28619.0</td>\n",
       "      <td>152.0</td>\n",
       "      <td>203</td>\n",
       "      <td>0</td>\n",
       "      <td>1</td>\n",
       "      <td>1</td>\n",
       "      <td>0</td>\n",
       "      <td>0</td>\n",
       "    </tr>\n",
       "    <tr>\n",
       "      <th>4</th>\n",
       "      <td>29</td>\n",
       "      <td>1</td>\n",
       "      <td>41.0</td>\n",
       "      <td>1</td>\n",
       "      <td>27496.0</td>\n",
       "      <td>152.0</td>\n",
       "      <td>39</td>\n",
       "      <td>0</td>\n",
       "      <td>0</td>\n",
       "      <td>1</td>\n",
       "      <td>0</td>\n",
       "      <td>0</td>\n",
       "    </tr>\n",
       "  </tbody>\n",
       "</table>\n",
       "</div>"
      ],
      "text/plain": [
       "   Age  Driving_License  Region_Code  Previously_Insured  Annual_Premium  \\\n",
       "0   44                1         28.0                   0         40454.0   \n",
       "1   76                1          3.0                   0         33536.0   \n",
       "2   47                1         28.0                   0         38294.0   \n",
       "3   21                1         11.0                   1         28619.0   \n",
       "4   29                1         41.0                   1         27496.0   \n",
       "\n",
       "   Policy_Sales_Channel  Vintage  Response  Gender_Male  Vehicle_Age_< 1 Year  \\\n",
       "0                  26.0      217         1            1                     0   \n",
       "1                  26.0      183         0            1                     0   \n",
       "2                  26.0       27         1            1                     0   \n",
       "3                 152.0      203         0            1                     1   \n",
       "4                 152.0       39         0            0                     1   \n",
       "\n",
       "   Vehicle_Age_> 2 Years  Vehicle_Damage_Yes  \n",
       "0                      1                   1  \n",
       "1                      0                   0  \n",
       "2                      1                   1  \n",
       "3                      0                   0  \n",
       "4                      0                   0  "
      ]
     },
     "execution_count": 19,
     "metadata": {},
     "output_type": "execute_result"
    }
   ],
   "source": [
    "data.head()"
   ]
  },
  {
   "cell_type": "code",
   "execution_count": 20,
   "id": "8efc0219-6e87-4bbe-aa06-2ac493d9dabd",
   "metadata": {},
   "outputs": [
    {
     "name": "stdout",
     "output_type": "stream",
     "text": [
      "<class 'pandas.core.frame.DataFrame'>\n",
      "RangeIndex: 10000 entries, 0 to 9999\n",
      "Data columns (total 12 columns):\n",
      " #   Column                 Non-Null Count  Dtype  \n",
      "---  ------                 --------------  -----  \n",
      " 0   Age                    10000 non-null  int64  \n",
      " 1   Driving_License        10000 non-null  int64  \n",
      " 2   Region_Code            10000 non-null  float64\n",
      " 3   Previously_Insured     10000 non-null  int64  \n",
      " 4   Annual_Premium         10000 non-null  float64\n",
      " 5   Policy_Sales_Channel   10000 non-null  float64\n",
      " 6   Vintage                10000 non-null  int64  \n",
      " 7   Response               10000 non-null  int64  \n",
      " 8   Gender_Male            10000 non-null  uint8  \n",
      " 9   Vehicle_Age_< 1 Year   10000 non-null  uint8  \n",
      " 10  Vehicle_Age_> 2 Years  10000 non-null  uint8  \n",
      " 11  Vehicle_Damage_Yes     10000 non-null  uint8  \n",
      "dtypes: float64(3), int64(5), uint8(4)\n",
      "memory usage: 664.2 KB\n"
     ]
    }
   ],
   "source": [
    "data.info()"
   ]
  },
  {
   "cell_type": "code",
   "execution_count": 21,
   "id": "525bc326-48aa-4773-ad52-239e9f2f5e8d",
   "metadata": {},
   "outputs": [
    {
     "data": {
      "text/plain": [
       "(10000, 12)"
      ]
     },
     "execution_count": 21,
     "metadata": {},
     "output_type": "execute_result"
    }
   ],
   "source": [
    "data.shape"
   ]
  },
  {
   "cell_type": "markdown",
   "id": "1d84e5e5-765d-4373-825d-f3f1710707c1",
   "metadata": {},
   "source": [
    "### Task 4"
   ]
  },
  {
   "cell_type": "markdown",
   "id": "a0c285f5-ce36-4b4a-b147-903deb981787",
   "metadata": {},
   "source": [
    "Split data on train and test samples. "
   ]
  },
  {
   "cell_type": "code",
   "execution_count": 22,
   "id": "c2caabd6-c38c-457d-b39c-134d62826ac7",
   "metadata": {},
   "outputs": [],
   "source": [
    "X = data.drop('Response', axis=1)\n",
    "y = data['Response']"
   ]
  },
  {
   "cell_type": "code",
   "execution_count": 23,
   "id": "0e3274b5-5b5c-485e-9c6e-5211d17b49c7",
   "metadata": {},
   "outputs": [],
   "source": [
    "from sklearn.model_selection import train_test_split\n",
    "\n",
    "\n",
    "X_train, X_test, y_train, y_test = train_test_split(X, y, random_state=0, shuffle=True, test_size=0.2)"
   ]
  },
  {
   "cell_type": "markdown",
   "id": "7252afef-60be-439c-bc8f-624ef1b42c62",
   "metadata": {},
   "source": [
    "### Task 5"
   ]
  },
  {
   "cell_type": "markdown",
   "id": "6a34ddda-9c64-45f2-96fb-28b15c222af4",
   "metadata": {},
   "source": [
    "Fit a gradient boosting classification model. "
   ]
  },
  {
   "cell_type": "code",
   "execution_count": 24,
   "id": "a21ee9b1-f8e0-4331-8ee5-3271122d2682",
   "metadata": {},
   "outputs": [
    {
     "data": {
      "text/html": [
       "<style>#sk-container-id-1 {color: black;background-color: white;}#sk-container-id-1 pre{padding: 0;}#sk-container-id-1 div.sk-toggleable {background-color: white;}#sk-container-id-1 label.sk-toggleable__label {cursor: pointer;display: block;width: 100%;margin-bottom: 0;padding: 0.3em;box-sizing: border-box;text-align: center;}#sk-container-id-1 label.sk-toggleable__label-arrow:before {content: \"▸\";float: left;margin-right: 0.25em;color: #696969;}#sk-container-id-1 label.sk-toggleable__label-arrow:hover:before {color: black;}#sk-container-id-1 div.sk-estimator:hover label.sk-toggleable__label-arrow:before {color: black;}#sk-container-id-1 div.sk-toggleable__content {max-height: 0;max-width: 0;overflow: hidden;text-align: left;background-color: #f0f8ff;}#sk-container-id-1 div.sk-toggleable__content pre {margin: 0.2em;color: black;border-radius: 0.25em;background-color: #f0f8ff;}#sk-container-id-1 input.sk-toggleable__control:checked~div.sk-toggleable__content {max-height: 200px;max-width: 100%;overflow: auto;}#sk-container-id-1 input.sk-toggleable__control:checked~label.sk-toggleable__label-arrow:before {content: \"▾\";}#sk-container-id-1 div.sk-estimator input.sk-toggleable__control:checked~label.sk-toggleable__label {background-color: #d4ebff;}#sk-container-id-1 div.sk-label input.sk-toggleable__control:checked~label.sk-toggleable__label {background-color: #d4ebff;}#sk-container-id-1 input.sk-hidden--visually {border: 0;clip: rect(1px 1px 1px 1px);clip: rect(1px, 1px, 1px, 1px);height: 1px;margin: -1px;overflow: hidden;padding: 0;position: absolute;width: 1px;}#sk-container-id-1 div.sk-estimator {font-family: monospace;background-color: #f0f8ff;border: 1px dotted black;border-radius: 0.25em;box-sizing: border-box;margin-bottom: 0.5em;}#sk-container-id-1 div.sk-estimator:hover {background-color: #d4ebff;}#sk-container-id-1 div.sk-parallel-item::after {content: \"\";width: 100%;border-bottom: 1px solid gray;flex-grow: 1;}#sk-container-id-1 div.sk-label:hover label.sk-toggleable__label {background-color: #d4ebff;}#sk-container-id-1 div.sk-serial::before {content: \"\";position: absolute;border-left: 1px solid gray;box-sizing: border-box;top: 0;bottom: 0;left: 50%;z-index: 0;}#sk-container-id-1 div.sk-serial {display: flex;flex-direction: column;align-items: center;background-color: white;padding-right: 0.2em;padding-left: 0.2em;position: relative;}#sk-container-id-1 div.sk-item {position: relative;z-index: 1;}#sk-container-id-1 div.sk-parallel {display: flex;align-items: stretch;justify-content: center;background-color: white;position: relative;}#sk-container-id-1 div.sk-item::before, #sk-container-id-1 div.sk-parallel-item::before {content: \"\";position: absolute;border-left: 1px solid gray;box-sizing: border-box;top: 0;bottom: 0;left: 50%;z-index: -1;}#sk-container-id-1 div.sk-parallel-item {display: flex;flex-direction: column;z-index: 1;position: relative;background-color: white;}#sk-container-id-1 div.sk-parallel-item:first-child::after {align-self: flex-end;width: 50%;}#sk-container-id-1 div.sk-parallel-item:last-child::after {align-self: flex-start;width: 50%;}#sk-container-id-1 div.sk-parallel-item:only-child::after {width: 0;}#sk-container-id-1 div.sk-dashed-wrapped {border: 1px dashed gray;margin: 0 0.4em 0.5em 0.4em;box-sizing: border-box;padding-bottom: 0.4em;background-color: white;}#sk-container-id-1 div.sk-label label {font-family: monospace;font-weight: bold;display: inline-block;line-height: 1.2em;}#sk-container-id-1 div.sk-label-container {text-align: center;}#sk-container-id-1 div.sk-container {/* jupyter's `normalize.less` sets `[hidden] { display: none; }` but bootstrap.min.css set `[hidden] { display: none !important; }` so we also need the `!important` here to be able to override the default hidden behavior on the sphinx rendered scikit-learn.org. See: https://github.com/scikit-learn/scikit-learn/issues/21755 */display: inline-block !important;position: relative;}#sk-container-id-1 div.sk-text-repr-fallback {display: none;}</style><div id=\"sk-container-id-1\" class=\"sk-top-container\"><div class=\"sk-text-repr-fallback\"><pre>GradientBoostingClassifier(learning_rate=1, random_state=1)</pre><b>In a Jupyter environment, please rerun this cell to show the HTML representation or trust the notebook. <br />On GitHub, the HTML representation is unable to render, please try loading this page with nbviewer.org.</b></div><div class=\"sk-container\" hidden><div class=\"sk-item\"><div class=\"sk-estimator sk-toggleable\"><input class=\"sk-toggleable__control sk-hidden--visually\" id=\"sk-estimator-id-1\" type=\"checkbox\" checked><label for=\"sk-estimator-id-1\" class=\"sk-toggleable__label sk-toggleable__label-arrow\">GradientBoostingClassifier</label><div class=\"sk-toggleable__content\"><pre>GradientBoostingClassifier(learning_rate=1, random_state=1)</pre></div></div></div></div></div>"
      ],
      "text/plain": [
       "GradientBoostingClassifier(learning_rate=1, random_state=1)"
      ]
     },
     "execution_count": 24,
     "metadata": {},
     "output_type": "execute_result"
    }
   ],
   "source": [
    "from sklearn.ensemble import GradientBoostingClassifier\n",
    "\n",
    "\n",
    "gb = GradientBoostingClassifier(learning_rate = 1, random_state = 1, n_estimators = 100)\n",
    "gb.fit(X_train, y_train)"
   ]
  },
  {
   "cell_type": "markdown",
   "id": "82d0351f-8c2d-40ab-a54b-ed22c038425e",
   "metadata": {},
   "source": [
    "### Task 6"
   ]
  },
  {
   "cell_type": "markdown",
   "id": "b021dd3b-a2c8-4ee0-b1a1-b9a143f68998",
   "metadata": {},
   "source": [
    "Show a ROC-AUC curve for a gradient boosting classifier model. "
   ]
  },
  {
   "cell_type": "code",
   "execution_count": 25,
   "id": "732d7769-6930-4f1b-9fe2-b0c8256da4f1",
   "metadata": {},
   "outputs": [
    {
     "data": {
      "image/png": "[encoded data removed]",
      "text/plain": [
       "<Figure size 576x360 with 1 Axes>"
      ]
     },
     "metadata": {
      "needs_background": "light"
     },
     "output_type": "display_data"
    }
   ],
   "source": [
    "from sklearn.metrics import RocCurveDisplay\n",
    "\n",
    "\n",
    "RocCurveDisplay.from_estimator(gb, X_test, y_test)\n",
    "plt.show();"
   ]
  },
  {
   "cell_type": "code",
   "execution_count": 31,
   "id": "c966d5f2-2356-44de-9c10-58ff5d100af5",
   "metadata": {},
   "outputs": [],
   "source": [
    "from sklearn.metrics import roc_curve, auc\n",
    "\n",
    "\n",
    "fpr, tpr, t = roc_curve(y_test, gb.predict_proba(X_test)[:, 1])"
   ]
  },
  {
   "cell_type": "code",
   "execution_count": 32,
   "id": "fff66079-5a9b-4272-8169-4a28130a0a60",
   "metadata": {},
   "outputs": [
    {
     "name": "stdout",
     "output_type": "stream",
     "text": [
      "AUC = 0.828\n"
     ]
    }
   ],
   "source": [
    "print(f'AUC = {auc(fpr, tpr):.3f}')"
   ]
  },
  {
   "cell_type": "markdown",
   "id": "804b4e41-125b-417a-83b4-cf7e7f9f5f06",
   "metadata": {},
   "source": [
    "### Task 7"
   ]
  },
  {
   "cell_type": "markdown",
   "id": "41b0c3a4-6a4c-40fd-b754-58faff1c60e0",
   "metadata": {},
   "source": [
    "Explore different `n_estimators` and `learning_rate` parameters."
   ]
  },
  {
   "cell_type": "code",
   "execution_count": 36,
   "id": "f34d05fc-4f91-48ab-bbf2-be0d2f35e650",
   "metadata": {},
   "outputs": [],
   "source": [
    "from sklearn.metrics import f1_score\n",
    "\n",
    "\n",
    "n_estimators_list = [5, 10, 20, 50, 100, 200, 700, 1000]\n",
    "learning_rate_list = [1, 0.1, 0.01]\n",
    "\n",
    "scores = dict()\n",
    "for (i, n) in enumerate(n_estimators_list):\n",
    "    for (j, lr) in enumerate(learning_rate_list):\n",
    "        model = GradientBoostingClassifier(n_estimators=n,\n",
    "                                           learning_rate=lr,\n",
    "                                           max_depth=5,\n",
    "                                           random_state=1)\n",
    "        model.fit(X_train, y_train)\n",
    "        scores[(n, lr)] = f1_score(y_test, model.predict(X_test), average='weighted')"
   ]
  },
  {
   "cell_type": "code",
   "execution_count": 37,
   "id": "b5ebde06-0dc4-4a54-a0b7-080ea3f5dd78",
   "metadata": {},
   "outputs": [
    {
     "data": {
      "text/plain": [
       "{(5, 1): 0.8359832466969576,\n",
       " (5, 0.1): 0.8319706786734022,\n",
       " (5, 0.01): 0.8310079575596817,\n",
       " (10, 1): 0.8384003359824256,\n",
       " (10, 0.1): 0.8319706786734022,\n",
       " (10, 0.01): 0.8310079575596817,\n",
       " (20, 1): 0.8441822850241137,\n",
       " (20, 0.1): 0.8317171483552103,\n",
       " (20, 0.01): 0.8310079575596817,\n",
       " (50, 1): 0.8360328757022755,\n",
       " (50, 0.1): 0.8316268930523463,\n",
       " (50, 0.01): 0.8322241135533787,\n",
       " (100, 1): 0.8374898105725385,\n",
       " (100, 0.1): 0.8377279171194056,\n",
       " (100, 0.01): 0.8319706786734022,\n",
       " (200, 1): 0.8426079956106953,\n",
       " (200, 0.1): 0.8431243243243244,\n",
       " (200, 0.01): 0.8317171483552103,\n",
       " (700, 1): 0.8440186407963912,\n",
       " (700, 0.1): 0.8426801637908706,\n",
       " (700, 0.01): 0.8348982048283926,\n",
       " (1000, 1): 0.8464474778638382,\n",
       " (1000, 0.1): 0.8460634986511725,\n",
       " (1000, 0.01): 0.8371109714914002}"
      ]
     },
     "execution_count": 37,
     "metadata": {},
     "output_type": "execute_result"
    }
   ],
   "source": [
    "scores"
   ]
  },
  {
   "cell_type": "code",
   "execution_count": 38,
   "id": "b1d8dc78-eb8c-4eac-8f89-e494be5c56f2",
   "metadata": {},
   "outputs": [],
   "source": [
    "f1_max = 0\n",
    "best_params = ''\n",
    "\n",
    "for k, v in scores.items():\n",
    "    if v > f1_max:\n",
    "        f1_max = v\n",
    "        best_params = k"
   ]
  },
  {
   "cell_type": "code",
   "execution_count": 41,
   "id": "986984dd-5fe5-4ec8-bd14-1d422bb5300d",
   "metadata": {},
   "outputs": [
    {
     "name": "stdout",
     "output_type": "stream",
     "text": [
      "Best n_estimators=1000 and best learning_rate=1 give F-1 score=0.846\n"
     ]
    }
   ],
   "source": [
    "print(f'Best n_estimators={best_params[0]} and best learning_rate={best_params[1]} give F-1 score={f1_max:.3f}')"
   ]
  },
  {
   "cell_type": "markdown",
   "id": "6c8a5574-8aaf-454e-bf3f-f8204c3bd8d1",
   "metadata": {},
   "source": [
    "### Task 8"
   ]
  },
  {
   "cell_type": "markdown",
   "id": "c155838f-8a99-43a2-9b0b-dff2bd13d570",
   "metadata": {},
   "source": [
    "Visualize the results. "
   ]
  },
  {
   "cell_type": "code",
   "execution_count": 48,
   "id": "a1f131d0-5079-4c76-b0c6-1864e8f3e31d",
   "metadata": {},
   "outputs": [],
   "source": [
    "# Create lists for index (first tuple value) and columns (second tuple value)\n",
    "index_vals = sorted(list(set([k[0] for k in scores.keys()])))\n",
    "col_vals = sorted(list(set([k[1] for k in scores.keys()])))\n",
    "\n",
    "# Create an empty DataFrame with the correct index and columns\n",
    "df = pd.DataFrame(index=index_vals, columns=col_vals)\n",
    "\n",
    "# Fill the DataFrame with values from the dictionary\n",
    "for (idx, col), value in scores.items():\n",
    "    df.loc[idx, col] = value\n",
    "\n",
    "# Optional: Round the values to make them more readable\n",
    "df = df.round(4)"
   ]
  },
  {
   "cell_type": "code",
   "execution_count": 49,
   "id": "dadaadaa-68f6-4be7-afc8-2b39e7d269d4",
   "metadata": {},
   "outputs": [
    {
     "data": {
      "text/html": [
       "<div>\n",
       "<style scoped>\n",
       "    .dataframe tbody tr th:only-of-type {\n",
       "        vertical-align: middle;\n",
       "    }\n",
       "\n",
       "    .dataframe tbody tr th {\n",
       "        vertical-align: top;\n",
       "    }\n",
       "\n",
       "    .dataframe thead th {\n",
       "        text-align: right;\n",
       "    }\n",
       "</style>\n",
       "<table border=\"1\" class=\"dataframe\">\n",
       "  <thead>\n",
       "    <tr style=\"text-align: right;\">\n",
       "      <th></th>\n",
       "      <th>0.01</th>\n",
       "      <th>0.10</th>\n",
       "      <th>1.00</th>\n",
       "    </tr>\n",
       "  </thead>\n",
       "  <tbody>\n",
       "    <tr>\n",
       "      <th>5</th>\n",
       "      <td>0.831008</td>\n",
       "      <td>0.831971</td>\n",
       "      <td>0.835983</td>\n",
       "    </tr>\n",
       "    <tr>\n",
       "      <th>10</th>\n",
       "      <td>0.831008</td>\n",
       "      <td>0.831971</td>\n",
       "      <td>0.8384</td>\n",
       "    </tr>\n",
       "    <tr>\n",
       "      <th>20</th>\n",
       "      <td>0.831008</td>\n",
       "      <td>0.831717</td>\n",
       "      <td>0.844182</td>\n",
       "    </tr>\n",
       "    <tr>\n",
       "      <th>50</th>\n",
       "      <td>0.832224</td>\n",
       "      <td>0.831627</td>\n",
       "      <td>0.836033</td>\n",
       "    </tr>\n",
       "    <tr>\n",
       "      <th>100</th>\n",
       "      <td>0.831971</td>\n",
       "      <td>0.837728</td>\n",
       "      <td>0.83749</td>\n",
       "    </tr>\n",
       "    <tr>\n",
       "      <th>200</th>\n",
       "      <td>0.831717</td>\n",
       "      <td>0.843124</td>\n",
       "      <td>0.842608</td>\n",
       "    </tr>\n",
       "    <tr>\n",
       "      <th>700</th>\n",
       "      <td>0.834898</td>\n",
       "      <td>0.84268</td>\n",
       "      <td>0.844019</td>\n",
       "    </tr>\n",
       "    <tr>\n",
       "      <th>1000</th>\n",
       "      <td>0.837111</td>\n",
       "      <td>0.846063</td>\n",
       "      <td>0.846447</td>\n",
       "    </tr>\n",
       "  </tbody>\n",
       "</table>\n",
       "</div>"
      ],
      "text/plain": [
       "          0.01      0.10      1.00\n",
       "5     0.831008  0.831971  0.835983\n",
       "10    0.831008  0.831971    0.8384\n",
       "20    0.831008  0.831717  0.844182\n",
       "50    0.832224  0.831627  0.836033\n",
       "100   0.831971  0.837728   0.83749\n",
       "200   0.831717  0.843124  0.842608\n",
       "700   0.834898   0.84268  0.844019\n",
       "1000  0.837111  0.846063  0.846447"
      ]
     },
     "execution_count": 49,
     "metadata": {},
     "output_type": "execute_result"
    }
   ],
   "source": [
    "df"
   ]
  },
  {
   "cell_type": "code",
   "execution_count": 58,
   "id": "7f0882d1-9422-4aff-a8da-4f24ef68ef0e",
   "metadata": {},
   "outputs": [
    {
     "data": {
      "image/png": "[encoded data removed]",
      "text/plain": [
       "<Figure size 576x360 with 1 Axes>"
      ]
     },
     "metadata": {
      "needs_background": "light"
     },
     "output_type": "display_data"
    }
   ],
   "source": [
    "plt.plot(df[[1]])\n",
    "plt.plot(df[[0.1]])\n",
    "plt.plot(df[[0.01]])\n",
    "\n",
    "plt.title('F1 Score VS Number of estimators for various Learning rate parameters')\n",
    "plt.xlabel('Number of estimators')\n",
    "plt.ylabel('F1 Score')\n",
    "\n",
    "plt.grid()\n",
    "plt.legend(learning_rate_list);"
   ]
  },
  {
   "cell_type": "markdown",
   "id": "306bcac1-8001-4805-8ca6-77d231894075",
   "metadata": {},
   "source": [
    "### Task 9"
   ]
  },
  {
   "cell_type": "markdown",
   "id": "cc89b2aa-4fc0-4878-9393-c3fa5e15206e",
   "metadata": {},
   "source": [
    "Find the best model (f1-score) and the best `n_estimators` pararmeter on a **train sample** among:\n",
    "- Random forest max_depth=5\n",
    "- Random forets max_depth=5000\n",
    "- Gradient boosting max_depth=5\n",
    "- Gradient boosting max_depth=5000"
   ]
  },
  {
   "cell_type": "code",
   "execution_count": null,
   "id": "d72395d6-bb8a-4ba7-9663-668718eb22ce",
   "metadata": {},
   "outputs": [],
   "source": [
    "from sklearn.ensemble import RandomForestClassifier, BaggingClassifier\n",
    "from sklearn.tree import DecisionTreeClassifier\n",
    "\n",
    "\n",
    "n_estimators_list = [2, 3, 4, 5, 10, 20, 50, 70, 100, 200, 700, 1000, 2000]\n",
    "\n",
    "# tbc.."
   ]
  },
  {
   "cell_type": "code",
   "execution_count": null,
   "id": "f1d62ee8-6654-4d3b-99a8-111c5aaf4926",
   "metadata": {},
   "outputs": [],
   "source": []
  },
  {
   "cell_type": "code",
   "execution_count": null,
   "id": "ff5fd530-9a0e-4aa0-8f7e-ca65fe549a61",
   "metadata": {},
   "outputs": [],
   "source": []
  },
  {
   "cell_type": "code",
   "execution_count": null,
   "id": "9f92646e-e0c0-4ed4-98e4-bfd7edd16eb1",
   "metadata": {},
   "outputs": [],
   "source": []
  },
  {
   "cell_type": "code",
   "execution_count": null,
   "id": "fe5dc4aa-7962-4cf8-8611-826b0f0b5724",
   "metadata": {},
   "outputs": [],
   "source": []
  },
  {
   "cell_type": "code",
   "execution_count": null,
   "id": "1b89792b-6564-401e-8ec7-472f97279da0",
   "metadata": {},
   "outputs": [],
   "source": []
  },
  {
   "cell_type": "code",
   "execution_count": null,
   "id": "c9d0a9d6-12d8-4da6-8786-a411d63d083f",
   "metadata": {},
   "outputs": [],
   "source": []
  },
  {
   "cell_type": "code",
   "execution_count": null,
   "id": "07e4da09-313e-4343-8443-c1246eb61bb3",
   "metadata": {},
   "outputs": [],
   "source": []
  },
  {
   "cell_type": "code",
   "execution_count": null,
   "id": "492d5e67-ed92-46c9-aa38-453134761e07",
   "metadata": {},
   "outputs": [],
   "source": []
  }
 ],
 "metadata": {
  "kernelspec": {
   "display_name": "Python 3 (ipykernel)",
   "language": "python",
   "name": "python3"
  },
  "language_info": {
   "codemirror_mode": {
    "name": "ipython",
    "version": 3
   },
   "file_extension": ".py",
   "mimetype": "text/x-python",
   "name": "python",
   "nbconvert_exporter": "python",
   "pygments_lexer": "ipython3",
   "version": "3.8.10"
  }
 },
 "nbformat": 4,
 "nbformat_minor": 5
}
