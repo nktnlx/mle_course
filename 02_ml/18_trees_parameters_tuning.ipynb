{
 "cells": [
  {
   "cell_type": "markdown",
   "id": "cb747a0a-d5db-46b4-90d2-585621f1c44a",
   "metadata": {},
   "source": [
    "# Decision Trees\n"
   ]
  },
  {
   "cell_type": "markdown",
   "id": "c754b9c7-501f-465f-9160-5ca29185e2cc",
   "metadata": {},
   "source": [
    "## Tasks"
   ]
  },
  {
   "cell_type": "markdown",
   "id": "6a08a8d8-37a7-4a4e-b354-4db6e2f16a56",
   "metadata": {},
   "source": [
    "### Task 1"
   ]
  },
  {
   "cell_type": "markdown",
   "id": "bdbe5dc3-20db-4123-87a8-c13481055a28",
   "metadata": {},
   "source": [
    "Import data you need to solve tasks for this lesson. "
   ]
  },
  {
   "cell_type": "code",
   "execution_count": 1,
   "id": "fc38d53b-fc57-4610-bbc6-16e24700591a",
   "metadata": {},
   "outputs": [],
   "source": [
    "import pandas as pd\n",
    "import numpy as np\n",
    "import matplotlib.pyplot as plt\n",
    "import seaborn as sns\n",
    "\n",
    "pd.options.display.max_columns = 500"
   ]
  },
  {
   "cell_type": "code",
   "execution_count": 2,
   "id": "18f0fe7e-813b-4859-b1cc-73dcc5c0d09c",
   "metadata": {},
   "outputs": [],
   "source": [
    "data = pd.read_csv('autos.csv')"
   ]
  },
  {
   "cell_type": "code",
   "execution_count": 3,
   "id": "dcb31fdc-1cac-495c-9c98-f7faea6d6dc0",
   "metadata": {},
   "outputs": [
    {
     "data": {
      "text/html": [
       "<div>\n",
       "<style scoped>\n",
       "    .dataframe tbody tr th:only-of-type {\n",
       "        vertical-align: middle;\n",
       "    }\n",
       "\n",
       "    .dataframe tbody tr th {\n",
       "        vertical-align: top;\n",
       "    }\n",
       "\n",
       "    .dataframe thead th {\n",
       "        text-align: right;\n",
       "    }\n",
       "</style>\n",
       "<table border=\"1\" class=\"dataframe\">\n",
       "  <thead>\n",
       "    <tr style=\"text-align: right;\">\n",
       "      <th></th>\n",
       "      <th>name</th>\n",
       "      <th>year</th>\n",
       "      <th>selling_price</th>\n",
       "      <th>km_driven</th>\n",
       "      <th>fuel</th>\n",
       "      <th>seller_type</th>\n",
       "      <th>transmission</th>\n",
       "      <th>owner</th>\n",
       "    </tr>\n",
       "  </thead>\n",
       "  <tbody>\n",
       "    <tr>\n",
       "      <th>0</th>\n",
       "      <td>Maruti 800 AC</td>\n",
       "      <td>2007</td>\n",
       "      <td>60000</td>\n",
       "      <td>70000</td>\n",
       "      <td>Petrol</td>\n",
       "      <td>Individual</td>\n",
       "      <td>Manual</td>\n",
       "      <td>First Owner</td>\n",
       "    </tr>\n",
       "    <tr>\n",
       "      <th>1</th>\n",
       "      <td>Maruti Wagon R LXI Minor</td>\n",
       "      <td>2007</td>\n",
       "      <td>135000</td>\n",
       "      <td>50000</td>\n",
       "      <td>Petrol</td>\n",
       "      <td>Individual</td>\n",
       "      <td>Manual</td>\n",
       "      <td>First Owner</td>\n",
       "    </tr>\n",
       "    <tr>\n",
       "      <th>2</th>\n",
       "      <td>Hyundai Verna 1.6 SX</td>\n",
       "      <td>2012</td>\n",
       "      <td>600000</td>\n",
       "      <td>100000</td>\n",
       "      <td>Diesel</td>\n",
       "      <td>Individual</td>\n",
       "      <td>Manual</td>\n",
       "      <td>First Owner</td>\n",
       "    </tr>\n",
       "    <tr>\n",
       "      <th>3</th>\n",
       "      <td>Datsun RediGO T Option</td>\n",
       "      <td>2017</td>\n",
       "      <td>250000</td>\n",
       "      <td>46000</td>\n",
       "      <td>Petrol</td>\n",
       "      <td>Individual</td>\n",
       "      <td>Manual</td>\n",
       "      <td>First Owner</td>\n",
       "    </tr>\n",
       "    <tr>\n",
       "      <th>4</th>\n",
       "      <td>Honda Amaze VX i-DTEC</td>\n",
       "      <td>2014</td>\n",
       "      <td>450000</td>\n",
       "      <td>141000</td>\n",
       "      <td>Diesel</td>\n",
       "      <td>Individual</td>\n",
       "      <td>Manual</td>\n",
       "      <td>Second Owner</td>\n",
       "    </tr>\n",
       "  </tbody>\n",
       "</table>\n",
       "</div>"
      ],
      "text/plain": [
       "                       name  year  selling_price  km_driven    fuel  \\\n",
       "0             Maruti 800 AC  2007          60000      70000  Petrol   \n",
       "1  Maruti Wagon R LXI Minor  2007         135000      50000  Petrol   \n",
       "2      Hyundai Verna 1.6 SX  2012         600000     100000  Diesel   \n",
       "3    Datsun RediGO T Option  2017         250000      46000  Petrol   \n",
       "4     Honda Amaze VX i-DTEC  2014         450000     141000  Diesel   \n",
       "\n",
       "  seller_type transmission         owner  \n",
       "0  Individual       Manual   First Owner  \n",
       "1  Individual       Manual   First Owner  \n",
       "2  Individual       Manual   First Owner  \n",
       "3  Individual       Manual   First Owner  \n",
       "4  Individual       Manual  Second Owner  "
      ]
     },
     "execution_count": 3,
     "metadata": {},
     "output_type": "execute_result"
    }
   ],
   "source": [
    "data.head()"
   ]
  },
  {
   "cell_type": "code",
   "execution_count": 4,
   "id": "5c6c98b9-27c2-4dea-8b38-ded726619cae",
   "metadata": {},
   "outputs": [
    {
     "data": {
      "text/plain": [
       "(4340, 8)"
      ]
     },
     "execution_count": 4,
     "metadata": {},
     "output_type": "execute_result"
    }
   ],
   "source": [
    "data.shape"
   ]
  },
  {
   "cell_type": "code",
   "execution_count": 5,
   "id": "316a994a-0afc-4851-a22d-2128c28c7b65",
   "metadata": {},
   "outputs": [
    {
     "name": "stdout",
     "output_type": "stream",
     "text": [
      "<class 'pandas.core.frame.DataFrame'>\n",
      "RangeIndex: 4340 entries, 0 to 4339\n",
      "Data columns (total 8 columns):\n",
      " #   Column         Non-Null Count  Dtype \n",
      "---  ------         --------------  ----- \n",
      " 0   name           4340 non-null   object\n",
      " 1   year           4340 non-null   int64 \n",
      " 2   selling_price  4340 non-null   int64 \n",
      " 3   km_driven      4340 non-null   int64 \n",
      " 4   fuel           4340 non-null   object\n",
      " 5   seller_type    4340 non-null   object\n",
      " 6   transmission   4340 non-null   object\n",
      " 7   owner          4340 non-null   object\n",
      "dtypes: int64(3), object(5)\n",
      "memory usage: 271.4+ KB\n"
     ]
    }
   ],
   "source": [
    "data.info()"
   ]
  },
  {
   "cell_type": "code",
   "execution_count": 6,
   "id": "d8472818-63cd-429b-9c35-f113dd3061a4",
   "metadata": {},
   "outputs": [
    {
     "data": {
      "text/plain": [
       "count    4.340000e+03\n",
       "mean     5.041273e+05\n",
       "std      5.785487e+05\n",
       "min      2.000000e+04\n",
       "25%      2.087498e+05\n",
       "50%      3.500000e+05\n",
       "75%      6.000000e+05\n",
       "max      8.900000e+06\n",
       "Name: selling_price, dtype: float64"
      ]
     },
     "execution_count": 6,
     "metadata": {},
     "output_type": "execute_result"
    }
   ],
   "source": [
    "data['selling_price'].describe()"
   ]
  },
  {
   "cell_type": "markdown",
   "id": "54372a63-0de8-4ad6-b8ab-24577a168866",
   "metadata": {},
   "source": [
    "### Task 2"
   ]
  },
  {
   "cell_type": "markdown",
   "id": "a612c89a-0508-4bfe-aa73-d730a1815428",
   "metadata": {},
   "source": [
    "Split data on train and test samples. "
   ]
  },
  {
   "cell_type": "code",
   "execution_count": 7,
   "id": "8db64f9d-2691-4313-a9fb-1d40d8364288",
   "metadata": {},
   "outputs": [],
   "source": [
    "X = data.drop('selling_price', axis=1)\n",
    "y = data['selling_price']"
   ]
  },
  {
   "cell_type": "code",
   "execution_count": 8,
   "id": "7fe56880-185c-4e48-a6ad-acc197ec47ec",
   "metadata": {},
   "outputs": [],
   "source": [
    "# we will use MSLE\n",
    "y = y.apply(np.log1p)"
   ]
  },
  {
   "cell_type": "code",
   "execution_count": 9,
   "id": "fb3223d2-6471-4d23-a768-f4b85922f696",
   "metadata": {},
   "outputs": [
    {
     "data": {
      "text/plain": [
       "count    4340.000000\n",
       "mean       12.764188\n",
       "std         0.839262\n",
       "min         9.903538\n",
       "25%        12.248842\n",
       "50%        12.765691\n",
       "75%        13.304687\n",
       "max        16.001562\n",
       "Name: selling_price, dtype: float64"
      ]
     },
     "execution_count": 9,
     "metadata": {},
     "output_type": "execute_result"
    }
   ],
   "source": [
    "y.describe()"
   ]
  },
  {
   "cell_type": "code",
   "execution_count": 10,
   "id": "fde46173-83b6-43a1-a6f9-d4cb1301a85e",
   "metadata": {},
   "outputs": [],
   "source": [
    "from sklearn.model_selection import train_test_split \n",
    "\n",
    "\n",
    "X_train, X_test, y_train, y_test = train_test_split(X, y, test_size=0.2, random_state=1)"
   ]
  },
  {
   "cell_type": "markdown",
   "id": "e01f2e19-5bc9-482d-b391-a27c5eaec981",
   "metadata": {},
   "source": [
    "### Task 3 "
   ]
  },
  {
   "cell_type": "markdown",
   "id": "3f612d8c-6d59-4b47-970b-8bcf5b7774c7",
   "metadata": {},
   "source": [
    "Create a Mean Target Encoder transformer. "
   ]
  },
  {
   "cell_type": "code",
   "execution_count": 11,
   "id": "fb865fe9-54a9-4c7b-be07-924d9b1ea6dc",
   "metadata": {},
   "outputs": [],
   "source": [
    "from sklearn.base import BaseEstimator, TransformerMixin\n",
    "\n",
    "\n",
    "class MeanTargetEncoderNoise(BaseEstimator, TransformerMixin):    \n",
    "    def __init__(self, categorical, numeric, target='selling_price'):\n",
    "        self.categorical = categorical\n",
    "        self.numeric = numeric\n",
    "        self.target = target\n",
    "        \n",
    "        \n",
    "    def fit(self, X, y):\n",
    "        X_fit = X.copy()\n",
    "        y_fit = y.copy()\n",
    "        \n",
    "        X_target = pd.concat((X_fit, y_fit), axis=1)\n",
    "        \n",
    "        self.mte = {col: X_target.groupby(col)[self.target].mean() + 0.006 * np.random.normal(0, 1, size = \n",
    "                                                       X_target.groupby(col)[self.target].mean().shape[0]) for col in self.categorical}\n",
    "        self.mte_cols = self.mte.keys()\n",
    "        \n",
    "        return self\n",
    "        \n",
    "        \n",
    "    def transform(self, df):\n",
    "        X_cp = df.copy()\n",
    "        \n",
    "        for col in self.categorical:\n",
    "            X_cp[col] = X_cp[col].map(self.mte[col])\n",
    "            X_cp[col] = X_cp[col].fillna(0)\n",
    "        \n",
    "        return X_cp"
   ]
  },
  {
   "cell_type": "markdown",
   "id": "1d84e5e5-765d-4373-825d-f3f1710707c1",
   "metadata": {},
   "source": [
    "### Task 4"
   ]
  },
  {
   "cell_type": "markdown",
   "id": "a0c285f5-ce36-4b4a-b147-903deb981787",
   "metadata": {},
   "source": [
    "Transform the data using your own custom Mean Target Encoder transformer."
   ]
  },
  {
   "cell_type": "code",
   "execution_count": 12,
   "id": "279c0252-e044-4a40-93a0-781f7b380788",
   "metadata": {},
   "outputs": [],
   "source": [
    "object_cols = ['name', 'year', 'fuel', 'seller_type', 'transmission', 'owner']\n",
    "num_cols = ['km_driven']"
   ]
  },
  {
   "cell_type": "code",
   "execution_count": 13,
   "id": "b9665a53-515c-4919-81a0-a7b14e186ce1",
   "metadata": {},
   "outputs": [
    {
     "data": {
      "text/html": [
       "<div>\n",
       "<style scoped>\n",
       "    .dataframe tbody tr th:only-of-type {\n",
       "        vertical-align: middle;\n",
       "    }\n",
       "\n",
       "    .dataframe tbody tr th {\n",
       "        vertical-align: top;\n",
       "    }\n",
       "\n",
       "    .dataframe thead th {\n",
       "        text-align: right;\n",
       "    }\n",
       "</style>\n",
       "<table border=\"1\" class=\"dataframe\">\n",
       "  <thead>\n",
       "    <tr style=\"text-align: right;\">\n",
       "      <th></th>\n",
       "      <th>name</th>\n",
       "      <th>year</th>\n",
       "      <th>km_driven</th>\n",
       "      <th>fuel</th>\n",
       "      <th>seller_type</th>\n",
       "      <th>transmission</th>\n",
       "      <th>owner</th>\n",
       "    </tr>\n",
       "  </thead>\n",
       "  <tbody>\n",
       "    <tr>\n",
       "      <th>3294</th>\n",
       "      <td>13.483692</td>\n",
       "      <td>13.436559</td>\n",
       "      <td>50000</td>\n",
       "      <td>13.093756</td>\n",
       "      <td>12.615863</td>\n",
       "      <td>13.771135</td>\n",
       "      <td>12.977730</td>\n",
       "    </tr>\n",
       "    <tr>\n",
       "      <th>2290</th>\n",
       "      <td>12.117029</td>\n",
       "      <td>11.903115</td>\n",
       "      <td>70000</td>\n",
       "      <td>12.453832</td>\n",
       "      <td>12.615863</td>\n",
       "      <td>13.771135</td>\n",
       "      <td>12.977730</td>\n",
       "    </tr>\n",
       "    <tr>\n",
       "      <th>874</th>\n",
       "      <td>12.310456</td>\n",
       "      <td>13.328864</td>\n",
       "      <td>50000</td>\n",
       "      <td>12.453832</td>\n",
       "      <td>12.615863</td>\n",
       "      <td>12.639805</td>\n",
       "      <td>12.977730</td>\n",
       "    </tr>\n",
       "    <tr>\n",
       "      <th>1907</th>\n",
       "      <td>12.491443</td>\n",
       "      <td>13.042359</td>\n",
       "      <td>92198</td>\n",
       "      <td>12.453832</td>\n",
       "      <td>13.152824</td>\n",
       "      <td>12.639805</td>\n",
       "      <td>12.463313</td>\n",
       "    </tr>\n",
       "    <tr>\n",
       "      <th>3244</th>\n",
       "      <td>12.390906</td>\n",
       "      <td>12.870886</td>\n",
       "      <td>3240</td>\n",
       "      <td>12.453832</td>\n",
       "      <td>12.615863</td>\n",
       "      <td>12.639805</td>\n",
       "      <td>12.463313</td>\n",
       "    </tr>\n",
       "    <tr>\n",
       "      <th>1089</th>\n",
       "      <td>12.687432</td>\n",
       "      <td>13.436559</td>\n",
       "      <td>10000</td>\n",
       "      <td>12.453832</td>\n",
       "      <td>13.152824</td>\n",
       "      <td>12.639805</td>\n",
       "      <td>12.977730</td>\n",
       "    </tr>\n",
       "    <tr>\n",
       "      <th>3902</th>\n",
       "      <td>11.698702</td>\n",
       "      <td>11.503504</td>\n",
       "      <td>90000</td>\n",
       "      <td>12.453832</td>\n",
       "      <td>12.615863</td>\n",
       "      <td>12.639805</td>\n",
       "      <td>11.878390</td>\n",
       "    </tr>\n",
       "    <tr>\n",
       "      <th>2215</th>\n",
       "      <td>11.120678</td>\n",
       "      <td>11.503504</td>\n",
       "      <td>79000</td>\n",
       "      <td>12.453832</td>\n",
       "      <td>12.615863</td>\n",
       "      <td>12.639805</td>\n",
       "      <td>12.463313</td>\n",
       "    </tr>\n",
       "    <tr>\n",
       "      <th>3862</th>\n",
       "      <td>13.172879</td>\n",
       "      <td>13.328864</td>\n",
       "      <td>99700</td>\n",
       "      <td>13.093756</td>\n",
       "      <td>12.615863</td>\n",
       "      <td>12.639805</td>\n",
       "      <td>12.977730</td>\n",
       "    </tr>\n",
       "    <tr>\n",
       "      <th>705</th>\n",
       "      <td>13.004194</td>\n",
       "      <td>12.241213</td>\n",
       "      <td>124000</td>\n",
       "      <td>13.093756</td>\n",
       "      <td>12.615863</td>\n",
       "      <td>12.639805</td>\n",
       "      <td>12.463313</td>\n",
       "    </tr>\n",
       "  </tbody>\n",
       "</table>\n",
       "</div>"
      ],
      "text/plain": [
       "           name       year  km_driven       fuel  seller_type  transmission  \\\n",
       "3294  13.483692  13.436559      50000  13.093756    12.615863     13.771135   \n",
       "2290  12.117029  11.903115      70000  12.453832    12.615863     13.771135   \n",
       "874   12.310456  13.328864      50000  12.453832    12.615863     12.639805   \n",
       "1907  12.491443  13.042359      92198  12.453832    13.152824     12.639805   \n",
       "3244  12.390906  12.870886       3240  12.453832    12.615863     12.639805   \n",
       "1089  12.687432  13.436559      10000  12.453832    13.152824     12.639805   \n",
       "3902  11.698702  11.503504      90000  12.453832    12.615863     12.639805   \n",
       "2215  11.120678  11.503504      79000  12.453832    12.615863     12.639805   \n",
       "3862  13.172879  13.328864      99700  13.093756    12.615863     12.639805   \n",
       "705   13.004194  12.241213     124000  13.093756    12.615863     12.639805   \n",
       "\n",
       "          owner  \n",
       "3294  12.977730  \n",
       "2290  12.977730  \n",
       "874   12.977730  \n",
       "1907  12.463313  \n",
       "3244  12.463313  \n",
       "1089  12.977730  \n",
       "3902  11.878390  \n",
       "2215  12.463313  \n",
       "3862  12.977730  \n",
       "705   12.463313  "
      ]
     },
     "execution_count": 13,
     "metadata": {},
     "output_type": "execute_result"
    }
   ],
   "source": [
    "np.random.seed(1)\n",
    "\n",
    "transformer = MeanTargetEncoderNoise(categorical=object_cols, numeric=num_cols)\n",
    "transformer.fit(X_train, y_train)\n",
    "\n",
    "train = transformer.transform(X_train)\n",
    "test = transformer.transform(X_test)\n",
    "\n",
    "train.head(10)"
   ]
  },
  {
   "cell_type": "code",
   "execution_count": 14,
   "id": "7e977819-e5e6-412d-a85b-4cf986287232",
   "metadata": {},
   "outputs": [],
   "source": [
    "pd.concat([X_train[['km_driven']], train.drop(['km_driven'], axis=1)], axis=1) \\\n",
    "    .reset_index(drop=True).head(10).to_csv('mte_results.csv', sep=';', index=False)"
   ]
  },
  {
   "cell_type": "markdown",
   "id": "7252afef-60be-439c-bc8f-624ef1b42c62",
   "metadata": {},
   "source": [
    "### Task 5"
   ]
  },
  {
   "cell_type": "markdown",
   "id": "6a34ddda-9c64-45f2-96fb-28b15c222af4",
   "metadata": {},
   "source": [
    "Find best MSLE for `max_depth_list` hyperparameter. "
   ]
  },
  {
   "cell_type": "code",
   "execution_count": 15,
   "id": "546769ef-2013-4211-95c4-54675858614c",
   "metadata": {},
   "outputs": [],
   "source": [
    "max_depth_list = [3, 5, 8, 12]"
   ]
  },
  {
   "cell_type": "code",
   "execution_count": 16,
   "id": "61a9e03e-c0ce-4ccb-b140-6403222e483c",
   "metadata": {},
   "outputs": [],
   "source": [
    "from sklearn.metrics import mean_squared_error as mse\n",
    "from sklearn.tree import DecisionTreeRegressor\n",
    "from sklearn.pipeline import Pipeline\n",
    "\n",
    "\n",
    "np.random.seed(1)\n",
    "\n",
    "score_list_depth = []\n",
    "for depth in max_depth_list:\n",
    "    pipe = Pipeline([\n",
    "        ('transformer', MeanTargetEncoderNoise(categorical=object_cols, numeric=num_cols)),\n",
    "        ('dt', DecisionTreeRegressor(max_depth=depth))\n",
    "                      ])\n",
    "    pipe.fit(X_train, y_train)\n",
    "    score_list_depth.append(np.mean((pipe.predict(X_test) - y_test) ** 2))"
   ]
  },
  {
   "cell_type": "code",
   "execution_count": 17,
   "id": "c3eb2398-168e-4907-8293-15b78cc3eb7d",
   "metadata": {},
   "outputs": [
    {
     "data": {
      "text/plain": [
       "0.7978271003064052"
      ]
     },
     "execution_count": 17,
     "metadata": {},
     "output_type": "execute_result"
    }
   ],
   "source": [
    "min(score_list_depth)"
   ]
  },
  {
   "cell_type": "markdown",
   "id": "82d0351f-8c2d-40ab-a54b-ed22c038425e",
   "metadata": {},
   "source": [
    "### Task 6"
   ]
  },
  {
   "cell_type": "markdown",
   "id": "b021dd3b-a2c8-4ee0-b1a1-b9a143f68998",
   "metadata": {},
   "source": [
    "Find best MSLE for `min_samples_split_list` hyperparameter. "
   ]
  },
  {
   "cell_type": "code",
   "execution_count": 18,
   "id": "61b67487-6a65-4316-af39-33aea4cabc67",
   "metadata": {},
   "outputs": [],
   "source": [
    "min_samples_split_list = [10, 50, 100, 500]"
   ]
  },
  {
   "cell_type": "code",
   "execution_count": 19,
   "id": "bfc2cfe9-e734-4a81-87fe-4ff1e818cf92",
   "metadata": {},
   "outputs": [],
   "source": [
    "np.random.seed(1)\n",
    "\n",
    "score_list_samples = []\n",
    "for samples in min_samples_split_list:\n",
    "    pipe = Pipeline([\n",
    "        ('transformer', MeanTargetEncoderNoise(categorical=object_cols, numeric=num_cols)),\n",
    "        ('dt', DecisionTreeRegressor(min_samples_split=samples))\n",
    "                      ])\n",
    "    pipe.fit(X_train, y_train)\n",
    "    score_list_samples.append(np.mean((pipe.predict(X_test) - y_test) ** 2))"
   ]
  },
  {
   "cell_type": "code",
   "execution_count": 20,
   "id": "a56ee210-883e-4054-8bce-c6aa24e5a0d0",
   "metadata": {},
   "outputs": [
    {
     "data": {
      "text/plain": [
       "0.8077891374012252"
      ]
     },
     "execution_count": 20,
     "metadata": {},
     "output_type": "execute_result"
    }
   ],
   "source": [
    "min(score_list_samples)"
   ]
  },
  {
   "cell_type": "markdown",
   "id": "4c83d1d8-d6d3-4b59-8e4a-c0ffe9b67eb1",
   "metadata": {},
   "source": [
    "### Task 7"
   ]
  },
  {
   "cell_type": "markdown",
   "id": "84577aef-e761-4989-b26b-13dfdd6b5c55",
   "metadata": {},
   "source": [
    "Find best MSLE for `min_impurity_decrease_list` hyperparameter. "
   ]
  },
  {
   "cell_type": "code",
   "execution_count": 21,
   "id": "29c10f59-8c3b-4aba-b5dc-8ff4602738bf",
   "metadata": {},
   "outputs": [],
   "source": [
    "min_impurity_decrease_list = [0, 0.1, 0.15, 0.2]"
   ]
  },
  {
   "cell_type": "code",
   "execution_count": 22,
   "id": "b5c45eca-a3da-4403-b48d-3ac1e6ab22d2",
   "metadata": {},
   "outputs": [],
   "source": [
    "np.random.seed(1)\n",
    "\n",
    "score_list_impurity = []\n",
    "for impurity in min_impurity_decrease_list:\n",
    "    pipe = Pipeline([\n",
    "        ('transformer', MeanTargetEncoderNoise(categorical=object_cols, numeric=num_cols)),\n",
    "        ('dt', DecisionTreeRegressor(min_impurity_decrease=impurity))\n",
    "                      ])\n",
    "    pipe.fit(X_train, y_train)\n",
    "    score_list_impurity.append(np.mean((pipe.predict(X_test) - y_test) ** 2))"
   ]
  },
  {
   "cell_type": "code",
   "execution_count": 23,
   "id": "d9c0ccc7-6127-48fc-95a6-29ba559e45a5",
   "metadata": {},
   "outputs": [
    {
     "data": {
      "text/plain": [
       "0.5189515041093508"
      ]
     },
     "execution_count": 23,
     "metadata": {},
     "output_type": "execute_result"
    }
   ],
   "source": [
    "min(score_list_impurity)"
   ]
  },
  {
   "cell_type": "markdown",
   "id": "e9124b50-bf5d-4586-b41f-0724f4594dd8",
   "metadata": {},
   "source": [
    "### Task 8"
   ]
  },
  {
   "cell_type": "markdown",
   "id": "2d73dfea-fec2-4b7f-ba6a-d395505b6b9d",
   "metadata": {},
   "source": [
    "Find best MSLE for `max_leaf_nodes_list` hyperparameter. "
   ]
  },
  {
   "cell_type": "code",
   "execution_count": 24,
   "id": "6d01d9d4-c9a6-4598-a749-1560d0fef40c",
   "metadata": {},
   "outputs": [],
   "source": [
    "max_leaf_nodes_list = [100, 200, 500]"
   ]
  },
  {
   "cell_type": "code",
   "execution_count": 25,
   "id": "a0699418-8555-468b-bc84-62d6974e2401",
   "metadata": {},
   "outputs": [],
   "source": [
    "np.random.seed(1)\n",
    "\n",
    "score_list_leaf = []\n",
    "for leaf in max_leaf_nodes_list:\n",
    "    pipe = Pipeline([\n",
    "        ('transformer', MeanTargetEncoderNoise(categorical=object_cols, numeric=num_cols)),\n",
    "        ('dt', DecisionTreeRegressor(max_leaf_nodes=leaf))\n",
    "                      ])\n",
    "    pipe.fit(X_train, y_train)\n",
    "    score_list_leaf.append(np.mean((pipe.predict(X_test) - y_test) ** 2))"
   ]
  },
  {
   "cell_type": "code",
   "execution_count": 26,
   "id": "56edf64b-d38c-4ace-a951-4c1b91b575e1",
   "metadata": {},
   "outputs": [
    {
     "data": {
      "text/plain": [
       "1.9813178457505742"
      ]
     },
     "execution_count": 26,
     "metadata": {},
     "output_type": "execute_result"
    }
   ],
   "source": [
    "min(score_list_leaf)"
   ]
  },
  {
   "cell_type": "markdown",
   "id": "05d682c3-05e8-4a0d-96ab-020315a83e2a",
   "metadata": {},
   "source": [
    "### Task 9"
   ]
  },
  {
   "cell_type": "markdown",
   "id": "65e082eb-a328-4852-a89d-bb50ccb056ef",
   "metadata": {},
   "source": [
    "Find the best combination of hyperparameters using `GridSearchCV`."
   ]
  },
  {
   "cell_type": "code",
   "execution_count": 27,
   "id": "7deedefc-7154-4fff-b76e-fba93d7496d8",
   "metadata": {},
   "outputs": [
    {
     "data": {
      "text/plain": [
       "{'memory': None,\n",
       " 'steps': [('transformer',\n",
       "   MeanTargetEncoderNoise(categorical=['name', 'year', 'fuel', 'seller_type',\n",
       "                                       'transmission', 'owner'],\n",
       "                          numeric=['km_driven'])),\n",
       "  ('dt', DecisionTreeRegressor(max_leaf_nodes=500))],\n",
       " 'verbose': False,\n",
       " 'transformer': MeanTargetEncoderNoise(categorical=['name', 'year', 'fuel', 'seller_type',\n",
       "                                     'transmission', 'owner'],\n",
       "                        numeric=['km_driven']),\n",
       " 'dt': DecisionTreeRegressor(max_leaf_nodes=500),\n",
       " 'transformer__categorical': ['name',\n",
       "  'year',\n",
       "  'fuel',\n",
       "  'seller_type',\n",
       "  'transmission',\n",
       "  'owner'],\n",
       " 'transformer__numeric': ['km_driven'],\n",
       " 'transformer__target': 'selling_price',\n",
       " 'dt__ccp_alpha': 0.0,\n",
       " 'dt__criterion': 'squared_error',\n",
       " 'dt__max_depth': None,\n",
       " 'dt__max_features': None,\n",
       " 'dt__max_leaf_nodes': 500,\n",
       " 'dt__min_impurity_decrease': 0.0,\n",
       " 'dt__min_samples_leaf': 1,\n",
       " 'dt__min_samples_split': 2,\n",
       " 'dt__min_weight_fraction_leaf': 0.0,\n",
       " 'dt__random_state': None,\n",
       " 'dt__splitter': 'best'}"
      ]
     },
     "execution_count": 27,
     "metadata": {},
     "output_type": "execute_result"
    }
   ],
   "source": [
    "pipe.get_params()"
   ]
  },
  {
   "cell_type": "code",
   "execution_count": 28,
   "id": "cf6f2b84-929b-4aa6-9f5c-59e6792ab9c0",
   "metadata": {},
   "outputs": [
    {
     "data": {
      "text/html": [
       "<style>#sk-container-id-1 {color: black;background-color: white;}#sk-container-id-1 pre{padding: 0;}#sk-container-id-1 div.sk-toggleable {background-color: white;}#sk-container-id-1 label.sk-toggleable__label {cursor: pointer;display: block;width: 100%;margin-bottom: 0;padding: 0.3em;box-sizing: border-box;text-align: center;}#sk-container-id-1 label.sk-toggleable__label-arrow:before {content: \"▸\";float: left;margin-right: 0.25em;color: #696969;}#sk-container-id-1 label.sk-toggleable__label-arrow:hover:before {color: black;}#sk-container-id-1 div.sk-estimator:hover label.sk-toggleable__label-arrow:before {color: black;}#sk-container-id-1 div.sk-toggleable__content {max-height: 0;max-width: 0;overflow: hidden;text-align: left;background-color: #f0f8ff;}#sk-container-id-1 div.sk-toggleable__content pre {margin: 0.2em;color: black;border-radius: 0.25em;background-color: #f0f8ff;}#sk-container-id-1 input.sk-toggleable__control:checked~div.sk-toggleable__content {max-height: 200px;max-width: 100%;overflow: auto;}#sk-container-id-1 input.sk-toggleable__control:checked~label.sk-toggleable__label-arrow:before {content: \"▾\";}#sk-container-id-1 div.sk-estimator input.sk-toggleable__control:checked~label.sk-toggleable__label {background-color: #d4ebff;}#sk-container-id-1 div.sk-label input.sk-toggleable__control:checked~label.sk-toggleable__label {background-color: #d4ebff;}#sk-container-id-1 input.sk-hidden--visually {border: 0;clip: rect(1px 1px 1px 1px);clip: rect(1px, 1px, 1px, 1px);height: 1px;margin: -1px;overflow: hidden;padding: 0;position: absolute;width: 1px;}#sk-container-id-1 div.sk-estimator {font-family: monospace;background-color: #f0f8ff;border: 1px dotted black;border-radius: 0.25em;box-sizing: border-box;margin-bottom: 0.5em;}#sk-container-id-1 div.sk-estimator:hover {background-color: #d4ebff;}#sk-container-id-1 div.sk-parallel-item::after {content: \"\";width: 100%;border-bottom: 1px solid gray;flex-grow: 1;}#sk-container-id-1 div.sk-label:hover label.sk-toggleable__label {background-color: #d4ebff;}#sk-container-id-1 div.sk-serial::before {content: \"\";position: absolute;border-left: 1px solid gray;box-sizing: border-box;top: 0;bottom: 0;left: 50%;z-index: 0;}#sk-container-id-1 div.sk-serial {display: flex;flex-direction: column;align-items: center;background-color: white;padding-right: 0.2em;padding-left: 0.2em;position: relative;}#sk-container-id-1 div.sk-item {position: relative;z-index: 1;}#sk-container-id-1 div.sk-parallel {display: flex;align-items: stretch;justify-content: center;background-color: white;position: relative;}#sk-container-id-1 div.sk-item::before, #sk-container-id-1 div.sk-parallel-item::before {content: \"\";position: absolute;border-left: 1px solid gray;box-sizing: border-box;top: 0;bottom: 0;left: 50%;z-index: -1;}#sk-container-id-1 div.sk-parallel-item {display: flex;flex-direction: column;z-index: 1;position: relative;background-color: white;}#sk-container-id-1 div.sk-parallel-item:first-child::after {align-self: flex-end;width: 50%;}#sk-container-id-1 div.sk-parallel-item:last-child::after {align-self: flex-start;width: 50%;}#sk-container-id-1 div.sk-parallel-item:only-child::after {width: 0;}#sk-container-id-1 div.sk-dashed-wrapped {border: 1px dashed gray;margin: 0 0.4em 0.5em 0.4em;box-sizing: border-box;padding-bottom: 0.4em;background-color: white;}#sk-container-id-1 div.sk-label label {font-family: monospace;font-weight: bold;display: inline-block;line-height: 1.2em;}#sk-container-id-1 div.sk-label-container {text-align: center;}#sk-container-id-1 div.sk-container {/* jupyter's `normalize.less` sets `[hidden] { display: none; }` but bootstrap.min.css set `[hidden] { display: none !important; }` so we also need the `!important` here to be able to override the default hidden behavior on the sphinx rendered scikit-learn.org. See: https://github.com/scikit-learn/scikit-learn/issues/21755 */display: inline-block !important;position: relative;}#sk-container-id-1 div.sk-text-repr-fallback {display: none;}</style><div id=\"sk-container-id-1\" class=\"sk-top-container\"><div class=\"sk-text-repr-fallback\"><pre>GridSearchCV(estimator=Pipeline(steps=[(&#x27;transformer&#x27;,\n",
       "                                        MeanTargetEncoderNoise(categorical=[&#x27;name&#x27;,\n",
       "                                                                            &#x27;year&#x27;,\n",
       "                                                                            &#x27;fuel&#x27;,\n",
       "                                                                            &#x27;seller_type&#x27;,\n",
       "                                                                            &#x27;transmission&#x27;,\n",
       "                                                                            &#x27;owner&#x27;],\n",
       "                                                               numeric=[&#x27;km_driven&#x27;])),\n",
       "                                       (&#x27;dt&#x27;, DecisionTreeRegressor())]),\n",
       "             param_grid={&#x27;dt__max_depth&#x27;: [3, 5, 8, 12],\n",
       "                         &#x27;dt__max_leaf_nodes&#x27;: [100, 200, 500],\n",
       "                         &#x27;dt__min_impurity_decrease&#x27;: [0, 0.1, 0.15, 0.2],\n",
       "                         &#x27;dt__min_samples_split&#x27;: [10, 50, 100, 500]},\n",
       "             scoring=&#x27;neg_mean_squared_error&#x27;)</pre><b>In a Jupyter environment, please rerun this cell to show the HTML representation or trust the notebook. <br />On GitHub, the HTML representation is unable to render, please try loading this page with nbviewer.org.</b></div><div class=\"sk-container\" hidden><div class=\"sk-item sk-dashed-wrapped\"><div class=\"sk-label-container\"><div class=\"sk-label sk-toggleable\"><input class=\"sk-toggleable__control sk-hidden--visually\" id=\"sk-estimator-id-1\" type=\"checkbox\" ><label for=\"sk-estimator-id-1\" class=\"sk-toggleable__label sk-toggleable__label-arrow\">GridSearchCV</label><div class=\"sk-toggleable__content\"><pre>GridSearchCV(estimator=Pipeline(steps=[(&#x27;transformer&#x27;,\n",
       "                                        MeanTargetEncoderNoise(categorical=[&#x27;name&#x27;,\n",
       "                                                                            &#x27;year&#x27;,\n",
       "                                                                            &#x27;fuel&#x27;,\n",
       "                                                                            &#x27;seller_type&#x27;,\n",
       "                                                                            &#x27;transmission&#x27;,\n",
       "                                                                            &#x27;owner&#x27;],\n",
       "                                                               numeric=[&#x27;km_driven&#x27;])),\n",
       "                                       (&#x27;dt&#x27;, DecisionTreeRegressor())]),\n",
       "             param_grid={&#x27;dt__max_depth&#x27;: [3, 5, 8, 12],\n",
       "                         &#x27;dt__max_leaf_nodes&#x27;: [100, 200, 500],\n",
       "                         &#x27;dt__min_impurity_decrease&#x27;: [0, 0.1, 0.15, 0.2],\n",
       "                         &#x27;dt__min_samples_split&#x27;: [10, 50, 100, 500]},\n",
       "             scoring=&#x27;neg_mean_squared_error&#x27;)</pre></div></div></div><div class=\"sk-parallel\"><div class=\"sk-parallel-item\"><div class=\"sk-item\"><div class=\"sk-label-container\"><div class=\"sk-label sk-toggleable\"><input class=\"sk-toggleable__control sk-hidden--visually\" id=\"sk-estimator-id-2\" type=\"checkbox\" ><label for=\"sk-estimator-id-2\" class=\"sk-toggleable__label sk-toggleable__label-arrow\">estimator: Pipeline</label><div class=\"sk-toggleable__content\"><pre>Pipeline(steps=[(&#x27;transformer&#x27;,\n",
       "                 MeanTargetEncoderNoise(categorical=[&#x27;name&#x27;, &#x27;year&#x27;, &#x27;fuel&#x27;,\n",
       "                                                     &#x27;seller_type&#x27;,\n",
       "                                                     &#x27;transmission&#x27;, &#x27;owner&#x27;],\n",
       "                                        numeric=[&#x27;km_driven&#x27;])),\n",
       "                (&#x27;dt&#x27;, DecisionTreeRegressor())])</pre></div></div></div><div class=\"sk-serial\"><div class=\"sk-item\"><div class=\"sk-serial\"><div class=\"sk-item\"><div class=\"sk-estimator sk-toggleable\"><input class=\"sk-toggleable__control sk-hidden--visually\" id=\"sk-estimator-id-3\" type=\"checkbox\" ><label for=\"sk-estimator-id-3\" class=\"sk-toggleable__label sk-toggleable__label-arrow\">MeanTargetEncoderNoise</label><div class=\"sk-toggleable__content\"><pre>MeanTargetEncoderNoise(categorical=[&#x27;name&#x27;, &#x27;year&#x27;, &#x27;fuel&#x27;, &#x27;seller_type&#x27;,\n",
       "                                    &#x27;transmission&#x27;, &#x27;owner&#x27;],\n",
       "                       numeric=[&#x27;km_driven&#x27;])</pre></div></div></div><div class=\"sk-item\"><div class=\"sk-estimator sk-toggleable\"><input class=\"sk-toggleable__control sk-hidden--visually\" id=\"sk-estimator-id-4\" type=\"checkbox\" ><label for=\"sk-estimator-id-4\" class=\"sk-toggleable__label sk-toggleable__label-arrow\">DecisionTreeRegressor</label><div class=\"sk-toggleable__content\"><pre>DecisionTreeRegressor()</pre></div></div></div></div></div></div></div></div></div></div></div></div>"
      ],
      "text/plain": [
       "GridSearchCV(estimator=Pipeline(steps=[('transformer',\n",
       "                                        MeanTargetEncoderNoise(categorical=['name',\n",
       "                                                                            'year',\n",
       "                                                                            'fuel',\n",
       "                                                                            'seller_type',\n",
       "                                                                            'transmission',\n",
       "                                                                            'owner'],\n",
       "                                                               numeric=['km_driven'])),\n",
       "                                       ('dt', DecisionTreeRegressor())]),\n",
       "             param_grid={'dt__max_depth': [3, 5, 8, 12],\n",
       "                         'dt__max_leaf_nodes': [100, 200, 500],\n",
       "                         'dt__min_impurity_decrease': [0, 0.1, 0.15, 0.2],\n",
       "                         'dt__min_samples_split': [10, 50, 100, 500]},\n",
       "             scoring='neg_mean_squared_error')"
      ]
     },
     "execution_count": 28,
     "metadata": {},
     "output_type": "execute_result"
    }
   ],
   "source": [
    "from sklearn.model_selection import GridSearchCV\n",
    "\n",
    "\n",
    "param_grid = {\n",
    "    'dt__max_depth': [3, 5, 8, 12],\n",
    "    'dt__min_samples_split': [10, 50, 100, 500],\n",
    "    'dt__min_impurity_decrease': [0, 0.1, 0.15, 0.2],\n",
    "    'dt__max_leaf_nodes': [100, 200, 500]\n",
    "}\n",
    "\n",
    "np.random.seed(1)\n",
    "pipe = Pipeline([('transformer', MeanTargetEncoderNoise(categorical=object_cols, numeric=num_cols)),\n",
    "                 ('dt', DecisionTreeRegressor())])\n",
    "\n",
    "search = GridSearchCV(pipe, param_grid, scoring='neg_mean_squared_error')\n",
    "\n",
    "search.fit(X_train, y_train)"
   ]
  },
  {
   "cell_type": "code",
   "execution_count": 29,
   "id": "03bb39d5-eee9-4f56-8eb6-286c98144152",
   "metadata": {},
   "outputs": [
    {
     "data": {
      "text/plain": [
       "{'dt__max_depth': 12,\n",
       " 'dt__max_leaf_nodes': 200,\n",
       " 'dt__min_impurity_decrease': 0.1,\n",
       " 'dt__min_samples_split': 100}"
      ]
     },
     "execution_count": 29,
     "metadata": {},
     "output_type": "execute_result"
    }
   ],
   "source": [
    "search.best_params_"
   ]
  },
  {
   "cell_type": "code",
   "execution_count": 30,
   "id": "208e5b62-a69b-4ff0-a2b0-9b38cc4177f0",
   "metadata": {},
   "outputs": [
    {
     "data": {
      "text/plain": [
       "-0.5200098587235225"
      ]
     },
     "execution_count": 30,
     "metadata": {},
     "output_type": "execute_result"
    }
   ],
   "source": [
    "search.score(X_test, y_test)"
   ]
  }
 ],
 "metadata": {
  "kernelspec": {
   "display_name": "Python 3 (ipykernel)",
   "language": "python",
   "name": "python3"
  },
  "language_info": {
   "codemirror_mode": {
    "name": "ipython",
    "version": 3
   },
   "file_extension": ".py",
   "mimetype": "text/x-python",
   "name": "python",
   "nbconvert_exporter": "python",
   "pygments_lexer": "ipython3",
   "version": "3.8.10"
  }
 },
 "nbformat": 4,
 "nbformat_minor": 5
}
