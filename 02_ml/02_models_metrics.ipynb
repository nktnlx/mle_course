{
 "cells": [
  {
   "cell_type": "markdown",
   "id": "cb747a0a-d5db-46b4-90d2-585621f1c44a",
   "metadata": {},
   "source": [
    "# Models metrics"
   ]
  },
  {
   "cell_type": "markdown",
   "id": "1350911d-b651-44ec-8555-88aeb7bd991f",
   "metadata": {},
   "source": [
    "## Dataset Description "
   ]
  },
  {
   "cell_type": "markdown",
   "id": "4233983b-4db1-4d10-a2f4-c220e4004107",
   "metadata": {},
   "source": [
    "- `id` - Trip ID\n",
    "- `vendor_id` - ID of the transportation company\n",
    "- `pickup_datetime` - Timestamp of the trip start\n",
    "- `dropoff_datetime` - Timestamp of the trip end\n",
    "- `passenger_count` - Number of passengers\n",
    "- `pickup_longitude` - Longitude of the pickup location\n",
    "- `pickup_latitude` - Latitude of the pickup location\n",
    "- `dropoff_longitude` - Longitude of the dropoff location\n",
    "- `dropoff_latitude` - Latitude of the dropoff location\n",
    "- `store_and_fwd_flag` - Yes/No: Was the information stored in the vehicle's memory due to loss of connection with the server"
   ]
  },
  {
   "cell_type": "markdown",
   "id": "c754b9c7-501f-465f-9160-5ca29185e2cc",
   "metadata": {},
   "source": [
    "## Tasks"
   ]
  },
  {
   "cell_type": "markdown",
   "id": "6a08a8d8-37a7-4a4e-b354-4db6e2f16a56",
   "metadata": {},
   "source": [
    "### Task 1"
   ]
  },
  {
   "cell_type": "markdown",
   "id": "bdbe5dc3-20db-4123-87a8-c13481055a28",
   "metadata": {},
   "source": [
    "Calculate MSE for two predictions we have in our data. "
   ]
  },
  {
   "cell_type": "code",
   "execution_count": 1,
   "id": "fc38d53b-fc57-4610-bbc6-16e24700591a",
   "metadata": {},
   "outputs": [],
   "source": [
    "import pandas as pd\n",
    "import numpy as np"
   ]
  },
  {
   "cell_type": "code",
   "execution_count": 2,
   "id": "7d5a1ca3-71c0-4e14-a4a7-d4878712ff3d",
   "metadata": {},
   "outputs": [],
   "source": [
    "df = pd.read_csv('taxi_dataset_with_predictions.csv', index_col=0)"
   ]
  },
  {
   "cell_type": "code",
   "execution_count": 3,
   "id": "dcb31fdc-1cac-495c-9c98-f7faea6d6dc0",
   "metadata": {},
   "outputs": [
    {
     "data": {
      "text/html": [
       "<div>\n",
       "<style scoped>\n",
       "    .dataframe tbody tr th:only-of-type {\n",
       "        vertical-align: middle;\n",
       "    }\n",
       "\n",
       "    .dataframe tbody tr th {\n",
       "        vertical-align: top;\n",
       "    }\n",
       "\n",
       "    .dataframe thead th {\n",
       "        text-align: right;\n",
       "    }\n",
       "</style>\n",
       "<table border=\"1\" class=\"dataframe\">\n",
       "  <thead>\n",
       "    <tr style=\"text-align: right;\">\n",
       "      <th></th>\n",
       "      <th>vendor_id</th>\n",
       "      <th>pickup_datetime</th>\n",
       "      <th>passenger_count</th>\n",
       "      <th>store_and_fwd_flag</th>\n",
       "      <th>trip_duration</th>\n",
       "      <th>distance_km</th>\n",
       "      <th>prediction_1</th>\n",
       "      <th>prediction_2</th>\n",
       "    </tr>\n",
       "    <tr>\n",
       "      <th>id</th>\n",
       "      <th></th>\n",
       "      <th></th>\n",
       "      <th></th>\n",
       "      <th></th>\n",
       "      <th></th>\n",
       "      <th></th>\n",
       "      <th></th>\n",
       "      <th></th>\n",
       "    </tr>\n",
       "  </thead>\n",
       "  <tbody>\n",
       "    <tr>\n",
       "      <th>id2875421</th>\n",
       "      <td>1</td>\n",
       "      <td>2016-03-14 17:24:55</td>\n",
       "      <td>930.399753</td>\n",
       "      <td>0</td>\n",
       "      <td>455.0</td>\n",
       "      <td>1.500479</td>\n",
       "      <td>578.156451</td>\n",
       "      <td>355.270710</td>\n",
       "    </tr>\n",
       "    <tr>\n",
       "      <th>id2377394</th>\n",
       "      <td>0</td>\n",
       "      <td>2016-06-12 00:43:35</td>\n",
       "      <td>930.399753</td>\n",
       "      <td>0</td>\n",
       "      <td>663.0</td>\n",
       "      <td>1.807119</td>\n",
       "      <td>962.657188</td>\n",
       "      <td>674.295781</td>\n",
       "    </tr>\n",
       "    <tr>\n",
       "      <th>id3858529</th>\n",
       "      <td>1</td>\n",
       "      <td>2016-01-19 11:35:24</td>\n",
       "      <td>930.399753</td>\n",
       "      <td>0</td>\n",
       "      <td>2124.0</td>\n",
       "      <td>6.392080</td>\n",
       "      <td>2546.180515</td>\n",
       "      <td>2422.132431</td>\n",
       "    </tr>\n",
       "    <tr>\n",
       "      <th>id3504673</th>\n",
       "      <td>1</td>\n",
       "      <td>2016-04-06 19:32:31</td>\n",
       "      <td>930.399753</td>\n",
       "      <td>0</td>\n",
       "      <td>429.0</td>\n",
       "      <td>1.487155</td>\n",
       "      <td>737.926214</td>\n",
       "      <td>795.992362</td>\n",
       "    </tr>\n",
       "    <tr>\n",
       "      <th>id2181028</th>\n",
       "      <td>1</td>\n",
       "      <td>2016-03-26 13:30:55</td>\n",
       "      <td>930.399753</td>\n",
       "      <td>0</td>\n",
       "      <td>435.0</td>\n",
       "      <td>1.189925</td>\n",
       "      <td>666.070794</td>\n",
       "      <td>-4.158492</td>\n",
       "    </tr>\n",
       "  </tbody>\n",
       "</table>\n",
       "</div>"
      ],
      "text/plain": [
       "           vendor_id      pickup_datetime  passenger_count  \\\n",
       "id                                                           \n",
       "id2875421          1  2016-03-14 17:24:55       930.399753   \n",
       "id2377394          0  2016-06-12 00:43:35       930.399753   \n",
       "id3858529          1  2016-01-19 11:35:24       930.399753   \n",
       "id3504673          1  2016-04-06 19:32:31       930.399753   \n",
       "id2181028          1  2016-03-26 13:30:55       930.399753   \n",
       "\n",
       "           store_and_fwd_flag  trip_duration  distance_km  prediction_1  \\\n",
       "id                                                                        \n",
       "id2875421                   0          455.0     1.500479    578.156451   \n",
       "id2377394                   0          663.0     1.807119    962.657188   \n",
       "id3858529                   0         2124.0     6.392080   2546.180515   \n",
       "id3504673                   0          429.0     1.487155    737.926214   \n",
       "id2181028                   0          435.0     1.189925    666.070794   \n",
       "\n",
       "           prediction_2  \n",
       "id                       \n",
       "id2875421    355.270710  \n",
       "id2377394    674.295781  \n",
       "id3858529   2422.132431  \n",
       "id3504673    795.992362  \n",
       "id2181028     -4.158492  "
      ]
     },
     "execution_count": 3,
     "metadata": {},
     "output_type": "execute_result"
    }
   ],
   "source": [
    "df.head()"
   ]
  },
  {
   "cell_type": "code",
   "execution_count": 4,
   "id": "316a994a-0afc-4851-a22d-2128c28c7b65",
   "metadata": {},
   "outputs": [
    {
     "name": "stdout",
     "output_type": "stream",
     "text": [
      "<class 'pandas.core.frame.DataFrame'>\n",
      "Index: 1458644 entries, id2875421 to id1209952\n",
      "Data columns (total 8 columns):\n",
      " #   Column              Non-Null Count    Dtype  \n",
      "---  ------              --------------    -----  \n",
      " 0   vendor_id           1458644 non-null  int64  \n",
      " 1   pickup_datetime     1458644 non-null  object \n",
      " 2   passenger_count     1458644 non-null  float64\n",
      " 3   store_and_fwd_flag  1458644 non-null  int64  \n",
      " 4   trip_duration       1458644 non-null  float64\n",
      " 5   distance_km         1458644 non-null  float64\n",
      " 6   prediction_1        1458644 non-null  float64\n",
      " 7   prediction_2        1458644 non-null  float64\n",
      "dtypes: float64(5), int64(2), object(1)\n",
      "memory usage: 100.2+ MB\n"
     ]
    }
   ],
   "source": [
    "df.info()"
   ]
  },
  {
   "cell_type": "code",
   "execution_count": 5,
   "id": "b4e798fd-70c0-4a56-82d3-9a69ebcb0063",
   "metadata": {},
   "outputs": [],
   "source": [
    "error_1 = np.mean(((df['trip_duration'] - df['prediction_1'])**2).to_list())\n",
    "error_2 = np.mean(((df['trip_duration'] - df['prediction_2'])**2).to_list())"
   ]
  },
  {
   "cell_type": "code",
   "execution_count": 6,
   "id": "c7170afc-62b9-4721-b30a-2b314d14c757",
   "metadata": {},
   "outputs": [
    {
     "name": "stdout",
     "output_type": "stream",
     "text": [
      "MSE prediction_1: 99994\n",
      "MSE prediction_1: 124936\n"
     ]
    }
   ],
   "source": [
    "print(f'MSE prediction_1: {int(error_1)}')\n",
    "print(f'MSE prediction_1: {int(error_2)}')"
   ]
  },
  {
   "cell_type": "markdown",
   "id": "54372a63-0de8-4ad6-b8ab-24577a168866",
   "metadata": {},
   "source": [
    "### Task 2"
   ]
  },
  {
   "cell_type": "markdown",
   "id": "167a774a-2abb-48aa-8010-64968fe0181f",
   "metadata": {},
   "source": [
    "Calculate RMSE for both predictions. "
   ]
  },
  {
   "cell_type": "code",
   "execution_count": 7,
   "id": "32f8bef3-e20d-4082-9db2-df5b36a70fa2",
   "metadata": {},
   "outputs": [],
   "source": [
    "### Your code is here\n",
    "error_1 = (error_1) ** .5\n",
    "error_2 = (error_2) ** .5"
   ]
  },
  {
   "cell_type": "code",
   "execution_count": 8,
   "id": "9cb0e762-a983-44c4-9d20-2e370807ab53",
   "metadata": {},
   "outputs": [
    {
     "name": "stdout",
     "output_type": "stream",
     "text": [
      "RMSE prediction_1: 316\n",
      "RMSE prediction_1: 353\n"
     ]
    }
   ],
   "source": [
    "print(f'RMSE prediction_1: {int(error_1)}')\n",
    "print(f'RMSE prediction_1: {int(error_2)}')"
   ]
  },
  {
   "cell_type": "markdown",
   "id": "56015b10-4f8d-4630-823c-ef0b5a9e5ebd",
   "metadata": {},
   "source": [
    "### Task 3"
   ]
  },
  {
   "cell_type": "markdown",
   "id": "b24dd3a9-722b-4ad7-b1bc-b0c0f34707de",
   "metadata": {},
   "source": [
    "Calculate MAE for both predictions. "
   ]
  },
  {
   "cell_type": "code",
   "execution_count": 9,
   "id": "e02db803-ea8a-4096-88b2-b643b41d89ed",
   "metadata": {},
   "outputs": [],
   "source": [
    "absolute_error_1 = np.mean((abs(df['trip_duration'] - df['prediction_1'])).to_list())\n",
    "absolute_error_2 = np.mean((abs(df['trip_duration'] - df['prediction_2'])).to_list())"
   ]
  },
  {
   "cell_type": "code",
   "execution_count": 10,
   "id": "da742562-f425-4d86-95aa-25ff7a629ae9",
   "metadata": {},
   "outputs": [
    {
     "name": "stdout",
     "output_type": "stream",
     "text": [
      "MAE prediction_1: 300\n",
      "MAE prediction_2: 281\n"
     ]
    }
   ],
   "source": [
    "print(f'MAE prediction_1: {int(absolute_error_1)}')\n",
    "print(f'MAE prediction_2: {int(absolute_error_2)}')"
   ]
  },
  {
   "cell_type": "markdown",
   "id": "6d83296a-37e6-483f-9f44-d194b5295f03",
   "metadata": {},
   "source": [
    "### Task 4"
   ]
  },
  {
   "cell_type": "markdown",
   "id": "f675c57b-a160-48c7-8e17-072d6be3213d",
   "metadata": {},
   "source": [
    "How often do the predictions of the first and the second models differ by more than 500 from the actual answer?"
   ]
  },
  {
   "cell_type": "code",
   "execution_count": 11,
   "id": "99698ac1-2b90-4be0-9c6f-c7a0317f610e",
   "metadata": {},
   "outputs": [],
   "source": [
    "counter_1 = sum([1 if abs(x - y) >= 500 else 0 for x, y in zip(df['prediction_1'].to_list(), df['trip_duration'].to_list())])\n",
    "counter_2 = sum([1 if abs(x - y) >= 500 else 0 for x, y in zip(df['prediction_2'].to_list(), df['trip_duration'].to_list())])"
   ]
  },
  {
   "cell_type": "code",
   "execution_count": 12,
   "id": "7f49ca47-d251-4b00-bc20-814dd9a6ea9e",
   "metadata": {},
   "outputs": [
    {
     "name": "stdout",
     "output_type": "stream",
     "text": [
      "The amount of deviations >= 500 for the first model: 33061\n",
      "The amount of deviations >= 500 for the second model: 228789\n"
     ]
    }
   ],
   "source": [
    "print(f'The amount of deviations >= 500 for the first model: {counter_1}')\n",
    "print(f'The amount of deviations >= 500 for the second model: {counter_2}')"
   ]
  },
  {
   "cell_type": "markdown",
   "id": "4868e0a2-a3a5-41f9-8488-b2373947bc3e",
   "metadata": {},
   "source": [
    "### Task 5"
   ]
  },
  {
   "cell_type": "markdown",
   "id": "4e5db748-292f-4de2-944f-6c84876727d9",
   "metadata": {},
   "source": [
    "Calculate RMSLE for both predictions. "
   ]
  },
  {
   "cell_type": "code",
   "execution_count": 13,
   "id": "df89c31a-c263-4512-9d40-fa4a455101d4",
   "metadata": {},
   "outputs": [],
   "source": [
    "# first we need to replace all negative answers with 0\n",
    "pred_1 = [0 if x < 0 else x for x in df['prediction_1'].to_list()]\n",
    "pred_2 = [0 if x < 0 else x for x in df['prediction_2'].to_list()]"
   ]
  },
  {
   "cell_type": "code",
   "execution_count": 14,
   "id": "fbdc163c-8ab4-4d13-9690-4f96df9d8b58",
   "metadata": {},
   "outputs": [],
   "source": [
    "from math import log\n",
    "\n",
    "\n",
    "rmsle_1 = (np.mean([(log(x + 1) - log(y + 1))**2 for x, y in zip(pred_1, df['trip_duration'].to_list())])) ** .5\n",
    "rmsle_2 = (np.mean([(log(x + 1) - log(y + 1))**2 for x, y in zip(pred_2, df['trip_duration'].to_list())])) ** .5"
   ]
  },
  {
   "cell_type": "code",
   "execution_count": 15,
   "id": "a815ab27-7a6c-4f39-8ee0-6bbb22bfcd50",
   "metadata": {},
   "outputs": [
    {
     "name": "stdout",
     "output_type": "stream",
     "text": [
      "RMSLE prediction_1: 0.554\n",
      "RMSLE prediction_2: 1.556\n"
     ]
    }
   ],
   "source": [
    "print(f'RMSLE prediction_1: {rmsle_1:.3f}')\n",
    "print(f'RMSLE prediction_2: {rmsle_2:.3f}')"
   ]
  },
  {
   "cell_type": "markdown",
   "id": "3d2f3ed4-0ac3-4b81-a890-8b156dd83054",
   "metadata": {},
   "source": [
    "### Task 6"
   ]
  },
  {
   "cell_type": "markdown",
   "id": "1c2e40a1-2c04-4616-ac55-f6105aec7228",
   "metadata": {},
   "source": [
    "Calculate how many times did the first model overpredicted and underpredicted our target. "
   ]
  },
  {
   "cell_type": "code",
   "execution_count": 16,
   "id": "aabe99c8-fc96-4d3d-a599-776eadf4f3bd",
   "metadata": {},
   "outputs": [],
   "source": [
    "over_predicted_1 = sum([1 if x - y > 0 else 0 for x, y in zip(pred_1, df['trip_duration'].to_list())])\n",
    "under_predicted_1 = sum([1 if x - y < 0 else 0 for x, y in zip(pred_1, df['trip_duration'].to_list())])"
   ]
  },
  {
   "cell_type": "code",
   "execution_count": 17,
   "id": "5cfd68ed-02a7-4966-b826-bb3a69914e7d",
   "metadata": {},
   "outputs": [
    {
     "name": "stdout",
     "output_type": "stream",
     "text": [
      "The first model overpredicted in 1456721 cases.\n",
      "The first model underpredicted in 1923 cases.\n"
     ]
    }
   ],
   "source": [
    "print(f'The first model overpredicted in {over_predicted_1} cases.')\n",
    "print(f'The first model underpredicted in {under_predicted_1} cases.')"
   ]
  },
  {
   "cell_type": "markdown",
   "id": "ee167b03-e519-4c6d-aa38-353edb3d3a17",
   "metadata": {},
   "source": [
    "### Task 7"
   ]
  },
  {
   "cell_type": "markdown",
   "id": "3d600ba2-306d-4235-aeb4-356fbd570b0c",
   "metadata": {},
   "source": [
    "Calculate how many times did the second model overpredicted and underpredicted our target. "
   ]
  },
  {
   "cell_type": "code",
   "execution_count": 18,
   "id": "058a08f8-e71c-456d-bb2d-e47480737da0",
   "metadata": {},
   "outputs": [],
   "source": [
    "over_predicted_2 = sum([1 if x - y > 0 else 0 for x, y in zip(pred_2, df['trip_duration'].to_list())])\n",
    "under_predicted_2 = sum([1 if x - y < 0 else 0 for x, y in zip(pred_2, df['trip_duration'].to_list())])"
   ]
  },
  {
   "cell_type": "code",
   "execution_count": 19,
   "id": "c36839ef-92e6-45ef-bcbc-cf3c13403046",
   "metadata": {},
   "outputs": [
    {
     "name": "stdout",
     "output_type": "stream",
     "text": [
      "The second model overpredicted in 811778 cases.\n",
      "The second model underpredicted in 646866 cases.\n"
     ]
    }
   ],
   "source": [
    "print(f'The second model overpredicted in {over_predicted_2} cases.')\n",
    "print(f'The second model underpredicted in {under_predicted_2} cases.')"
   ]
  },
  {
   "cell_type": "code",
   "execution_count": null,
   "id": "ea2b2029-098d-4c38-9c8b-24757eef047e",
   "metadata": {},
   "outputs": [],
   "source": []
  }
 ],
 "metadata": {
  "kernelspec": {
   "display_name": "Python 3 (ipykernel)",
   "language": "python",
   "name": "python3"
  },
  "language_info": {
   "codemirror_mode": {
    "name": "ipython",
    "version": 3
   },
   "file_extension": ".py",
   "mimetype": "text/x-python",
   "name": "python",
   "nbconvert_exporter": "python",
   "pygments_lexer": "ipython3",
   "version": "3.8.10"
  }
 },
 "nbformat": 4,
 "nbformat_minor": 5
}
