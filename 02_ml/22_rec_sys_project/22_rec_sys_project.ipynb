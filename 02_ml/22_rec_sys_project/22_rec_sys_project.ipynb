{
 "cells": [
  {
   "cell_type": "markdown",
   "id": "ade97874-17e9-45cb-85ec-36aaf13effac",
   "metadata": {},
   "source": [
    "# Rec Sys"
   ]
  },
  {
   "cell_type": "markdown",
   "id": "b62e0b7f-642c-4d7e-b428-c903c8c38788",
   "metadata": {},
   "source": [
    "## Предположения и что мы проверяем в решении проекта"
   ]
  },
  {
   "cell_type": "markdown",
   "id": "0b4843b6-4110-47d7-8d70-c844097a14ae",
   "metadata": {},
   "source": [
    "- На практике мы хотим достаточно быстро формировать рекомендации. Поэтому будем требовать, чтобы алгоритм работал не более, чем ~0.5 секунд на один запрос и занимал не более ~4 ГБ памяти (цифры приблизительные).\n",
    "- Набор пользователей фиксирован, и новых добавляться не будет.\n",
    "- Чекер будет проверять модель в рамках того же временного периода, что вы видите в базе данных.\n",
    "- Модели не обучаются заново при использовании сервисов. Мы ожидаем, что ваш код будет импортировать уже обученную модель и применять её."
   ]
  },
  {
   "cell_type": "markdown",
   "id": "b96cb580-2070-454f-8231-5f44b6ac2bac",
   "metadata": {},
   "source": [
    "## 0. Notes & Ideas"
   ]
  },
  {
   "cell_type": "code",
   "execution_count": 1,
   "id": "6d5b08cd-bee8-412f-a299-1fd4fd945155",
   "metadata": {},
   "outputs": [],
   "source": [
    "# - "
   ]
  },
  {
   "cell_type": "markdown",
   "id": "a1294791-48d7-422f-81ac-0e2df8c9257e",
   "metadata": {},
   "source": [
    "- Про таблицы. Предлагаю не усложнаять систму и работать с таблицей только для постов. Когда вы сделаете новые фичи для постов - сохраните их в одну таблицу, такого же размера, то есть примерно 7000 строк.\n",
    "- Про RAM. Для обучения вам достаточно 5 млн из фид таблицы- это правильно. "
   ]
  },
  {
   "cell_type": "markdown",
   "id": "aebb309e-bb86-4415-9ec2-702ceb6bbe75",
   "metadata": {},
   "source": [
    "**Несколько подсказок:**\n",
    "- Для того чтобы как раз не отдавать все данные мы и строим по сути модель машинного обучения.\n",
    "\n",
    "- В сервисе вам нужно будет выгрузить все строки с лайками, для того чтобы отфильтровать те посты которые нужный пользователь уже лайнул.\n",
    "\n",
    "- Работайте сразу в БД с sql запросом, чтобы сформировать нужный датасет из 5 млн строк. Для обучения вам не нужно прогонять обработки по всем данным."
   ]
  },
  {
   "cell_type": "markdown",
   "id": "75cc3a71-f65d-4b2b-b54e-8ba76ad9016e",
   "metadata": {},
   "source": [
    "- В сервисе загружайте только с action = 'like'\n",
    "- По поводу запроса при старте сервиса. Уменьшите количество столбцов до двух конкрентных столбцов, которые необходимы для работы сервиса + в запросе должно быть action = 'like'.\n",
    "- По поводу признаков для user - наибольшее качество дадут спроектированные признаки для постов, поэтому предлагаю, начать с них.\n",
    "- Параметр timestamp можно использовать как основу для своих фичей - таких как час дня, день месяца и тд. В фильтрации он не участвует."
   ]
  },
  {
   "cell_type": "markdown",
   "id": "abd9a4b1-d167-47d0-b052-a5630b1b592c",
   "metadata": {},
   "source": [
    "- Вы можете выгрузить лайкнутые посты уже в датафрейм и делать сортировку по датафреймам\n",
    "- В JupiterHub лучше не делать финальный проект т.к. там нет столько вычислительных ресурсов. Попробуйте обучать модель на google colab или kaggle"
   ]
  },
  {
   "cell_type": "markdown",
   "id": "416f9495-7afe-4a9f-941d-d7e2a5eab25c",
   "metadata": {},
   "source": [
    "- А зачем вам таблица feed для выдачи рекомендаций? таблица feed нужна для обучения така как имеет колонку target и взаимодействия юзер-пост.\n",
    "- Для сервиса, который будет делать рекомендации взаимодействия юзер-пост совсем не нужны. Нужны только юзера и посты как таковые.\n",
    "- А для ЛМС стоит возвращать таблицу, которая содержит инфомрацию о юзерах"
   ]
  },
  {
   "cell_type": "markdown",
   "id": "0e2797ef-c914-4ae9-88f9-c8dc8ddbe172",
   "metadata": {},
   "source": [
    "- Q: стоит оставлять только чистые признаки юзеров и постов без идентификаторов?  \n",
    "A: в итоговой модели не должно быть этих id. Датафрейм который подается в модель не должен содержать никаких id."
   ]
  },
  {
   "cell_type": "markdown",
   "id": "c25368cc-e005-4490-8fd6-fbce3ae0fa38",
   "metadata": {},
   "source": [
    "* Параметр `time` - вы можете его использовать в признаках модели, собрать например час дня, день недели и тд.\n",
    "Можно не использовать этот аргумент если у вас модель работает хорошо без таких признаков."
   ]
  },
  {
   "cell_type": "markdown",
   "id": "c3c72104-b8ac-4b84-bacd-4824448a2073",
   "metadata": {},
   "source": [
    "- надо будет убрать все запросы из эндпоинта, они 100% будут отрабатывать дольше,чем 0.5с\n",
    "- попробуйте взять больше данных, например 1М записей или 700к. \n",
    "- так же возможно обучать стоит менее глубокую модель"
   ]
  },
  {
   "cell_type": "markdown",
   "id": "0b45dd15-0388-4d11-80d2-32204e2afdf8",
   "metadata": {},
   "source": [
    "## 1. Загрузка данных из базы данных (БД) и обзор данных"
   ]
  },
  {
   "cell_type": "markdown",
   "id": "a6616f94-9b7b-48b7-b2b3-34a1512fb776",
   "metadata": {},
   "source": [
    "На первом этапе мы подключаемся к базе данных, выгружаем необходимые данные и загружаем их в Jupyter Hub для анализа. В этот момент цель — понять структуру данных, выявить возможные пропуски или аномалии, а также получить общее представление о распределении и составе данных. Анализ включает изучение признаков (features) и целевой переменной.\n",
    "\n"
   ]
  },
  {
   "cell_type": "code",
   "execution_count": 33,
   "id": "6cd48e3a-fb96-436c-988a-4d231fc061e5",
   "metadata": {},
   "outputs": [],
   "source": [
    "import pandas as pd\n",
    "import numpy as np\n",
    "from sqlalchemy import create_engine"
   ]
  },
  {
   "cell_type": "code",
   "execution_count": 2,
   "id": "46e0f4c3-a2cd-4918-a3c5-b1b377d6dc25",
   "metadata": {},
   "outputs": [],
   "source": [
    "engine = create_engine(\n",
    "    \"postgresql://robot-startml-ro:pheiph0hahj1Vaif@\"\n",
    "    \"postgres.lab.karpov.courses:6432/startml\"\n",
    ")"
   ]
  },
  {
   "cell_type": "markdown",
   "id": "971a4f84-47f3-4baa-96f0-f9d4e590acab",
   "metadata": {},
   "source": [
    "### USER_DATA"
   ]
  },
  {
   "cell_type": "code",
   "execution_count": 5,
   "id": "b8181044-752e-4b50-8dfb-beedd58f26fd",
   "metadata": {},
   "outputs": [],
   "source": [
    "user_df = pd.read_sql('SELECT * FROM \"user_data\"', con=engine)"
   ]
  },
  {
   "cell_type": "code",
   "execution_count": 6,
   "id": "68f0c121-3ad8-45b7-b5eb-34aa7414148e",
   "metadata": {},
   "outputs": [
    {
     "data": {
      "text/html": [
       "<div>\n",
       "<style scoped>\n",
       "    .dataframe tbody tr th:only-of-type {\n",
       "        vertical-align: middle;\n",
       "    }\n",
       "\n",
       "    .dataframe tbody tr th {\n",
       "        vertical-align: top;\n",
       "    }\n",
       "\n",
       "    .dataframe thead th {\n",
       "        text-align: right;\n",
       "    }\n",
       "</style>\n",
       "<table border=\"1\" class=\"dataframe\">\n",
       "  <thead>\n",
       "    <tr style=\"text-align: right;\">\n",
       "      <th></th>\n",
       "      <th>user_id</th>\n",
       "      <th>gender</th>\n",
       "      <th>age</th>\n",
       "      <th>country</th>\n",
       "      <th>city</th>\n",
       "      <th>exp_group</th>\n",
       "      <th>os</th>\n",
       "      <th>source</th>\n",
       "    </tr>\n",
       "  </thead>\n",
       "  <tbody>\n",
       "    <tr>\n",
       "      <th>0</th>\n",
       "      <td>200</td>\n",
       "      <td>1</td>\n",
       "      <td>34</td>\n",
       "      <td>Russia</td>\n",
       "      <td>Degtyarsk</td>\n",
       "      <td>3</td>\n",
       "      <td>Android</td>\n",
       "      <td>ads</td>\n",
       "    </tr>\n",
       "    <tr>\n",
       "      <th>1</th>\n",
       "      <td>201</td>\n",
       "      <td>0</td>\n",
       "      <td>37</td>\n",
       "      <td>Russia</td>\n",
       "      <td>Abakan</td>\n",
       "      <td>0</td>\n",
       "      <td>Android</td>\n",
       "      <td>ads</td>\n",
       "    </tr>\n",
       "    <tr>\n",
       "      <th>2</th>\n",
       "      <td>202</td>\n",
       "      <td>1</td>\n",
       "      <td>17</td>\n",
       "      <td>Russia</td>\n",
       "      <td>Smolensk</td>\n",
       "      <td>4</td>\n",
       "      <td>Android</td>\n",
       "      <td>ads</td>\n",
       "    </tr>\n",
       "    <tr>\n",
       "      <th>3</th>\n",
       "      <td>203</td>\n",
       "      <td>0</td>\n",
       "      <td>18</td>\n",
       "      <td>Russia</td>\n",
       "      <td>Moscow</td>\n",
       "      <td>1</td>\n",
       "      <td>iOS</td>\n",
       "      <td>ads</td>\n",
       "    </tr>\n",
       "    <tr>\n",
       "      <th>4</th>\n",
       "      <td>204</td>\n",
       "      <td>0</td>\n",
       "      <td>36</td>\n",
       "      <td>Russia</td>\n",
       "      <td>Anzhero-Sudzhensk</td>\n",
       "      <td>3</td>\n",
       "      <td>Android</td>\n",
       "      <td>ads</td>\n",
       "    </tr>\n",
       "    <tr>\n",
       "      <th>...</th>\n",
       "      <td>...</td>\n",
       "      <td>...</td>\n",
       "      <td>...</td>\n",
       "      <td>...</td>\n",
       "      <td>...</td>\n",
       "      <td>...</td>\n",
       "      <td>...</td>\n",
       "      <td>...</td>\n",
       "    </tr>\n",
       "    <tr>\n",
       "      <th>163200</th>\n",
       "      <td>168548</td>\n",
       "      <td>0</td>\n",
       "      <td>36</td>\n",
       "      <td>Russia</td>\n",
       "      <td>Kaliningrad</td>\n",
       "      <td>4</td>\n",
       "      <td>Android</td>\n",
       "      <td>organic</td>\n",
       "    </tr>\n",
       "    <tr>\n",
       "      <th>163201</th>\n",
       "      <td>168549</td>\n",
       "      <td>0</td>\n",
       "      <td>18</td>\n",
       "      <td>Russia</td>\n",
       "      <td>Tula</td>\n",
       "      <td>2</td>\n",
       "      <td>Android</td>\n",
       "      <td>organic</td>\n",
       "    </tr>\n",
       "    <tr>\n",
       "      <th>163202</th>\n",
       "      <td>168550</td>\n",
       "      <td>1</td>\n",
       "      <td>41</td>\n",
       "      <td>Russia</td>\n",
       "      <td>Yekaterinburg</td>\n",
       "      <td>4</td>\n",
       "      <td>Android</td>\n",
       "      <td>organic</td>\n",
       "    </tr>\n",
       "    <tr>\n",
       "      <th>163203</th>\n",
       "      <td>168551</td>\n",
       "      <td>0</td>\n",
       "      <td>38</td>\n",
       "      <td>Russia</td>\n",
       "      <td>Moscow</td>\n",
       "      <td>3</td>\n",
       "      <td>iOS</td>\n",
       "      <td>organic</td>\n",
       "    </tr>\n",
       "    <tr>\n",
       "      <th>163204</th>\n",
       "      <td>168552</td>\n",
       "      <td>1</td>\n",
       "      <td>16</td>\n",
       "      <td>Russia</td>\n",
       "      <td>Ivanteyevka</td>\n",
       "      <td>4</td>\n",
       "      <td>Android</td>\n",
       "      <td>organic</td>\n",
       "    </tr>\n",
       "  </tbody>\n",
       "</table>\n",
       "<p>163205 rows × 8 columns</p>\n",
       "</div>"
      ],
      "text/plain": [
       "        user_id  gender  age country               city  exp_group       os  \\\n",
       "0           200       1   34  Russia          Degtyarsk          3  Android   \n",
       "1           201       0   37  Russia             Abakan          0  Android   \n",
       "2           202       1   17  Russia           Smolensk          4  Android   \n",
       "3           203       0   18  Russia             Moscow          1      iOS   \n",
       "4           204       0   36  Russia  Anzhero-Sudzhensk          3  Android   \n",
       "...         ...     ...  ...     ...                ...        ...      ...   \n",
       "163200   168548       0   36  Russia        Kaliningrad          4  Android   \n",
       "163201   168549       0   18  Russia               Tula          2  Android   \n",
       "163202   168550       1   41  Russia      Yekaterinburg          4  Android   \n",
       "163203   168551       0   38  Russia             Moscow          3      iOS   \n",
       "163204   168552       1   16  Russia        Ivanteyevka          4  Android   \n",
       "\n",
       "         source  \n",
       "0           ads  \n",
       "1           ads  \n",
       "2           ads  \n",
       "3           ads  \n",
       "4           ads  \n",
       "...         ...  \n",
       "163200  organic  \n",
       "163201  organic  \n",
       "163202  organic  \n",
       "163203  organic  \n",
       "163204  organic  \n",
       "\n",
       "[163205 rows x 8 columns]"
      ]
     },
     "execution_count": 6,
     "metadata": {},
     "output_type": "execute_result"
    }
   ],
   "source": [
    "user_df"
   ]
  },
  {
   "cell_type": "code",
   "execution_count": 6,
   "id": "49c488b4-f7d6-410c-ba5e-6591723aa2dd",
   "metadata": {},
   "outputs": [
    {
     "data": {
      "text/plain": [
       "163205"
      ]
     },
     "execution_count": 6,
     "metadata": {},
     "output_type": "execute_result"
    }
   ],
   "source": [
    "user_df.user_id.nunique()"
   ]
  },
  {
   "cell_type": "code",
   "execution_count": 7,
   "id": "62fb538a-2f5b-4dfb-9181-35c332d41c54",
   "metadata": {},
   "outputs": [
    {
     "name": "stdout",
     "output_type": "stream",
     "text": [
      "<class 'pandas.core.frame.DataFrame'>\n",
      "RangeIndex: 163205 entries, 0 to 163204\n",
      "Data columns (total 8 columns):\n",
      " #   Column     Non-Null Count   Dtype \n",
      "---  ------     --------------   ----- \n",
      " 0   user_id    163205 non-null  int64 \n",
      " 1   gender     163205 non-null  int64 \n",
      " 2   age        163205 non-null  int64 \n",
      " 3   country    163205 non-null  object\n",
      " 4   city       163205 non-null  object\n",
      " 5   exp_group  163205 non-null  int64 \n",
      " 6   os         163205 non-null  object\n",
      " 7   source     163205 non-null  object\n",
      "dtypes: int64(4), object(4)\n",
      "memory usage: 44.5 MB\n"
     ]
    }
   ],
   "source": [
    "user_df.info(memory_usage='deep')"
   ]
  },
  {
   "cell_type": "code",
   "execution_count": 8,
   "id": "8e92386e-20c6-4848-9ae5-6d23d002935f",
   "metadata": {},
   "outputs": [
    {
     "data": {
      "text/plain": [
       "1    89980\n",
       "0    73225\n",
       "Name: gender, dtype: int64"
      ]
     },
     "execution_count": 8,
     "metadata": {},
     "output_type": "execute_result"
    }
   ],
   "source": [
    "user_df.gender.value_counts()"
   ]
  },
  {
   "cell_type": "code",
   "execution_count": 9,
   "id": "1fe317df-25a5-4391-8d63-5b16b2be5653",
   "metadata": {},
   "outputs": [
    {
     "data": {
      "text/plain": [
       "20    10280\n",
       "21    10139\n",
       "19     9802\n",
       "22     9049\n",
       "18     9034\n",
       "      ...  \n",
       "86        1\n",
       "83        1\n",
       "85        1\n",
       "92        1\n",
       "95        1\n",
       "Name: age, Length: 76, dtype: int64"
      ]
     },
     "execution_count": 9,
     "metadata": {},
     "output_type": "execute_result"
    }
   ],
   "source": [
    "user_df.age.value_counts()"
   ]
  },
  {
   "cell_type": "code",
   "execution_count": 10,
   "id": "2fddd048-17dc-4b81-b185-7ba460162928",
   "metadata": {},
   "outputs": [
    {
     "data": {
      "text/plain": [
       "count    163205.000000\n",
       "mean         27.195405\n",
       "std          10.239158\n",
       "min          14.000000\n",
       "1%           14.000000\n",
       "5%           16.000000\n",
       "25%          19.000000\n",
       "50%          24.000000\n",
       "75%          33.000000\n",
       "95%          48.000000\n",
       "99%          58.000000\n",
       "max          95.000000\n",
       "Name: age, dtype: float64"
      ]
     },
     "execution_count": 10,
     "metadata": {},
     "output_type": "execute_result"
    }
   ],
   "source": [
    "user_df.age.describe(percentiles=[.01, .05, .25, .5, .75, .95, .99])"
   ]
  },
  {
   "cell_type": "code",
   "execution_count": 11,
   "id": "651641cf-ae11-46a6-a929-f98a8a3518fe",
   "metadata": {},
   "outputs": [
    {
     "data": {
      "text/plain": [
       "Russia         143035\n",
       "Ukraine          8273\n",
       "Belarus          3293\n",
       "Kazakhstan       3172\n",
       "Turkey           1606\n",
       "Finland          1599\n",
       "Azerbaijan       1542\n",
       "Estonia           178\n",
       "Latvia            175\n",
       "Cyprus            170\n",
       "Switzerland       162\n",
       "Name: country, dtype: int64"
      ]
     },
     "execution_count": 11,
     "metadata": {},
     "output_type": "execute_result"
    }
   ],
   "source": [
    "user_df.country.value_counts()"
   ]
  },
  {
   "cell_type": "code",
   "execution_count": 12,
   "id": "15f81aee-f315-46b9-9c82-4d74d9d94e3f",
   "metadata": {},
   "outputs": [
    {
     "data": {
      "text/plain": [
       "3915"
      ]
     },
     "execution_count": 12,
     "metadata": {},
     "output_type": "execute_result"
    }
   ],
   "source": [
    "user_df.city.nunique()"
   ]
  },
  {
   "cell_type": "code",
   "execution_count": 13,
   "id": "43195870-25a3-4afb-b29d-7afecc9fbaed",
   "metadata": {},
   "outputs": [
    {
     "data": {
      "text/plain": [
       "Android    105972\n",
       "iOS         57233\n",
       "Name: os, dtype: int64"
      ]
     },
     "execution_count": 13,
     "metadata": {},
     "output_type": "execute_result"
    }
   ],
   "source": [
    "user_df.os.value_counts()"
   ]
  },
  {
   "cell_type": "code",
   "execution_count": 14,
   "id": "7c75a3a1-b8c6-46d9-8834-54c7b997cbed",
   "metadata": {},
   "outputs": [
    {
     "data": {
      "text/plain": [
       "ads        101685\n",
       "organic     61520\n",
       "Name: source, dtype: int64"
      ]
     },
     "execution_count": 14,
     "metadata": {},
     "output_type": "execute_result"
    }
   ],
   "source": [
    "user_df.source.value_counts()"
   ]
  },
  {
   "cell_type": "code",
   "execution_count": 15,
   "id": "ee522de1-fbbd-4647-a8f7-9616c553402e",
   "metadata": {},
   "outputs": [
    {
     "data": {
      "text/plain": [
       "3    32768\n",
       "0    32723\n",
       "1    32638\n",
       "2    32614\n",
       "4    32462\n",
       "Name: exp_group, dtype: int64"
      ]
     },
     "execution_count": 15,
     "metadata": {},
     "output_type": "execute_result"
    }
   ],
   "source": [
    "user_df.exp_group.value_counts()"
   ]
  },
  {
   "cell_type": "markdown",
   "id": "1cd87a30-6014-46f0-8c52-ad76b018c280",
   "metadata": {},
   "source": [
    "### POST_TEXT_DF"
   ]
  },
  {
   "cell_type": "code",
   "execution_count": 7,
   "id": "5a4380e5-a729-4c13-af11-f26fcfbe826e",
   "metadata": {},
   "outputs": [],
   "source": [
    "post_df = pd.read_sql('SELECT * FROM \"post_text_df\"', con=engine)"
   ]
  },
  {
   "cell_type": "code",
   "execution_count": 8,
   "id": "ba76ecde-6728-41fd-a5c0-0c83cf6ec659",
   "metadata": {},
   "outputs": [
    {
     "data": {
      "text/html": [
       "<div>\n",
       "<style scoped>\n",
       "    .dataframe tbody tr th:only-of-type {\n",
       "        vertical-align: middle;\n",
       "    }\n",
       "\n",
       "    .dataframe tbody tr th {\n",
       "        vertical-align: top;\n",
       "    }\n",
       "\n",
       "    .dataframe thead th {\n",
       "        text-align: right;\n",
       "    }\n",
       "</style>\n",
       "<table border=\"1\" class=\"dataframe\">\n",
       "  <thead>\n",
       "    <tr style=\"text-align: right;\">\n",
       "      <th></th>\n",
       "      <th>post_id</th>\n",
       "      <th>text</th>\n",
       "      <th>topic</th>\n",
       "    </tr>\n",
       "  </thead>\n",
       "  <tbody>\n",
       "    <tr>\n",
       "      <th>0</th>\n",
       "      <td>1</td>\n",
       "      <td>UK economy facing major risks\\n\\nThe UK manufa...</td>\n",
       "      <td>business</td>\n",
       "    </tr>\n",
       "    <tr>\n",
       "      <th>1</th>\n",
       "      <td>2</td>\n",
       "      <td>Aids and climate top Davos agenda\\n\\nClimate c...</td>\n",
       "      <td>business</td>\n",
       "    </tr>\n",
       "    <tr>\n",
       "      <th>2</th>\n",
       "      <td>3</td>\n",
       "      <td>Asian quake hits European shares\\n\\nShares in ...</td>\n",
       "      <td>business</td>\n",
       "    </tr>\n",
       "    <tr>\n",
       "      <th>3</th>\n",
       "      <td>4</td>\n",
       "      <td>India power shares jump on debut\\n\\nShares in ...</td>\n",
       "      <td>business</td>\n",
       "    </tr>\n",
       "    <tr>\n",
       "      <th>4</th>\n",
       "      <td>5</td>\n",
       "      <td>Lacroix label bought by US firm\\n\\nLuxury good...</td>\n",
       "      <td>business</td>\n",
       "    </tr>\n",
       "    <tr>\n",
       "      <th>...</th>\n",
       "      <td>...</td>\n",
       "      <td>...</td>\n",
       "      <td>...</td>\n",
       "    </tr>\n",
       "    <tr>\n",
       "      <th>7018</th>\n",
       "      <td>7315</td>\n",
       "      <td>OK, I would not normally watch a Farrelly brot...</td>\n",
       "      <td>movie</td>\n",
       "    </tr>\n",
       "    <tr>\n",
       "      <th>7019</th>\n",
       "      <td>7316</td>\n",
       "      <td>I give this movie 2 stars purely because of it...</td>\n",
       "      <td>movie</td>\n",
       "    </tr>\n",
       "    <tr>\n",
       "      <th>7020</th>\n",
       "      <td>7317</td>\n",
       "      <td>I cant believe this film was allowed to be mad...</td>\n",
       "      <td>movie</td>\n",
       "    </tr>\n",
       "    <tr>\n",
       "      <th>7021</th>\n",
       "      <td>7318</td>\n",
       "      <td>The version I saw of this film was the Blockbu...</td>\n",
       "      <td>movie</td>\n",
       "    </tr>\n",
       "    <tr>\n",
       "      <th>7022</th>\n",
       "      <td>7319</td>\n",
       "      <td>Piece of subtle art. Maybe a masterpiece. Doub...</td>\n",
       "      <td>movie</td>\n",
       "    </tr>\n",
       "  </tbody>\n",
       "</table>\n",
       "<p>7023 rows × 3 columns</p>\n",
       "</div>"
      ],
      "text/plain": [
       "      post_id                                               text     topic\n",
       "0           1  UK economy facing major risks\\n\\nThe UK manufa...  business\n",
       "1           2  Aids and climate top Davos agenda\\n\\nClimate c...  business\n",
       "2           3  Asian quake hits European shares\\n\\nShares in ...  business\n",
       "3           4  India power shares jump on debut\\n\\nShares in ...  business\n",
       "4           5  Lacroix label bought by US firm\\n\\nLuxury good...  business\n",
       "...       ...                                                ...       ...\n",
       "7018     7315  OK, I would not normally watch a Farrelly brot...     movie\n",
       "7019     7316  I give this movie 2 stars purely because of it...     movie\n",
       "7020     7317  I cant believe this film was allowed to be mad...     movie\n",
       "7021     7318  The version I saw of this film was the Blockbu...     movie\n",
       "7022     7319  Piece of subtle art. Maybe a masterpiece. Doub...     movie\n",
       "\n",
       "[7023 rows x 3 columns]"
      ]
     },
     "execution_count": 8,
     "metadata": {},
     "output_type": "execute_result"
    }
   ],
   "source": [
    "post_df"
   ]
  },
  {
   "cell_type": "code",
   "execution_count": 18,
   "id": "e1412a66-84f5-4cd7-8408-c136bcb55d93",
   "metadata": {},
   "outputs": [
    {
     "name": "stdout",
     "output_type": "stream",
     "text": [
      "<class 'pandas.core.frame.DataFrame'>\n",
      "RangeIndex: 7023 entries, 0 to 7022\n",
      "Data columns (total 3 columns):\n",
      " #   Column   Non-Null Count  Dtype \n",
      "---  ------   --------------  ----- \n",
      " 0   post_id  7023 non-null   int64 \n",
      " 1   text     7023 non-null   object\n",
      " 2   topic    7023 non-null   object\n",
      "dtypes: int64(1), object(2)\n",
      "memory usage: 9.8 MB\n"
     ]
    }
   ],
   "source": [
    "post_df.info(memory_usage='deep')"
   ]
  },
  {
   "cell_type": "code",
   "execution_count": 19,
   "id": "52a492c0-b510-4a1a-9cd7-f5ff25371fb5",
   "metadata": {},
   "outputs": [
    {
     "data": {
      "text/plain": [
       "7023"
      ]
     },
     "execution_count": 19,
     "metadata": {},
     "output_type": "execute_result"
    }
   ],
   "source": [
    "post_df.post_id.nunique()"
   ]
  },
  {
   "cell_type": "code",
   "execution_count": 20,
   "id": "cf6f92b6-5230-45bb-b42c-d0b1b3603199",
   "metadata": {},
   "outputs": [
    {
     "name": "stdout",
     "output_type": "stream",
     "text": [
      "['UK economy facing major risks\\n\\nThe UK manufacturing sector will continue to face serious challenges over the next two years, the British Chamber of Commerce (BCC) has said.\\n\\nThe groups quarterly survey of companies found exports had picked up in the last three months of 2004 to their best levels in eight years. The rise came despite exchange rates being cited as a major concern. However, the BCC found the whole UK economy still faced major risks and warned that growth is set to slow. It recently forecast economic growth will slow from more than 3% in 2004 to a little below 2.5% in both 2005 and 2006.\\n\\nManufacturers domestic sales growth fell back slightly in the quarter, the survey of 5,196 firms found. Employment in manufacturing also fell and job expectations were at their lowest level for a year.\\n\\nDespite some positive news for the export sector, there are worrying signs for manufacturing, the BCC said. These results reinforce our concern over the sectors persistent inability to sustain recovery. The outlook for the service sector was uncertain despite an increase in exports and orders over the quarter, the BCC noted.\\n\\nThe BCC found confidence increased in the quarter across both the manufacturing and service sectors although overall it failed to reach the levels at the start of 2004. The reduced threat of interest rate increases had contributed to improved confidence, it said. The Bank of England raised interest rates five times between November 2003 and August last year. But rates have been kept on hold since then amid signs of falling consumer confidence and a slowdown in output. The pressure on costs and margins, the relentless increase in regulations, and the threat of higher taxes remain serious problems, BCC director general David Frost said. While consumer spending is set to decelerate significantly over the next 12-18 months, it is unlikely that investment and exports will rise sufficiently strongly to pick up the slack.\\n'\n",
      " 'Aids and climate top Davos agenda\\n\\nClimate change and the fight against Aids are leading the list of concerns for the first day of the World Economic Forum in the Swiss resort of Davos.\\n\\nSome 2,000 business and political leaders from around the globe will listen to UK Prime Minister Tony Blairs opening speech on Wednesday. Mr Blair will focus on Africas development plans and global warming. Earlier in the day came an update on efforts to have 3 million people on anti-Aids drugs by the end of 2005. The World Health Organisation (WHO) said 700,000 people in poor countries were on life-extending drugs - up from 440,000 six months earlier but amounting to only 12% of the 5.8 million who needed them. A $2bn funding gap still stood in the way of hitting the 2005 target, the WHO said.\\n\\nThe themes to be stressed by Mr Blair - whose attendance was announced at the last minute - are those he wants to dominate the UKs chairmanship of the G8 group of industrialised states. Other issues to be discussed at the five-day conference range from Chinas\\n\\neconomic power to Iraqs future after this Sundays elections. Aside from Mr Blair, more than 20 other world leaders are expected to attend including French President Jacques Chirac - due to speak by video link after bad weather delayed his helicopter - and South African President Thabo Mbeki, whose arrival has been delayed by Ivory Coast peace talks. The Ukraines new president, Viktor Yushchenko, will also be there - as will newly elected Palestinian leader Mahmoud Abbas. Showbiz figures will also put in an appearance, from U2 frontman Bono - a well-known campaigner on trade and development issues - to Angelina Jolie, a goodwill campaigner for the UN on refugees.\\n\\nUnlike previous years, protests against the WEF are expected to be muted. Anti-globalisation campaigners have called off a demonstration planned for the weekend. At the same time, about 100,000 people are expected to converge on the Brazilian resort of Porto Alegre for the World Social Forum - the so-called anti-Davos for campaigners against globalisation, for fair trade, and many other causes.\\n\\nIn contrast, the Davos forum is dominated by business issues - from outsourcing to corporate leadership - with bosses of more than a fifth of the worlds 500 largest companies scheduled to attend. A survey published on the eve of the conference by PricewaterhouseCoopers said four in ten business leaders were very confident that their companies would see sales rise in 2005. Asian and American executives, however, were much more confident than their European counterparts. But the political discussions, focusing on Iran, Iraq and China, are likely to dominate media attention.\\n']\n"
     ]
    }
   ],
   "source": [
    "print(post_df.text[:2].values)"
   ]
  },
  {
   "cell_type": "code",
   "execution_count": 21,
   "id": "6460a5db-f971-453c-8010-5b4b234efac9",
   "metadata": {},
   "outputs": [
    {
     "name": "stdout",
     "output_type": "stream",
     "text": [
      "UK economy facing major risks\n",
      "\n",
      "The UK manufacturing sector will continue to face serious challenges over the next two years, the British Chamber of Commerce (BCC) has said.\n",
      "\n",
      "The groups quarterly survey of companies found exports had picked up in the last three months of 2004 to their best levels in eight years. The rise came despite exchange rates being cited as a major concern. However, the BCC found the whole UK economy still faced major risks and warned that growth is set to slow. It recently forecast economic growth will slow from more than 3% in 2004 to a little below 2.5% in both 2005 and 2006.\n",
      "\n",
      "Manufacturers domestic sales growth fell back slightly in the quarter, the survey of 5,196 firms found. Employment in manufacturing also fell and job expectations were at their lowest level for a year.\n",
      "\n",
      "Despite some positive news for the export sector, there are worrying signs for manufacturing, the BCC said. These results reinforce our concern over the sectors persistent inability to sustain recovery. The outlook for the service sector was uncertain despite an increase in exports and orders over the quarter, the BCC noted.\n",
      "\n",
      "The BCC found confidence increased in the quarter across both the manufacturing and service sectors although overall it failed to reach the levels at the start of 2004. The reduced threat of interest rate increases had contributed to improved confidence, it said. The Bank of England raised interest rates five times between November 2003 and August last year. But rates have been kept on hold since then amid signs of falling consumer confidence and a slowdown in output. The pressure on costs and margins, the relentless increase in regulations, and the threat of higher taxes remain serious problems, BCC director general David Frost said. While consumer spending is set to decelerate significantly over the next 12-18 months, it is unlikely that investment and exports will rise sufficiently strongly to pick up the slack.\n",
      "\n"
     ]
    }
   ],
   "source": [
    "print(post_df.text[:1].values[0], sep='\\n')"
   ]
  },
  {
   "cell_type": "code",
   "execution_count": 22,
   "id": "5de69162-c2aa-46ab-a7cb-e4927efe937b",
   "metadata": {},
   "outputs": [
    {
     "data": {
      "text/plain": [
       "movie            3000\n",
       "covid            1799\n",
       "business          510\n",
       "sport             510\n",
       "politics          417\n",
       "tech              401\n",
       "entertainment     386\n",
       "Name: topic, dtype: int64"
      ]
     },
     "execution_count": 22,
     "metadata": {},
     "output_type": "execute_result"
    }
   ],
   "source": [
    "post_df.topic.value_counts()"
   ]
  },
  {
   "cell_type": "markdown",
   "id": "20fd12ec-757f-4f2d-a83c-a3e0e2dce5e2",
   "metadata": {},
   "source": [
    "### POST_TEXT_PCA"
   ]
  },
  {
   "cell_type": "code",
   "execution_count": 9,
   "id": "8d1b26a4-f2cd-49dc-ab07-837fd0a85740",
   "metadata": {},
   "outputs": [],
   "source": [
    "post_df_pca = pd.read_sql('SELECT * FROM \"post_text\"', con=engine)"
   ]
  },
  {
   "cell_type": "code",
   "execution_count": 10,
   "id": "9f3b5d9b-3e6c-4818-b212-29472a88de84",
   "metadata": {},
   "outputs": [
    {
     "data": {
      "text/html": [
       "<div>\n",
       "<style scoped>\n",
       "    .dataframe tbody tr th:only-of-type {\n",
       "        vertical-align: middle;\n",
       "    }\n",
       "\n",
       "    .dataframe tbody tr th {\n",
       "        vertical-align: top;\n",
       "    }\n",
       "\n",
       "    .dataframe thead th {\n",
       "        text-align: right;\n",
       "    }\n",
       "</style>\n",
       "<table border=\"1\" class=\"dataframe\">\n",
       "  <thead>\n",
       "    <tr style=\"text-align: right;\">\n",
       "      <th></th>\n",
       "      <th>post_id</th>\n",
       "      <th>topic</th>\n",
       "      <th>PCA_1</th>\n",
       "      <th>PCA_2</th>\n",
       "      <th>PCA_3</th>\n",
       "      <th>PCA_4</th>\n",
       "      <th>PCA_5</th>\n",
       "    </tr>\n",
       "  </thead>\n",
       "  <tbody>\n",
       "    <tr>\n",
       "      <th>0</th>\n",
       "      <td>1</td>\n",
       "      <td>business</td>\n",
       "      <td>-0.098651</td>\n",
       "      <td>-0.312493</td>\n",
       "      <td>0.023472</td>\n",
       "      <td>-0.029465</td>\n",
       "      <td>-0.046990</td>\n",
       "    </tr>\n",
       "    <tr>\n",
       "      <th>1</th>\n",
       "      <td>2</td>\n",
       "      <td>business</td>\n",
       "      <td>-0.102748</td>\n",
       "      <td>-0.316642</td>\n",
       "      <td>0.021755</td>\n",
       "      <td>-0.045080</td>\n",
       "      <td>0.137338</td>\n",
       "    </tr>\n",
       "    <tr>\n",
       "      <th>2</th>\n",
       "      <td>3</td>\n",
       "      <td>business</td>\n",
       "      <td>-0.089932</td>\n",
       "      <td>-0.211479</td>\n",
       "      <td>0.010823</td>\n",
       "      <td>-0.033651</td>\n",
       "      <td>-0.037667</td>\n",
       "    </tr>\n",
       "    <tr>\n",
       "      <th>3</th>\n",
       "      <td>4</td>\n",
       "      <td>business</td>\n",
       "      <td>-0.075025</td>\n",
       "      <td>-0.231227</td>\n",
       "      <td>0.010022</td>\n",
       "      <td>-0.035137</td>\n",
       "      <td>0.000382</td>\n",
       "    </tr>\n",
       "    <tr>\n",
       "      <th>4</th>\n",
       "      <td>5</td>\n",
       "      <td>business</td>\n",
       "      <td>-0.086689</td>\n",
       "      <td>-0.252862</td>\n",
       "      <td>0.017764</td>\n",
       "      <td>-0.032102</td>\n",
       "      <td>0.054850</td>\n",
       "    </tr>\n",
       "    <tr>\n",
       "      <th>...</th>\n",
       "      <td>...</td>\n",
       "      <td>...</td>\n",
       "      <td>...</td>\n",
       "      <td>...</td>\n",
       "      <td>...</td>\n",
       "      <td>...</td>\n",
       "      <td>...</td>\n",
       "    </tr>\n",
       "    <tr>\n",
       "      <th>7018</th>\n",
       "      <td>7315</td>\n",
       "      <td>movie</td>\n",
       "      <td>-0.202135</td>\n",
       "      <td>0.246869</td>\n",
       "      <td>-0.003796</td>\n",
       "      <td>-0.270650</td>\n",
       "      <td>0.034498</td>\n",
       "    </tr>\n",
       "    <tr>\n",
       "      <th>7019</th>\n",
       "      <td>7316</td>\n",
       "      <td>movie</td>\n",
       "      <td>-0.212412</td>\n",
       "      <td>0.296487</td>\n",
       "      <td>-0.005319</td>\n",
       "      <td>-0.208802</td>\n",
       "      <td>0.099140</td>\n",
       "    </tr>\n",
       "    <tr>\n",
       "      <th>7020</th>\n",
       "      <td>7317</td>\n",
       "      <td>movie</td>\n",
       "      <td>-0.187134</td>\n",
       "      <td>0.195667</td>\n",
       "      <td>0.013325</td>\n",
       "      <td>0.380744</td>\n",
       "      <td>0.118247</td>\n",
       "    </tr>\n",
       "    <tr>\n",
       "      <th>7021</th>\n",
       "      <td>7318</td>\n",
       "      <td>movie</td>\n",
       "      <td>-0.143072</td>\n",
       "      <td>0.082273</td>\n",
       "      <td>0.005458</td>\n",
       "      <td>0.219139</td>\n",
       "      <td>0.029975</td>\n",
       "    </tr>\n",
       "    <tr>\n",
       "      <th>7022</th>\n",
       "      <td>7319</td>\n",
       "      <td>movie</td>\n",
       "      <td>-0.150531</td>\n",
       "      <td>0.121704</td>\n",
       "      <td>-0.000090</td>\n",
       "      <td>0.051992</td>\n",
       "      <td>0.014982</td>\n",
       "    </tr>\n",
       "  </tbody>\n",
       "</table>\n",
       "<p>7023 rows × 7 columns</p>\n",
       "</div>"
      ],
      "text/plain": [
       "      post_id     topic     PCA_1     PCA_2     PCA_3     PCA_4     PCA_5\n",
       "0           1  business -0.098651 -0.312493  0.023472 -0.029465 -0.046990\n",
       "1           2  business -0.102748 -0.316642  0.021755 -0.045080  0.137338\n",
       "2           3  business -0.089932 -0.211479  0.010823 -0.033651 -0.037667\n",
       "3           4  business -0.075025 -0.231227  0.010022 -0.035137  0.000382\n",
       "4           5  business -0.086689 -0.252862  0.017764 -0.032102  0.054850\n",
       "...       ...       ...       ...       ...       ...       ...       ...\n",
       "7018     7315     movie -0.202135  0.246869 -0.003796 -0.270650  0.034498\n",
       "7019     7316     movie -0.212412  0.296487 -0.005319 -0.208802  0.099140\n",
       "7020     7317     movie -0.187134  0.195667  0.013325  0.380744  0.118247\n",
       "7021     7318     movie -0.143072  0.082273  0.005458  0.219139  0.029975\n",
       "7022     7319     movie -0.150531  0.121704 -0.000090  0.051992  0.014982\n",
       "\n",
       "[7023 rows x 7 columns]"
      ]
     },
     "execution_count": 10,
     "metadata": {},
     "output_type": "execute_result"
    }
   ],
   "source": [
    "post_df_pca"
   ]
  },
  {
   "cell_type": "code",
   "execution_count": 25,
   "id": "c7330a8b-83d2-4c58-ae9e-37316adad75e",
   "metadata": {},
   "outputs": [
    {
     "data": {
      "text/plain": [
       "7023"
      ]
     },
     "execution_count": 25,
     "metadata": {},
     "output_type": "execute_result"
    }
   ],
   "source": [
    "post_df_pca.post_id.nunique()"
   ]
  },
  {
   "cell_type": "code",
   "execution_count": 26,
   "id": "1efd1f98-486b-4268-9592-ccb1d6cd7502",
   "metadata": {},
   "outputs": [
    {
     "name": "stdout",
     "output_type": "stream",
     "text": [
      "<class 'pandas.core.frame.DataFrame'>\n",
      "RangeIndex: 7023 entries, 0 to 7022\n",
      "Data columns (total 7 columns):\n",
      " #   Column   Non-Null Count  Dtype  \n",
      "---  ------   --------------  -----  \n",
      " 0   post_id  7023 non-null   int64  \n",
      " 1   topic    7023 non-null   object \n",
      " 2   PCA_1    7023 non-null   float64\n",
      " 3   PCA_2    7023 non-null   float64\n",
      " 4   PCA_3    7023 non-null   float64\n",
      " 5   PCA_4    7023 non-null   float64\n",
      " 6   PCA_5    7023 non-null   float64\n",
      "dtypes: float64(5), int64(1), object(1)\n",
      "memory usage: 759.9 KB\n"
     ]
    }
   ],
   "source": [
    "post_df_pca.info(memory_usage='deep')"
   ]
  },
  {
   "cell_type": "markdown",
   "id": "b1f7a029-8172-431f-ad8d-8e2c70379adb",
   "metadata": {},
   "source": [
    "### FEED_DATA"
   ]
  },
  {
   "cell_type": "code",
   "execution_count": 27,
   "id": "f10a895a-e53c-40eb-b211-efa50564d12b",
   "metadata": {},
   "outputs": [],
   "source": [
    "feed_data_size = pd.read_sql('SELECT COUNT(*) as table_size FROM \"feed_data\"', con=engine)"
   ]
  },
  {
   "cell_type": "code",
   "execution_count": 28,
   "id": "85a13008-ab61-4311-acad-0460c47a8673",
   "metadata": {},
   "outputs": [
    {
     "data": {
      "text/html": [
       "<div>\n",
       "<style scoped>\n",
       "    .dataframe tbody tr th:only-of-type {\n",
       "        vertical-align: middle;\n",
       "    }\n",
       "\n",
       "    .dataframe tbody tr th {\n",
       "        vertical-align: top;\n",
       "    }\n",
       "\n",
       "    .dataframe thead th {\n",
       "        text-align: right;\n",
       "    }\n",
       "</style>\n",
       "<table border=\"1\" class=\"dataframe\">\n",
       "  <thead>\n",
       "    <tr style=\"text-align: right;\">\n",
       "      <th></th>\n",
       "      <th>table_size</th>\n",
       "    </tr>\n",
       "  </thead>\n",
       "  <tbody>\n",
       "    <tr>\n",
       "      <th>0</th>\n",
       "      <td>76892800</td>\n",
       "    </tr>\n",
       "  </tbody>\n",
       "</table>\n",
       "</div>"
      ],
      "text/plain": [
       "   table_size\n",
       "0    76892800"
      ]
     },
     "execution_count": 28,
     "metadata": {},
     "output_type": "execute_result"
    }
   ],
   "source": [
    "feed_data_size"
   ]
  },
  {
   "cell_type": "code",
   "execution_count": 29,
   "id": "95443bad-9b5f-47e6-b865-6aee590c6b03",
   "metadata": {},
   "outputs": [],
   "source": [
    "dates_range_df = pd.read_sql('SELECT MIN(timestamp) AS min_date, MAX(timestamp) AS max_date FROM \"feed_data\"', con=engine)"
   ]
  },
  {
   "cell_type": "code",
   "execution_count": 30,
   "id": "73d2564d-97e9-44ab-b38e-715c78aeee0c",
   "metadata": {},
   "outputs": [
    {
     "data": {
      "text/html": [
       "<div>\n",
       "<style scoped>\n",
       "    .dataframe tbody tr th:only-of-type {\n",
       "        vertical-align: middle;\n",
       "    }\n",
       "\n",
       "    .dataframe tbody tr th {\n",
       "        vertical-align: top;\n",
       "    }\n",
       "\n",
       "    .dataframe thead th {\n",
       "        text-align: right;\n",
       "    }\n",
       "</style>\n",
       "<table border=\"1\" class=\"dataframe\">\n",
       "  <thead>\n",
       "    <tr style=\"text-align: right;\">\n",
       "      <th></th>\n",
       "      <th>min_date</th>\n",
       "      <th>max_date</th>\n",
       "    </tr>\n",
       "  </thead>\n",
       "  <tbody>\n",
       "    <tr>\n",
       "      <th>0</th>\n",
       "      <td>2021-10-01 06:01:40</td>\n",
       "      <td>2021-12-29 23:51:06</td>\n",
       "    </tr>\n",
       "  </tbody>\n",
       "</table>\n",
       "</div>"
      ],
      "text/plain": [
       "             min_date            max_date\n",
       "0 2021-10-01 06:01:40 2021-12-29 23:51:06"
      ]
     },
     "execution_count": 30,
     "metadata": {},
     "output_type": "execute_result"
    }
   ],
   "source": [
    "dates_range_df"
   ]
  },
  {
   "cell_type": "code",
   "execution_count": 86,
   "id": "41e15e67-5c03-4bd1-8093-630ade1b2ffd",
   "metadata": {},
   "outputs": [],
   "source": [
    "feed_df = pd.read_sql(\"SELECT * FROM feed_data WHERE action != 'like' LIMIT 50000\", con=engine)"
   ]
  },
  {
   "cell_type": "code",
   "execution_count": 87,
   "id": "2e0d1651-60ae-46d3-a5d1-296b20f90af0",
   "metadata": {},
   "outputs": [
    {
     "data": {
      "text/html": [
       "<div>\n",
       "<style scoped>\n",
       "    .dataframe tbody tr th:only-of-type {\n",
       "        vertical-align: middle;\n",
       "    }\n",
       "\n",
       "    .dataframe tbody tr th {\n",
       "        vertical-align: top;\n",
       "    }\n",
       "\n",
       "    .dataframe thead th {\n",
       "        text-align: right;\n",
       "    }\n",
       "</style>\n",
       "<table border=\"1\" class=\"dataframe\">\n",
       "  <thead>\n",
       "    <tr style=\"text-align: right;\">\n",
       "      <th></th>\n",
       "      <th>timestamp</th>\n",
       "      <th>user_id</th>\n",
       "      <th>post_id</th>\n",
       "      <th>action</th>\n",
       "      <th>target</th>\n",
       "    </tr>\n",
       "  </thead>\n",
       "  <tbody>\n",
       "    <tr>\n",
       "      <th>0</th>\n",
       "      <td>2021-10-15 16:02:50</td>\n",
       "      <td>98488</td>\n",
       "      <td>5174</td>\n",
       "      <td>view</td>\n",
       "      <td>0</td>\n",
       "    </tr>\n",
       "    <tr>\n",
       "      <th>1</th>\n",
       "      <td>2021-10-15 16:04:44</td>\n",
       "      <td>98488</td>\n",
       "      <td>6536</td>\n",
       "      <td>view</td>\n",
       "      <td>0</td>\n",
       "    </tr>\n",
       "    <tr>\n",
       "      <th>2</th>\n",
       "      <td>2021-10-15 16:06:21</td>\n",
       "      <td>98488</td>\n",
       "      <td>5936</td>\n",
       "      <td>view</td>\n",
       "      <td>1</td>\n",
       "    </tr>\n",
       "    <tr>\n",
       "      <th>3</th>\n",
       "      <td>2021-10-15 16:08:19</td>\n",
       "      <td>98488</td>\n",
       "      <td>6096</td>\n",
       "      <td>view</td>\n",
       "      <td>0</td>\n",
       "    </tr>\n",
       "    <tr>\n",
       "      <th>4</th>\n",
       "      <td>2021-10-15 16:11:07</td>\n",
       "      <td>98488</td>\n",
       "      <td>1683</td>\n",
       "      <td>view</td>\n",
       "      <td>1</td>\n",
       "    </tr>\n",
       "    <tr>\n",
       "      <th>...</th>\n",
       "      <td>...</td>\n",
       "      <td>...</td>\n",
       "      <td>...</td>\n",
       "      <td>...</td>\n",
       "      <td>...</td>\n",
       "    </tr>\n",
       "    <tr>\n",
       "      <th>49995</th>\n",
       "      <td>2021-10-26 07:52:24</td>\n",
       "      <td>19548</td>\n",
       "      <td>3325</td>\n",
       "      <td>view</td>\n",
       "      <td>0</td>\n",
       "    </tr>\n",
       "    <tr>\n",
       "      <th>49996</th>\n",
       "      <td>2021-10-26 07:54:42</td>\n",
       "      <td>19548</td>\n",
       "      <td>1530</td>\n",
       "      <td>view</td>\n",
       "      <td>0</td>\n",
       "    </tr>\n",
       "    <tr>\n",
       "      <th>49997</th>\n",
       "      <td>2021-10-26 07:57:09</td>\n",
       "      <td>19548</td>\n",
       "      <td>1332</td>\n",
       "      <td>view</td>\n",
       "      <td>0</td>\n",
       "    </tr>\n",
       "    <tr>\n",
       "      <th>49998</th>\n",
       "      <td>2021-10-26 07:59:04</td>\n",
       "      <td>19548</td>\n",
       "      <td>1852</td>\n",
       "      <td>view</td>\n",
       "      <td>0</td>\n",
       "    </tr>\n",
       "    <tr>\n",
       "      <th>49999</th>\n",
       "      <td>2021-10-26 08:01:04</td>\n",
       "      <td>19548</td>\n",
       "      <td>1593</td>\n",
       "      <td>view</td>\n",
       "      <td>0</td>\n",
       "    </tr>\n",
       "  </tbody>\n",
       "</table>\n",
       "<p>50000 rows × 5 columns</p>\n",
       "</div>"
      ],
      "text/plain": [
       "                timestamp  user_id  post_id action  target\n",
       "0     2021-10-15 16:02:50    98488     5174   view       0\n",
       "1     2021-10-15 16:04:44    98488     6536   view       0\n",
       "2     2021-10-15 16:06:21    98488     5936   view       1\n",
       "3     2021-10-15 16:08:19    98488     6096   view       0\n",
       "4     2021-10-15 16:11:07    98488     1683   view       1\n",
       "...                   ...      ...      ...    ...     ...\n",
       "49995 2021-10-26 07:52:24    19548     3325   view       0\n",
       "49996 2021-10-26 07:54:42    19548     1530   view       0\n",
       "49997 2021-10-26 07:57:09    19548     1332   view       0\n",
       "49998 2021-10-26 07:59:04    19548     1852   view       0\n",
       "49999 2021-10-26 08:01:04    19548     1593   view       0\n",
       "\n",
       "[50000 rows x 5 columns]"
      ]
     },
     "execution_count": 87,
     "metadata": {},
     "output_type": "execute_result"
    }
   ],
   "source": [
    "feed_df"
   ]
  },
  {
   "cell_type": "code",
   "execution_count": 33,
   "id": "3a4575a5-e8ff-438b-b0f9-f2af8430ff35",
   "metadata": {},
   "outputs": [
    {
     "data": {
      "text/plain": [
       "Timestamp('2021-10-01 08:19:39')"
      ]
     },
     "execution_count": 33,
     "metadata": {},
     "output_type": "execute_result"
    }
   ],
   "source": [
    "feed_df.timestamp.min()"
   ]
  },
  {
   "cell_type": "code",
   "execution_count": 34,
   "id": "a04ea4be-a234-440f-b076-0fa0c4b766ed",
   "metadata": {},
   "outputs": [
    {
     "data": {
      "text/plain": [
       "Timestamp('2021-12-29 23:25:55')"
      ]
     },
     "execution_count": 34,
     "metadata": {},
     "output_type": "execute_result"
    }
   ],
   "source": [
    "feed_df.timestamp.max()"
   ]
  },
  {
   "cell_type": "code",
   "execution_count": 35,
   "id": "9d913482-7f3a-4b05-ba79-2fda517af08a",
   "metadata": {},
   "outputs": [
    {
     "data": {
      "text/html": [
       "<div>\n",
       "<style scoped>\n",
       "    .dataframe tbody tr th:only-of-type {\n",
       "        vertical-align: middle;\n",
       "    }\n",
       "\n",
       "    .dataframe tbody tr th {\n",
       "        vertical-align: top;\n",
       "    }\n",
       "\n",
       "    .dataframe thead th {\n",
       "        text-align: right;\n",
       "    }\n",
       "</style>\n",
       "<table border=\"1\" class=\"dataframe\">\n",
       "  <thead>\n",
       "    <tr style=\"text-align: right;\">\n",
       "      <th></th>\n",
       "      <th>timestamp</th>\n",
       "      <th>user_id</th>\n",
       "      <th>post_id</th>\n",
       "      <th>action</th>\n",
       "      <th>target</th>\n",
       "    </tr>\n",
       "  </thead>\n",
       "  <tbody>\n",
       "    <tr>\n",
       "      <th>30</th>\n",
       "      <td>2021-12-13 18:38:03</td>\n",
       "      <td>84189</td>\n",
       "      <td>343</td>\n",
       "      <td>view</td>\n",
       "      <td>0</td>\n",
       "    </tr>\n",
       "    <tr>\n",
       "      <th>31</th>\n",
       "      <td>2021-12-13 18:39:10</td>\n",
       "      <td>84189</td>\n",
       "      <td>4939</td>\n",
       "      <td>view</td>\n",
       "      <td>0</td>\n",
       "    </tr>\n",
       "    <tr>\n",
       "      <th>32</th>\n",
       "      <td>2021-12-13 18:41:46</td>\n",
       "      <td>84189</td>\n",
       "      <td>6123</td>\n",
       "      <td>view</td>\n",
       "      <td>0</td>\n",
       "    </tr>\n",
       "    <tr>\n",
       "      <th>33</th>\n",
       "      <td>2021-12-13 18:44:37</td>\n",
       "      <td>84189</td>\n",
       "      <td>4907</td>\n",
       "      <td>view</td>\n",
       "      <td>1</td>\n",
       "    </tr>\n",
       "    <tr>\n",
       "      <th>34</th>\n",
       "      <td>2021-12-13 18:47:21</td>\n",
       "      <td>84189</td>\n",
       "      <td>2651</td>\n",
       "      <td>view</td>\n",
       "      <td>0</td>\n",
       "    </tr>\n",
       "    <tr>\n",
       "      <th>35</th>\n",
       "      <td>2021-12-13 18:48:34</td>\n",
       "      <td>84189</td>\n",
       "      <td>6032</td>\n",
       "      <td>view</td>\n",
       "      <td>0</td>\n",
       "    </tr>\n",
       "    <tr>\n",
       "      <th>36</th>\n",
       "      <td>2021-12-13 18:50:04</td>\n",
       "      <td>84189</td>\n",
       "      <td>618</td>\n",
       "      <td>view</td>\n",
       "      <td>0</td>\n",
       "    </tr>\n",
       "    <tr>\n",
       "      <th>37</th>\n",
       "      <td>2021-12-13 18:51:19</td>\n",
       "      <td>84189</td>\n",
       "      <td>4025</td>\n",
       "      <td>view</td>\n",
       "      <td>0</td>\n",
       "    </tr>\n",
       "    <tr>\n",
       "      <th>38</th>\n",
       "      <td>2021-12-13 18:53:54</td>\n",
       "      <td>84189</td>\n",
       "      <td>4909</td>\n",
       "      <td>view</td>\n",
       "      <td>0</td>\n",
       "    </tr>\n",
       "    <tr>\n",
       "      <th>39</th>\n",
       "      <td>2021-12-13 18:54:14</td>\n",
       "      <td>84189</td>\n",
       "      <td>5401</td>\n",
       "      <td>view</td>\n",
       "      <td>0</td>\n",
       "    </tr>\n",
       "  </tbody>\n",
       "</table>\n",
       "</div>"
      ],
      "text/plain": [
       "             timestamp  user_id  post_id action  target\n",
       "30 2021-12-13 18:38:03    84189      343   view       0\n",
       "31 2021-12-13 18:39:10    84189     4939   view       0\n",
       "32 2021-12-13 18:41:46    84189     6123   view       0\n",
       "33 2021-12-13 18:44:37    84189     4907   view       1\n",
       "34 2021-12-13 18:47:21    84189     2651   view       0\n",
       "35 2021-12-13 18:48:34    84189     6032   view       0\n",
       "36 2021-12-13 18:50:04    84189      618   view       0\n",
       "37 2021-12-13 18:51:19    84189     4025   view       0\n",
       "38 2021-12-13 18:53:54    84189     4909   view       0\n",
       "39 2021-12-13 18:54:14    84189     5401   view       0"
      ]
     },
     "execution_count": 35,
     "metadata": {},
     "output_type": "execute_result"
    }
   ],
   "source": [
    "feed_df.iloc[30:40]"
   ]
  },
  {
   "cell_type": "code",
   "execution_count": 36,
   "id": "36243fb8-80cc-43c7-a62b-a23b300085d7",
   "metadata": {},
   "outputs": [
    {
     "data": {
      "text/plain": [
       "46526"
      ]
     },
     "execution_count": 36,
     "metadata": {},
     "output_type": "execute_result"
    }
   ],
   "source": [
    "feed_df.timestamp.nunique()"
   ]
  },
  {
   "cell_type": "code",
   "execution_count": 37,
   "id": "4d544ec7-4b69-4c26-bedd-ce5c1e599847",
   "metadata": {},
   "outputs": [
    {
     "data": {
      "text/plain": [
       "121"
      ]
     },
     "execution_count": 37,
     "metadata": {},
     "output_type": "execute_result"
    }
   ],
   "source": [
    "feed_df.user_id.nunique()"
   ]
  },
  {
   "cell_type": "code",
   "execution_count": 38,
   "id": "baabcfbc-09aa-41bf-8367-6d9aeaab0a63",
   "metadata": {},
   "outputs": [
    {
     "data": {
      "text/plain": [
       "6801"
      ]
     },
     "execution_count": 38,
     "metadata": {},
     "output_type": "execute_result"
    }
   ],
   "source": [
    "feed_df.post_id.nunique()"
   ]
  },
  {
   "cell_type": "code",
   "execution_count": 39,
   "id": "4d097e63-ac10-492f-b7f9-bc1dd1e4e0c4",
   "metadata": {},
   "outputs": [
    {
     "name": "stdout",
     "output_type": "stream",
     "text": [
      "<class 'pandas.core.frame.DataFrame'>\n",
      "RangeIndex: 50000 entries, 0 to 49999\n",
      "Data columns (total 5 columns):\n",
      " #   Column     Non-Null Count  Dtype         \n",
      "---  ------     --------------  -----         \n",
      " 0   timestamp  50000 non-null  datetime64[ns]\n",
      " 1   user_id    50000 non-null  int64         \n",
      " 2   post_id    50000 non-null  int64         \n",
      " 3   action     50000 non-null  object        \n",
      " 4   target     50000 non-null  int64         \n",
      "dtypes: datetime64[ns](1), int64(3), object(1)\n",
      "memory usage: 4.4 MB\n"
     ]
    }
   ],
   "source": [
    "feed_df.info(memory_usage='deep')"
   ]
  },
  {
   "cell_type": "code",
   "execution_count": 40,
   "id": "39e2c0dd-96d7-477b-9247-37516f13d396",
   "metadata": {},
   "outputs": [
    {
     "data": {
      "text/plain": [
       "timestamp    0\n",
       "user_id      0\n",
       "post_id      0\n",
       "action       0\n",
       "target       0\n",
       "dtype: int64"
      ]
     },
     "execution_count": 40,
     "metadata": {},
     "output_type": "execute_result"
    }
   ],
   "source": [
    "feed_df.isna().sum()"
   ]
  },
  {
   "cell_type": "code",
   "execution_count": 41,
   "id": "7fb282db-32d9-4a8f-9272-9872b5a09b69",
   "metadata": {},
   "outputs": [
    {
     "data": {
      "text/plain": [
       "view    50000\n",
       "Name: action, dtype: int64"
      ]
     },
     "execution_count": 41,
     "metadata": {},
     "output_type": "execute_result"
    }
   ],
   "source": [
    "feed_df.action.value_counts()"
   ]
  },
  {
   "cell_type": "code",
   "execution_count": 42,
   "id": "d7f46a03-c5fb-487b-9951-577d324a6680",
   "metadata": {},
   "outputs": [
    {
     "data": {
      "text/plain": [
       "0    44028\n",
       "1     5972\n",
       "Name: target, dtype: int64"
      ]
     },
     "execution_count": 42,
     "metadata": {},
     "output_type": "execute_result"
    }
   ],
   "source": [
    "feed_df.target.value_counts()"
   ]
  },
  {
   "cell_type": "markdown",
   "id": "21d8c4df-8c91-4781-a10f-20fe4c4a5744",
   "metadata": {},
   "source": [
    "## 2. Создание признаков и формирование обучающей выборки"
   ]
  },
  {
   "cell_type": "markdown",
   "id": "e2c46cc0-eec1-45d9-96bc-33a35b884a70",
   "metadata": {},
   "source": [
    "На этом этапе мы создаем новые признаки, которые могут быть полезны для модели. Признаки могут включать информацию о пользователе (например, возраст, пол, история взаимодействий), информацию о постах (тексты, темы, категории), а также дополнительные статистики, такие как частота лайков или вовлеченность пользователя. После генерации признаков формируется обучающая выборка, которая содержит все необходимые данные для последующего обучения модели."
   ]
  },
  {
   "cell_type": "code",
   "execution_count": 43,
   "id": "50893c30-c401-4247-9277-ce01c482fa78",
   "metadata": {},
   "outputs": [
    {
     "data": {
      "text/html": [
       "<div>\n",
       "<style scoped>\n",
       "    .dataframe tbody tr th:only-of-type {\n",
       "        vertical-align: middle;\n",
       "    }\n",
       "\n",
       "    .dataframe tbody tr th {\n",
       "        vertical-align: top;\n",
       "    }\n",
       "\n",
       "    .dataframe thead th {\n",
       "        text-align: right;\n",
       "    }\n",
       "</style>\n",
       "<table border=\"1\" class=\"dataframe\">\n",
       "  <thead>\n",
       "    <tr style=\"text-align: right;\">\n",
       "      <th></th>\n",
       "      <th>user_id</th>\n",
       "      <th>gender</th>\n",
       "      <th>age</th>\n",
       "      <th>country</th>\n",
       "      <th>city</th>\n",
       "      <th>exp_group</th>\n",
       "      <th>os</th>\n",
       "      <th>source</th>\n",
       "    </tr>\n",
       "  </thead>\n",
       "  <tbody>\n",
       "    <tr>\n",
       "      <th>0</th>\n",
       "      <td>200</td>\n",
       "      <td>1</td>\n",
       "      <td>34</td>\n",
       "      <td>Russia</td>\n",
       "      <td>Degtyarsk</td>\n",
       "      <td>3</td>\n",
       "      <td>Android</td>\n",
       "      <td>ads</td>\n",
       "    </tr>\n",
       "    <tr>\n",
       "      <th>1</th>\n",
       "      <td>201</td>\n",
       "      <td>0</td>\n",
       "      <td>37</td>\n",
       "      <td>Russia</td>\n",
       "      <td>Abakan</td>\n",
       "      <td>0</td>\n",
       "      <td>Android</td>\n",
       "      <td>ads</td>\n",
       "    </tr>\n",
       "    <tr>\n",
       "      <th>2</th>\n",
       "      <td>202</td>\n",
       "      <td>1</td>\n",
       "      <td>17</td>\n",
       "      <td>Russia</td>\n",
       "      <td>Smolensk</td>\n",
       "      <td>4</td>\n",
       "      <td>Android</td>\n",
       "      <td>ads</td>\n",
       "    </tr>\n",
       "  </tbody>\n",
       "</table>\n",
       "</div>"
      ],
      "text/plain": [
       "   user_id  gender  age country       city  exp_group       os source\n",
       "0      200       1   34  Russia  Degtyarsk          3  Android    ads\n",
       "1      201       0   37  Russia     Abakan          0  Android    ads\n",
       "2      202       1   17  Russia   Smolensk          4  Android    ads"
      ]
     },
     "execution_count": 43,
     "metadata": {},
     "output_type": "execute_result"
    }
   ],
   "source": [
    "user_df.head(3)"
   ]
  },
  {
   "cell_type": "code",
   "execution_count": 44,
   "id": "9dfc2145-dc5a-4287-bf73-e9e2e7fb7693",
   "metadata": {},
   "outputs": [
    {
     "data": {
      "text/html": [
       "<div>\n",
       "<style scoped>\n",
       "    .dataframe tbody tr th:only-of-type {\n",
       "        vertical-align: middle;\n",
       "    }\n",
       "\n",
       "    .dataframe tbody tr th {\n",
       "        vertical-align: top;\n",
       "    }\n",
       "\n",
       "    .dataframe thead th {\n",
       "        text-align: right;\n",
       "    }\n",
       "</style>\n",
       "<table border=\"1\" class=\"dataframe\">\n",
       "  <thead>\n",
       "    <tr style=\"text-align: right;\">\n",
       "      <th></th>\n",
       "      <th>post_id</th>\n",
       "      <th>text</th>\n",
       "      <th>topic</th>\n",
       "    </tr>\n",
       "  </thead>\n",
       "  <tbody>\n",
       "    <tr>\n",
       "      <th>0</th>\n",
       "      <td>1</td>\n",
       "      <td>UK economy facing major risks\\n\\nThe UK manufa...</td>\n",
       "      <td>business</td>\n",
       "    </tr>\n",
       "    <tr>\n",
       "      <th>1</th>\n",
       "      <td>2</td>\n",
       "      <td>Aids and climate top Davos agenda\\n\\nClimate c...</td>\n",
       "      <td>business</td>\n",
       "    </tr>\n",
       "    <tr>\n",
       "      <th>2</th>\n",
       "      <td>3</td>\n",
       "      <td>Asian quake hits European shares\\n\\nShares in ...</td>\n",
       "      <td>business</td>\n",
       "    </tr>\n",
       "  </tbody>\n",
       "</table>\n",
       "</div>"
      ],
      "text/plain": [
       "   post_id                                               text     topic\n",
       "0        1  UK economy facing major risks\\n\\nThe UK manufa...  business\n",
       "1        2  Aids and climate top Davos agenda\\n\\nClimate c...  business\n",
       "2        3  Asian quake hits European shares\\n\\nShares in ...  business"
      ]
     },
     "execution_count": 44,
     "metadata": {},
     "output_type": "execute_result"
    }
   ],
   "source": [
    "post_df.head(3)"
   ]
  },
  {
   "cell_type": "code",
   "execution_count": 45,
   "id": "0b513630-bd26-41b3-9b14-6a6fa8e465da",
   "metadata": {},
   "outputs": [
    {
     "data": {
      "text/html": [
       "<div>\n",
       "<style scoped>\n",
       "    .dataframe tbody tr th:only-of-type {\n",
       "        vertical-align: middle;\n",
       "    }\n",
       "\n",
       "    .dataframe tbody tr th {\n",
       "        vertical-align: top;\n",
       "    }\n",
       "\n",
       "    .dataframe thead th {\n",
       "        text-align: right;\n",
       "    }\n",
       "</style>\n",
       "<table border=\"1\" class=\"dataframe\">\n",
       "  <thead>\n",
       "    <tr style=\"text-align: right;\">\n",
       "      <th></th>\n",
       "      <th>post_id</th>\n",
       "      <th>topic</th>\n",
       "      <th>PCA_1</th>\n",
       "      <th>PCA_2</th>\n",
       "      <th>PCA_3</th>\n",
       "      <th>PCA_4</th>\n",
       "      <th>PCA_5</th>\n",
       "    </tr>\n",
       "  </thead>\n",
       "  <tbody>\n",
       "    <tr>\n",
       "      <th>0</th>\n",
       "      <td>1</td>\n",
       "      <td>business</td>\n",
       "      <td>-0.098651</td>\n",
       "      <td>-0.312493</td>\n",
       "      <td>0.023472</td>\n",
       "      <td>-0.029465</td>\n",
       "      <td>-0.046990</td>\n",
       "    </tr>\n",
       "    <tr>\n",
       "      <th>1</th>\n",
       "      <td>2</td>\n",
       "      <td>business</td>\n",
       "      <td>-0.102748</td>\n",
       "      <td>-0.316642</td>\n",
       "      <td>0.021755</td>\n",
       "      <td>-0.045080</td>\n",
       "      <td>0.137338</td>\n",
       "    </tr>\n",
       "    <tr>\n",
       "      <th>2</th>\n",
       "      <td>3</td>\n",
       "      <td>business</td>\n",
       "      <td>-0.089932</td>\n",
       "      <td>-0.211479</td>\n",
       "      <td>0.010823</td>\n",
       "      <td>-0.033651</td>\n",
       "      <td>-0.037667</td>\n",
       "    </tr>\n",
       "  </tbody>\n",
       "</table>\n",
       "</div>"
      ],
      "text/plain": [
       "   post_id     topic     PCA_1     PCA_2     PCA_3     PCA_4     PCA_5\n",
       "0        1  business -0.098651 -0.312493  0.023472 -0.029465 -0.046990\n",
       "1        2  business -0.102748 -0.316642  0.021755 -0.045080  0.137338\n",
       "2        3  business -0.089932 -0.211479  0.010823 -0.033651 -0.037667"
      ]
     },
     "execution_count": 45,
     "metadata": {},
     "output_type": "execute_result"
    }
   ],
   "source": [
    "post_df_pca.head(3)"
   ]
  },
  {
   "cell_type": "code",
   "execution_count": 46,
   "id": "19a50bb2-6b88-4536-8be0-51255cde8c62",
   "metadata": {},
   "outputs": [
    {
     "data": {
      "text/html": [
       "<div>\n",
       "<style scoped>\n",
       "    .dataframe tbody tr th:only-of-type {\n",
       "        vertical-align: middle;\n",
       "    }\n",
       "\n",
       "    .dataframe tbody tr th {\n",
       "        vertical-align: top;\n",
       "    }\n",
       "\n",
       "    .dataframe thead th {\n",
       "        text-align: right;\n",
       "    }\n",
       "</style>\n",
       "<table border=\"1\" class=\"dataframe\">\n",
       "  <thead>\n",
       "    <tr style=\"text-align: right;\">\n",
       "      <th></th>\n",
       "      <th>timestamp</th>\n",
       "      <th>user_id</th>\n",
       "      <th>post_id</th>\n",
       "      <th>action</th>\n",
       "      <th>target</th>\n",
       "    </tr>\n",
       "  </thead>\n",
       "  <tbody>\n",
       "    <tr>\n",
       "      <th>0</th>\n",
       "      <td>2021-11-26 14:01:12</td>\n",
       "      <td>84189</td>\n",
       "      <td>1776</td>\n",
       "      <td>view</td>\n",
       "      <td>0</td>\n",
       "    </tr>\n",
       "    <tr>\n",
       "      <th>1</th>\n",
       "      <td>2021-11-26 14:03:43</td>\n",
       "      <td>84189</td>\n",
       "      <td>1486</td>\n",
       "      <td>view</td>\n",
       "      <td>0</td>\n",
       "    </tr>\n",
       "    <tr>\n",
       "      <th>2</th>\n",
       "      <td>2021-11-26 14:04:26</td>\n",
       "      <td>84189</td>\n",
       "      <td>438</td>\n",
       "      <td>view</td>\n",
       "      <td>0</td>\n",
       "    </tr>\n",
       "  </tbody>\n",
       "</table>\n",
       "</div>"
      ],
      "text/plain": [
       "            timestamp  user_id  post_id action  target\n",
       "0 2021-11-26 14:01:12    84189     1776   view       0\n",
       "1 2021-11-26 14:03:43    84189     1486   view       0\n",
       "2 2021-11-26 14:04:26    84189      438   view       0"
      ]
     },
     "execution_count": 46,
     "metadata": {},
     "output_type": "execute_result"
    }
   ],
   "source": [
    "feed_df.head(3)"
   ]
  },
  {
   "cell_type": "code",
   "execution_count": 47,
   "id": "c6cac62c-dc4e-4ea9-8e5e-00e6e476c315",
   "metadata": {},
   "outputs": [],
   "source": [
    "feed_df.drop('action', axis=1, inplace=True)"
   ]
  },
  {
   "cell_type": "code",
   "execution_count": 48,
   "id": "8b5fa2f3-64ae-4581-bd23-19d79c18e780",
   "metadata": {},
   "outputs": [
    {
     "data": {
      "text/html": [
       "<div>\n",
       "<style scoped>\n",
       "    .dataframe tbody tr th:only-of-type {\n",
       "        vertical-align: middle;\n",
       "    }\n",
       "\n",
       "    .dataframe tbody tr th {\n",
       "        vertical-align: top;\n",
       "    }\n",
       "\n",
       "    .dataframe thead th {\n",
       "        text-align: right;\n",
       "    }\n",
       "</style>\n",
       "<table border=\"1\" class=\"dataframe\">\n",
       "  <thead>\n",
       "    <tr style=\"text-align: right;\">\n",
       "      <th></th>\n",
       "      <th>timestamp</th>\n",
       "      <th>user_id</th>\n",
       "      <th>post_id</th>\n",
       "      <th>target</th>\n",
       "    </tr>\n",
       "  </thead>\n",
       "  <tbody>\n",
       "    <tr>\n",
       "      <th>0</th>\n",
       "      <td>2021-11-26 14:01:12</td>\n",
       "      <td>84189</td>\n",
       "      <td>1776</td>\n",
       "      <td>0</td>\n",
       "    </tr>\n",
       "    <tr>\n",
       "      <th>1</th>\n",
       "      <td>2021-11-26 14:03:43</td>\n",
       "      <td>84189</td>\n",
       "      <td>1486</td>\n",
       "      <td>0</td>\n",
       "    </tr>\n",
       "    <tr>\n",
       "      <th>2</th>\n",
       "      <td>2021-11-26 14:04:26</td>\n",
       "      <td>84189</td>\n",
       "      <td>438</td>\n",
       "      <td>0</td>\n",
       "    </tr>\n",
       "  </tbody>\n",
       "</table>\n",
       "</div>"
      ],
      "text/plain": [
       "            timestamp  user_id  post_id  target\n",
       "0 2021-11-26 14:01:12    84189     1776       0\n",
       "1 2021-11-26 14:03:43    84189     1486       0\n",
       "2 2021-11-26 14:04:26    84189      438       0"
      ]
     },
     "execution_count": 48,
     "metadata": {},
     "output_type": "execute_result"
    }
   ],
   "source": [
    "feed_df.head(3)"
   ]
  },
  {
   "cell_type": "code",
   "execution_count": 49,
   "id": "0c72a51d-8046-423f-817b-43d0867eddd4",
   "metadata": {},
   "outputs": [
    {
     "data": {
      "text/html": [
       "<div>\n",
       "<style scoped>\n",
       "    .dataframe tbody tr th:only-of-type {\n",
       "        vertical-align: middle;\n",
       "    }\n",
       "\n",
       "    .dataframe tbody tr th {\n",
       "        vertical-align: top;\n",
       "    }\n",
       "\n",
       "    .dataframe thead th {\n",
       "        text-align: right;\n",
       "    }\n",
       "</style>\n",
       "<table border=\"1\" class=\"dataframe\">\n",
       "  <thead>\n",
       "    <tr style=\"text-align: right;\">\n",
       "      <th></th>\n",
       "      <th>user_id</th>\n",
       "      <th>post_id</th>\n",
       "      <th>target</th>\n",
       "    </tr>\n",
       "  </thead>\n",
       "  <tbody>\n",
       "    <tr>\n",
       "      <th>0</th>\n",
       "      <td>84189</td>\n",
       "      <td>1776</td>\n",
       "      <td>0</td>\n",
       "    </tr>\n",
       "    <tr>\n",
       "      <th>1</th>\n",
       "      <td>84189</td>\n",
       "      <td>1486</td>\n",
       "      <td>0</td>\n",
       "    </tr>\n",
       "    <tr>\n",
       "      <th>2</th>\n",
       "      <td>84189</td>\n",
       "      <td>438</td>\n",
       "      <td>0</td>\n",
       "    </tr>\n",
       "  </tbody>\n",
       "</table>\n",
       "</div>"
      ],
      "text/plain": [
       "   user_id  post_id  target\n",
       "0    84189     1776       0\n",
       "1    84189     1486       0\n",
       "2    84189      438       0"
      ]
     },
     "execution_count": 49,
     "metadata": {},
     "output_type": "execute_result"
    }
   ],
   "source": [
    "feed_df.drop('timestamp', axis=1, inplace=True)\n",
    "feed_df.head(3)"
   ]
  },
  {
   "cell_type": "code",
   "execution_count": 50,
   "id": "61500322-d0d3-4cc2-a329-603050fc2d50",
   "metadata": {},
   "outputs": [],
   "source": [
    "df = feed_df.merge(user_df, on='user_id', how='inner')"
   ]
  },
  {
   "cell_type": "code",
   "execution_count": 51,
   "id": "bc9872a2-85ec-453e-bb46-3d46c8c7eaac",
   "metadata": {},
   "outputs": [],
   "source": [
    "df = df.merge(post_df_pca, on='post_id', how='inner')"
   ]
  },
  {
   "cell_type": "code",
   "execution_count": 52,
   "id": "de7caf45-e481-4d17-8cf5-ec6770848349",
   "metadata": {},
   "outputs": [
    {
     "data": {
      "text/html": [
       "<div>\n",
       "<style scoped>\n",
       "    .dataframe tbody tr th:only-of-type {\n",
       "        vertical-align: middle;\n",
       "    }\n",
       "\n",
       "    .dataframe tbody tr th {\n",
       "        vertical-align: top;\n",
       "    }\n",
       "\n",
       "    .dataframe thead th {\n",
       "        text-align: right;\n",
       "    }\n",
       "</style>\n",
       "<table border=\"1\" class=\"dataframe\">\n",
       "  <thead>\n",
       "    <tr style=\"text-align: right;\">\n",
       "      <th></th>\n",
       "      <th>user_id</th>\n",
       "      <th>post_id</th>\n",
       "      <th>target</th>\n",
       "      <th>gender</th>\n",
       "      <th>age</th>\n",
       "      <th>country</th>\n",
       "      <th>city</th>\n",
       "      <th>exp_group</th>\n",
       "      <th>os</th>\n",
       "      <th>source</th>\n",
       "      <th>topic</th>\n",
       "      <th>PCA_1</th>\n",
       "      <th>PCA_2</th>\n",
       "      <th>PCA_3</th>\n",
       "      <th>PCA_4</th>\n",
       "      <th>PCA_5</th>\n",
       "    </tr>\n",
       "  </thead>\n",
       "  <tbody>\n",
       "    <tr>\n",
       "      <th>0</th>\n",
       "      <td>84189</td>\n",
       "      <td>1776</td>\n",
       "      <td>0</td>\n",
       "      <td>1</td>\n",
       "      <td>30</td>\n",
       "      <td>Russia</td>\n",
       "      <td>Kaliningrad</td>\n",
       "      <td>0</td>\n",
       "      <td>iOS</td>\n",
       "      <td>ads</td>\n",
       "      <td>sport</td>\n",
       "      <td>-0.090315</td>\n",
       "      <td>-0.195647</td>\n",
       "      <td>0.008877</td>\n",
       "      <td>-0.015622</td>\n",
       "      <td>-0.105542</td>\n",
       "    </tr>\n",
       "    <tr>\n",
       "      <th>1</th>\n",
       "      <td>38801</td>\n",
       "      <td>1776</td>\n",
       "      <td>0</td>\n",
       "      <td>0</td>\n",
       "      <td>17</td>\n",
       "      <td>Russia</td>\n",
       "      <td>Chita</td>\n",
       "      <td>1</td>\n",
       "      <td>iOS</td>\n",
       "      <td>ads</td>\n",
       "      <td>sport</td>\n",
       "      <td>-0.090315</td>\n",
       "      <td>-0.195647</td>\n",
       "      <td>0.008877</td>\n",
       "      <td>-0.015622</td>\n",
       "      <td>-0.105542</td>\n",
       "    </tr>\n",
       "    <tr>\n",
       "      <th>2</th>\n",
       "      <td>19477</td>\n",
       "      <td>1776</td>\n",
       "      <td>0</td>\n",
       "      <td>1</td>\n",
       "      <td>15</td>\n",
       "      <td>Russia</td>\n",
       "      <td>Tomsk</td>\n",
       "      <td>2</td>\n",
       "      <td>Android</td>\n",
       "      <td>ads</td>\n",
       "      <td>sport</td>\n",
       "      <td>-0.090315</td>\n",
       "      <td>-0.195647</td>\n",
       "      <td>0.008877</td>\n",
       "      <td>-0.015622</td>\n",
       "      <td>-0.105542</td>\n",
       "    </tr>\n",
       "    <tr>\n",
       "      <th>3</th>\n",
       "      <td>38802</td>\n",
       "      <td>1776</td>\n",
       "      <td>0</td>\n",
       "      <td>0</td>\n",
       "      <td>38</td>\n",
       "      <td>Russia</td>\n",
       "      <td>Novotroitsk</td>\n",
       "      <td>2</td>\n",
       "      <td>iOS</td>\n",
       "      <td>ads</td>\n",
       "      <td>sport</td>\n",
       "      <td>-0.090315</td>\n",
       "      <td>-0.195647</td>\n",
       "      <td>0.008877</td>\n",
       "      <td>-0.015622</td>\n",
       "      <td>-0.105542</td>\n",
       "    </tr>\n",
       "    <tr>\n",
       "      <th>4</th>\n",
       "      <td>38806</td>\n",
       "      <td>1776</td>\n",
       "      <td>0</td>\n",
       "      <td>0</td>\n",
       "      <td>14</td>\n",
       "      <td>Russia</td>\n",
       "      <td>Moscow</td>\n",
       "      <td>0</td>\n",
       "      <td>iOS</td>\n",
       "      <td>ads</td>\n",
       "      <td>sport</td>\n",
       "      <td>-0.090315</td>\n",
       "      <td>-0.195647</td>\n",
       "      <td>0.008877</td>\n",
       "      <td>-0.015622</td>\n",
       "      <td>-0.105542</td>\n",
       "    </tr>\n",
       "    <tr>\n",
       "      <th>...</th>\n",
       "      <td>...</td>\n",
       "      <td>...</td>\n",
       "      <td>...</td>\n",
       "      <td>...</td>\n",
       "      <td>...</td>\n",
       "      <td>...</td>\n",
       "      <td>...</td>\n",
       "      <td>...</td>\n",
       "      <td>...</td>\n",
       "      <td>...</td>\n",
       "      <td>...</td>\n",
       "      <td>...</td>\n",
       "      <td>...</td>\n",
       "      <td>...</td>\n",
       "      <td>...</td>\n",
       "      <td>...</td>\n",
       "    </tr>\n",
       "    <tr>\n",
       "      <th>49995</th>\n",
       "      <td>19504</td>\n",
       "      <td>4521</td>\n",
       "      <td>0</td>\n",
       "      <td>1</td>\n",
       "      <td>17</td>\n",
       "      <td>Russia</td>\n",
       "      <td>Saint Petersburg</td>\n",
       "      <td>4</td>\n",
       "      <td>iOS</td>\n",
       "      <td>ads</td>\n",
       "      <td>movie</td>\n",
       "      <td>-0.237518</td>\n",
       "      <td>0.343240</td>\n",
       "      <td>0.002746</td>\n",
       "      <td>-0.089310</td>\n",
       "      <td>0.072245</td>\n",
       "    </tr>\n",
       "    <tr>\n",
       "      <th>49996</th>\n",
       "      <td>70468</td>\n",
       "      <td>6614</td>\n",
       "      <td>0</td>\n",
       "      <td>0</td>\n",
       "      <td>45</td>\n",
       "      <td>Russia</td>\n",
       "      <td>Moscow</td>\n",
       "      <td>2</td>\n",
       "      <td>Android</td>\n",
       "      <td>ads</td>\n",
       "      <td>movie</td>\n",
       "      <td>-0.204158</td>\n",
       "      <td>0.253604</td>\n",
       "      <td>-0.002414</td>\n",
       "      <td>-0.211505</td>\n",
       "      <td>-0.002567</td>\n",
       "    </tr>\n",
       "    <tr>\n",
       "      <th>49997</th>\n",
       "      <td>70468</td>\n",
       "      <td>4920</td>\n",
       "      <td>1</td>\n",
       "      <td>0</td>\n",
       "      <td>45</td>\n",
       "      <td>Russia</td>\n",
       "      <td>Moscow</td>\n",
       "      <td>2</td>\n",
       "      <td>Android</td>\n",
       "      <td>ads</td>\n",
       "      <td>movie</td>\n",
       "      <td>-0.161189</td>\n",
       "      <td>0.183307</td>\n",
       "      <td>0.000495</td>\n",
       "      <td>-0.073823</td>\n",
       "      <td>0.041760</td>\n",
       "    </tr>\n",
       "    <tr>\n",
       "      <th>49998</th>\n",
       "      <td>38824</td>\n",
       "      <td>5499</td>\n",
       "      <td>0</td>\n",
       "      <td>0</td>\n",
       "      <td>22</td>\n",
       "      <td>Russia</td>\n",
       "      <td>Barnaul</td>\n",
       "      <td>1</td>\n",
       "      <td>iOS</td>\n",
       "      <td>ads</td>\n",
       "      <td>movie</td>\n",
       "      <td>-0.162954</td>\n",
       "      <td>0.132514</td>\n",
       "      <td>-0.004940</td>\n",
       "      <td>-0.129042</td>\n",
       "      <td>-0.056654</td>\n",
       "    </tr>\n",
       "    <tr>\n",
       "      <th>49999</th>\n",
       "      <td>38824</td>\n",
       "      <td>679</td>\n",
       "      <td>0</td>\n",
       "      <td>0</td>\n",
       "      <td>22</td>\n",
       "      <td>Russia</td>\n",
       "      <td>Barnaul</td>\n",
       "      <td>1</td>\n",
       "      <td>iOS</td>\n",
       "      <td>ads</td>\n",
       "      <td>entertainment</td>\n",
       "      <td>-0.181043</td>\n",
       "      <td>-0.120424</td>\n",
       "      <td>0.041450</td>\n",
       "      <td>0.250075</td>\n",
       "      <td>0.247128</td>\n",
       "    </tr>\n",
       "  </tbody>\n",
       "</table>\n",
       "<p>50000 rows × 16 columns</p>\n",
       "</div>"
      ],
      "text/plain": [
       "       user_id  post_id  target  gender  age country              city  \\\n",
       "0        84189     1776       0       1   30  Russia       Kaliningrad   \n",
       "1        38801     1776       0       0   17  Russia             Chita   \n",
       "2        19477     1776       0       1   15  Russia             Tomsk   \n",
       "3        38802     1776       0       0   38  Russia       Novotroitsk   \n",
       "4        38806     1776       0       0   14  Russia            Moscow   \n",
       "...        ...      ...     ...     ...  ...     ...               ...   \n",
       "49995    19504     4521       0       1   17  Russia  Saint Petersburg   \n",
       "49996    70468     6614       0       0   45  Russia            Moscow   \n",
       "49997    70468     4920       1       0   45  Russia            Moscow   \n",
       "49998    38824     5499       0       0   22  Russia           Barnaul   \n",
       "49999    38824      679       0       0   22  Russia           Barnaul   \n",
       "\n",
       "       exp_group       os source          topic     PCA_1     PCA_2     PCA_3  \\\n",
       "0              0      iOS    ads          sport -0.090315 -0.195647  0.008877   \n",
       "1              1      iOS    ads          sport -0.090315 -0.195647  0.008877   \n",
       "2              2  Android    ads          sport -0.090315 -0.195647  0.008877   \n",
       "3              2      iOS    ads          sport -0.090315 -0.195647  0.008877   \n",
       "4              0      iOS    ads          sport -0.090315 -0.195647  0.008877   \n",
       "...          ...      ...    ...            ...       ...       ...       ...   \n",
       "49995          4      iOS    ads          movie -0.237518  0.343240  0.002746   \n",
       "49996          2  Android    ads          movie -0.204158  0.253604 -0.002414   \n",
       "49997          2  Android    ads          movie -0.161189  0.183307  0.000495   \n",
       "49998          1      iOS    ads          movie -0.162954  0.132514 -0.004940   \n",
       "49999          1      iOS    ads  entertainment -0.181043 -0.120424  0.041450   \n",
       "\n",
       "          PCA_4     PCA_5  \n",
       "0     -0.015622 -0.105542  \n",
       "1     -0.015622 -0.105542  \n",
       "2     -0.015622 -0.105542  \n",
       "3     -0.015622 -0.105542  \n",
       "4     -0.015622 -0.105542  \n",
       "...         ...       ...  \n",
       "49995 -0.089310  0.072245  \n",
       "49996 -0.211505 -0.002567  \n",
       "49997 -0.073823  0.041760  \n",
       "49998 -0.129042 -0.056654  \n",
       "49999  0.250075  0.247128  \n",
       "\n",
       "[50000 rows x 16 columns]"
      ]
     },
     "execution_count": 52,
     "metadata": {},
     "output_type": "execute_result"
    }
   ],
   "source": [
    "df"
   ]
  },
  {
   "cell_type": "code",
   "execution_count": 53,
   "id": "85f93b37-0d20-4371-be6e-3f2028c129cb",
   "metadata": {},
   "outputs": [],
   "source": [
    "X = df.drop(['target', 'user_id', 'post_id'], axis=1)\n",
    "y = df.target"
   ]
  },
  {
   "cell_type": "code",
   "execution_count": 54,
   "id": "123bf3e8-a5df-45ac-bf50-49f06c1919b4",
   "metadata": {},
   "outputs": [
    {
     "data": {
      "text/html": [
       "<div>\n",
       "<style scoped>\n",
       "    .dataframe tbody tr th:only-of-type {\n",
       "        vertical-align: middle;\n",
       "    }\n",
       "\n",
       "    .dataframe tbody tr th {\n",
       "        vertical-align: top;\n",
       "    }\n",
       "\n",
       "    .dataframe thead th {\n",
       "        text-align: right;\n",
       "    }\n",
       "</style>\n",
       "<table border=\"1\" class=\"dataframe\">\n",
       "  <thead>\n",
       "    <tr style=\"text-align: right;\">\n",
       "      <th></th>\n",
       "      <th>gender</th>\n",
       "      <th>age</th>\n",
       "      <th>country</th>\n",
       "      <th>city</th>\n",
       "      <th>exp_group</th>\n",
       "      <th>os</th>\n",
       "      <th>source</th>\n",
       "      <th>topic</th>\n",
       "      <th>PCA_1</th>\n",
       "      <th>PCA_2</th>\n",
       "      <th>PCA_3</th>\n",
       "      <th>PCA_4</th>\n",
       "      <th>PCA_5</th>\n",
       "    </tr>\n",
       "  </thead>\n",
       "  <tbody>\n",
       "    <tr>\n",
       "      <th>0</th>\n",
       "      <td>1</td>\n",
       "      <td>30</td>\n",
       "      <td>Russia</td>\n",
       "      <td>Kaliningrad</td>\n",
       "      <td>0</td>\n",
       "      <td>iOS</td>\n",
       "      <td>ads</td>\n",
       "      <td>sport</td>\n",
       "      <td>-0.090315</td>\n",
       "      <td>-0.195647</td>\n",
       "      <td>0.008877</td>\n",
       "      <td>-0.015622</td>\n",
       "      <td>-0.105542</td>\n",
       "    </tr>\n",
       "    <tr>\n",
       "      <th>1</th>\n",
       "      <td>0</td>\n",
       "      <td>17</td>\n",
       "      <td>Russia</td>\n",
       "      <td>Chita</td>\n",
       "      <td>1</td>\n",
       "      <td>iOS</td>\n",
       "      <td>ads</td>\n",
       "      <td>sport</td>\n",
       "      <td>-0.090315</td>\n",
       "      <td>-0.195647</td>\n",
       "      <td>0.008877</td>\n",
       "      <td>-0.015622</td>\n",
       "      <td>-0.105542</td>\n",
       "    </tr>\n",
       "    <tr>\n",
       "      <th>2</th>\n",
       "      <td>1</td>\n",
       "      <td>15</td>\n",
       "      <td>Russia</td>\n",
       "      <td>Tomsk</td>\n",
       "      <td>2</td>\n",
       "      <td>Android</td>\n",
       "      <td>ads</td>\n",
       "      <td>sport</td>\n",
       "      <td>-0.090315</td>\n",
       "      <td>-0.195647</td>\n",
       "      <td>0.008877</td>\n",
       "      <td>-0.015622</td>\n",
       "      <td>-0.105542</td>\n",
       "    </tr>\n",
       "  </tbody>\n",
       "</table>\n",
       "</div>"
      ],
      "text/plain": [
       "   gender  age country         city  exp_group       os source  topic  \\\n",
       "0       1   30  Russia  Kaliningrad          0      iOS    ads  sport   \n",
       "1       0   17  Russia        Chita          1      iOS    ads  sport   \n",
       "2       1   15  Russia        Tomsk          2  Android    ads  sport   \n",
       "\n",
       "      PCA_1     PCA_2     PCA_3     PCA_4     PCA_5  \n",
       "0 -0.090315 -0.195647  0.008877 -0.015622 -0.105542  \n",
       "1 -0.090315 -0.195647  0.008877 -0.015622 -0.105542  \n",
       "2 -0.090315 -0.195647  0.008877 -0.015622 -0.105542  "
      ]
     },
     "execution_count": 54,
     "metadata": {},
     "output_type": "execute_result"
    }
   ],
   "source": [
    "X.head(3)"
   ]
  },
  {
   "cell_type": "code",
   "execution_count": 55,
   "id": "35cdd6f5-b79f-4851-9692-35679c5814fd",
   "metadata": {},
   "outputs": [
    {
     "data": {
      "text/plain": [
       "0    0\n",
       "1    0\n",
       "2    0\n",
       "Name: target, dtype: int64"
      ]
     },
     "execution_count": 55,
     "metadata": {},
     "output_type": "execute_result"
    }
   ],
   "source": [
    "y[0:3]"
   ]
  },
  {
   "cell_type": "code",
   "execution_count": 56,
   "id": "d529d34f-ce17-4667-b2d2-bec02612d7c4",
   "metadata": {},
   "outputs": [],
   "source": [
    "# those are just basic features to proof the concept and have a baseline solution\n",
    "# will come back later to do a features engineering step properly later\n",
    "# tbc.."
   ]
  },
  {
   "cell_type": "markdown",
   "id": "8da895dc-f973-4147-9747-9dba8ed414bd",
   "metadata": {},
   "source": [
    "## 3. Тренировка модели и оценка её качества"
   ]
  },
  {
   "cell_type": "markdown",
   "id": "8cae280e-3b12-46c3-86c7-d8b2b7ba123c",
   "metadata": {},
   "source": [
    "Используя обучающую выборку, мы обучаем модель, выбирая алгоритм и его параметры. После обучения настраиваем модель и проверяем её качество на валидационной выборке. Оценка качества проводится с помощью метрик, например, точности, полноты или ROC-AUC. Этот этап помогает определить, насколько хорошо модель способна делать предсказания и где её можно улучшить.\n",
    "\n",
    "Важно понимать, что повышение локального ROC-AUC не всегда гарантирует улучшение hitrate в LMS. Поэтому мы советуем проверять, как изменения вашей валидационной метрики сказываются на hitrate в LMS, чтобы убедиться в положительном влиянии."
   ]
  },
  {
   "cell_type": "code",
   "execution_count": 57,
   "id": "449bd3d7-aa17-485a-ba59-c1806d7a7372",
   "metadata": {},
   "outputs": [],
   "source": [
    "from sklearn.model_selection import train_test_split\n",
    "\n",
    "X_train, X_test, y_train, y_test = train_test_split(X, y,\n",
    "                                                    random_state=42, \n",
    "                                                    test_size=0.25)"
   ]
  },
  {
   "cell_type": "code",
   "execution_count": 58,
   "id": "a5d9b8de-6f92-4d4c-864a-95e5415c6879",
   "metadata": {},
   "outputs": [
    {
     "data": {
      "text/plain": [
       "['country', 'city', 'os', 'source', 'topic']"
      ]
     },
     "execution_count": 58,
     "metadata": {},
     "output_type": "execute_result"
    }
   ],
   "source": [
    "cat_cols = X.select_dtypes(include='object').columns.to_list()\n",
    "cat_cols"
   ]
  },
  {
   "cell_type": "code",
   "execution_count": 59,
   "id": "5c723e55-a89e-4803-b155-9b8e014bcc97",
   "metadata": {},
   "outputs": [
    {
     "name": "stdout",
     "output_type": "stream",
     "text": [
      "Learning rate set to 0.048422\n",
      "0:\tlearn: 0.6575133\ttotal: 88ms\tremaining: 1m 27s\n",
      "100:\tlearn: 0.3535494\ttotal: 2.1s\tremaining: 18.7s\n",
      "200:\tlearn: 0.3482397\ttotal: 4.3s\tremaining: 17.1s\n",
      "300:\tlearn: 0.3426794\ttotal: 6.94s\tremaining: 16.1s\n",
      "400:\tlearn: 0.3377525\ttotal: 9.63s\tremaining: 14.4s\n",
      "500:\tlearn: 0.3335170\ttotal: 12.3s\tremaining: 12.2s\n",
      "600:\tlearn: 0.3290967\ttotal: 14.9s\tremaining: 9.9s\n",
      "700:\tlearn: 0.3250677\ttotal: 17.8s\tremaining: 7.6s\n",
      "800:\tlearn: 0.3213377\ttotal: 20.7s\tremaining: 5.13s\n",
      "900:\tlearn: 0.3176110\ttotal: 23.3s\tremaining: 2.56s\n",
      "999:\tlearn: 0.3142838\ttotal: 26s\tremaining: 0us\n"
     ]
    },
    {
     "data": {
      "text/plain": [
       "<catboost.core.CatBoostClassifier at 0x7f7a50e09490>"
      ]
     },
     "execution_count": 59,
     "metadata": {},
     "output_type": "execute_result"
    }
   ],
   "source": [
    "from catboost import CatBoostClassifier\n",
    "\n",
    "\n",
    "catboost = CatBoostClassifier()\n",
    "catboost.fit(X_train, y_train, cat_features=cat_cols, verbose=100)"
   ]
  },
  {
   "cell_type": "code",
   "execution_count": 60,
   "id": "273c9177-379a-40fc-ba84-16d897e6aaa6",
   "metadata": {},
   "outputs": [],
   "source": [
    "# Predict class labels\n",
    "y_pred = catboost.predict(X_test)\n",
    "\n",
    "# Predict probabilities\n",
    "y_pred_proba = catboost.predict_proba(X_test)\n",
    "y_pred_proba_positive = y_pred_proba[:, 1]  # Probability of class 1"
   ]
  },
  {
   "cell_type": "code",
   "execution_count": 61,
   "id": "698ae947-dfdd-4174-a2a7-ad6bdeb461ee",
   "metadata": {},
   "outputs": [
    {
     "name": "stdout",
     "output_type": "stream",
     "text": [
      "Accuracy: 0.88328\n",
      "Precision: 0.3076923076923077\n",
      "Recall: 0.002751031636863824\n",
      "F1 Score: 0.0054533060668029995\n",
      "ROC-AUC Score: 0.6440508505011305\n",
      "\n",
      "Confusion Matrix:\n",
      " [[11037     9]\n",
      " [ 1450     4]]\n"
     ]
    }
   ],
   "source": [
    "from sklearn.metrics import accuracy_score, precision_score, recall_score, f1_score, roc_auc_score, confusion_matrix\n",
    "\n",
    "\n",
    "# Evaluate the model\n",
    "accuracy = accuracy_score(y_test, y_pred)\n",
    "precision = precision_score(y_test, y_pred)\n",
    "recall = recall_score(y_test, y_pred)\n",
    "f1 = f1_score(y_test, y_pred)\n",
    "roc_auc = roc_auc_score(y_test, y_pred_proba_positive)\n",
    "\n",
    "# Print metrics\n",
    "print(\"Accuracy:\", accuracy)\n",
    "print(\"Precision:\", precision)\n",
    "print(\"Recall:\", recall)\n",
    "print(\"F1 Score:\", f1)\n",
    "print(\"ROC-AUC Score:\", roc_auc)\n",
    "\n",
    "# Confusion Matrix\n",
    "conf_matrix = confusion_matrix(y_test, y_pred)\n",
    "print(\"\\nConfusion Matrix:\\n\", conf_matrix)"
   ]
  },
  {
   "cell_type": "code",
   "execution_count": 62,
   "id": "91af3a89-42a6-46bf-860d-4f593eff7e43",
   "metadata": {},
   "outputs": [
    {
     "name": "stdout",
     "output_type": "stream",
     "text": [
      "FEATURE IMPORTANCE report\n",
      "gender: 1.63\n",
      "age: 14.44\n",
      "country: 3.34\n",
      "city: 13.95\n",
      "exp_group: 6.18\n",
      "os: 1.25\n",
      "source: 1.46\n",
      "topic: 7.61\n",
      "PCA_1: 8.87\n",
      "PCA_2: 9.63\n",
      "PCA_3: 8.85\n",
      "PCA_4: 11.47\n",
      "PCA_5: 11.31\n"
     ]
    }
   ],
   "source": [
    "feature_importance = catboost.get_feature_importance()\n",
    "feature_names = catboost.feature_names_\n",
    "\n",
    "print('FEATURE IMPORTANCE report')\n",
    "for n, i in zip(feature_names, feature_importance):\n",
    "    print(n, round(i, 2), sep=': ')"
   ]
  },
  {
   "cell_type": "code",
   "execution_count": 63,
   "id": "9344dee1-2b34-45c3-aa44-ada794725bc7",
   "metadata": {},
   "outputs": [],
   "source": [
    "# this is just a baseline solution\n",
    "# right now I do not care about model quality and metrics\n",
    "# tbc.."
   ]
  },
  {
   "cell_type": "markdown",
   "id": "6a60eeb5-9a73-4b17-a1cd-eee9ba4a21ff",
   "metadata": {},
   "source": [
    "## 4. Сохранение обученной модели"
   ]
  },
  {
   "cell_type": "markdown",
   "id": "a6cc38fa-bb07-45f9-bf09-989112e262eb",
   "metadata": {},
   "source": [
    "После того как модель успешно обучена и её качество удовлетворяет требованиям, мы сохраняем её в определённом формате, который требует модель/библиотека. Этот файл станет основой для дальнейшего использования модели, так как он содержит все необходимые данные для предсказаний, включая веса и параметры.\n",
    "\n"
   ]
  },
  {
   "cell_type": "code",
   "execution_count": 64,
   "id": "7448b23e-2b09-406c-94ef-960612201342",
   "metadata": {},
   "outputs": [],
   "source": [
    "catboost.save_model('catboost_model.cbm')"
   ]
  },
  {
   "cell_type": "code",
   "execution_count": 65,
   "id": "648d93e1-ef23-4580-b200-56f24049d5e6",
   "metadata": {},
   "outputs": [
    {
     "data": {
      "text/plain": [
       "<catboost.core.CatBoostClassifier at 0x7f7a228deee0>"
      ]
     },
     "execution_count": 65,
     "metadata": {},
     "output_type": "execute_result"
    }
   ],
   "source": [
    "loaded_model = CatBoostClassifier()\n",
    "loaded_model.load_model('catboost_model.cbm')"
   ]
  },
  {
   "cell_type": "code",
   "execution_count": 66,
   "id": "13d830a1-a4f7-40e4-b2e8-1872e8d66eb2",
   "metadata": {},
   "outputs": [],
   "source": [
    "# Predict class labels\n",
    "y_pred = loaded_model.predict(X_test)\n",
    "\n",
    "# Predict probabilities\n",
    "y_pred_proba = loaded_model.predict_proba(X_test)\n",
    "y_pred_proba_positive = y_pred_proba[:, 1]  # Probability of class 1"
   ]
  },
  {
   "cell_type": "code",
   "execution_count": 67,
   "id": "d1264373-be8a-4147-9caf-ad307fff65a6",
   "metadata": {},
   "outputs": [
    {
     "name": "stdout",
     "output_type": "stream",
     "text": [
      "Accuracy: 0.88328\n",
      "Precision: 0.3076923076923077\n",
      "Recall: 0.002751031636863824\n",
      "F1 Score: 0.0054533060668029995\n",
      "ROC-AUC Score: 0.6440508505011305\n",
      "\n",
      "Confusion Matrix:\n",
      " [[11037     9]\n",
      " [ 1450     4]]\n"
     ]
    }
   ],
   "source": [
    "# Evaluate the model\n",
    "accuracy = accuracy_score(y_test, y_pred)\n",
    "precision = precision_score(y_test, y_pred)\n",
    "recall = recall_score(y_test, y_pred)\n",
    "f1 = f1_score(y_test, y_pred)\n",
    "roc_auc = roc_auc_score(y_test, y_pred_proba_positive)\n",
    "\n",
    "# Print metrics\n",
    "print(\"Accuracy:\", accuracy)\n",
    "print(\"Precision:\", precision)\n",
    "print(\"Recall:\", recall)\n",
    "print(\"F1 Score:\", f1)\n",
    "print(\"ROC-AUC Score:\", roc_auc)\n",
    "\n",
    "# Confusion Matrix\n",
    "conf_matrix = confusion_matrix(y_test, y_pred)\n",
    "print(\"\\nConfusion Matrix:\\n\", conf_matrix)"
   ]
  },
  {
   "cell_type": "code",
   "execution_count": 68,
   "id": "80759ba4-cda4-463e-aa03-a92a67452837",
   "metadata": {},
   "outputs": [
    {
     "name": "stdout",
     "output_type": "stream",
     "text": [
      "FEATURE IMPORTANCE report\n",
      "gender: 1.63\n",
      "age: 14.44\n",
      "country: 3.34\n",
      "city: 13.95\n",
      "exp_group: 6.18\n",
      "os: 1.25\n",
      "source: 1.46\n",
      "topic: 7.61\n",
      "PCA_1: 8.87\n",
      "PCA_2: 9.63\n",
      "PCA_3: 8.85\n",
      "PCA_4: 11.47\n",
      "PCA_5: 11.31\n"
     ]
    }
   ],
   "source": [
    "feature_importance = catboost.get_feature_importance()\n",
    "feature_names = catboost.feature_names_\n",
    "\n",
    "print('FEATURE IMPORTANCE report')\n",
    "for n, i in zip(feature_names, feature_importance):\n",
    "    print(n, round(i, 2), sep=': ')"
   ]
  },
  {
   "cell_type": "code",
   "execution_count": 69,
   "id": "4efd8bba-0be3-453b-9c8b-bb0a9421f5f9",
   "metadata": {},
   "outputs": [],
   "source": [
    "# Got the same results as before, proofs that saving model to a file and then loading back - works!"
   ]
  },
  {
   "cell_type": "markdown",
   "id": "90ca76ee-4291-4fbd-a920-86e99c21c86f",
   "metadata": {},
   "source": [
    "### 4.1 Step 5 - loading model for LMS checker"
   ]
  },
  {
   "cell_type": "code",
   "execution_count": 70,
   "id": "06c04768-cf7a-43f6-aa79-019d8a89b1f0",
   "metadata": {},
   "outputs": [
    {
     "name": "stdout",
     "output_type": "stream",
     "text": [
      "Success!\n"
     ]
    }
   ],
   "source": [
    "import os\n",
    "import pandas as pd\n",
    "import numpy as np\n",
    "\n",
    "\n",
    "FILE_NAME = '/catboost_model.cbm'\n",
    "\n",
    "# getting path to a model\n",
    "def get_model_path(path: str) -> str:\n",
    "    if os.environ.get(\"IS_LMS\") == \"1\":  # проверяем где выполняется код в лмс, или локально. Немного магии\n",
    "        MODEL_PATH = '/workdir/user_input/model'\n",
    "    else:\n",
    "        MODEL_PATH = path + FILE_NAME\n",
    "    return MODEL_PATH\n",
    "\n",
    "\n",
    "# loading the model\n",
    "def load_models():\n",
    "    model_path = get_model_path(\"/home/karpov/mle/03_ml/22_rec_sys\")\n",
    "    from catboost import CatBoostClassifier\n",
    "    loaded_model = CatBoostClassifier()\n",
    "    loaded_model.load_model(model_path)\n",
    "    return loaded_model\n",
    "    \n",
    "\n",
    "# Creating data for checker\n",
    "num_rows = 10\n",
    "data = {\n",
    "    'gender': np.random.choice([1, 0], size=num_rows),  # Randomly choose gender\n",
    "    'age': np.random.randint(18, 65, size=num_rows),  # Random age between 18 and 65\n",
    "    'country': np.random.choice(['USA', 'Canada', 'UK', 'Germany'], size=num_rows),  # Random country\n",
    "    'city': np.random.choice(['New York', 'Toronto', 'London', 'Berlin'], size=num_rows),  # Random city\n",
    "    'exp_group': np.random.choice([1, 2, 3, 4], size=num_rows),  # Random experiment group\n",
    "    'os': np.random.choice(['Windows', 'Mac', 'Linux'], size=num_rows),  # Random OS\n",
    "    'source': np.random.choice(['Google', 'Facebook', 'Direct'], size=num_rows),  # Random source\n",
    "    'topic': np.random.choice(['Sports', 'Politics', 'Technology', 'Entertainment'], size=num_rows),  # Random topic\n",
    "    'PCA_1': np.random.normal(0, 1, size=num_rows),  # Random PCA component 1\n",
    "    'PCA_2': np.random.normal(0, 1, size=num_rows),  # Random PCA component 2\n",
    "    'PCA_3': np.random.normal(0, 1, size=num_rows),  # Random PCA component 3\n",
    "    'PCA_4': np.random.normal(0, 1, size=num_rows),  # Random PCA component 4\n",
    "    'PCA_5': np.random.normal(0, 1, size=num_rows),  # Random PCA component 5\n",
    "}\n",
    "X_train_fake = pd.DataFrame(data)\n",
    "\n",
    "\n",
    "# loading the model and making some prediction on fake data for LMS checker\n",
    "model = load_models()\n",
    "model.predict(X_train_fake)\n",
    "model.predict_proba(X_train_fake)\n",
    "print('Success!')"
   ]
  },
  {
   "cell_type": "markdown",
   "id": "5b099f0d-c6bc-459b-83c6-f4493cf5ed7d",
   "metadata": {},
   "source": [
    "## 5. Разработка сервиса для использования модели"
   ]
  },
  {
   "cell_type": "markdown",
   "id": "8531c986-c5e8-4fbe-b697-13b1eeae6628",
   "metadata": {},
   "source": [
    "Здесь мы создаем сервис, который позволит взаимодействовать с моделью в реальном времени. Сервис включает следующие шаги:\n",
    "\n",
    "- Загрузка модели: при запуске сервис загружает ранее сохранённую модель из файла.\n",
    "- Получение признаков: сервис принимает запросы с user_id, на основе которого формирует нужные признаки для предсказания или загружаются уже с таблиц, которые вы загрузили в базу данных КарповКурсес. Признаки в момент предсказания должны совпадать с признаками, которые были в момент обучения модели.\n",
    "- Предсказание: используя загруженную модель и полученные признаки, сервис делает предсказание — определяет посты, которые, вероятно, понравятся пользователю.\n",
    "- Возвращение ответа: сервис возвращает ответ с результатами предсказания.\n",
    "\n",
    "\n",
    "Важно: для того чтобы система проверки (чекер) могла корректно протестировать сервис, необходимо одновременно загружать как сам сервис, так и модель."
   ]
  },
  {
   "cell_type": "markdown",
   "id": "5e8c3517-11e5-4342-a92a-c3584620293f",
   "metadata": {},
   "source": [
    "### 5.1 Step 6 - Getting features"
   ]
  },
  {
   "cell_type": "code",
   "execution_count": 71,
   "id": "b8fecbac-70b7-41a6-bc1a-ef9701256969",
   "metadata": {},
   "outputs": [
    {
     "data": {
      "text/html": [
       "<div>\n",
       "<style scoped>\n",
       "    .dataframe tbody tr th:only-of-type {\n",
       "        vertical-align: middle;\n",
       "    }\n",
       "\n",
       "    .dataframe tbody tr th {\n",
       "        vertical-align: top;\n",
       "    }\n",
       "\n",
       "    .dataframe thead th {\n",
       "        text-align: right;\n",
       "    }\n",
       "</style>\n",
       "<table border=\"1\" class=\"dataframe\">\n",
       "  <thead>\n",
       "    <tr style=\"text-align: right;\">\n",
       "      <th></th>\n",
       "      <th>user_id</th>\n",
       "      <th>gender</th>\n",
       "      <th>age</th>\n",
       "      <th>country</th>\n",
       "      <th>city</th>\n",
       "      <th>exp_group</th>\n",
       "      <th>os</th>\n",
       "      <th>source</th>\n",
       "    </tr>\n",
       "  </thead>\n",
       "  <tbody>\n",
       "    <tr>\n",
       "      <th>0</th>\n",
       "      <td>200</td>\n",
       "      <td>1</td>\n",
       "      <td>34</td>\n",
       "      <td>Russia</td>\n",
       "      <td>Degtyarsk</td>\n",
       "      <td>3</td>\n",
       "      <td>Android</td>\n",
       "      <td>ads</td>\n",
       "    </tr>\n",
       "    <tr>\n",
       "      <th>1</th>\n",
       "      <td>201</td>\n",
       "      <td>0</td>\n",
       "      <td>37</td>\n",
       "      <td>Russia</td>\n",
       "      <td>Abakan</td>\n",
       "      <td>0</td>\n",
       "      <td>Android</td>\n",
       "      <td>ads</td>\n",
       "    </tr>\n",
       "    <tr>\n",
       "      <th>2</th>\n",
       "      <td>202</td>\n",
       "      <td>1</td>\n",
       "      <td>17</td>\n",
       "      <td>Russia</td>\n",
       "      <td>Smolensk</td>\n",
       "      <td>4</td>\n",
       "      <td>Android</td>\n",
       "      <td>ads</td>\n",
       "    </tr>\n",
       "  </tbody>\n",
       "</table>\n",
       "</div>"
      ],
      "text/plain": [
       "   user_id  gender  age country       city  exp_group       os source\n",
       "0      200       1   34  Russia  Degtyarsk          3  Android    ads\n",
       "1      201       0   37  Russia     Abakan          0  Android    ads\n",
       "2      202       1   17  Russia   Smolensk          4  Android    ads"
      ]
     },
     "execution_count": 71,
     "metadata": {},
     "output_type": "execute_result"
    }
   ],
   "source": [
    "user_df.head(3)"
   ]
  },
  {
   "cell_type": "code",
   "execution_count": 72,
   "id": "62145f88-2c22-4f4b-91ed-f8ba51dca0b1",
   "metadata": {},
   "outputs": [
    {
     "data": {
      "text/plain": [
       "205"
      ]
     },
     "execution_count": 72,
     "metadata": {},
     "output_type": "execute_result"
    }
   ],
   "source": [
    "user_df.to_sql('nktn_lx_step6_draft', con=engine, if_exists='replace', index=False) # записываем таблицу"
   ]
  },
  {
   "cell_type": "code",
   "execution_count": 73,
   "id": "c976cc12-17f0-4cbc-9c19-869a68c051bb",
   "metadata": {},
   "outputs": [],
   "source": [
    "user_df_draft = pd.read_sql('SELECT * FROM \"nktn_lx_step6_draft\"', con=engine)"
   ]
  },
  {
   "cell_type": "code",
   "execution_count": 74,
   "id": "1c0589a4-03a4-4ee7-9e42-efdb7eaeceed",
   "metadata": {},
   "outputs": [
    {
     "data": {
      "text/html": [
       "<div>\n",
       "<style scoped>\n",
       "    .dataframe tbody tr th:only-of-type {\n",
       "        vertical-align: middle;\n",
       "    }\n",
       "\n",
       "    .dataframe tbody tr th {\n",
       "        vertical-align: top;\n",
       "    }\n",
       "\n",
       "    .dataframe thead th {\n",
       "        text-align: right;\n",
       "    }\n",
       "</style>\n",
       "<table border=\"1\" class=\"dataframe\">\n",
       "  <thead>\n",
       "    <tr style=\"text-align: right;\">\n",
       "      <th></th>\n",
       "      <th>user_id</th>\n",
       "      <th>gender</th>\n",
       "      <th>age</th>\n",
       "      <th>country</th>\n",
       "      <th>city</th>\n",
       "      <th>exp_group</th>\n",
       "      <th>os</th>\n",
       "      <th>source</th>\n",
       "    </tr>\n",
       "  </thead>\n",
       "  <tbody>\n",
       "    <tr>\n",
       "      <th>0</th>\n",
       "      <td>200</td>\n",
       "      <td>1</td>\n",
       "      <td>34</td>\n",
       "      <td>Russia</td>\n",
       "      <td>Degtyarsk</td>\n",
       "      <td>3</td>\n",
       "      <td>Android</td>\n",
       "      <td>ads</td>\n",
       "    </tr>\n",
       "    <tr>\n",
       "      <th>1</th>\n",
       "      <td>201</td>\n",
       "      <td>0</td>\n",
       "      <td>37</td>\n",
       "      <td>Russia</td>\n",
       "      <td>Abakan</td>\n",
       "      <td>0</td>\n",
       "      <td>Android</td>\n",
       "      <td>ads</td>\n",
       "    </tr>\n",
       "    <tr>\n",
       "      <th>2</th>\n",
       "      <td>202</td>\n",
       "      <td>1</td>\n",
       "      <td>17</td>\n",
       "      <td>Russia</td>\n",
       "      <td>Smolensk</td>\n",
       "      <td>4</td>\n",
       "      <td>Android</td>\n",
       "      <td>ads</td>\n",
       "    </tr>\n",
       "  </tbody>\n",
       "</table>\n",
       "</div>"
      ],
      "text/plain": [
       "   user_id  gender  age country       city  exp_group       os source\n",
       "0      200       1   34  Russia  Degtyarsk          3  Android    ads\n",
       "1      201       0   37  Russia     Abakan          0  Android    ads\n",
       "2      202       1   17  Russia   Smolensk          4  Android    ads"
      ]
     },
     "execution_count": 74,
     "metadata": {},
     "output_type": "execute_result"
    }
   ],
   "source": [
    "user_df_draft.head(3)"
   ]
  },
  {
   "cell_type": "code",
   "execution_count": 75,
   "id": "13cc121e-a0b3-402c-adb4-d44cd1d69986",
   "metadata": {},
   "outputs": [
    {
     "data": {
      "text/plain": [
       "163205"
      ]
     },
     "execution_count": 75,
     "metadata": {},
     "output_type": "execute_result"
    }
   ],
   "source": [
    "user_df.user_id.nunique()"
   ]
  },
  {
   "cell_type": "code",
   "execution_count": 76,
   "id": "1b60eb47-02a8-4244-829e-0645f042fbd8",
   "metadata": {},
   "outputs": [
    {
     "data": {
      "text/plain": [
       "163205"
      ]
     },
     "execution_count": 76,
     "metadata": {},
     "output_type": "execute_result"
    }
   ],
   "source": [
    "user_df_draft.user_id.nunique()"
   ]
  },
  {
   "cell_type": "code",
   "execution_count": 77,
   "id": "10081c4a-baea-4381-99a2-e5d5ac1e6594",
   "metadata": {},
   "outputs": [],
   "source": [
    "def batch_load_sql(query: str) -> pd.DataFrame:\n",
    "    CHUNKSIZE = 200000\n",
    "    engine = create_engine(\n",
    "        \"postgresql://robot-startml-ro:pheiph0hahj1Vaif@\"\n",
    "        \"postgres.lab.karpov.courses:6432/startml\"\n",
    "    )\n",
    "    conn = engine.connect().execution_options(stream_results=True)\n",
    "    chunks = []\n",
    "    for chunk_dataframe in pd.read_sql(query, conn, chunksize=CHUNKSIZE):\n",
    "        chunks.append(chunk_dataframe)\n",
    "    conn.close()\n",
    "    return pd.concat(chunks, ignore_index=True)"
   ]
  },
  {
   "cell_type": "code",
   "execution_count": 78,
   "id": "61571014-a930-49d1-ae5c-8885a944315b",
   "metadata": {},
   "outputs": [],
   "source": [
    "def load_features() -> pd.DataFrame:\n",
    "    QUERY = 'SELECT * FROM \"nktn_lx_step6_draft\"'\n",
    "    features_df = batch_load_sql(QUERY)\n",
    "    return features_df"
   ]
  },
  {
   "cell_type": "code",
   "execution_count": 79,
   "id": "e5cb0fec-610c-49c0-b801-eef38ecc8530",
   "metadata": {},
   "outputs": [],
   "source": [
    "user_df_chunks = load_features()"
   ]
  },
  {
   "cell_type": "code",
   "execution_count": 80,
   "id": "74a6a6e7-5208-40fb-a02a-82f23bc99344",
   "metadata": {},
   "outputs": [
    {
     "data": {
      "text/html": [
       "<div>\n",
       "<style scoped>\n",
       "    .dataframe tbody tr th:only-of-type {\n",
       "        vertical-align: middle;\n",
       "    }\n",
       "\n",
       "    .dataframe tbody tr th {\n",
       "        vertical-align: top;\n",
       "    }\n",
       "\n",
       "    .dataframe thead th {\n",
       "        text-align: right;\n",
       "    }\n",
       "</style>\n",
       "<table border=\"1\" class=\"dataframe\">\n",
       "  <thead>\n",
       "    <tr style=\"text-align: right;\">\n",
       "      <th></th>\n",
       "      <th>user_id</th>\n",
       "      <th>gender</th>\n",
       "      <th>age</th>\n",
       "      <th>country</th>\n",
       "      <th>city</th>\n",
       "      <th>exp_group</th>\n",
       "      <th>os</th>\n",
       "      <th>source</th>\n",
       "    </tr>\n",
       "  </thead>\n",
       "  <tbody>\n",
       "    <tr>\n",
       "      <th>0</th>\n",
       "      <td>200</td>\n",
       "      <td>1</td>\n",
       "      <td>34</td>\n",
       "      <td>Russia</td>\n",
       "      <td>Degtyarsk</td>\n",
       "      <td>3</td>\n",
       "      <td>Android</td>\n",
       "      <td>ads</td>\n",
       "    </tr>\n",
       "    <tr>\n",
       "      <th>1</th>\n",
       "      <td>201</td>\n",
       "      <td>0</td>\n",
       "      <td>37</td>\n",
       "      <td>Russia</td>\n",
       "      <td>Abakan</td>\n",
       "      <td>0</td>\n",
       "      <td>Android</td>\n",
       "      <td>ads</td>\n",
       "    </tr>\n",
       "    <tr>\n",
       "      <th>2</th>\n",
       "      <td>202</td>\n",
       "      <td>1</td>\n",
       "      <td>17</td>\n",
       "      <td>Russia</td>\n",
       "      <td>Smolensk</td>\n",
       "      <td>4</td>\n",
       "      <td>Android</td>\n",
       "      <td>ads</td>\n",
       "    </tr>\n",
       "  </tbody>\n",
       "</table>\n",
       "</div>"
      ],
      "text/plain": [
       "   user_id  gender  age country       city  exp_group       os source\n",
       "0      200       1   34  Russia  Degtyarsk          3  Android    ads\n",
       "1      201       0   37  Russia     Abakan          0  Android    ads\n",
       "2      202       1   17  Russia   Smolensk          4  Android    ads"
      ]
     },
     "execution_count": 80,
     "metadata": {},
     "output_type": "execute_result"
    }
   ],
   "source": [
    "user_df_chunks.head(3)"
   ]
  },
  {
   "cell_type": "code",
   "execution_count": 81,
   "id": "08ba5956-a01c-43a7-bb7d-7892e0ebe840",
   "metadata": {},
   "outputs": [
    {
     "data": {
      "text/plain": [
       "163205"
      ]
     },
     "execution_count": 81,
     "metadata": {},
     "output_type": "execute_result"
    }
   ],
   "source": [
    "user_df_chunks.user_id.nunique()"
   ]
  },
  {
   "cell_type": "markdown",
   "id": "36e13dfc-3493-42d4-a025-c82b1584131e",
   "metadata": {},
   "source": [
    "## 6. Загрузка сервиса в LMS для проверки (чекер)"
   ]
  },
  {
   "cell_type": "markdown",
   "id": "47d7ea39-819d-497e-8019-e35d85514155",
   "metadata": {},
   "source": [
    "После завершения разработки сервис и модель загружаются в LMS, где автоматический чекер выполняет тестирование. Чекер проверяет, соответствует ли сервис требованиям, выполняет ли корректные предсказания, работает ли без ошибок и насколько быстро отвечает на запросы. Успешное прохождение проверки подтверждает готовность модели к использованию в продакшене."
   ]
  },
  {
   "cell_type": "markdown",
   "id": "03435e81-51e0-4e23-95a4-b32936cf2865",
   "metadata": {},
   "source": [
    "### 6.1 Step 7 - Checking API draft"
   ]
  },
  {
   "cell_type": "code",
   "execution_count": null,
   "id": "1ff63741-9f56-47bf-9a49-5287dbfbab73",
   "metadata": {},
   "outputs": [],
   "source": [
    "import os\n",
    "import random\n",
    "from typing import List\n",
    "\n",
    "import pandas as pd\n",
    "from sqlalchemy import create_engine\n",
    "from fastapi import FastAPI\n",
    "from schema import PostGet\n",
    "from datetime import datetime\n",
    "\n",
    "\n",
    "engine = create_engine(\n",
    "    \"postgresql://robot-startml-ro:pheiph0hahj1Vaif@\"\n",
    "    \"postgres.lab.karpov.courses:6432/startml\"\n",
    ")\n",
    "\n",
    "# step 5 - start\n",
    "# getting path to a model\n",
    "def get_model_path(path: str) -> str:\n",
    "    if os.environ.get(\"IS_LMS\") == \"1\":  # проверяем где выполняется код в лмс, или локально. Немного магии\n",
    "        MODEL_PATH = '/workdir/user_input/model'\n",
    "    else:\n",
    "        MODEL_PATH = path\n",
    "    return MODEL_PATH\n",
    "\n",
    "\n",
    "# loading the model\n",
    "def load_models():\n",
    "    model_path = get_model_path(\"/Users/nikitin_a/PycharmProjects/l22_rec_sys/catboost_model.cbm\")\n",
    "    from catboost import CatBoostClassifier\n",
    "    loaded_model = CatBoostClassifier()\n",
    "    loaded_model.load_model(model_path)\n",
    "    return loaded_model\n",
    "\n",
    "\n",
    "# loading the model\n",
    "model = load_models()\n",
    "\n",
    "\n",
    "# step 6 - start\n",
    "def batch_load_sql(query: str) -> pd.DataFrame:\n",
    "    CHUNKSIZE = 200000\n",
    "    engine = create_engine(\n",
    "        \"postgresql://robot-startml-ro:pheiph0hahj1Vaif@\"\n",
    "        \"postgres.lab.karpov.courses:6432/startml\"\n",
    "    )\n",
    "    conn = engine.connect().execution_options(stream_results=True)\n",
    "    chunks = []\n",
    "    for chunk_dataframe in pd.read_sql(query, conn, chunksize=CHUNKSIZE):\n",
    "        chunks.append(chunk_dataframe)\n",
    "    conn.close()\n",
    "    return pd.concat(chunks, ignore_index=True)\n",
    "\n",
    "\n",
    "def load_features() -> pd.DataFrame:\n",
    "    QUERY = 'SELECT * FROM \"nktn_lx_step7_draft\"'\n",
    "    loaded_features_df = batch_load_sql(QUERY)\n",
    "    return loaded_features_df\n",
    "\n",
    "\n",
    "# loading dataframe with features\n",
    "features_df = load_features()\n",
    "\n",
    "\n",
    "# step 7 - start\n",
    "posts_df = pd.read_sql('SELECT * FROM \"post_text_df\"', con=engine)\n",
    "\n",
    "app = FastAPI()\n",
    "\n",
    "@app.get(\"/post/recommendations/\", response_model=List[PostGet])\n",
    "def recommended_posts(\n",
    "        id: int,\n",
    "        time: datetime,\n",
    "        limit: int = 10) -> List[PostGet]:\n",
    "    user_df = features_df[features_df['user_id'] == id]\n",
    "    user_features_df = user_df.drop(['target', 'user_id', 'post_id'], axis=1)\n",
    "\n",
    "    y_pred_proba = model.predict_proba(user_features_df)\n",
    "    y_pred_proba_positive = y_pred_proba[:, 1]\n",
    "\n",
    "    user_df['probability'] = y_pred_proba_positive\n",
    "    user_df.sort_values('probability', ascending=False) \\\n",
    "        .drop_duplicates(subset='post_id', keep='first', inplace=True)\n",
    "\n",
    "    ## TO-DO:\n",
    "    # учесть те посты, что уже были залайканы, т.е.\n",
    "    # В сервисе вам нужно будет выгрузить все строки с лайками, для того чтобы отфильтровать те посты которые нужный пользователь уже лайнул.\n",
    "    \n",
    "    \n",
    "    top_posts_ids = user_df.head(limit).post_id.to_list()\n",
    "    if len(top_posts_ids) < limit:\n",
    "        random_items = limit - len(top_posts_ids)\n",
    "        top_posts_ids.extend(random.sample(posts_df.post_id.to_list(), k=random_items))\n",
    "\n",
    "    top_posts_df = posts_df.query('post_id in @top_posts_ids')\n",
    "    top_posts_df['user_id'] = id\n",
    "\n",
    "    result = [\n",
    "        PostGet(\n",
    "            id=row['user_id'],\n",
    "            text=row.get('text', ''),\n",
    "            topic=row.get('topic', '')\n",
    "        )\n",
    "        for _, row in top_posts_df.iterrows()\n",
    "    ]\n",
    "\n",
    "    return result\n"
   ]
  },
  {
   "cell_type": "code",
   "execution_count": null,
   "id": "4816539d-27e0-4800-820c-44d9c447508b",
   "metadata": {},
   "outputs": [],
   "source": [
    "# this is just a service draft, not the working service itself\n",
    "# I'm just checking the the data model is correct and I receive responses from the API "
   ]
  },
  {
   "cell_type": "markdown",
   "id": "13bd975b-d714-464f-9a43-972562667254",
   "metadata": {},
   "source": [
    "### 6.2 - The Whole Pipeline"
   ]
  },
  {
   "cell_type": "code",
   "execution_count": 1,
   "id": "9c847fc5-5dae-4666-9edb-fdbae651c797",
   "metadata": {},
   "outputs": [],
   "source": [
    "import pandas as pd\n",
    "import numpy as np\n",
    "from sqlalchemy import create_engine\n",
    "\n",
    "import gc\n",
    "import psutil"
   ]
  },
  {
   "cell_type": "code",
   "execution_count": 2,
   "id": "e2007177-5528-4386-bc90-10f8ad65a4fb",
   "metadata": {},
   "outputs": [],
   "source": [
    "engine = create_engine(\n",
    "    \"postgresql://robot-startml-ro:pheiph0hahj1Vaif@\"\n",
    "    \"postgres.lab.karpov.courses:6432/startml\"\n",
    ")"
   ]
  },
  {
   "cell_type": "markdown",
   "id": "0c69be5a-e78a-44b8-bf7f-ee5c34c48653",
   "metadata": {
    "tags": []
   },
   "source": [
    "#### Получение feed_df 5 млн"
   ]
  },
  {
   "cell_type": "markdown",
   "id": "e648e757-a643-4801-b3c0-d5011e090740",
   "metadata": {},
   "source": [
    "Собираем для каждого юзера посты с лайками. "
   ]
  },
  {
   "cell_type": "code",
   "execution_count": 3,
   "id": "84720f61-8e20-464c-b7c4-b98ef3b69728",
   "metadata": {},
   "outputs": [],
   "source": [
    "query = \"\"\"\n",
    "SELECT \n",
    "  f.timestamp,\n",
    "  f.user_id,\n",
    "  f.post_id,\n",
    "  f.target\n",
    "FROM (\n",
    "  SELECT\n",
    "    fd.timestamp,\n",
    "    fd.user_id,\n",
    "    fd.post_id,\n",
    "    fd.target,\n",
    "    ROW_NUMBER() OVER(PARTITION BY fd.user_id ORDER BY fd.target DESC) rn\n",
    "  FROM \n",
    "    feed_data fd\n",
    "  WHERE \n",
    "    fd.action != 'like'\n",
    ") AS f\n",
    "WHERE \n",
    "  f.rn <=15\n",
    "\"\"\""
   ]
  },
  {
   "cell_type": "code",
   "execution_count": 4,
   "id": "a4d3041b-6c6d-4bac-9c8d-2564fb530557",
   "metadata": {},
   "outputs": [],
   "source": [
    "feed_df_likes = pd.read_sql(query, con=engine)"
   ]
  },
  {
   "cell_type": "code",
   "execution_count": 5,
   "id": "98a456b4-34c0-4728-be64-dcce5c1c6459",
   "metadata": {},
   "outputs": [
    {
     "data": {
      "text/html": [
       "<div>\n",
       "<style scoped>\n",
       "    .dataframe tbody tr th:only-of-type {\n",
       "        vertical-align: middle;\n",
       "    }\n",
       "\n",
       "    .dataframe tbody tr th {\n",
       "        vertical-align: top;\n",
       "    }\n",
       "\n",
       "    .dataframe thead th {\n",
       "        text-align: right;\n",
       "    }\n",
       "</style>\n",
       "<table border=\"1\" class=\"dataframe\">\n",
       "  <thead>\n",
       "    <tr style=\"text-align: right;\">\n",
       "      <th></th>\n",
       "      <th>timestamp</th>\n",
       "      <th>user_id</th>\n",
       "      <th>post_id</th>\n",
       "      <th>target</th>\n",
       "    </tr>\n",
       "  </thead>\n",
       "  <tbody>\n",
       "    <tr>\n",
       "      <th>0</th>\n",
       "      <td>2021-10-02 14:07:30</td>\n",
       "      <td>200</td>\n",
       "      <td>6264</td>\n",
       "      <td>1</td>\n",
       "    </tr>\n",
       "    <tr>\n",
       "      <th>1</th>\n",
       "      <td>2021-12-29 14:55:04</td>\n",
       "      <td>200</td>\n",
       "      <td>4200</td>\n",
       "      <td>1</td>\n",
       "    </tr>\n",
       "    <tr>\n",
       "      <th>2</th>\n",
       "      <td>2021-12-29 14:58:19</td>\n",
       "      <td>200</td>\n",
       "      <td>3567</td>\n",
       "      <td>1</td>\n",
       "    </tr>\n",
       "    <tr>\n",
       "      <th>3</th>\n",
       "      <td>2021-12-29 15:03:05</td>\n",
       "      <td>200</td>\n",
       "      <td>3539</td>\n",
       "      <td>1</td>\n",
       "    </tr>\n",
       "    <tr>\n",
       "      <th>4</th>\n",
       "      <td>2021-12-29 15:18:42</td>\n",
       "      <td>200</td>\n",
       "      <td>994</td>\n",
       "      <td>1</td>\n",
       "    </tr>\n",
       "    <tr>\n",
       "      <th>...</th>\n",
       "      <td>...</td>\n",
       "      <td>...</td>\n",
       "      <td>...</td>\n",
       "      <td>...</td>\n",
       "    </tr>\n",
       "    <tr>\n",
       "      <th>2448070</th>\n",
       "      <td>2021-11-07 06:41:39</td>\n",
       "      <td>168552</td>\n",
       "      <td>4760</td>\n",
       "      <td>1</td>\n",
       "    </tr>\n",
       "    <tr>\n",
       "      <th>2448071</th>\n",
       "      <td>2021-11-23 14:57:04</td>\n",
       "      <td>168552</td>\n",
       "      <td>3817</td>\n",
       "      <td>1</td>\n",
       "    </tr>\n",
       "    <tr>\n",
       "      <th>2448072</th>\n",
       "      <td>2021-12-07 18:22:13</td>\n",
       "      <td>168552</td>\n",
       "      <td>7063</td>\n",
       "      <td>1</td>\n",
       "    </tr>\n",
       "    <tr>\n",
       "      <th>2448073</th>\n",
       "      <td>2021-12-07 18:37:22</td>\n",
       "      <td>168552</td>\n",
       "      <td>3428</td>\n",
       "      <td>0</td>\n",
       "    </tr>\n",
       "    <tr>\n",
       "      <th>2448074</th>\n",
       "      <td>2021-12-07 18:36:59</td>\n",
       "      <td>168552</td>\n",
       "      <td>2339</td>\n",
       "      <td>0</td>\n",
       "    </tr>\n",
       "  </tbody>\n",
       "</table>\n",
       "<p>2448075 rows × 4 columns</p>\n",
       "</div>"
      ],
      "text/plain": [
       "                  timestamp  user_id  post_id  target\n",
       "0       2021-10-02 14:07:30      200     6264       1\n",
       "1       2021-12-29 14:55:04      200     4200       1\n",
       "2       2021-12-29 14:58:19      200     3567       1\n",
       "3       2021-12-29 15:03:05      200     3539       1\n",
       "4       2021-12-29 15:18:42      200      994       1\n",
       "...                     ...      ...      ...     ...\n",
       "2448070 2021-11-07 06:41:39   168552     4760       1\n",
       "2448071 2021-11-23 14:57:04   168552     3817       1\n",
       "2448072 2021-12-07 18:22:13   168552     7063       1\n",
       "2448073 2021-12-07 18:37:22   168552     3428       0\n",
       "2448074 2021-12-07 18:36:59   168552     2339       0\n",
       "\n",
       "[2448075 rows x 4 columns]"
      ]
     },
     "execution_count": 5,
     "metadata": {},
     "output_type": "execute_result"
    }
   ],
   "source": [
    "feed_df_likes"
   ]
  },
  {
   "cell_type": "code",
   "execution_count": 6,
   "id": "da59e542-baa9-47cb-897f-cc02c1d70ad0",
   "metadata": {},
   "outputs": [
    {
     "data": {
      "text/plain": [
       "163205"
      ]
     },
     "execution_count": 6,
     "metadata": {},
     "output_type": "execute_result"
    }
   ],
   "source": [
    "feed_df_likes.user_id.nunique()"
   ]
  },
  {
   "cell_type": "code",
   "execution_count": 7,
   "id": "1deca900-7d4e-4d6c-b1ad-2d89d8b693ca",
   "metadata": {},
   "outputs": [
    {
     "data": {
      "text/plain": [
       "6831"
      ]
     },
     "execution_count": 7,
     "metadata": {},
     "output_type": "execute_result"
    }
   ],
   "source": [
    "feed_df_likes.post_id.nunique()"
   ]
  },
  {
   "cell_type": "code",
   "execution_count": 8,
   "id": "965e3c49-8249-4fd4-85f9-12cf88e811c8",
   "metadata": {},
   "outputs": [
    {
     "name": "stdout",
     "output_type": "stream",
     "text": [
      "Memory usage: 390.02 MB\n",
      "Memory usage after gc: 390.02 MB\n"
     ]
    }
   ],
   "source": [
    "# Check memory usage\n",
    "print(f\"Memory usage: {psutil.Process().memory_info().rss / 1024 ** 2:.2f} MB\")\n",
    "\n",
    "# Force garbage collection\n",
    "gc.collect()\n",
    "\n",
    "# Check memory usage again\n",
    "print(f\"Memory usage after gc: {psutil.Process().memory_info().rss / 1024 ** 2:.2f} MB\")"
   ]
  },
  {
   "cell_type": "markdown",
   "id": "1e6a536d-45a2-4d2d-b027-20ae327dd9e4",
   "metadata": {},
   "source": [
    "Собираем для каждого юзера посты без лайков. "
   ]
  },
  {
   "cell_type": "code",
   "execution_count": 9,
   "id": "93117b03-686d-45e5-a6e8-a186b03a2b6c",
   "metadata": {},
   "outputs": [],
   "source": [
    "query = \"\"\"\n",
    "SELECT \n",
    "  f.timestamp,\n",
    "  f.user_id,\n",
    "  f.post_id,\n",
    "  f.target\n",
    "FROM (\n",
    "  SELECT\n",
    "    fd.timestamp,\n",
    "    fd.user_id,\n",
    "    fd.post_id,\n",
    "    fd.target,\n",
    "    ROW_NUMBER() OVER(PARTITION BY fd.user_id ORDER BY fd.target ASC) rn\n",
    "  FROM \n",
    "    feed_data fd\n",
    "  WHERE \n",
    "    fd.action != 'like'\n",
    ") AS f\n",
    "WHERE \n",
    "  f.rn <=15\n",
    "\"\"\""
   ]
  },
  {
   "cell_type": "code",
   "execution_count": 10,
   "id": "b598de9e-34c9-4717-9157-dff9973c2e76",
   "metadata": {},
   "outputs": [],
   "source": [
    "feed_df_views = pd.read_sql(query, con=engine)"
   ]
  },
  {
   "cell_type": "code",
   "execution_count": 11,
   "id": "ef257b33-6396-46db-aac7-7cfcddbe02aa",
   "metadata": {},
   "outputs": [
    {
     "data": {
      "text/html": [
       "<div>\n",
       "<style scoped>\n",
       "    .dataframe tbody tr th:only-of-type {\n",
       "        vertical-align: middle;\n",
       "    }\n",
       "\n",
       "    .dataframe tbody tr th {\n",
       "        vertical-align: top;\n",
       "    }\n",
       "\n",
       "    .dataframe thead th {\n",
       "        text-align: right;\n",
       "    }\n",
       "</style>\n",
       "<table border=\"1\" class=\"dataframe\">\n",
       "  <thead>\n",
       "    <tr style=\"text-align: right;\">\n",
       "      <th></th>\n",
       "      <th>timestamp</th>\n",
       "      <th>user_id</th>\n",
       "      <th>post_id</th>\n",
       "      <th>target</th>\n",
       "    </tr>\n",
       "  </thead>\n",
       "  <tbody>\n",
       "    <tr>\n",
       "      <th>0</th>\n",
       "      <td>2021-10-29 19:12:00</td>\n",
       "      <td>200</td>\n",
       "      <td>6738</td>\n",
       "      <td>0</td>\n",
       "    </tr>\n",
       "    <tr>\n",
       "      <th>1</th>\n",
       "      <td>2021-10-29 19:15:39</td>\n",
       "      <td>200</td>\n",
       "      <td>5007</td>\n",
       "      <td>0</td>\n",
       "    </tr>\n",
       "    <tr>\n",
       "      <th>2</th>\n",
       "      <td>2021-10-29 19:15:54</td>\n",
       "      <td>200</td>\n",
       "      <td>4998</td>\n",
       "      <td>0</td>\n",
       "    </tr>\n",
       "    <tr>\n",
       "      <th>3</th>\n",
       "      <td>2021-10-29 19:18:36</td>\n",
       "      <td>200</td>\n",
       "      <td>620</td>\n",
       "      <td>0</td>\n",
       "    </tr>\n",
       "    <tr>\n",
       "      <th>4</th>\n",
       "      <td>2021-10-29 19:19:30</td>\n",
       "      <td>200</td>\n",
       "      <td>5684</td>\n",
       "      <td>0</td>\n",
       "    </tr>\n",
       "    <tr>\n",
       "      <th>...</th>\n",
       "      <td>...</td>\n",
       "      <td>...</td>\n",
       "      <td>...</td>\n",
       "      <td>...</td>\n",
       "    </tr>\n",
       "    <tr>\n",
       "      <th>2448070</th>\n",
       "      <td>2021-10-14 11:03:56</td>\n",
       "      <td>168552</td>\n",
       "      <td>2829</td>\n",
       "      <td>0</td>\n",
       "    </tr>\n",
       "    <tr>\n",
       "      <th>2448071</th>\n",
       "      <td>2021-12-20 18:47:39</td>\n",
       "      <td>168552</td>\n",
       "      <td>3205</td>\n",
       "      <td>0</td>\n",
       "    </tr>\n",
       "    <tr>\n",
       "      <th>2448072</th>\n",
       "      <td>2021-10-14 11:02:20</td>\n",
       "      <td>168552</td>\n",
       "      <td>4428</td>\n",
       "      <td>0</td>\n",
       "    </tr>\n",
       "    <tr>\n",
       "      <th>2448073</th>\n",
       "      <td>2021-12-07 18:58:26</td>\n",
       "      <td>168552</td>\n",
       "      <td>1229</td>\n",
       "      <td>0</td>\n",
       "    </tr>\n",
       "    <tr>\n",
       "      <th>2448074</th>\n",
       "      <td>2021-12-07 18:56:17</td>\n",
       "      <td>168552</td>\n",
       "      <td>4135</td>\n",
       "      <td>0</td>\n",
       "    </tr>\n",
       "  </tbody>\n",
       "</table>\n",
       "<p>2448075 rows × 4 columns</p>\n",
       "</div>"
      ],
      "text/plain": [
       "                  timestamp  user_id  post_id  target\n",
       "0       2021-10-29 19:12:00      200     6738       0\n",
       "1       2021-10-29 19:15:39      200     5007       0\n",
       "2       2021-10-29 19:15:54      200     4998       0\n",
       "3       2021-10-29 19:18:36      200      620       0\n",
       "4       2021-10-29 19:19:30      200     5684       0\n",
       "...                     ...      ...      ...     ...\n",
       "2448070 2021-10-14 11:03:56   168552     2829       0\n",
       "2448071 2021-12-20 18:47:39   168552     3205       0\n",
       "2448072 2021-10-14 11:02:20   168552     4428       0\n",
       "2448073 2021-12-07 18:58:26   168552     1229       0\n",
       "2448074 2021-12-07 18:56:17   168552     4135       0\n",
       "\n",
       "[2448075 rows x 4 columns]"
      ]
     },
     "execution_count": 11,
     "metadata": {},
     "output_type": "execute_result"
    }
   ],
   "source": [
    "feed_df_views"
   ]
  },
  {
   "cell_type": "code",
   "execution_count": 12,
   "id": "0956cd93-5f4d-4b98-8029-4c04bf0ab93c",
   "metadata": {},
   "outputs": [
    {
     "data": {
      "text/plain": [
       "163205"
      ]
     },
     "execution_count": 12,
     "metadata": {},
     "output_type": "execute_result"
    }
   ],
   "source": [
    "feed_df_views.user_id.nunique()"
   ]
  },
  {
   "cell_type": "code",
   "execution_count": 13,
   "id": "831a4658-4ae3-4ef7-8c67-58e108f6e2d0",
   "metadata": {},
   "outputs": [
    {
     "data": {
      "text/plain": [
       "6831"
      ]
     },
     "execution_count": 13,
     "metadata": {},
     "output_type": "execute_result"
    }
   ],
   "source": [
    "feed_df_views.post_id.nunique()"
   ]
  },
  {
   "cell_type": "code",
   "execution_count": 14,
   "id": "6c302737-1b8d-42ed-a775-a6c5c5a0c903",
   "metadata": {},
   "outputs": [
    {
     "name": "stdout",
     "output_type": "stream",
     "text": [
      "Memory usage: 391.88 MB\n",
      "Memory usage after gc: 391.88 MB\n"
     ]
    }
   ],
   "source": [
    "# Check memory usage\n",
    "print(f\"Memory usage: {psutil.Process().memory_info().rss / 1024 ** 2:.2f} MB\")\n",
    "\n",
    "# Force garbage collection\n",
    "gc.collect()\n",
    "\n",
    "# Check memory usage again\n",
    "print(f\"Memory usage after gc: {psutil.Process().memory_info().rss / 1024 ** 2:.2f} MB\")"
   ]
  },
  {
   "cell_type": "markdown",
   "id": "7af29409-e52b-40ca-93f7-c2b62a63557a",
   "metadata": {},
   "source": [
    "Объединяем лайки и просто просмотры. "
   ]
  },
  {
   "cell_type": "code",
   "execution_count": 15,
   "id": "edc6a34c-85fb-4f07-8910-645a5cdedcd1",
   "metadata": {},
   "outputs": [],
   "source": [
    "feed_df = pd.concat([feed_df_likes, feed_df_views], ignore_index=True)"
   ]
  },
  {
   "cell_type": "code",
   "execution_count": 16,
   "id": "ea4fd0d0-a653-455c-b95b-54dc4324b077",
   "metadata": {},
   "outputs": [
    {
     "data": {
      "text/html": [
       "<div>\n",
       "<style scoped>\n",
       "    .dataframe tbody tr th:only-of-type {\n",
       "        vertical-align: middle;\n",
       "    }\n",
       "\n",
       "    .dataframe tbody tr th {\n",
       "        vertical-align: top;\n",
       "    }\n",
       "\n",
       "    .dataframe thead th {\n",
       "        text-align: right;\n",
       "    }\n",
       "</style>\n",
       "<table border=\"1\" class=\"dataframe\">\n",
       "  <thead>\n",
       "    <tr style=\"text-align: right;\">\n",
       "      <th></th>\n",
       "      <th>timestamp</th>\n",
       "      <th>user_id</th>\n",
       "      <th>post_id</th>\n",
       "      <th>target</th>\n",
       "    </tr>\n",
       "  </thead>\n",
       "  <tbody>\n",
       "    <tr>\n",
       "      <th>0</th>\n",
       "      <td>2021-10-02 14:07:30</td>\n",
       "      <td>200</td>\n",
       "      <td>6264</td>\n",
       "      <td>1</td>\n",
       "    </tr>\n",
       "    <tr>\n",
       "      <th>1</th>\n",
       "      <td>2021-12-29 14:55:04</td>\n",
       "      <td>200</td>\n",
       "      <td>4200</td>\n",
       "      <td>1</td>\n",
       "    </tr>\n",
       "    <tr>\n",
       "      <th>2</th>\n",
       "      <td>2021-12-29 14:58:19</td>\n",
       "      <td>200</td>\n",
       "      <td>3567</td>\n",
       "      <td>1</td>\n",
       "    </tr>\n",
       "    <tr>\n",
       "      <th>3</th>\n",
       "      <td>2021-12-29 15:03:05</td>\n",
       "      <td>200</td>\n",
       "      <td>3539</td>\n",
       "      <td>1</td>\n",
       "    </tr>\n",
       "    <tr>\n",
       "      <th>4</th>\n",
       "      <td>2021-12-29 15:18:42</td>\n",
       "      <td>200</td>\n",
       "      <td>994</td>\n",
       "      <td>1</td>\n",
       "    </tr>\n",
       "    <tr>\n",
       "      <th>...</th>\n",
       "      <td>...</td>\n",
       "      <td>...</td>\n",
       "      <td>...</td>\n",
       "      <td>...</td>\n",
       "    </tr>\n",
       "    <tr>\n",
       "      <th>4896145</th>\n",
       "      <td>2021-10-14 11:03:56</td>\n",
       "      <td>168552</td>\n",
       "      <td>2829</td>\n",
       "      <td>0</td>\n",
       "    </tr>\n",
       "    <tr>\n",
       "      <th>4896146</th>\n",
       "      <td>2021-12-20 18:47:39</td>\n",
       "      <td>168552</td>\n",
       "      <td>3205</td>\n",
       "      <td>0</td>\n",
       "    </tr>\n",
       "    <tr>\n",
       "      <th>4896147</th>\n",
       "      <td>2021-10-14 11:02:20</td>\n",
       "      <td>168552</td>\n",
       "      <td>4428</td>\n",
       "      <td>0</td>\n",
       "    </tr>\n",
       "    <tr>\n",
       "      <th>4896148</th>\n",
       "      <td>2021-12-07 18:58:26</td>\n",
       "      <td>168552</td>\n",
       "      <td>1229</td>\n",
       "      <td>0</td>\n",
       "    </tr>\n",
       "    <tr>\n",
       "      <th>4896149</th>\n",
       "      <td>2021-12-07 18:56:17</td>\n",
       "      <td>168552</td>\n",
       "      <td>4135</td>\n",
       "      <td>0</td>\n",
       "    </tr>\n",
       "  </tbody>\n",
       "</table>\n",
       "<p>4896150 rows × 4 columns</p>\n",
       "</div>"
      ],
      "text/plain": [
       "                  timestamp  user_id  post_id  target\n",
       "0       2021-10-02 14:07:30      200     6264       1\n",
       "1       2021-12-29 14:55:04      200     4200       1\n",
       "2       2021-12-29 14:58:19      200     3567       1\n",
       "3       2021-12-29 15:03:05      200     3539       1\n",
       "4       2021-12-29 15:18:42      200      994       1\n",
       "...                     ...      ...      ...     ...\n",
       "4896145 2021-10-14 11:03:56   168552     2829       0\n",
       "4896146 2021-12-20 18:47:39   168552     3205       0\n",
       "4896147 2021-10-14 11:02:20   168552     4428       0\n",
       "4896148 2021-12-07 18:58:26   168552     1229       0\n",
       "4896149 2021-12-07 18:56:17   168552     4135       0\n",
       "\n",
       "[4896150 rows x 4 columns]"
      ]
     },
     "execution_count": 16,
     "metadata": {},
     "output_type": "execute_result"
    }
   ],
   "source": [
    "feed_df"
   ]
  },
  {
   "cell_type": "code",
   "execution_count": 27,
   "id": "e571ca86-3bf6-4e08-aac9-80fabe34cbbc",
   "metadata": {},
   "outputs": [
    {
     "name": "stdout",
     "output_type": "stream",
     "text": [
      "Memory usage: 728.68 MB\n"
     ]
    },
    {
     "ename": "NameError",
     "evalue": "name 'feed_df_likes' is not defined",
     "output_type": "error",
     "traceback": [
      "\u001b[0;31m---------------------------------------------------------------------------\u001b[0m",
      "\u001b[0;31mNameError\u001b[0m                                 Traceback (most recent call last)",
      "Input \u001b[0;32mIn [27]\u001b[0m, in \u001b[0;36m<module>\u001b[0;34m\u001b[0m\n\u001b[1;32m      1\u001b[0m \u001b[38;5;66;03m# Check memory usage\u001b[39;00m\n\u001b[1;32m      2\u001b[0m \u001b[38;5;28mprint\u001b[39m(\u001b[38;5;124mf\u001b[39m\u001b[38;5;124m\"\u001b[39m\u001b[38;5;124mMemory usage: \u001b[39m\u001b[38;5;132;01m{\u001b[39;00mpsutil\u001b[38;5;241m.\u001b[39mProcess()\u001b[38;5;241m.\u001b[39mmemory_info()\u001b[38;5;241m.\u001b[39mrss \u001b[38;5;241m/\u001b[39m \u001b[38;5;241m1024\u001b[39m \u001b[38;5;241m*\u001b[39m\u001b[38;5;241m*\u001b[39m \u001b[38;5;241m2\u001b[39m\u001b[38;5;132;01m:\u001b[39;00m\u001b[38;5;124m.2f\u001b[39m\u001b[38;5;132;01m}\u001b[39;00m\u001b[38;5;124m MB\u001b[39m\u001b[38;5;124m\"\u001b[39m)\n\u001b[0;32m----> 4\u001b[0m \u001b[38;5;28;01mdel\u001b[39;00m feed_df_likes\n\u001b[1;32m      5\u001b[0m \u001b[38;5;28;01mdel\u001b[39;00m feed_df_views\n\u001b[1;32m      7\u001b[0m \u001b[38;5;66;03m# Force garbage collection\u001b[39;00m\n",
      "\u001b[0;31mNameError\u001b[0m: name 'feed_df_likes' is not defined"
     ]
    }
   ],
   "source": [
    "# Check memory usage\n",
    "print(f\"Memory usage: {psutil.Process().memory_info().rss / 1024 ** 2:.2f} MB\")\n",
    "\n",
    "del feed_df_likes\n",
    "del feed_df_views\n",
    "\n",
    "# Force garbage collection\n",
    "gc.collect()\n",
    "\n",
    "# Check memory usage again\n",
    "print(f\"Memory usage after gc: {psutil.Process().memory_info().rss / 1024 ** 2:.2f} MB\")"
   ]
  },
  {
   "cell_type": "code",
   "execution_count": 18,
   "id": "08e70150-2e9f-4491-9495-d1c68f7694b5",
   "metadata": {},
   "outputs": [],
   "source": [
    "feed_df = feed_df.drop_duplicates()"
   ]
  },
  {
   "cell_type": "code",
   "execution_count": 19,
   "id": "90ca4811-f28c-4393-99c2-1ae6e9a75592",
   "metadata": {},
   "outputs": [
    {
     "data": {
      "text/html": [
       "<div>\n",
       "<style scoped>\n",
       "    .dataframe tbody tr th:only-of-type {\n",
       "        vertical-align: middle;\n",
       "    }\n",
       "\n",
       "    .dataframe tbody tr th {\n",
       "        vertical-align: top;\n",
       "    }\n",
       "\n",
       "    .dataframe thead th {\n",
       "        text-align: right;\n",
       "    }\n",
       "</style>\n",
       "<table border=\"1\" class=\"dataframe\">\n",
       "  <thead>\n",
       "    <tr style=\"text-align: right;\">\n",
       "      <th></th>\n",
       "      <th>timestamp</th>\n",
       "      <th>user_id</th>\n",
       "      <th>post_id</th>\n",
       "      <th>target</th>\n",
       "    </tr>\n",
       "  </thead>\n",
       "  <tbody>\n",
       "    <tr>\n",
       "      <th>0</th>\n",
       "      <td>2021-10-02 14:07:30</td>\n",
       "      <td>200</td>\n",
       "      <td>6264</td>\n",
       "      <td>1</td>\n",
       "    </tr>\n",
       "    <tr>\n",
       "      <th>1</th>\n",
       "      <td>2021-12-29 14:55:04</td>\n",
       "      <td>200</td>\n",
       "      <td>4200</td>\n",
       "      <td>1</td>\n",
       "    </tr>\n",
       "    <tr>\n",
       "      <th>2</th>\n",
       "      <td>2021-12-29 14:58:19</td>\n",
       "      <td>200</td>\n",
       "      <td>3567</td>\n",
       "      <td>1</td>\n",
       "    </tr>\n",
       "    <tr>\n",
       "      <th>3</th>\n",
       "      <td>2021-12-29 15:03:05</td>\n",
       "      <td>200</td>\n",
       "      <td>3539</td>\n",
       "      <td>1</td>\n",
       "    </tr>\n",
       "    <tr>\n",
       "      <th>4</th>\n",
       "      <td>2021-12-29 15:18:42</td>\n",
       "      <td>200</td>\n",
       "      <td>994</td>\n",
       "      <td>1</td>\n",
       "    </tr>\n",
       "    <tr>\n",
       "      <th>...</th>\n",
       "      <td>...</td>\n",
       "      <td>...</td>\n",
       "      <td>...</td>\n",
       "      <td>...</td>\n",
       "    </tr>\n",
       "    <tr>\n",
       "      <th>4896145</th>\n",
       "      <td>2021-10-14 11:03:56</td>\n",
       "      <td>168552</td>\n",
       "      <td>2829</td>\n",
       "      <td>0</td>\n",
       "    </tr>\n",
       "    <tr>\n",
       "      <th>4896146</th>\n",
       "      <td>2021-12-20 18:47:39</td>\n",
       "      <td>168552</td>\n",
       "      <td>3205</td>\n",
       "      <td>0</td>\n",
       "    </tr>\n",
       "    <tr>\n",
       "      <th>4896147</th>\n",
       "      <td>2021-10-14 11:02:20</td>\n",
       "      <td>168552</td>\n",
       "      <td>4428</td>\n",
       "      <td>0</td>\n",
       "    </tr>\n",
       "    <tr>\n",
       "      <th>4896148</th>\n",
       "      <td>2021-12-07 18:58:26</td>\n",
       "      <td>168552</td>\n",
       "      <td>1229</td>\n",
       "      <td>0</td>\n",
       "    </tr>\n",
       "    <tr>\n",
       "      <th>4896149</th>\n",
       "      <td>2021-12-07 18:56:17</td>\n",
       "      <td>168552</td>\n",
       "      <td>4135</td>\n",
       "      <td>0</td>\n",
       "    </tr>\n",
       "  </tbody>\n",
       "</table>\n",
       "<p>4888776 rows × 4 columns</p>\n",
       "</div>"
      ],
      "text/plain": [
       "                  timestamp  user_id  post_id  target\n",
       "0       2021-10-02 14:07:30      200     6264       1\n",
       "1       2021-12-29 14:55:04      200     4200       1\n",
       "2       2021-12-29 14:58:19      200     3567       1\n",
       "3       2021-12-29 15:03:05      200     3539       1\n",
       "4       2021-12-29 15:18:42      200      994       1\n",
       "...                     ...      ...      ...     ...\n",
       "4896145 2021-10-14 11:03:56   168552     2829       0\n",
       "4896146 2021-12-20 18:47:39   168552     3205       0\n",
       "4896147 2021-10-14 11:02:20   168552     4428       0\n",
       "4896148 2021-12-07 18:58:26   168552     1229       0\n",
       "4896149 2021-12-07 18:56:17   168552     4135       0\n",
       "\n",
       "[4888776 rows x 4 columns]"
      ]
     },
     "execution_count": 19,
     "metadata": {},
     "output_type": "execute_result"
    }
   ],
   "source": [
    "feed_df"
   ]
  },
  {
   "cell_type": "code",
   "execution_count": 20,
   "id": "bdadc80b-120c-49e5-9f2a-00ca4b91230f",
   "metadata": {},
   "outputs": [
    {
     "data": {
      "text/html": [
       "<div>\n",
       "<style scoped>\n",
       "    .dataframe tbody tr th:only-of-type {\n",
       "        vertical-align: middle;\n",
       "    }\n",
       "\n",
       "    .dataframe tbody tr th {\n",
       "        vertical-align: top;\n",
       "    }\n",
       "\n",
       "    .dataframe thead th {\n",
       "        text-align: right;\n",
       "    }\n",
       "</style>\n",
       "<table border=\"1\" class=\"dataframe\">\n",
       "  <thead>\n",
       "    <tr style=\"text-align: right;\">\n",
       "      <th></th>\n",
       "      <th>user_id</th>\n",
       "      <th>target</th>\n",
       "    </tr>\n",
       "  </thead>\n",
       "  <tbody>\n",
       "    <tr>\n",
       "      <th>0</th>\n",
       "      <td>121046</td>\n",
       "      <td>0</td>\n",
       "    </tr>\n",
       "    <tr>\n",
       "      <th>1</th>\n",
       "      <td>162510</td>\n",
       "      <td>0</td>\n",
       "    </tr>\n",
       "    <tr>\n",
       "      <th>2</th>\n",
       "      <td>52233</td>\n",
       "      <td>0</td>\n",
       "    </tr>\n",
       "    <tr>\n",
       "      <th>3</th>\n",
       "      <td>89263</td>\n",
       "      <td>1</td>\n",
       "    </tr>\n",
       "    <tr>\n",
       "      <th>4</th>\n",
       "      <td>34612</td>\n",
       "      <td>1</td>\n",
       "    </tr>\n",
       "    <tr>\n",
       "      <th>...</th>\n",
       "      <td>...</td>\n",
       "      <td>...</td>\n",
       "    </tr>\n",
       "    <tr>\n",
       "      <th>13995</th>\n",
       "      <td>117605</td>\n",
       "      <td>15</td>\n",
       "    </tr>\n",
       "    <tr>\n",
       "      <th>13996</th>\n",
       "      <td>98752</td>\n",
       "      <td>15</td>\n",
       "    </tr>\n",
       "    <tr>\n",
       "      <th>13997</th>\n",
       "      <td>117730</td>\n",
       "      <td>15</td>\n",
       "    </tr>\n",
       "    <tr>\n",
       "      <th>13998</th>\n",
       "      <td>91970</td>\n",
       "      <td>15</td>\n",
       "    </tr>\n",
       "    <tr>\n",
       "      <th>13999</th>\n",
       "      <td>117574</td>\n",
       "      <td>15</td>\n",
       "    </tr>\n",
       "  </tbody>\n",
       "</table>\n",
       "<p>14000 rows × 2 columns</p>\n",
       "</div>"
      ],
      "text/plain": [
       "       user_id  target\n",
       "0       121046       0\n",
       "1       162510       0\n",
       "2        52233       0\n",
       "3        89263       1\n",
       "4        34612       1\n",
       "...        ...     ...\n",
       "13995   117605      15\n",
       "13996    98752      15\n",
       "13997   117730      15\n",
       "13998    91970      15\n",
       "13999   117574      15\n",
       "\n",
       "[14000 rows x 2 columns]"
      ]
     },
     "execution_count": 20,
     "metadata": {},
     "output_type": "execute_result"
    }
   ],
   "source": [
    "feed_df.groupby('user_id', as_index=False).agg({'target': 'sum'}).sort_values('target', ascending=True).reset_index(drop=True).iloc[:14000]"
   ]
  },
  {
   "cell_type": "code",
   "execution_count": 21,
   "id": "7c66cd5c-bbf6-4a6c-879b-5eeaf415e1b4",
   "metadata": {},
   "outputs": [
    {
     "data": {
      "text/plain": [
       "163205"
      ]
     },
     "execution_count": 21,
     "metadata": {},
     "output_type": "execute_result"
    }
   ],
   "source": [
    "feed_df.user_id.nunique()"
   ]
  },
  {
   "cell_type": "code",
   "execution_count": 22,
   "id": "546cfa58-52eb-42d6-8692-0449bcf9368d",
   "metadata": {},
   "outputs": [
    {
     "data": {
      "text/plain": [
       "6831"
      ]
     },
     "execution_count": 22,
     "metadata": {},
     "output_type": "execute_result"
    }
   ],
   "source": [
    "feed_df.post_id.nunique()"
   ]
  },
  {
   "cell_type": "code",
   "execution_count": 23,
   "id": "60c3152d-f037-4095-afda-eb275cfdd65e",
   "metadata": {},
   "outputs": [
    {
     "data": {
      "text/html": [
       "<div>\n",
       "<style scoped>\n",
       "    .dataframe tbody tr th:only-of-type {\n",
       "        vertical-align: middle;\n",
       "    }\n",
       "\n",
       "    .dataframe tbody tr th {\n",
       "        vertical-align: top;\n",
       "    }\n",
       "\n",
       "    .dataframe thead th {\n",
       "        text-align: right;\n",
       "    }\n",
       "</style>\n",
       "<table border=\"1\" class=\"dataframe\">\n",
       "  <thead>\n",
       "    <tr style=\"text-align: right;\">\n",
       "      <th></th>\n",
       "      <th>timestamp</th>\n",
       "      <th>user_id</th>\n",
       "      <th>post_id</th>\n",
       "      <th>target</th>\n",
       "    </tr>\n",
       "  </thead>\n",
       "  <tbody>\n",
       "    <tr>\n",
       "      <th>0</th>\n",
       "      <td>2021-10-02 14:07:30</td>\n",
       "      <td>200</td>\n",
       "      <td>6264</td>\n",
       "      <td>1</td>\n",
       "    </tr>\n",
       "    <tr>\n",
       "      <th>1</th>\n",
       "      <td>2021-12-29 14:55:04</td>\n",
       "      <td>200</td>\n",
       "      <td>4200</td>\n",
       "      <td>1</td>\n",
       "    </tr>\n",
       "    <tr>\n",
       "      <th>2</th>\n",
       "      <td>2021-12-29 14:58:19</td>\n",
       "      <td>200</td>\n",
       "      <td>3567</td>\n",
       "      <td>1</td>\n",
       "    </tr>\n",
       "    <tr>\n",
       "      <th>3</th>\n",
       "      <td>2021-12-29 15:03:05</td>\n",
       "      <td>200</td>\n",
       "      <td>3539</td>\n",
       "      <td>1</td>\n",
       "    </tr>\n",
       "    <tr>\n",
       "      <th>4</th>\n",
       "      <td>2021-12-29 15:18:42</td>\n",
       "      <td>200</td>\n",
       "      <td>994</td>\n",
       "      <td>1</td>\n",
       "    </tr>\n",
       "    <tr>\n",
       "      <th>...</th>\n",
       "      <td>...</td>\n",
       "      <td>...</td>\n",
       "      <td>...</td>\n",
       "      <td>...</td>\n",
       "    </tr>\n",
       "    <tr>\n",
       "      <th>4896145</th>\n",
       "      <td>2021-10-14 11:03:56</td>\n",
       "      <td>168552</td>\n",
       "      <td>2829</td>\n",
       "      <td>0</td>\n",
       "    </tr>\n",
       "    <tr>\n",
       "      <th>4896146</th>\n",
       "      <td>2021-12-20 18:47:39</td>\n",
       "      <td>168552</td>\n",
       "      <td>3205</td>\n",
       "      <td>0</td>\n",
       "    </tr>\n",
       "    <tr>\n",
       "      <th>4896147</th>\n",
       "      <td>2021-10-14 11:02:20</td>\n",
       "      <td>168552</td>\n",
       "      <td>4428</td>\n",
       "      <td>0</td>\n",
       "    </tr>\n",
       "    <tr>\n",
       "      <th>4896148</th>\n",
       "      <td>2021-12-07 18:58:26</td>\n",
       "      <td>168552</td>\n",
       "      <td>1229</td>\n",
       "      <td>0</td>\n",
       "    </tr>\n",
       "    <tr>\n",
       "      <th>4896149</th>\n",
       "      <td>2021-12-07 18:56:17</td>\n",
       "      <td>168552</td>\n",
       "      <td>4135</td>\n",
       "      <td>0</td>\n",
       "    </tr>\n",
       "  </tbody>\n",
       "</table>\n",
       "<p>4888776 rows × 4 columns</p>\n",
       "</div>"
      ],
      "text/plain": [
       "                  timestamp  user_id  post_id  target\n",
       "0       2021-10-02 14:07:30      200     6264       1\n",
       "1       2021-12-29 14:55:04      200     4200       1\n",
       "2       2021-12-29 14:58:19      200     3567       1\n",
       "3       2021-12-29 15:03:05      200     3539       1\n",
       "4       2021-12-29 15:18:42      200      994       1\n",
       "...                     ...      ...      ...     ...\n",
       "4896145 2021-10-14 11:03:56   168552     2829       0\n",
       "4896146 2021-12-20 18:47:39   168552     3205       0\n",
       "4896147 2021-10-14 11:02:20   168552     4428       0\n",
       "4896148 2021-12-07 18:58:26   168552     1229       0\n",
       "4896149 2021-12-07 18:56:17   168552     4135       0\n",
       "\n",
       "[4888776 rows x 4 columns]"
      ]
     },
     "execution_count": 23,
     "metadata": {},
     "output_type": "execute_result"
    }
   ],
   "source": [
    "feed_df"
   ]
  },
  {
   "cell_type": "code",
   "execution_count": 24,
   "id": "f69cbfcf-7192-49c8-a230-768d00d9b037",
   "metadata": {},
   "outputs": [
    {
     "name": "stdout",
     "output_type": "stream",
     "text": [
      "<class 'pandas.core.frame.DataFrame'>\n",
      "Int64Index: 4888776 entries, 0 to 4896149\n",
      "Data columns (total 4 columns):\n",
      " #   Column     Dtype         \n",
      "---  ------     -----         \n",
      " 0   timestamp  datetime64[ns]\n",
      " 1   user_id    int64         \n",
      " 2   post_id    int64         \n",
      " 3   target     int64         \n",
      "dtypes: datetime64[ns](1), int64(3)\n",
      "memory usage: 186.5 MB\n"
     ]
    }
   ],
   "source": [
    "feed_df.info(memory_usage='deep')"
   ]
  },
  {
   "cell_type": "code",
   "execution_count": 25,
   "id": "b425b13f-6c83-4ab5-be17-ee2c6d56daab",
   "metadata": {},
   "outputs": [
    {
     "data": {
      "text/plain": [
       "2381338"
      ]
     },
     "execution_count": 25,
     "metadata": {},
     "output_type": "execute_result"
    }
   ],
   "source": [
    "feed_df.target.sum()"
   ]
  },
  {
   "cell_type": "code",
   "execution_count": 28,
   "id": "b60be79b-0ea9-498a-b05c-eb84381f5789",
   "metadata": {},
   "outputs": [
    {
     "data": {
      "text/plain": [
       "776"
      ]
     },
     "execution_count": 28,
     "metadata": {},
     "output_type": "execute_result"
    }
   ],
   "source": [
    "feed_df.to_sql('nktn_lx_step8_feed_df', con=engine, if_exists='replace', index=False) # записываем таблицу"
   ]
  },
  {
   "cell_type": "code",
   "execution_count": 3,
   "id": "54822327-f300-4ab6-b70f-9fe821dd1ca7",
   "metadata": {},
   "outputs": [],
   "source": [
    "def batch_load_sql(query: str) -> pd.DataFrame:\n",
    "    CHUNKSIZE = 200000\n",
    "    engine = create_engine(\n",
    "        \"postgresql://robot-startml-ro:pheiph0hahj1Vaif@\"\n",
    "        \"postgres.lab.karpov.courses:6432/startml\"\n",
    "    )\n",
    "    conn = engine.connect().execution_options(stream_results=True)\n",
    "    chunks = []\n",
    "    for chunk_dataframe in pd.read_sql(query, conn, chunksize=CHUNKSIZE):\n",
    "        chunks.append(chunk_dataframe)\n",
    "    conn.close()\n",
    "    return pd.concat(chunks, ignore_index=True)"
   ]
  },
  {
   "cell_type": "code",
   "execution_count": 4,
   "id": "205ebd22-9e36-41ee-b9d1-971b621c63f3",
   "metadata": {},
   "outputs": [],
   "source": [
    "def load_features() -> pd.DataFrame:\n",
    "    QUERY = 'SELECT * FROM \"nktn_lx_step8_feed_df\"'\n",
    "    features_df = batch_load_sql(QUERY)\n",
    "    return features_df"
   ]
  },
  {
   "cell_type": "code",
   "execution_count": 5,
   "id": "ac37b7c6-126c-41c0-a016-d1351e49e8e4",
   "metadata": {},
   "outputs": [],
   "source": [
    "feed_df_db = load_features()"
   ]
  },
  {
   "cell_type": "code",
   "execution_count": 6,
   "id": "442afcb2-8309-4c86-bf15-4784a76575a2",
   "metadata": {},
   "outputs": [
    {
     "data": {
      "text/html": [
       "<div>\n",
       "<style scoped>\n",
       "    .dataframe tbody tr th:only-of-type {\n",
       "        vertical-align: middle;\n",
       "    }\n",
       "\n",
       "    .dataframe tbody tr th {\n",
       "        vertical-align: top;\n",
       "    }\n",
       "\n",
       "    .dataframe thead th {\n",
       "        text-align: right;\n",
       "    }\n",
       "</style>\n",
       "<table border=\"1\" class=\"dataframe\">\n",
       "  <thead>\n",
       "    <tr style=\"text-align: right;\">\n",
       "      <th></th>\n",
       "      <th>timestamp</th>\n",
       "      <th>user_id</th>\n",
       "      <th>post_id</th>\n",
       "      <th>target</th>\n",
       "    </tr>\n",
       "  </thead>\n",
       "  <tbody>\n",
       "    <tr>\n",
       "      <th>0</th>\n",
       "      <td>2021-10-02 14:07:30</td>\n",
       "      <td>200</td>\n",
       "      <td>6264</td>\n",
       "      <td>1</td>\n",
       "    </tr>\n",
       "    <tr>\n",
       "      <th>1</th>\n",
       "      <td>2021-12-29 14:55:04</td>\n",
       "      <td>200</td>\n",
       "      <td>4200</td>\n",
       "      <td>1</td>\n",
       "    </tr>\n",
       "    <tr>\n",
       "      <th>2</th>\n",
       "      <td>2021-12-29 14:58:19</td>\n",
       "      <td>200</td>\n",
       "      <td>3567</td>\n",
       "      <td>1</td>\n",
       "    </tr>\n",
       "    <tr>\n",
       "      <th>3</th>\n",
       "      <td>2021-12-29 15:03:05</td>\n",
       "      <td>200</td>\n",
       "      <td>3539</td>\n",
       "      <td>1</td>\n",
       "    </tr>\n",
       "    <tr>\n",
       "      <th>4</th>\n",
       "      <td>2021-12-29 15:18:42</td>\n",
       "      <td>200</td>\n",
       "      <td>994</td>\n",
       "      <td>1</td>\n",
       "    </tr>\n",
       "    <tr>\n",
       "      <th>...</th>\n",
       "      <td>...</td>\n",
       "      <td>...</td>\n",
       "      <td>...</td>\n",
       "      <td>...</td>\n",
       "    </tr>\n",
       "    <tr>\n",
       "      <th>4888771</th>\n",
       "      <td>2021-10-14 11:03:56</td>\n",
       "      <td>168552</td>\n",
       "      <td>2829</td>\n",
       "      <td>0</td>\n",
       "    </tr>\n",
       "    <tr>\n",
       "      <th>4888772</th>\n",
       "      <td>2021-12-20 18:47:39</td>\n",
       "      <td>168552</td>\n",
       "      <td>3205</td>\n",
       "      <td>0</td>\n",
       "    </tr>\n",
       "    <tr>\n",
       "      <th>4888773</th>\n",
       "      <td>2021-10-14 11:02:20</td>\n",
       "      <td>168552</td>\n",
       "      <td>4428</td>\n",
       "      <td>0</td>\n",
       "    </tr>\n",
       "    <tr>\n",
       "      <th>4888774</th>\n",
       "      <td>2021-12-07 18:58:26</td>\n",
       "      <td>168552</td>\n",
       "      <td>1229</td>\n",
       "      <td>0</td>\n",
       "    </tr>\n",
       "    <tr>\n",
       "      <th>4888775</th>\n",
       "      <td>2021-12-07 18:56:17</td>\n",
       "      <td>168552</td>\n",
       "      <td>4135</td>\n",
       "      <td>0</td>\n",
       "    </tr>\n",
       "  </tbody>\n",
       "</table>\n",
       "<p>4888776 rows × 4 columns</p>\n",
       "</div>"
      ],
      "text/plain": [
       "                  timestamp  user_id  post_id  target\n",
       "0       2021-10-02 14:07:30      200     6264       1\n",
       "1       2021-12-29 14:55:04      200     4200       1\n",
       "2       2021-12-29 14:58:19      200     3567       1\n",
       "3       2021-12-29 15:03:05      200     3539       1\n",
       "4       2021-12-29 15:18:42      200      994       1\n",
       "...                     ...      ...      ...     ...\n",
       "4888771 2021-10-14 11:03:56   168552     2829       0\n",
       "4888772 2021-12-20 18:47:39   168552     3205       0\n",
       "4888773 2021-10-14 11:02:20   168552     4428       0\n",
       "4888774 2021-12-07 18:58:26   168552     1229       0\n",
       "4888775 2021-12-07 18:56:17   168552     4135       0\n",
       "\n",
       "[4888776 rows x 4 columns]"
      ]
     },
     "execution_count": 6,
     "metadata": {},
     "output_type": "execute_result"
    }
   ],
   "source": [
    "feed_df_db"
   ]
  },
  {
   "cell_type": "code",
   "execution_count": 7,
   "id": "34bb2d8a-f796-4b33-b8ff-13cdcbfd6598",
   "metadata": {},
   "outputs": [
    {
     "data": {
      "text/plain": [
       "163205"
      ]
     },
     "execution_count": 7,
     "metadata": {},
     "output_type": "execute_result"
    }
   ],
   "source": [
    "feed_df_db.user_id.nunique()"
   ]
  },
  {
   "cell_type": "code",
   "execution_count": 8,
   "id": "92bbeab1-0841-419f-9a4e-7ef63346ec09",
   "metadata": {},
   "outputs": [
    {
     "data": {
      "text/plain": [
       "6831"
      ]
     },
     "execution_count": 8,
     "metadata": {},
     "output_type": "execute_result"
    }
   ],
   "source": [
    "feed_df_db.post_id.nunique()"
   ]
  },
  {
   "cell_type": "code",
   "execution_count": 9,
   "id": "684c8417-dba9-4eea-97c0-4b1e1d7a71e3",
   "metadata": {},
   "outputs": [
    {
     "data": {
      "text/plain": [
       "2381338"
      ]
     },
     "execution_count": 9,
     "metadata": {},
     "output_type": "execute_result"
    }
   ],
   "source": [
    "feed_df_db.target.sum()"
   ]
  },
  {
   "cell_type": "code",
   "execution_count": 10,
   "id": "38c54222-0244-47f6-b228-b984d9a9ec72",
   "metadata": {},
   "outputs": [
    {
     "name": "stdout",
     "output_type": "stream",
     "text": [
      "<class 'pandas.core.frame.DataFrame'>\n",
      "RangeIndex: 4888776 entries, 0 to 4888775\n",
      "Data columns (total 4 columns):\n",
      " #   Column     Dtype         \n",
      "---  ------     -----         \n",
      " 0   timestamp  datetime64[ns]\n",
      " 1   user_id    int64         \n",
      " 2   post_id    int64         \n",
      " 3   target     int64         \n",
      "dtypes: datetime64[ns](1), int64(3)\n",
      "memory usage: 149.2 MB\n"
     ]
    }
   ],
   "source": [
    "feed_df_db.info(memory_usage='deep')"
   ]
  },
  {
   "cell_type": "code",
   "execution_count": 11,
   "id": "eee14b51-1fd4-415d-92be-29e9456c17bd",
   "metadata": {},
   "outputs": [
    {
     "name": "stdout",
     "output_type": "stream",
     "text": [
      "Memory usage: 328.97 MB\n",
      "Memory usage after gc: 329.16 MB\n"
     ]
    }
   ],
   "source": [
    "# Check memory usage\n",
    "print(f\"Memory usage: {psutil.Process().memory_info().rss / 1024 ** 2:.2f} MB\")\n",
    "\n",
    "\n",
    "# Force garbage collection\n",
    "gc.collect()\n",
    "\n",
    "# Check memory usage again\n",
    "print(f\"Memory usage after gc: {psutil.Process().memory_info().rss / 1024 ** 2:.2f} MB\")"
   ]
  },
  {
   "cell_type": "code",
   "execution_count": 12,
   "id": "6a62fb70-3042-4b01-aca1-d56880f51a7c",
   "metadata": {},
   "outputs": [
    {
     "name": "stdout",
     "output_type": "stream",
     "text": [
      "hey!\n"
     ]
    }
   ],
   "source": [
    "print('hey!')"
   ]
  },
  {
   "cell_type": "code",
   "execution_count": null,
   "id": "e588b258-bddb-42d3-92f1-5d8c99fb57c1",
   "metadata": {},
   "outputs": [],
   "source": []
  },
  {
   "cell_type": "code",
   "execution_count": null,
   "id": "3dcf2943-ebf4-4805-9010-93b45b3a3935",
   "metadata": {},
   "outputs": [],
   "source": []
  },
  {
   "cell_type": "code",
   "execution_count": null,
   "id": "ea7c2baa-e0ca-49c8-bb7d-4eb5af592042",
   "metadata": {},
   "outputs": [],
   "source": []
  },
  {
   "cell_type": "code",
   "execution_count": null,
   "id": "4380a98b-e034-4d96-8d8f-124a619e6b16",
   "metadata": {},
   "outputs": [],
   "source": []
  },
  {
   "cell_type": "code",
   "execution_count": null,
   "id": "3047f0dc-70a3-4b4e-8448-b6fc8830b016",
   "metadata": {},
   "outputs": [],
   "source": []
  },
  {
   "cell_type": "code",
   "execution_count": null,
   "id": "86763c80-0b71-40ba-ab20-258c18c7355e",
   "metadata": {},
   "outputs": [],
   "source": []
  },
  {
   "cell_type": "code",
   "execution_count": null,
   "id": "47decb5e-f958-4c82-b5d2-2ea2b19f8a22",
   "metadata": {},
   "outputs": [],
   "source": []
  },
  {
   "cell_type": "code",
   "execution_count": null,
   "id": "57956248-b70c-47a0-bbd5-5c4fb17279c9",
   "metadata": {},
   "outputs": [],
   "source": []
  },
  {
   "cell_type": "code",
   "execution_count": 26,
   "id": "64eed74d-7a6d-486c-8e11-6198e0f8eac5",
   "metadata": {},
   "outputs": [
    {
     "name": "stderr",
     "output_type": "stream",
     "text": [
      "/tmp/ipykernel_330/884626061.py:1: SettingWithCopyWarning: \n",
      "A value is trying to be set on a copy of a slice from a DataFrame.\n",
      "Try using .loc[row_indexer,col_indexer] = value instead\n",
      "\n",
      "See the caveats in the documentation: https://pandas.pydata.org/pandas-docs/stable/user_guide/indexing.html#returning-a-view-versus-a-copy\n",
      "  feed_df['month'] = feed_df['timestamp'].dt.month\n",
      "/tmp/ipykernel_330/884626061.py:2: SettingWithCopyWarning: \n",
      "A value is trying to be set on a copy of a slice from a DataFrame.\n",
      "Try using .loc[row_indexer,col_indexer] = value instead\n",
      "\n",
      "See the caveats in the documentation: https://pandas.pydata.org/pandas-docs/stable/user_guide/indexing.html#returning-a-view-versus-a-copy\n",
      "  feed_df['day'] = feed_df['timestamp'].dt.day\n",
      "/tmp/ipykernel_330/884626061.py:3: SettingWithCopyWarning: \n",
      "A value is trying to be set on a copy of a slice from a DataFrame.\n",
      "Try using .loc[row_indexer,col_indexer] = value instead\n",
      "\n",
      "See the caveats in the documentation: https://pandas.pydata.org/pandas-docs/stable/user_guide/indexing.html#returning-a-view-versus-a-copy\n",
      "  feed_df['day_of_week'] = feed_df['timestamp'].dt.dayofweek\n",
      "/tmp/ipykernel_330/884626061.py:4: SettingWithCopyWarning: \n",
      "A value is trying to be set on a copy of a slice from a DataFrame.\n",
      "Try using .loc[row_indexer,col_indexer] = value instead\n",
      "\n",
      "See the caveats in the documentation: https://pandas.pydata.org/pandas-docs/stable/user_guide/indexing.html#returning-a-view-versus-a-copy\n",
      "  feed_df['hour_of_day'] = feed_df['timestamp'].dt.hour\n"
     ]
    }
   ],
   "source": [
    "feed_df['month'] = feed_df['timestamp'].dt.month          \n",
    "feed_df['day'] = feed_df['timestamp'].dt.day              \n",
    "feed_df['day_of_week'] = feed_df['timestamp'].dt.dayofweek  \n",
    "feed_df['hour_of_day'] = feed_df['timestamp'].dt.hour     "
   ]
  },
  {
   "cell_type": "code",
   "execution_count": 27,
   "id": "336e61e7-18f3-4353-953f-b274e72f191f",
   "metadata": {},
   "outputs": [
    {
     "name": "stderr",
     "output_type": "stream",
     "text": [
      "/tmp/ipykernel_330/3919362683.py:1: SettingWithCopyWarning: \n",
      "A value is trying to be set on a copy of a slice from a DataFrame\n",
      "\n",
      "See the caveats in the documentation: https://pandas.pydata.org/pandas-docs/stable/user_guide/indexing.html#returning-a-view-versus-a-copy\n",
      "  feed_df.drop(['timestamp'], axis=1, inplace=True)\n"
     ]
    }
   ],
   "source": [
    "feed_df.drop(['timestamp'], axis=1, inplace=True)"
   ]
  },
  {
   "cell_type": "code",
   "execution_count": 29,
   "id": "51187781-1049-4912-a8b4-9482dbb58e82",
   "metadata": {},
   "outputs": [
    {
     "data": {
      "text/html": [
       "<div>\n",
       "<style scoped>\n",
       "    .dataframe tbody tr th:only-of-type {\n",
       "        vertical-align: middle;\n",
       "    }\n",
       "\n",
       "    .dataframe tbody tr th {\n",
       "        vertical-align: top;\n",
       "    }\n",
       "\n",
       "    .dataframe thead th {\n",
       "        text-align: right;\n",
       "    }\n",
       "</style>\n",
       "<table border=\"1\" class=\"dataframe\">\n",
       "  <thead>\n",
       "    <tr style=\"text-align: right;\">\n",
       "      <th></th>\n",
       "      <th>user_id</th>\n",
       "      <th>post_id</th>\n",
       "      <th>target</th>\n",
       "      <th>month</th>\n",
       "      <th>day</th>\n",
       "      <th>day_of_week</th>\n",
       "      <th>hour_of_day</th>\n",
       "    </tr>\n",
       "  </thead>\n",
       "  <tbody>\n",
       "    <tr>\n",
       "      <th>0</th>\n",
       "      <td>200</td>\n",
       "      <td>6264</td>\n",
       "      <td>1</td>\n",
       "      <td>10</td>\n",
       "      <td>2</td>\n",
       "      <td>5</td>\n",
       "      <td>14</td>\n",
       "    </tr>\n",
       "    <tr>\n",
       "      <th>1</th>\n",
       "      <td>200</td>\n",
       "      <td>4200</td>\n",
       "      <td>1</td>\n",
       "      <td>12</td>\n",
       "      <td>29</td>\n",
       "      <td>2</td>\n",
       "      <td>14</td>\n",
       "    </tr>\n",
       "    <tr>\n",
       "      <th>2</th>\n",
       "      <td>200</td>\n",
       "      <td>3567</td>\n",
       "      <td>1</td>\n",
       "      <td>12</td>\n",
       "      <td>29</td>\n",
       "      <td>2</td>\n",
       "      <td>14</td>\n",
       "    </tr>\n",
       "    <tr>\n",
       "      <th>3</th>\n",
       "      <td>200</td>\n",
       "      <td>3539</td>\n",
       "      <td>1</td>\n",
       "      <td>12</td>\n",
       "      <td>29</td>\n",
       "      <td>2</td>\n",
       "      <td>15</td>\n",
       "    </tr>\n",
       "    <tr>\n",
       "      <th>4</th>\n",
       "      <td>200</td>\n",
       "      <td>994</td>\n",
       "      <td>1</td>\n",
       "      <td>12</td>\n",
       "      <td>29</td>\n",
       "      <td>2</td>\n",
       "      <td>15</td>\n",
       "    </tr>\n",
       "    <tr>\n",
       "      <th>...</th>\n",
       "      <td>...</td>\n",
       "      <td>...</td>\n",
       "      <td>...</td>\n",
       "      <td>...</td>\n",
       "      <td>...</td>\n",
       "      <td>...</td>\n",
       "      <td>...</td>\n",
       "    </tr>\n",
       "    <tr>\n",
       "      <th>4896145</th>\n",
       "      <td>168552</td>\n",
       "      <td>2829</td>\n",
       "      <td>0</td>\n",
       "      <td>10</td>\n",
       "      <td>14</td>\n",
       "      <td>3</td>\n",
       "      <td>11</td>\n",
       "    </tr>\n",
       "    <tr>\n",
       "      <th>4896146</th>\n",
       "      <td>168552</td>\n",
       "      <td>3205</td>\n",
       "      <td>0</td>\n",
       "      <td>12</td>\n",
       "      <td>20</td>\n",
       "      <td>0</td>\n",
       "      <td>18</td>\n",
       "    </tr>\n",
       "    <tr>\n",
       "      <th>4896147</th>\n",
       "      <td>168552</td>\n",
       "      <td>4428</td>\n",
       "      <td>0</td>\n",
       "      <td>10</td>\n",
       "      <td>14</td>\n",
       "      <td>3</td>\n",
       "      <td>11</td>\n",
       "    </tr>\n",
       "    <tr>\n",
       "      <th>4896148</th>\n",
       "      <td>168552</td>\n",
       "      <td>1229</td>\n",
       "      <td>0</td>\n",
       "      <td>12</td>\n",
       "      <td>7</td>\n",
       "      <td>1</td>\n",
       "      <td>18</td>\n",
       "    </tr>\n",
       "    <tr>\n",
       "      <th>4896149</th>\n",
       "      <td>168552</td>\n",
       "      <td>4135</td>\n",
       "      <td>0</td>\n",
       "      <td>12</td>\n",
       "      <td>7</td>\n",
       "      <td>1</td>\n",
       "      <td>18</td>\n",
       "    </tr>\n",
       "  </tbody>\n",
       "</table>\n",
       "<p>4888776 rows × 7 columns</p>\n",
       "</div>"
      ],
      "text/plain": [
       "         user_id  post_id  target  month  day  day_of_week  hour_of_day\n",
       "0            200     6264       1     10    2            5           14\n",
       "1            200     4200       1     12   29            2           14\n",
       "2            200     3567       1     12   29            2           14\n",
       "3            200     3539       1     12   29            2           15\n",
       "4            200      994       1     12   29            2           15\n",
       "...          ...      ...     ...    ...  ...          ...          ...\n",
       "4896145   168552     2829       0     10   14            3           11\n",
       "4896146   168552     3205       0     12   20            0           18\n",
       "4896147   168552     4428       0     10   14            3           11\n",
       "4896148   168552     1229       0     12    7            1           18\n",
       "4896149   168552     4135       0     12    7            1           18\n",
       "\n",
       "[4888776 rows x 7 columns]"
      ]
     },
     "execution_count": 29,
     "metadata": {},
     "output_type": "execute_result"
    }
   ],
   "source": [
    "feed_df"
   ]
  },
  {
   "cell_type": "code",
   "execution_count": null,
   "id": "70382dfb-539b-490e-817e-a3cc48066535",
   "metadata": {},
   "outputs": [],
   "source": [
    "feed_df.to_sql('nktn_lx_step8_feed_df', con=engine, if_exists='replace', index=False) # записываем таблицу"
   ]
  },
  {
   "cell_type": "code",
   "execution_count": null,
   "id": "96fe69ed-554a-43ba-a05b-5e4695987497",
   "metadata": {},
   "outputs": [],
   "source": []
  },
  {
   "cell_type": "code",
   "execution_count": null,
   "id": "580d5554-bdb3-442f-8237-c2ba3445ccb1",
   "metadata": {},
   "outputs": [],
   "source": []
  },
  {
   "cell_type": "code",
   "execution_count": null,
   "id": "d5ac932b-f601-45f8-9ec5-602afa9c12dd",
   "metadata": {},
   "outputs": [],
   "source": []
  },
  {
   "cell_type": "code",
   "execution_count": null,
   "id": "b109212d-8102-487d-90c4-bc55b3ff2dd6",
   "metadata": {},
   "outputs": [],
   "source": []
  },
  {
   "cell_type": "code",
   "execution_count": null,
   "id": "515477ec-b6de-4d25-8c44-968849bd610c",
   "metadata": {},
   "outputs": [],
   "source": []
  },
  {
   "cell_type": "code",
   "execution_count": null,
   "id": "60ad9892-f30c-43d0-8456-d705edf42f92",
   "metadata": {},
   "outputs": [],
   "source": []
  },
  {
   "cell_type": "markdown",
   "id": "1bd12a95-3412-45d3-8e73-7042c5969b7d",
   "metadata": {},
   "source": [
    "Догрузим посты, которых не хватает. "
   ]
  },
  {
   "cell_type": "code",
   "execution_count": 23,
   "id": "b71cd250-3074-4b10-9f2c-966991fb1cce",
   "metadata": {},
   "outputs": [],
   "source": [
    "# all_posts = set(post_df.post_id.to_list())\n",
    "# len(all_posts)\n",
    "\n",
    "# feed_posts = set(feed_df.post_id.unique())\n",
    "# len(feed_posts)\n",
    "\n",
    "# missing_posts = all_posts.difference(feed_posts)\n",
    "# len(missing_posts)\n",
    "\n",
    "# query = \"\"\"\n",
    "# SELECT \n",
    "#   f.timestamp,\n",
    "#   f.user_id,\n",
    "#   f.post_id,\n",
    "#   f.target\n",
    "# FROM \n",
    "#   feed_data f\n",
    "# WHERE \n",
    "#   --f.action != 'like'\n",
    "#     --AND \n",
    "#     post_id IN %(id_list)s\n",
    "# \"\"\"\n",
    "\n",
    "# missed_posts_df = pd.read_sql(query, con=engine, params={'id_list': tuple(missing_posts)})\n",
    "\n",
    "# missed_posts_df.post_id.nunique()"
   ]
  },
  {
   "cell_type": "markdown",
   "id": "5477a5c1-deeb-4128-b680-1c10c9abafa4",
   "metadata": {
    "tags": []
   },
   "source": [
    "#### Получение user_df"
   ]
  },
  {
   "cell_type": "code",
   "execution_count": 27,
   "id": "c87af19d-444a-4b40-aa32-454c0ad7f251",
   "metadata": {},
   "outputs": [],
   "source": [
    "user_df = pd.read_sql('SELECT * FROM \"user_data\"', con=engine)"
   ]
  },
  {
   "cell_type": "code",
   "execution_count": 28,
   "id": "c256760f-977d-4115-b930-c6d1f4a15bf3",
   "metadata": {},
   "outputs": [
    {
     "data": {
      "text/html": [
       "<div>\n",
       "<style scoped>\n",
       "    .dataframe tbody tr th:only-of-type {\n",
       "        vertical-align: middle;\n",
       "    }\n",
       "\n",
       "    .dataframe tbody tr th {\n",
       "        vertical-align: top;\n",
       "    }\n",
       "\n",
       "    .dataframe thead th {\n",
       "        text-align: right;\n",
       "    }\n",
       "</style>\n",
       "<table border=\"1\" class=\"dataframe\">\n",
       "  <thead>\n",
       "    <tr style=\"text-align: right;\">\n",
       "      <th></th>\n",
       "      <th>user_id</th>\n",
       "      <th>gender</th>\n",
       "      <th>age</th>\n",
       "      <th>country</th>\n",
       "      <th>city</th>\n",
       "      <th>exp_group</th>\n",
       "      <th>os</th>\n",
       "      <th>source</th>\n",
       "    </tr>\n",
       "  </thead>\n",
       "  <tbody>\n",
       "    <tr>\n",
       "      <th>0</th>\n",
       "      <td>200</td>\n",
       "      <td>1</td>\n",
       "      <td>34</td>\n",
       "      <td>Russia</td>\n",
       "      <td>Degtyarsk</td>\n",
       "      <td>3</td>\n",
       "      <td>Android</td>\n",
       "      <td>ads</td>\n",
       "    </tr>\n",
       "    <tr>\n",
       "      <th>1</th>\n",
       "      <td>201</td>\n",
       "      <td>0</td>\n",
       "      <td>37</td>\n",
       "      <td>Russia</td>\n",
       "      <td>Abakan</td>\n",
       "      <td>0</td>\n",
       "      <td>Android</td>\n",
       "      <td>ads</td>\n",
       "    </tr>\n",
       "    <tr>\n",
       "      <th>2</th>\n",
       "      <td>202</td>\n",
       "      <td>1</td>\n",
       "      <td>17</td>\n",
       "      <td>Russia</td>\n",
       "      <td>Smolensk</td>\n",
       "      <td>4</td>\n",
       "      <td>Android</td>\n",
       "      <td>ads</td>\n",
       "    </tr>\n",
       "    <tr>\n",
       "      <th>3</th>\n",
       "      <td>203</td>\n",
       "      <td>0</td>\n",
       "      <td>18</td>\n",
       "      <td>Russia</td>\n",
       "      <td>Moscow</td>\n",
       "      <td>1</td>\n",
       "      <td>iOS</td>\n",
       "      <td>ads</td>\n",
       "    </tr>\n",
       "    <tr>\n",
       "      <th>4</th>\n",
       "      <td>204</td>\n",
       "      <td>0</td>\n",
       "      <td>36</td>\n",
       "      <td>Russia</td>\n",
       "      <td>Anzhero-Sudzhensk</td>\n",
       "      <td>3</td>\n",
       "      <td>Android</td>\n",
       "      <td>ads</td>\n",
       "    </tr>\n",
       "    <tr>\n",
       "      <th>...</th>\n",
       "      <td>...</td>\n",
       "      <td>...</td>\n",
       "      <td>...</td>\n",
       "      <td>...</td>\n",
       "      <td>...</td>\n",
       "      <td>...</td>\n",
       "      <td>...</td>\n",
       "      <td>...</td>\n",
       "    </tr>\n",
       "    <tr>\n",
       "      <th>163200</th>\n",
       "      <td>168548</td>\n",
       "      <td>0</td>\n",
       "      <td>36</td>\n",
       "      <td>Russia</td>\n",
       "      <td>Kaliningrad</td>\n",
       "      <td>4</td>\n",
       "      <td>Android</td>\n",
       "      <td>organic</td>\n",
       "    </tr>\n",
       "    <tr>\n",
       "      <th>163201</th>\n",
       "      <td>168549</td>\n",
       "      <td>0</td>\n",
       "      <td>18</td>\n",
       "      <td>Russia</td>\n",
       "      <td>Tula</td>\n",
       "      <td>2</td>\n",
       "      <td>Android</td>\n",
       "      <td>organic</td>\n",
       "    </tr>\n",
       "    <tr>\n",
       "      <th>163202</th>\n",
       "      <td>168550</td>\n",
       "      <td>1</td>\n",
       "      <td>41</td>\n",
       "      <td>Russia</td>\n",
       "      <td>Yekaterinburg</td>\n",
       "      <td>4</td>\n",
       "      <td>Android</td>\n",
       "      <td>organic</td>\n",
       "    </tr>\n",
       "    <tr>\n",
       "      <th>163203</th>\n",
       "      <td>168551</td>\n",
       "      <td>0</td>\n",
       "      <td>38</td>\n",
       "      <td>Russia</td>\n",
       "      <td>Moscow</td>\n",
       "      <td>3</td>\n",
       "      <td>iOS</td>\n",
       "      <td>organic</td>\n",
       "    </tr>\n",
       "    <tr>\n",
       "      <th>163204</th>\n",
       "      <td>168552</td>\n",
       "      <td>1</td>\n",
       "      <td>16</td>\n",
       "      <td>Russia</td>\n",
       "      <td>Ivanteyevka</td>\n",
       "      <td>4</td>\n",
       "      <td>Android</td>\n",
       "      <td>organic</td>\n",
       "    </tr>\n",
       "  </tbody>\n",
       "</table>\n",
       "<p>163205 rows × 8 columns</p>\n",
       "</div>"
      ],
      "text/plain": [
       "        user_id  gender  age country               city  exp_group       os  \\\n",
       "0           200       1   34  Russia          Degtyarsk          3  Android   \n",
       "1           201       0   37  Russia             Abakan          0  Android   \n",
       "2           202       1   17  Russia           Smolensk          4  Android   \n",
       "3           203       0   18  Russia             Moscow          1      iOS   \n",
       "4           204       0   36  Russia  Anzhero-Sudzhensk          3  Android   \n",
       "...         ...     ...  ...     ...                ...        ...      ...   \n",
       "163200   168548       0   36  Russia        Kaliningrad          4  Android   \n",
       "163201   168549       0   18  Russia               Tula          2  Android   \n",
       "163202   168550       1   41  Russia      Yekaterinburg          4  Android   \n",
       "163203   168551       0   38  Russia             Moscow          3      iOS   \n",
       "163204   168552       1   16  Russia        Ivanteyevka          4  Android   \n",
       "\n",
       "         source  \n",
       "0           ads  \n",
       "1           ads  \n",
       "2           ads  \n",
       "3           ads  \n",
       "4           ads  \n",
       "...         ...  \n",
       "163200  organic  \n",
       "163201  organic  \n",
       "163202  organic  \n",
       "163203  organic  \n",
       "163204  organic  \n",
       "\n",
       "[163205 rows x 8 columns]"
      ]
     },
     "execution_count": 28,
     "metadata": {},
     "output_type": "execute_result"
    }
   ],
   "source": [
    "user_df"
   ]
  },
  {
   "cell_type": "code",
   "execution_count": 29,
   "id": "f5d615ff-0879-4278-ac2f-75add403b11f",
   "metadata": {},
   "outputs": [
    {
     "data": {
      "text/plain": [
       "163205"
      ]
     },
     "execution_count": 29,
     "metadata": {},
     "output_type": "execute_result"
    }
   ],
   "source": [
    "user_df.user_id.nunique()"
   ]
  },
  {
   "cell_type": "code",
   "execution_count": 30,
   "id": "4f382dae-8aa6-4603-a295-9bb237c2a483",
   "metadata": {},
   "outputs": [
    {
     "name": "stdout",
     "output_type": "stream",
     "text": [
      "<class 'pandas.core.frame.DataFrame'>\n",
      "RangeIndex: 163205 entries, 0 to 163204\n",
      "Data columns (total 8 columns):\n",
      " #   Column     Non-Null Count   Dtype \n",
      "---  ------     --------------   ----- \n",
      " 0   user_id    163205 non-null  int64 \n",
      " 1   gender     163205 non-null  int64 \n",
      " 2   age        163205 non-null  int64 \n",
      " 3   country    163205 non-null  object\n",
      " 4   city       163205 non-null  object\n",
      " 5   exp_group  163205 non-null  int64 \n",
      " 6   os         163205 non-null  object\n",
      " 7   source     163205 non-null  object\n",
      "dtypes: int64(4), object(4)\n",
      "memory usage: 44.5 MB\n"
     ]
    }
   ],
   "source": [
    "user_df.info(memory_usage='deep')"
   ]
  },
  {
   "cell_type": "markdown",
   "id": "681a089d-fa32-4cea-ba4f-97d24ce49181",
   "metadata": {},
   "source": [
    "#### Получение post_df_pca"
   ]
  },
  {
   "cell_type": "code",
   "execution_count": 31,
   "id": "80c7b8e1-e52e-4ef7-9b94-c1dcc439c2b1",
   "metadata": {},
   "outputs": [],
   "source": [
    "post_df_pca = pd.read_sql('SELECT * FROM \"post_text\"', con=engine)"
   ]
  },
  {
   "cell_type": "code",
   "execution_count": 32,
   "id": "f0b4a510-8535-460c-a819-5578eb818c41",
   "metadata": {},
   "outputs": [
    {
     "data": {
      "text/html": [
       "<div>\n",
       "<style scoped>\n",
       "    .dataframe tbody tr th:only-of-type {\n",
       "        vertical-align: middle;\n",
       "    }\n",
       "\n",
       "    .dataframe tbody tr th {\n",
       "        vertical-align: top;\n",
       "    }\n",
       "\n",
       "    .dataframe thead th {\n",
       "        text-align: right;\n",
       "    }\n",
       "</style>\n",
       "<table border=\"1\" class=\"dataframe\">\n",
       "  <thead>\n",
       "    <tr style=\"text-align: right;\">\n",
       "      <th></th>\n",
       "      <th>post_id</th>\n",
       "      <th>topic</th>\n",
       "      <th>PCA_1</th>\n",
       "      <th>PCA_2</th>\n",
       "      <th>PCA_3</th>\n",
       "      <th>PCA_4</th>\n",
       "      <th>PCA_5</th>\n",
       "    </tr>\n",
       "  </thead>\n",
       "  <tbody>\n",
       "    <tr>\n",
       "      <th>0</th>\n",
       "      <td>1</td>\n",
       "      <td>business</td>\n",
       "      <td>-0.098651</td>\n",
       "      <td>-0.312493</td>\n",
       "      <td>0.023472</td>\n",
       "      <td>-0.029465</td>\n",
       "      <td>-0.046990</td>\n",
       "    </tr>\n",
       "    <tr>\n",
       "      <th>1</th>\n",
       "      <td>2</td>\n",
       "      <td>business</td>\n",
       "      <td>-0.102748</td>\n",
       "      <td>-0.316642</td>\n",
       "      <td>0.021755</td>\n",
       "      <td>-0.045080</td>\n",
       "      <td>0.137338</td>\n",
       "    </tr>\n",
       "    <tr>\n",
       "      <th>2</th>\n",
       "      <td>3</td>\n",
       "      <td>business</td>\n",
       "      <td>-0.089932</td>\n",
       "      <td>-0.211479</td>\n",
       "      <td>0.010823</td>\n",
       "      <td>-0.033651</td>\n",
       "      <td>-0.037667</td>\n",
       "    </tr>\n",
       "    <tr>\n",
       "      <th>3</th>\n",
       "      <td>4</td>\n",
       "      <td>business</td>\n",
       "      <td>-0.075025</td>\n",
       "      <td>-0.231227</td>\n",
       "      <td>0.010022</td>\n",
       "      <td>-0.035137</td>\n",
       "      <td>0.000382</td>\n",
       "    </tr>\n",
       "    <tr>\n",
       "      <th>4</th>\n",
       "      <td>5</td>\n",
       "      <td>business</td>\n",
       "      <td>-0.086689</td>\n",
       "      <td>-0.252862</td>\n",
       "      <td>0.017764</td>\n",
       "      <td>-0.032102</td>\n",
       "      <td>0.054850</td>\n",
       "    </tr>\n",
       "    <tr>\n",
       "      <th>...</th>\n",
       "      <td>...</td>\n",
       "      <td>...</td>\n",
       "      <td>...</td>\n",
       "      <td>...</td>\n",
       "      <td>...</td>\n",
       "      <td>...</td>\n",
       "      <td>...</td>\n",
       "    </tr>\n",
       "    <tr>\n",
       "      <th>7018</th>\n",
       "      <td>7315</td>\n",
       "      <td>movie</td>\n",
       "      <td>-0.202135</td>\n",
       "      <td>0.246869</td>\n",
       "      <td>-0.003796</td>\n",
       "      <td>-0.270650</td>\n",
       "      <td>0.034498</td>\n",
       "    </tr>\n",
       "    <tr>\n",
       "      <th>7019</th>\n",
       "      <td>7316</td>\n",
       "      <td>movie</td>\n",
       "      <td>-0.212412</td>\n",
       "      <td>0.296487</td>\n",
       "      <td>-0.005319</td>\n",
       "      <td>-0.208802</td>\n",
       "      <td>0.099140</td>\n",
       "    </tr>\n",
       "    <tr>\n",
       "      <th>7020</th>\n",
       "      <td>7317</td>\n",
       "      <td>movie</td>\n",
       "      <td>-0.187134</td>\n",
       "      <td>0.195667</td>\n",
       "      <td>0.013325</td>\n",
       "      <td>0.380744</td>\n",
       "      <td>0.118247</td>\n",
       "    </tr>\n",
       "    <tr>\n",
       "      <th>7021</th>\n",
       "      <td>7318</td>\n",
       "      <td>movie</td>\n",
       "      <td>-0.143072</td>\n",
       "      <td>0.082273</td>\n",
       "      <td>0.005458</td>\n",
       "      <td>0.219139</td>\n",
       "      <td>0.029975</td>\n",
       "    </tr>\n",
       "    <tr>\n",
       "      <th>7022</th>\n",
       "      <td>7319</td>\n",
       "      <td>movie</td>\n",
       "      <td>-0.150531</td>\n",
       "      <td>0.121704</td>\n",
       "      <td>-0.000090</td>\n",
       "      <td>0.051992</td>\n",
       "      <td>0.014982</td>\n",
       "    </tr>\n",
       "  </tbody>\n",
       "</table>\n",
       "<p>7023 rows × 7 columns</p>\n",
       "</div>"
      ],
      "text/plain": [
       "      post_id     topic     PCA_1     PCA_2     PCA_3     PCA_4     PCA_5\n",
       "0           1  business -0.098651 -0.312493  0.023472 -0.029465 -0.046990\n",
       "1           2  business -0.102748 -0.316642  0.021755 -0.045080  0.137338\n",
       "2           3  business -0.089932 -0.211479  0.010823 -0.033651 -0.037667\n",
       "3           4  business -0.075025 -0.231227  0.010022 -0.035137  0.000382\n",
       "4           5  business -0.086689 -0.252862  0.017764 -0.032102  0.054850\n",
       "...       ...       ...       ...       ...       ...       ...       ...\n",
       "7018     7315     movie -0.202135  0.246869 -0.003796 -0.270650  0.034498\n",
       "7019     7316     movie -0.212412  0.296487 -0.005319 -0.208802  0.099140\n",
       "7020     7317     movie -0.187134  0.195667  0.013325  0.380744  0.118247\n",
       "7021     7318     movie -0.143072  0.082273  0.005458  0.219139  0.029975\n",
       "7022     7319     movie -0.150531  0.121704 -0.000090  0.051992  0.014982\n",
       "\n",
       "[7023 rows x 7 columns]"
      ]
     },
     "execution_count": 32,
     "metadata": {},
     "output_type": "execute_result"
    }
   ],
   "source": [
    "post_df_pca"
   ]
  },
  {
   "cell_type": "code",
   "execution_count": 33,
   "id": "6ab751de-61a6-4a75-8ded-140d2c188cfd",
   "metadata": {},
   "outputs": [
    {
     "data": {
      "text/plain": [
       "7023"
      ]
     },
     "execution_count": 33,
     "metadata": {},
     "output_type": "execute_result"
    }
   ],
   "source": [
    "post_df_pca.post_id.nunique()"
   ]
  },
  {
   "cell_type": "code",
   "execution_count": 34,
   "id": "1cefdd74-0975-422e-84d2-4f002e66e4da",
   "metadata": {},
   "outputs": [
    {
     "name": "stdout",
     "output_type": "stream",
     "text": [
      "<class 'pandas.core.frame.DataFrame'>\n",
      "RangeIndex: 7023 entries, 0 to 7022\n",
      "Data columns (total 7 columns):\n",
      " #   Column   Non-Null Count  Dtype  \n",
      "---  ------   --------------  -----  \n",
      " 0   post_id  7023 non-null   int64  \n",
      " 1   topic    7023 non-null   object \n",
      " 2   PCA_1    7023 non-null   float64\n",
      " 3   PCA_2    7023 non-null   float64\n",
      " 4   PCA_3    7023 non-null   float64\n",
      " 5   PCA_4    7023 non-null   float64\n",
      " 6   PCA_5    7023 non-null   float64\n",
      "dtypes: float64(5), int64(1), object(1)\n",
      "memory usage: 759.9 KB\n"
     ]
    }
   ],
   "source": [
    "post_df_pca.info(memory_usage='deep')"
   ]
  },
  {
   "cell_type": "markdown",
   "id": "a51b9428-ef10-43e1-b082-343633f46afc",
   "metadata": {},
   "source": [
    "#### Три датафрейма"
   ]
  },
  {
   "cell_type": "markdown",
   "id": "789b7fc3-85af-4fcd-b457-1a3292cb1571",
   "metadata": {},
   "source": [
    "USER_DF"
   ]
  },
  {
   "cell_type": "code",
   "execution_count": 39,
   "id": "4a227034-8ecb-4bd1-b93c-b40482d5e9f7",
   "metadata": {},
   "outputs": [],
   "source": [
    "bins = [0, 18, 30, 45, 60, np.inf]\n",
    "labels = [18, 30, 45, 60, 99]\n",
    "\n",
    "user_df['age_category'] = pd.cut(user_df['age'], bins=bins, labels=labels, right=False)\n",
    "\n",
    "user_df.drop(['age'], axis=1, inplace=True)"
   ]
  },
  {
   "cell_type": "code",
   "execution_count": 40,
   "id": "0a4ac85d-17fd-495f-a55b-0905e6997df2",
   "metadata": {},
   "outputs": [],
   "source": [
    "user_df = user_df.astype({'age_category': 'object'})"
   ]
  },
  {
   "cell_type": "code",
   "execution_count": 41,
   "id": "62a54aaf-f9fc-420f-b4c5-936211039fab",
   "metadata": {},
   "outputs": [
    {
     "data": {
      "text/html": [
       "<div>\n",
       "<style scoped>\n",
       "    .dataframe tbody tr th:only-of-type {\n",
       "        vertical-align: middle;\n",
       "    }\n",
       "\n",
       "    .dataframe tbody tr th {\n",
       "        vertical-align: top;\n",
       "    }\n",
       "\n",
       "    .dataframe thead th {\n",
       "        text-align: right;\n",
       "    }\n",
       "</style>\n",
       "<table border=\"1\" class=\"dataframe\">\n",
       "  <thead>\n",
       "    <tr style=\"text-align: right;\">\n",
       "      <th></th>\n",
       "      <th>user_id</th>\n",
       "      <th>gender</th>\n",
       "      <th>country</th>\n",
       "      <th>city</th>\n",
       "      <th>exp_group</th>\n",
       "      <th>os</th>\n",
       "      <th>source</th>\n",
       "      <th>age_category</th>\n",
       "    </tr>\n",
       "  </thead>\n",
       "  <tbody>\n",
       "    <tr>\n",
       "      <th>0</th>\n",
       "      <td>200</td>\n",
       "      <td>1</td>\n",
       "      <td>Russia</td>\n",
       "      <td>Degtyarsk</td>\n",
       "      <td>3</td>\n",
       "      <td>Android</td>\n",
       "      <td>ads</td>\n",
       "      <td>45</td>\n",
       "    </tr>\n",
       "    <tr>\n",
       "      <th>1</th>\n",
       "      <td>201</td>\n",
       "      <td>0</td>\n",
       "      <td>Russia</td>\n",
       "      <td>Abakan</td>\n",
       "      <td>0</td>\n",
       "      <td>Android</td>\n",
       "      <td>ads</td>\n",
       "      <td>45</td>\n",
       "    </tr>\n",
       "    <tr>\n",
       "      <th>2</th>\n",
       "      <td>202</td>\n",
       "      <td>1</td>\n",
       "      <td>Russia</td>\n",
       "      <td>Smolensk</td>\n",
       "      <td>4</td>\n",
       "      <td>Android</td>\n",
       "      <td>ads</td>\n",
       "      <td>18</td>\n",
       "    </tr>\n",
       "  </tbody>\n",
       "</table>\n",
       "</div>"
      ],
      "text/plain": [
       "   user_id  gender country       city  exp_group       os source age_category\n",
       "0      200       1  Russia  Degtyarsk          3  Android    ads           45\n",
       "1      201       0  Russia     Abakan          0  Android    ads           45\n",
       "2      202       1  Russia   Smolensk          4  Android    ads           18"
      ]
     },
     "execution_count": 41,
     "metadata": {},
     "output_type": "execute_result"
    }
   ],
   "source": [
    "user_df.head(3)"
   ]
  },
  {
   "cell_type": "code",
   "execution_count": 42,
   "id": "2ebab953-a6d0-4ad2-8073-dd2a78f98c3f",
   "metadata": {},
   "outputs": [],
   "source": [
    "# поправить фичи на категориальные (gender, exp_group, age_group)"
   ]
  },
  {
   "cell_type": "markdown",
   "id": "463ae6c9-30bd-46fc-9bd8-1c6b48ebc38b",
   "metadata": {},
   "source": [
    "POST_DF_PCA"
   ]
  },
  {
   "cell_type": "code",
   "execution_count": 43,
   "id": "c5c03776-88bc-4222-b172-61e3a930cc68",
   "metadata": {},
   "outputs": [
    {
     "data": {
      "text/html": [
       "<div>\n",
       "<style scoped>\n",
       "    .dataframe tbody tr th:only-of-type {\n",
       "        vertical-align: middle;\n",
       "    }\n",
       "\n",
       "    .dataframe tbody tr th {\n",
       "        vertical-align: top;\n",
       "    }\n",
       "\n",
       "    .dataframe thead th {\n",
       "        text-align: right;\n",
       "    }\n",
       "</style>\n",
       "<table border=\"1\" class=\"dataframe\">\n",
       "  <thead>\n",
       "    <tr style=\"text-align: right;\">\n",
       "      <th></th>\n",
       "      <th>post_id</th>\n",
       "      <th>topic</th>\n",
       "      <th>PCA_1</th>\n",
       "      <th>PCA_2</th>\n",
       "      <th>PCA_3</th>\n",
       "      <th>PCA_4</th>\n",
       "      <th>PCA_5</th>\n",
       "    </tr>\n",
       "  </thead>\n",
       "  <tbody>\n",
       "    <tr>\n",
       "      <th>0</th>\n",
       "      <td>1</td>\n",
       "      <td>business</td>\n",
       "      <td>-0.098651</td>\n",
       "      <td>-0.312493</td>\n",
       "      <td>0.023472</td>\n",
       "      <td>-0.029465</td>\n",
       "      <td>-0.046990</td>\n",
       "    </tr>\n",
       "    <tr>\n",
       "      <th>1</th>\n",
       "      <td>2</td>\n",
       "      <td>business</td>\n",
       "      <td>-0.102748</td>\n",
       "      <td>-0.316642</td>\n",
       "      <td>0.021755</td>\n",
       "      <td>-0.045080</td>\n",
       "      <td>0.137338</td>\n",
       "    </tr>\n",
       "    <tr>\n",
       "      <th>2</th>\n",
       "      <td>3</td>\n",
       "      <td>business</td>\n",
       "      <td>-0.089932</td>\n",
       "      <td>-0.211479</td>\n",
       "      <td>0.010823</td>\n",
       "      <td>-0.033651</td>\n",
       "      <td>-0.037667</td>\n",
       "    </tr>\n",
       "  </tbody>\n",
       "</table>\n",
       "</div>"
      ],
      "text/plain": [
       "   post_id     topic     PCA_1     PCA_2     PCA_3     PCA_4     PCA_5\n",
       "0        1  business -0.098651 -0.312493  0.023472 -0.029465 -0.046990\n",
       "1        2  business -0.102748 -0.316642  0.021755 -0.045080  0.137338\n",
       "2        3  business -0.089932 -0.211479  0.010823 -0.033651 -0.037667"
      ]
     },
     "execution_count": 43,
     "metadata": {},
     "output_type": "execute_result"
    }
   ],
   "source": [
    "post_df_pca.head(3)"
   ]
  },
  {
   "cell_type": "markdown",
   "id": "f756bb8e-bfd8-4c03-8509-e7ce8e931929",
   "metadata": {},
   "source": [
    "DF"
   ]
  },
  {
   "cell_type": "code",
   "execution_count": 44,
   "id": "e637c78d-b2b4-434e-9dbf-f39e8ea9d59d",
   "metadata": {},
   "outputs": [],
   "source": [
    "df = feed_df.merge(user_df, on='user_id', how='inner')"
   ]
  },
  {
   "cell_type": "code",
   "execution_count": 45,
   "id": "73a10360-66d6-48e2-a58d-32ed422ef8e5",
   "metadata": {},
   "outputs": [],
   "source": [
    "df = df.merge(post_df_pca, on='post_id', how='inner')"
   ]
  },
  {
   "cell_type": "code",
   "execution_count": 46,
   "id": "b938a020-f52f-4a21-b218-63eb37c1b629",
   "metadata": {},
   "outputs": [
    {
     "data": {
      "text/html": [
       "<div>\n",
       "<style scoped>\n",
       "    .dataframe tbody tr th:only-of-type {\n",
       "        vertical-align: middle;\n",
       "    }\n",
       "\n",
       "    .dataframe tbody tr th {\n",
       "        vertical-align: top;\n",
       "    }\n",
       "\n",
       "    .dataframe thead th {\n",
       "        text-align: right;\n",
       "    }\n",
       "</style>\n",
       "<table border=\"1\" class=\"dataframe\">\n",
       "  <thead>\n",
       "    <tr style=\"text-align: right;\">\n",
       "      <th></th>\n",
       "      <th>user_id</th>\n",
       "      <th>post_id</th>\n",
       "      <th>target</th>\n",
       "      <th>month</th>\n",
       "      <th>day</th>\n",
       "      <th>day_of_week</th>\n",
       "      <th>hour_of_day</th>\n",
       "      <th>gender</th>\n",
       "      <th>country</th>\n",
       "      <th>city</th>\n",
       "      <th>exp_group</th>\n",
       "      <th>os</th>\n",
       "      <th>source</th>\n",
       "      <th>age_category</th>\n",
       "      <th>topic</th>\n",
       "      <th>PCA_1</th>\n",
       "      <th>PCA_2</th>\n",
       "      <th>PCA_3</th>\n",
       "      <th>PCA_4</th>\n",
       "      <th>PCA_5</th>\n",
       "    </tr>\n",
       "  </thead>\n",
       "  <tbody>\n",
       "    <tr>\n",
       "      <th>0</th>\n",
       "      <td>200</td>\n",
       "      <td>6264</td>\n",
       "      <td>1</td>\n",
       "      <td>10</td>\n",
       "      <td>2</td>\n",
       "      <td>5</td>\n",
       "      <td>14</td>\n",
       "      <td>1</td>\n",
       "      <td>Russia</td>\n",
       "      <td>Degtyarsk</td>\n",
       "      <td>3</td>\n",
       "      <td>Android</td>\n",
       "      <td>ads</td>\n",
       "      <td>45</td>\n",
       "      <td>movie</td>\n",
       "      <td>-0.224576</td>\n",
       "      <td>0.157913</td>\n",
       "      <td>0.023313</td>\n",
       "      <td>0.306276</td>\n",
       "      <td>0.005328</td>\n",
       "    </tr>\n",
       "    <tr>\n",
       "      <th>1</th>\n",
       "      <td>532</td>\n",
       "      <td>6264</td>\n",
       "      <td>1</td>\n",
       "      <td>10</td>\n",
       "      <td>27</td>\n",
       "      <td>2</td>\n",
       "      <td>13</td>\n",
       "      <td>1</td>\n",
       "      <td>Russia</td>\n",
       "      <td>Moscow</td>\n",
       "      <td>4</td>\n",
       "      <td>Android</td>\n",
       "      <td>ads</td>\n",
       "      <td>45</td>\n",
       "      <td>movie</td>\n",
       "      <td>-0.224576</td>\n",
       "      <td>0.157913</td>\n",
       "      <td>0.023313</td>\n",
       "      <td>0.306276</td>\n",
       "      <td>0.005328</td>\n",
       "    </tr>\n",
       "    <tr>\n",
       "      <th>2</th>\n",
       "      <td>809</td>\n",
       "      <td>6264</td>\n",
       "      <td>1</td>\n",
       "      <td>11</td>\n",
       "      <td>7</td>\n",
       "      <td>6</td>\n",
       "      <td>21</td>\n",
       "      <td>0</td>\n",
       "      <td>Russia</td>\n",
       "      <td>Izhevsk</td>\n",
       "      <td>2</td>\n",
       "      <td>Android</td>\n",
       "      <td>ads</td>\n",
       "      <td>30</td>\n",
       "      <td>movie</td>\n",
       "      <td>-0.224576</td>\n",
       "      <td>0.157913</td>\n",
       "      <td>0.023313</td>\n",
       "      <td>0.306276</td>\n",
       "      <td>0.005328</td>\n",
       "    </tr>\n",
       "    <tr>\n",
       "      <th>3</th>\n",
       "      <td>985</td>\n",
       "      <td>6264</td>\n",
       "      <td>0</td>\n",
       "      <td>12</td>\n",
       "      <td>1</td>\n",
       "      <td>2</td>\n",
       "      <td>18</td>\n",
       "      <td>0</td>\n",
       "      <td>Russia</td>\n",
       "      <td>Korolëv</td>\n",
       "      <td>0</td>\n",
       "      <td>Android</td>\n",
       "      <td>ads</td>\n",
       "      <td>30</td>\n",
       "      <td>movie</td>\n",
       "      <td>-0.224576</td>\n",
       "      <td>0.157913</td>\n",
       "      <td>0.023313</td>\n",
       "      <td>0.306276</td>\n",
       "      <td>0.005328</td>\n",
       "    </tr>\n",
       "    <tr>\n",
       "      <th>4</th>\n",
       "      <td>1078</td>\n",
       "      <td>6264</td>\n",
       "      <td>0</td>\n",
       "      <td>12</td>\n",
       "      <td>12</td>\n",
       "      <td>6</td>\n",
       "      <td>7</td>\n",
       "      <td>0</td>\n",
       "      <td>Russia</td>\n",
       "      <td>Vidnoye</td>\n",
       "      <td>3</td>\n",
       "      <td>iOS</td>\n",
       "      <td>ads</td>\n",
       "      <td>18</td>\n",
       "      <td>movie</td>\n",
       "      <td>-0.224576</td>\n",
       "      <td>0.157913</td>\n",
       "      <td>0.023313</td>\n",
       "      <td>0.306276</td>\n",
       "      <td>0.005328</td>\n",
       "    </tr>\n",
       "  </tbody>\n",
       "</table>\n",
       "</div>"
      ],
      "text/plain": [
       "   user_id  post_id  target  month  day  day_of_week  hour_of_day  gender  \\\n",
       "0      200     6264       1     10    2            5           14       1   \n",
       "1      532     6264       1     10   27            2           13       1   \n",
       "2      809     6264       1     11    7            6           21       0   \n",
       "3      985     6264       0     12    1            2           18       0   \n",
       "4     1078     6264       0     12   12            6            7       0   \n",
       "\n",
       "  country       city  exp_group       os source age_category  topic     PCA_1  \\\n",
       "0  Russia  Degtyarsk          3  Android    ads           45  movie -0.224576   \n",
       "1  Russia     Moscow          4  Android    ads           45  movie -0.224576   \n",
       "2  Russia    Izhevsk          2  Android    ads           30  movie -0.224576   \n",
       "3  Russia    Korolëv          0  Android    ads           30  movie -0.224576   \n",
       "4  Russia    Vidnoye          3      iOS    ads           18  movie -0.224576   \n",
       "\n",
       "      PCA_2     PCA_3     PCA_4     PCA_5  \n",
       "0  0.157913  0.023313  0.306276  0.005328  \n",
       "1  0.157913  0.023313  0.306276  0.005328  \n",
       "2  0.157913  0.023313  0.306276  0.005328  \n",
       "3  0.157913  0.023313  0.306276  0.005328  \n",
       "4  0.157913  0.023313  0.306276  0.005328  "
      ]
     },
     "execution_count": 46,
     "metadata": {},
     "output_type": "execute_result"
    }
   ],
   "source": [
    "df.head()"
   ]
  },
  {
   "cell_type": "code",
   "execution_count": 47,
   "id": "d57acd75-5db5-4b90-ace3-2c63a36b03fe",
   "metadata": {},
   "outputs": [],
   "source": [
    "# TODO???\n",
    "# преобразовать int в object, а object в cat???\n",
    "df['gender'] = df['gender'].astype(str)\n",
    "df['exp_group'] = df['exp_group'].astype(str)"
   ]
  },
  {
   "cell_type": "code",
   "execution_count": 48,
   "id": "5789320a-2ed2-450a-9cd7-44800b5f4e2a",
   "metadata": {},
   "outputs": [
    {
     "name": "stdout",
     "output_type": "stream",
     "text": [
      "<class 'pandas.core.frame.DataFrame'>\n",
      "Int64Index: 4888776 entries, 0 to 4888775\n",
      "Data columns (total 20 columns):\n",
      " #   Column        Dtype  \n",
      "---  ------        -----  \n",
      " 0   user_id       int64  \n",
      " 1   post_id       int64  \n",
      " 2   target        int64  \n",
      " 3   month         int64  \n",
      " 4   day           int64  \n",
      " 5   day_of_week   int64  \n",
      " 6   hour_of_day   int64  \n",
      " 7   gender        object \n",
      " 8   country       object \n",
      " 9   city          object \n",
      " 10  exp_group     object \n",
      " 11  os            object \n",
      " 12  source        object \n",
      " 13  age_category  object \n",
      " 14  topic         object \n",
      " 15  PCA_1         float64\n",
      " 16  PCA_2         float64\n",
      " 17  PCA_3         float64\n",
      " 18  PCA_4         float64\n",
      " 19  PCA_5         float64\n",
      "dtypes: float64(5), int64(7), object(8)\n",
      "memory usage: 783.3+ MB\n"
     ]
    }
   ],
   "source": [
    "df.info()"
   ]
  },
  {
   "cell_type": "code",
   "execution_count": 49,
   "id": "4fe8ee39-bf3b-4bda-bce0-185894d5bfa3",
   "metadata": {},
   "outputs": [
    {
     "name": "stdout",
     "output_type": "stream",
     "text": [
      "Memory usage: 2792.34 MB\n",
      "Memory usage after gc: 2792.34 MB\n"
     ]
    }
   ],
   "source": [
    "# Check memory usage\n",
    "print(f\"Memory usage: {psutil.Process().memory_info().rss / 1024 ** 2:.2f} MB\")\n",
    "\n",
    "del feed_df\n",
    "del user_df\n",
    "del post_df_pca\n",
    "\n",
    "# Force garbage collection\n",
    "gc.collect()\n",
    "\n",
    "# Check memory usage again\n",
    "print(f\"Memory usage after gc: {psutil.Process().memory_info().rss / 1024 ** 2:.2f} MB\")"
   ]
  },
  {
   "cell_type": "markdown",
   "id": "9ebdcda5-d769-4eaf-9539-f8cd568b020d",
   "metadata": {},
   "source": [
    "SAVING DF TO DB AND READING IT"
   ]
  },
  {
   "cell_type": "code",
   "execution_count": null,
   "id": "4f77701e-f8c5-40ff-afed-ddd216f5d660",
   "metadata": {},
   "outputs": [],
   "source": [
    "df.to_sql('nktn_lx_step8_features', con=engine, if_exists='replace', index=False) # записываем таблицу"
   ]
  },
  {
   "cell_type": "code",
   "execution_count": null,
   "id": "c27cac2e-7915-4bc8-95a8-7f60ce8d28b4",
   "metadata": {},
   "outputs": [],
   "source": [
    "# RESTART KERNEL HERE"
   ]
  },
  {
   "cell_type": "code",
   "execution_count": 77,
   "id": "f82fdf4a-a71b-420e-88a2-704b56aee41f",
   "metadata": {},
   "outputs": [],
   "source": [
    "def batch_load_sql(query: str) -> pd.DataFrame:\n",
    "    CHUNKSIZE = 200000\n",
    "    engine = create_engine(\n",
    "        \"postgresql://robot-startml-ro:pheiph0hahj1Vaif@\"\n",
    "        \"postgres.lab.karpov.courses:6432/startml\"\n",
    "    )\n",
    "    conn = engine.connect().execution_options(stream_results=True)\n",
    "    chunks = []\n",
    "    for chunk_dataframe in pd.read_sql(query, conn, chunksize=CHUNKSIZE):\n",
    "        chunks.append(chunk_dataframe)\n",
    "    conn.close()\n",
    "    return pd.concat(chunks, ignore_index=True)"
   ]
  },
  {
   "cell_type": "code",
   "execution_count": 78,
   "id": "3869800f-9f21-4a23-87c4-95a5c11fa220",
   "metadata": {},
   "outputs": [],
   "source": [
    "def load_features() -> pd.DataFrame:\n",
    "    QUERY = 'SELECT * FROM \"nktn_lx_step8_features\"'\n",
    "    features_df = batch_load_sql(QUERY)\n",
    "    return features_df"
   ]
  },
  {
   "cell_type": "code",
   "execution_count": 79,
   "id": "4a1a824c-e343-4c4d-a8cb-82765b8cbfc8",
   "metadata": {},
   "outputs": [],
   "source": [
    "user_df_chunks = load_features()"
   ]
  },
  {
   "cell_type": "code",
   "execution_count": 80,
   "id": "ff805f4b-0cf8-4324-9807-5df1f1c6666d",
   "metadata": {},
   "outputs": [
    {
     "data": {
      "text/html": [
       "<div>\n",
       "<style scoped>\n",
       "    .dataframe tbody tr th:only-of-type {\n",
       "        vertical-align: middle;\n",
       "    }\n",
       "\n",
       "    .dataframe tbody tr th {\n",
       "        vertical-align: top;\n",
       "    }\n",
       "\n",
       "    .dataframe thead th {\n",
       "        text-align: right;\n",
       "    }\n",
       "</style>\n",
       "<table border=\"1\" class=\"dataframe\">\n",
       "  <thead>\n",
       "    <tr style=\"text-align: right;\">\n",
       "      <th></th>\n",
       "      <th>user_id</th>\n",
       "      <th>gender</th>\n",
       "      <th>age</th>\n",
       "      <th>country</th>\n",
       "      <th>city</th>\n",
       "      <th>exp_group</th>\n",
       "      <th>os</th>\n",
       "      <th>source</th>\n",
       "    </tr>\n",
       "  </thead>\n",
       "  <tbody>\n",
       "    <tr>\n",
       "      <th>0</th>\n",
       "      <td>200</td>\n",
       "      <td>1</td>\n",
       "      <td>34</td>\n",
       "      <td>Russia</td>\n",
       "      <td>Degtyarsk</td>\n",
       "      <td>3</td>\n",
       "      <td>Android</td>\n",
       "      <td>ads</td>\n",
       "    </tr>\n",
       "    <tr>\n",
       "      <th>1</th>\n",
       "      <td>201</td>\n",
       "      <td>0</td>\n",
       "      <td>37</td>\n",
       "      <td>Russia</td>\n",
       "      <td>Abakan</td>\n",
       "      <td>0</td>\n",
       "      <td>Android</td>\n",
       "      <td>ads</td>\n",
       "    </tr>\n",
       "    <tr>\n",
       "      <th>2</th>\n",
       "      <td>202</td>\n",
       "      <td>1</td>\n",
       "      <td>17</td>\n",
       "      <td>Russia</td>\n",
       "      <td>Smolensk</td>\n",
       "      <td>4</td>\n",
       "      <td>Android</td>\n",
       "      <td>ads</td>\n",
       "    </tr>\n",
       "  </tbody>\n",
       "</table>\n",
       "</div>"
      ],
      "text/plain": [
       "   user_id  gender  age country       city  exp_group       os source\n",
       "0      200       1   34  Russia  Degtyarsk          3  Android    ads\n",
       "1      201       0   37  Russia     Abakan          0  Android    ads\n",
       "2      202       1   17  Russia   Smolensk          4  Android    ads"
      ]
     },
     "execution_count": 80,
     "metadata": {},
     "output_type": "execute_result"
    }
   ],
   "source": [
    "user_df_chunks.head(3)"
   ]
  },
  {
   "cell_type": "code",
   "execution_count": 81,
   "id": "aa2375d4-8539-4a6c-9be9-a387c4754ba1",
   "metadata": {},
   "outputs": [
    {
     "data": {
      "text/plain": [
       "163205"
      ]
     },
     "execution_count": 81,
     "metadata": {},
     "output_type": "execute_result"
    }
   ],
   "source": [
    "user_df_chunks.user_id.nunique()"
   ]
  },
  {
   "cell_type": "code",
   "execution_count": null,
   "id": "d50f3242-014a-4a4e-94b0-f419fe92b11d",
   "metadata": {},
   "outputs": [],
   "source": []
  },
  {
   "cell_type": "code",
   "execution_count": null,
   "id": "defda28f-53c1-40ca-bbc9-a06b7075786b",
   "metadata": {},
   "outputs": [],
   "source": []
  },
  {
   "cell_type": "code",
   "execution_count": 46,
   "id": "2d9ab812-c70c-47e8-84e3-f62b3c8bd44c",
   "metadata": {},
   "outputs": [],
   "source": [
    "X = df.drop(['target', 'user_id', 'post_id'], axis=1)\n",
    "y = df.target"
   ]
  },
  {
   "cell_type": "code",
   "execution_count": 47,
   "id": "e858db00-00f3-492c-80d1-f3cbf33af5db",
   "metadata": {},
   "outputs": [
    {
     "data": {
      "text/html": [
       "<div>\n",
       "<style scoped>\n",
       "    .dataframe tbody tr th:only-of-type {\n",
       "        vertical-align: middle;\n",
       "    }\n",
       "\n",
       "    .dataframe tbody tr th {\n",
       "        vertical-align: top;\n",
       "    }\n",
       "\n",
       "    .dataframe thead th {\n",
       "        text-align: right;\n",
       "    }\n",
       "</style>\n",
       "<table border=\"1\" class=\"dataframe\">\n",
       "  <thead>\n",
       "    <tr style=\"text-align: right;\">\n",
       "      <th></th>\n",
       "      <th>month</th>\n",
       "      <th>day</th>\n",
       "      <th>day_of_week</th>\n",
       "      <th>hour_of_day</th>\n",
       "      <th>gender</th>\n",
       "      <th>country</th>\n",
       "      <th>city</th>\n",
       "      <th>exp_group</th>\n",
       "      <th>os</th>\n",
       "      <th>source</th>\n",
       "      <th>age_category</th>\n",
       "      <th>topic</th>\n",
       "      <th>PCA_1</th>\n",
       "      <th>PCA_2</th>\n",
       "      <th>PCA_3</th>\n",
       "      <th>PCA_4</th>\n",
       "      <th>PCA_5</th>\n",
       "    </tr>\n",
       "  </thead>\n",
       "  <tbody>\n",
       "    <tr>\n",
       "      <th>0</th>\n",
       "      <td>10</td>\n",
       "      <td>2</td>\n",
       "      <td>5</td>\n",
       "      <td>14</td>\n",
       "      <td>1</td>\n",
       "      <td>Russia</td>\n",
       "      <td>Degtyarsk</td>\n",
       "      <td>3</td>\n",
       "      <td>Android</td>\n",
       "      <td>ads</td>\n",
       "      <td>45</td>\n",
       "      <td>movie</td>\n",
       "      <td>-0.224576</td>\n",
       "      <td>0.157913</td>\n",
       "      <td>0.023313</td>\n",
       "      <td>0.306276</td>\n",
       "      <td>0.005328</td>\n",
       "    </tr>\n",
       "    <tr>\n",
       "      <th>1</th>\n",
       "      <td>10</td>\n",
       "      <td>27</td>\n",
       "      <td>2</td>\n",
       "      <td>13</td>\n",
       "      <td>1</td>\n",
       "      <td>Russia</td>\n",
       "      <td>Moscow</td>\n",
       "      <td>4</td>\n",
       "      <td>Android</td>\n",
       "      <td>ads</td>\n",
       "      <td>45</td>\n",
       "      <td>movie</td>\n",
       "      <td>-0.224576</td>\n",
       "      <td>0.157913</td>\n",
       "      <td>0.023313</td>\n",
       "      <td>0.306276</td>\n",
       "      <td>0.005328</td>\n",
       "    </tr>\n",
       "    <tr>\n",
       "      <th>2</th>\n",
       "      <td>11</td>\n",
       "      <td>7</td>\n",
       "      <td>6</td>\n",
       "      <td>21</td>\n",
       "      <td>0</td>\n",
       "      <td>Russia</td>\n",
       "      <td>Izhevsk</td>\n",
       "      <td>2</td>\n",
       "      <td>Android</td>\n",
       "      <td>ads</td>\n",
       "      <td>30</td>\n",
       "      <td>movie</td>\n",
       "      <td>-0.224576</td>\n",
       "      <td>0.157913</td>\n",
       "      <td>0.023313</td>\n",
       "      <td>0.306276</td>\n",
       "      <td>0.005328</td>\n",
       "    </tr>\n",
       "  </tbody>\n",
       "</table>\n",
       "</div>"
      ],
      "text/plain": [
       "   month  day  day_of_week  hour_of_day gender country       city exp_group  \\\n",
       "0     10    2            5           14      1  Russia  Degtyarsk         3   \n",
       "1     10   27            2           13      1  Russia     Moscow         4   \n",
       "2     11    7            6           21      0  Russia    Izhevsk         2   \n",
       "\n",
       "        os source age_category  topic     PCA_1     PCA_2     PCA_3     PCA_4  \\\n",
       "0  Android    ads           45  movie -0.224576  0.157913  0.023313  0.306276   \n",
       "1  Android    ads           45  movie -0.224576  0.157913  0.023313  0.306276   \n",
       "2  Android    ads           30  movie -0.224576  0.157913  0.023313  0.306276   \n",
       "\n",
       "      PCA_5  \n",
       "0  0.005328  \n",
       "1  0.005328  \n",
       "2  0.005328  "
      ]
     },
     "execution_count": 47,
     "metadata": {},
     "output_type": "execute_result"
    }
   ],
   "source": [
    "X.head(3)"
   ]
  },
  {
   "cell_type": "code",
   "execution_count": 48,
   "id": "8ee719bd-680a-49ba-b4a1-41ec707a0cad",
   "metadata": {},
   "outputs": [
    {
     "data": {
      "text/plain": [
       "0    1\n",
       "1    1\n",
       "2    1\n",
       "Name: target, dtype: int64"
      ]
     },
     "execution_count": 48,
     "metadata": {},
     "output_type": "execute_result"
    }
   ],
   "source": [
    "y[0:3]"
   ]
  },
  {
   "cell_type": "code",
   "execution_count": 49,
   "id": "89c4c728-da66-423f-8d8d-6e64d7d22304",
   "metadata": {},
   "outputs": [
    {
     "name": "stdout",
     "output_type": "stream",
     "text": [
      "Memory usage: 3724.02 MB\n",
      "Memory usage after deletion: 3724.02 MB\n"
     ]
    }
   ],
   "source": [
    "import gc\n",
    "import psutil\n",
    "\n",
    "\n",
    "# Check memory usage\n",
    "print(f\"Memory usage: {psutil.Process().memory_info().rss / 1024 ** 2:.2f} MB\")\n",
    "\n",
    "# Delete the dataframe\n",
    "del feed_df\n",
    "del user_df\n",
    "del post_df_pca\n",
    "\n",
    "# Force garbage collection\n",
    "gc.collect()\n",
    "\n",
    "# Check memory usage again\n",
    "print(f\"Memory usage after deletion: {psutil.Process().memory_info().rss / 1024 ** 2:.2f} MB\")"
   ]
  },
  {
   "cell_type": "markdown",
   "id": "49353213-d7ee-4cbc-8fc9-9d6d36629ce7",
   "metadata": {},
   "source": [
    "MODEL"
   ]
  },
  {
   "cell_type": "code",
   "execution_count": null,
   "id": "90cc7bd1-dbc7-4884-a19f-80be077c09fa",
   "metadata": {},
   "outputs": [],
   "source": [
    "from sklearn.model_selection import train_test_split\n",
    "\n",
    "X_train, X_test, y_train, y_test = train_test_split(X, y,\n",
    "                                                    random_state=42, \n",
    "                                                    test_size=0.2)"
   ]
  },
  {
   "cell_type": "code",
   "execution_count": null,
   "id": "73299f0d-e8de-42cd-b50a-426240879b4a",
   "metadata": {},
   "outputs": [],
   "source": [
    "cat_cols = X.select_dtypes(include='object').columns.to_list()\n",
    "cat_cols"
   ]
  },
  {
   "cell_type": "code",
   "execution_count": 61,
   "id": "04597943-0a2e-4548-82d2-d356623af6ce",
   "metadata": {},
   "outputs": [],
   "source": [
    "from catboost import CatBoostClassifier\n",
    "\n",
    "\n",
    "catboost = CatBoostClassifier()\n",
    "#catboost.fit(X_train, y_train, cat_features=cat_cols, verbose=100)"
   ]
  },
  {
   "cell_type": "code",
   "execution_count": 60,
   "id": "be2d6004-eb9e-4f8a-b3ca-6504598ffee9",
   "metadata": {},
   "outputs": [],
   "source": [
    "# Predict class labels\n",
    "y_pred = catboost.predict(X_test)\n",
    "\n",
    "# Predict probabilities\n",
    "y_pred_proba = catboost.predict_proba(X_test)\n",
    "y_pred_proba_positive = y_pred_proba[:, 1]  # Probability of class 1"
   ]
  },
  {
   "cell_type": "code",
   "execution_count": 61,
   "id": "ca2ce5b6-73a2-42f6-9a44-74d33430311e",
   "metadata": {},
   "outputs": [
    {
     "name": "stdout",
     "output_type": "stream",
     "text": [
      "Accuracy: 0.88328\n",
      "Precision: 0.3076923076923077\n",
      "Recall: 0.002751031636863824\n",
      "F1 Score: 0.0054533060668029995\n",
      "ROC-AUC Score: 0.6440508505011305\n",
      "\n",
      "Confusion Matrix:\n",
      " [[11037     9]\n",
      " [ 1450     4]]\n"
     ]
    }
   ],
   "source": [
    "from sklearn.metrics import accuracy_score, precision_score, recall_score, f1_score, roc_auc_score, confusion_matrix\n",
    "\n",
    "\n",
    "# Evaluate the model\n",
    "accuracy = accuracy_score(y_test, y_pred)\n",
    "precision = precision_score(y_test, y_pred)\n",
    "recall = recall_score(y_test, y_pred)\n",
    "f1 = f1_score(y_test, y_pred)\n",
    "roc_auc = roc_auc_score(y_test, y_pred_proba_positive)\n",
    "\n",
    "# Print metrics\n",
    "print(\"Accuracy:\", accuracy)\n",
    "print(\"Precision:\", precision)\n",
    "print(\"Recall:\", recall)\n",
    "print(\"F1 Score:\", f1)\n",
    "print(\"ROC-AUC Score:\", roc_auc)\n",
    "\n",
    "# Confusion Matrix\n",
    "conf_matrix = confusion_matrix(y_test, y_pred)\n",
    "print(\"\\nConfusion Matrix:\\n\", conf_matrix)"
   ]
  },
  {
   "cell_type": "code",
   "execution_count": 62,
   "id": "f0d0b217-2ab0-4863-bcbb-a57629ef103b",
   "metadata": {},
   "outputs": [
    {
     "name": "stdout",
     "output_type": "stream",
     "text": [
      "FEATURE IMPORTANCE report\n",
      "gender: 1.63\n",
      "age: 14.44\n",
      "country: 3.34\n",
      "city: 13.95\n",
      "exp_group: 6.18\n",
      "os: 1.25\n",
      "source: 1.46\n",
      "topic: 7.61\n",
      "PCA_1: 8.87\n",
      "PCA_2: 9.63\n",
      "PCA_3: 8.85\n",
      "PCA_4: 11.47\n",
      "PCA_5: 11.31\n"
     ]
    }
   ],
   "source": [
    "feature_importance = catboost.get_feature_importance()\n",
    "feature_names = catboost.feature_names_\n",
    "\n",
    "print('FEATURE IMPORTANCE report')\n",
    "for n, i in zip(feature_names, feature_importance):\n",
    "    print(n, round(i, 2), sep=': ')"
   ]
  },
  {
   "cell_type": "code",
   "execution_count": null,
   "id": "f295ba46-e043-4a66-853e-b08548a07632",
   "metadata": {},
   "outputs": [],
   "source": []
  },
  {
   "cell_type": "code",
   "execution_count": null,
   "id": "7933e2f3-083f-46ac-b437-c03d2382fedb",
   "metadata": {},
   "outputs": [],
   "source": []
  },
  {
   "cell_type": "code",
   "execution_count": null,
   "id": "d94f4fd3-9624-45f2-b24e-4fa2e93c9b2a",
   "metadata": {},
   "outputs": [],
   "source": []
  },
  {
   "cell_type": "code",
   "execution_count": null,
   "id": "43c7b69a-6078-4648-8f88-4e80301e7cdf",
   "metadata": {},
   "outputs": [],
   "source": []
  },
  {
   "cell_type": "code",
   "execution_count": null,
   "id": "264e0767-9ea3-42bf-90e9-01a6da9ef638",
   "metadata": {},
   "outputs": [],
   "source": []
  },
  {
   "cell_type": "code",
   "execution_count": null,
   "id": "df41b53a-d06a-46f2-993e-1c16e6363ea0",
   "metadata": {},
   "outputs": [],
   "source": []
  },
  {
   "cell_type": "code",
   "execution_count": null,
   "id": "14b2e7c0-56bc-4cf4-bbfb-0998243d40be",
   "metadata": {},
   "outputs": [],
   "source": []
  },
  {
   "cell_type": "code",
   "execution_count": null,
   "id": "81c9d065-1834-4fa4-a707-6e7e7d6baa07",
   "metadata": {},
   "outputs": [],
   "source": []
  },
  {
   "cell_type": "code",
   "execution_count": null,
   "id": "9370ede1-dba8-40a2-87ca-0e7d72f321ed",
   "metadata": {},
   "outputs": [],
   "source": []
  },
  {
   "cell_type": "code",
   "execution_count": null,
   "id": "c7557cf5-1117-490f-937f-f1ee9903822e",
   "metadata": {},
   "outputs": [],
   "source": [
    "### TODO!\n",
    "# del all conneciton creds when loading to git"
   ]
  }
 ],
 "metadata": {
  "kernelspec": {
   "display_name": "Python 3 (ipykernel)",
   "language": "python",
   "name": "python3"
  },
  "language_info": {
   "codemirror_mode": {
    "name": "ipython",
    "version": 3
   },
   "file_extension": ".py",
   "mimetype": "text/x-python",
   "name": "python",
   "nbconvert_exporter": "python",
   "pygments_lexer": "ipython3",
   "version": "3.8.10"
  }
 },
 "nbformat": 4,
 "nbformat_minor": 5
}
