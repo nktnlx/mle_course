{
 "cells": [
  {
   "cell_type": "markdown",
   "id": "ade97874-17e9-45cb-85ec-36aaf13effac",
   "metadata": {},
   "source": [
    "# Rec Sys"
   ]
  },
  {
   "cell_type": "markdown",
   "id": "b62e0b7f-642c-4d7e-b428-c903c8c38788",
   "metadata": {},
   "source": [
    "## Предположения и что мы проверяем в решении проекта"
   ]
  },
  {
   "cell_type": "markdown",
   "id": "0b4843b6-4110-47d7-8d70-c844097a14ae",
   "metadata": {},
   "source": [
    "- На практике мы хотим достаточно быстро формировать рекомендации. Поэтому будем требовать, чтобы алгоритм работал не более, чем ~0.5 секунд на один запрос и занимал не более ~4 ГБ памяти (цифры приблизительные).\n",
    "- Набор пользователей фиксирован, и новых добавляться не будет.\n",
    "- Чекер будет проверять модель в рамках того же временного периода, что вы видите в базе данных.\n",
    "- Модели не обучаются заново при использовании сервисов. Мы ожидаем, что ваш код будет импортировать уже обученную модель и применять её."
   ]
  },
  {
   "cell_type": "markdown",
   "id": "b96cb580-2070-454f-8231-5f44b6ac2bac",
   "metadata": {},
   "source": [
    "## 0. Notes & Ideas"
   ]
  },
  {
   "cell_type": "code",
   "execution_count": 1,
   "id": "6d5b08cd-bee8-412f-a299-1fd4fd945155",
   "metadata": {},
   "outputs": [],
   "source": [
    "# - "
   ]
  },
  {
   "cell_type": "markdown",
   "id": "a1294791-48d7-422f-81ac-0e2df8c9257e",
   "metadata": {},
   "source": [
    "- Про таблицы. Предлагаю не усложнаять систму и работать с таблицей только для постов. Когда вы сделаете новые фичи для постов - сохраните их в одну таблицу, такого же размера, то есть примерно 7000 строк.\n",
    "- Про RAM. Для обучения вам достаточно 5 млн из фид таблицы- это правильно. "
   ]
  },
  {
   "cell_type": "markdown",
   "id": "aebb309e-bb86-4415-9ec2-702ceb6bbe75",
   "metadata": {},
   "source": [
    "**Несколько подсказок:**\n",
    "- Для того чтобы как раз не отдавать все данные мы и строим по сути модель машинного обучения.\n",
    "\n",
    "- В сервисе вам нужно будет выгрузить все строки с лайками, для того чтобы отфильтровать те посты которые нужный пользователь уже лайнул.\n",
    "\n",
    "- Работайте сразу в БД с sql запросом, чтобы сформировать нужный датасет из 5 млн строк. Для обучения вам не нужно прогонять обработки по всем данным."
   ]
  },
  {
   "cell_type": "markdown",
   "id": "75cc3a71-f65d-4b2b-b54e-8ba76ad9016e",
   "metadata": {},
   "source": [
    "- В сервисе загружайте только с action = 'like'\n",
    "- По поводу запроса при старте сервиса. Уменьшите количество столбцов до двух конкрентных столбцов, которые необходимы для работы сервиса + в запросе должно быть action = 'like'.\n",
    "- По поводу признаков для user - наибольшее качество дадут спроектированные признаки для постов, поэтому предлагаю, начать с них.\n",
    "- Параметр timestamp можно использовать как основу для своих фичей - таких как час дня, день месяца и тд. В фильтрации он не участвует."
   ]
  },
  {
   "cell_type": "markdown",
   "id": "abd9a4b1-d167-47d0-b052-a5630b1b592c",
   "metadata": {},
   "source": [
    "- Вы можете выгрузить лайкнутые посты уже в датафрейм и делать сортировку по датафреймам\n",
    "- В JupiterHub лучше не делать финальный проект т.к. там нет столько вычислительных ресурсов. Попробуйте обучать модель на google colab или kaggle"
   ]
  },
  {
   "cell_type": "markdown",
   "id": "416f9495-7afe-4a9f-941d-d7e2a5eab25c",
   "metadata": {},
   "source": [
    "- А зачем вам таблица feed для выдачи рекомендаций? таблица feed нужна для обучения така как имеет колонку target и взаимодействия юзер-пост.\n",
    "- Для сервиса, который будет делать рекомендации взаимодействия юзер-пост совсем не нужны. Нужны только юзера и посты как таковые.\n",
    "- А для ЛМС стоит возвращать таблицу, которая содержит инфомрацию о юзерах"
   ]
  },
  {
   "cell_type": "markdown",
   "id": "0e2797ef-c914-4ae9-88f9-c8dc8ddbe172",
   "metadata": {},
   "source": [
    "- Q: стоит оставлять только чистые признаки юзеров и постов без идентификаторов?  \n",
    "A: в итоговой модели не должно быть этих id. Датафрейм который подается в модель не должен содержать никаких id."
   ]
  },
  {
   "cell_type": "markdown",
   "id": "0b45dd15-0388-4d11-80d2-32204e2afdf8",
   "metadata": {},
   "source": [
    "## 1. Загрузка данных из базы данных (БД) и обзор данных"
   ]
  },
  {
   "cell_type": "markdown",
   "id": "a6616f94-9b7b-48b7-b2b3-34a1512fb776",
   "metadata": {},
   "source": [
    "На первом этапе мы подключаемся к базе данных, выгружаем необходимые данные и загружаем их в Jupyter Hub для анализа. В этот момент цель — понять структуру данных, выявить возможные пропуски или аномалии, а также получить общее представление о распределении и составе данных. Анализ включает изучение признаков (features) и целевой переменной.\n",
    "\n"
   ]
  },
  {
   "cell_type": "code",
   "execution_count": 2,
   "id": "6cd48e3a-fb96-436c-988a-4d231fc061e5",
   "metadata": {},
   "outputs": [],
   "source": [
    "import pandas as pd\n",
    "from sqlalchemy import create_engine"
   ]
  },
  {
   "cell_type": "code",
   "execution_count": 3,
   "id": "46e0f4c3-a2cd-4918-a3c5-b1b377d6dc25",
   "metadata": {},
   "outputs": [],
   "source": [
    "engine = create_engine(\n",
    "    \"postgresql://robot-startml-ro:pheiph0hahj1Vaif@\"\n",
    "    \"postgres.lab.karpov.courses:6432/startml\"\n",
    ")"
   ]
  },
  {
   "cell_type": "markdown",
   "id": "971a4f84-47f3-4baa-96f0-f9d4e590acab",
   "metadata": {},
   "source": [
    "### USER_DATA"
   ]
  },
  {
   "cell_type": "code",
   "execution_count": 4,
   "id": "b8181044-752e-4b50-8dfb-beedd58f26fd",
   "metadata": {},
   "outputs": [],
   "source": [
    "user_df = pd.read_sql('SELECT * FROM \"user_data\"', con=engine)"
   ]
  },
  {
   "cell_type": "code",
   "execution_count": 5,
   "id": "68f0c121-3ad8-45b7-b5eb-34aa7414148e",
   "metadata": {},
   "outputs": [
    {
     "data": {
      "text/html": [
       "<div>\n",
       "<style scoped>\n",
       "    .dataframe tbody tr th:only-of-type {\n",
       "        vertical-align: middle;\n",
       "    }\n",
       "\n",
       "    .dataframe tbody tr th {\n",
       "        vertical-align: top;\n",
       "    }\n",
       "\n",
       "    .dataframe thead th {\n",
       "        text-align: right;\n",
       "    }\n",
       "</style>\n",
       "<table border=\"1\" class=\"dataframe\">\n",
       "  <thead>\n",
       "    <tr style=\"text-align: right;\">\n",
       "      <th></th>\n",
       "      <th>user_id</th>\n",
       "      <th>gender</th>\n",
       "      <th>age</th>\n",
       "      <th>country</th>\n",
       "      <th>city</th>\n",
       "      <th>exp_group</th>\n",
       "      <th>os</th>\n",
       "      <th>source</th>\n",
       "    </tr>\n",
       "  </thead>\n",
       "  <tbody>\n",
       "    <tr>\n",
       "      <th>0</th>\n",
       "      <td>200</td>\n",
       "      <td>1</td>\n",
       "      <td>34</td>\n",
       "      <td>Russia</td>\n",
       "      <td>Degtyarsk</td>\n",
       "      <td>3</td>\n",
       "      <td>Android</td>\n",
       "      <td>ads</td>\n",
       "    </tr>\n",
       "    <tr>\n",
       "      <th>1</th>\n",
       "      <td>201</td>\n",
       "      <td>0</td>\n",
       "      <td>37</td>\n",
       "      <td>Russia</td>\n",
       "      <td>Abakan</td>\n",
       "      <td>0</td>\n",
       "      <td>Android</td>\n",
       "      <td>ads</td>\n",
       "    </tr>\n",
       "    <tr>\n",
       "      <th>2</th>\n",
       "      <td>202</td>\n",
       "      <td>1</td>\n",
       "      <td>17</td>\n",
       "      <td>Russia</td>\n",
       "      <td>Smolensk</td>\n",
       "      <td>4</td>\n",
       "      <td>Android</td>\n",
       "      <td>ads</td>\n",
       "    </tr>\n",
       "    <tr>\n",
       "      <th>3</th>\n",
       "      <td>203</td>\n",
       "      <td>0</td>\n",
       "      <td>18</td>\n",
       "      <td>Russia</td>\n",
       "      <td>Moscow</td>\n",
       "      <td>1</td>\n",
       "      <td>iOS</td>\n",
       "      <td>ads</td>\n",
       "    </tr>\n",
       "    <tr>\n",
       "      <th>4</th>\n",
       "      <td>204</td>\n",
       "      <td>0</td>\n",
       "      <td>36</td>\n",
       "      <td>Russia</td>\n",
       "      <td>Anzhero-Sudzhensk</td>\n",
       "      <td>3</td>\n",
       "      <td>Android</td>\n",
       "      <td>ads</td>\n",
       "    </tr>\n",
       "    <tr>\n",
       "      <th>...</th>\n",
       "      <td>...</td>\n",
       "      <td>...</td>\n",
       "      <td>...</td>\n",
       "      <td>...</td>\n",
       "      <td>...</td>\n",
       "      <td>...</td>\n",
       "      <td>...</td>\n",
       "      <td>...</td>\n",
       "    </tr>\n",
       "    <tr>\n",
       "      <th>163200</th>\n",
       "      <td>168548</td>\n",
       "      <td>0</td>\n",
       "      <td>36</td>\n",
       "      <td>Russia</td>\n",
       "      <td>Kaliningrad</td>\n",
       "      <td>4</td>\n",
       "      <td>Android</td>\n",
       "      <td>organic</td>\n",
       "    </tr>\n",
       "    <tr>\n",
       "      <th>163201</th>\n",
       "      <td>168549</td>\n",
       "      <td>0</td>\n",
       "      <td>18</td>\n",
       "      <td>Russia</td>\n",
       "      <td>Tula</td>\n",
       "      <td>2</td>\n",
       "      <td>Android</td>\n",
       "      <td>organic</td>\n",
       "    </tr>\n",
       "    <tr>\n",
       "      <th>163202</th>\n",
       "      <td>168550</td>\n",
       "      <td>1</td>\n",
       "      <td>41</td>\n",
       "      <td>Russia</td>\n",
       "      <td>Yekaterinburg</td>\n",
       "      <td>4</td>\n",
       "      <td>Android</td>\n",
       "      <td>organic</td>\n",
       "    </tr>\n",
       "    <tr>\n",
       "      <th>163203</th>\n",
       "      <td>168551</td>\n",
       "      <td>0</td>\n",
       "      <td>38</td>\n",
       "      <td>Russia</td>\n",
       "      <td>Moscow</td>\n",
       "      <td>3</td>\n",
       "      <td>iOS</td>\n",
       "      <td>organic</td>\n",
       "    </tr>\n",
       "    <tr>\n",
       "      <th>163204</th>\n",
       "      <td>168552</td>\n",
       "      <td>1</td>\n",
       "      <td>16</td>\n",
       "      <td>Russia</td>\n",
       "      <td>Ivanteyevka</td>\n",
       "      <td>4</td>\n",
       "      <td>Android</td>\n",
       "      <td>organic</td>\n",
       "    </tr>\n",
       "  </tbody>\n",
       "</table>\n",
       "<p>163205 rows × 8 columns</p>\n",
       "</div>"
      ],
      "text/plain": [
       "        user_id  gender  age country               city  exp_group       os  \\\n",
       "0           200       1   34  Russia          Degtyarsk          3  Android   \n",
       "1           201       0   37  Russia             Abakan          0  Android   \n",
       "2           202       1   17  Russia           Smolensk          4  Android   \n",
       "3           203       0   18  Russia             Moscow          1      iOS   \n",
       "4           204       0   36  Russia  Anzhero-Sudzhensk          3  Android   \n",
       "...         ...     ...  ...     ...                ...        ...      ...   \n",
       "163200   168548       0   36  Russia        Kaliningrad          4  Android   \n",
       "163201   168549       0   18  Russia               Tula          2  Android   \n",
       "163202   168550       1   41  Russia      Yekaterinburg          4  Android   \n",
       "163203   168551       0   38  Russia             Moscow          3      iOS   \n",
       "163204   168552       1   16  Russia        Ivanteyevka          4  Android   \n",
       "\n",
       "         source  \n",
       "0           ads  \n",
       "1           ads  \n",
       "2           ads  \n",
       "3           ads  \n",
       "4           ads  \n",
       "...         ...  \n",
       "163200  organic  \n",
       "163201  organic  \n",
       "163202  organic  \n",
       "163203  organic  \n",
       "163204  organic  \n",
       "\n",
       "[163205 rows x 8 columns]"
      ]
     },
     "execution_count": 5,
     "metadata": {},
     "output_type": "execute_result"
    }
   ],
   "source": [
    "user_df"
   ]
  },
  {
   "cell_type": "code",
   "execution_count": 6,
   "id": "49c488b4-f7d6-410c-ba5e-6591723aa2dd",
   "metadata": {},
   "outputs": [
    {
     "data": {
      "text/plain": [
       "163205"
      ]
     },
     "execution_count": 6,
     "metadata": {},
     "output_type": "execute_result"
    }
   ],
   "source": [
    "user_df.user_id.nunique()"
   ]
  },
  {
   "cell_type": "code",
   "execution_count": 7,
   "id": "62fb538a-2f5b-4dfb-9181-35c332d41c54",
   "metadata": {},
   "outputs": [
    {
     "name": "stdout",
     "output_type": "stream",
     "text": [
      "<class 'pandas.core.frame.DataFrame'>\n",
      "RangeIndex: 163205 entries, 0 to 163204\n",
      "Data columns (total 8 columns):\n",
      " #   Column     Non-Null Count   Dtype \n",
      "---  ------     --------------   ----- \n",
      " 0   user_id    163205 non-null  int64 \n",
      " 1   gender     163205 non-null  int64 \n",
      " 2   age        163205 non-null  int64 \n",
      " 3   country    163205 non-null  object\n",
      " 4   city       163205 non-null  object\n",
      " 5   exp_group  163205 non-null  int64 \n",
      " 6   os         163205 non-null  object\n",
      " 7   source     163205 non-null  object\n",
      "dtypes: int64(4), object(4)\n",
      "memory usage: 44.5 MB\n"
     ]
    }
   ],
   "source": [
    "user_df.info(memory_usage='deep')"
   ]
  },
  {
   "cell_type": "code",
   "execution_count": 8,
   "id": "8e92386e-20c6-4848-9ae5-6d23d002935f",
   "metadata": {},
   "outputs": [
    {
     "data": {
      "text/plain": [
       "1    89980\n",
       "0    73225\n",
       "Name: gender, dtype: int64"
      ]
     },
     "execution_count": 8,
     "metadata": {},
     "output_type": "execute_result"
    }
   ],
   "source": [
    "user_df.gender.value_counts()"
   ]
  },
  {
   "cell_type": "code",
   "execution_count": 9,
   "id": "1fe317df-25a5-4391-8d63-5b16b2be5653",
   "metadata": {},
   "outputs": [
    {
     "data": {
      "text/plain": [
       "20    10280\n",
       "21    10139\n",
       "19     9802\n",
       "22     9049\n",
       "18     9034\n",
       "      ...  \n",
       "86        1\n",
       "83        1\n",
       "85        1\n",
       "92        1\n",
       "95        1\n",
       "Name: age, Length: 76, dtype: int64"
      ]
     },
     "execution_count": 9,
     "metadata": {},
     "output_type": "execute_result"
    }
   ],
   "source": [
    "user_df.age.value_counts()"
   ]
  },
  {
   "cell_type": "code",
   "execution_count": 10,
   "id": "2fddd048-17dc-4b81-b185-7ba460162928",
   "metadata": {},
   "outputs": [
    {
     "data": {
      "text/plain": [
       "count    163205.000000\n",
       "mean         27.195405\n",
       "std          10.239158\n",
       "min          14.000000\n",
       "1%           14.000000\n",
       "5%           16.000000\n",
       "25%          19.000000\n",
       "50%          24.000000\n",
       "75%          33.000000\n",
       "95%          48.000000\n",
       "99%          58.000000\n",
       "max          95.000000\n",
       "Name: age, dtype: float64"
      ]
     },
     "execution_count": 10,
     "metadata": {},
     "output_type": "execute_result"
    }
   ],
   "source": [
    "user_df.age.describe(percentiles=[.01, .05, .25, .5, .75, .95, .99])"
   ]
  },
  {
   "cell_type": "code",
   "execution_count": 11,
   "id": "651641cf-ae11-46a6-a929-f98a8a3518fe",
   "metadata": {},
   "outputs": [
    {
     "data": {
      "text/plain": [
       "Russia         143035\n",
       "Ukraine          8273\n",
       "Belarus          3293\n",
       "Kazakhstan       3172\n",
       "Turkey           1606\n",
       "Finland          1599\n",
       "Azerbaijan       1542\n",
       "Estonia           178\n",
       "Latvia            175\n",
       "Cyprus            170\n",
       "Switzerland       162\n",
       "Name: country, dtype: int64"
      ]
     },
     "execution_count": 11,
     "metadata": {},
     "output_type": "execute_result"
    }
   ],
   "source": [
    "user_df.country.value_counts()"
   ]
  },
  {
   "cell_type": "code",
   "execution_count": 12,
   "id": "15f81aee-f315-46b9-9c82-4d74d9d94e3f",
   "metadata": {},
   "outputs": [
    {
     "data": {
      "text/plain": [
       "3915"
      ]
     },
     "execution_count": 12,
     "metadata": {},
     "output_type": "execute_result"
    }
   ],
   "source": [
    "user_df.city.nunique()"
   ]
  },
  {
   "cell_type": "code",
   "execution_count": 13,
   "id": "43195870-25a3-4afb-b29d-7afecc9fbaed",
   "metadata": {},
   "outputs": [
    {
     "data": {
      "text/plain": [
       "Android    105972\n",
       "iOS         57233\n",
       "Name: os, dtype: int64"
      ]
     },
     "execution_count": 13,
     "metadata": {},
     "output_type": "execute_result"
    }
   ],
   "source": [
    "user_df.os.value_counts()"
   ]
  },
  {
   "cell_type": "code",
   "execution_count": 14,
   "id": "7c75a3a1-b8c6-46d9-8834-54c7b997cbed",
   "metadata": {},
   "outputs": [
    {
     "data": {
      "text/plain": [
       "ads        101685\n",
       "organic     61520\n",
       "Name: source, dtype: int64"
      ]
     },
     "execution_count": 14,
     "metadata": {},
     "output_type": "execute_result"
    }
   ],
   "source": [
    "user_df.source.value_counts()"
   ]
  },
  {
   "cell_type": "code",
   "execution_count": 15,
   "id": "ee522de1-fbbd-4647-a8f7-9616c553402e",
   "metadata": {},
   "outputs": [
    {
     "data": {
      "text/plain": [
       "3    32768\n",
       "0    32723\n",
       "1    32638\n",
       "2    32614\n",
       "4    32462\n",
       "Name: exp_group, dtype: int64"
      ]
     },
     "execution_count": 15,
     "metadata": {},
     "output_type": "execute_result"
    }
   ],
   "source": [
    "user_df.exp_group.value_counts()"
   ]
  },
  {
   "cell_type": "markdown",
   "id": "1cd87a30-6014-46f0-8c52-ad76b018c280",
   "metadata": {},
   "source": [
    "### POST_TEXT_DF"
   ]
  },
  {
   "cell_type": "code",
   "execution_count": 16,
   "id": "5a4380e5-a729-4c13-af11-f26fcfbe826e",
   "metadata": {},
   "outputs": [],
   "source": [
    "post_df = pd.read_sql('SELECT * FROM \"post_text_df\"', con=engine)"
   ]
  },
  {
   "cell_type": "code",
   "execution_count": 17,
   "id": "ba76ecde-6728-41fd-a5c0-0c83cf6ec659",
   "metadata": {},
   "outputs": [
    {
     "data": {
      "text/html": [
       "<div>\n",
       "<style scoped>\n",
       "    .dataframe tbody tr th:only-of-type {\n",
       "        vertical-align: middle;\n",
       "    }\n",
       "\n",
       "    .dataframe tbody tr th {\n",
       "        vertical-align: top;\n",
       "    }\n",
       "\n",
       "    .dataframe thead th {\n",
       "        text-align: right;\n",
       "    }\n",
       "</style>\n",
       "<table border=\"1\" class=\"dataframe\">\n",
       "  <thead>\n",
       "    <tr style=\"text-align: right;\">\n",
       "      <th></th>\n",
       "      <th>post_id</th>\n",
       "      <th>text</th>\n",
       "      <th>topic</th>\n",
       "    </tr>\n",
       "  </thead>\n",
       "  <tbody>\n",
       "    <tr>\n",
       "      <th>0</th>\n",
       "      <td>1</td>\n",
       "      <td>UK economy facing major risks\\n\\nThe UK manufa...</td>\n",
       "      <td>business</td>\n",
       "    </tr>\n",
       "    <tr>\n",
       "      <th>1</th>\n",
       "      <td>2</td>\n",
       "      <td>Aids and climate top Davos agenda\\n\\nClimate c...</td>\n",
       "      <td>business</td>\n",
       "    </tr>\n",
       "    <tr>\n",
       "      <th>2</th>\n",
       "      <td>3</td>\n",
       "      <td>Asian quake hits European shares\\n\\nShares in ...</td>\n",
       "      <td>business</td>\n",
       "    </tr>\n",
       "    <tr>\n",
       "      <th>3</th>\n",
       "      <td>4</td>\n",
       "      <td>India power shares jump on debut\\n\\nShares in ...</td>\n",
       "      <td>business</td>\n",
       "    </tr>\n",
       "    <tr>\n",
       "      <th>4</th>\n",
       "      <td>5</td>\n",
       "      <td>Lacroix label bought by US firm\\n\\nLuxury good...</td>\n",
       "      <td>business</td>\n",
       "    </tr>\n",
       "    <tr>\n",
       "      <th>...</th>\n",
       "      <td>...</td>\n",
       "      <td>...</td>\n",
       "      <td>...</td>\n",
       "    </tr>\n",
       "    <tr>\n",
       "      <th>7018</th>\n",
       "      <td>7315</td>\n",
       "      <td>OK, I would not normally watch a Farrelly brot...</td>\n",
       "      <td>movie</td>\n",
       "    </tr>\n",
       "    <tr>\n",
       "      <th>7019</th>\n",
       "      <td>7316</td>\n",
       "      <td>I give this movie 2 stars purely because of it...</td>\n",
       "      <td>movie</td>\n",
       "    </tr>\n",
       "    <tr>\n",
       "      <th>7020</th>\n",
       "      <td>7317</td>\n",
       "      <td>I cant believe this film was allowed to be mad...</td>\n",
       "      <td>movie</td>\n",
       "    </tr>\n",
       "    <tr>\n",
       "      <th>7021</th>\n",
       "      <td>7318</td>\n",
       "      <td>The version I saw of this film was the Blockbu...</td>\n",
       "      <td>movie</td>\n",
       "    </tr>\n",
       "    <tr>\n",
       "      <th>7022</th>\n",
       "      <td>7319</td>\n",
       "      <td>Piece of subtle art. Maybe a masterpiece. Doub...</td>\n",
       "      <td>movie</td>\n",
       "    </tr>\n",
       "  </tbody>\n",
       "</table>\n",
       "<p>7023 rows × 3 columns</p>\n",
       "</div>"
      ],
      "text/plain": [
       "      post_id                                               text     topic\n",
       "0           1  UK economy facing major risks\\n\\nThe UK manufa...  business\n",
       "1           2  Aids and climate top Davos agenda\\n\\nClimate c...  business\n",
       "2           3  Asian quake hits European shares\\n\\nShares in ...  business\n",
       "3           4  India power shares jump on debut\\n\\nShares in ...  business\n",
       "4           5  Lacroix label bought by US firm\\n\\nLuxury good...  business\n",
       "...       ...                                                ...       ...\n",
       "7018     7315  OK, I would not normally watch a Farrelly brot...     movie\n",
       "7019     7316  I give this movie 2 stars purely because of it...     movie\n",
       "7020     7317  I cant believe this film was allowed to be mad...     movie\n",
       "7021     7318  The version I saw of this film was the Blockbu...     movie\n",
       "7022     7319  Piece of subtle art. Maybe a masterpiece. Doub...     movie\n",
       "\n",
       "[7023 rows x 3 columns]"
      ]
     },
     "execution_count": 17,
     "metadata": {},
     "output_type": "execute_result"
    }
   ],
   "source": [
    "post_df"
   ]
  },
  {
   "cell_type": "code",
   "execution_count": 18,
   "id": "e1412a66-84f5-4cd7-8408-c136bcb55d93",
   "metadata": {},
   "outputs": [
    {
     "name": "stdout",
     "output_type": "stream",
     "text": [
      "<class 'pandas.core.frame.DataFrame'>\n",
      "RangeIndex: 7023 entries, 0 to 7022\n",
      "Data columns (total 3 columns):\n",
      " #   Column   Non-Null Count  Dtype \n",
      "---  ------   --------------  ----- \n",
      " 0   post_id  7023 non-null   int64 \n",
      " 1   text     7023 non-null   object\n",
      " 2   topic    7023 non-null   object\n",
      "dtypes: int64(1), object(2)\n",
      "memory usage: 9.8 MB\n"
     ]
    }
   ],
   "source": [
    "post_df.info(memory_usage='deep')"
   ]
  },
  {
   "cell_type": "code",
   "execution_count": 19,
   "id": "52a492c0-b510-4a1a-9cd7-f5ff25371fb5",
   "metadata": {},
   "outputs": [
    {
     "data": {
      "text/plain": [
       "7023"
      ]
     },
     "execution_count": 19,
     "metadata": {},
     "output_type": "execute_result"
    }
   ],
   "source": [
    "post_df.post_id.nunique()"
   ]
  },
  {
   "cell_type": "code",
   "execution_count": 20,
   "id": "cf6f92b6-5230-45bb-b42c-d0b1b3603199",
   "metadata": {},
   "outputs": [
    {
     "name": "stdout",
     "output_type": "stream",
     "text": [
      "['UK economy facing major risks\\n\\nThe UK manufacturing sector will continue to face serious challenges over the next two years, the British Chamber of Commerce (BCC) has said.\\n\\nThe groups quarterly survey of companies found exports had picked up in the last three months of 2004 to their best levels in eight years. The rise came despite exchange rates being cited as a major concern. However, the BCC found the whole UK economy still faced major risks and warned that growth is set to slow. It recently forecast economic growth will slow from more than 3% in 2004 to a little below 2.5% in both 2005 and 2006.\\n\\nManufacturers domestic sales growth fell back slightly in the quarter, the survey of 5,196 firms found. Employment in manufacturing also fell and job expectations were at their lowest level for a year.\\n\\nDespite some positive news for the export sector, there are worrying signs for manufacturing, the BCC said. These results reinforce our concern over the sectors persistent inability to sustain recovery. The outlook for the service sector was uncertain despite an increase in exports and orders over the quarter, the BCC noted.\\n\\nThe BCC found confidence increased in the quarter across both the manufacturing and service sectors although overall it failed to reach the levels at the start of 2004. The reduced threat of interest rate increases had contributed to improved confidence, it said. The Bank of England raised interest rates five times between November 2003 and August last year. But rates have been kept on hold since then amid signs of falling consumer confidence and a slowdown in output. The pressure on costs and margins, the relentless increase in regulations, and the threat of higher taxes remain serious problems, BCC director general David Frost said. While consumer spending is set to decelerate significantly over the next 12-18 months, it is unlikely that investment and exports will rise sufficiently strongly to pick up the slack.\\n'\n",
      " 'Aids and climate top Davos agenda\\n\\nClimate change and the fight against Aids are leading the list of concerns for the first day of the World Economic Forum in the Swiss resort of Davos.\\n\\nSome 2,000 business and political leaders from around the globe will listen to UK Prime Minister Tony Blairs opening speech on Wednesday. Mr Blair will focus on Africas development plans and global warming. Earlier in the day came an update on efforts to have 3 million people on anti-Aids drugs by the end of 2005. The World Health Organisation (WHO) said 700,000 people in poor countries were on life-extending drugs - up from 440,000 six months earlier but amounting to only 12% of the 5.8 million who needed them. A $2bn funding gap still stood in the way of hitting the 2005 target, the WHO said.\\n\\nThe themes to be stressed by Mr Blair - whose attendance was announced at the last minute - are those he wants to dominate the UKs chairmanship of the G8 group of industrialised states. Other issues to be discussed at the five-day conference range from Chinas\\n\\neconomic power to Iraqs future after this Sundays elections. Aside from Mr Blair, more than 20 other world leaders are expected to attend including French President Jacques Chirac - due to speak by video link after bad weather delayed his helicopter - and South African President Thabo Mbeki, whose arrival has been delayed by Ivory Coast peace talks. The Ukraines new president, Viktor Yushchenko, will also be there - as will newly elected Palestinian leader Mahmoud Abbas. Showbiz figures will also put in an appearance, from U2 frontman Bono - a well-known campaigner on trade and development issues - to Angelina Jolie, a goodwill campaigner for the UN on refugees.\\n\\nUnlike previous years, protests against the WEF are expected to be muted. Anti-globalisation campaigners have called off a demonstration planned for the weekend. At the same time, about 100,000 people are expected to converge on the Brazilian resort of Porto Alegre for the World Social Forum - the so-called anti-Davos for campaigners against globalisation, for fair trade, and many other causes.\\n\\nIn contrast, the Davos forum is dominated by business issues - from outsourcing to corporate leadership - with bosses of more than a fifth of the worlds 500 largest companies scheduled to attend. A survey published on the eve of the conference by PricewaterhouseCoopers said four in ten business leaders were very confident that their companies would see sales rise in 2005. Asian and American executives, however, were much more confident than their European counterparts. But the political discussions, focusing on Iran, Iraq and China, are likely to dominate media attention.\\n']\n"
     ]
    }
   ],
   "source": [
    "print(post_df.text[:2].values)"
   ]
  },
  {
   "cell_type": "code",
   "execution_count": 21,
   "id": "6460a5db-f971-453c-8010-5b4b234efac9",
   "metadata": {},
   "outputs": [
    {
     "name": "stdout",
     "output_type": "stream",
     "text": [
      "UK economy facing major risks\n",
      "\n",
      "The UK manufacturing sector will continue to face serious challenges over the next two years, the British Chamber of Commerce (BCC) has said.\n",
      "\n",
      "The groups quarterly survey of companies found exports had picked up in the last three months of 2004 to their best levels in eight years. The rise came despite exchange rates being cited as a major concern. However, the BCC found the whole UK economy still faced major risks and warned that growth is set to slow. It recently forecast economic growth will slow from more than 3% in 2004 to a little below 2.5% in both 2005 and 2006.\n",
      "\n",
      "Manufacturers domestic sales growth fell back slightly in the quarter, the survey of 5,196 firms found. Employment in manufacturing also fell and job expectations were at their lowest level for a year.\n",
      "\n",
      "Despite some positive news for the export sector, there are worrying signs for manufacturing, the BCC said. These results reinforce our concern over the sectors persistent inability to sustain recovery. The outlook for the service sector was uncertain despite an increase in exports and orders over the quarter, the BCC noted.\n",
      "\n",
      "The BCC found confidence increased in the quarter across both the manufacturing and service sectors although overall it failed to reach the levels at the start of 2004. The reduced threat of interest rate increases had contributed to improved confidence, it said. The Bank of England raised interest rates five times between November 2003 and August last year. But rates have been kept on hold since then amid signs of falling consumer confidence and a slowdown in output. The pressure on costs and margins, the relentless increase in regulations, and the threat of higher taxes remain serious problems, BCC director general David Frost said. While consumer spending is set to decelerate significantly over the next 12-18 months, it is unlikely that investment and exports will rise sufficiently strongly to pick up the slack.\n",
      "\n"
     ]
    }
   ],
   "source": [
    "print(post_df.text[:1].values[0], sep='\\n')"
   ]
  },
  {
   "cell_type": "code",
   "execution_count": 22,
   "id": "5de69162-c2aa-46ab-a7cb-e4927efe937b",
   "metadata": {},
   "outputs": [
    {
     "data": {
      "text/plain": [
       "movie            3000\n",
       "covid            1799\n",
       "business          510\n",
       "sport             510\n",
       "politics          417\n",
       "tech              401\n",
       "entertainment     386\n",
       "Name: topic, dtype: int64"
      ]
     },
     "execution_count": 22,
     "metadata": {},
     "output_type": "execute_result"
    }
   ],
   "source": [
    "post_df.topic.value_counts()"
   ]
  },
  {
   "cell_type": "markdown",
   "id": "20fd12ec-757f-4f2d-a83c-a3e0e2dce5e2",
   "metadata": {},
   "source": [
    "### POST_TEXT_PCA"
   ]
  },
  {
   "cell_type": "code",
   "execution_count": 23,
   "id": "8d1b26a4-f2cd-49dc-ab07-837fd0a85740",
   "metadata": {},
   "outputs": [],
   "source": [
    "post_df_pca = pd.read_sql('SELECT * FROM \"post_text\"', con=engine)"
   ]
  },
  {
   "cell_type": "code",
   "execution_count": 24,
   "id": "9f3b5d9b-3e6c-4818-b212-29472a88de84",
   "metadata": {},
   "outputs": [
    {
     "data": {
      "text/html": [
       "<div>\n",
       "<style scoped>\n",
       "    .dataframe tbody tr th:only-of-type {\n",
       "        vertical-align: middle;\n",
       "    }\n",
       "\n",
       "    .dataframe tbody tr th {\n",
       "        vertical-align: top;\n",
       "    }\n",
       "\n",
       "    .dataframe thead th {\n",
       "        text-align: right;\n",
       "    }\n",
       "</style>\n",
       "<table border=\"1\" class=\"dataframe\">\n",
       "  <thead>\n",
       "    <tr style=\"text-align: right;\">\n",
       "      <th></th>\n",
       "      <th>post_id</th>\n",
       "      <th>topic</th>\n",
       "      <th>PCA_1</th>\n",
       "      <th>PCA_2</th>\n",
       "      <th>PCA_3</th>\n",
       "      <th>PCA_4</th>\n",
       "      <th>PCA_5</th>\n",
       "    </tr>\n",
       "  </thead>\n",
       "  <tbody>\n",
       "    <tr>\n",
       "      <th>0</th>\n",
       "      <td>1</td>\n",
       "      <td>business</td>\n",
       "      <td>-0.098651</td>\n",
       "      <td>-0.312493</td>\n",
       "      <td>0.023472</td>\n",
       "      <td>-0.029465</td>\n",
       "      <td>-0.046990</td>\n",
       "    </tr>\n",
       "    <tr>\n",
       "      <th>1</th>\n",
       "      <td>2</td>\n",
       "      <td>business</td>\n",
       "      <td>-0.102748</td>\n",
       "      <td>-0.316642</td>\n",
       "      <td>0.021755</td>\n",
       "      <td>-0.045080</td>\n",
       "      <td>0.137338</td>\n",
       "    </tr>\n",
       "    <tr>\n",
       "      <th>2</th>\n",
       "      <td>3</td>\n",
       "      <td>business</td>\n",
       "      <td>-0.089932</td>\n",
       "      <td>-0.211479</td>\n",
       "      <td>0.010823</td>\n",
       "      <td>-0.033651</td>\n",
       "      <td>-0.037667</td>\n",
       "    </tr>\n",
       "    <tr>\n",
       "      <th>3</th>\n",
       "      <td>4</td>\n",
       "      <td>business</td>\n",
       "      <td>-0.075025</td>\n",
       "      <td>-0.231227</td>\n",
       "      <td>0.010022</td>\n",
       "      <td>-0.035137</td>\n",
       "      <td>0.000382</td>\n",
       "    </tr>\n",
       "    <tr>\n",
       "      <th>4</th>\n",
       "      <td>5</td>\n",
       "      <td>business</td>\n",
       "      <td>-0.086689</td>\n",
       "      <td>-0.252862</td>\n",
       "      <td>0.017764</td>\n",
       "      <td>-0.032102</td>\n",
       "      <td>0.054850</td>\n",
       "    </tr>\n",
       "    <tr>\n",
       "      <th>...</th>\n",
       "      <td>...</td>\n",
       "      <td>...</td>\n",
       "      <td>...</td>\n",
       "      <td>...</td>\n",
       "      <td>...</td>\n",
       "      <td>...</td>\n",
       "      <td>...</td>\n",
       "    </tr>\n",
       "    <tr>\n",
       "      <th>7018</th>\n",
       "      <td>7315</td>\n",
       "      <td>movie</td>\n",
       "      <td>-0.202135</td>\n",
       "      <td>0.246869</td>\n",
       "      <td>-0.003796</td>\n",
       "      <td>-0.270650</td>\n",
       "      <td>0.034498</td>\n",
       "    </tr>\n",
       "    <tr>\n",
       "      <th>7019</th>\n",
       "      <td>7316</td>\n",
       "      <td>movie</td>\n",
       "      <td>-0.212412</td>\n",
       "      <td>0.296487</td>\n",
       "      <td>-0.005319</td>\n",
       "      <td>-0.208802</td>\n",
       "      <td>0.099140</td>\n",
       "    </tr>\n",
       "    <tr>\n",
       "      <th>7020</th>\n",
       "      <td>7317</td>\n",
       "      <td>movie</td>\n",
       "      <td>-0.187134</td>\n",
       "      <td>0.195667</td>\n",
       "      <td>0.013325</td>\n",
       "      <td>0.380744</td>\n",
       "      <td>0.118247</td>\n",
       "    </tr>\n",
       "    <tr>\n",
       "      <th>7021</th>\n",
       "      <td>7318</td>\n",
       "      <td>movie</td>\n",
       "      <td>-0.143072</td>\n",
       "      <td>0.082273</td>\n",
       "      <td>0.005458</td>\n",
       "      <td>0.219139</td>\n",
       "      <td>0.029975</td>\n",
       "    </tr>\n",
       "    <tr>\n",
       "      <th>7022</th>\n",
       "      <td>7319</td>\n",
       "      <td>movie</td>\n",
       "      <td>-0.150531</td>\n",
       "      <td>0.121704</td>\n",
       "      <td>-0.000090</td>\n",
       "      <td>0.051992</td>\n",
       "      <td>0.014982</td>\n",
       "    </tr>\n",
       "  </tbody>\n",
       "</table>\n",
       "<p>7023 rows × 7 columns</p>\n",
       "</div>"
      ],
      "text/plain": [
       "      post_id     topic     PCA_1     PCA_2     PCA_3     PCA_4     PCA_5\n",
       "0           1  business -0.098651 -0.312493  0.023472 -0.029465 -0.046990\n",
       "1           2  business -0.102748 -0.316642  0.021755 -0.045080  0.137338\n",
       "2           3  business -0.089932 -0.211479  0.010823 -0.033651 -0.037667\n",
       "3           4  business -0.075025 -0.231227  0.010022 -0.035137  0.000382\n",
       "4           5  business -0.086689 -0.252862  0.017764 -0.032102  0.054850\n",
       "...       ...       ...       ...       ...       ...       ...       ...\n",
       "7018     7315     movie -0.202135  0.246869 -0.003796 -0.270650  0.034498\n",
       "7019     7316     movie -0.212412  0.296487 -0.005319 -0.208802  0.099140\n",
       "7020     7317     movie -0.187134  0.195667  0.013325  0.380744  0.118247\n",
       "7021     7318     movie -0.143072  0.082273  0.005458  0.219139  0.029975\n",
       "7022     7319     movie -0.150531  0.121704 -0.000090  0.051992  0.014982\n",
       "\n",
       "[7023 rows x 7 columns]"
      ]
     },
     "execution_count": 24,
     "metadata": {},
     "output_type": "execute_result"
    }
   ],
   "source": [
    "post_df_pca"
   ]
  },
  {
   "cell_type": "code",
   "execution_count": 25,
   "id": "c7330a8b-83d2-4c58-ae9e-37316adad75e",
   "metadata": {},
   "outputs": [
    {
     "data": {
      "text/plain": [
       "7023"
      ]
     },
     "execution_count": 25,
     "metadata": {},
     "output_type": "execute_result"
    }
   ],
   "source": [
    "post_df_pca.post_id.nunique()"
   ]
  },
  {
   "cell_type": "code",
   "execution_count": 26,
   "id": "1efd1f98-486b-4268-9592-ccb1d6cd7502",
   "metadata": {},
   "outputs": [
    {
     "name": "stdout",
     "output_type": "stream",
     "text": [
      "<class 'pandas.core.frame.DataFrame'>\n",
      "RangeIndex: 7023 entries, 0 to 7022\n",
      "Data columns (total 7 columns):\n",
      " #   Column   Non-Null Count  Dtype  \n",
      "---  ------   --------------  -----  \n",
      " 0   post_id  7023 non-null   int64  \n",
      " 1   topic    7023 non-null   object \n",
      " 2   PCA_1    7023 non-null   float64\n",
      " 3   PCA_2    7023 non-null   float64\n",
      " 4   PCA_3    7023 non-null   float64\n",
      " 5   PCA_4    7023 non-null   float64\n",
      " 6   PCA_5    7023 non-null   float64\n",
      "dtypes: float64(5), int64(1), object(1)\n",
      "memory usage: 759.9 KB\n"
     ]
    }
   ],
   "source": [
    "post_df_pca.info(memory_usage='deep')"
   ]
  },
  {
   "cell_type": "markdown",
   "id": "b1f7a029-8172-431f-ad8d-8e2c70379adb",
   "metadata": {},
   "source": [
    "### FEED_DATA"
   ]
  },
  {
   "cell_type": "code",
   "execution_count": 27,
   "id": "f10a895a-e53c-40eb-b211-efa50564d12b",
   "metadata": {},
   "outputs": [],
   "source": [
    "feed_data_size = pd.read_sql('SELECT COUNT(*) as table_size FROM \"feed_data\"', con=engine)"
   ]
  },
  {
   "cell_type": "code",
   "execution_count": 28,
   "id": "85a13008-ab61-4311-acad-0460c47a8673",
   "metadata": {},
   "outputs": [
    {
     "data": {
      "text/html": [
       "<div>\n",
       "<style scoped>\n",
       "    .dataframe tbody tr th:only-of-type {\n",
       "        vertical-align: middle;\n",
       "    }\n",
       "\n",
       "    .dataframe tbody tr th {\n",
       "        vertical-align: top;\n",
       "    }\n",
       "\n",
       "    .dataframe thead th {\n",
       "        text-align: right;\n",
       "    }\n",
       "</style>\n",
       "<table border=\"1\" class=\"dataframe\">\n",
       "  <thead>\n",
       "    <tr style=\"text-align: right;\">\n",
       "      <th></th>\n",
       "      <th>table_size</th>\n",
       "    </tr>\n",
       "  </thead>\n",
       "  <tbody>\n",
       "    <tr>\n",
       "      <th>0</th>\n",
       "      <td>76892800</td>\n",
       "    </tr>\n",
       "  </tbody>\n",
       "</table>\n",
       "</div>"
      ],
      "text/plain": [
       "   table_size\n",
       "0    76892800"
      ]
     },
     "execution_count": 28,
     "metadata": {},
     "output_type": "execute_result"
    }
   ],
   "source": [
    "feed_data_size"
   ]
  },
  {
   "cell_type": "code",
   "execution_count": 29,
   "id": "95443bad-9b5f-47e6-b865-6aee590c6b03",
   "metadata": {},
   "outputs": [],
   "source": [
    "dates_range_df = pd.read_sql('SELECT MIN(timestamp) AS min_date, MAX(timestamp) AS max_date FROM \"feed_data\"', con=engine)"
   ]
  },
  {
   "cell_type": "code",
   "execution_count": 30,
   "id": "73d2564d-97e9-44ab-b38e-715c78aeee0c",
   "metadata": {},
   "outputs": [
    {
     "data": {
      "text/html": [
       "<div>\n",
       "<style scoped>\n",
       "    .dataframe tbody tr th:only-of-type {\n",
       "        vertical-align: middle;\n",
       "    }\n",
       "\n",
       "    .dataframe tbody tr th {\n",
       "        vertical-align: top;\n",
       "    }\n",
       "\n",
       "    .dataframe thead th {\n",
       "        text-align: right;\n",
       "    }\n",
       "</style>\n",
       "<table border=\"1\" class=\"dataframe\">\n",
       "  <thead>\n",
       "    <tr style=\"text-align: right;\">\n",
       "      <th></th>\n",
       "      <th>min_date</th>\n",
       "      <th>max_date</th>\n",
       "    </tr>\n",
       "  </thead>\n",
       "  <tbody>\n",
       "    <tr>\n",
       "      <th>0</th>\n",
       "      <td>2021-10-01 06:01:40</td>\n",
       "      <td>2021-12-29 23:51:06</td>\n",
       "    </tr>\n",
       "  </tbody>\n",
       "</table>\n",
       "</div>"
      ],
      "text/plain": [
       "             min_date            max_date\n",
       "0 2021-10-01 06:01:40 2021-12-29 23:51:06"
      ]
     },
     "execution_count": 30,
     "metadata": {},
     "output_type": "execute_result"
    }
   ],
   "source": [
    "dates_range_df"
   ]
  },
  {
   "cell_type": "code",
   "execution_count": 31,
   "id": "41e15e67-5c03-4bd1-8093-630ade1b2ffd",
   "metadata": {},
   "outputs": [],
   "source": [
    "feed_df = pd.read_sql(\"SELECT * FROM feed_data WHERE action != 'like' LIMIT 50000\", con=engine)"
   ]
  },
  {
   "cell_type": "code",
   "execution_count": 32,
   "id": "2e0d1651-60ae-46d3-a5d1-296b20f90af0",
   "metadata": {},
   "outputs": [
    {
     "data": {
      "text/html": [
       "<div>\n",
       "<style scoped>\n",
       "    .dataframe tbody tr th:only-of-type {\n",
       "        vertical-align: middle;\n",
       "    }\n",
       "\n",
       "    .dataframe tbody tr th {\n",
       "        vertical-align: top;\n",
       "    }\n",
       "\n",
       "    .dataframe thead th {\n",
       "        text-align: right;\n",
       "    }\n",
       "</style>\n",
       "<table border=\"1\" class=\"dataframe\">\n",
       "  <thead>\n",
       "    <tr style=\"text-align: right;\">\n",
       "      <th></th>\n",
       "      <th>timestamp</th>\n",
       "      <th>user_id</th>\n",
       "      <th>post_id</th>\n",
       "      <th>action</th>\n",
       "      <th>target</th>\n",
       "    </tr>\n",
       "  </thead>\n",
       "  <tbody>\n",
       "    <tr>\n",
       "      <th>0</th>\n",
       "      <td>2021-11-07 15:45:45</td>\n",
       "      <td>166392</td>\n",
       "      <td>3143</td>\n",
       "      <td>view</td>\n",
       "      <td>0</td>\n",
       "    </tr>\n",
       "    <tr>\n",
       "      <th>1</th>\n",
       "      <td>2021-11-07 15:46:13</td>\n",
       "      <td>166392</td>\n",
       "      <td>7262</td>\n",
       "      <td>view</td>\n",
       "      <td>0</td>\n",
       "    </tr>\n",
       "    <tr>\n",
       "      <th>2</th>\n",
       "      <td>2021-11-07 15:48:55</td>\n",
       "      <td>166392</td>\n",
       "      <td>6910</td>\n",
       "      <td>view</td>\n",
       "      <td>0</td>\n",
       "    </tr>\n",
       "    <tr>\n",
       "      <th>3</th>\n",
       "      <td>2021-11-07 15:51:12</td>\n",
       "      <td>166392</td>\n",
       "      <td>1300</td>\n",
       "      <td>view</td>\n",
       "      <td>0</td>\n",
       "    </tr>\n",
       "    <tr>\n",
       "      <th>4</th>\n",
       "      <td>2021-11-08 16:42:58</td>\n",
       "      <td>166392</td>\n",
       "      <td>5361</td>\n",
       "      <td>view</td>\n",
       "      <td>0</td>\n",
       "    </tr>\n",
       "    <tr>\n",
       "      <th>...</th>\n",
       "      <td>...</td>\n",
       "      <td>...</td>\n",
       "      <td>...</td>\n",
       "      <td>...</td>\n",
       "      <td>...</td>\n",
       "    </tr>\n",
       "    <tr>\n",
       "      <th>49995</th>\n",
       "      <td>2021-12-02 20:34:45</td>\n",
       "      <td>19076</td>\n",
       "      <td>6564</td>\n",
       "      <td>view</td>\n",
       "      <td>1</td>\n",
       "    </tr>\n",
       "    <tr>\n",
       "      <th>49996</th>\n",
       "      <td>2021-12-02 20:37:17</td>\n",
       "      <td>19076</td>\n",
       "      <td>2996</td>\n",
       "      <td>view</td>\n",
       "      <td>0</td>\n",
       "    </tr>\n",
       "    <tr>\n",
       "      <th>49997</th>\n",
       "      <td>2021-12-02 20:39:33</td>\n",
       "      <td>19076</td>\n",
       "      <td>2348</td>\n",
       "      <td>view</td>\n",
       "      <td>0</td>\n",
       "    </tr>\n",
       "    <tr>\n",
       "      <th>49998</th>\n",
       "      <td>2021-12-02 20:39:43</td>\n",
       "      <td>19076</td>\n",
       "      <td>7319</td>\n",
       "      <td>view</td>\n",
       "      <td>0</td>\n",
       "    </tr>\n",
       "    <tr>\n",
       "      <th>49999</th>\n",
       "      <td>2021-12-02 20:41:33</td>\n",
       "      <td>19076</td>\n",
       "      <td>2103</td>\n",
       "      <td>view</td>\n",
       "      <td>0</td>\n",
       "    </tr>\n",
       "  </tbody>\n",
       "</table>\n",
       "<p>50000 rows × 5 columns</p>\n",
       "</div>"
      ],
      "text/plain": [
       "                timestamp  user_id  post_id action  target\n",
       "0     2021-11-07 15:45:45   166392     3143   view       0\n",
       "1     2021-11-07 15:46:13   166392     7262   view       0\n",
       "2     2021-11-07 15:48:55   166392     6910   view       0\n",
       "3     2021-11-07 15:51:12   166392     1300   view       0\n",
       "4     2021-11-08 16:42:58   166392     5361   view       0\n",
       "...                   ...      ...      ...    ...     ...\n",
       "49995 2021-12-02 20:34:45    19076     6564   view       1\n",
       "49996 2021-12-02 20:37:17    19076     2996   view       0\n",
       "49997 2021-12-02 20:39:33    19076     2348   view       0\n",
       "49998 2021-12-02 20:39:43    19076     7319   view       0\n",
       "49999 2021-12-02 20:41:33    19076     2103   view       0\n",
       "\n",
       "[50000 rows x 5 columns]"
      ]
     },
     "execution_count": 32,
     "metadata": {},
     "output_type": "execute_result"
    }
   ],
   "source": [
    "feed_df"
   ]
  },
  {
   "cell_type": "code",
   "execution_count": 33,
   "id": "3a4575a5-e8ff-438b-b0f9-f2af8430ff35",
   "metadata": {},
   "outputs": [
    {
     "data": {
      "text/plain": [
       "Timestamp('2021-10-01 08:29:10')"
      ]
     },
     "execution_count": 33,
     "metadata": {},
     "output_type": "execute_result"
    }
   ],
   "source": [
    "feed_df.timestamp.min()"
   ]
  },
  {
   "cell_type": "code",
   "execution_count": 34,
   "id": "a04ea4be-a234-440f-b076-0fa0c4b766ed",
   "metadata": {},
   "outputs": [
    {
     "data": {
      "text/plain": [
       "Timestamp('2021-12-29 23:34:17')"
      ]
     },
     "execution_count": 34,
     "metadata": {},
     "output_type": "execute_result"
    }
   ],
   "source": [
    "feed_df.timestamp.max()"
   ]
  },
  {
   "cell_type": "code",
   "execution_count": 35,
   "id": "9d913482-7f3a-4b05-ba79-2fda517af08a",
   "metadata": {},
   "outputs": [
    {
     "data": {
      "text/html": [
       "<div>\n",
       "<style scoped>\n",
       "    .dataframe tbody tr th:only-of-type {\n",
       "        vertical-align: middle;\n",
       "    }\n",
       "\n",
       "    .dataframe tbody tr th {\n",
       "        vertical-align: top;\n",
       "    }\n",
       "\n",
       "    .dataframe thead th {\n",
       "        text-align: right;\n",
       "    }\n",
       "</style>\n",
       "<table border=\"1\" class=\"dataframe\">\n",
       "  <thead>\n",
       "    <tr style=\"text-align: right;\">\n",
       "      <th></th>\n",
       "      <th>timestamp</th>\n",
       "      <th>user_id</th>\n",
       "      <th>post_id</th>\n",
       "      <th>action</th>\n",
       "      <th>target</th>\n",
       "    </tr>\n",
       "  </thead>\n",
       "  <tbody>\n",
       "    <tr>\n",
       "      <th>30</th>\n",
       "      <td>2021-11-08 17:21:54</td>\n",
       "      <td>166392</td>\n",
       "      <td>2811</td>\n",
       "      <td>view</td>\n",
       "      <td>0</td>\n",
       "    </tr>\n",
       "    <tr>\n",
       "      <th>31</th>\n",
       "      <td>2021-11-08 17:24:30</td>\n",
       "      <td>166392</td>\n",
       "      <td>2361</td>\n",
       "      <td>view</td>\n",
       "      <td>0</td>\n",
       "    </tr>\n",
       "    <tr>\n",
       "      <th>32</th>\n",
       "      <td>2021-11-08 17:27:25</td>\n",
       "      <td>166392</td>\n",
       "      <td>1218</td>\n",
       "      <td>view</td>\n",
       "      <td>0</td>\n",
       "    </tr>\n",
       "    <tr>\n",
       "      <th>33</th>\n",
       "      <td>2021-11-08 17:30:15</td>\n",
       "      <td>166392</td>\n",
       "      <td>1666</td>\n",
       "      <td>view</td>\n",
       "      <td>0</td>\n",
       "    </tr>\n",
       "    <tr>\n",
       "      <th>34</th>\n",
       "      <td>2021-11-08 17:32:15</td>\n",
       "      <td>166392</td>\n",
       "      <td>1473</td>\n",
       "      <td>view</td>\n",
       "      <td>0</td>\n",
       "    </tr>\n",
       "    <tr>\n",
       "      <th>35</th>\n",
       "      <td>2021-11-08 17:34:50</td>\n",
       "      <td>166392</td>\n",
       "      <td>1017</td>\n",
       "      <td>view</td>\n",
       "      <td>0</td>\n",
       "    </tr>\n",
       "    <tr>\n",
       "      <th>36</th>\n",
       "      <td>2021-11-08 17:35:52</td>\n",
       "      <td>166392</td>\n",
       "      <td>1536</td>\n",
       "      <td>view</td>\n",
       "      <td>0</td>\n",
       "    </tr>\n",
       "    <tr>\n",
       "      <th>37</th>\n",
       "      <td>2021-11-08 17:37:48</td>\n",
       "      <td>166392</td>\n",
       "      <td>5648</td>\n",
       "      <td>view</td>\n",
       "      <td>0</td>\n",
       "    </tr>\n",
       "    <tr>\n",
       "      <th>38</th>\n",
       "      <td>2021-11-08 17:39:16</td>\n",
       "      <td>166392</td>\n",
       "      <td>6535</td>\n",
       "      <td>view</td>\n",
       "      <td>0</td>\n",
       "    </tr>\n",
       "    <tr>\n",
       "      <th>39</th>\n",
       "      <td>2021-11-11 06:29:01</td>\n",
       "      <td>166392</td>\n",
       "      <td>3439</td>\n",
       "      <td>view</td>\n",
       "      <td>0</td>\n",
       "    </tr>\n",
       "  </tbody>\n",
       "</table>\n",
       "</div>"
      ],
      "text/plain": [
       "             timestamp  user_id  post_id action  target\n",
       "30 2021-11-08 17:21:54   166392     2811   view       0\n",
       "31 2021-11-08 17:24:30   166392     2361   view       0\n",
       "32 2021-11-08 17:27:25   166392     1218   view       0\n",
       "33 2021-11-08 17:30:15   166392     1666   view       0\n",
       "34 2021-11-08 17:32:15   166392     1473   view       0\n",
       "35 2021-11-08 17:34:50   166392     1017   view       0\n",
       "36 2021-11-08 17:35:52   166392     1536   view       0\n",
       "37 2021-11-08 17:37:48   166392     5648   view       0\n",
       "38 2021-11-08 17:39:16   166392     6535   view       0\n",
       "39 2021-11-11 06:29:01   166392     3439   view       0"
      ]
     },
     "execution_count": 35,
     "metadata": {},
     "output_type": "execute_result"
    }
   ],
   "source": [
    "feed_df.iloc[30:40]"
   ]
  },
  {
   "cell_type": "code",
   "execution_count": 36,
   "id": "36243fb8-80cc-43c7-a62b-a23b300085d7",
   "metadata": {},
   "outputs": [
    {
     "data": {
      "text/plain": [
       "49801"
      ]
     },
     "execution_count": 36,
     "metadata": {},
     "output_type": "execute_result"
    }
   ],
   "source": [
    "feed_df.timestamp.nunique()"
   ]
  },
  {
   "cell_type": "code",
   "execution_count": 37,
   "id": "4d544ec7-4b69-4c26-bedd-ce5c1e599847",
   "metadata": {},
   "outputs": [
    {
     "data": {
      "text/plain": [
       "121"
      ]
     },
     "execution_count": 37,
     "metadata": {},
     "output_type": "execute_result"
    }
   ],
   "source": [
    "feed_df.user_id.nunique()"
   ]
  },
  {
   "cell_type": "code",
   "execution_count": 38,
   "id": "baabcfbc-09aa-41bf-8367-6d9aeaab0a63",
   "metadata": {},
   "outputs": [
    {
     "data": {
      "text/plain": [
       "6804"
      ]
     },
     "execution_count": 38,
     "metadata": {},
     "output_type": "execute_result"
    }
   ],
   "source": [
    "feed_df.post_id.nunique()"
   ]
  },
  {
   "cell_type": "code",
   "execution_count": 39,
   "id": "4d097e63-ac10-492f-b7f9-bc1dd1e4e0c4",
   "metadata": {},
   "outputs": [
    {
     "name": "stdout",
     "output_type": "stream",
     "text": [
      "<class 'pandas.core.frame.DataFrame'>\n",
      "RangeIndex: 50000 entries, 0 to 49999\n",
      "Data columns (total 5 columns):\n",
      " #   Column     Non-Null Count  Dtype         \n",
      "---  ------     --------------  -----         \n",
      " 0   timestamp  50000 non-null  datetime64[ns]\n",
      " 1   user_id    50000 non-null  int64         \n",
      " 2   post_id    50000 non-null  int64         \n",
      " 3   action     50000 non-null  object        \n",
      " 4   target     50000 non-null  int64         \n",
      "dtypes: datetime64[ns](1), int64(3), object(1)\n",
      "memory usage: 4.4 MB\n"
     ]
    }
   ],
   "source": [
    "feed_df.info(memory_usage='deep')"
   ]
  },
  {
   "cell_type": "code",
   "execution_count": 40,
   "id": "39e2c0dd-96d7-477b-9247-37516f13d396",
   "metadata": {},
   "outputs": [
    {
     "data": {
      "text/plain": [
       "timestamp    0\n",
       "user_id      0\n",
       "post_id      0\n",
       "action       0\n",
       "target       0\n",
       "dtype: int64"
      ]
     },
     "execution_count": 40,
     "metadata": {},
     "output_type": "execute_result"
    }
   ],
   "source": [
    "feed_df.isna().sum()"
   ]
  },
  {
   "cell_type": "code",
   "execution_count": 41,
   "id": "7fb282db-32d9-4a8f-9272-9872b5a09b69",
   "metadata": {},
   "outputs": [
    {
     "data": {
      "text/plain": [
       "view    50000\n",
       "Name: action, dtype: int64"
      ]
     },
     "execution_count": 41,
     "metadata": {},
     "output_type": "execute_result"
    }
   ],
   "source": [
    "feed_df.action.value_counts()"
   ]
  },
  {
   "cell_type": "code",
   "execution_count": 42,
   "id": "d7f46a03-c5fb-487b-9951-577d324a6680",
   "metadata": {},
   "outputs": [
    {
     "data": {
      "text/plain": [
       "0    44181\n",
       "1     5819\n",
       "Name: target, dtype: int64"
      ]
     },
     "execution_count": 42,
     "metadata": {},
     "output_type": "execute_result"
    }
   ],
   "source": [
    "feed_df.target.value_counts()"
   ]
  },
  {
   "cell_type": "markdown",
   "id": "21d8c4df-8c91-4781-a10f-20fe4c4a5744",
   "metadata": {},
   "source": [
    "## 2. Создание признаков и формирование обучающей выборки"
   ]
  },
  {
   "cell_type": "markdown",
   "id": "e2c46cc0-eec1-45d9-96bc-33a35b884a70",
   "metadata": {},
   "source": [
    "На этом этапе мы создаем новые признаки, которые могут быть полезны для модели. Признаки могут включать информацию о пользователе (например, возраст, пол, история взаимодействий), информацию о постах (тексты, темы, категории), а также дополнительные статистики, такие как частота лайков или вовлеченность пользователя. После генерации признаков формируется обучающая выборка, которая содержит все необходимые данные для последующего обучения модели."
   ]
  },
  {
   "cell_type": "code",
   "execution_count": 43,
   "id": "50893c30-c401-4247-9277-ce01c482fa78",
   "metadata": {},
   "outputs": [
    {
     "data": {
      "text/html": [
       "<div>\n",
       "<style scoped>\n",
       "    .dataframe tbody tr th:only-of-type {\n",
       "        vertical-align: middle;\n",
       "    }\n",
       "\n",
       "    .dataframe tbody tr th {\n",
       "        vertical-align: top;\n",
       "    }\n",
       "\n",
       "    .dataframe thead th {\n",
       "        text-align: right;\n",
       "    }\n",
       "</style>\n",
       "<table border=\"1\" class=\"dataframe\">\n",
       "  <thead>\n",
       "    <tr style=\"text-align: right;\">\n",
       "      <th></th>\n",
       "      <th>user_id</th>\n",
       "      <th>gender</th>\n",
       "      <th>age</th>\n",
       "      <th>country</th>\n",
       "      <th>city</th>\n",
       "      <th>exp_group</th>\n",
       "      <th>os</th>\n",
       "      <th>source</th>\n",
       "    </tr>\n",
       "  </thead>\n",
       "  <tbody>\n",
       "    <tr>\n",
       "      <th>0</th>\n",
       "      <td>200</td>\n",
       "      <td>1</td>\n",
       "      <td>34</td>\n",
       "      <td>Russia</td>\n",
       "      <td>Degtyarsk</td>\n",
       "      <td>3</td>\n",
       "      <td>Android</td>\n",
       "      <td>ads</td>\n",
       "    </tr>\n",
       "    <tr>\n",
       "      <th>1</th>\n",
       "      <td>201</td>\n",
       "      <td>0</td>\n",
       "      <td>37</td>\n",
       "      <td>Russia</td>\n",
       "      <td>Abakan</td>\n",
       "      <td>0</td>\n",
       "      <td>Android</td>\n",
       "      <td>ads</td>\n",
       "    </tr>\n",
       "    <tr>\n",
       "      <th>2</th>\n",
       "      <td>202</td>\n",
       "      <td>1</td>\n",
       "      <td>17</td>\n",
       "      <td>Russia</td>\n",
       "      <td>Smolensk</td>\n",
       "      <td>4</td>\n",
       "      <td>Android</td>\n",
       "      <td>ads</td>\n",
       "    </tr>\n",
       "  </tbody>\n",
       "</table>\n",
       "</div>"
      ],
      "text/plain": [
       "   user_id  gender  age country       city  exp_group       os source\n",
       "0      200       1   34  Russia  Degtyarsk          3  Android    ads\n",
       "1      201       0   37  Russia     Abakan          0  Android    ads\n",
       "2      202       1   17  Russia   Smolensk          4  Android    ads"
      ]
     },
     "execution_count": 43,
     "metadata": {},
     "output_type": "execute_result"
    }
   ],
   "source": [
    "user_df.head(3)"
   ]
  },
  {
   "cell_type": "code",
   "execution_count": 44,
   "id": "9dfc2145-dc5a-4287-bf73-e9e2e7fb7693",
   "metadata": {},
   "outputs": [
    {
     "data": {
      "text/html": [
       "<div>\n",
       "<style scoped>\n",
       "    .dataframe tbody tr th:only-of-type {\n",
       "        vertical-align: middle;\n",
       "    }\n",
       "\n",
       "    .dataframe tbody tr th {\n",
       "        vertical-align: top;\n",
       "    }\n",
       "\n",
       "    .dataframe thead th {\n",
       "        text-align: right;\n",
       "    }\n",
       "</style>\n",
       "<table border=\"1\" class=\"dataframe\">\n",
       "  <thead>\n",
       "    <tr style=\"text-align: right;\">\n",
       "      <th></th>\n",
       "      <th>post_id</th>\n",
       "      <th>text</th>\n",
       "      <th>topic</th>\n",
       "    </tr>\n",
       "  </thead>\n",
       "  <tbody>\n",
       "    <tr>\n",
       "      <th>0</th>\n",
       "      <td>1</td>\n",
       "      <td>UK economy facing major risks\\n\\nThe UK manufa...</td>\n",
       "      <td>business</td>\n",
       "    </tr>\n",
       "    <tr>\n",
       "      <th>1</th>\n",
       "      <td>2</td>\n",
       "      <td>Aids and climate top Davos agenda\\n\\nClimate c...</td>\n",
       "      <td>business</td>\n",
       "    </tr>\n",
       "    <tr>\n",
       "      <th>2</th>\n",
       "      <td>3</td>\n",
       "      <td>Asian quake hits European shares\\n\\nShares in ...</td>\n",
       "      <td>business</td>\n",
       "    </tr>\n",
       "  </tbody>\n",
       "</table>\n",
       "</div>"
      ],
      "text/plain": [
       "   post_id                                               text     topic\n",
       "0        1  UK economy facing major risks\\n\\nThe UK manufa...  business\n",
       "1        2  Aids and climate top Davos agenda\\n\\nClimate c...  business\n",
       "2        3  Asian quake hits European shares\\n\\nShares in ...  business"
      ]
     },
     "execution_count": 44,
     "metadata": {},
     "output_type": "execute_result"
    }
   ],
   "source": [
    "post_df.head(3)"
   ]
  },
  {
   "cell_type": "code",
   "execution_count": 45,
   "id": "0b513630-bd26-41b3-9b14-6a6fa8e465da",
   "metadata": {},
   "outputs": [
    {
     "data": {
      "text/html": [
       "<div>\n",
       "<style scoped>\n",
       "    .dataframe tbody tr th:only-of-type {\n",
       "        vertical-align: middle;\n",
       "    }\n",
       "\n",
       "    .dataframe tbody tr th {\n",
       "        vertical-align: top;\n",
       "    }\n",
       "\n",
       "    .dataframe thead th {\n",
       "        text-align: right;\n",
       "    }\n",
       "</style>\n",
       "<table border=\"1\" class=\"dataframe\">\n",
       "  <thead>\n",
       "    <tr style=\"text-align: right;\">\n",
       "      <th></th>\n",
       "      <th>post_id</th>\n",
       "      <th>topic</th>\n",
       "      <th>PCA_1</th>\n",
       "      <th>PCA_2</th>\n",
       "      <th>PCA_3</th>\n",
       "      <th>PCA_4</th>\n",
       "      <th>PCA_5</th>\n",
       "    </tr>\n",
       "  </thead>\n",
       "  <tbody>\n",
       "    <tr>\n",
       "      <th>0</th>\n",
       "      <td>1</td>\n",
       "      <td>business</td>\n",
       "      <td>-0.098651</td>\n",
       "      <td>-0.312493</td>\n",
       "      <td>0.023472</td>\n",
       "      <td>-0.029465</td>\n",
       "      <td>-0.046990</td>\n",
       "    </tr>\n",
       "    <tr>\n",
       "      <th>1</th>\n",
       "      <td>2</td>\n",
       "      <td>business</td>\n",
       "      <td>-0.102748</td>\n",
       "      <td>-0.316642</td>\n",
       "      <td>0.021755</td>\n",
       "      <td>-0.045080</td>\n",
       "      <td>0.137338</td>\n",
       "    </tr>\n",
       "    <tr>\n",
       "      <th>2</th>\n",
       "      <td>3</td>\n",
       "      <td>business</td>\n",
       "      <td>-0.089932</td>\n",
       "      <td>-0.211479</td>\n",
       "      <td>0.010823</td>\n",
       "      <td>-0.033651</td>\n",
       "      <td>-0.037667</td>\n",
       "    </tr>\n",
       "  </tbody>\n",
       "</table>\n",
       "</div>"
      ],
      "text/plain": [
       "   post_id     topic     PCA_1     PCA_2     PCA_3     PCA_4     PCA_5\n",
       "0        1  business -0.098651 -0.312493  0.023472 -0.029465 -0.046990\n",
       "1        2  business -0.102748 -0.316642  0.021755 -0.045080  0.137338\n",
       "2        3  business -0.089932 -0.211479  0.010823 -0.033651 -0.037667"
      ]
     },
     "execution_count": 45,
     "metadata": {},
     "output_type": "execute_result"
    }
   ],
   "source": [
    "post_df_pca.head(3)"
   ]
  },
  {
   "cell_type": "code",
   "execution_count": 46,
   "id": "19a50bb2-6b88-4536-8be0-51255cde8c62",
   "metadata": {},
   "outputs": [
    {
     "data": {
      "text/html": [
       "<div>\n",
       "<style scoped>\n",
       "    .dataframe tbody tr th:only-of-type {\n",
       "        vertical-align: middle;\n",
       "    }\n",
       "\n",
       "    .dataframe tbody tr th {\n",
       "        vertical-align: top;\n",
       "    }\n",
       "\n",
       "    .dataframe thead th {\n",
       "        text-align: right;\n",
       "    }\n",
       "</style>\n",
       "<table border=\"1\" class=\"dataframe\">\n",
       "  <thead>\n",
       "    <tr style=\"text-align: right;\">\n",
       "      <th></th>\n",
       "      <th>timestamp</th>\n",
       "      <th>user_id</th>\n",
       "      <th>post_id</th>\n",
       "      <th>action</th>\n",
       "      <th>target</th>\n",
       "    </tr>\n",
       "  </thead>\n",
       "  <tbody>\n",
       "    <tr>\n",
       "      <th>0</th>\n",
       "      <td>2021-11-07 15:45:45</td>\n",
       "      <td>166392</td>\n",
       "      <td>3143</td>\n",
       "      <td>view</td>\n",
       "      <td>0</td>\n",
       "    </tr>\n",
       "    <tr>\n",
       "      <th>1</th>\n",
       "      <td>2021-11-07 15:46:13</td>\n",
       "      <td>166392</td>\n",
       "      <td>7262</td>\n",
       "      <td>view</td>\n",
       "      <td>0</td>\n",
       "    </tr>\n",
       "    <tr>\n",
       "      <th>2</th>\n",
       "      <td>2021-11-07 15:48:55</td>\n",
       "      <td>166392</td>\n",
       "      <td>6910</td>\n",
       "      <td>view</td>\n",
       "      <td>0</td>\n",
       "    </tr>\n",
       "  </tbody>\n",
       "</table>\n",
       "</div>"
      ],
      "text/plain": [
       "            timestamp  user_id  post_id action  target\n",
       "0 2021-11-07 15:45:45   166392     3143   view       0\n",
       "1 2021-11-07 15:46:13   166392     7262   view       0\n",
       "2 2021-11-07 15:48:55   166392     6910   view       0"
      ]
     },
     "execution_count": 46,
     "metadata": {},
     "output_type": "execute_result"
    }
   ],
   "source": [
    "feed_df.head(3)"
   ]
  },
  {
   "cell_type": "code",
   "execution_count": 47,
   "id": "c6cac62c-dc4e-4ea9-8e5e-00e6e476c315",
   "metadata": {},
   "outputs": [],
   "source": [
    "feed_df.drop('action', axis=1, inplace=True)"
   ]
  },
  {
   "cell_type": "code",
   "execution_count": 48,
   "id": "8b5fa2f3-64ae-4581-bd23-19d79c18e780",
   "metadata": {},
   "outputs": [
    {
     "data": {
      "text/html": [
       "<div>\n",
       "<style scoped>\n",
       "    .dataframe tbody tr th:only-of-type {\n",
       "        vertical-align: middle;\n",
       "    }\n",
       "\n",
       "    .dataframe tbody tr th {\n",
       "        vertical-align: top;\n",
       "    }\n",
       "\n",
       "    .dataframe thead th {\n",
       "        text-align: right;\n",
       "    }\n",
       "</style>\n",
       "<table border=\"1\" class=\"dataframe\">\n",
       "  <thead>\n",
       "    <tr style=\"text-align: right;\">\n",
       "      <th></th>\n",
       "      <th>timestamp</th>\n",
       "      <th>user_id</th>\n",
       "      <th>post_id</th>\n",
       "      <th>target</th>\n",
       "    </tr>\n",
       "  </thead>\n",
       "  <tbody>\n",
       "    <tr>\n",
       "      <th>0</th>\n",
       "      <td>2021-11-07 15:45:45</td>\n",
       "      <td>166392</td>\n",
       "      <td>3143</td>\n",
       "      <td>0</td>\n",
       "    </tr>\n",
       "    <tr>\n",
       "      <th>1</th>\n",
       "      <td>2021-11-07 15:46:13</td>\n",
       "      <td>166392</td>\n",
       "      <td>7262</td>\n",
       "      <td>0</td>\n",
       "    </tr>\n",
       "    <tr>\n",
       "      <th>2</th>\n",
       "      <td>2021-11-07 15:48:55</td>\n",
       "      <td>166392</td>\n",
       "      <td>6910</td>\n",
       "      <td>0</td>\n",
       "    </tr>\n",
       "  </tbody>\n",
       "</table>\n",
       "</div>"
      ],
      "text/plain": [
       "            timestamp  user_id  post_id  target\n",
       "0 2021-11-07 15:45:45   166392     3143       0\n",
       "1 2021-11-07 15:46:13   166392     7262       0\n",
       "2 2021-11-07 15:48:55   166392     6910       0"
      ]
     },
     "execution_count": 48,
     "metadata": {},
     "output_type": "execute_result"
    }
   ],
   "source": [
    "feed_df.head(3)"
   ]
  },
  {
   "cell_type": "code",
   "execution_count": 49,
   "id": "0c72a51d-8046-423f-817b-43d0867eddd4",
   "metadata": {},
   "outputs": [
    {
     "data": {
      "text/html": [
       "<div>\n",
       "<style scoped>\n",
       "    .dataframe tbody tr th:only-of-type {\n",
       "        vertical-align: middle;\n",
       "    }\n",
       "\n",
       "    .dataframe tbody tr th {\n",
       "        vertical-align: top;\n",
       "    }\n",
       "\n",
       "    .dataframe thead th {\n",
       "        text-align: right;\n",
       "    }\n",
       "</style>\n",
       "<table border=\"1\" class=\"dataframe\">\n",
       "  <thead>\n",
       "    <tr style=\"text-align: right;\">\n",
       "      <th></th>\n",
       "      <th>user_id</th>\n",
       "      <th>post_id</th>\n",
       "      <th>target</th>\n",
       "    </tr>\n",
       "  </thead>\n",
       "  <tbody>\n",
       "    <tr>\n",
       "      <th>0</th>\n",
       "      <td>166392</td>\n",
       "      <td>3143</td>\n",
       "      <td>0</td>\n",
       "    </tr>\n",
       "    <tr>\n",
       "      <th>1</th>\n",
       "      <td>166392</td>\n",
       "      <td>7262</td>\n",
       "      <td>0</td>\n",
       "    </tr>\n",
       "    <tr>\n",
       "      <th>2</th>\n",
       "      <td>166392</td>\n",
       "      <td>6910</td>\n",
       "      <td>0</td>\n",
       "    </tr>\n",
       "  </tbody>\n",
       "</table>\n",
       "</div>"
      ],
      "text/plain": [
       "   user_id  post_id  target\n",
       "0   166392     3143       0\n",
       "1   166392     7262       0\n",
       "2   166392     6910       0"
      ]
     },
     "execution_count": 49,
     "metadata": {},
     "output_type": "execute_result"
    }
   ],
   "source": [
    "feed_df.drop('timestamp', axis=1, inplace=True)\n",
    "feed_df.head(3)"
   ]
  },
  {
   "cell_type": "code",
   "execution_count": 50,
   "id": "61500322-d0d3-4cc2-a329-603050fc2d50",
   "metadata": {},
   "outputs": [],
   "source": [
    "df = feed_df.merge(user_df, on='user_id', how='inner')"
   ]
  },
  {
   "cell_type": "code",
   "execution_count": 51,
   "id": "bc9872a2-85ec-453e-bb46-3d46c8c7eaac",
   "metadata": {},
   "outputs": [],
   "source": [
    "df = df.merge(post_df_pca, on='post_id', how='inner')"
   ]
  },
  {
   "cell_type": "code",
   "execution_count": 52,
   "id": "de7caf45-e481-4d17-8cf5-ec6770848349",
   "metadata": {},
   "outputs": [
    {
     "data": {
      "text/html": [
       "<div>\n",
       "<style scoped>\n",
       "    .dataframe tbody tr th:only-of-type {\n",
       "        vertical-align: middle;\n",
       "    }\n",
       "\n",
       "    .dataframe tbody tr th {\n",
       "        vertical-align: top;\n",
       "    }\n",
       "\n",
       "    .dataframe thead th {\n",
       "        text-align: right;\n",
       "    }\n",
       "</style>\n",
       "<table border=\"1\" class=\"dataframe\">\n",
       "  <thead>\n",
       "    <tr style=\"text-align: right;\">\n",
       "      <th></th>\n",
       "      <th>user_id</th>\n",
       "      <th>post_id</th>\n",
       "      <th>target</th>\n",
       "      <th>gender</th>\n",
       "      <th>age</th>\n",
       "      <th>country</th>\n",
       "      <th>city</th>\n",
       "      <th>exp_group</th>\n",
       "      <th>os</th>\n",
       "      <th>source</th>\n",
       "      <th>topic</th>\n",
       "      <th>PCA_1</th>\n",
       "      <th>PCA_2</th>\n",
       "      <th>PCA_3</th>\n",
       "      <th>PCA_4</th>\n",
       "      <th>PCA_5</th>\n",
       "    </tr>\n",
       "  </thead>\n",
       "  <tbody>\n",
       "    <tr>\n",
       "      <th>0</th>\n",
       "      <td>166392</td>\n",
       "      <td>3143</td>\n",
       "      <td>0</td>\n",
       "      <td>0</td>\n",
       "      <td>37</td>\n",
       "      <td>Russia</td>\n",
       "      <td>Dalnegorsk</td>\n",
       "      <td>0</td>\n",
       "      <td>iOS</td>\n",
       "      <td>organic</td>\n",
       "      <td>covid</td>\n",
       "      <td>0.162218</td>\n",
       "      <td>-0.037555</td>\n",
       "      <td>-0.190986</td>\n",
       "      <td>0.006264</td>\n",
       "      <td>-0.023738</td>\n",
       "    </tr>\n",
       "    <tr>\n",
       "      <th>1</th>\n",
       "      <td>161194</td>\n",
       "      <td>3143</td>\n",
       "      <td>0</td>\n",
       "      <td>1</td>\n",
       "      <td>39</td>\n",
       "      <td>Russia</td>\n",
       "      <td>Kolomna</td>\n",
       "      <td>2</td>\n",
       "      <td>iOS</td>\n",
       "      <td>organic</td>\n",
       "      <td>covid</td>\n",
       "      <td>0.162218</td>\n",
       "      <td>-0.037555</td>\n",
       "      <td>-0.190986</td>\n",
       "      <td>0.006264</td>\n",
       "      <td>-0.023738</td>\n",
       "    </tr>\n",
       "    <tr>\n",
       "      <th>2</th>\n",
       "      <td>25140</td>\n",
       "      <td>3143</td>\n",
       "      <td>1</td>\n",
       "      <td>0</td>\n",
       "      <td>19</td>\n",
       "      <td>Russia</td>\n",
       "      <td>Arkhangelsk</td>\n",
       "      <td>3</td>\n",
       "      <td>Android</td>\n",
       "      <td>ads</td>\n",
       "      <td>covid</td>\n",
       "      <td>0.162218</td>\n",
       "      <td>-0.037555</td>\n",
       "      <td>-0.190986</td>\n",
       "      <td>0.006264</td>\n",
       "      <td>-0.023738</td>\n",
       "    </tr>\n",
       "    <tr>\n",
       "      <th>3</th>\n",
       "      <td>98002</td>\n",
       "      <td>3143</td>\n",
       "      <td>0</td>\n",
       "      <td>0</td>\n",
       "      <td>16</td>\n",
       "      <td>Russia</td>\n",
       "      <td>Ufa</td>\n",
       "      <td>2</td>\n",
       "      <td>Android</td>\n",
       "      <td>ads</td>\n",
       "      <td>covid</td>\n",
       "      <td>0.162218</td>\n",
       "      <td>-0.037555</td>\n",
       "      <td>-0.190986</td>\n",
       "      <td>0.006264</td>\n",
       "      <td>-0.023738</td>\n",
       "    </tr>\n",
       "    <tr>\n",
       "      <th>4</th>\n",
       "      <td>25146</td>\n",
       "      <td>3143</td>\n",
       "      <td>1</td>\n",
       "      <td>1</td>\n",
       "      <td>21</td>\n",
       "      <td>Russia</td>\n",
       "      <td>Pervouralsk</td>\n",
       "      <td>0</td>\n",
       "      <td>iOS</td>\n",
       "      <td>ads</td>\n",
       "      <td>covid</td>\n",
       "      <td>0.162218</td>\n",
       "      <td>-0.037555</td>\n",
       "      <td>-0.190986</td>\n",
       "      <td>0.006264</td>\n",
       "      <td>-0.023738</td>\n",
       "    </tr>\n",
       "    <tr>\n",
       "      <th>...</th>\n",
       "      <td>...</td>\n",
       "      <td>...</td>\n",
       "      <td>...</td>\n",
       "      <td>...</td>\n",
       "      <td>...</td>\n",
       "      <td>...</td>\n",
       "      <td>...</td>\n",
       "      <td>...</td>\n",
       "      <td>...</td>\n",
       "      <td>...</td>\n",
       "      <td>...</td>\n",
       "      <td>...</td>\n",
       "      <td>...</td>\n",
       "      <td>...</td>\n",
       "      <td>...</td>\n",
       "      <td>...</td>\n",
       "    </tr>\n",
       "    <tr>\n",
       "      <th>49995</th>\n",
       "      <td>104791</td>\n",
       "      <td>5520</td>\n",
       "      <td>0</td>\n",
       "      <td>1</td>\n",
       "      <td>22</td>\n",
       "      <td>Russia</td>\n",
       "      <td>Khimki</td>\n",
       "      <td>0</td>\n",
       "      <td>Android</td>\n",
       "      <td>ads</td>\n",
       "      <td>movie</td>\n",
       "      <td>-0.200635</td>\n",
       "      <td>0.192757</td>\n",
       "      <td>0.025276</td>\n",
       "      <td>0.479970</td>\n",
       "      <td>0.192028</td>\n",
       "    </tr>\n",
       "    <tr>\n",
       "      <th>49996</th>\n",
       "      <td>76847</td>\n",
       "      <td>2120</td>\n",
       "      <td>0</td>\n",
       "      <td>1</td>\n",
       "      <td>17</td>\n",
       "      <td>Russia</td>\n",
       "      <td>Moscow</td>\n",
       "      <td>0</td>\n",
       "      <td>iOS</td>\n",
       "      <td>ads</td>\n",
       "      <td>tech</td>\n",
       "      <td>-0.083643</td>\n",
       "      <td>-0.178304</td>\n",
       "      <td>0.007053</td>\n",
       "      <td>-0.017202</td>\n",
       "      <td>-0.107591</td>\n",
       "    </tr>\n",
       "    <tr>\n",
       "      <th>49997</th>\n",
       "      <td>19076</td>\n",
       "      <td>2120</td>\n",
       "      <td>0</td>\n",
       "      <td>1</td>\n",
       "      <td>26</td>\n",
       "      <td>Russia</td>\n",
       "      <td>Yaroslavl</td>\n",
       "      <td>1</td>\n",
       "      <td>iOS</td>\n",
       "      <td>ads</td>\n",
       "      <td>tech</td>\n",
       "      <td>-0.083643</td>\n",
       "      <td>-0.178304</td>\n",
       "      <td>0.007053</td>\n",
       "      <td>-0.017202</td>\n",
       "      <td>-0.107591</td>\n",
       "    </tr>\n",
       "    <tr>\n",
       "      <th>49998</th>\n",
       "      <td>25171</td>\n",
       "      <td>5347</td>\n",
       "      <td>0</td>\n",
       "      <td>0</td>\n",
       "      <td>17</td>\n",
       "      <td>Russia</td>\n",
       "      <td>Omsk</td>\n",
       "      <td>2</td>\n",
       "      <td>Android</td>\n",
       "      <td>ads</td>\n",
       "      <td>movie</td>\n",
       "      <td>-0.169016</td>\n",
       "      <td>0.151149</td>\n",
       "      <td>0.002477</td>\n",
       "      <td>-0.166699</td>\n",
       "      <td>-0.016694</td>\n",
       "    </tr>\n",
       "    <tr>\n",
       "      <th>49999</th>\n",
       "      <td>98029</td>\n",
       "      <td>3028</td>\n",
       "      <td>0</td>\n",
       "      <td>1</td>\n",
       "      <td>22</td>\n",
       "      <td>Russia</td>\n",
       "      <td>Kamyshin</td>\n",
       "      <td>0</td>\n",
       "      <td>Android</td>\n",
       "      <td>ads</td>\n",
       "      <td>covid</td>\n",
       "      <td>0.339744</td>\n",
       "      <td>-0.025248</td>\n",
       "      <td>0.114066</td>\n",
       "      <td>-0.005783</td>\n",
       "      <td>-0.079598</td>\n",
       "    </tr>\n",
       "  </tbody>\n",
       "</table>\n",
       "<p>50000 rows × 16 columns</p>\n",
       "</div>"
      ],
      "text/plain": [
       "       user_id  post_id  target  gender  age country         city  exp_group  \\\n",
       "0       166392     3143       0       0   37  Russia   Dalnegorsk          0   \n",
       "1       161194     3143       0       1   39  Russia      Kolomna          2   \n",
       "2        25140     3143       1       0   19  Russia  Arkhangelsk          3   \n",
       "3        98002     3143       0       0   16  Russia          Ufa          2   \n",
       "4        25146     3143       1       1   21  Russia  Pervouralsk          0   \n",
       "...        ...      ...     ...     ...  ...     ...          ...        ...   \n",
       "49995   104791     5520       0       1   22  Russia       Khimki          0   \n",
       "49996    76847     2120       0       1   17  Russia       Moscow          0   \n",
       "49997    19076     2120       0       1   26  Russia    Yaroslavl          1   \n",
       "49998    25171     5347       0       0   17  Russia         Omsk          2   \n",
       "49999    98029     3028       0       1   22  Russia     Kamyshin          0   \n",
       "\n",
       "            os   source  topic     PCA_1     PCA_2     PCA_3     PCA_4  \\\n",
       "0          iOS  organic  covid  0.162218 -0.037555 -0.190986  0.006264   \n",
       "1          iOS  organic  covid  0.162218 -0.037555 -0.190986  0.006264   \n",
       "2      Android      ads  covid  0.162218 -0.037555 -0.190986  0.006264   \n",
       "3      Android      ads  covid  0.162218 -0.037555 -0.190986  0.006264   \n",
       "4          iOS      ads  covid  0.162218 -0.037555 -0.190986  0.006264   \n",
       "...        ...      ...    ...       ...       ...       ...       ...   \n",
       "49995  Android      ads  movie -0.200635  0.192757  0.025276  0.479970   \n",
       "49996      iOS      ads   tech -0.083643 -0.178304  0.007053 -0.017202   \n",
       "49997      iOS      ads   tech -0.083643 -0.178304  0.007053 -0.017202   \n",
       "49998  Android      ads  movie -0.169016  0.151149  0.002477 -0.166699   \n",
       "49999  Android      ads  covid  0.339744 -0.025248  0.114066 -0.005783   \n",
       "\n",
       "          PCA_5  \n",
       "0     -0.023738  \n",
       "1     -0.023738  \n",
       "2     -0.023738  \n",
       "3     -0.023738  \n",
       "4     -0.023738  \n",
       "...         ...  \n",
       "49995  0.192028  \n",
       "49996 -0.107591  \n",
       "49997 -0.107591  \n",
       "49998 -0.016694  \n",
       "49999 -0.079598  \n",
       "\n",
       "[50000 rows x 16 columns]"
      ]
     },
     "execution_count": 52,
     "metadata": {},
     "output_type": "execute_result"
    }
   ],
   "source": [
    "df"
   ]
  },
  {
   "cell_type": "code",
   "execution_count": 53,
   "id": "85f93b37-0d20-4371-be6e-3f2028c129cb",
   "metadata": {},
   "outputs": [],
   "source": [
    "X = df.drop(['target', 'user_id', 'post_id'], axis=1)\n",
    "y = df.target"
   ]
  },
  {
   "cell_type": "code",
   "execution_count": 54,
   "id": "123bf3e8-a5df-45ac-bf50-49f06c1919b4",
   "metadata": {},
   "outputs": [
    {
     "data": {
      "text/html": [
       "<div>\n",
       "<style scoped>\n",
       "    .dataframe tbody tr th:only-of-type {\n",
       "        vertical-align: middle;\n",
       "    }\n",
       "\n",
       "    .dataframe tbody tr th {\n",
       "        vertical-align: top;\n",
       "    }\n",
       "\n",
       "    .dataframe thead th {\n",
       "        text-align: right;\n",
       "    }\n",
       "</style>\n",
       "<table border=\"1\" class=\"dataframe\">\n",
       "  <thead>\n",
       "    <tr style=\"text-align: right;\">\n",
       "      <th></th>\n",
       "      <th>gender</th>\n",
       "      <th>age</th>\n",
       "      <th>country</th>\n",
       "      <th>city</th>\n",
       "      <th>exp_group</th>\n",
       "      <th>os</th>\n",
       "      <th>source</th>\n",
       "      <th>topic</th>\n",
       "      <th>PCA_1</th>\n",
       "      <th>PCA_2</th>\n",
       "      <th>PCA_3</th>\n",
       "      <th>PCA_4</th>\n",
       "      <th>PCA_5</th>\n",
       "    </tr>\n",
       "  </thead>\n",
       "  <tbody>\n",
       "    <tr>\n",
       "      <th>0</th>\n",
       "      <td>0</td>\n",
       "      <td>37</td>\n",
       "      <td>Russia</td>\n",
       "      <td>Dalnegorsk</td>\n",
       "      <td>0</td>\n",
       "      <td>iOS</td>\n",
       "      <td>organic</td>\n",
       "      <td>covid</td>\n",
       "      <td>0.162218</td>\n",
       "      <td>-0.037555</td>\n",
       "      <td>-0.190986</td>\n",
       "      <td>0.006264</td>\n",
       "      <td>-0.023738</td>\n",
       "    </tr>\n",
       "    <tr>\n",
       "      <th>1</th>\n",
       "      <td>1</td>\n",
       "      <td>39</td>\n",
       "      <td>Russia</td>\n",
       "      <td>Kolomna</td>\n",
       "      <td>2</td>\n",
       "      <td>iOS</td>\n",
       "      <td>organic</td>\n",
       "      <td>covid</td>\n",
       "      <td>0.162218</td>\n",
       "      <td>-0.037555</td>\n",
       "      <td>-0.190986</td>\n",
       "      <td>0.006264</td>\n",
       "      <td>-0.023738</td>\n",
       "    </tr>\n",
       "    <tr>\n",
       "      <th>2</th>\n",
       "      <td>0</td>\n",
       "      <td>19</td>\n",
       "      <td>Russia</td>\n",
       "      <td>Arkhangelsk</td>\n",
       "      <td>3</td>\n",
       "      <td>Android</td>\n",
       "      <td>ads</td>\n",
       "      <td>covid</td>\n",
       "      <td>0.162218</td>\n",
       "      <td>-0.037555</td>\n",
       "      <td>-0.190986</td>\n",
       "      <td>0.006264</td>\n",
       "      <td>-0.023738</td>\n",
       "    </tr>\n",
       "  </tbody>\n",
       "</table>\n",
       "</div>"
      ],
      "text/plain": [
       "   gender  age country         city  exp_group       os   source  topic  \\\n",
       "0       0   37  Russia   Dalnegorsk          0      iOS  organic  covid   \n",
       "1       1   39  Russia      Kolomna          2      iOS  organic  covid   \n",
       "2       0   19  Russia  Arkhangelsk          3  Android      ads  covid   \n",
       "\n",
       "      PCA_1     PCA_2     PCA_3     PCA_4     PCA_5  \n",
       "0  0.162218 -0.037555 -0.190986  0.006264 -0.023738  \n",
       "1  0.162218 -0.037555 -0.190986  0.006264 -0.023738  \n",
       "2  0.162218 -0.037555 -0.190986  0.006264 -0.023738  "
      ]
     },
     "execution_count": 54,
     "metadata": {},
     "output_type": "execute_result"
    }
   ],
   "source": [
    "X.head(3)"
   ]
  },
  {
   "cell_type": "code",
   "execution_count": 55,
   "id": "35cdd6f5-b79f-4851-9692-35679c5814fd",
   "metadata": {},
   "outputs": [
    {
     "data": {
      "text/plain": [
       "0    0\n",
       "1    0\n",
       "2    1\n",
       "Name: target, dtype: int64"
      ]
     },
     "execution_count": 55,
     "metadata": {},
     "output_type": "execute_result"
    }
   ],
   "source": [
    "y[0:3]"
   ]
  },
  {
   "cell_type": "code",
   "execution_count": 56,
   "id": "d529d34f-ce17-4667-b2d2-bec02612d7c4",
   "metadata": {},
   "outputs": [],
   "source": [
    "# those are just basic features to proof the concept and have a baseline solution\n",
    "# will come back later to do a features engineering step properly later\n",
    "# tbc.."
   ]
  },
  {
   "cell_type": "markdown",
   "id": "8da895dc-f973-4147-9747-9dba8ed414bd",
   "metadata": {},
   "source": [
    "## 3. Тренировка модели и оценка её качества"
   ]
  },
  {
   "cell_type": "markdown",
   "id": "8cae280e-3b12-46c3-86c7-d8b2b7ba123c",
   "metadata": {},
   "source": [
    "Используя обучающую выборку, мы обучаем модель, выбирая алгоритм и его параметры. После обучения настраиваем модель и проверяем её качество на валидационной выборке. Оценка качества проводится с помощью метрик, например, точности, полноты или ROC-AUC. Этот этап помогает определить, насколько хорошо модель способна делать предсказания и где её можно улучшить.\n",
    "\n",
    "Важно понимать, что повышение локального ROC-AUC не всегда гарантирует улучшение hitrate в LMS. Поэтому мы советуем проверять, как изменения вашей валидационной метрики сказываются на hitrate в LMS, чтобы убедиться в положительном влиянии."
   ]
  },
  {
   "cell_type": "code",
   "execution_count": 57,
   "id": "449bd3d7-aa17-485a-ba59-c1806d7a7372",
   "metadata": {},
   "outputs": [],
   "source": [
    "from sklearn.model_selection import train_test_split\n",
    "\n",
    "X_train, X_test, y_train, y_test = train_test_split(X, y,\n",
    "                                                    random_state=42, \n",
    "                                                    test_size=0.25)"
   ]
  },
  {
   "cell_type": "code",
   "execution_count": 58,
   "id": "a5d9b8de-6f92-4d4c-864a-95e5415c6879",
   "metadata": {},
   "outputs": [
    {
     "data": {
      "text/plain": [
       "['country', 'city', 'os', 'source', 'topic']"
      ]
     },
     "execution_count": 58,
     "metadata": {},
     "output_type": "execute_result"
    }
   ],
   "source": [
    "cat_cols = X.select_dtypes(include='object').columns.to_list()\n",
    "cat_cols"
   ]
  },
  {
   "cell_type": "code",
   "execution_count": 59,
   "id": "5c723e55-a89e-4803-b155-9b8e014bcc97",
   "metadata": {},
   "outputs": [
    {
     "name": "stdout",
     "output_type": "stream",
     "text": [
      "Learning rate set to 0.048422\n",
      "0:\tlearn: 0.6563175\ttotal: 81.1ms\tremaining: 1m 21s\n",
      "100:\tlearn: 0.3441150\ttotal: 2.35s\tremaining: 20.9s\n",
      "200:\tlearn: 0.3391957\ttotal: 4.81s\tremaining: 19.1s\n",
      "300:\tlearn: 0.3340325\ttotal: 7.55s\tremaining: 17.5s\n",
      "400:\tlearn: 0.3291377\ttotal: 10.3s\tremaining: 15.4s\n",
      "500:\tlearn: 0.3248074\ttotal: 13.3s\tremaining: 13.2s\n",
      "600:\tlearn: 0.3208847\ttotal: 16.3s\tremaining: 10.8s\n",
      "700:\tlearn: 0.3169764\ttotal: 19.3s\tremaining: 8.22s\n",
      "800:\tlearn: 0.3135522\ttotal: 22.3s\tremaining: 5.53s\n",
      "900:\tlearn: 0.3101956\ttotal: 25.3s\tremaining: 2.78s\n",
      "999:\tlearn: 0.3067585\ttotal: 28.3s\tremaining: 0us\n"
     ]
    },
    {
     "data": {
      "text/plain": [
       "<catboost.core.CatBoostClassifier at 0x7f74530844c0>"
      ]
     },
     "execution_count": 59,
     "metadata": {},
     "output_type": "execute_result"
    }
   ],
   "source": [
    "from catboost import CatBoostClassifier\n",
    "\n",
    "\n",
    "catboost = CatBoostClassifier()\n",
    "catboost.fit(X_train, y_train, cat_features=cat_cols, verbose=100)"
   ]
  },
  {
   "cell_type": "code",
   "execution_count": 60,
   "id": "273c9177-379a-40fc-ba84-16d897e6aaa6",
   "metadata": {},
   "outputs": [],
   "source": [
    "# Predict class labels\n",
    "y_pred = catboost.predict(X_test)\n",
    "\n",
    "# Predict probabilities\n",
    "y_pred_proba = catboost.predict_proba(X_test)\n",
    "y_pred_proba_positive = y_pred_proba[:, 1]  # Probability of class 1"
   ]
  },
  {
   "cell_type": "code",
   "execution_count": 61,
   "id": "698ae947-dfdd-4174-a2a7-ad6bdeb461ee",
   "metadata": {},
   "outputs": [
    {
     "name": "stdout",
     "output_type": "stream",
     "text": [
      "Accuracy: 0.88176\n",
      "Precision: 0.5\n",
      "Recall: 0.0033829499323410014\n",
      "F1 Score: 0.006720430107526882\n",
      "ROC-AUC Score: 0.646063144961154\n",
      "\n",
      "Confusion Matrix:\n",
      " [[11017     5]\n",
      " [ 1473     5]]\n"
     ]
    }
   ],
   "source": [
    "from sklearn.metrics import accuracy_score, precision_score, recall_score, f1_score, roc_auc_score, confusion_matrix\n",
    "\n",
    "\n",
    "# Evaluate the model\n",
    "accuracy = accuracy_score(y_test, y_pred)\n",
    "precision = precision_score(y_test, y_pred)\n",
    "recall = recall_score(y_test, y_pred)\n",
    "f1 = f1_score(y_test, y_pred)\n",
    "roc_auc = roc_auc_score(y_test, y_pred_proba_positive)\n",
    "\n",
    "# Print metrics\n",
    "print(\"Accuracy:\", accuracy)\n",
    "print(\"Precision:\", precision)\n",
    "print(\"Recall:\", recall)\n",
    "print(\"F1 Score:\", f1)\n",
    "print(\"ROC-AUC Score:\", roc_auc)\n",
    "\n",
    "# Confusion Matrix\n",
    "conf_matrix = confusion_matrix(y_test, y_pred)\n",
    "print(\"\\nConfusion Matrix:\\n\", conf_matrix)"
   ]
  },
  {
   "cell_type": "code",
   "execution_count": 62,
   "id": "91af3a89-42a6-46bf-860d-4f593eff7e43",
   "metadata": {},
   "outputs": [
    {
     "name": "stdout",
     "output_type": "stream",
     "text": [
      "FEATURE IMPORTANCE report\n",
      "gender: 1.54\n",
      "age: 15.02\n",
      "country: 3.78\n",
      "city: 13.46\n",
      "exp_group: 5.35\n",
      "os: 1.75\n",
      "source: 0.33\n",
      "topic: 6.11\n",
      "PCA_1: 10.04\n",
      "PCA_2: 12.09\n",
      "PCA_3: 8.18\n",
      "PCA_4: 9.59\n",
      "PCA_5: 12.77\n"
     ]
    }
   ],
   "source": [
    "feature_importance = catboost.get_feature_importance()\n",
    "feature_names = catboost.feature_names_\n",
    "\n",
    "print('FEATURE IMPORTANCE report')\n",
    "for n, i in zip(feature_names, feature_importance):\n",
    "    print(n, round(i, 2), sep=': ')"
   ]
  },
  {
   "cell_type": "code",
   "execution_count": 63,
   "id": "9344dee1-2b34-45c3-aa44-ada794725bc7",
   "metadata": {},
   "outputs": [],
   "source": [
    "# this is just a baseline solution\n",
    "# right now I do not care about model quality and metrics\n",
    "# tbc.."
   ]
  },
  {
   "cell_type": "markdown",
   "id": "6a60eeb5-9a73-4b17-a1cd-eee9ba4a21ff",
   "metadata": {},
   "source": [
    "## 4. Сохранение обученной модели"
   ]
  },
  {
   "cell_type": "markdown",
   "id": "a6cc38fa-bb07-45f9-bf09-989112e262eb",
   "metadata": {},
   "source": [
    "После того как модель успешно обучена и её качество удовлетворяет требованиям, мы сохраняем её в определённом формате, который требует модель/библиотека. Этот файл станет основой для дальнейшего использования модели, так как он содержит все необходимые данные для предсказаний, включая веса и параметры.\n",
    "\n"
   ]
  },
  {
   "cell_type": "code",
   "execution_count": 64,
   "id": "7448b23e-2b09-406c-94ef-960612201342",
   "metadata": {},
   "outputs": [],
   "source": [
    "catboost.save_model('catboost_model.cbm')"
   ]
  },
  {
   "cell_type": "code",
   "execution_count": 65,
   "id": "648d93e1-ef23-4580-b200-56f24049d5e6",
   "metadata": {},
   "outputs": [
    {
     "data": {
      "text/plain": [
       "<catboost.core.CatBoostClassifier at 0x7f74271aa640>"
      ]
     },
     "execution_count": 65,
     "metadata": {},
     "output_type": "execute_result"
    }
   ],
   "source": [
    "loaded_model = CatBoostClassifier()\n",
    "loaded_model.load_model('catboost_model.cbm')"
   ]
  },
  {
   "cell_type": "code",
   "execution_count": 66,
   "id": "13d830a1-a4f7-40e4-b2e8-1872e8d66eb2",
   "metadata": {},
   "outputs": [],
   "source": [
    "# Predict class labels\n",
    "y_pred = loaded_model.predict(X_test)\n",
    "\n",
    "# Predict probabilities\n",
    "y_pred_proba = loaded_model.predict_proba(X_test)\n",
    "y_pred_proba_positive = y_pred_proba[:, 1]  # Probability of class 1"
   ]
  },
  {
   "cell_type": "code",
   "execution_count": 67,
   "id": "d1264373-be8a-4147-9caf-ad307fff65a6",
   "metadata": {},
   "outputs": [
    {
     "name": "stdout",
     "output_type": "stream",
     "text": [
      "Accuracy: 0.88176\n",
      "Precision: 0.5\n",
      "Recall: 0.0033829499323410014\n",
      "F1 Score: 0.006720430107526882\n",
      "ROC-AUC Score: 0.646063144961154\n",
      "\n",
      "Confusion Matrix:\n",
      " [[11017     5]\n",
      " [ 1473     5]]\n"
     ]
    }
   ],
   "source": [
    "# Evaluate the model\n",
    "accuracy = accuracy_score(y_test, y_pred)\n",
    "precision = precision_score(y_test, y_pred)\n",
    "recall = recall_score(y_test, y_pred)\n",
    "f1 = f1_score(y_test, y_pred)\n",
    "roc_auc = roc_auc_score(y_test, y_pred_proba_positive)\n",
    "\n",
    "# Print metrics\n",
    "print(\"Accuracy:\", accuracy)\n",
    "print(\"Precision:\", precision)\n",
    "print(\"Recall:\", recall)\n",
    "print(\"F1 Score:\", f1)\n",
    "print(\"ROC-AUC Score:\", roc_auc)\n",
    "\n",
    "# Confusion Matrix\n",
    "conf_matrix = confusion_matrix(y_test, y_pred)\n",
    "print(\"\\nConfusion Matrix:\\n\", conf_matrix)"
   ]
  },
  {
   "cell_type": "code",
   "execution_count": 68,
   "id": "80759ba4-cda4-463e-aa03-a92a67452837",
   "metadata": {},
   "outputs": [
    {
     "name": "stdout",
     "output_type": "stream",
     "text": [
      "FEATURE IMPORTANCE report\n",
      "gender: 1.54\n",
      "age: 15.02\n",
      "country: 3.78\n",
      "city: 13.46\n",
      "exp_group: 5.35\n",
      "os: 1.75\n",
      "source: 0.33\n",
      "topic: 6.11\n",
      "PCA_1: 10.04\n",
      "PCA_2: 12.09\n",
      "PCA_3: 8.18\n",
      "PCA_4: 9.59\n",
      "PCA_5: 12.77\n"
     ]
    }
   ],
   "source": [
    "feature_importance = catboost.get_feature_importance()\n",
    "feature_names = catboost.feature_names_\n",
    "\n",
    "print('FEATURE IMPORTANCE report')\n",
    "for n, i in zip(feature_names, feature_importance):\n",
    "    print(n, round(i, 2), sep=': ')"
   ]
  },
  {
   "cell_type": "code",
   "execution_count": 69,
   "id": "4efd8bba-0be3-453b-9c8b-bb0a9421f5f9",
   "metadata": {},
   "outputs": [],
   "source": [
    "# Got the same results as before, proofs that saving model to a file and then loading back - works!"
   ]
  },
  {
   "cell_type": "markdown",
   "id": "5b099f0d-c6bc-459b-83c6-f4493cf5ed7d",
   "metadata": {},
   "source": [
    "## 5. Разработка сервиса для использования модели"
   ]
  },
  {
   "cell_type": "markdown",
   "id": "8531c986-c5e8-4fbe-b697-13b1eeae6628",
   "metadata": {},
   "source": [
    "Здесь мы создаем сервис, который позволит взаимодействовать с моделью в реальном времени. Сервис включает следующие шаги:\n",
    "\n",
    "- Загрузка модели: при запуске сервис загружает ранее сохранённую модель из файла.\n",
    "- Получение признаков: сервис принимает запросы с user_id, на основе которого формирует нужные признаки для предсказания или загружаются уже с таблиц, которые вы загрузили в базу данных КарповКурсес. Признаки в момент предсказания должны совпадать с признаками, которые были в момент обучения модели.\n",
    "- Предсказание: используя загруженную модель и полученные признаки, сервис делает предсказание — определяет посты, которые, вероятно, понравятся пользователю.\n",
    "- Возвращение ответа: сервис возвращает ответ с результатами предсказания.\n",
    "\n",
    "\n",
    "Важно: для того чтобы система проверки (чекер) могла корректно протестировать сервис, необходимо одновременно загружать как сам сервис, так и модель."
   ]
  },
  {
   "cell_type": "code",
   "execution_count": null,
   "id": "118d4b2e-7f92-4c2e-b814-a0a99c100a1a",
   "metadata": {},
   "outputs": [],
   "source": []
  },
  {
   "cell_type": "code",
   "execution_count": null,
   "id": "b8fecbac-70b7-41a6-bc1a-ef9701256969",
   "metadata": {},
   "outputs": [],
   "source": []
  },
  {
   "cell_type": "code",
   "execution_count": null,
   "id": "62145f88-2c22-4f4b-91ed-f8ba51dca0b1",
   "metadata": {},
   "outputs": [],
   "source": []
  },
  {
   "cell_type": "code",
   "execution_count": null,
   "id": "c976cc12-17f0-4cbc-9c19-869a68c051bb",
   "metadata": {},
   "outputs": [],
   "source": []
  },
  {
   "cell_type": "code",
   "execution_count": null,
   "id": "1c0589a4-03a4-4ee7-9e42-efdb7eaeceed",
   "metadata": {},
   "outputs": [],
   "source": []
  },
  {
   "cell_type": "code",
   "execution_count": null,
   "id": "4f08f3a8-9674-4d8f-8f2b-e7bf0f30ec88",
   "metadata": {},
   "outputs": [],
   "source": []
  },
  {
   "cell_type": "markdown",
   "id": "36e13dfc-3493-42d4-a025-c82b1584131e",
   "metadata": {},
   "source": [
    "## 6. Загрузка сервиса в LMS для проверки (чекер)"
   ]
  },
  {
   "cell_type": "markdown",
   "id": "47d7ea39-819d-497e-8019-e35d85514155",
   "metadata": {},
   "source": [
    "После завершения разработки сервис и модель загружаются в LMS, где автоматический чекер выполняет тестирование. Чекер проверяет, соответствует ли сервис требованиям, выполняет ли корректные предсказания, работает ли без ошибок и насколько быстро отвечает на запросы. Успешное прохождение проверки подтверждает готовность модели к использованию в продакшене."
   ]
  },
  {
   "cell_type": "code",
   "execution_count": null,
   "id": "bcba75e6-3794-4b8b-b754-73b3ccb801e5",
   "metadata": {},
   "outputs": [],
   "source": []
  },
  {
   "cell_type": "code",
   "execution_count": null,
   "id": "4816539d-27e0-4800-820c-44d9c447508b",
   "metadata": {},
   "outputs": [],
   "source": []
  },
  {
   "cell_type": "code",
   "execution_count": null,
   "id": "9829d554-aba1-40f7-bb38-b9ce28b1f8c4",
   "metadata": {},
   "outputs": [],
   "source": []
  },
  {
   "cell_type": "code",
   "execution_count": null,
   "id": "901a317e-0562-46c1-8a4d-147d9345cc52",
   "metadata": {},
   "outputs": [],
   "source": []
  },
  {
   "cell_type": "code",
   "execution_count": null,
   "id": "dba054ea-418b-4ee1-bb08-a37b7a0defee",
   "metadata": {},
   "outputs": [],
   "source": []
  }
 ],
 "metadata": {
  "kernelspec": {
   "display_name": "Python 3 (ipykernel)",
   "language": "python",
   "name": "python3"
  },
  "language_info": {
   "codemirror_mode": {
    "name": "ipython",
    "version": 3
   },
   "file_extension": ".py",
   "mimetype": "text/x-python",
   "name": "python",
   "nbconvert_exporter": "python",
   "pygments_lexer": "ipython3",
   "version": "3.8.10"
  }
 },
 "nbformat": 4,
 "nbformat_minor": 5
}
