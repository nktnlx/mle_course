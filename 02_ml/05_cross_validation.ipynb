{
 "cells": [
  {
   "cell_type": "markdown",
   "id": "cb747a0a-d5db-46b4-90d2-585621f1c44a",
   "metadata": {},
   "source": [
    "# Models metrics"
   ]
  },
  {
   "cell_type": "markdown",
   "id": "1350911d-b651-44ec-8555-88aeb7bd991f",
   "metadata": {},
   "source": [
    "## Dataset Description "
   ]
  },
  {
   "cell_type": "markdown",
   "id": "4233983b-4db1-4d10-a2f4-c220e4004107",
   "metadata": {},
   "source": [
    "- `id` - Trip ID\n",
    "- `vendor_id` - ID of the transportation company\n",
    "- `pickup_datetime` - Timestamp of the trip start\n",
    "- `dropoff_datetime` - Timestamp of the trip end\n",
    "- `passenger_count` - Number of passengers\n",
    "- `pickup_longitude` - Longitude of the pickup location\n",
    "- `pickup_latitude` - Latitude of the pickup location\n",
    "- `dropoff_longitude` - Longitude of the dropoff location\n",
    "- `dropoff_latitude` - Latitude of the dropoff location\n",
    "- `store_and_fwd_flag` - Yes/No: Was the information stored in the vehicle's memory due to loss of connection with the server"
   ]
  },
  {
   "cell_type": "markdown",
   "id": "c754b9c7-501f-465f-9160-5ca29185e2cc",
   "metadata": {},
   "source": [
    "## Tasks"
   ]
  },
  {
   "cell_type": "markdown",
   "id": "6a08a8d8-37a7-4a4e-b354-4db6e2f16a56",
   "metadata": {},
   "source": [
    "### Task 1"
   ]
  },
  {
   "cell_type": "markdown",
   "id": "bdbe5dc3-20db-4123-87a8-c13481055a28",
   "metadata": {},
   "source": [
    "Import data you need to build models. "
   ]
  },
  {
   "cell_type": "code",
   "execution_count": 1,
   "id": "fc38d53b-fc57-4610-bbc6-16e24700591a",
   "metadata": {},
   "outputs": [],
   "source": [
    "import pandas as pd\n",
    "import numpy as np"
   ]
  },
  {
   "cell_type": "code",
   "execution_count": 2,
   "id": "7d5a1ca3-71c0-4e14-a4a7-d4878712ff3d",
   "metadata": {},
   "outputs": [],
   "source": [
    "initial_data = pd.read_csv('initial_data.csv', index_col='id')\n",
    "\n",
    "initial_cols = ['vendor_id', 'passenger_count', 'pickup_longitude',\n",
    "                'pickup_latitude', 'dropoff_longitude', 'dropoff_latitude',\n",
    "                'trip_duration']\n",
    "\n",
    "initial_data = initial_data[initial_cols]"
   ]
  },
  {
   "cell_type": "code",
   "execution_count": 3,
   "id": "dcb31fdc-1cac-495c-9c98-f7faea6d6dc0",
   "metadata": {},
   "outputs": [
    {
     "data": {
      "text/html": [
       "<div>\n",
       "<style scoped>\n",
       "    .dataframe tbody tr th:only-of-type {\n",
       "        vertical-align: middle;\n",
       "    }\n",
       "\n",
       "    .dataframe tbody tr th {\n",
       "        vertical-align: top;\n",
       "    }\n",
       "\n",
       "    .dataframe thead th {\n",
       "        text-align: right;\n",
       "    }\n",
       "</style>\n",
       "<table border=\"1\" class=\"dataframe\">\n",
       "  <thead>\n",
       "    <tr style=\"text-align: right;\">\n",
       "      <th></th>\n",
       "      <th>vendor_id</th>\n",
       "      <th>passenger_count</th>\n",
       "      <th>pickup_longitude</th>\n",
       "      <th>pickup_latitude</th>\n",
       "      <th>dropoff_longitude</th>\n",
       "      <th>dropoff_latitude</th>\n",
       "      <th>trip_duration</th>\n",
       "    </tr>\n",
       "    <tr>\n",
       "      <th>id</th>\n",
       "      <th></th>\n",
       "      <th></th>\n",
       "      <th></th>\n",
       "      <th></th>\n",
       "      <th></th>\n",
       "      <th></th>\n",
       "      <th></th>\n",
       "    </tr>\n",
       "  </thead>\n",
       "  <tbody>\n",
       "    <tr>\n",
       "      <th>id2875421</th>\n",
       "      <td>2</td>\n",
       "      <td>1</td>\n",
       "      <td>-73.982155</td>\n",
       "      <td>40.767937</td>\n",
       "      <td>-73.964630</td>\n",
       "      <td>40.765602</td>\n",
       "      <td>455.0</td>\n",
       "    </tr>\n",
       "    <tr>\n",
       "      <th>id2377394</th>\n",
       "      <td>1</td>\n",
       "      <td>1</td>\n",
       "      <td>-73.980415</td>\n",
       "      <td>40.738564</td>\n",
       "      <td>-73.999481</td>\n",
       "      <td>40.731152</td>\n",
       "      <td>663.0</td>\n",
       "    </tr>\n",
       "    <tr>\n",
       "      <th>id3858529</th>\n",
       "      <td>2</td>\n",
       "      <td>1</td>\n",
       "      <td>-73.979027</td>\n",
       "      <td>40.763939</td>\n",
       "      <td>-74.005333</td>\n",
       "      <td>40.710087</td>\n",
       "      <td>2124.0</td>\n",
       "    </tr>\n",
       "    <tr>\n",
       "      <th>id3504673</th>\n",
       "      <td>2</td>\n",
       "      <td>1</td>\n",
       "      <td>-74.010040</td>\n",
       "      <td>40.719971</td>\n",
       "      <td>-74.012268</td>\n",
       "      <td>40.706718</td>\n",
       "      <td>429.0</td>\n",
       "    </tr>\n",
       "    <tr>\n",
       "      <th>id2181028</th>\n",
       "      <td>2</td>\n",
       "      <td>1</td>\n",
       "      <td>-73.973053</td>\n",
       "      <td>40.793209</td>\n",
       "      <td>-73.972923</td>\n",
       "      <td>40.782520</td>\n",
       "      <td>435.0</td>\n",
       "    </tr>\n",
       "  </tbody>\n",
       "</table>\n",
       "</div>"
      ],
      "text/plain": [
       "           vendor_id  passenger_count  pickup_longitude  pickup_latitude  \\\n",
       "id                                                                         \n",
       "id2875421          2                1        -73.982155        40.767937   \n",
       "id2377394          1                1        -73.980415        40.738564   \n",
       "id3858529          2                1        -73.979027        40.763939   \n",
       "id3504673          2                1        -74.010040        40.719971   \n",
       "id2181028          2                1        -73.973053        40.793209   \n",
       "\n",
       "           dropoff_longitude  dropoff_latitude  trip_duration  \n",
       "id                                                             \n",
       "id2875421         -73.964630         40.765602          455.0  \n",
       "id2377394         -73.999481         40.731152          663.0  \n",
       "id3858529         -74.005333         40.710087         2124.0  \n",
       "id3504673         -74.012268         40.706718          429.0  \n",
       "id2181028         -73.972923         40.782520          435.0  "
      ]
     },
     "execution_count": 3,
     "metadata": {},
     "output_type": "execute_result"
    }
   ],
   "source": [
    "initial_data.head()"
   ]
  },
  {
   "cell_type": "code",
   "execution_count": 4,
   "id": "316a994a-0afc-4851-a22d-2128c28c7b65",
   "metadata": {},
   "outputs": [
    {
     "name": "stdout",
     "output_type": "stream",
     "text": [
      "<class 'pandas.core.frame.DataFrame'>\n",
      "Index: 1458644 entries, id2875421 to id1209952\n",
      "Data columns (total 7 columns):\n",
      " #   Column             Non-Null Count    Dtype  \n",
      "---  ------             --------------    -----  \n",
      " 0   vendor_id          1458644 non-null  int64  \n",
      " 1   passenger_count    1458644 non-null  int64  \n",
      " 2   pickup_longitude   1458644 non-null  float64\n",
      " 3   pickup_latitude    1458644 non-null  float64\n",
      " 4   dropoff_longitude  1458644 non-null  float64\n",
      " 5   dropoff_latitude   1458644 non-null  float64\n",
      " 6   trip_duration      1458644 non-null  float64\n",
      "dtypes: float64(5), int64(2)\n",
      "memory usage: 89.0+ MB\n"
     ]
    }
   ],
   "source": [
    "initial_data.info()"
   ]
  },
  {
   "cell_type": "markdown",
   "id": "54372a63-0de8-4ad6-b8ab-24577a168866",
   "metadata": {},
   "source": [
    "### Task 2"
   ]
  },
  {
   "cell_type": "markdown",
   "id": "167a774a-2abb-48aa-8010-64968fe0181f",
   "metadata": {},
   "source": [
    "Make a logarithmic transform of your target column, so you can calculate MSLE when evaluating models' performance. "
   ]
  },
  {
   "cell_type": "code",
   "execution_count": 5,
   "id": "32f8bef3-e20d-4082-9db2-df5b36a70fa2",
   "metadata": {},
   "outputs": [],
   "source": [
    "initial_data = initial_data.assign(log_trip_duration=np.log1p(initial_data['trip_duration']))\n",
    "initial_data = initial_data.drop('trip_duration', axis=1)"
   ]
  },
  {
   "cell_type": "markdown",
   "id": "56015b10-4f8d-4630-823c-ef0b5a9e5ebd",
   "metadata": {},
   "source": [
    "### Task 3"
   ]
  },
  {
   "cell_type": "markdown",
   "id": "b24dd3a9-722b-4ad7-b1bc-b0c0f34707de",
   "metadata": {},
   "source": [
    "Split your data on train and test samples. "
   ]
  },
  {
   "cell_type": "code",
   "execution_count": 6,
   "id": "46d997ea-7066-4cab-bc02-d4626049663f",
   "metadata": {},
   "outputs": [],
   "source": [
    "from sklearn.model_selection import train_test_split"
   ]
  },
  {
   "cell_type": "code",
   "execution_count": 7,
   "id": "da742562-f425-4d86-95aa-25ff7a629ae9",
   "metadata": {},
   "outputs": [],
   "source": [
    "X = initial_data.drop('log_trip_duration', axis=1)\n",
    "y = initial_data['log_trip_duration']\n",
    "\n",
    "X_train, X_test, Y_train, Y_test = train_test_split(X, y, \n",
    "                                                    test_size=0.2, \n",
    "                                                    random_state=42)"
   ]
  },
  {
   "cell_type": "markdown",
   "id": "6d83296a-37e6-483f-9f44-d194b5295f03",
   "metadata": {},
   "source": [
    "### Task 4"
   ]
  },
  {
   "cell_type": "markdown",
   "id": "f675c57b-a160-48c7-8e17-072d6be3213d",
   "metadata": {},
   "source": [
    "Apply `KFold` splitting and evaluate a simple `LinearRegression` model performance on cross-validation."
   ]
  },
  {
   "cell_type": "code",
   "execution_count": 8,
   "id": "99698ac1-2b90-4be0-9c6f-c7a0317f610e",
   "metadata": {},
   "outputs": [],
   "source": [
    "from sklearn.model_selection import KFold\n",
    "from sklearn.linear_model import LinearRegression"
   ]
  },
  {
   "cell_type": "code",
   "execution_count": 9,
   "id": "1527077a-ee11-4ad1-871b-60b25652e60f",
   "metadata": {},
   "outputs": [],
   "source": [
    "splitter = KFold(n_splits=20, shuffle=True, random_state=33)"
   ]
  },
  {
   "cell_type": "code",
   "execution_count": 10,
   "id": "3ff6b787-9f64-4dac-a9f4-af346cb8d155",
   "metadata": {},
   "outputs": [],
   "source": [
    "losses_train = []\n",
    "losses_test = []\n",
    "\n",
    "for train_index, test_index in splitter.split(X_train):\n",
    "    x_train, x_test = X_train.values[train_index], X_train.values[test_index]\n",
    "    y_train, y_test = Y_train.values[train_index], Y_train.values[test_index]\n",
    "    \n",
    "    model = LinearRegression()\n",
    "    model.fit(x_train, y_train)\n",
    "    \n",
    "    np.mean((model.predict(x_train) - y_train)**2)\n",
    "    \n",
    "    losses_train.append(np.mean((model.predict(x_train) - y_train)**2))\n",
    "    losses_test.append(np.mean((model.predict(x_test) - y_test)**2))"
   ]
  },
  {
   "cell_type": "markdown",
   "id": "4868e0a2-a3a5-41f9-8488-b2373947bc3e",
   "metadata": {},
   "source": [
    "### Task 5"
   ]
  },
  {
   "cell_type": "markdown",
   "id": "4e5db748-292f-4de2-944f-6c84876727d9",
   "metadata": {},
   "source": [
    "What are the mean MSLE scores of your cross-validation on train and test samples? "
   ]
  },
  {
   "cell_type": "code",
   "execution_count": 11,
   "id": "cbee6e82-4fad-4b28-9770-7067758ab4b7",
   "metadata": {},
   "outputs": [
    {
     "name": "stdout",
     "output_type": "stream",
     "text": [
      "0.609\n",
      "0.613\n"
     ]
    }
   ],
   "source": [
    "print(round(np.mean(losses_train), 3))\n",
    "print(round(np.mean(losses_test), 3))"
   ]
  },
  {
   "cell_type": "markdown",
   "id": "3d2f3ed4-0ac3-4b81-a890-8b156dd83054",
   "metadata": {},
   "source": [
    "### Task 6"
   ]
  },
  {
   "cell_type": "markdown",
   "id": "1c2e40a1-2c04-4616-ac55-f6105aec7228",
   "metadata": {},
   "source": [
    "Assess a simple `LinearRegression` performance of a model built on the whole dataset."
   ]
  },
  {
   "cell_type": "code",
   "execution_count": 12,
   "id": "aabe99c8-fc96-4d3d-a599-776eadf4f3bd",
   "metadata": {},
   "outputs": [
    {
     "name": "stdout",
     "output_type": "stream",
     "text": [
      "0.606\n"
     ]
    }
   ],
   "source": [
    "model = LinearRegression()\n",
    "model.fit(X_train, Y_train)\n",
    "    \n",
    "print(round(np.mean((model.predict(X_test) - Y_test)**2), 3))"
   ]
  },
  {
   "cell_type": "markdown",
   "id": "ee167b03-e519-4c6d-aa38-353edb3d3a17",
   "metadata": {},
   "source": [
    "### Task 7"
   ]
  },
  {
   "cell_type": "markdown",
   "id": "3d600ba2-306d-4235-aeb4-356fbd570b0c",
   "metadata": {},
   "source": [
    "Let's try to build another model using another set of features. "
   ]
  },
  {
   "cell_type": "code",
   "execution_count": 13,
   "id": "bf4d629b-1b1b-4b70-bf51-4841f4e8ebda",
   "metadata": {},
   "outputs": [],
   "source": [
    "processed_data = pd.read_csv('processed_data.csv', index_col='id')"
   ]
  },
  {
   "cell_type": "code",
   "execution_count": 14,
   "id": "5d1f7e37-c271-42c4-8c04-5ed5d0fef5e9",
   "metadata": {},
   "outputs": [
    {
     "data": {
      "text/html": [
       "<div>\n",
       "<style scoped>\n",
       "    .dataframe tbody tr th:only-of-type {\n",
       "        vertical-align: middle;\n",
       "    }\n",
       "\n",
       "    .dataframe tbody tr th {\n",
       "        vertical-align: top;\n",
       "    }\n",
       "\n",
       "    .dataframe thead th {\n",
       "        text-align: right;\n",
       "    }\n",
       "</style>\n",
       "<table border=\"1\" class=\"dataframe\">\n",
       "  <thead>\n",
       "    <tr style=\"text-align: right;\">\n",
       "      <th></th>\n",
       "      <th>vendor_id</th>\n",
       "      <th>passenger_count</th>\n",
       "      <th>store_and_fwd_flag</th>\n",
       "      <th>trip_duration</th>\n",
       "      <th>distance_km</th>\n",
       "    </tr>\n",
       "    <tr>\n",
       "      <th>id</th>\n",
       "      <th></th>\n",
       "      <th></th>\n",
       "      <th></th>\n",
       "      <th></th>\n",
       "      <th></th>\n",
       "    </tr>\n",
       "  </thead>\n",
       "  <tbody>\n",
       "    <tr>\n",
       "      <th>id2875421</th>\n",
       "      <td>1</td>\n",
       "      <td>930.399753</td>\n",
       "      <td>0</td>\n",
       "      <td>455.0</td>\n",
       "      <td>1.500479</td>\n",
       "    </tr>\n",
       "    <tr>\n",
       "      <th>id2377394</th>\n",
       "      <td>0</td>\n",
       "      <td>930.399753</td>\n",
       "      <td>0</td>\n",
       "      <td>663.0</td>\n",
       "      <td>1.807119</td>\n",
       "    </tr>\n",
       "    <tr>\n",
       "      <th>id3858529</th>\n",
       "      <td>1</td>\n",
       "      <td>930.399753</td>\n",
       "      <td>0</td>\n",
       "      <td>2124.0</td>\n",
       "      <td>6.392080</td>\n",
       "    </tr>\n",
       "    <tr>\n",
       "      <th>id3504673</th>\n",
       "      <td>1</td>\n",
       "      <td>930.399753</td>\n",
       "      <td>0</td>\n",
       "      <td>429.0</td>\n",
       "      <td>1.487155</td>\n",
       "    </tr>\n",
       "    <tr>\n",
       "      <th>id2181028</th>\n",
       "      <td>1</td>\n",
       "      <td>930.399753</td>\n",
       "      <td>0</td>\n",
       "      <td>435.0</td>\n",
       "      <td>1.189925</td>\n",
       "    </tr>\n",
       "  </tbody>\n",
       "</table>\n",
       "</div>"
      ],
      "text/plain": [
       "           vendor_id  passenger_count  store_and_fwd_flag  trip_duration  \\\n",
       "id                                                                         \n",
       "id2875421          1       930.399753                   0          455.0   \n",
       "id2377394          0       930.399753                   0          663.0   \n",
       "id3858529          1       930.399753                   0         2124.0   \n",
       "id3504673          1       930.399753                   0          429.0   \n",
       "id2181028          1       930.399753                   0          435.0   \n",
       "\n",
       "           distance_km  \n",
       "id                      \n",
       "id2875421     1.500479  \n",
       "id2377394     1.807119  \n",
       "id3858529     6.392080  \n",
       "id3504673     1.487155  \n",
       "id2181028     1.189925  "
      ]
     },
     "execution_count": 14,
     "metadata": {},
     "output_type": "execute_result"
    }
   ],
   "source": [
    "processed_data.head()"
   ]
  },
  {
   "cell_type": "code",
   "execution_count": 15,
   "id": "788859df-bd1f-4d17-9c79-a2f6e9f4a24b",
   "metadata": {},
   "outputs": [
    {
     "name": "stdout",
     "output_type": "stream",
     "text": [
      "<class 'pandas.core.frame.DataFrame'>\n",
      "Index: 1458644 entries, id2875421 to id1209952\n",
      "Data columns (total 5 columns):\n",
      " #   Column              Non-Null Count    Dtype  \n",
      "---  ------              --------------    -----  \n",
      " 0   vendor_id           1458644 non-null  int64  \n",
      " 1   passenger_count     1458644 non-null  float64\n",
      " 2   store_and_fwd_flag  1458644 non-null  int64  \n",
      " 3   trip_duration       1458644 non-null  float64\n",
      " 4   distance_km         1458644 non-null  float64\n",
      "dtypes: float64(3), int64(2)\n",
      "memory usage: 66.8+ MB\n"
     ]
    }
   ],
   "source": [
    "processed_data.info()"
   ]
  },
  {
   "cell_type": "markdown",
   "id": "298f8b68-791b-45bf-93fd-0e776f794a59",
   "metadata": {},
   "source": [
    "### Task 8"
   ]
  },
  {
   "cell_type": "markdown",
   "id": "68a3222c-3fba-4ffc-95aa-f384565e00d3",
   "metadata": {},
   "source": [
    "Making log tranformation of the target column. "
   ]
  },
  {
   "cell_type": "code",
   "execution_count": 16,
   "id": "b1e642e8-7086-4d8b-8342-00313ea85da9",
   "metadata": {},
   "outputs": [],
   "source": [
    "processed_data = processed_data.assign(log_trip_duration=np.log1p(processed_data['trip_duration']))\n",
    "processed_data = processed_data.drop('trip_duration', axis=1)"
   ]
  },
  {
   "cell_type": "code",
   "execution_count": 17,
   "id": "d3b7eb4b-e70e-41dc-b229-36cbf4f74227",
   "metadata": {},
   "outputs": [],
   "source": [
    "X_2 = processed_data.drop('log_trip_duration', axis=1)\n",
    "y_2 = processed_data['log_trip_duration']"
   ]
  },
  {
   "cell_type": "markdown",
   "id": "726bc165-0b71-4eb2-af6f-e855ee506236",
   "metadata": {},
   "source": [
    "### Task 9"
   ]
  },
  {
   "cell_type": "markdown",
   "id": "c041e40e-c70e-4bdf-81d2-c762b33b1bd3",
   "metadata": {},
   "source": [
    "Getting the same data split so the comparison between models will be fair. "
   ]
  },
  {
   "cell_type": "code",
   "execution_count": 18,
   "id": "3ed4c490-a99b-41ca-9fb4-435b9b5d1bdd",
   "metadata": {},
   "outputs": [],
   "source": [
    "test_indexes = X_test.index\n",
    "train_indexes = X_train.index\n",
    "\n",
    "X_train_2 = X_2[X_2.index.isin(train_indexes)]\n",
    "y_train_2 = y_2[y_2.index.isin(train_indexes)]\n",
    "\n",
    "X_test_2 = X_2[X_2.index.isin(test_indexes)]\n",
    "y_test_2 = y_2[y_2.index.isin(test_indexes)]"
   ]
  },
  {
   "cell_type": "markdown",
   "id": "b8d3b2b0-6834-476d-8542-860338ea89d2",
   "metadata": {},
   "source": [
    "### Task 10"
   ]
  },
  {
   "cell_type": "markdown",
   "id": "e3d6dc3e-4bd6-4aa9-b948-2a827e2d2fc3",
   "metadata": {},
   "source": [
    "Apply `KFold` splitting and evaluate a simple `LinearRegression` model performance on cross-validation, but now we will use an in-built `cross_validate` method. "
   ]
  },
  {
   "cell_type": "code",
   "execution_count": 19,
   "id": "c2e19b52-e858-418a-989c-d9327e1ffe09",
   "metadata": {},
   "outputs": [],
   "source": [
    "from sklearn.model_selection import cross_validate\n",
    "from sklearn.metrics import mean_squared_error"
   ]
  },
  {
   "cell_type": "code",
   "execution_count": 20,
   "id": "0d8aea2b-24b6-43f6-ae23-3b9bb4be4a13",
   "metadata": {},
   "outputs": [],
   "source": [
    "model = LinearRegression()\n",
    "splitter = KFold(n_splits=20, shuffle=True, random_state=33)\n",
    "\n",
    "scores = cross_validate(\n",
    "    model, X_train_2, y_train_2,\n",
    "    scoring = 'neg_mean_squared_error',\n",
    "    cv=splitter,\n",
    "    return_train_score=True\n",
    ")"
   ]
  },
  {
   "cell_type": "code",
   "execution_count": 21,
   "id": "4c83883b-3994-40d3-baca-8d562b5c0cca",
   "metadata": {},
   "outputs": [
    {
     "data": {
      "text/plain": [
       "0.431"
      ]
     },
     "execution_count": 21,
     "metadata": {},
     "output_type": "execute_result"
    }
   ],
   "source": [
    "round(scores['test_score'].mean() * -1, 3)"
   ]
  },
  {
   "cell_type": "markdown",
   "id": "be5abd4c-0b6c-4b0c-88e2-ab17be40bf5c",
   "metadata": {},
   "source": [
    "### Task 11"
   ]
  },
  {
   "cell_type": "markdown",
   "id": "a9fb38cf-b316-4061-a174-5dc5914f3470",
   "metadata": {},
   "source": [
    "Assess a simple `LinearRegression` performance of a model built on the whole dataset."
   ]
  },
  {
   "cell_type": "code",
   "execution_count": 22,
   "id": "fa8d0475-9108-45d2-909e-2799102d3400",
   "metadata": {},
   "outputs": [
    {
     "name": "stdout",
     "output_type": "stream",
     "text": [
      "0.407\n"
     ]
    }
   ],
   "source": [
    "model = LinearRegression()\n",
    "model.fit(X_train_2, y_train_2)\n",
    "\n",
    "print(round(np.mean((model.predict(X_test_2) - y_test_2)**2), 3))"
   ]
  },
  {
   "cell_type": "code",
   "execution_count": null,
   "id": "fe0767d4-80d0-4b90-b11f-bc022d2d05c0",
   "metadata": {},
   "outputs": [],
   "source": []
  }
 ],
 "metadata": {
  "kernelspec": {
   "display_name": "Python 3 (ipykernel)",
   "language": "python",
   "name": "python3"
  },
  "language_info": {
   "codemirror_mode": {
    "name": "ipython",
    "version": 3
   },
   "file_extension": ".py",
   "mimetype": "text/x-python",
   "name": "python",
   "nbconvert_exporter": "python",
   "pygments_lexer": "ipython3",
   "version": "3.8.10"
  }
 },
 "nbformat": 4,
 "nbformat_minor": 5
}
