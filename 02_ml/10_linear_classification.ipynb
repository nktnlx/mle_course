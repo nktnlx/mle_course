{
 "cells": [
  {
   "cell_type": "markdown",
   "id": "cb747a0a-d5db-46b4-90d2-585621f1c44a",
   "metadata": {},
   "source": [
    "# Linear Classification"
   ]
  },
  {
   "cell_type": "markdown",
   "id": "c754b9c7-501f-465f-9160-5ca29185e2cc",
   "metadata": {},
   "source": [
    "## Tasks"
   ]
  },
  {
   "cell_type": "markdown",
   "id": "6a08a8d8-37a7-4a4e-b354-4db6e2f16a56",
   "metadata": {},
   "source": [
    "### Task 1"
   ]
  },
  {
   "cell_type": "markdown",
   "id": "bdbe5dc3-20db-4123-87a8-c13481055a28",
   "metadata": {},
   "source": [
    "Import data you need to solve tasks for this lesson. "
   ]
  },
  {
   "cell_type": "code",
   "execution_count": 1,
   "id": "fc38d53b-fc57-4610-bbc6-16e24700591a",
   "metadata": {},
   "outputs": [],
   "source": [
    "import numpy as np\n",
    "import pandas as pd"
   ]
  },
  {
   "cell_type": "code",
   "execution_count": 2,
   "id": "7d5a1ca3-71c0-4e14-a4a7-d4878712ff3d",
   "metadata": {},
   "outputs": [
    {
     "name": "stderr",
     "output_type": "stream",
     "text": [
      "/tmp/ipykernel_278/2815211952.py:1: DtypeWarning: Columns (28) have mixed types. Specify dtype option on import or set low_memory=False.\n",
      "  data = pd.read_csv('train.csv')\n"
     ]
    }
   ],
   "source": [
    "data = pd.read_csv('train.csv')"
   ]
  },
  {
   "cell_type": "code",
   "execution_count": 3,
   "id": "dcb31fdc-1cac-495c-9c98-f7faea6d6dc0",
   "metadata": {},
   "outputs": [
    {
     "data": {
      "text/html": [
       "<div>\n",
       "<style scoped>\n",
       "    .dataframe tbody tr th:only-of-type {\n",
       "        vertical-align: middle;\n",
       "    }\n",
       "\n",
       "    .dataframe tbody tr th {\n",
       "        vertical-align: top;\n",
       "    }\n",
       "\n",
       "    .dataframe thead th {\n",
       "        text-align: right;\n",
       "    }\n",
       "</style>\n",
       "<table border=\"1\" class=\"dataframe\">\n",
       "  <thead>\n",
       "    <tr style=\"text-align: right;\">\n",
       "      <th></th>\n",
       "      <th>MachineIdentifier</th>\n",
       "      <th>ProductName</th>\n",
       "      <th>EngineVersion</th>\n",
       "      <th>AppVersion</th>\n",
       "      <th>AvSigVersion</th>\n",
       "      <th>IsBeta</th>\n",
       "      <th>RtpStateBitfield</th>\n",
       "      <th>IsSxsPassiveMode</th>\n",
       "      <th>DefaultBrowsersIdentifier</th>\n",
       "      <th>AVProductStatesIdentifier</th>\n",
       "      <th>...</th>\n",
       "      <th>Census_FirmwareVersionIdentifier</th>\n",
       "      <th>Census_IsSecureBootEnabled</th>\n",
       "      <th>Census_IsWIMBootEnabled</th>\n",
       "      <th>Census_IsVirtualDevice</th>\n",
       "      <th>Census_IsTouchEnabled</th>\n",
       "      <th>Census_IsPenCapable</th>\n",
       "      <th>Census_IsAlwaysOnAlwaysConnectedCapable</th>\n",
       "      <th>Wdft_IsGamer</th>\n",
       "      <th>Wdft_RegionIdentifier</th>\n",
       "      <th>HasDetections</th>\n",
       "    </tr>\n",
       "  </thead>\n",
       "  <tbody>\n",
       "    <tr>\n",
       "      <th>0</th>\n",
       "      <td>0000028988387b115f69f31a3bf04f09</td>\n",
       "      <td>win8defender</td>\n",
       "      <td>1.1.15100.1</td>\n",
       "      <td>4.18.1807.18075</td>\n",
       "      <td>1.273.1735.0</td>\n",
       "      <td>0</td>\n",
       "      <td>7.0</td>\n",
       "      <td>0</td>\n",
       "      <td>NaN</td>\n",
       "      <td>53447.0</td>\n",
       "      <td>...</td>\n",
       "      <td>36144.0</td>\n",
       "      <td>0</td>\n",
       "      <td>NaN</td>\n",
       "      <td>0.0</td>\n",
       "      <td>0</td>\n",
       "      <td>0</td>\n",
       "      <td>0.0</td>\n",
       "      <td>0.0</td>\n",
       "      <td>10.0</td>\n",
       "      <td>0</td>\n",
       "    </tr>\n",
       "    <tr>\n",
       "      <th>1</th>\n",
       "      <td>000007535c3f730efa9ea0b7ef1bd645</td>\n",
       "      <td>win8defender</td>\n",
       "      <td>1.1.14600.4</td>\n",
       "      <td>4.13.17134.1</td>\n",
       "      <td>1.263.48.0</td>\n",
       "      <td>0</td>\n",
       "      <td>7.0</td>\n",
       "      <td>0</td>\n",
       "      <td>NaN</td>\n",
       "      <td>53447.0</td>\n",
       "      <td>...</td>\n",
       "      <td>57858.0</td>\n",
       "      <td>0</td>\n",
       "      <td>NaN</td>\n",
       "      <td>0.0</td>\n",
       "      <td>0</td>\n",
       "      <td>0</td>\n",
       "      <td>0.0</td>\n",
       "      <td>0.0</td>\n",
       "      <td>8.0</td>\n",
       "      <td>0</td>\n",
       "    </tr>\n",
       "    <tr>\n",
       "      <th>2</th>\n",
       "      <td>000007905a28d863f6d0d597892cd692</td>\n",
       "      <td>win8defender</td>\n",
       "      <td>1.1.15100.1</td>\n",
       "      <td>4.18.1807.18075</td>\n",
       "      <td>1.273.1341.0</td>\n",
       "      <td>0</td>\n",
       "      <td>7.0</td>\n",
       "      <td>0</td>\n",
       "      <td>NaN</td>\n",
       "      <td>53447.0</td>\n",
       "      <td>...</td>\n",
       "      <td>52682.0</td>\n",
       "      <td>0</td>\n",
       "      <td>NaN</td>\n",
       "      <td>0.0</td>\n",
       "      <td>0</td>\n",
       "      <td>0</td>\n",
       "      <td>0.0</td>\n",
       "      <td>0.0</td>\n",
       "      <td>3.0</td>\n",
       "      <td>0</td>\n",
       "    </tr>\n",
       "    <tr>\n",
       "      <th>3</th>\n",
       "      <td>00000b11598a75ea8ba1beea8459149f</td>\n",
       "      <td>win8defender</td>\n",
       "      <td>1.1.15100.1</td>\n",
       "      <td>4.18.1807.18075</td>\n",
       "      <td>1.273.1527.0</td>\n",
       "      <td>0</td>\n",
       "      <td>7.0</td>\n",
       "      <td>0</td>\n",
       "      <td>NaN</td>\n",
       "      <td>53447.0</td>\n",
       "      <td>...</td>\n",
       "      <td>20050.0</td>\n",
       "      <td>0</td>\n",
       "      <td>NaN</td>\n",
       "      <td>0.0</td>\n",
       "      <td>0</td>\n",
       "      <td>0</td>\n",
       "      <td>0.0</td>\n",
       "      <td>0.0</td>\n",
       "      <td>3.0</td>\n",
       "      <td>1</td>\n",
       "    </tr>\n",
       "    <tr>\n",
       "      <th>4</th>\n",
       "      <td>000014a5f00daa18e76b81417eeb99fc</td>\n",
       "      <td>win8defender</td>\n",
       "      <td>1.1.15100.1</td>\n",
       "      <td>4.18.1807.18075</td>\n",
       "      <td>1.273.1379.0</td>\n",
       "      <td>0</td>\n",
       "      <td>7.0</td>\n",
       "      <td>0</td>\n",
       "      <td>NaN</td>\n",
       "      <td>53447.0</td>\n",
       "      <td>...</td>\n",
       "      <td>19844.0</td>\n",
       "      <td>0</td>\n",
       "      <td>0.0</td>\n",
       "      <td>0.0</td>\n",
       "      <td>0</td>\n",
       "      <td>0</td>\n",
       "      <td>0.0</td>\n",
       "      <td>0.0</td>\n",
       "      <td>1.0</td>\n",
       "      <td>1</td>\n",
       "    </tr>\n",
       "  </tbody>\n",
       "</table>\n",
       "<p>5 rows × 83 columns</p>\n",
       "</div>"
      ],
      "text/plain": [
       "                  MachineIdentifier   ProductName EngineVersion  \\\n",
       "0  0000028988387b115f69f31a3bf04f09  win8defender   1.1.15100.1   \n",
       "1  000007535c3f730efa9ea0b7ef1bd645  win8defender   1.1.14600.4   \n",
       "2  000007905a28d863f6d0d597892cd692  win8defender   1.1.15100.1   \n",
       "3  00000b11598a75ea8ba1beea8459149f  win8defender   1.1.15100.1   \n",
       "4  000014a5f00daa18e76b81417eeb99fc  win8defender   1.1.15100.1   \n",
       "\n",
       "        AppVersion  AvSigVersion  IsBeta  RtpStateBitfield  IsSxsPassiveMode  \\\n",
       "0  4.18.1807.18075  1.273.1735.0       0               7.0                 0   \n",
       "1     4.13.17134.1    1.263.48.0       0               7.0                 0   \n",
       "2  4.18.1807.18075  1.273.1341.0       0               7.0                 0   \n",
       "3  4.18.1807.18075  1.273.1527.0       0               7.0                 0   \n",
       "4  4.18.1807.18075  1.273.1379.0       0               7.0                 0   \n",
       "\n",
       "   DefaultBrowsersIdentifier  AVProductStatesIdentifier  ...  \\\n",
       "0                        NaN                    53447.0  ...   \n",
       "1                        NaN                    53447.0  ...   \n",
       "2                        NaN                    53447.0  ...   \n",
       "3                        NaN                    53447.0  ...   \n",
       "4                        NaN                    53447.0  ...   \n",
       "\n",
       "   Census_FirmwareVersionIdentifier  Census_IsSecureBootEnabled  \\\n",
       "0                           36144.0                           0   \n",
       "1                           57858.0                           0   \n",
       "2                           52682.0                           0   \n",
       "3                           20050.0                           0   \n",
       "4                           19844.0                           0   \n",
       "\n",
       "   Census_IsWIMBootEnabled  Census_IsVirtualDevice  Census_IsTouchEnabled  \\\n",
       "0                      NaN                     0.0                      0   \n",
       "1                      NaN                     0.0                      0   \n",
       "2                      NaN                     0.0                      0   \n",
       "3                      NaN                     0.0                      0   \n",
       "4                      0.0                     0.0                      0   \n",
       "\n",
       "   Census_IsPenCapable  Census_IsAlwaysOnAlwaysConnectedCapable  Wdft_IsGamer  \\\n",
       "0                    0                                      0.0           0.0   \n",
       "1                    0                                      0.0           0.0   \n",
       "2                    0                                      0.0           0.0   \n",
       "3                    0                                      0.0           0.0   \n",
       "4                    0                                      0.0           0.0   \n",
       "\n",
       "  Wdft_RegionIdentifier HasDetections  \n",
       "0                  10.0             0  \n",
       "1                   8.0             0  \n",
       "2                   3.0             0  \n",
       "3                   3.0             1  \n",
       "4                   1.0             1  \n",
       "\n",
       "[5 rows x 83 columns]"
      ]
     },
     "execution_count": 3,
     "metadata": {},
     "output_type": "execute_result"
    }
   ],
   "source": [
    "data.head() "
   ]
  },
  {
   "cell_type": "code",
   "execution_count": 4,
   "id": "5c6c98b9-27c2-4dea-8b38-ded726619cae",
   "metadata": {},
   "outputs": [
    {
     "data": {
      "text/plain": [
       "(200000, 83)"
      ]
     },
     "execution_count": 4,
     "metadata": {},
     "output_type": "execute_result"
    }
   ],
   "source": [
    "data.shape"
   ]
  },
  {
   "cell_type": "code",
   "execution_count": 5,
   "id": "316a994a-0afc-4851-a22d-2128c28c7b65",
   "metadata": {},
   "outputs": [
    {
     "name": "stdout",
     "output_type": "stream",
     "text": [
      "<class 'pandas.core.frame.DataFrame'>\n",
      "RangeIndex: 200000 entries, 0 to 199999\n",
      "Data columns (total 83 columns):\n",
      " #   Column                                             Non-Null Count   Dtype  \n",
      "---  ------                                             --------------   -----  \n",
      " 0   MachineIdentifier                                  200000 non-null  object \n",
      " 1   ProductName                                        200000 non-null  object \n",
      " 2   EngineVersion                                      200000 non-null  object \n",
      " 3   AppVersion                                         200000 non-null  object \n",
      " 4   AvSigVersion                                       200000 non-null  object \n",
      " 5   IsBeta                                             200000 non-null  int64  \n",
      " 6   RtpStateBitfield                                   199236 non-null  float64\n",
      " 7   IsSxsPassiveMode                                   200000 non-null  int64  \n",
      " 8   DefaultBrowsersIdentifier                          9703 non-null    float64\n",
      " 9   AVProductStatesIdentifier                          199196 non-null  float64\n",
      " 10  AVProductsInstalled                                199196 non-null  float64\n",
      " 11  AVProductsEnabled                                  199196 non-null  float64\n",
      " 12  HasTpm                                             200000 non-null  int64  \n",
      " 13  CountryIdentifier                                  200000 non-null  int64  \n",
      " 14  CityIdentifier                                     192785 non-null  float64\n",
      " 15  OrganizationIdentifier                             138463 non-null  float64\n",
      " 16  GeoNameIdentifier                                  199999 non-null  float64\n",
      " 17  LocaleEnglishNameIdentifier                        200000 non-null  int64  \n",
      " 18  Platform                                           200000 non-null  object \n",
      " 19  Processor                                          200000 non-null  object \n",
      " 20  OsVer                                              200000 non-null  object \n",
      " 21  OsBuild                                            200000 non-null  int64  \n",
      " 22  OsSuite                                            200000 non-null  int64  \n",
      " 23  OsPlatformSubRelease                               200000 non-null  object \n",
      " 24  OsBuildLab                                         199999 non-null  object \n",
      " 25  SkuEdition                                         200000 non-null  object \n",
      " 26  IsProtected                                        199201 non-null  float64\n",
      " 27  AutoSampleOptIn                                    200000 non-null  int64  \n",
      " 28  PuaMode                                            53 non-null      object \n",
      " 29  SMode                                              188137 non-null  float64\n",
      " 30  IeVerIdentifier                                    198638 non-null  float64\n",
      " 31  SmartScreen                                        128877 non-null  object \n",
      " 32  Firewall                                           197922 non-null  float64\n",
      " 33  UacLuaenable                                       199752 non-null  float64\n",
      " 34  Census_MDC2FormFactor                              200000 non-null  object \n",
      " 35  Census_DeviceFamily                                200000 non-null  object \n",
      " 36  Census_OEMNameIdentifier                           197918 non-null  float64\n",
      " 37  Census_OEMModelIdentifier                          197755 non-null  float64\n",
      " 38  Census_ProcessorCoreCount                          199078 non-null  float64\n",
      " 39  Census_ProcessorManufacturerIdentifier             199078 non-null  float64\n",
      " 40  Census_ProcessorModelIdentifier                    199077 non-null  float64\n",
      " 41  Census_ProcessorClass                              873 non-null     object \n",
      " 42  Census_PrimaryDiskTotalCapacity                    198827 non-null  float64\n",
      " 43  Census_PrimaryDiskTypeName                         199708 non-null  object \n",
      " 44  Census_SystemVolumeTotalCapacity                   198827 non-null  float64\n",
      " 45  Census_HasOpticalDiskDrive                         200000 non-null  int64  \n",
      " 46  Census_TotalPhysicalRAM                            198178 non-null  float64\n",
      " 47  Census_ChassisTypeName                             199991 non-null  object \n",
      " 48  Census_InternalPrimaryDiagonalDisplaySizeInInches  198889 non-null  float64\n",
      " 49  Census_InternalPrimaryDisplayResolutionHorizontal  198891 non-null  float64\n",
      " 50  Census_InternalPrimaryDisplayResolutionVertical    198891 non-null  float64\n",
      " 51  Census_PowerPlatformRoleName                       200000 non-null  object \n",
      " 52  Census_InternalBatteryType                         57912 non-null   object \n",
      " 53  Census_InternalBatteryNumberOfCharges              193935 non-null  float64\n",
      " 54  Census_OSVersion                                   200000 non-null  object \n",
      " 55  Census_OSArchitecture                              200000 non-null  object \n",
      " 56  Census_OSBranch                                    200000 non-null  object \n",
      " 57  Census_OSBuildNumber                               200000 non-null  int64  \n",
      " 58  Census_OSBuildRevision                             200000 non-null  int64  \n",
      " 59  Census_OSEdition                                   200000 non-null  object \n",
      " 60  Census_OSSkuName                                   200000 non-null  object \n",
      " 61  Census_OSInstallTypeName                           200000 non-null  object \n",
      " 62  Census_OSInstallLanguageIdentifier                 198669 non-null  float64\n",
      " 63  Census_OSUILocaleIdentifier                        200000 non-null  int64  \n",
      " 64  Census_OSWUAutoUpdateOptionsName                   200000 non-null  object \n",
      " 65  Census_IsPortableOperatingSystem                   200000 non-null  int64  \n",
      " 66  Census_GenuineStateName                            200000 non-null  object \n",
      " 67  Census_ActivationChannel                           200000 non-null  object \n",
      " 68  Census_IsFlightingInternal                         33932 non-null   float64\n",
      " 69  Census_IsFlightsDisabled                           196459 non-null  float64\n",
      " 70  Census_FlightRing                                  200000 non-null  object \n",
      " 71  Census_ThresholdOptIn                              72992 non-null   float64\n",
      " 72  Census_FirmwareManufacturerIdentifier              195899 non-null  float64\n",
      " 73  Census_FirmwareVersionIdentifier                   196414 non-null  float64\n",
      " 74  Census_IsSecureBootEnabled                         200000 non-null  int64  \n",
      " 75  Census_IsWIMBootEnabled                            73161 non-null   float64\n",
      " 76  Census_IsVirtualDevice                             199652 non-null  float64\n",
      " 77  Census_IsTouchEnabled                              200000 non-null  int64  \n",
      " 78  Census_IsPenCapable                                200000 non-null  int64  \n",
      " 79  Census_IsAlwaysOnAlwaysConnectedCapable            198379 non-null  float64\n",
      " 80  Wdft_IsGamer                                       193263 non-null  float64\n",
      " 81  Wdft_RegionIdentifier                              193263 non-null  float64\n",
      " 82  HasDetections                                      200000 non-null  int64  \n",
      "dtypes: float64(36), int64(17), object(30)\n",
      "memory usage: 126.6+ MB\n"
     ]
    }
   ],
   "source": [
    "data.info()"
   ]
  },
  {
   "cell_type": "markdown",
   "id": "54372a63-0de8-4ad6-b8ab-24577a168866",
   "metadata": {},
   "source": [
    "### Task 2"
   ]
  },
  {
   "cell_type": "markdown",
   "id": "167a774a-2abb-48aa-8010-64968fe0181f",
   "metadata": {},
   "source": [
    "Remove constant features (columns having only one unique value) and also remove columns `ProductName`, `MachineIdentifier`."
   ]
  },
  {
   "cell_type": "code",
   "execution_count": 6,
   "id": "207cc62a-ec9c-4aad-935b-543d3fdb9050",
   "metadata": {},
   "outputs": [],
   "source": [
    "numeric_columns = data.loc[:,data.dtypes!='object'].columns"
   ]
  },
  {
   "cell_type": "code",
   "execution_count": 7,
   "id": "5929afbc-4649-4b85-96ef-86780fae4c03",
   "metadata": {},
   "outputs": [],
   "source": [
    "const_columns = []\n",
    "\n",
    "for col in numeric_columns:\n",
    "    if data[col].nunique() == 1:\n",
    "        const_columns.append(col)"
   ]
  },
  {
   "cell_type": "code",
   "execution_count": 8,
   "id": "7246fedd-162b-4a2c-8c55-d88bdf2e9a4e",
   "metadata": {},
   "outputs": [],
   "source": [
    "const_columns.extend(['ProductName', 'MachineIdentifier'])"
   ]
  },
  {
   "cell_type": "code",
   "execution_count": 9,
   "id": "3647a35f-0e6b-4b70-b0fe-c1de15342423",
   "metadata": {},
   "outputs": [
    {
     "data": {
      "text/plain": [
       "['IsBeta', 'Census_IsWIMBootEnabled', 'ProductName', 'MachineIdentifier']"
      ]
     },
     "execution_count": 9,
     "metadata": {},
     "output_type": "execute_result"
    }
   ],
   "source": [
    "const_columns"
   ]
  },
  {
   "cell_type": "code",
   "execution_count": 10,
   "id": "4c53d531-1d32-470a-8ec2-4997796a0512",
   "metadata": {},
   "outputs": [],
   "source": [
    "data.drop(const_columns, axis=1, inplace=True)"
   ]
  },
  {
   "cell_type": "code",
   "execution_count": 11,
   "id": "6aa13224-7d08-450d-a6e1-332a0b5b3f72",
   "metadata": {},
   "outputs": [
    {
     "data": {
      "text/plain": [
       "(200000, 79)"
      ]
     },
     "execution_count": 11,
     "metadata": {},
     "output_type": "execute_result"
    }
   ],
   "source": [
    "data.shape"
   ]
  },
  {
   "cell_type": "markdown",
   "id": "56015b10-4f8d-4630-823c-ef0b5a9e5ebd",
   "metadata": {},
   "source": [
    "### Task 3"
   ]
  },
  {
   "cell_type": "markdown",
   "id": "b24dd3a9-722b-4ad7-b1bc-b0c0f34707de",
   "metadata": {},
   "source": [
    "Check target class balance."
   ]
  },
  {
   "cell_type": "code",
   "execution_count": 12,
   "id": "8981c7c6-e60d-482c-a091-fcbb873c67c3",
   "metadata": {},
   "outputs": [
    {
     "name": "stdout",
     "output_type": "stream",
     "text": [
      "100060 - positive class,\n",
      "99940 - negative class\n"
     ]
    }
   ],
   "source": [
    "print(sum(data['HasDetections'] == 1), '- positive class,')\n",
    "print(sum(data['HasDetections'] == 0), '- negative class')"
   ]
  },
  {
   "cell_type": "markdown",
   "id": "6d83296a-37e6-483f-9f44-d194b5295f03",
   "metadata": {},
   "source": [
    "### Task 4"
   ]
  },
  {
   "cell_type": "markdown",
   "id": "f675c57b-a160-48c7-8e17-072d6be3213d",
   "metadata": {},
   "source": [
    "Get rid of columns that have more than half of missing values."
   ]
  },
  {
   "cell_type": "code",
   "execution_count": 13,
   "id": "47bc219a-a2f1-41d2-9806-a658211dc99b",
   "metadata": {},
   "outputs": [],
   "source": [
    "columns = data.columns"
   ]
  },
  {
   "cell_type": "code",
   "execution_count": 14,
   "id": "21a57f80-ab9a-419d-9faf-4112de9f4458",
   "metadata": {},
   "outputs": [],
   "source": [
    "empty_columns = []\n",
    "\n",
    "for col in columns:\n",
    "    if data[col].isna().sum() > data.shape[0] / 2:\n",
    "        empty_columns.append(col)"
   ]
  },
  {
   "cell_type": "code",
   "execution_count": 15,
   "id": "288add5f-1326-49c5-bae6-299863fa7537",
   "metadata": {},
   "outputs": [
    {
     "data": {
      "text/plain": [
       "['DefaultBrowsersIdentifier',\n",
       " 'PuaMode',\n",
       " 'Census_ProcessorClass',\n",
       " 'Census_InternalBatteryType',\n",
       " 'Census_IsFlightingInternal',\n",
       " 'Census_ThresholdOptIn']"
      ]
     },
     "execution_count": 15,
     "metadata": {},
     "output_type": "execute_result"
    }
   ],
   "source": [
    "empty_columns"
   ]
  },
  {
   "cell_type": "code",
   "execution_count": 16,
   "id": "b41c9eb0-8ff7-4693-ae89-ebc7b65246f9",
   "metadata": {},
   "outputs": [],
   "source": [
    "data.drop(empty_columns, axis=1, inplace=True)"
   ]
  },
  {
   "cell_type": "code",
   "execution_count": 17,
   "id": "1f1e819b-4aa6-476f-ab91-cc1e1b7ee783",
   "metadata": {},
   "outputs": [
    {
     "data": {
      "text/plain": [
       "(200000, 73)"
      ]
     },
     "execution_count": 17,
     "metadata": {},
     "output_type": "execute_result"
    }
   ],
   "source": [
    "data.shape"
   ]
  },
  {
   "cell_type": "markdown",
   "id": "4868e0a2-a3a5-41f9-8488-b2373947bc3e",
   "metadata": {},
   "source": [
    "### Task 5"
   ]
  },
  {
   "cell_type": "markdown",
   "id": "4e5db748-292f-4de2-944f-6c84876727d9",
   "metadata": {},
   "source": [
    "Replace missing values in categorical columns with a string 'NaN'."
   ]
  },
  {
   "cell_type": "code",
   "execution_count": 18,
   "id": "872f65b8-1eed-45f7-92da-25ba79fc8fcb",
   "metadata": {},
   "outputs": [],
   "source": [
    "categorical_columns = data.loc[:,data.dtypes=='object'].columns"
   ]
  },
  {
   "cell_type": "code",
   "execution_count": 19,
   "id": "cbc0ea8c-66d4-4d82-ac12-cc7cca1634bb",
   "metadata": {},
   "outputs": [],
   "source": [
    "for col in categorical_columns:\n",
    "    data[col].fillna('NaN', inplace=True)"
   ]
  },
  {
   "cell_type": "markdown",
   "id": "3d2f3ed4-0ac3-4b81-a890-8b156dd83054",
   "metadata": {},
   "source": [
    "### Task 6"
   ]
  },
  {
   "cell_type": "markdown",
   "id": "1c2e40a1-2c04-4616-ac55-f6105aec7228",
   "metadata": {},
   "source": [
    "Replace missing values in numerical columns with median values."
   ]
  },
  {
   "cell_type": "code",
   "execution_count": 20,
   "id": "cd322684-a5c7-4a7f-a163-8345f8da1e2c",
   "metadata": {},
   "outputs": [],
   "source": [
    "numeric_columns = data.loc[:,data.dtypes!='object'].columns"
   ]
  },
  {
   "cell_type": "code",
   "execution_count": 21,
   "id": "91161450-06ae-4fbb-a5b7-6395fcb941e5",
   "metadata": {},
   "outputs": [],
   "source": [
    "for col in numeric_columns:\n",
    "    data[col].fillna(data[col].median(), inplace=True)"
   ]
  },
  {
   "cell_type": "code",
   "execution_count": 22,
   "id": "f7c88c78-e4f2-43fe-84f1-591ced886057",
   "metadata": {},
   "outputs": [
    {
     "name": "stdout",
     "output_type": "stream",
     "text": [
      "<class 'pandas.core.frame.DataFrame'>\n",
      "RangeIndex: 200000 entries, 0 to 199999\n",
      "Data columns (total 73 columns):\n",
      " #   Column                                             Non-Null Count   Dtype  \n",
      "---  ------                                             --------------   -----  \n",
      " 0   EngineVersion                                      200000 non-null  object \n",
      " 1   AppVersion                                         200000 non-null  object \n",
      " 2   AvSigVersion                                       200000 non-null  object \n",
      " 3   RtpStateBitfield                                   200000 non-null  float64\n",
      " 4   IsSxsPassiveMode                                   200000 non-null  int64  \n",
      " 5   AVProductStatesIdentifier                          200000 non-null  float64\n",
      " 6   AVProductsInstalled                                200000 non-null  float64\n",
      " 7   AVProductsEnabled                                  200000 non-null  float64\n",
      " 8   HasTpm                                             200000 non-null  int64  \n",
      " 9   CountryIdentifier                                  200000 non-null  int64  \n",
      " 10  CityIdentifier                                     200000 non-null  float64\n",
      " 11  OrganizationIdentifier                             200000 non-null  float64\n",
      " 12  GeoNameIdentifier                                  200000 non-null  float64\n",
      " 13  LocaleEnglishNameIdentifier                        200000 non-null  int64  \n",
      " 14  Platform                                           200000 non-null  object \n",
      " 15  Processor                                          200000 non-null  object \n",
      " 16  OsVer                                              200000 non-null  object \n",
      " 17  OsBuild                                            200000 non-null  int64  \n",
      " 18  OsSuite                                            200000 non-null  int64  \n",
      " 19  OsPlatformSubRelease                               200000 non-null  object \n",
      " 20  OsBuildLab                                         200000 non-null  object \n",
      " 21  SkuEdition                                         200000 non-null  object \n",
      " 22  IsProtected                                        200000 non-null  float64\n",
      " 23  AutoSampleOptIn                                    200000 non-null  int64  \n",
      " 24  SMode                                              200000 non-null  float64\n",
      " 25  IeVerIdentifier                                    200000 non-null  float64\n",
      " 26  SmartScreen                                        200000 non-null  object \n",
      " 27  Firewall                                           200000 non-null  float64\n",
      " 28  UacLuaenable                                       200000 non-null  float64\n",
      " 29  Census_MDC2FormFactor                              200000 non-null  object \n",
      " 30  Census_DeviceFamily                                200000 non-null  object \n",
      " 31  Census_OEMNameIdentifier                           200000 non-null  float64\n",
      " 32  Census_OEMModelIdentifier                          200000 non-null  float64\n",
      " 33  Census_ProcessorCoreCount                          200000 non-null  float64\n",
      " 34  Census_ProcessorManufacturerIdentifier             200000 non-null  float64\n",
      " 35  Census_ProcessorModelIdentifier                    200000 non-null  float64\n",
      " 36  Census_PrimaryDiskTotalCapacity                    200000 non-null  float64\n",
      " 37  Census_PrimaryDiskTypeName                         200000 non-null  object \n",
      " 38  Census_SystemVolumeTotalCapacity                   200000 non-null  float64\n",
      " 39  Census_HasOpticalDiskDrive                         200000 non-null  int64  \n",
      " 40  Census_TotalPhysicalRAM                            200000 non-null  float64\n",
      " 41  Census_ChassisTypeName                             200000 non-null  object \n",
      " 42  Census_InternalPrimaryDiagonalDisplaySizeInInches  200000 non-null  float64\n",
      " 43  Census_InternalPrimaryDisplayResolutionHorizontal  200000 non-null  float64\n",
      " 44  Census_InternalPrimaryDisplayResolutionVertical    200000 non-null  float64\n",
      " 45  Census_PowerPlatformRoleName                       200000 non-null  object \n",
      " 46  Census_InternalBatteryNumberOfCharges              200000 non-null  float64\n",
      " 47  Census_OSVersion                                   200000 non-null  object \n",
      " 48  Census_OSArchitecture                              200000 non-null  object \n",
      " 49  Census_OSBranch                                    200000 non-null  object \n",
      " 50  Census_OSBuildNumber                               200000 non-null  int64  \n",
      " 51  Census_OSBuildRevision                             200000 non-null  int64  \n",
      " 52  Census_OSEdition                                   200000 non-null  object \n",
      " 53  Census_OSSkuName                                   200000 non-null  object \n",
      " 54  Census_OSInstallTypeName                           200000 non-null  object \n",
      " 55  Census_OSInstallLanguageIdentifier                 200000 non-null  float64\n",
      " 56  Census_OSUILocaleIdentifier                        200000 non-null  int64  \n",
      " 57  Census_OSWUAutoUpdateOptionsName                   200000 non-null  object \n",
      " 58  Census_IsPortableOperatingSystem                   200000 non-null  int64  \n",
      " 59  Census_GenuineStateName                            200000 non-null  object \n",
      " 60  Census_ActivationChannel                           200000 non-null  object \n",
      " 61  Census_IsFlightsDisabled                           200000 non-null  float64\n",
      " 62  Census_FlightRing                                  200000 non-null  object \n",
      " 63  Census_FirmwareManufacturerIdentifier              200000 non-null  float64\n",
      " 64  Census_FirmwareVersionIdentifier                   200000 non-null  float64\n",
      " 65  Census_IsSecureBootEnabled                         200000 non-null  int64  \n",
      " 66  Census_IsVirtualDevice                             200000 non-null  float64\n",
      " 67  Census_IsTouchEnabled                              200000 non-null  int64  \n",
      " 68  Census_IsPenCapable                                200000 non-null  int64  \n",
      " 69  Census_IsAlwaysOnAlwaysConnectedCapable            200000 non-null  float64\n",
      " 70  Wdft_IsGamer                                       200000 non-null  float64\n",
      " 71  Wdft_RegionIdentifier                              200000 non-null  float64\n",
      " 72  HasDetections                                      200000 non-null  int64  \n",
      "dtypes: float64(32), int64(16), object(25)\n",
      "memory usage: 111.4+ MB\n"
     ]
    }
   ],
   "source": [
    "data.info()"
   ]
  },
  {
   "cell_type": "markdown",
   "id": "ee167b03-e519-4c6d-aa38-353edb3d3a17",
   "metadata": {},
   "source": [
    "### Task 7"
   ]
  },
  {
   "cell_type": "markdown",
   "id": "3d600ba2-306d-4235-aeb4-356fbd570b0c",
   "metadata": {},
   "source": [
    "Create a copy of dataset into `data_2` variable."
   ]
  },
  {
   "cell_type": "code",
   "execution_count": 23,
   "id": "a3de465a-380d-4e5c-a67d-d3e30451a11a",
   "metadata": {},
   "outputs": [],
   "source": [
    "data_2 = data.copy(deep=True)"
   ]
  },
  {
   "cell_type": "markdown",
   "id": "17e1043c-1473-49f0-a276-063440618c81",
   "metadata": {},
   "source": [
    "### Task 8. "
   ]
  },
  {
   "cell_type": "markdown",
   "id": "7a1501fe-3602-4fc9-991b-fa6fa4659342",
   "metadata": {},
   "source": [
    "Apply OneHotEncoding technique for all categorical columns."
   ]
  },
  {
   "cell_type": "code",
   "execution_count": 24,
   "id": "0f269380-9901-4261-a28f-431b5dc24ef2",
   "metadata": {},
   "outputs": [],
   "source": [
    "for col in categorical_columns:\n",
    "    ohe = pd.get_dummies(data_2[col], prefix=col, drop_first=True)\n",
    "    data_2 = pd.concat((data_2.drop(col, axis=1), ohe), axis=1)"
   ]
  },
  {
   "cell_type": "code",
   "execution_count": 25,
   "id": "e33c07b6-b3c4-4cf9-bea8-1e8125b5bed2",
   "metadata": {},
   "outputs": [
    {
     "data": {
      "text/plain": [
       "(200000, 6114)"
      ]
     },
     "execution_count": 25,
     "metadata": {},
     "output_type": "execute_result"
    }
   ],
   "source": [
    "data_2.shape"
   ]
  },
  {
   "cell_type": "code",
   "execution_count": 26,
   "id": "a6651e45-333a-4bec-ae8a-65c4948a6a92",
   "metadata": {},
   "outputs": [
    {
     "data": {
      "text/html": [
       "<div>\n",
       "<style scoped>\n",
       "    .dataframe tbody tr th:only-of-type {\n",
       "        vertical-align: middle;\n",
       "    }\n",
       "\n",
       "    .dataframe tbody tr th {\n",
       "        vertical-align: top;\n",
       "    }\n",
       "\n",
       "    .dataframe thead th {\n",
       "        text-align: right;\n",
       "    }\n",
       "</style>\n",
       "<table border=\"1\" class=\"dataframe\">\n",
       "  <thead>\n",
       "    <tr style=\"text-align: right;\">\n",
       "      <th></th>\n",
       "      <th>RtpStateBitfield</th>\n",
       "      <th>IsSxsPassiveMode</th>\n",
       "      <th>AVProductStatesIdentifier</th>\n",
       "      <th>AVProductsInstalled</th>\n",
       "      <th>AVProductsEnabled</th>\n",
       "      <th>HasTpm</th>\n",
       "      <th>CountryIdentifier</th>\n",
       "      <th>CityIdentifier</th>\n",
       "      <th>OrganizationIdentifier</th>\n",
       "      <th>GeoNameIdentifier</th>\n",
       "      <th>...</th>\n",
       "      <th>Census_ActivationChannel_Retail</th>\n",
       "      <th>Census_ActivationChannel_Retail:TB:Eval</th>\n",
       "      <th>Census_ActivationChannel_Volume:GVLK</th>\n",
       "      <th>Census_ActivationChannel_Volume:MAK</th>\n",
       "      <th>Census_FlightRing_NOT_SET</th>\n",
       "      <th>Census_FlightRing_RP</th>\n",
       "      <th>Census_FlightRing_Retail</th>\n",
       "      <th>Census_FlightRing_Unknown</th>\n",
       "      <th>Census_FlightRing_WIF</th>\n",
       "      <th>Census_FlightRing_WIS</th>\n",
       "    </tr>\n",
       "  </thead>\n",
       "  <tbody>\n",
       "    <tr>\n",
       "      <th>0</th>\n",
       "      <td>7.0</td>\n",
       "      <td>0</td>\n",
       "      <td>53447.0</td>\n",
       "      <td>1.0</td>\n",
       "      <td>1.0</td>\n",
       "      <td>1</td>\n",
       "      <td>29</td>\n",
       "      <td>128035.0</td>\n",
       "      <td>18.0</td>\n",
       "      <td>35.0</td>\n",
       "      <td>...</td>\n",
       "      <td>1</td>\n",
       "      <td>0</td>\n",
       "      <td>0</td>\n",
       "      <td>0</td>\n",
       "      <td>0</td>\n",
       "      <td>0</td>\n",
       "      <td>1</td>\n",
       "      <td>0</td>\n",
       "      <td>0</td>\n",
       "      <td>0</td>\n",
       "    </tr>\n",
       "    <tr>\n",
       "      <th>1</th>\n",
       "      <td>7.0</td>\n",
       "      <td>0</td>\n",
       "      <td>53447.0</td>\n",
       "      <td>1.0</td>\n",
       "      <td>1.0</td>\n",
       "      <td>1</td>\n",
       "      <td>93</td>\n",
       "      <td>1482.0</td>\n",
       "      <td>18.0</td>\n",
       "      <td>119.0</td>\n",
       "      <td>...</td>\n",
       "      <td>1</td>\n",
       "      <td>0</td>\n",
       "      <td>0</td>\n",
       "      <td>0</td>\n",
       "      <td>1</td>\n",
       "      <td>0</td>\n",
       "      <td>0</td>\n",
       "      <td>0</td>\n",
       "      <td>0</td>\n",
       "      <td>0</td>\n",
       "    </tr>\n",
       "    <tr>\n",
       "      <th>2</th>\n",
       "      <td>7.0</td>\n",
       "      <td>0</td>\n",
       "      <td>53447.0</td>\n",
       "      <td>1.0</td>\n",
       "      <td>1.0</td>\n",
       "      <td>1</td>\n",
       "      <td>86</td>\n",
       "      <td>153579.0</td>\n",
       "      <td>18.0</td>\n",
       "      <td>64.0</td>\n",
       "      <td>...</td>\n",
       "      <td>0</td>\n",
       "      <td>0</td>\n",
       "      <td>0</td>\n",
       "      <td>0</td>\n",
       "      <td>0</td>\n",
       "      <td>0</td>\n",
       "      <td>1</td>\n",
       "      <td>0</td>\n",
       "      <td>0</td>\n",
       "      <td>0</td>\n",
       "    </tr>\n",
       "    <tr>\n",
       "      <th>3</th>\n",
       "      <td>7.0</td>\n",
       "      <td>0</td>\n",
       "      <td>53447.0</td>\n",
       "      <td>1.0</td>\n",
       "      <td>1.0</td>\n",
       "      <td>1</td>\n",
       "      <td>88</td>\n",
       "      <td>20710.0</td>\n",
       "      <td>27.0</td>\n",
       "      <td>117.0</td>\n",
       "      <td>...</td>\n",
       "      <td>0</td>\n",
       "      <td>0</td>\n",
       "      <td>0</td>\n",
       "      <td>0</td>\n",
       "      <td>0</td>\n",
       "      <td>0</td>\n",
       "      <td>1</td>\n",
       "      <td>0</td>\n",
       "      <td>0</td>\n",
       "      <td>0</td>\n",
       "    </tr>\n",
       "    <tr>\n",
       "      <th>4</th>\n",
       "      <td>7.0</td>\n",
       "      <td>0</td>\n",
       "      <td>53447.0</td>\n",
       "      <td>1.0</td>\n",
       "      <td>1.0</td>\n",
       "      <td>1</td>\n",
       "      <td>18</td>\n",
       "      <td>37376.0</td>\n",
       "      <td>27.0</td>\n",
       "      <td>277.0</td>\n",
       "      <td>...</td>\n",
       "      <td>1</td>\n",
       "      <td>0</td>\n",
       "      <td>0</td>\n",
       "      <td>0</td>\n",
       "      <td>0</td>\n",
       "      <td>0</td>\n",
       "      <td>1</td>\n",
       "      <td>0</td>\n",
       "      <td>0</td>\n",
       "      <td>0</td>\n",
       "    </tr>\n",
       "  </tbody>\n",
       "</table>\n",
       "<p>5 rows × 6114 columns</p>\n",
       "</div>"
      ],
      "text/plain": [
       "   RtpStateBitfield  IsSxsPassiveMode  AVProductStatesIdentifier  \\\n",
       "0               7.0                 0                    53447.0   \n",
       "1               7.0                 0                    53447.0   \n",
       "2               7.0                 0                    53447.0   \n",
       "3               7.0                 0                    53447.0   \n",
       "4               7.0                 0                    53447.0   \n",
       "\n",
       "   AVProductsInstalled  AVProductsEnabled  HasTpm  CountryIdentifier  \\\n",
       "0                  1.0                1.0       1                 29   \n",
       "1                  1.0                1.0       1                 93   \n",
       "2                  1.0                1.0       1                 86   \n",
       "3                  1.0                1.0       1                 88   \n",
       "4                  1.0                1.0       1                 18   \n",
       "\n",
       "   CityIdentifier  OrganizationIdentifier  GeoNameIdentifier  ...  \\\n",
       "0        128035.0                    18.0               35.0  ...   \n",
       "1          1482.0                    18.0              119.0  ...   \n",
       "2        153579.0                    18.0               64.0  ...   \n",
       "3         20710.0                    27.0              117.0  ...   \n",
       "4         37376.0                    27.0              277.0  ...   \n",
       "\n",
       "   Census_ActivationChannel_Retail  Census_ActivationChannel_Retail:TB:Eval  \\\n",
       "0                                1                                        0   \n",
       "1                                1                                        0   \n",
       "2                                0                                        0   \n",
       "3                                0                                        0   \n",
       "4                                1                                        0   \n",
       "\n",
       "   Census_ActivationChannel_Volume:GVLK  Census_ActivationChannel_Volume:MAK  \\\n",
       "0                                     0                                    0   \n",
       "1                                     0                                    0   \n",
       "2                                     0                                    0   \n",
       "3                                     0                                    0   \n",
       "4                                     0                                    0   \n",
       "\n",
       "   Census_FlightRing_NOT_SET  Census_FlightRing_RP  Census_FlightRing_Retail  \\\n",
       "0                          0                     0                         1   \n",
       "1                          1                     0                         0   \n",
       "2                          0                     0                         1   \n",
       "3                          0                     0                         1   \n",
       "4                          0                     0                         1   \n",
       "\n",
       "   Census_FlightRing_Unknown  Census_FlightRing_WIF  Census_FlightRing_WIS  \n",
       "0                          0                      0                      0  \n",
       "1                          0                      0                      0  \n",
       "2                          0                      0                      0  \n",
       "3                          0                      0                      0  \n",
       "4                          0                      0                      0  \n",
       "\n",
       "[5 rows x 6114 columns]"
      ]
     },
     "execution_count": 26,
     "metadata": {},
     "output_type": "execute_result"
    }
   ],
   "source": [
    "data_2.head(5)"
   ]
  },
  {
   "cell_type": "markdown",
   "id": "4316ac3b-4151-4172-b20e-292e745ba229",
   "metadata": {},
   "source": [
    "### Task 9. "
   ]
  },
  {
   "cell_type": "markdown",
   "id": "1fdaef14-244f-439a-8250-98f874677673",
   "metadata": {},
   "source": [
    "Split data on train and test samples in proportion 3:1. "
   ]
  },
  {
   "cell_type": "code",
   "execution_count": null,
   "id": "aa3d22b2-ee86-4bc0-9e68-90454297ebca",
   "metadata": {},
   "outputs": [],
   "source": [
    "from sklearn.model_selection import train_test_split \n",
    "\n",
    "\n",
    "X = data_2.drop(columns=['HasDetections'])\n",
    "y = data_2['HasDetections']\n",
    "\n",
    "X_train, X_test, y_train, y_test = train_test_split(X, y,\n",
    "                                                    test_size=0.25,\n",
    "                                                    shuffle=True,\n",
    "                                                    random_state=1)"
   ]
  },
  {
   "cell_type": "markdown",
   "id": "bbcf59dc-234d-42f3-ac04-846207e09308",
   "metadata": {},
   "source": [
    "Kernel is dying and is not able to split data on train and test. Our dataset is too huge because of applying OneHotEncoding to each and every categorical column."
   ]
  },
  {
   "cell_type": "markdown",
   "id": "5ec6f3a4-18d3-418d-8c70-3b58b542a503",
   "metadata": {},
   "source": [
    "### Task 10. "
   ]
  },
  {
   "cell_type": "markdown",
   "id": "b20c9e7a-2415-4be5-99cf-5656395af71d",
   "metadata": {},
   "source": [
    "Use MeanTargetEncoding technique for columns having more than 5 unique values. For other columns continue applying OneHotEncoding technique."
   ]
  },
  {
   "cell_type": "code",
   "execution_count": 27,
   "id": "46d8caec-7faf-40a2-8404-71d3ae4a8db8",
   "metadata": {},
   "outputs": [],
   "source": [
    "data_3 = data.copy(deep=True)"
   ]
  },
  {
   "cell_type": "code",
   "execution_count": 28,
   "id": "c78d1cfe-215a-480f-8ae0-d533c3127be3",
   "metadata": {},
   "outputs": [],
   "source": [
    "for col in categorical_columns:\n",
    "    if data_3[col].nunique() < 5:\n",
    "        ohe = pd.get_dummies(data_3[col], prefix=col, drop_first=True)\n",
    "        data_3 = pd.concat((data_3.drop(col, axis=1), ohe), axis=1)\n",
    "    else:\n",
    "        mean_target = data_3.groupby(col)['HasDetections'].mean()\n",
    "        data_3[col] = data_3[col].map(mean_target)"
   ]
  },
  {
   "cell_type": "code",
   "execution_count": 29,
   "id": "92c47f8c-b524-4dd8-8e21-484247bfa290",
   "metadata": {},
   "outputs": [
    {
     "data": {
      "text/plain": [
       "(200000, 79)"
      ]
     },
     "execution_count": 29,
     "metadata": {},
     "output_type": "execute_result"
    }
   ],
   "source": [
    "data_3.shape"
   ]
  },
  {
   "cell_type": "code",
   "execution_count": 30,
   "id": "f9a2912a-ae87-4405-86ce-91a089c26c6e",
   "metadata": {},
   "outputs": [
    {
     "data": {
      "text/html": [
       "<div>\n",
       "<style scoped>\n",
       "    .dataframe tbody tr th:only-of-type {\n",
       "        vertical-align: middle;\n",
       "    }\n",
       "\n",
       "    .dataframe tbody tr th {\n",
       "        vertical-align: top;\n",
       "    }\n",
       "\n",
       "    .dataframe thead th {\n",
       "        text-align: right;\n",
       "    }\n",
       "</style>\n",
       "<table border=\"1\" class=\"dataframe\">\n",
       "  <thead>\n",
       "    <tr style=\"text-align: right;\">\n",
       "      <th></th>\n",
       "      <th>EngineVersion</th>\n",
       "      <th>AppVersion</th>\n",
       "      <th>AvSigVersion</th>\n",
       "      <th>RtpStateBitfield</th>\n",
       "      <th>IsSxsPassiveMode</th>\n",
       "      <th>AVProductStatesIdentifier</th>\n",
       "      <th>AVProductsInstalled</th>\n",
       "      <th>AVProductsEnabled</th>\n",
       "      <th>HasTpm</th>\n",
       "      <th>CountryIdentifier</th>\n",
       "      <th>...</th>\n",
       "      <th>Platform_windows7</th>\n",
       "      <th>Platform_windows8</th>\n",
       "      <th>Processor_x64</th>\n",
       "      <th>Processor_x86</th>\n",
       "      <th>Census_DeviceFamily_Windows.Server</th>\n",
       "      <th>Census_OSArchitecture_arm64</th>\n",
       "      <th>Census_OSArchitecture_x86</th>\n",
       "      <th>Census_GenuineStateName_IS_GENUINE</th>\n",
       "      <th>Census_GenuineStateName_OFFLINE</th>\n",
       "      <th>Census_GenuineStateName_UNKNOWN</th>\n",
       "    </tr>\n",
       "  </thead>\n",
       "  <tbody>\n",
       "    <tr>\n",
       "      <th>0</th>\n",
       "      <td>0.552153</td>\n",
       "      <td>0.530941</td>\n",
       "      <td>0.587952</td>\n",
       "      <td>7.0</td>\n",
       "      <td>0</td>\n",
       "      <td>53447.0</td>\n",
       "      <td>1.0</td>\n",
       "      <td>1.0</td>\n",
       "      <td>1</td>\n",
       "      <td>29</td>\n",
       "      <td>...</td>\n",
       "      <td>0</td>\n",
       "      <td>0</td>\n",
       "      <td>1</td>\n",
       "      <td>0</td>\n",
       "      <td>0</td>\n",
       "      <td>0</td>\n",
       "      <td>0</td>\n",
       "      <td>1</td>\n",
       "      <td>0</td>\n",
       "      <td>0</td>\n",
       "    </tr>\n",
       "    <tr>\n",
       "      <th>1</th>\n",
       "      <td>0.448751</td>\n",
       "      <td>0.528931</td>\n",
       "      <td>0.484434</td>\n",
       "      <td>7.0</td>\n",
       "      <td>0</td>\n",
       "      <td>53447.0</td>\n",
       "      <td>1.0</td>\n",
       "      <td>1.0</td>\n",
       "      <td>1</td>\n",
       "      <td>93</td>\n",
       "      <td>...</td>\n",
       "      <td>0</td>\n",
       "      <td>0</td>\n",
       "      <td>1</td>\n",
       "      <td>0</td>\n",
       "      <td>0</td>\n",
       "      <td>0</td>\n",
       "      <td>0</td>\n",
       "      <td>0</td>\n",
       "      <td>1</td>\n",
       "      <td>0</td>\n",
       "    </tr>\n",
       "    <tr>\n",
       "      <th>2</th>\n",
       "      <td>0.552153</td>\n",
       "      <td>0.530941</td>\n",
       "      <td>0.557522</td>\n",
       "      <td>7.0</td>\n",
       "      <td>0</td>\n",
       "      <td>53447.0</td>\n",
       "      <td>1.0</td>\n",
       "      <td>1.0</td>\n",
       "      <td>1</td>\n",
       "      <td>86</td>\n",
       "      <td>...</td>\n",
       "      <td>0</td>\n",
       "      <td>0</td>\n",
       "      <td>1</td>\n",
       "      <td>0</td>\n",
       "      <td>0</td>\n",
       "      <td>0</td>\n",
       "      <td>0</td>\n",
       "      <td>1</td>\n",
       "      <td>0</td>\n",
       "      <td>0</td>\n",
       "    </tr>\n",
       "    <tr>\n",
       "      <th>3</th>\n",
       "      <td>0.552153</td>\n",
       "      <td>0.530941</td>\n",
       "      <td>0.714442</td>\n",
       "      <td>7.0</td>\n",
       "      <td>0</td>\n",
       "      <td>53447.0</td>\n",
       "      <td>1.0</td>\n",
       "      <td>1.0</td>\n",
       "      <td>1</td>\n",
       "      <td>88</td>\n",
       "      <td>...</td>\n",
       "      <td>0</td>\n",
       "      <td>0</td>\n",
       "      <td>1</td>\n",
       "      <td>0</td>\n",
       "      <td>0</td>\n",
       "      <td>0</td>\n",
       "      <td>0</td>\n",
       "      <td>1</td>\n",
       "      <td>0</td>\n",
       "      <td>0</td>\n",
       "    </tr>\n",
       "    <tr>\n",
       "      <th>4</th>\n",
       "      <td>0.552153</td>\n",
       "      <td>0.530941</td>\n",
       "      <td>0.541395</td>\n",
       "      <td>7.0</td>\n",
       "      <td>0</td>\n",
       "      <td>53447.0</td>\n",
       "      <td>1.0</td>\n",
       "      <td>1.0</td>\n",
       "      <td>1</td>\n",
       "      <td>18</td>\n",
       "      <td>...</td>\n",
       "      <td>0</td>\n",
       "      <td>0</td>\n",
       "      <td>1</td>\n",
       "      <td>0</td>\n",
       "      <td>0</td>\n",
       "      <td>0</td>\n",
       "      <td>0</td>\n",
       "      <td>1</td>\n",
       "      <td>0</td>\n",
       "      <td>0</td>\n",
       "    </tr>\n",
       "  </tbody>\n",
       "</table>\n",
       "<p>5 rows × 79 columns</p>\n",
       "</div>"
      ],
      "text/plain": [
       "   EngineVersion  AppVersion  AvSigVersion  RtpStateBitfield  \\\n",
       "0       0.552153    0.530941      0.587952               7.0   \n",
       "1       0.448751    0.528931      0.484434               7.0   \n",
       "2       0.552153    0.530941      0.557522               7.0   \n",
       "3       0.552153    0.530941      0.714442               7.0   \n",
       "4       0.552153    0.530941      0.541395               7.0   \n",
       "\n",
       "   IsSxsPassiveMode  AVProductStatesIdentifier  AVProductsInstalled  \\\n",
       "0                 0                    53447.0                  1.0   \n",
       "1                 0                    53447.0                  1.0   \n",
       "2                 0                    53447.0                  1.0   \n",
       "3                 0                    53447.0                  1.0   \n",
       "4                 0                    53447.0                  1.0   \n",
       "\n",
       "   AVProductsEnabled  HasTpm  CountryIdentifier  ...  Platform_windows7  \\\n",
       "0                1.0       1                 29  ...                  0   \n",
       "1                1.0       1                 93  ...                  0   \n",
       "2                1.0       1                 86  ...                  0   \n",
       "3                1.0       1                 88  ...                  0   \n",
       "4                1.0       1                 18  ...                  0   \n",
       "\n",
       "   Platform_windows8  Processor_x64  Processor_x86  \\\n",
       "0                  0              1              0   \n",
       "1                  0              1              0   \n",
       "2                  0              1              0   \n",
       "3                  0              1              0   \n",
       "4                  0              1              0   \n",
       "\n",
       "   Census_DeviceFamily_Windows.Server  Census_OSArchitecture_arm64  \\\n",
       "0                                   0                            0   \n",
       "1                                   0                            0   \n",
       "2                                   0                            0   \n",
       "3                                   0                            0   \n",
       "4                                   0                            0   \n",
       "\n",
       "   Census_OSArchitecture_x86  Census_GenuineStateName_IS_GENUINE  \\\n",
       "0                          0                                   1   \n",
       "1                          0                                   0   \n",
       "2                          0                                   1   \n",
       "3                          0                                   1   \n",
       "4                          0                                   1   \n",
       "\n",
       "   Census_GenuineStateName_OFFLINE  Census_GenuineStateName_UNKNOWN  \n",
       "0                                0                                0  \n",
       "1                                1                                0  \n",
       "2                                0                                0  \n",
       "3                                0                                0  \n",
       "4                                0                                0  \n",
       "\n",
       "[5 rows x 79 columns]"
      ]
     },
     "execution_count": 30,
     "metadata": {},
     "output_type": "execute_result"
    }
   ],
   "source": [
    "data_3.head()"
   ]
  },
  {
   "cell_type": "markdown",
   "id": "8b76698d-9555-4a8e-88ff-b16943edb219",
   "metadata": {},
   "source": [
    "### Task 11. "
   ]
  },
  {
   "cell_type": "markdown",
   "id": "3ace0fcd-16ee-4f7f-b9cf-a090c0b8060f",
   "metadata": {},
   "source": [
    "Create a pipeline that at first will scale our data unsing `StarndardScaler` and then apply `LogisticRegression` on scaled data."
   ]
  },
  {
   "cell_type": "code",
   "execution_count": 31,
   "id": "91774e78-13ba-44f1-95a5-3863be43b817",
   "metadata": {},
   "outputs": [],
   "source": [
    "from sklearn.preprocessing import StandardScaler\n",
    "from sklearn.linear_model import LogisticRegression\n",
    "from sklearn.pipeline import Pipeline"
   ]
  },
  {
   "cell_type": "code",
   "execution_count": 32,
   "id": "58b54ff7-e940-44d9-a2db-f07512ed4e4e",
   "metadata": {},
   "outputs": [],
   "source": [
    "pipe = Pipeline([\n",
    "    ('scaler', StandardScaler()), ('logreg', LogisticRegression(penalty='none'))\n",
    "])"
   ]
  },
  {
   "cell_type": "markdown",
   "id": "05b159de-ed17-45e6-8d83-28f70fb94130",
   "metadata": {},
   "source": [
    "### Task 12."
   ]
  },
  {
   "cell_type": "markdown",
   "id": "4bc92302-6420-4ac4-a59b-3d5e10f9ed5b",
   "metadata": {},
   "source": [
    "Try to split data on train and test samples one more time."
   ]
  },
  {
   "cell_type": "code",
   "execution_count": 33,
   "id": "edae8d50-a10e-4b33-b2f1-4ce15dfce5c9",
   "metadata": {},
   "outputs": [],
   "source": [
    "from sklearn.model_selection import train_test_split \n",
    "\n",
    "\n",
    "X = data_3.drop(columns=['HasDetections'])\n",
    "y = data_3['HasDetections']\n",
    "\n",
    "X_train, X_test, y_train, y_test = train_test_split(X, y,\n",
    "                                                    test_size=0.25,\n",
    "                                                    shuffle=True,\n",
    "                                                    random_state=1)"
   ]
  },
  {
   "cell_type": "markdown",
   "id": "d0973f35-e756-4df0-98b7-abe68bb9486c",
   "metadata": {},
   "source": [
    "Now everything worked because we have much less columns in our data."
   ]
  },
  {
   "cell_type": "markdown",
   "id": "3a5db93f-2e6c-46c0-9487-474bdd425565",
   "metadata": {},
   "source": [
    "### Task 13."
   ]
  },
  {
   "cell_type": "markdown",
   "id": "0111c701-5851-4711-b62e-dd9fc3f57f8e",
   "metadata": {},
   "source": [
    "Fit a logistic regression using cross_validation and check `accuracy` metric on both train and test samples."
   ]
  },
  {
   "cell_type": "code",
   "execution_count": 34,
   "id": "3baeffba-a780-4cf5-80fe-0188a7275dac",
   "metadata": {},
   "outputs": [],
   "source": [
    "from sklearn.model_selection import cross_validate\n",
    "\n",
    "\n",
    "cv = [(X_train.index.to_list(), X_test.index.to_list())]\n",
    "\n",
    "cv_result = cross_validate(pipe, X, y, scoring='accuracy', cv=cv, return_train_score=True)"
   ]
  },
  {
   "cell_type": "code",
   "execution_count": 35,
   "id": "3a894c7c-51a4-4501-9403-668e01f8b960",
   "metadata": {},
   "outputs": [
    {
     "name": "stdout",
     "output_type": "stream",
     "text": [
      "Train Accuracy: 0.6381267\n"
     ]
    }
   ],
   "source": [
    "print(f'Train Accuracy: {cv_result[\"train_score\"][0]:.7f}')"
   ]
  },
  {
   "cell_type": "code",
   "execution_count": 36,
   "id": "3fdd7152-a382-4850-b439-31dc32ab4fdd",
   "metadata": {},
   "outputs": [
    {
     "name": "stdout",
     "output_type": "stream",
     "text": [
      "Test Accuracy: 0.6381400\n"
     ]
    }
   ],
   "source": [
    "print(f'Test Accuracy: {cv_result[\"test_score\"][0]:.7f}')"
   ]
  },
  {
   "cell_type": "markdown",
   "id": "0593c5ad-377b-4f08-aaae-1e78e2a9f8c1",
   "metadata": {},
   "source": [
    "### Task 14. "
   ]
  },
  {
   "cell_type": "markdown",
   "id": "92e83ec7-7da6-49e7-8b91-818eef72ec65",
   "metadata": {},
   "source": [
    "Now lets try to improve our results by applying `l2` regularization to our model and finding the best parameter `alpha`."
   ]
  },
  {
   "cell_type": "code",
   "execution_count": 37,
   "id": "bda9611d-d2d2-449f-9dd8-69c910cb59f5",
   "metadata": {},
   "outputs": [],
   "source": [
    "alphas = np.linspace(0.01, 100, 100)"
   ]
  },
  {
   "cell_type": "code",
   "execution_count": 38,
   "id": "559acaf7-b4c1-4175-8b92-0ec56c32a19d",
   "metadata": {},
   "outputs": [
    {
     "data": {
      "text/plain": [
       "{'memory': None,\n",
       " 'steps': [('scaler', StandardScaler()),\n",
       "  ('logreg', LogisticRegression(penalty='none'))],\n",
       " 'verbose': False,\n",
       " 'scaler': StandardScaler(),\n",
       " 'logreg': LogisticRegression(penalty='none'),\n",
       " 'scaler__copy': True,\n",
       " 'scaler__with_mean': True,\n",
       " 'scaler__with_std': True,\n",
       " 'logreg__C': 1.0,\n",
       " 'logreg__class_weight': None,\n",
       " 'logreg__dual': False,\n",
       " 'logreg__fit_intercept': True,\n",
       " 'logreg__intercept_scaling': 1,\n",
       " 'logreg__l1_ratio': None,\n",
       " 'logreg__max_iter': 100,\n",
       " 'logreg__multi_class': 'auto',\n",
       " 'logreg__n_jobs': None,\n",
       " 'logreg__penalty': 'none',\n",
       " 'logreg__random_state': None,\n",
       " 'logreg__solver': 'lbfgs',\n",
       " 'logreg__tol': 0.0001,\n",
       " 'logreg__verbose': 0,\n",
       " 'logreg__warm_start': False}"
      ]
     },
     "execution_count": 38,
     "metadata": {},
     "output_type": "execute_result"
    }
   ],
   "source": [
    "pipe.get_params()"
   ]
  },
  {
   "cell_type": "code",
   "execution_count": 39,
   "id": "67e82c22-9572-41e3-a571-67f9075d2a73",
   "metadata": {},
   "outputs": [
    {
     "data": {
      "text/html": [
       "<style>#sk-container-id-1 {color: black;background-color: white;}#sk-container-id-1 pre{padding: 0;}#sk-container-id-1 div.sk-toggleable {background-color: white;}#sk-container-id-1 label.sk-toggleable__label {cursor: pointer;display: block;width: 100%;margin-bottom: 0;padding: 0.3em;box-sizing: border-box;text-align: center;}#sk-container-id-1 label.sk-toggleable__label-arrow:before {content: \"▸\";float: left;margin-right: 0.25em;color: #696969;}#sk-container-id-1 label.sk-toggleable__label-arrow:hover:before {color: black;}#sk-container-id-1 div.sk-estimator:hover label.sk-toggleable__label-arrow:before {color: black;}#sk-container-id-1 div.sk-toggleable__content {max-height: 0;max-width: 0;overflow: hidden;text-align: left;background-color: #f0f8ff;}#sk-container-id-1 div.sk-toggleable__content pre {margin: 0.2em;color: black;border-radius: 0.25em;background-color: #f0f8ff;}#sk-container-id-1 input.sk-toggleable__control:checked~div.sk-toggleable__content {max-height: 200px;max-width: 100%;overflow: auto;}#sk-container-id-1 input.sk-toggleable__control:checked~label.sk-toggleable__label-arrow:before {content: \"▾\";}#sk-container-id-1 div.sk-estimator input.sk-toggleable__control:checked~label.sk-toggleable__label {background-color: #d4ebff;}#sk-container-id-1 div.sk-label input.sk-toggleable__control:checked~label.sk-toggleable__label {background-color: #d4ebff;}#sk-container-id-1 input.sk-hidden--visually {border: 0;clip: rect(1px 1px 1px 1px);clip: rect(1px, 1px, 1px, 1px);height: 1px;margin: -1px;overflow: hidden;padding: 0;position: absolute;width: 1px;}#sk-container-id-1 div.sk-estimator {font-family: monospace;background-color: #f0f8ff;border: 1px dotted black;border-radius: 0.25em;box-sizing: border-box;margin-bottom: 0.5em;}#sk-container-id-1 div.sk-estimator:hover {background-color: #d4ebff;}#sk-container-id-1 div.sk-parallel-item::after {content: \"\";width: 100%;border-bottom: 1px solid gray;flex-grow: 1;}#sk-container-id-1 div.sk-label:hover label.sk-toggleable__label {background-color: #d4ebff;}#sk-container-id-1 div.sk-serial::before {content: \"\";position: absolute;border-left: 1px solid gray;box-sizing: border-box;top: 0;bottom: 0;left: 50%;z-index: 0;}#sk-container-id-1 div.sk-serial {display: flex;flex-direction: column;align-items: center;background-color: white;padding-right: 0.2em;padding-left: 0.2em;position: relative;}#sk-container-id-1 div.sk-item {position: relative;z-index: 1;}#sk-container-id-1 div.sk-parallel {display: flex;align-items: stretch;justify-content: center;background-color: white;position: relative;}#sk-container-id-1 div.sk-item::before, #sk-container-id-1 div.sk-parallel-item::before {content: \"\";position: absolute;border-left: 1px solid gray;box-sizing: border-box;top: 0;bottom: 0;left: 50%;z-index: -1;}#sk-container-id-1 div.sk-parallel-item {display: flex;flex-direction: column;z-index: 1;position: relative;background-color: white;}#sk-container-id-1 div.sk-parallel-item:first-child::after {align-self: flex-end;width: 50%;}#sk-container-id-1 div.sk-parallel-item:last-child::after {align-self: flex-start;width: 50%;}#sk-container-id-1 div.sk-parallel-item:only-child::after {width: 0;}#sk-container-id-1 div.sk-dashed-wrapped {border: 1px dashed gray;margin: 0 0.4em 0.5em 0.4em;box-sizing: border-box;padding-bottom: 0.4em;background-color: white;}#sk-container-id-1 div.sk-label label {font-family: monospace;font-weight: bold;display: inline-block;line-height: 1.2em;}#sk-container-id-1 div.sk-label-container {text-align: center;}#sk-container-id-1 div.sk-container {/* jupyter's `normalize.less` sets `[hidden] { display: none; }` but bootstrap.min.css set `[hidden] { display: none !important; }` so we also need the `!important` here to be able to override the default hidden behavior on the sphinx rendered scikit-learn.org. See: https://github.com/scikit-learn/scikit-learn/issues/21755 */display: inline-block !important;position: relative;}#sk-container-id-1 div.sk-text-repr-fallback {display: none;}</style><div id=\"sk-container-id-1\" class=\"sk-top-container\"><div class=\"sk-text-repr-fallback\"><pre>Pipeline(steps=[(&#x27;scaler&#x27;, StandardScaler()), (&#x27;logreg&#x27;, LogisticRegression())])</pre><b>In a Jupyter environment, please rerun this cell to show the HTML representation or trust the notebook. <br />On GitHub, the HTML representation is unable to render, please try loading this page with nbviewer.org.</b></div><div class=\"sk-container\" hidden><div class=\"sk-item sk-dashed-wrapped\"><div class=\"sk-label-container\"><div class=\"sk-label sk-toggleable\"><input class=\"sk-toggleable__control sk-hidden--visually\" id=\"sk-estimator-id-1\" type=\"checkbox\" ><label for=\"sk-estimator-id-1\" class=\"sk-toggleable__label sk-toggleable__label-arrow\">Pipeline</label><div class=\"sk-toggleable__content\"><pre>Pipeline(steps=[(&#x27;scaler&#x27;, StandardScaler()), (&#x27;logreg&#x27;, LogisticRegression())])</pre></div></div></div><div class=\"sk-serial\"><div class=\"sk-item\"><div class=\"sk-estimator sk-toggleable\"><input class=\"sk-toggleable__control sk-hidden--visually\" id=\"sk-estimator-id-2\" type=\"checkbox\" ><label for=\"sk-estimator-id-2\" class=\"sk-toggleable__label sk-toggleable__label-arrow\">StandardScaler</label><div class=\"sk-toggleable__content\"><pre>StandardScaler()</pre></div></div></div><div class=\"sk-item\"><div class=\"sk-estimator sk-toggleable\"><input class=\"sk-toggleable__control sk-hidden--visually\" id=\"sk-estimator-id-3\" type=\"checkbox\" ><label for=\"sk-estimator-id-3\" class=\"sk-toggleable__label sk-toggleable__label-arrow\">LogisticRegression</label><div class=\"sk-toggleable__content\"><pre>LogisticRegression()</pre></div></div></div></div></div></div></div>"
      ],
      "text/plain": [
       "Pipeline(steps=[('scaler', StandardScaler()), ('logreg', LogisticRegression())])"
      ]
     },
     "execution_count": 39,
     "metadata": {},
     "output_type": "execute_result"
    }
   ],
   "source": [
    "pipe.set_params(logreg__penalty='l2')"
   ]
  },
  {
   "cell_type": "code",
   "execution_count": 40,
   "id": "45571c8a-b6e7-4e45-a4ec-2d9af22ddeff",
   "metadata": {},
   "outputs": [
    {
     "data": {
      "text/plain": [
       "{'memory': None,\n",
       " 'steps': [('scaler', StandardScaler()), ('logreg', LogisticRegression())],\n",
       " 'verbose': False,\n",
       " 'scaler': StandardScaler(),\n",
       " 'logreg': LogisticRegression(),\n",
       " 'scaler__copy': True,\n",
       " 'scaler__with_mean': True,\n",
       " 'scaler__with_std': True,\n",
       " 'logreg__C': 1.0,\n",
       " 'logreg__class_weight': None,\n",
       " 'logreg__dual': False,\n",
       " 'logreg__fit_intercept': True,\n",
       " 'logreg__intercept_scaling': 1,\n",
       " 'logreg__l1_ratio': None,\n",
       " 'logreg__max_iter': 100,\n",
       " 'logreg__multi_class': 'auto',\n",
       " 'logreg__n_jobs': None,\n",
       " 'logreg__penalty': 'l2',\n",
       " 'logreg__random_state': None,\n",
       " 'logreg__solver': 'lbfgs',\n",
       " 'logreg__tol': 0.0001,\n",
       " 'logreg__verbose': 0,\n",
       " 'logreg__warm_start': False}"
      ]
     },
     "execution_count": 40,
     "metadata": {},
     "output_type": "execute_result"
    }
   ],
   "source": [
    "pipe.get_params()"
   ]
  },
  {
   "cell_type": "code",
   "execution_count": 41,
   "id": "7a20c14c-2d87-42b9-885a-8ad14f9f5bd6",
   "metadata": {},
   "outputs": [],
   "source": [
    "from sklearn.model_selection import GridSearchCV"
   ]
  },
  {
   "cell_type": "code",
   "execution_count": 42,
   "id": "6148d213-3ae6-4a03-b83c-1c24158adfee",
   "metadata": {},
   "outputs": [
    {
     "data": {
      "text/html": [
       "<style>#sk-container-id-2 {color: black;background-color: white;}#sk-container-id-2 pre{padding: 0;}#sk-container-id-2 div.sk-toggleable {background-color: white;}#sk-container-id-2 label.sk-toggleable__label {cursor: pointer;display: block;width: 100%;margin-bottom: 0;padding: 0.3em;box-sizing: border-box;text-align: center;}#sk-container-id-2 label.sk-toggleable__label-arrow:before {content: \"▸\";float: left;margin-right: 0.25em;color: #696969;}#sk-container-id-2 label.sk-toggleable__label-arrow:hover:before {color: black;}#sk-container-id-2 div.sk-estimator:hover label.sk-toggleable__label-arrow:before {color: black;}#sk-container-id-2 div.sk-toggleable__content {max-height: 0;max-width: 0;overflow: hidden;text-align: left;background-color: #f0f8ff;}#sk-container-id-2 div.sk-toggleable__content pre {margin: 0.2em;color: black;border-radius: 0.25em;background-color: #f0f8ff;}#sk-container-id-2 input.sk-toggleable__control:checked~div.sk-toggleable__content {max-height: 200px;max-width: 100%;overflow: auto;}#sk-container-id-2 input.sk-toggleable__control:checked~label.sk-toggleable__label-arrow:before {content: \"▾\";}#sk-container-id-2 div.sk-estimator input.sk-toggleable__control:checked~label.sk-toggleable__label {background-color: #d4ebff;}#sk-container-id-2 div.sk-label input.sk-toggleable__control:checked~label.sk-toggleable__label {background-color: #d4ebff;}#sk-container-id-2 input.sk-hidden--visually {border: 0;clip: rect(1px 1px 1px 1px);clip: rect(1px, 1px, 1px, 1px);height: 1px;margin: -1px;overflow: hidden;padding: 0;position: absolute;width: 1px;}#sk-container-id-2 div.sk-estimator {font-family: monospace;background-color: #f0f8ff;border: 1px dotted black;border-radius: 0.25em;box-sizing: border-box;margin-bottom: 0.5em;}#sk-container-id-2 div.sk-estimator:hover {background-color: #d4ebff;}#sk-container-id-2 div.sk-parallel-item::after {content: \"\";width: 100%;border-bottom: 1px solid gray;flex-grow: 1;}#sk-container-id-2 div.sk-label:hover label.sk-toggleable__label {background-color: #d4ebff;}#sk-container-id-2 div.sk-serial::before {content: \"\";position: absolute;border-left: 1px solid gray;box-sizing: border-box;top: 0;bottom: 0;left: 50%;z-index: 0;}#sk-container-id-2 div.sk-serial {display: flex;flex-direction: column;align-items: center;background-color: white;padding-right: 0.2em;padding-left: 0.2em;position: relative;}#sk-container-id-2 div.sk-item {position: relative;z-index: 1;}#sk-container-id-2 div.sk-parallel {display: flex;align-items: stretch;justify-content: center;background-color: white;position: relative;}#sk-container-id-2 div.sk-item::before, #sk-container-id-2 div.sk-parallel-item::before {content: \"\";position: absolute;border-left: 1px solid gray;box-sizing: border-box;top: 0;bottom: 0;left: 50%;z-index: -1;}#sk-container-id-2 div.sk-parallel-item {display: flex;flex-direction: column;z-index: 1;position: relative;background-color: white;}#sk-container-id-2 div.sk-parallel-item:first-child::after {align-self: flex-end;width: 50%;}#sk-container-id-2 div.sk-parallel-item:last-child::after {align-self: flex-start;width: 50%;}#sk-container-id-2 div.sk-parallel-item:only-child::after {width: 0;}#sk-container-id-2 div.sk-dashed-wrapped {border: 1px dashed gray;margin: 0 0.4em 0.5em 0.4em;box-sizing: border-box;padding-bottom: 0.4em;background-color: white;}#sk-container-id-2 div.sk-label label {font-family: monospace;font-weight: bold;display: inline-block;line-height: 1.2em;}#sk-container-id-2 div.sk-label-container {text-align: center;}#sk-container-id-2 div.sk-container {/* jupyter's `normalize.less` sets `[hidden] { display: none; }` but bootstrap.min.css set `[hidden] { display: none !important; }` so we also need the `!important` here to be able to override the default hidden behavior on the sphinx rendered scikit-learn.org. See: https://github.com/scikit-learn/scikit-learn/issues/21755 */display: inline-block !important;position: relative;}#sk-container-id-2 div.sk-text-repr-fallback {display: none;}</style><div id=\"sk-container-id-2\" class=\"sk-top-container\"><div class=\"sk-text-repr-fallback\"><pre>GridSearchCV(cv=[([76034, 51652, 138222, 115575, 45249, 179692, 182698, 176974,\n",
       "                   110306, 46620, 175394, 76233, 50519, 22013, 78414, 53567,\n",
       "                   123438, 33583, 80847, 173139, 96573, 136658, 120025, 75269,\n",
       "                   157138, 40325, 34982, 27938, 163628, 63394, ...],\n",
       "                  [49673, 171551, 5506, 38370, 36930, 167783, 67487, 101486,\n",
       "                   131774, 48246, 147174, 72470, 20386, 6389, 171910, 105548,\n",
       "                   180639, 155152, 140357, 177097, 122...\n",
       "       6.667e+01, 6.768e+01, 6.869e+01, 6.970e+01, 7.071e+01, 7.172e+01,\n",
       "       7.273e+01, 7.374e+01, 7.475e+01, 7.576e+01, 7.677e+01, 7.778e+01,\n",
       "       7.879e+01, 7.980e+01, 8.081e+01, 8.182e+01, 8.283e+01, 8.384e+01,\n",
       "       8.485e+01, 8.586e+01, 8.687e+01, 8.788e+01, 8.889e+01, 8.990e+01,\n",
       "       9.091e+01, 9.192e+01, 9.293e+01, 9.394e+01, 9.495e+01, 9.596e+01,\n",
       "       9.697e+01, 9.798e+01, 9.899e+01, 1.000e+02])},\n",
       "             scoring=&#x27;accuracy&#x27;)</pre><b>In a Jupyter environment, please rerun this cell to show the HTML representation or trust the notebook. <br />On GitHub, the HTML representation is unable to render, please try loading this page with nbviewer.org.</b></div><div class=\"sk-container\" hidden><div class=\"sk-item sk-dashed-wrapped\"><div class=\"sk-label-container\"><div class=\"sk-label sk-toggleable\"><input class=\"sk-toggleable__control sk-hidden--visually\" id=\"sk-estimator-id-4\" type=\"checkbox\" ><label for=\"sk-estimator-id-4\" class=\"sk-toggleable__label sk-toggleable__label-arrow\">GridSearchCV</label><div class=\"sk-toggleable__content\"><pre>GridSearchCV(cv=[([76034, 51652, 138222, 115575, 45249, 179692, 182698, 176974,\n",
       "                   110306, 46620, 175394, 76233, 50519, 22013, 78414, 53567,\n",
       "                   123438, 33583, 80847, 173139, 96573, 136658, 120025, 75269,\n",
       "                   157138, 40325, 34982, 27938, 163628, 63394, ...],\n",
       "                  [49673, 171551, 5506, 38370, 36930, 167783, 67487, 101486,\n",
       "                   131774, 48246, 147174, 72470, 20386, 6389, 171910, 105548,\n",
       "                   180639, 155152, 140357, 177097, 122...\n",
       "       6.667e+01, 6.768e+01, 6.869e+01, 6.970e+01, 7.071e+01, 7.172e+01,\n",
       "       7.273e+01, 7.374e+01, 7.475e+01, 7.576e+01, 7.677e+01, 7.778e+01,\n",
       "       7.879e+01, 7.980e+01, 8.081e+01, 8.182e+01, 8.283e+01, 8.384e+01,\n",
       "       8.485e+01, 8.586e+01, 8.687e+01, 8.788e+01, 8.889e+01, 8.990e+01,\n",
       "       9.091e+01, 9.192e+01, 9.293e+01, 9.394e+01, 9.495e+01, 9.596e+01,\n",
       "       9.697e+01, 9.798e+01, 9.899e+01, 1.000e+02])},\n",
       "             scoring=&#x27;accuracy&#x27;)</pre></div></div></div><div class=\"sk-parallel\"><div class=\"sk-parallel-item\"><div class=\"sk-item\"><div class=\"sk-label-container\"><div class=\"sk-label sk-toggleable\"><input class=\"sk-toggleable__control sk-hidden--visually\" id=\"sk-estimator-id-5\" type=\"checkbox\" ><label for=\"sk-estimator-id-5\" class=\"sk-toggleable__label sk-toggleable__label-arrow\">estimator: Pipeline</label><div class=\"sk-toggleable__content\"><pre>Pipeline(steps=[(&#x27;scaler&#x27;, StandardScaler()), (&#x27;logreg&#x27;, LogisticRegression())])</pre></div></div></div><div class=\"sk-serial\"><div class=\"sk-item\"><div class=\"sk-serial\"><div class=\"sk-item\"><div class=\"sk-estimator sk-toggleable\"><input class=\"sk-toggleable__control sk-hidden--visually\" id=\"sk-estimator-id-6\" type=\"checkbox\" ><label for=\"sk-estimator-id-6\" class=\"sk-toggleable__label sk-toggleable__label-arrow\">StandardScaler</label><div class=\"sk-toggleable__content\"><pre>StandardScaler()</pre></div></div></div><div class=\"sk-item\"><div class=\"sk-estimator sk-toggleable\"><input class=\"sk-toggleable__control sk-hidden--visually\" id=\"sk-estimator-id-7\" type=\"checkbox\" ><label for=\"sk-estimator-id-7\" class=\"sk-toggleable__label sk-toggleable__label-arrow\">LogisticRegression</label><div class=\"sk-toggleable__content\"><pre>LogisticRegression()</pre></div></div></div></div></div></div></div></div></div></div></div></div>"
      ],
      "text/plain": [
       "GridSearchCV(cv=[([76034, 51652, 138222, 115575, 45249, 179692, 182698, 176974,\n",
       "                   110306, 46620, 175394, 76233, 50519, 22013, 78414, 53567,\n",
       "                   123438, 33583, 80847, 173139, 96573, 136658, 120025, 75269,\n",
       "                   157138, 40325, 34982, 27938, 163628, 63394, ...],\n",
       "                  [49673, 171551, 5506, 38370, 36930, 167783, 67487, 101486,\n",
       "                   131774, 48246, 147174, 72470, 20386, 6389, 171910, 105548,\n",
       "                   180639, 155152, 140357, 177097, 122...\n",
       "       6.667e+01, 6.768e+01, 6.869e+01, 6.970e+01, 7.071e+01, 7.172e+01,\n",
       "       7.273e+01, 7.374e+01, 7.475e+01, 7.576e+01, 7.677e+01, 7.778e+01,\n",
       "       7.879e+01, 7.980e+01, 8.081e+01, 8.182e+01, 8.283e+01, 8.384e+01,\n",
       "       8.485e+01, 8.586e+01, 8.687e+01, 8.788e+01, 8.889e+01, 8.990e+01,\n",
       "       9.091e+01, 9.192e+01, 9.293e+01, 9.394e+01, 9.495e+01, 9.596e+01,\n",
       "       9.697e+01, 9.798e+01, 9.899e+01, 1.000e+02])},\n",
       "             scoring='accuracy')"
      ]
     },
     "execution_count": 42,
     "metadata": {},
     "output_type": "execute_result"
    }
   ],
   "source": [
    "params = {'logreg__C': alphas}\n",
    "\n",
    "search = GridSearchCV(pipe, params, cv=cv, scoring='accuracy')\n",
    "search.fit(X, y)"
   ]
  },
  {
   "cell_type": "code",
   "execution_count": 43,
   "id": "b6d125d2-f702-4bda-9878-946c0bdb59c8",
   "metadata": {},
   "outputs": [
    {
     "data": {
      "text/plain": [
       "{'logreg__C': 0.01}"
      ]
     },
     "execution_count": 43,
     "metadata": {},
     "output_type": "execute_result"
    }
   ],
   "source": [
    "search.best_params_"
   ]
  },
  {
   "cell_type": "code",
   "execution_count": 44,
   "id": "660a9f49-fcc3-45cf-b79e-40f8cab1e112",
   "metadata": {},
   "outputs": [
    {
     "data": {
      "text/plain": [
       "0.63822"
      ]
     },
     "execution_count": 44,
     "metadata": {},
     "output_type": "execute_result"
    }
   ],
   "source": [
    "search.best_score_"
   ]
  },
  {
   "cell_type": "code",
   "execution_count": null,
   "id": "e269c6a8-d9af-45f7-89be-6cb0dfeee05a",
   "metadata": {},
   "outputs": [],
   "source": []
  }
 ],
 "metadata": {
  "kernelspec": {
   "display_name": "Python 3 (ipykernel)",
   "language": "python",
   "name": "python3"
  },
  "language_info": {
   "codemirror_mode": {
    "name": "ipython",
    "version": 3
   },
   "file_extension": ".py",
   "mimetype": "text/x-python",
   "name": "python",
   "nbconvert_exporter": "python",
   "pygments_lexer": "ipython3",
   "version": "3.8.10"
  }
 },
 "nbformat": 4,
 "nbformat_minor": 5
}
