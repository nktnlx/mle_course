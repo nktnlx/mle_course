{
 "cells": [
  {
   "cell_type": "markdown",
   "id": "cb747a0a-d5db-46b4-90d2-585621f1c44a",
   "metadata": {},
   "source": [
    "# ROC-AUC"
   ]
  },
  {
   "cell_type": "markdown",
   "id": "c754b9c7-501f-465f-9160-5ca29185e2cc",
   "metadata": {},
   "source": [
    "## Tasks"
   ]
  },
  {
   "cell_type": "markdown",
   "id": "6a08a8d8-37a7-4a4e-b354-4db6e2f16a56",
   "metadata": {},
   "source": [
    "### Task 1"
   ]
  },
  {
   "cell_type": "markdown",
   "id": "bdbe5dc3-20db-4123-87a8-c13481055a28",
   "metadata": {},
   "source": [
    "Import data you need to solve tasks for this lesson. "
   ]
  },
  {
   "cell_type": "code",
   "execution_count": 1,
   "id": "fc38d53b-fc57-4610-bbc6-16e24700591a",
   "metadata": {},
   "outputs": [],
   "source": [
    "import pandas as pd\n",
    "import numpy as np\n",
    "import matplotlib.pyplot as plt\n",
    "import seaborn as sns"
   ]
  },
  {
   "cell_type": "code",
   "execution_count": 2,
   "id": "7d5a1ca3-71c0-4e14-a4a7-d4878712ff3d",
   "metadata": {},
   "outputs": [],
   "source": [
    "data = pd.read_csv('processed_train.csv')"
   ]
  },
  {
   "cell_type": "code",
   "execution_count": 3,
   "id": "dcb31fdc-1cac-495c-9c98-f7faea6d6dc0",
   "metadata": {},
   "outputs": [
    {
     "data": {
      "text/html": [
       "<div>\n",
       "<style scoped>\n",
       "    .dataframe tbody tr th:only-of-type {\n",
       "        vertical-align: middle;\n",
       "    }\n",
       "\n",
       "    .dataframe tbody tr th {\n",
       "        vertical-align: top;\n",
       "    }\n",
       "\n",
       "    .dataframe thead th {\n",
       "        text-align: right;\n",
       "    }\n",
       "</style>\n",
       "<table border=\"1\" class=\"dataframe\">\n",
       "  <thead>\n",
       "    <tr style=\"text-align: right;\">\n",
       "      <th></th>\n",
       "      <th>EngineVersion</th>\n",
       "      <th>AppVersion</th>\n",
       "      <th>AvSigVersion</th>\n",
       "      <th>RtpStateBitfield</th>\n",
       "      <th>IsSxsPassiveMode</th>\n",
       "      <th>AVProductStatesIdentifier</th>\n",
       "      <th>AVProductsInstalled</th>\n",
       "      <th>AVProductsEnabled</th>\n",
       "      <th>HasTpm</th>\n",
       "      <th>CountryIdentifier</th>\n",
       "      <th>...</th>\n",
       "      <th>Platform_windows8</th>\n",
       "      <th>Processor_x64</th>\n",
       "      <th>Processor_x86</th>\n",
       "      <th>Census_DeviceFamily_Windows.Server</th>\n",
       "      <th>Census_OSArchitecture_arm64</th>\n",
       "      <th>Census_OSArchitecture_x86</th>\n",
       "      <th>Census_GenuineStateName_IS_GENUINE</th>\n",
       "      <th>Census_GenuineStateName_OFFLINE</th>\n",
       "      <th>Census_GenuineStateName_UNKNOWN</th>\n",
       "      <th>HasDetections</th>\n",
       "    </tr>\n",
       "  </thead>\n",
       "  <tbody>\n",
       "    <tr>\n",
       "      <th>0</th>\n",
       "      <td>0.552153</td>\n",
       "      <td>0.530941</td>\n",
       "      <td>0.587952</td>\n",
       "      <td>7.0</td>\n",
       "      <td>0</td>\n",
       "      <td>53447.0</td>\n",
       "      <td>1.0</td>\n",
       "      <td>1.0</td>\n",
       "      <td>1</td>\n",
       "      <td>29</td>\n",
       "      <td>...</td>\n",
       "      <td>0</td>\n",
       "      <td>1</td>\n",
       "      <td>0</td>\n",
       "      <td>0</td>\n",
       "      <td>0</td>\n",
       "      <td>0</td>\n",
       "      <td>1</td>\n",
       "      <td>0</td>\n",
       "      <td>0</td>\n",
       "      <td>0</td>\n",
       "    </tr>\n",
       "    <tr>\n",
       "      <th>1</th>\n",
       "      <td>0.448751</td>\n",
       "      <td>0.528931</td>\n",
       "      <td>0.484434</td>\n",
       "      <td>7.0</td>\n",
       "      <td>0</td>\n",
       "      <td>53447.0</td>\n",
       "      <td>1.0</td>\n",
       "      <td>1.0</td>\n",
       "      <td>1</td>\n",
       "      <td>93</td>\n",
       "      <td>...</td>\n",
       "      <td>0</td>\n",
       "      <td>1</td>\n",
       "      <td>0</td>\n",
       "      <td>0</td>\n",
       "      <td>0</td>\n",
       "      <td>0</td>\n",
       "      <td>0</td>\n",
       "      <td>1</td>\n",
       "      <td>0</td>\n",
       "      <td>0</td>\n",
       "    </tr>\n",
       "    <tr>\n",
       "      <th>2</th>\n",
       "      <td>0.552153</td>\n",
       "      <td>0.530941</td>\n",
       "      <td>0.557522</td>\n",
       "      <td>7.0</td>\n",
       "      <td>0</td>\n",
       "      <td>53447.0</td>\n",
       "      <td>1.0</td>\n",
       "      <td>1.0</td>\n",
       "      <td>1</td>\n",
       "      <td>86</td>\n",
       "      <td>...</td>\n",
       "      <td>0</td>\n",
       "      <td>1</td>\n",
       "      <td>0</td>\n",
       "      <td>0</td>\n",
       "      <td>0</td>\n",
       "      <td>0</td>\n",
       "      <td>1</td>\n",
       "      <td>0</td>\n",
       "      <td>0</td>\n",
       "      <td>0</td>\n",
       "    </tr>\n",
       "    <tr>\n",
       "      <th>3</th>\n",
       "      <td>0.552153</td>\n",
       "      <td>0.530941</td>\n",
       "      <td>0.482759</td>\n",
       "      <td>7.0</td>\n",
       "      <td>0</td>\n",
       "      <td>53447.0</td>\n",
       "      <td>1.0</td>\n",
       "      <td>1.0</td>\n",
       "      <td>1</td>\n",
       "      <td>97</td>\n",
       "      <td>...</td>\n",
       "      <td>0</td>\n",
       "      <td>1</td>\n",
       "      <td>0</td>\n",
       "      <td>0</td>\n",
       "      <td>0</td>\n",
       "      <td>0</td>\n",
       "      <td>1</td>\n",
       "      <td>0</td>\n",
       "      <td>0</td>\n",
       "      <td>0</td>\n",
       "    </tr>\n",
       "    <tr>\n",
       "      <th>4</th>\n",
       "      <td>0.493175</td>\n",
       "      <td>0.530941</td>\n",
       "      <td>0.505721</td>\n",
       "      <td>7.0</td>\n",
       "      <td>0</td>\n",
       "      <td>53447.0</td>\n",
       "      <td>1.0</td>\n",
       "      <td>1.0</td>\n",
       "      <td>1</td>\n",
       "      <td>164</td>\n",
       "      <td>...</td>\n",
       "      <td>0</td>\n",
       "      <td>1</td>\n",
       "      <td>0</td>\n",
       "      <td>0</td>\n",
       "      <td>0</td>\n",
       "      <td>0</td>\n",
       "      <td>1</td>\n",
       "      <td>0</td>\n",
       "      <td>0</td>\n",
       "      <td>0</td>\n",
       "    </tr>\n",
       "  </tbody>\n",
       "</table>\n",
       "<p>5 rows × 79 columns</p>\n",
       "</div>"
      ],
      "text/plain": [
       "   EngineVersion  AppVersion  AvSigVersion  RtpStateBitfield  \\\n",
       "0       0.552153    0.530941      0.587952               7.0   \n",
       "1       0.448751    0.528931      0.484434               7.0   \n",
       "2       0.552153    0.530941      0.557522               7.0   \n",
       "3       0.552153    0.530941      0.482759               7.0   \n",
       "4       0.493175    0.530941      0.505721               7.0   \n",
       "\n",
       "   IsSxsPassiveMode  AVProductStatesIdentifier  AVProductsInstalled  \\\n",
       "0                 0                    53447.0                  1.0   \n",
       "1                 0                    53447.0                  1.0   \n",
       "2                 0                    53447.0                  1.0   \n",
       "3                 0                    53447.0                  1.0   \n",
       "4                 0                    53447.0                  1.0   \n",
       "\n",
       "   AVProductsEnabled  HasTpm  CountryIdentifier  ...  Platform_windows8  \\\n",
       "0                1.0       1                 29  ...                  0   \n",
       "1                1.0       1                 93  ...                  0   \n",
       "2                1.0       1                 86  ...                  0   \n",
       "3                1.0       1                 97  ...                  0   \n",
       "4                1.0       1                164  ...                  0   \n",
       "\n",
       "   Processor_x64  Processor_x86  Census_DeviceFamily_Windows.Server  \\\n",
       "0              1              0                                   0   \n",
       "1              1              0                                   0   \n",
       "2              1              0                                   0   \n",
       "3              1              0                                   0   \n",
       "4              1              0                                   0   \n",
       "\n",
       "   Census_OSArchitecture_arm64  Census_OSArchitecture_x86  \\\n",
       "0                            0                          0   \n",
       "1                            0                          0   \n",
       "2                            0                          0   \n",
       "3                            0                          0   \n",
       "4                            0                          0   \n",
       "\n",
       "   Census_GenuineStateName_IS_GENUINE  Census_GenuineStateName_OFFLINE  \\\n",
       "0                                   1                                0   \n",
       "1                                   0                                1   \n",
       "2                                   1                                0   \n",
       "3                                   1                                0   \n",
       "4                                   1                                0   \n",
       "\n",
       "   Census_GenuineStateName_UNKNOWN  HasDetections  \n",
       "0                                0              0  \n",
       "1                                0              0  \n",
       "2                                0              0  \n",
       "3                                0              0  \n",
       "4                                0              0  \n",
       "\n",
       "[5 rows x 79 columns]"
      ]
     },
     "execution_count": 3,
     "metadata": {},
     "output_type": "execute_result"
    }
   ],
   "source": [
    "data.head() "
   ]
  },
  {
   "cell_type": "code",
   "execution_count": 4,
   "id": "5c6c98b9-27c2-4dea-8b38-ded726619cae",
   "metadata": {},
   "outputs": [
    {
     "data": {
      "text/plain": [
       "(119952, 79)"
      ]
     },
     "execution_count": 4,
     "metadata": {},
     "output_type": "execute_result"
    }
   ],
   "source": [
    "data.shape"
   ]
  },
  {
   "cell_type": "code",
   "execution_count": 5,
   "id": "316a994a-0afc-4851-a22d-2128c28c7b65",
   "metadata": {},
   "outputs": [
    {
     "name": "stdout",
     "output_type": "stream",
     "text": [
      "<class 'pandas.core.frame.DataFrame'>\n",
      "RangeIndex: 119952 entries, 0 to 119951\n",
      "Data columns (total 79 columns):\n",
      " #   Column                                             Non-Null Count   Dtype  \n",
      "---  ------                                             --------------   -----  \n",
      " 0   EngineVersion                                      119952 non-null  float64\n",
      " 1   AppVersion                                         119952 non-null  float64\n",
      " 2   AvSigVersion                                       119952 non-null  float64\n",
      " 3   RtpStateBitfield                                   119952 non-null  float64\n",
      " 4   IsSxsPassiveMode                                   119952 non-null  int64  \n",
      " 5   AVProductStatesIdentifier                          119952 non-null  float64\n",
      " 6   AVProductsInstalled                                119952 non-null  float64\n",
      " 7   AVProductsEnabled                                  119952 non-null  float64\n",
      " 8   HasTpm                                             119952 non-null  int64  \n",
      " 9   CountryIdentifier                                  119952 non-null  int64  \n",
      " 10  CityIdentifier                                     119952 non-null  float64\n",
      " 11  OrganizationIdentifier                             119952 non-null  float64\n",
      " 12  GeoNameIdentifier                                  119952 non-null  float64\n",
      " 13  LocaleEnglishNameIdentifier                        119952 non-null  int64  \n",
      " 14  OsVer                                              119952 non-null  float64\n",
      " 15  OsBuild                                            119952 non-null  int64  \n",
      " 16  OsSuite                                            119952 non-null  int64  \n",
      " 17  OsPlatformSubRelease                               119952 non-null  float64\n",
      " 18  OsBuildLab                                         119952 non-null  float64\n",
      " 19  SkuEdition                                         119952 non-null  float64\n",
      " 20  IsProtected                                        119952 non-null  float64\n",
      " 21  AutoSampleOptIn                                    119952 non-null  int64  \n",
      " 22  SMode                                              119952 non-null  float64\n",
      " 23  IeVerIdentifier                                    119952 non-null  float64\n",
      " 24  SmartScreen                                        119952 non-null  float64\n",
      " 25  Firewall                                           119952 non-null  float64\n",
      " 26  UacLuaenable                                       119952 non-null  float64\n",
      " 27  Census_MDC2FormFactor                              119952 non-null  float64\n",
      " 28  Census_OEMNameIdentifier                           119952 non-null  float64\n",
      " 29  Census_OEMModelIdentifier                          119952 non-null  float64\n",
      " 30  Census_ProcessorCoreCount                          119952 non-null  float64\n",
      " 31  Census_ProcessorManufacturerIdentifier             119952 non-null  float64\n",
      " 32  Census_ProcessorModelIdentifier                    119952 non-null  float64\n",
      " 33  Census_PrimaryDiskTotalCapacity                    119952 non-null  float64\n",
      " 34  Census_PrimaryDiskTypeName                         119952 non-null  float64\n",
      " 35  Census_SystemVolumeTotalCapacity                   119952 non-null  float64\n",
      " 36  Census_HasOpticalDiskDrive                         119952 non-null  int64  \n",
      " 37  Census_TotalPhysicalRAM                            119952 non-null  float64\n",
      " 38  Census_ChassisTypeName                             119952 non-null  float64\n",
      " 39  Census_InternalPrimaryDiagonalDisplaySizeInInches  119952 non-null  float64\n",
      " 40  Census_InternalPrimaryDisplayResolutionHorizontal  119952 non-null  float64\n",
      " 41  Census_InternalPrimaryDisplayResolutionVertical    119952 non-null  float64\n",
      " 42  Census_PowerPlatformRoleName                       119952 non-null  float64\n",
      " 43  Census_InternalBatteryNumberOfCharges              119952 non-null  float64\n",
      " 44  Census_OSVersion                                   119952 non-null  float64\n",
      " 45  Census_OSBranch                                    119952 non-null  float64\n",
      " 46  Census_OSBuildNumber                               119952 non-null  int64  \n",
      " 47  Census_OSBuildRevision                             119952 non-null  int64  \n",
      " 48  Census_OSEdition                                   119952 non-null  float64\n",
      " 49  Census_OSSkuName                                   119952 non-null  float64\n",
      " 50  Census_OSInstallTypeName                           119952 non-null  float64\n",
      " 51  Census_OSInstallLanguageIdentifier                 119952 non-null  float64\n",
      " 52  Census_OSUILocaleIdentifier                        119952 non-null  int64  \n",
      " 53  Census_OSWUAutoUpdateOptionsName                   119952 non-null  float64\n",
      " 54  Census_IsPortableOperatingSystem                   119952 non-null  int64  \n",
      " 55  Census_ActivationChannel                           119952 non-null  float64\n",
      " 56  Census_IsFlightsDisabled                           119952 non-null  float64\n",
      " 57  Census_FlightRing                                  119952 non-null  float64\n",
      " 58  Census_FirmwareManufacturerIdentifier              119952 non-null  float64\n",
      " 59  Census_FirmwareVersionIdentifier                   119952 non-null  float64\n",
      " 60  Census_IsSecureBootEnabled                         119952 non-null  int64  \n",
      " 61  Census_IsVirtualDevice                             119952 non-null  float64\n",
      " 62  Census_IsTouchEnabled                              119952 non-null  int64  \n",
      " 63  Census_IsPenCapable                                119952 non-null  int64  \n",
      " 64  Census_IsAlwaysOnAlwaysConnectedCapable            119952 non-null  float64\n",
      " 65  Wdft_IsGamer                                       119952 non-null  float64\n",
      " 66  Wdft_RegionIdentifier                              119952 non-null  float64\n",
      " 67  Platform_windows2016                               119952 non-null  int64  \n",
      " 68  Platform_windows7                                  119952 non-null  int64  \n",
      " 69  Platform_windows8                                  119952 non-null  int64  \n",
      " 70  Processor_x64                                      119952 non-null  int64  \n",
      " 71  Processor_x86                                      119952 non-null  int64  \n",
      " 72  Census_DeviceFamily_Windows.Server                 119952 non-null  int64  \n",
      " 73  Census_OSArchitecture_arm64                        119952 non-null  int64  \n",
      " 74  Census_OSArchitecture_x86                          119952 non-null  int64  \n",
      " 75  Census_GenuineStateName_IS_GENUINE                 119952 non-null  int64  \n",
      " 76  Census_GenuineStateName_OFFLINE                    119952 non-null  int64  \n",
      " 77  Census_GenuineStateName_UNKNOWN                    119952 non-null  int64  \n",
      " 78  HasDetections                                      119952 non-null  int64  \n",
      "dtypes: float64(52), int64(27)\n",
      "memory usage: 72.3 MB\n"
     ]
    }
   ],
   "source": [
    "data.info()"
   ]
  },
  {
   "cell_type": "markdown",
   "id": "54372a63-0de8-4ad6-b8ab-24577a168866",
   "metadata": {},
   "source": [
    "### Task 2"
   ]
  },
  {
   "cell_type": "markdown",
   "id": "167a774a-2abb-48aa-8010-64968fe0181f",
   "metadata": {},
   "source": [
    "Check target class balance."
   ]
  },
  {
   "cell_type": "code",
   "execution_count": 6,
   "id": "57da0037-ed6d-45ee-9dfd-eea294b1a943",
   "metadata": {},
   "outputs": [
    {
     "name": "stdout",
     "output_type": "stream",
     "text": [
      "20012 - positive class,\n",
      "99940 - negative class\n"
     ]
    }
   ],
   "source": [
    "print(sum(data['HasDetections'] == 1), '- positive class,')\n",
    "print(sum(data['HasDetections'] == 0), '- negative class')"
   ]
  },
  {
   "cell_type": "markdown",
   "id": "56015b10-4f8d-4630-823c-ef0b5a9e5ebd",
   "metadata": {},
   "source": [
    "### Task 3"
   ]
  },
  {
   "cell_type": "markdown",
   "id": "aee34a69-b11a-4d62-831e-998a34935e13",
   "metadata": {},
   "source": [
    "Split data on train and test samples."
   ]
  },
  {
   "cell_type": "code",
   "execution_count": 7,
   "id": "44e21b9e-d5a2-4b4a-8937-e1b920552ef5",
   "metadata": {},
   "outputs": [],
   "source": [
    "y = data['HasDetections']\n",
    "X = data.drop('HasDetections', axis=1)"
   ]
  },
  {
   "cell_type": "code",
   "execution_count": 8,
   "id": "513be7f7-88db-438b-b88c-8ab20c353405",
   "metadata": {},
   "outputs": [],
   "source": [
    "from sklearn.model_selection import train_test_split\n",
    "\n",
    "\n",
    "X_train, X_test, y_train, y_test  = train_test_split(X, y, \n",
    "                                                     test_size=0.25, \n",
    "                                                     shuffle=True, \n",
    "                                                     random_state=1)"
   ]
  },
  {
   "cell_type": "markdown",
   "id": "6d83296a-37e6-483f-9f44-d194b5295f03",
   "metadata": {},
   "source": [
    "### Task 4"
   ]
  },
  {
   "cell_type": "markdown",
   "id": "f675c57b-a160-48c7-8e17-072d6be3213d",
   "metadata": {},
   "source": [
    "Fit a logistic regression using cross_validation and check `accuracy` metric on both train and test samples."
   ]
  },
  {
   "cell_type": "code",
   "execution_count": 9,
   "id": "c0f7984c-61a7-4077-bc33-336a84384138",
   "metadata": {},
   "outputs": [],
   "source": [
    "from sklearn.pipeline import Pipeline\n",
    "from sklearn.preprocessing import StandardScaler\n",
    "from sklearn.model_selection import cross_validate\n",
    "from sklearn.linear_model import LogisticRegression\n",
    "\n",
    "\n",
    "pipe = Pipeline([\n",
    "    ('scaler', StandardScaler()),\n",
    "    ('logreg', LogisticRegression(penalty='l2', C=0.01))\n",
    "])\n",
    "\n",
    "cv = [(X_train.index.to_list(), X_test.index.to_list())]\n",
    "\n",
    "result = cross_validate(pipe, X, y, scoring='accuracy', cv=cv, return_train_score=True)"
   ]
  },
  {
   "cell_type": "code",
   "execution_count": 10,
   "id": "47b673fc-c9af-43fa-9c29-550ac5885e45",
   "metadata": {},
   "outputs": [
    {
     "name": "stdout",
     "output_type": "stream",
     "text": [
      "Train Accuracy: 0.8411920\n"
     ]
    }
   ],
   "source": [
    "print(f'Train Accuracy: {result[\"train_score\"][0]:.7f}')"
   ]
  },
  {
   "cell_type": "code",
   "execution_count": 11,
   "id": "073b19a1-8c1e-40aa-81df-70e3378689e1",
   "metadata": {},
   "outputs": [
    {
     "name": "stdout",
     "output_type": "stream",
     "text": [
      "Test Accuracy: 0.8421035\n"
     ]
    }
   ],
   "source": [
    "print(f'Test Accuracy: {result[\"test_score\"][0]:.7f}')"
   ]
  },
  {
   "cell_type": "markdown",
   "id": "4868e0a2-a3a5-41f9-8488-b2373947bc3e",
   "metadata": {},
   "source": [
    "### Task 5"
   ]
  },
  {
   "cell_type": "markdown",
   "id": "4e5db748-292f-4de2-944f-6c84876727d9",
   "metadata": {},
   "source": [
    "Build a ROC-AUC curve on train data."
   ]
  },
  {
   "cell_type": "code",
   "execution_count": 12,
   "id": "a6b058d6-27e8-49e9-9101-933d1d82d17c",
   "metadata": {},
   "outputs": [
    {
     "name": "stdout",
     "output_type": "stream",
     "text": [
      "AUC=0.699\n"
     ]
    },
    {
     "data": {
      "image/png": "[encoded data removed]",
      "text/plain": [
       "<Figure size 432x288 with 1 Axes>"
      ]
     },
     "metadata": {
      "needs_background": "light"
     },
     "output_type": "display_data"
    }
   ],
   "source": [
    "from sklearn.metrics import roc_curve\n",
    "from sklearn.metrics import RocCurveDisplay\n",
    "from sklearn.metrics import auc \n",
    "\n",
    "\n",
    "fpr, tpr, thresholds = roc_curve(y_train, pipe.fit(X_train, y_train).predict_proba(X_train)[:, 1])\n",
    "RocCurveDisplay(fpr=fpr, tpr=tpr).plot()\n",
    "print(f'AUC={auc(fpr, tpr):.3f}')"
   ]
  },
  {
   "cell_type": "markdown",
   "id": "3d2f3ed4-0ac3-4b81-a890-8b156dd83054",
   "metadata": {},
   "source": [
    "### Task 6"
   ]
  },
  {
   "cell_type": "markdown",
   "id": "1c2e40a1-2c04-4616-ac55-f6105aec7228",
   "metadata": {},
   "source": [
    "Build a ROC-AUC curve on test data."
   ]
  },
  {
   "cell_type": "code",
   "execution_count": 13,
   "id": "3bb2f86a-c12c-4e83-8bc3-20c2b43d769f",
   "metadata": {},
   "outputs": [
    {
     "name": "stdout",
     "output_type": "stream",
     "text": [
      "AUC=0.697\n"
     ]
    },
    {
     "data": {
      "image/png": "[encoded data removed]",
      "text/plain": [
       "<Figure size 432x288 with 1 Axes>"
      ]
     },
     "metadata": {
      "needs_background": "light"
     },
     "output_type": "display_data"
    }
   ],
   "source": [
    "fpr, tpr, thresholds = roc_curve(y_test, pipe.fit(X_train, y_train).predict_proba(X_test)[:, 1])\n",
    "RocCurveDisplay(fpr=fpr, tpr=tpr).plot()\n",
    "print(f'AUC={auc(fpr, tpr):.3f}')"
   ]
  },
  {
   "cell_type": "markdown",
   "id": "ee167b03-e519-4c6d-aa38-353edb3d3a17",
   "metadata": {},
   "source": [
    "### Task 7"
   ]
  },
  {
   "cell_type": "markdown",
   "id": "3d600ba2-306d-4235-aeb4-356fbd570b0c",
   "metadata": {},
   "source": [
    "Build PR-curve on train data. "
   ]
  },
  {
   "cell_type": "code",
   "execution_count": 14,
   "id": "5929eb9a-dc22-4b6d-871a-107e5e918cff",
   "metadata": {},
   "outputs": [
    {
     "name": "stdout",
     "output_type": "stream",
     "text": [
      "AUC=0.366\n"
     ]
    },
    {
     "data": {
      "image/png": "[encoded data removed]",
      "text/plain": [
       "<Figure size 432x288 with 1 Axes>"
      ]
     },
     "metadata": {
      "needs_background": "light"
     },
     "output_type": "display_data"
    }
   ],
   "source": [
    "from sklearn.metrics import PrecisionRecallDisplay\n",
    "from sklearn.metrics import precision_recall_curve\n",
    "\n",
    "\n",
    "precision, recall, thresholds = precision_recall_curve(y_train, pipe.fit(X_train, y_train).predict_proba(X_train)[:, 1])\n",
    "PrecisionRecallDisplay(precision, recall).plot()\n",
    "print(f'AUC={auc(recall, precision):.3f}')"
   ]
  },
  {
   "cell_type": "markdown",
   "id": "17e1043c-1473-49f0-a276-063440618c81",
   "metadata": {},
   "source": [
    "### Task 8. "
   ]
  },
  {
   "cell_type": "markdown",
   "id": "7a1501fe-3602-4fc9-991b-fa6fa4659342",
   "metadata": {},
   "source": [
    "Build PR-curve on test data."
   ]
  },
  {
   "cell_type": "code",
   "execution_count": 15,
   "id": "70a247d4-340b-4103-a760-c59c6516da0f",
   "metadata": {},
   "outputs": [
    {
     "name": "stdout",
     "output_type": "stream",
     "text": [
      "AUC=0.359\n"
     ]
    },
    {
     "data": {
      "image/png": "[encoded data removed]",
      "text/plain": [
       "<Figure size 432x288 with 1 Axes>"
      ]
     },
     "metadata": {
      "needs_background": "light"
     },
     "output_type": "display_data"
    }
   ],
   "source": [
    "precision, recall, thresholds = precision_recall_curve(y_test, pipe.fit(X_train, y_train).predict_proba(X_test)[:, 1])\n",
    "PrecisionRecallDisplay(precision, recall).plot()\n",
    "print(f'AUC={auc(recall, precision):.3f}')"
   ]
  },
  {
   "cell_type": "markdown",
   "id": "4316ac3b-4151-4172-b20e-292e745ba229",
   "metadata": {},
   "source": [
    "### Task 9. "
   ]
  },
  {
   "cell_type": "markdown",
   "id": "6a023178-80d9-49ec-87ee-4b94539d966e",
   "metadata": {},
   "source": [
    "Build a calibration curve and compare our model results with random model and an ideal model."
   ]
  },
  {
   "cell_type": "code",
   "execution_count": 16,
   "id": "28a1251d-84b4-4ff6-9db2-08d95498573e",
   "metadata": {},
   "outputs": [
    {
     "data": {
      "image/png": "[encoded data removed]",
      "text/plain": [
       "<Figure size 576x360 with 1 Axes>"
      ]
     },
     "metadata": {
      "needs_background": "light"
     },
     "output_type": "display_data"
    }
   ],
   "source": [
    "from sklearn.calibration import calibration_curve\n",
    "\n",
    "\n",
    "# perfectly calibrated line\n",
    "plt.figure(figsize=(8, 5))\n",
    "plt.plot([0, 1], [0, 1], 'k:', label='Perfectly calibrated')\n",
    "\n",
    "# model predictions on test data\n",
    "prob_pos = pipe.predict_proba(X_test)[:, 1]\n",
    "fraction_of_positives, mean_predicted_value = calibration_curve(y_test, prob_pos, n_bins=10)\n",
    "plt.plot(mean_predicted_value, fraction_of_positives, 's-', label='logreg')\n",
    "\n",
    "# random model prediction results\n",
    "prob_pos = np.random.uniform(size=(X_test.shape[0],))\n",
    "fraction_of_positives, mean_predicted_value = calibration_curve(y_test, prob_pos, n_bins=10)\n",
    "plt.plot(mean_predicted_value, fraction_of_positives, 's-', label='random')\n",
    "\n",
    "plt.ylabel('Fraction of positives')\n",
    "plt.xlabel('Mean predicted value')\n",
    "plt.ylim([-0.05, 1.05])\n",
    "plt.legend(loc='lower right')\n",
    "plt.title('Calibration plots  (reliability curve)')\n",
    "plt.tight_layout()"
   ]
  },
  {
   "cell_type": "markdown",
   "id": "b5140a9a-91d8-462d-8f01-d32f87bc3251",
   "metadata": {},
   "source": [
    "As we can see from the graphs, our model is well calibrated. "
   ]
  }
 ],
 "metadata": {
  "kernelspec": {
   "display_name": "Python 3 (ipykernel)",
   "language": "python",
   "name": "python3"
  },
  "language_info": {
   "codemirror_mode": {
    "name": "ipython",
    "version": 3
   },
   "file_extension": ".py",
   "mimetype": "text/x-python",
   "name": "python",
   "nbconvert_exporter": "python",
   "pygments_lexer": "ipython3",
   "version": "3.8.10"
  }
 },
 "nbformat": 4,
 "nbformat_minor": 5
}
