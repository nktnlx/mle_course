{
 "cells": [
  {
   "cell_type": "markdown",
   "id": "cb747a0a-d5db-46b4-90d2-585621f1c44a",
   "metadata": {},
   "source": [
    "# Intro to ML"
   ]
  },
  {
   "cell_type": "markdown",
   "id": "1350911d-b651-44ec-8555-88aeb7bd991f",
   "metadata": {},
   "source": [
    "## Dataset Description "
   ]
  },
  {
   "cell_type": "markdown",
   "id": "4233983b-4db1-4d10-a2f4-c220e4004107",
   "metadata": {},
   "source": [
    "- `id` - Trip ID\n",
    "- `vendor_id` - ID of the transportation company\n",
    "- `pickup_datetime` - Timestamp of the trip start\n",
    "- `dropoff_datetime` - Timestamp of the trip end\n",
    "- `passenger_count` - Number of passengers\n",
    "- `pickup_longitude` - Longitude of the pickup location\n",
    "- `pickup_latitude` - Latitude of the pickup location\n",
    "- `dropoff_longitude` - Longitude of the dropoff location\n",
    "- `dropoff_latitude` - Latitude of the dropoff location\n",
    "- `store_and_fwd_flag` - Yes/No: Was the information stored in the vehicle's memory due to loss of connection with the server"
   ]
  },
  {
   "cell_type": "markdown",
   "id": "c754b9c7-501f-465f-9160-5ca29185e2cc",
   "metadata": {},
   "source": [
    "## Tasks"
   ]
  },
  {
   "cell_type": "markdown",
   "id": "6a08a8d8-37a7-4a4e-b354-4db6e2f16a56",
   "metadata": {},
   "source": [
    "### Task 1"
   ]
  },
  {
   "cell_type": "markdown",
   "id": "bdbe5dc3-20db-4123-87a8-c13481055a28",
   "metadata": {},
   "source": [
    "Load the data and check it. "
   ]
  },
  {
   "cell_type": "code",
   "execution_count": 1,
   "id": "fc38d53b-fc57-4610-bbc6-16e24700591a",
   "metadata": {},
   "outputs": [],
   "source": [
    "import pandas as pd\n",
    "import numpy as np\n",
    "import matplotlib.pyplot as plt\n",
    "\n",
    "taxiDB = pd.read_csv('taxi_dataset.csv')"
   ]
  },
  {
   "cell_type": "code",
   "execution_count": 2,
   "id": "7d5a1ca3-71c0-4e14-a4a7-d4878712ff3d",
   "metadata": {},
   "outputs": [
    {
     "data": {
      "text/html": [
       "<div>\n",
       "<style scoped>\n",
       "    .dataframe tbody tr th:only-of-type {\n",
       "        vertical-align: middle;\n",
       "    }\n",
       "\n",
       "    .dataframe tbody tr th {\n",
       "        vertical-align: top;\n",
       "    }\n",
       "\n",
       "    .dataframe thead th {\n",
       "        text-align: right;\n",
       "    }\n",
       "</style>\n",
       "<table border=\"1\" class=\"dataframe\">\n",
       "  <thead>\n",
       "    <tr style=\"text-align: right;\">\n",
       "      <th></th>\n",
       "      <th>id</th>\n",
       "      <th>vendor_id</th>\n",
       "      <th>pickup_datetime</th>\n",
       "      <th>dropoff_datetime</th>\n",
       "      <th>passenger_count</th>\n",
       "      <th>pickup_longitude</th>\n",
       "      <th>pickup_latitude</th>\n",
       "      <th>dropoff_longitude</th>\n",
       "      <th>dropoff_latitude</th>\n",
       "      <th>store_and_fwd_flag</th>\n",
       "    </tr>\n",
       "  </thead>\n",
       "  <tbody>\n",
       "    <tr>\n",
       "      <th>0</th>\n",
       "      <td>id2875421</td>\n",
       "      <td>2</td>\n",
       "      <td>2016-03-14 17:24:55</td>\n",
       "      <td>2016-03-14 17:32:30</td>\n",
       "      <td>1</td>\n",
       "      <td>-73.982155</td>\n",
       "      <td>40.767937</td>\n",
       "      <td>-73.964630</td>\n",
       "      <td>40.765602</td>\n",
       "      <td>N</td>\n",
       "    </tr>\n",
       "    <tr>\n",
       "      <th>1</th>\n",
       "      <td>id2377394</td>\n",
       "      <td>1</td>\n",
       "      <td>2016-06-12 00:43:35</td>\n",
       "      <td>2016-06-12 00:54:38</td>\n",
       "      <td>1</td>\n",
       "      <td>-73.980415</td>\n",
       "      <td>40.738564</td>\n",
       "      <td>-73.999481</td>\n",
       "      <td>40.731152</td>\n",
       "      <td>N</td>\n",
       "    </tr>\n",
       "    <tr>\n",
       "      <th>2</th>\n",
       "      <td>id3858529</td>\n",
       "      <td>2</td>\n",
       "      <td>2016-01-19 11:35:24</td>\n",
       "      <td>2016-01-19 12:10:48</td>\n",
       "      <td>1</td>\n",
       "      <td>-73.979027</td>\n",
       "      <td>40.763939</td>\n",
       "      <td>-74.005333</td>\n",
       "      <td>40.710087</td>\n",
       "      <td>N</td>\n",
       "    </tr>\n",
       "    <tr>\n",
       "      <th>3</th>\n",
       "      <td>id3504673</td>\n",
       "      <td>2</td>\n",
       "      <td>2016-04-06 19:32:31</td>\n",
       "      <td>2016-04-06 19:39:40</td>\n",
       "      <td>1</td>\n",
       "      <td>-74.010040</td>\n",
       "      <td>40.719971</td>\n",
       "      <td>-74.012268</td>\n",
       "      <td>40.706718</td>\n",
       "      <td>N</td>\n",
       "    </tr>\n",
       "    <tr>\n",
       "      <th>4</th>\n",
       "      <td>id2181028</td>\n",
       "      <td>2</td>\n",
       "      <td>2016-03-26 13:30:55</td>\n",
       "      <td>2016-03-26 13:38:10</td>\n",
       "      <td>1</td>\n",
       "      <td>-73.973053</td>\n",
       "      <td>40.793209</td>\n",
       "      <td>-73.972923</td>\n",
       "      <td>40.782520</td>\n",
       "      <td>N</td>\n",
       "    </tr>\n",
       "  </tbody>\n",
       "</table>\n",
       "</div>"
      ],
      "text/plain": [
       "          id  vendor_id      pickup_datetime     dropoff_datetime  \\\n",
       "0  id2875421          2  2016-03-14 17:24:55  2016-03-14 17:32:30   \n",
       "1  id2377394          1  2016-06-12 00:43:35  2016-06-12 00:54:38   \n",
       "2  id3858529          2  2016-01-19 11:35:24  2016-01-19 12:10:48   \n",
       "3  id3504673          2  2016-04-06 19:32:31  2016-04-06 19:39:40   \n",
       "4  id2181028          2  2016-03-26 13:30:55  2016-03-26 13:38:10   \n",
       "\n",
       "   passenger_count  pickup_longitude  pickup_latitude  dropoff_longitude  \\\n",
       "0                1        -73.982155        40.767937         -73.964630   \n",
       "1                1        -73.980415        40.738564         -73.999481   \n",
       "2                1        -73.979027        40.763939         -74.005333   \n",
       "3                1        -74.010040        40.719971         -74.012268   \n",
       "4                1        -73.973053        40.793209         -73.972923   \n",
       "\n",
       "   dropoff_latitude store_and_fwd_flag  \n",
       "0         40.765602                  N  \n",
       "1         40.731152                  N  \n",
       "2         40.710087                  N  \n",
       "3         40.706718                  N  \n",
       "4         40.782520                  N  "
      ]
     },
     "execution_count": 2,
     "metadata": {},
     "output_type": "execute_result"
    }
   ],
   "source": [
    "taxiDB.head()"
   ]
  },
  {
   "cell_type": "code",
   "execution_count": 3,
   "id": "dcb31fdc-1cac-495c-9c98-f7faea6d6dc0",
   "metadata": {},
   "outputs": [
    {
     "name": "stdout",
     "output_type": "stream",
     "text": [
      "<class 'pandas.core.frame.DataFrame'>\n",
      "RangeIndex: 1458644 entries, 0 to 1458643\n",
      "Data columns (total 10 columns):\n",
      " #   Column              Non-Null Count    Dtype  \n",
      "---  ------              --------------    -----  \n",
      " 0   id                  1458644 non-null  object \n",
      " 1   vendor_id           1458644 non-null  int64  \n",
      " 2   pickup_datetime     1458644 non-null  object \n",
      " 3   dropoff_datetime    1458644 non-null  object \n",
      " 4   passenger_count     1458644 non-null  int64  \n",
      " 5   pickup_longitude    1458644 non-null  float64\n",
      " 6   pickup_latitude     1458644 non-null  float64\n",
      " 7   dropoff_longitude   1458644 non-null  float64\n",
      " 8   dropoff_latitude    1458644 non-null  float64\n",
      " 9   store_and_fwd_flag  1458644 non-null  object \n",
      "dtypes: float64(4), int64(2), object(4)\n",
      "memory usage: 111.3+ MB\n"
     ]
    }
   ],
   "source": [
    "taxiDB.info()"
   ]
  },
  {
   "cell_type": "markdown",
   "id": "54372a63-0de8-4ad6-b8ab-24577a168866",
   "metadata": {},
   "source": [
    "### Task 2"
   ]
  },
  {
   "cell_type": "markdown",
   "id": "167a774a-2abb-48aa-8010-64968fe0181f",
   "metadata": {},
   "source": [
    "Convert datetime columns into datetime data type. "
   ]
  },
  {
   "cell_type": "code",
   "execution_count": 4,
   "id": "e7404684-51a3-4357-9030-01d0a6868351",
   "metadata": {},
   "outputs": [],
   "source": [
    "taxiDB['pickup_datetime'] = pd.to_datetime(taxiDB['pickup_datetime'])\n",
    "taxiDB['dropoff_datetime'] = pd.to_datetime(taxiDB['dropoff_datetime'])"
   ]
  },
  {
   "cell_type": "code",
   "execution_count": 5,
   "id": "32f8bef3-e20d-4082-9db2-df5b36a70fa2",
   "metadata": {},
   "outputs": [
    {
     "name": "stdout",
     "output_type": "stream",
     "text": [
      "<class 'pandas.core.frame.DataFrame'>\n",
      "RangeIndex: 1458644 entries, 0 to 1458643\n",
      "Data columns (total 10 columns):\n",
      " #   Column              Non-Null Count    Dtype         \n",
      "---  ------              --------------    -----         \n",
      " 0   id                  1458644 non-null  object        \n",
      " 1   vendor_id           1458644 non-null  int64         \n",
      " 2   pickup_datetime     1458644 non-null  datetime64[ns]\n",
      " 3   dropoff_datetime    1458644 non-null  datetime64[ns]\n",
      " 4   passenger_count     1458644 non-null  int64         \n",
      " 5   pickup_longitude    1458644 non-null  float64       \n",
      " 6   pickup_latitude     1458644 non-null  float64       \n",
      " 7   dropoff_longitude   1458644 non-null  float64       \n",
      " 8   dropoff_latitude    1458644 non-null  float64       \n",
      " 9   store_and_fwd_flag  1458644 non-null  object        \n",
      "dtypes: datetime64[ns](2), float64(4), int64(2), object(2)\n",
      "memory usage: 111.3+ MB\n"
     ]
    }
   ],
   "source": [
    "taxiDB.info()"
   ]
  },
  {
   "cell_type": "markdown",
   "id": "56015b10-4f8d-4630-823c-ef0b5a9e5ebd",
   "metadata": {},
   "source": [
    "### Task 3"
   ]
  },
  {
   "cell_type": "markdown",
   "id": "b24dd3a9-722b-4ad7-b1bc-b0c0f34707de",
   "metadata": {},
   "source": [
    "Create one of our targets `trip_duration` that will be in seconds. "
   ]
  },
  {
   "cell_type": "code",
   "execution_count": 6,
   "id": "7f1a5587-7f41-4b9e-953c-a9836633fb80",
   "metadata": {},
   "outputs": [],
   "source": [
    "taxiDB['trip_duration'] = (taxiDB['dropoff_datetime'] - taxiDB['pickup_datetime']).dt.total_seconds()"
   ]
  },
  {
   "cell_type": "code",
   "execution_count": 7,
   "id": "6faa4650-eb4b-4cfc-b12f-c0d34b5ef298",
   "metadata": {},
   "outputs": [
    {
     "data": {
      "text/html": [
       "<div>\n",
       "<style scoped>\n",
       "    .dataframe tbody tr th:only-of-type {\n",
       "        vertical-align: middle;\n",
       "    }\n",
       "\n",
       "    .dataframe tbody tr th {\n",
       "        vertical-align: top;\n",
       "    }\n",
       "\n",
       "    .dataframe thead th {\n",
       "        text-align: right;\n",
       "    }\n",
       "</style>\n",
       "<table border=\"1\" class=\"dataframe\">\n",
       "  <thead>\n",
       "    <tr style=\"text-align: right;\">\n",
       "      <th></th>\n",
       "      <th>id</th>\n",
       "      <th>vendor_id</th>\n",
       "      <th>pickup_datetime</th>\n",
       "      <th>dropoff_datetime</th>\n",
       "      <th>passenger_count</th>\n",
       "      <th>pickup_longitude</th>\n",
       "      <th>pickup_latitude</th>\n",
       "      <th>dropoff_longitude</th>\n",
       "      <th>dropoff_latitude</th>\n",
       "      <th>store_and_fwd_flag</th>\n",
       "      <th>trip_duration</th>\n",
       "    </tr>\n",
       "  </thead>\n",
       "  <tbody>\n",
       "    <tr>\n",
       "      <th>0</th>\n",
       "      <td>id2875421</td>\n",
       "      <td>2</td>\n",
       "      <td>2016-03-14 17:24:55</td>\n",
       "      <td>2016-03-14 17:32:30</td>\n",
       "      <td>1</td>\n",
       "      <td>-73.982155</td>\n",
       "      <td>40.767937</td>\n",
       "      <td>-73.964630</td>\n",
       "      <td>40.765602</td>\n",
       "      <td>N</td>\n",
       "      <td>455.0</td>\n",
       "    </tr>\n",
       "    <tr>\n",
       "      <th>1</th>\n",
       "      <td>id2377394</td>\n",
       "      <td>1</td>\n",
       "      <td>2016-06-12 00:43:35</td>\n",
       "      <td>2016-06-12 00:54:38</td>\n",
       "      <td>1</td>\n",
       "      <td>-73.980415</td>\n",
       "      <td>40.738564</td>\n",
       "      <td>-73.999481</td>\n",
       "      <td>40.731152</td>\n",
       "      <td>N</td>\n",
       "      <td>663.0</td>\n",
       "    </tr>\n",
       "    <tr>\n",
       "      <th>2</th>\n",
       "      <td>id3858529</td>\n",
       "      <td>2</td>\n",
       "      <td>2016-01-19 11:35:24</td>\n",
       "      <td>2016-01-19 12:10:48</td>\n",
       "      <td>1</td>\n",
       "      <td>-73.979027</td>\n",
       "      <td>40.763939</td>\n",
       "      <td>-74.005333</td>\n",
       "      <td>40.710087</td>\n",
       "      <td>N</td>\n",
       "      <td>2124.0</td>\n",
       "    </tr>\n",
       "    <tr>\n",
       "      <th>3</th>\n",
       "      <td>id3504673</td>\n",
       "      <td>2</td>\n",
       "      <td>2016-04-06 19:32:31</td>\n",
       "      <td>2016-04-06 19:39:40</td>\n",
       "      <td>1</td>\n",
       "      <td>-74.010040</td>\n",
       "      <td>40.719971</td>\n",
       "      <td>-74.012268</td>\n",
       "      <td>40.706718</td>\n",
       "      <td>N</td>\n",
       "      <td>429.0</td>\n",
       "    </tr>\n",
       "    <tr>\n",
       "      <th>4</th>\n",
       "      <td>id2181028</td>\n",
       "      <td>2</td>\n",
       "      <td>2016-03-26 13:30:55</td>\n",
       "      <td>2016-03-26 13:38:10</td>\n",
       "      <td>1</td>\n",
       "      <td>-73.973053</td>\n",
       "      <td>40.793209</td>\n",
       "      <td>-73.972923</td>\n",
       "      <td>40.782520</td>\n",
       "      <td>N</td>\n",
       "      <td>435.0</td>\n",
       "    </tr>\n",
       "  </tbody>\n",
       "</table>\n",
       "</div>"
      ],
      "text/plain": [
       "          id  vendor_id     pickup_datetime    dropoff_datetime  \\\n",
       "0  id2875421          2 2016-03-14 17:24:55 2016-03-14 17:32:30   \n",
       "1  id2377394          1 2016-06-12 00:43:35 2016-06-12 00:54:38   \n",
       "2  id3858529          2 2016-01-19 11:35:24 2016-01-19 12:10:48   \n",
       "3  id3504673          2 2016-04-06 19:32:31 2016-04-06 19:39:40   \n",
       "4  id2181028          2 2016-03-26 13:30:55 2016-03-26 13:38:10   \n",
       "\n",
       "   passenger_count  pickup_longitude  pickup_latitude  dropoff_longitude  \\\n",
       "0                1        -73.982155        40.767937         -73.964630   \n",
       "1                1        -73.980415        40.738564         -73.999481   \n",
       "2                1        -73.979027        40.763939         -74.005333   \n",
       "3                1        -74.010040        40.719971         -74.012268   \n",
       "4                1        -73.973053        40.793209         -73.972923   \n",
       "\n",
       "   dropoff_latitude store_and_fwd_flag  trip_duration  \n",
       "0         40.765602                  N          455.0  \n",
       "1         40.731152                  N          663.0  \n",
       "2         40.710087                  N         2124.0  \n",
       "3         40.706718                  N          429.0  \n",
       "4         40.782520                  N          435.0  "
      ]
     },
     "execution_count": 7,
     "metadata": {},
     "output_type": "execute_result"
    }
   ],
   "source": [
    "taxiDB.head()"
   ]
  },
  {
   "cell_type": "markdown",
   "id": "6d83296a-37e6-483f-9f44-d194b5295f03",
   "metadata": {},
   "source": [
    "### Task 4"
   ]
  },
  {
   "cell_type": "markdown",
   "id": "f675c57b-a160-48c7-8e17-072d6be3213d",
   "metadata": {},
   "source": [
    "Remove `dropoff_datetime` column from your dataset. "
   ]
  },
  {
   "cell_type": "code",
   "execution_count": 8,
   "id": "99698ac1-2b90-4be0-9c6f-c7a0317f610e",
   "metadata": {},
   "outputs": [],
   "source": [
    "taxiDB.drop('dropoff_datetime', axis=1, inplace=True)"
   ]
  },
  {
   "cell_type": "code",
   "execution_count": 9,
   "id": "7f49ca47-d251-4b00-bc20-814dd9a6ea9e",
   "metadata": {},
   "outputs": [
    {
     "data": {
      "text/html": [
       "<div>\n",
       "<style scoped>\n",
       "    .dataframe tbody tr th:only-of-type {\n",
       "        vertical-align: middle;\n",
       "    }\n",
       "\n",
       "    .dataframe tbody tr th {\n",
       "        vertical-align: top;\n",
       "    }\n",
       "\n",
       "    .dataframe thead th {\n",
       "        text-align: right;\n",
       "    }\n",
       "</style>\n",
       "<table border=\"1\" class=\"dataframe\">\n",
       "  <thead>\n",
       "    <tr style=\"text-align: right;\">\n",
       "      <th></th>\n",
       "      <th>id</th>\n",
       "      <th>vendor_id</th>\n",
       "      <th>pickup_datetime</th>\n",
       "      <th>passenger_count</th>\n",
       "      <th>pickup_longitude</th>\n",
       "      <th>pickup_latitude</th>\n",
       "      <th>dropoff_longitude</th>\n",
       "      <th>dropoff_latitude</th>\n",
       "      <th>store_and_fwd_flag</th>\n",
       "      <th>trip_duration</th>\n",
       "    </tr>\n",
       "  </thead>\n",
       "  <tbody>\n",
       "    <tr>\n",
       "      <th>0</th>\n",
       "      <td>id2875421</td>\n",
       "      <td>2</td>\n",
       "      <td>2016-03-14 17:24:55</td>\n",
       "      <td>1</td>\n",
       "      <td>-73.982155</td>\n",
       "      <td>40.767937</td>\n",
       "      <td>-73.964630</td>\n",
       "      <td>40.765602</td>\n",
       "      <td>N</td>\n",
       "      <td>455.0</td>\n",
       "    </tr>\n",
       "    <tr>\n",
       "      <th>1</th>\n",
       "      <td>id2377394</td>\n",
       "      <td>1</td>\n",
       "      <td>2016-06-12 00:43:35</td>\n",
       "      <td>1</td>\n",
       "      <td>-73.980415</td>\n",
       "      <td>40.738564</td>\n",
       "      <td>-73.999481</td>\n",
       "      <td>40.731152</td>\n",
       "      <td>N</td>\n",
       "      <td>663.0</td>\n",
       "    </tr>\n",
       "    <tr>\n",
       "      <th>2</th>\n",
       "      <td>id3858529</td>\n",
       "      <td>2</td>\n",
       "      <td>2016-01-19 11:35:24</td>\n",
       "      <td>1</td>\n",
       "      <td>-73.979027</td>\n",
       "      <td>40.763939</td>\n",
       "      <td>-74.005333</td>\n",
       "      <td>40.710087</td>\n",
       "      <td>N</td>\n",
       "      <td>2124.0</td>\n",
       "    </tr>\n",
       "    <tr>\n",
       "      <th>3</th>\n",
       "      <td>id3504673</td>\n",
       "      <td>2</td>\n",
       "      <td>2016-04-06 19:32:31</td>\n",
       "      <td>1</td>\n",
       "      <td>-74.010040</td>\n",
       "      <td>40.719971</td>\n",
       "      <td>-74.012268</td>\n",
       "      <td>40.706718</td>\n",
       "      <td>N</td>\n",
       "      <td>429.0</td>\n",
       "    </tr>\n",
       "    <tr>\n",
       "      <th>4</th>\n",
       "      <td>id2181028</td>\n",
       "      <td>2</td>\n",
       "      <td>2016-03-26 13:30:55</td>\n",
       "      <td>1</td>\n",
       "      <td>-73.973053</td>\n",
       "      <td>40.793209</td>\n",
       "      <td>-73.972923</td>\n",
       "      <td>40.782520</td>\n",
       "      <td>N</td>\n",
       "      <td>435.0</td>\n",
       "    </tr>\n",
       "  </tbody>\n",
       "</table>\n",
       "</div>"
      ],
      "text/plain": [
       "          id  vendor_id     pickup_datetime  passenger_count  \\\n",
       "0  id2875421          2 2016-03-14 17:24:55                1   \n",
       "1  id2377394          1 2016-06-12 00:43:35                1   \n",
       "2  id3858529          2 2016-01-19 11:35:24                1   \n",
       "3  id3504673          2 2016-04-06 19:32:31                1   \n",
       "4  id2181028          2 2016-03-26 13:30:55                1   \n",
       "\n",
       "   pickup_longitude  pickup_latitude  dropoff_longitude  dropoff_latitude  \\\n",
       "0        -73.982155        40.767937         -73.964630         40.765602   \n",
       "1        -73.980415        40.738564         -73.999481         40.731152   \n",
       "2        -73.979027        40.763939         -74.005333         40.710087   \n",
       "3        -74.010040        40.719971         -74.012268         40.706718   \n",
       "4        -73.973053        40.793209         -73.972923         40.782520   \n",
       "\n",
       "  store_and_fwd_flag  trip_duration  \n",
       "0                  N          455.0  \n",
       "1                  N          663.0  \n",
       "2                  N         2124.0  \n",
       "3                  N          429.0  \n",
       "4                  N          435.0  "
      ]
     },
     "execution_count": 9,
     "metadata": {},
     "output_type": "execute_result"
    }
   ],
   "source": [
    "taxiDB.head()"
   ]
  },
  {
   "cell_type": "markdown",
   "id": "4868e0a2-a3a5-41f9-8488-b2373947bc3e",
   "metadata": {},
   "source": [
    "### Task 5"
   ]
  },
  {
   "cell_type": "markdown",
   "id": "4e5db748-292f-4de2-944f-6c84876727d9",
   "metadata": {},
   "source": [
    "Change values in `vendor_id` column from {1, 2} to {0, 1}.  "
   ]
  },
  {
   "cell_type": "code",
   "execution_count": 10,
   "id": "77e99371-735e-4e91-af08-499f47a570d1",
   "metadata": {},
   "outputs": [
    {
     "data": {
      "text/plain": [
       "2    780302\n",
       "1    678342\n",
       "Name: vendor_id, dtype: int64"
      ]
     },
     "execution_count": 10,
     "metadata": {},
     "output_type": "execute_result"
    }
   ],
   "source": [
    "taxiDB['vendor_id'].value_counts()"
   ]
  },
  {
   "cell_type": "code",
   "execution_count": 11,
   "id": "c4c13fb2-8816-4abb-aeca-cea616864da8",
   "metadata": {},
   "outputs": [],
   "source": [
    "taxiDB['vendor_id'] = taxiDB['vendor_id'] - 1"
   ]
  },
  {
   "cell_type": "code",
   "execution_count": 12,
   "id": "dbd6051c-29f3-4137-86b5-a17394ff9aa3",
   "metadata": {},
   "outputs": [
    {
     "data": {
      "text/plain": [
       "1    780302\n",
       "0    678342\n",
       "Name: vendor_id, dtype: int64"
      ]
     },
     "execution_count": 12,
     "metadata": {},
     "output_type": "execute_result"
    }
   ],
   "source": [
    "taxiDB['vendor_id'].value_counts()"
   ]
  },
  {
   "cell_type": "markdown",
   "id": "3d2f3ed4-0ac3-4b81-a890-8b156dd83054",
   "metadata": {},
   "source": [
    "### Task 6"
   ]
  },
  {
   "cell_type": "markdown",
   "id": "1c2e40a1-2c04-4616-ac55-f6105aec7228",
   "metadata": {},
   "source": [
    "Find another binary feature and decode it to {0, 1} as well. "
   ]
  },
  {
   "cell_type": "code",
   "execution_count": 13,
   "id": "2ce6c72f-c93d-4bd8-99de-265a21f56166",
   "metadata": {},
   "outputs": [
    {
     "data": {
      "text/plain": [
       "N    1450599\n",
       "Y       8045\n",
       "Name: store_and_fwd_flag, dtype: int64"
      ]
     },
     "execution_count": 13,
     "metadata": {},
     "output_type": "execute_result"
    }
   ],
   "source": [
    "taxiDB.store_and_fwd_flag.value_counts()"
   ]
  },
  {
   "cell_type": "code",
   "execution_count": 14,
   "id": "a18f9418-be9e-4a12-aaf0-4d03c817d082",
   "metadata": {},
   "outputs": [],
   "source": [
    "def yes_no_to_binary(s):\n",
    "    if s == 'N':\n",
    "        return 0\n",
    "    return 1"
   ]
  },
  {
   "cell_type": "code",
   "execution_count": 15,
   "id": "20cee109-3040-4c11-9bb7-9e49d5fc9aa2",
   "metadata": {},
   "outputs": [],
   "source": [
    "taxiDB.store_and_fwd_flag = taxiDB.store_and_fwd_flag.apply(yes_no_to_binary)"
   ]
  },
  {
   "cell_type": "code",
   "execution_count": 16,
   "id": "9d9238e8-a1f3-4944-ae49-72f5b34346c3",
   "metadata": {},
   "outputs": [
    {
     "data": {
      "text/plain": [
       "0    1450599\n",
       "1       8045\n",
       "Name: store_and_fwd_flag, dtype: int64"
      ]
     },
     "execution_count": 16,
     "metadata": {},
     "output_type": "execute_result"
    }
   ],
   "source": [
    "taxiDB.store_and_fwd_flag.value_counts()"
   ]
  },
  {
   "cell_type": "code",
   "execution_count": 17,
   "id": "0e279d10-b806-4fde-a887-e4dff2be1b51",
   "metadata": {},
   "outputs": [
    {
     "data": {
      "text/html": [
       "<div>\n",
       "<style scoped>\n",
       "    .dataframe tbody tr th:only-of-type {\n",
       "        vertical-align: middle;\n",
       "    }\n",
       "\n",
       "    .dataframe tbody tr th {\n",
       "        vertical-align: top;\n",
       "    }\n",
       "\n",
       "    .dataframe thead th {\n",
       "        text-align: right;\n",
       "    }\n",
       "</style>\n",
       "<table border=\"1\" class=\"dataframe\">\n",
       "  <thead>\n",
       "    <tr style=\"text-align: right;\">\n",
       "      <th></th>\n",
       "      <th>id</th>\n",
       "      <th>vendor_id</th>\n",
       "      <th>pickup_datetime</th>\n",
       "      <th>passenger_count</th>\n",
       "      <th>pickup_longitude</th>\n",
       "      <th>pickup_latitude</th>\n",
       "      <th>dropoff_longitude</th>\n",
       "      <th>dropoff_latitude</th>\n",
       "      <th>store_and_fwd_flag</th>\n",
       "      <th>trip_duration</th>\n",
       "    </tr>\n",
       "  </thead>\n",
       "  <tbody>\n",
       "    <tr>\n",
       "      <th>0</th>\n",
       "      <td>id2875421</td>\n",
       "      <td>1</td>\n",
       "      <td>2016-03-14 17:24:55</td>\n",
       "      <td>1</td>\n",
       "      <td>-73.982155</td>\n",
       "      <td>40.767937</td>\n",
       "      <td>-73.964630</td>\n",
       "      <td>40.765602</td>\n",
       "      <td>0</td>\n",
       "      <td>455.0</td>\n",
       "    </tr>\n",
       "    <tr>\n",
       "      <th>1</th>\n",
       "      <td>id2377394</td>\n",
       "      <td>0</td>\n",
       "      <td>2016-06-12 00:43:35</td>\n",
       "      <td>1</td>\n",
       "      <td>-73.980415</td>\n",
       "      <td>40.738564</td>\n",
       "      <td>-73.999481</td>\n",
       "      <td>40.731152</td>\n",
       "      <td>0</td>\n",
       "      <td>663.0</td>\n",
       "    </tr>\n",
       "    <tr>\n",
       "      <th>2</th>\n",
       "      <td>id3858529</td>\n",
       "      <td>1</td>\n",
       "      <td>2016-01-19 11:35:24</td>\n",
       "      <td>1</td>\n",
       "      <td>-73.979027</td>\n",
       "      <td>40.763939</td>\n",
       "      <td>-74.005333</td>\n",
       "      <td>40.710087</td>\n",
       "      <td>0</td>\n",
       "      <td>2124.0</td>\n",
       "    </tr>\n",
       "    <tr>\n",
       "      <th>3</th>\n",
       "      <td>id3504673</td>\n",
       "      <td>1</td>\n",
       "      <td>2016-04-06 19:32:31</td>\n",
       "      <td>1</td>\n",
       "      <td>-74.010040</td>\n",
       "      <td>40.719971</td>\n",
       "      <td>-74.012268</td>\n",
       "      <td>40.706718</td>\n",
       "      <td>0</td>\n",
       "      <td>429.0</td>\n",
       "    </tr>\n",
       "    <tr>\n",
       "      <th>4</th>\n",
       "      <td>id2181028</td>\n",
       "      <td>1</td>\n",
       "      <td>2016-03-26 13:30:55</td>\n",
       "      <td>1</td>\n",
       "      <td>-73.973053</td>\n",
       "      <td>40.793209</td>\n",
       "      <td>-73.972923</td>\n",
       "      <td>40.782520</td>\n",
       "      <td>0</td>\n",
       "      <td>435.0</td>\n",
       "    </tr>\n",
       "  </tbody>\n",
       "</table>\n",
       "</div>"
      ],
      "text/plain": [
       "          id  vendor_id     pickup_datetime  passenger_count  \\\n",
       "0  id2875421          1 2016-03-14 17:24:55                1   \n",
       "1  id2377394          0 2016-06-12 00:43:35                1   \n",
       "2  id3858529          1 2016-01-19 11:35:24                1   \n",
       "3  id3504673          1 2016-04-06 19:32:31                1   \n",
       "4  id2181028          1 2016-03-26 13:30:55                1   \n",
       "\n",
       "   pickup_longitude  pickup_latitude  dropoff_longitude  dropoff_latitude  \\\n",
       "0        -73.982155        40.767937         -73.964630         40.765602   \n",
       "1        -73.980415        40.738564         -73.999481         40.731152   \n",
       "2        -73.979027        40.763939         -74.005333         40.710087   \n",
       "3        -74.010040        40.719971         -74.012268         40.706718   \n",
       "4        -73.973053        40.793209         -73.972923         40.782520   \n",
       "\n",
       "   store_and_fwd_flag  trip_duration  \n",
       "0                   0          455.0  \n",
       "1                   0          663.0  \n",
       "2                   0         2124.0  \n",
       "3                   0          429.0  \n",
       "4                   0          435.0  "
      ]
     },
     "execution_count": 17,
     "metadata": {},
     "output_type": "execute_result"
    }
   ],
   "source": [
    "taxiDB.head()"
   ]
  },
  {
   "cell_type": "markdown",
   "id": "ee167b03-e519-4c6d-aa38-353edb3d3a17",
   "metadata": {},
   "source": [
    "### Task 7"
   ]
  },
  {
   "cell_type": "markdown",
   "id": "3d600ba2-306d-4235-aeb4-356fbd570b0c",
   "metadata": {},
   "source": [
    "Save the first 10 rows of your dataset into a `csv` file. "
   ]
  },
  {
   "cell_type": "code",
   "execution_count": 18,
   "id": "28405a83-239f-4380-bff8-365ad9f273e3",
   "metadata": {},
   "outputs": [],
   "source": [
    "taxiDB = taxiDB.astype({'pickup_datetime': 'object', 'trip_duration': 'float64'})"
   ]
  },
  {
   "cell_type": "code",
   "execution_count": 19,
   "id": "368df21e-df38-483d-af3e-86ce4a5bf4dc",
   "metadata": {},
   "outputs": [
    {
     "name": "stdout",
     "output_type": "stream",
     "text": [
      "<class 'pandas.core.frame.DataFrame'>\n",
      "RangeIndex: 10 entries, 0 to 9\n",
      "Data columns (total 10 columns):\n",
      " #   Column              Non-Null Count  Dtype  \n",
      "---  ------              --------------  -----  \n",
      " 0   id                  10 non-null     object \n",
      " 1   vendor_id           10 non-null     int64  \n",
      " 2   pickup_datetime     10 non-null     object \n",
      " 3   passenger_count     10 non-null     int64  \n",
      " 4   pickup_longitude    10 non-null     float64\n",
      " 5   pickup_latitude     10 non-null     float64\n",
      " 6   dropoff_longitude   10 non-null     float64\n",
      " 7   dropoff_latitude    10 non-null     float64\n",
      " 8   store_and_fwd_flag  10 non-null     int64  \n",
      " 9   trip_duration       10 non-null     float64\n",
      "dtypes: float64(5), int64(3), object(2)\n",
      "memory usage: 928.0+ bytes\n"
     ]
    }
   ],
   "source": [
    "taxiDB.head(10).info()"
   ]
  },
  {
   "cell_type": "code",
   "execution_count": 20,
   "id": "93fc9516-1116-492a-9913-9e2da8548e70",
   "metadata": {},
   "outputs": [],
   "source": [
    "### use ; as a separator between columns\n",
    "taxiDB.head(10).to_csv('01_task6.csv', sep=';')"
   ]
  },
  {
   "cell_type": "markdown",
   "id": "ef23cd4f-4384-4c60-a03d-a8b08b88b5b3",
   "metadata": {},
   "source": [
    "### Task 8"
   ]
  },
  {
   "cell_type": "markdown",
   "id": "cb578cc7-a055-4cd6-903e-2dfa8dd61806",
   "metadata": {},
   "source": [
    "Let's prepare latitudes for further distance calculation. "
   ]
  },
  {
   "cell_type": "markdown",
   "id": "70ace2b2-89dd-46df-b909-790c32249089",
   "metadata": {},
   "source": [
    "Use this article as a reference: [link](https://www.datafix.com.au/BASHing/2018-11-07.html)"
   ]
  },
  {
   "cell_type": "code",
   "execution_count": 21,
   "id": "76aa0b2d-04ab-4a2a-bbd9-06de30cec2dc",
   "metadata": {},
   "outputs": [],
   "source": [
    "allLat  = list(taxiDB['pickup_latitude']) + list(taxiDB['dropoff_latitude'])"
   ]
  },
  {
   "cell_type": "code",
   "execution_count": 22,
   "id": "2bbdaf74-26a7-41ab-bd91-8a7c653bba5c",
   "metadata": {},
   "outputs": [],
   "source": [
    "medianLat  = sorted(allLat)[int(len(allLat)/2)]"
   ]
  },
  {
   "cell_type": "code",
   "execution_count": 23,
   "id": "a87cb34d-ceac-44e3-8fab-8461d8c4e34f",
   "metadata": {},
   "outputs": [],
   "source": [
    "latMultiplier  = 111.32\n",
    "\n",
    "taxiDB['pickup_latitude']   = latMultiplier  * (taxiDB['pickup_latitude']   - medianLat)\n",
    "taxiDB['dropoff_latitude']   = latMultiplier  * (taxiDB['dropoff_latitude']  - medianLat)"
   ]
  },
  {
   "cell_type": "code",
   "execution_count": 24,
   "id": "c4f6136e-c99f-42ff-85d7-e30e96588d7f",
   "metadata": {},
   "outputs": [
    {
     "data": {
      "text/html": [
       "<div>\n",
       "<style scoped>\n",
       "    .dataframe tbody tr th:only-of-type {\n",
       "        vertical-align: middle;\n",
       "    }\n",
       "\n",
       "    .dataframe tbody tr th {\n",
       "        vertical-align: top;\n",
       "    }\n",
       "\n",
       "    .dataframe thead th {\n",
       "        text-align: right;\n",
       "    }\n",
       "</style>\n",
       "<table border=\"1\" class=\"dataframe\">\n",
       "  <thead>\n",
       "    <tr style=\"text-align: right;\">\n",
       "      <th></th>\n",
       "      <th>id</th>\n",
       "      <th>vendor_id</th>\n",
       "      <th>pickup_datetime</th>\n",
       "      <th>passenger_count</th>\n",
       "      <th>pickup_longitude</th>\n",
       "      <th>pickup_latitude</th>\n",
       "      <th>dropoff_longitude</th>\n",
       "      <th>dropoff_latitude</th>\n",
       "      <th>store_and_fwd_flag</th>\n",
       "      <th>trip_duration</th>\n",
       "    </tr>\n",
       "  </thead>\n",
       "  <tbody>\n",
       "    <tr>\n",
       "      <th>0</th>\n",
       "      <td>id2875421</td>\n",
       "      <td>1</td>\n",
       "      <td>2016-03-14 17:24:55</td>\n",
       "      <td>1</td>\n",
       "      <td>-73.982155</td>\n",
       "      <td>1.516008</td>\n",
       "      <td>-73.964630</td>\n",
       "      <td>1.256121</td>\n",
       "      <td>0</td>\n",
       "      <td>455.0</td>\n",
       "    </tr>\n",
       "    <tr>\n",
       "      <th>1</th>\n",
       "      <td>id2377394</td>\n",
       "      <td>0</td>\n",
       "      <td>2016-06-12 00:43:35</td>\n",
       "      <td>1</td>\n",
       "      <td>-73.980415</td>\n",
       "      <td>-1.753813</td>\n",
       "      <td>-73.999481</td>\n",
       "      <td>-2.578912</td>\n",
       "      <td>0</td>\n",
       "      <td>663.0</td>\n",
       "    </tr>\n",
       "    <tr>\n",
       "      <th>2</th>\n",
       "      <td>id3858529</td>\n",
       "      <td>1</td>\n",
       "      <td>2016-01-19 11:35:24</td>\n",
       "      <td>1</td>\n",
       "      <td>-73.979027</td>\n",
       "      <td>1.070973</td>\n",
       "      <td>-74.005333</td>\n",
       "      <td>-4.923841</td>\n",
       "      <td>0</td>\n",
       "      <td>2124.0</td>\n",
       "    </tr>\n",
       "    <tr>\n",
       "      <th>3</th>\n",
       "      <td>id3504673</td>\n",
       "      <td>1</td>\n",
       "      <td>2016-04-06 19:32:31</td>\n",
       "      <td>1</td>\n",
       "      <td>-74.010040</td>\n",
       "      <td>-3.823568</td>\n",
       "      <td>-74.012268</td>\n",
       "      <td>-5.298809</td>\n",
       "      <td>0</td>\n",
       "      <td>429.0</td>\n",
       "    </tr>\n",
       "    <tr>\n",
       "      <th>4</th>\n",
       "      <td>id2181028</td>\n",
       "      <td>1</td>\n",
       "      <td>2016-03-26 13:30:55</td>\n",
       "      <td>1</td>\n",
       "      <td>-73.973053</td>\n",
       "      <td>4.329328</td>\n",
       "      <td>-73.972923</td>\n",
       "      <td>3.139453</td>\n",
       "      <td>0</td>\n",
       "      <td>435.0</td>\n",
       "    </tr>\n",
       "  </tbody>\n",
       "</table>\n",
       "</div>"
      ],
      "text/plain": [
       "          id  vendor_id      pickup_datetime  passenger_count  \\\n",
       "0  id2875421          1  2016-03-14 17:24:55                1   \n",
       "1  id2377394          0  2016-06-12 00:43:35                1   \n",
       "2  id3858529          1  2016-01-19 11:35:24                1   \n",
       "3  id3504673          1  2016-04-06 19:32:31                1   \n",
       "4  id2181028          1  2016-03-26 13:30:55                1   \n",
       "\n",
       "   pickup_longitude  pickup_latitude  dropoff_longitude  dropoff_latitude  \\\n",
       "0        -73.982155         1.516008         -73.964630          1.256121   \n",
       "1        -73.980415        -1.753813         -73.999481         -2.578912   \n",
       "2        -73.979027         1.070973         -74.005333         -4.923841   \n",
       "3        -74.010040        -3.823568         -74.012268         -5.298809   \n",
       "4        -73.973053         4.329328         -73.972923          3.139453   \n",
       "\n",
       "   store_and_fwd_flag  trip_duration  \n",
       "0                   0          455.0  \n",
       "1                   0          663.0  \n",
       "2                   0         2124.0  \n",
       "3                   0          429.0  \n",
       "4                   0          435.0  "
      ]
     },
     "execution_count": 24,
     "metadata": {},
     "output_type": "execute_result"
    }
   ],
   "source": [
    "taxiDB.head()"
   ]
  },
  {
   "cell_type": "markdown",
   "id": "38f12ca2-5b54-41e6-bcf5-8380bfe57621",
   "metadata": {},
   "source": [
    "### Task 9"
   ]
  },
  {
   "cell_type": "markdown",
   "id": "a517bd47-5fbb-4d94-8d59-7f9f0c2bfa74",
   "metadata": {},
   "source": [
    "Let's do the same for longitudes. "
   ]
  },
  {
   "cell_type": "code",
   "execution_count": 25,
   "id": "a566040b-a2be-4cdd-9fdb-f730293bfc40",
   "metadata": {},
   "outputs": [],
   "source": [
    "allLong = list(taxiDB['pickup_longitude']) + list(taxiDB['dropoff_longitude'])\n",
    "\n",
    "medianLong  = sorted(allLong)[int(len(allLong)/2)]\n",
    "\n",
    "longMultiplier = np.cos(medianLat*(np.pi/180.0)) * 111.32"
   ]
  },
  {
   "cell_type": "code",
   "execution_count": 26,
   "id": "194661ed-0ccb-4d12-8cad-dc0deb39a3fe",
   "metadata": {},
   "outputs": [],
   "source": [
    "taxiDB['pickup_longitude']   = longMultiplier  * (taxiDB['pickup_longitude']   - medianLong)\n",
    "taxiDB['dropoff_longitude']   = longMultiplier  * (taxiDB['dropoff_longitude']  - medianLong)"
   ]
  },
  {
   "cell_type": "code",
   "execution_count": 27,
   "id": "977f08c7-315e-483b-a894-0a362a803dcc",
   "metadata": {},
   "outputs": [
    {
     "data": {
      "text/html": [
       "<div>\n",
       "<style scoped>\n",
       "    .dataframe tbody tr th:only-of-type {\n",
       "        vertical-align: middle;\n",
       "    }\n",
       "\n",
       "    .dataframe tbody tr th {\n",
       "        vertical-align: top;\n",
       "    }\n",
       "\n",
       "    .dataframe thead th {\n",
       "        text-align: right;\n",
       "    }\n",
       "</style>\n",
       "<table border=\"1\" class=\"dataframe\">\n",
       "  <thead>\n",
       "    <tr style=\"text-align: right;\">\n",
       "      <th></th>\n",
       "      <th>id</th>\n",
       "      <th>vendor_id</th>\n",
       "      <th>pickup_datetime</th>\n",
       "      <th>passenger_count</th>\n",
       "      <th>pickup_longitude</th>\n",
       "      <th>pickup_latitude</th>\n",
       "      <th>dropoff_longitude</th>\n",
       "      <th>dropoff_latitude</th>\n",
       "      <th>store_and_fwd_flag</th>\n",
       "      <th>trip_duration</th>\n",
       "    </tr>\n",
       "  </thead>\n",
       "  <tbody>\n",
       "    <tr>\n",
       "      <th>0</th>\n",
       "      <td>id2875421</td>\n",
       "      <td>1</td>\n",
       "      <td>2016-03-14 17:24:55</td>\n",
       "      <td>1</td>\n",
       "      <td>-0.110015</td>\n",
       "      <td>1.516008</td>\n",
       "      <td>1.367786</td>\n",
       "      <td>1.256121</td>\n",
       "      <td>0</td>\n",
       "      <td>455.0</td>\n",
       "    </tr>\n",
       "    <tr>\n",
       "      <th>1</th>\n",
       "      <td>id2377394</td>\n",
       "      <td>0</td>\n",
       "      <td>2016-06-12 00:43:35</td>\n",
       "      <td>1</td>\n",
       "      <td>0.036672</td>\n",
       "      <td>-1.753813</td>\n",
       "      <td>-1.571088</td>\n",
       "      <td>-2.578912</td>\n",
       "      <td>0</td>\n",
       "      <td>663.0</td>\n",
       "    </tr>\n",
       "    <tr>\n",
       "      <th>2</th>\n",
       "      <td>id3858529</td>\n",
       "      <td>1</td>\n",
       "      <td>2016-01-19 11:35:24</td>\n",
       "      <td>1</td>\n",
       "      <td>0.153763</td>\n",
       "      <td>1.070973</td>\n",
       "      <td>-2.064547</td>\n",
       "      <td>-4.923841</td>\n",
       "      <td>0</td>\n",
       "      <td>2124.0</td>\n",
       "    </tr>\n",
       "    <tr>\n",
       "      <th>3</th>\n",
       "      <td>id3504673</td>\n",
       "      <td>1</td>\n",
       "      <td>2016-04-06 19:32:31</td>\n",
       "      <td>1</td>\n",
       "      <td>-2.461500</td>\n",
       "      <td>-3.823568</td>\n",
       "      <td>-2.649362</td>\n",
       "      <td>-5.298809</td>\n",
       "      <td>0</td>\n",
       "      <td>429.0</td>\n",
       "    </tr>\n",
       "    <tr>\n",
       "      <th>4</th>\n",
       "      <td>id2181028</td>\n",
       "      <td>1</td>\n",
       "      <td>2016-03-26 13:30:55</td>\n",
       "      <td>1</td>\n",
       "      <td>0.657515</td>\n",
       "      <td>4.329328</td>\n",
       "      <td>0.668452</td>\n",
       "      <td>3.139453</td>\n",
       "      <td>0</td>\n",
       "      <td>435.0</td>\n",
       "    </tr>\n",
       "  </tbody>\n",
       "</table>\n",
       "</div>"
      ],
      "text/plain": [
       "          id  vendor_id      pickup_datetime  passenger_count  \\\n",
       "0  id2875421          1  2016-03-14 17:24:55                1   \n",
       "1  id2377394          0  2016-06-12 00:43:35                1   \n",
       "2  id3858529          1  2016-01-19 11:35:24                1   \n",
       "3  id3504673          1  2016-04-06 19:32:31                1   \n",
       "4  id2181028          1  2016-03-26 13:30:55                1   \n",
       "\n",
       "   pickup_longitude  pickup_latitude  dropoff_longitude  dropoff_latitude  \\\n",
       "0         -0.110015         1.516008           1.367786          1.256121   \n",
       "1          0.036672        -1.753813          -1.571088         -2.578912   \n",
       "2          0.153763         1.070973          -2.064547         -4.923841   \n",
       "3         -2.461500        -3.823568          -2.649362         -5.298809   \n",
       "4          0.657515         4.329328           0.668452          3.139453   \n",
       "\n",
       "   store_and_fwd_flag  trip_duration  \n",
       "0                   0          455.0  \n",
       "1                   0          663.0  \n",
       "2                   0         2124.0  \n",
       "3                   0          429.0  \n",
       "4                   0          435.0  "
      ]
     },
     "execution_count": 27,
     "metadata": {},
     "output_type": "execute_result"
    }
   ],
   "source": [
    "taxiDB.head()"
   ]
  },
  {
   "cell_type": "markdown",
   "id": "237830a2-ad72-4b51-94bc-e309bfd25211",
   "metadata": {},
   "source": [
    "### Task 10"
   ]
  },
  {
   "cell_type": "markdown",
   "id": "9297ba59-4bc6-4e3a-a730-1ec11cf12a5e",
   "metadata": {},
   "source": [
    "Calculate distance in km between pickup and dropoff points using Euclidean distance. "
   ]
  },
  {
   "cell_type": "code",
   "execution_count": 28,
   "id": "5800d5e7-43aa-432b-bf5b-9f341468aae7",
   "metadata": {},
   "outputs": [],
   "source": [
    "def distance_km(dropoff_latitude, pickup_latitude, dropoff_longitude, pickup_longitude):\n",
    "    delta_lat = dropoff_latitude - pickup_latitude\n",
    "    delta_long = dropoff_longitude - pickup_longitude\n",
    "    return (delta_lat ** 2 + delta_long ** 2) ** .5"
   ]
  },
  {
   "cell_type": "code",
   "execution_count": 29,
   "id": "032ff123-c908-4e3e-b074-f8afda7f8fa9",
   "metadata": {},
   "outputs": [],
   "source": [
    "taxiDB['distance_km'] = taxiDB.apply(lambda row: distance_km(row['dropoff_latitude'], row['pickup_latitude'], row['dropoff_longitude'], row['pickup_longitude']), axis=1)"
   ]
  },
  {
   "cell_type": "code",
   "execution_count": 30,
   "id": "e0a6de52-cdee-4881-b04d-1daa93740811",
   "metadata": {},
   "outputs": [
    {
     "data": {
      "text/html": [
       "<div>\n",
       "<style scoped>\n",
       "    .dataframe tbody tr th:only-of-type {\n",
       "        vertical-align: middle;\n",
       "    }\n",
       "\n",
       "    .dataframe tbody tr th {\n",
       "        vertical-align: top;\n",
       "    }\n",
       "\n",
       "    .dataframe thead th {\n",
       "        text-align: right;\n",
       "    }\n",
       "</style>\n",
       "<table border=\"1\" class=\"dataframe\">\n",
       "  <thead>\n",
       "    <tr style=\"text-align: right;\">\n",
       "      <th></th>\n",
       "      <th>id</th>\n",
       "      <th>vendor_id</th>\n",
       "      <th>pickup_datetime</th>\n",
       "      <th>passenger_count</th>\n",
       "      <th>pickup_longitude</th>\n",
       "      <th>pickup_latitude</th>\n",
       "      <th>dropoff_longitude</th>\n",
       "      <th>dropoff_latitude</th>\n",
       "      <th>store_and_fwd_flag</th>\n",
       "      <th>trip_duration</th>\n",
       "      <th>distance_km</th>\n",
       "    </tr>\n",
       "  </thead>\n",
       "  <tbody>\n",
       "    <tr>\n",
       "      <th>0</th>\n",
       "      <td>id2875421</td>\n",
       "      <td>1</td>\n",
       "      <td>2016-03-14 17:24:55</td>\n",
       "      <td>1</td>\n",
       "      <td>-0.110015</td>\n",
       "      <td>1.516008</td>\n",
       "      <td>1.367786</td>\n",
       "      <td>1.256121</td>\n",
       "      <td>0</td>\n",
       "      <td>455.0</td>\n",
       "      <td>1.500479</td>\n",
       "    </tr>\n",
       "    <tr>\n",
       "      <th>1</th>\n",
       "      <td>id2377394</td>\n",
       "      <td>0</td>\n",
       "      <td>2016-06-12 00:43:35</td>\n",
       "      <td>1</td>\n",
       "      <td>0.036672</td>\n",
       "      <td>-1.753813</td>\n",
       "      <td>-1.571088</td>\n",
       "      <td>-2.578912</td>\n",
       "      <td>0</td>\n",
       "      <td>663.0</td>\n",
       "      <td>1.807119</td>\n",
       "    </tr>\n",
       "    <tr>\n",
       "      <th>2</th>\n",
       "      <td>id3858529</td>\n",
       "      <td>1</td>\n",
       "      <td>2016-01-19 11:35:24</td>\n",
       "      <td>1</td>\n",
       "      <td>0.153763</td>\n",
       "      <td>1.070973</td>\n",
       "      <td>-2.064547</td>\n",
       "      <td>-4.923841</td>\n",
       "      <td>0</td>\n",
       "      <td>2124.0</td>\n",
       "      <td>6.392080</td>\n",
       "    </tr>\n",
       "    <tr>\n",
       "      <th>3</th>\n",
       "      <td>id3504673</td>\n",
       "      <td>1</td>\n",
       "      <td>2016-04-06 19:32:31</td>\n",
       "      <td>1</td>\n",
       "      <td>-2.461500</td>\n",
       "      <td>-3.823568</td>\n",
       "      <td>-2.649362</td>\n",
       "      <td>-5.298809</td>\n",
       "      <td>0</td>\n",
       "      <td>429.0</td>\n",
       "      <td>1.487155</td>\n",
       "    </tr>\n",
       "    <tr>\n",
       "      <th>4</th>\n",
       "      <td>id2181028</td>\n",
       "      <td>1</td>\n",
       "      <td>2016-03-26 13:30:55</td>\n",
       "      <td>1</td>\n",
       "      <td>0.657515</td>\n",
       "      <td>4.329328</td>\n",
       "      <td>0.668452</td>\n",
       "      <td>3.139453</td>\n",
       "      <td>0</td>\n",
       "      <td>435.0</td>\n",
       "      <td>1.189925</td>\n",
       "    </tr>\n",
       "  </tbody>\n",
       "</table>\n",
       "</div>"
      ],
      "text/plain": [
       "          id  vendor_id      pickup_datetime  passenger_count  \\\n",
       "0  id2875421          1  2016-03-14 17:24:55                1   \n",
       "1  id2377394          0  2016-06-12 00:43:35                1   \n",
       "2  id3858529          1  2016-01-19 11:35:24                1   \n",
       "3  id3504673          1  2016-04-06 19:32:31                1   \n",
       "4  id2181028          1  2016-03-26 13:30:55                1   \n",
       "\n",
       "   pickup_longitude  pickup_latitude  dropoff_longitude  dropoff_latitude  \\\n",
       "0         -0.110015         1.516008           1.367786          1.256121   \n",
       "1          0.036672        -1.753813          -1.571088         -2.578912   \n",
       "2          0.153763         1.070973          -2.064547         -4.923841   \n",
       "3         -2.461500        -3.823568          -2.649362         -5.298809   \n",
       "4          0.657515         4.329328           0.668452          3.139453   \n",
       "\n",
       "   store_and_fwd_flag  trip_duration  distance_km  \n",
       "0                   0          455.0     1.500479  \n",
       "1                   0          663.0     1.807119  \n",
       "2                   0         2124.0     6.392080  \n",
       "3                   0          429.0     1.487155  \n",
       "4                   0          435.0     1.189925  "
      ]
     },
     "execution_count": 30,
     "metadata": {},
     "output_type": "execute_result"
    }
   ],
   "source": [
    "taxiDB.head()"
   ]
  },
  {
   "cell_type": "markdown",
   "id": "6c5af8b2-33de-44db-96ee-f39cf4f00adf",
   "metadata": {},
   "source": [
    "### Task 11"
   ]
  },
  {
   "cell_type": "markdown",
   "id": "cae208e4-be11-4db2-8937-581a939d9638",
   "metadata": {},
   "source": [
    "Remove columns that we won't need anymore. "
   ]
  },
  {
   "cell_type": "code",
   "execution_count": 31,
   "id": "689ea84d-7ce4-4017-a70d-b72ea8435a64",
   "metadata": {},
   "outputs": [],
   "source": [
    "taxiDB = taxiDB.drop(['pickup_longitude', 'dropoff_longitude',\n",
    "                      'pickup_latitude', 'dropoff_latitude'], axis=1)"
   ]
  },
  {
   "cell_type": "code",
   "execution_count": 32,
   "id": "5f61c84d-fca2-4f42-b500-19b82bf5de77",
   "metadata": {},
   "outputs": [
    {
     "data": {
      "text/html": [
       "<div>\n",
       "<style scoped>\n",
       "    .dataframe tbody tr th:only-of-type {\n",
       "        vertical-align: middle;\n",
       "    }\n",
       "\n",
       "    .dataframe tbody tr th {\n",
       "        vertical-align: top;\n",
       "    }\n",
       "\n",
       "    .dataframe thead th {\n",
       "        text-align: right;\n",
       "    }\n",
       "</style>\n",
       "<table border=\"1\" class=\"dataframe\">\n",
       "  <thead>\n",
       "    <tr style=\"text-align: right;\">\n",
       "      <th></th>\n",
       "      <th>id</th>\n",
       "      <th>vendor_id</th>\n",
       "      <th>pickup_datetime</th>\n",
       "      <th>passenger_count</th>\n",
       "      <th>store_and_fwd_flag</th>\n",
       "      <th>trip_duration</th>\n",
       "      <th>distance_km</th>\n",
       "    </tr>\n",
       "  </thead>\n",
       "  <tbody>\n",
       "    <tr>\n",
       "      <th>0</th>\n",
       "      <td>id2875421</td>\n",
       "      <td>1</td>\n",
       "      <td>2016-03-14 17:24:55</td>\n",
       "      <td>1</td>\n",
       "      <td>0</td>\n",
       "      <td>455.0</td>\n",
       "      <td>1.500479</td>\n",
       "    </tr>\n",
       "    <tr>\n",
       "      <th>1</th>\n",
       "      <td>id2377394</td>\n",
       "      <td>0</td>\n",
       "      <td>2016-06-12 00:43:35</td>\n",
       "      <td>1</td>\n",
       "      <td>0</td>\n",
       "      <td>663.0</td>\n",
       "      <td>1.807119</td>\n",
       "    </tr>\n",
       "    <tr>\n",
       "      <th>2</th>\n",
       "      <td>id3858529</td>\n",
       "      <td>1</td>\n",
       "      <td>2016-01-19 11:35:24</td>\n",
       "      <td>1</td>\n",
       "      <td>0</td>\n",
       "      <td>2124.0</td>\n",
       "      <td>6.392080</td>\n",
       "    </tr>\n",
       "    <tr>\n",
       "      <th>3</th>\n",
       "      <td>id3504673</td>\n",
       "      <td>1</td>\n",
       "      <td>2016-04-06 19:32:31</td>\n",
       "      <td>1</td>\n",
       "      <td>0</td>\n",
       "      <td>429.0</td>\n",
       "      <td>1.487155</td>\n",
       "    </tr>\n",
       "    <tr>\n",
       "      <th>4</th>\n",
       "      <td>id2181028</td>\n",
       "      <td>1</td>\n",
       "      <td>2016-03-26 13:30:55</td>\n",
       "      <td>1</td>\n",
       "      <td>0</td>\n",
       "      <td>435.0</td>\n",
       "      <td>1.189925</td>\n",
       "    </tr>\n",
       "  </tbody>\n",
       "</table>\n",
       "</div>"
      ],
      "text/plain": [
       "          id  vendor_id      pickup_datetime  passenger_count  \\\n",
       "0  id2875421          1  2016-03-14 17:24:55                1   \n",
       "1  id2377394          0  2016-06-12 00:43:35                1   \n",
       "2  id3858529          1  2016-01-19 11:35:24                1   \n",
       "3  id3504673          1  2016-04-06 19:32:31                1   \n",
       "4  id2181028          1  2016-03-26 13:30:55                1   \n",
       "\n",
       "   store_and_fwd_flag  trip_duration  distance_km  \n",
       "0                   0          455.0     1.500479  \n",
       "1                   0          663.0     1.807119  \n",
       "2                   0         2124.0     6.392080  \n",
       "3                   0          429.0     1.487155  \n",
       "4                   0          435.0     1.189925  "
      ]
     },
     "execution_count": 32,
     "metadata": {},
     "output_type": "execute_result"
    }
   ],
   "source": [
    "taxiDB.head()"
   ]
  },
  {
   "cell_type": "markdown",
   "id": "180c4438-97da-4ae0-8d5a-88bcde012fa5",
   "metadata": {},
   "source": [
    "### Task 12"
   ]
  },
  {
   "cell_type": "markdown",
   "id": "fd12794e-f254-4918-aab2-8f30dedcc3a5",
   "metadata": {},
   "source": [
    "Save the first 10 rows of your dataset into a `csv` file."
   ]
  },
  {
   "cell_type": "code",
   "execution_count": 33,
   "id": "e25121f0-25e2-4f1c-8a5b-bed1e4899001",
   "metadata": {},
   "outputs": [],
   "source": [
    "### use ; as a separator between columns\n",
    "taxiDB.head(10).to_csv('01_task7.csv', sep=';')"
   ]
  },
  {
   "cell_type": "markdown",
   "id": "021c20a7-414c-457d-9cc7-917145ef3d09",
   "metadata": {},
   "source": [
    "### Task 13"
   ]
  },
  {
   "cell_type": "markdown",
   "id": "b0e65b54-f60e-49c0-b1e9-6f1855138008",
   "metadata": {},
   "source": [
    "What values does the `passenger_count` have?"
   ]
  },
  {
   "cell_type": "code",
   "execution_count": 34,
   "id": "61122e28-6890-4852-a582-3310512e17d5",
   "metadata": {},
   "outputs": [
    {
     "data": {
      "text/plain": [
       "1    1033540\n",
       "2     210318\n",
       "5      78088\n",
       "3      59896\n",
       "6      48333\n",
       "4      28404\n",
       "0         60\n",
       "7          3\n",
       "9          1\n",
       "8          1\n",
       "Name: passenger_count, dtype: int64"
      ]
     },
     "execution_count": 34,
     "metadata": {},
     "output_type": "execute_result"
    }
   ],
   "source": [
    "taxiDB.passenger_count.value_counts()"
   ]
  },
  {
   "cell_type": "markdown",
   "id": "a19b6aa4-56f4-444e-b478-9db378ed9a99",
   "metadata": {},
   "source": [
    "### Task 14"
   ]
  },
  {
   "cell_type": "markdown",
   "id": "e606a1f9-0f6c-4ba2-8526-fb109b75d002",
   "metadata": {},
   "source": [
    "Use **mean-target encoding** technique for `passenger_count` feature. "
   ]
  },
  {
   "cell_type": "code",
   "execution_count": 35,
   "id": "e30d5ad4-9e10-4e84-a0eb-9c8672adce42",
   "metadata": {},
   "outputs": [],
   "source": [
    "taxiDB['passenger_count'] = taxiDB['passenger_count'].map(taxiDB.groupby(['passenger_count'])['trip_duration'].mean())"
   ]
  },
  {
   "cell_type": "code",
   "execution_count": 36,
   "id": "7567eac8-3d60-4ccf-a49a-dbb708b7ca92",
   "metadata": {},
   "outputs": [],
   "source": [
    "taxiDB.rename(columns={'passenger_count': 'category_encoded'}, inplace=True)"
   ]
  },
  {
   "cell_type": "code",
   "execution_count": 37,
   "id": "cfc57203-db38-46a6-990b-517a2a614859",
   "metadata": {},
   "outputs": [
    {
     "data": {
      "text/html": [
       "<div>\n",
       "<style scoped>\n",
       "    .dataframe tbody tr th:only-of-type {\n",
       "        vertical-align: middle;\n",
       "    }\n",
       "\n",
       "    .dataframe tbody tr th {\n",
       "        vertical-align: top;\n",
       "    }\n",
       "\n",
       "    .dataframe thead th {\n",
       "        text-align: right;\n",
       "    }\n",
       "</style>\n",
       "<table border=\"1\" class=\"dataframe\">\n",
       "  <thead>\n",
       "    <tr style=\"text-align: right;\">\n",
       "      <th></th>\n",
       "      <th>id</th>\n",
       "      <th>vendor_id</th>\n",
       "      <th>pickup_datetime</th>\n",
       "      <th>category_encoded</th>\n",
       "      <th>store_and_fwd_flag</th>\n",
       "      <th>trip_duration</th>\n",
       "      <th>distance_km</th>\n",
       "    </tr>\n",
       "  </thead>\n",
       "  <tbody>\n",
       "    <tr>\n",
       "      <th>0</th>\n",
       "      <td>id2875421</td>\n",
       "      <td>1</td>\n",
       "      <td>2016-03-14 17:24:55</td>\n",
       "      <td>930.399753</td>\n",
       "      <td>0</td>\n",
       "      <td>455.0</td>\n",
       "      <td>1.500479</td>\n",
       "    </tr>\n",
       "    <tr>\n",
       "      <th>1</th>\n",
       "      <td>id2377394</td>\n",
       "      <td>0</td>\n",
       "      <td>2016-06-12 00:43:35</td>\n",
       "      <td>930.399753</td>\n",
       "      <td>0</td>\n",
       "      <td>663.0</td>\n",
       "      <td>1.807119</td>\n",
       "    </tr>\n",
       "    <tr>\n",
       "      <th>2</th>\n",
       "      <td>id3858529</td>\n",
       "      <td>1</td>\n",
       "      <td>2016-01-19 11:35:24</td>\n",
       "      <td>930.399753</td>\n",
       "      <td>0</td>\n",
       "      <td>2124.0</td>\n",
       "      <td>6.392080</td>\n",
       "    </tr>\n",
       "    <tr>\n",
       "      <th>3</th>\n",
       "      <td>id3504673</td>\n",
       "      <td>1</td>\n",
       "      <td>2016-04-06 19:32:31</td>\n",
       "      <td>930.399753</td>\n",
       "      <td>0</td>\n",
       "      <td>429.0</td>\n",
       "      <td>1.487155</td>\n",
       "    </tr>\n",
       "    <tr>\n",
       "      <th>4</th>\n",
       "      <td>id2181028</td>\n",
       "      <td>1</td>\n",
       "      <td>2016-03-26 13:30:55</td>\n",
       "      <td>930.399753</td>\n",
       "      <td>0</td>\n",
       "      <td>435.0</td>\n",
       "      <td>1.189925</td>\n",
       "    </tr>\n",
       "  </tbody>\n",
       "</table>\n",
       "</div>"
      ],
      "text/plain": [
       "          id  vendor_id      pickup_datetime  category_encoded  \\\n",
       "0  id2875421          1  2016-03-14 17:24:55        930.399753   \n",
       "1  id2377394          0  2016-06-12 00:43:35        930.399753   \n",
       "2  id3858529          1  2016-01-19 11:35:24        930.399753   \n",
       "3  id3504673          1  2016-04-06 19:32:31        930.399753   \n",
       "4  id2181028          1  2016-03-26 13:30:55        930.399753   \n",
       "\n",
       "   store_and_fwd_flag  trip_duration  distance_km  \n",
       "0                   0          455.0     1.500479  \n",
       "1                   0          663.0     1.807119  \n",
       "2                   0         2124.0     6.392080  \n",
       "3                   0          429.0     1.487155  \n",
       "4                   0          435.0     1.189925  "
      ]
     },
     "execution_count": 37,
     "metadata": {},
     "output_type": "execute_result"
    }
   ],
   "source": [
    "taxiDB.head()"
   ]
  },
  {
   "cell_type": "markdown",
   "id": "2225b88b-d8aa-4e6b-ab45-8535455fdf6a",
   "metadata": {},
   "source": [
    "### Task 15"
   ]
  },
  {
   "cell_type": "markdown",
   "id": "0ca2d6aa-3482-4ebf-b69a-9f08f1c5dd08",
   "metadata": {},
   "source": [
    "Save the first 10 rows of your dataset into a `csv` file."
   ]
  },
  {
   "cell_type": "code",
   "execution_count": 38,
   "id": "a38b7a95-4a44-4683-afc1-376c822cc195",
   "metadata": {},
   "outputs": [],
   "source": [
    "### use ; as a separator between columns\n",
    "taxiDB.head(10).to_csv('01_task8.csv', sep=';')"
   ]
  },
  {
   "cell_type": "markdown",
   "id": "1453b24d-227a-459e-8af4-6031106f9ad3",
   "metadata": {},
   "source": [
    "### Task 16"
   ]
  },
  {
   "cell_type": "markdown",
   "id": "00006522-0449-4429-b218-457c8c74263a",
   "metadata": {},
   "source": [
    "Use `id` column as an index for your dataset. "
   ]
  },
  {
   "cell_type": "code",
   "execution_count": 39,
   "id": "74cb29a1-f7a0-4e34-a7fa-61f3d3df0331",
   "metadata": {},
   "outputs": [],
   "source": [
    "taxiDB = taxiDB.set_index('id')"
   ]
  },
  {
   "cell_type": "code",
   "execution_count": 40,
   "id": "7af0ca95-4967-4d5b-af85-e065472384fb",
   "metadata": {},
   "outputs": [
    {
     "data": {
      "text/html": [
       "<div>\n",
       "<style scoped>\n",
       "    .dataframe tbody tr th:only-of-type {\n",
       "        vertical-align: middle;\n",
       "    }\n",
       "\n",
       "    .dataframe tbody tr th {\n",
       "        vertical-align: top;\n",
       "    }\n",
       "\n",
       "    .dataframe thead th {\n",
       "        text-align: right;\n",
       "    }\n",
       "</style>\n",
       "<table border=\"1\" class=\"dataframe\">\n",
       "  <thead>\n",
       "    <tr style=\"text-align: right;\">\n",
       "      <th></th>\n",
       "      <th>vendor_id</th>\n",
       "      <th>pickup_datetime</th>\n",
       "      <th>category_encoded</th>\n",
       "      <th>store_and_fwd_flag</th>\n",
       "      <th>trip_duration</th>\n",
       "      <th>distance_km</th>\n",
       "    </tr>\n",
       "    <tr>\n",
       "      <th>id</th>\n",
       "      <th></th>\n",
       "      <th></th>\n",
       "      <th></th>\n",
       "      <th></th>\n",
       "      <th></th>\n",
       "      <th></th>\n",
       "    </tr>\n",
       "  </thead>\n",
       "  <tbody>\n",
       "    <tr>\n",
       "      <th>id2875421</th>\n",
       "      <td>1</td>\n",
       "      <td>2016-03-14 17:24:55</td>\n",
       "      <td>930.399753</td>\n",
       "      <td>0</td>\n",
       "      <td>455.0</td>\n",
       "      <td>1.500479</td>\n",
       "    </tr>\n",
       "    <tr>\n",
       "      <th>id2377394</th>\n",
       "      <td>0</td>\n",
       "      <td>2016-06-12 00:43:35</td>\n",
       "      <td>930.399753</td>\n",
       "      <td>0</td>\n",
       "      <td>663.0</td>\n",
       "      <td>1.807119</td>\n",
       "    </tr>\n",
       "    <tr>\n",
       "      <th>id3858529</th>\n",
       "      <td>1</td>\n",
       "      <td>2016-01-19 11:35:24</td>\n",
       "      <td>930.399753</td>\n",
       "      <td>0</td>\n",
       "      <td>2124.0</td>\n",
       "      <td>6.392080</td>\n",
       "    </tr>\n",
       "    <tr>\n",
       "      <th>id3504673</th>\n",
       "      <td>1</td>\n",
       "      <td>2016-04-06 19:32:31</td>\n",
       "      <td>930.399753</td>\n",
       "      <td>0</td>\n",
       "      <td>429.0</td>\n",
       "      <td>1.487155</td>\n",
       "    </tr>\n",
       "    <tr>\n",
       "      <th>id2181028</th>\n",
       "      <td>1</td>\n",
       "      <td>2016-03-26 13:30:55</td>\n",
       "      <td>930.399753</td>\n",
       "      <td>0</td>\n",
       "      <td>435.0</td>\n",
       "      <td>1.189925</td>\n",
       "    </tr>\n",
       "    <tr>\n",
       "      <th>id0801584</th>\n",
       "      <td>1</td>\n",
       "      <td>2016-01-30 22:01:40</td>\n",
       "      <td>1061.355223</td>\n",
       "      <td>0</td>\n",
       "      <td>443.0</td>\n",
       "      <td>1.100107</td>\n",
       "    </tr>\n",
       "    <tr>\n",
       "      <th>id1813257</th>\n",
       "      <td>0</td>\n",
       "      <td>2016-06-17 22:34:59</td>\n",
       "      <td>1053.529749</td>\n",
       "      <td>0</td>\n",
       "      <td>341.0</td>\n",
       "      <td>1.327852</td>\n",
       "    </tr>\n",
       "    <tr>\n",
       "      <th>id1324603</th>\n",
       "      <td>1</td>\n",
       "      <td>2016-05-21 07:54:58</td>\n",
       "      <td>930.399753</td>\n",
       "      <td>0</td>\n",
       "      <td>1551.0</td>\n",
       "      <td>5.722427</td>\n",
       "    </tr>\n",
       "    <tr>\n",
       "      <th>id1301050</th>\n",
       "      <td>0</td>\n",
       "      <td>2016-05-27 23:12:23</td>\n",
       "      <td>930.399753</td>\n",
       "      <td>0</td>\n",
       "      <td>255.0</td>\n",
       "      <td>1.311541</td>\n",
       "    </tr>\n",
       "    <tr>\n",
       "      <th>id0012891</th>\n",
       "      <td>1</td>\n",
       "      <td>2016-03-10 21:45:01</td>\n",
       "      <td>930.399753</td>\n",
       "      <td>0</td>\n",
       "      <td>1225.0</td>\n",
       "      <td>5.126939</td>\n",
       "    </tr>\n",
       "  </tbody>\n",
       "</table>\n",
       "</div>"
      ],
      "text/plain": [
       "           vendor_id      pickup_datetime  category_encoded  \\\n",
       "id                                                            \n",
       "id2875421          1  2016-03-14 17:24:55        930.399753   \n",
       "id2377394          0  2016-06-12 00:43:35        930.399753   \n",
       "id3858529          1  2016-01-19 11:35:24        930.399753   \n",
       "id3504673          1  2016-04-06 19:32:31        930.399753   \n",
       "id2181028          1  2016-03-26 13:30:55        930.399753   \n",
       "id0801584          1  2016-01-30 22:01:40       1061.355223   \n",
       "id1813257          0  2016-06-17 22:34:59       1053.529749   \n",
       "id1324603          1  2016-05-21 07:54:58        930.399753   \n",
       "id1301050          0  2016-05-27 23:12:23        930.399753   \n",
       "id0012891          1  2016-03-10 21:45:01        930.399753   \n",
       "\n",
       "           store_and_fwd_flag  trip_duration  distance_km  \n",
       "id                                                         \n",
       "id2875421                   0          455.0     1.500479  \n",
       "id2377394                   0          663.0     1.807119  \n",
       "id3858529                   0         2124.0     6.392080  \n",
       "id3504673                   0          429.0     1.487155  \n",
       "id2181028                   0          435.0     1.189925  \n",
       "id0801584                   0          443.0     1.100107  \n",
       "id1813257                   0          341.0     1.327852  \n",
       "id1324603                   0         1551.0     5.722427  \n",
       "id1301050                   0          255.0     1.311541  \n",
       "id0012891                   0         1225.0     5.126939  "
      ]
     },
     "execution_count": 40,
     "metadata": {},
     "output_type": "execute_result"
    }
   ],
   "source": [
    "taxiDB.head(10)"
   ]
  },
  {
   "cell_type": "markdown",
   "id": "c5560d73-63ce-4080-8a0a-6378bc1a2a65",
   "metadata": {},
   "source": [
    "### Task 17"
   ]
  },
  {
   "cell_type": "markdown",
   "id": "8c34ea5e-72b3-4ba2-ae9d-e7889a46b64f",
   "metadata": {},
   "source": [
    "Save the first 10_000 rows of your dataset into a `csv` file."
   ]
  },
  {
   "cell_type": "code",
   "execution_count": 41,
   "id": "de2f10ee-47cf-428d-8f20-d04078b491e8",
   "metadata": {},
   "outputs": [],
   "source": [
    "taxiDB.iloc[0:10000].to_csv('01_task9.csv', sep=';')"
   ]
  },
  {
   "cell_type": "code",
   "execution_count": null,
   "id": "ea2b2029-098d-4c38-9c8b-24757eef047e",
   "metadata": {},
   "outputs": [],
   "source": []
  }
 ],
 "metadata": {
  "kernelspec": {
   "display_name": "Python 3 (ipykernel)",
   "language": "python",
   "name": "python3"
  },
  "language_info": {
   "codemirror_mode": {
    "name": "ipython",
    "version": 3
   },
   "file_extension": ".py",
   "mimetype": "text/x-python",
   "name": "python",
   "nbconvert_exporter": "python",
   "pygments_lexer": "ipython3",
   "version": "3.8.10"
  }
 },
 "nbformat": 4,
 "nbformat_minor": 5
}
